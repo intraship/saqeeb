{
 "cells": [
  {
   "cell_type": "markdown",
   "id": "f4777502-407e-488c-914f-c102d066d629",
   "metadata": {
    "tags": []
   },
   "source": [
    "# w1/2 data structures"
   ]
  },
  {
   "cell_type": "markdown",
   "id": "d0531094-b62e-451a-a8df-b6989bdc158e",
   "metadata": {},
   "source": [
    "## Starting and stopping R"
   ]
  },
  {
   "cell_type": "markdown",
   "id": "3f557606-4fa7-41d1-be40-974794cfa17b",
   "metadata": {
    "tags": []
   },
   "source": [
    "Starting\n",
    "– Windows: Double click on the R icon\n",
    "– Unix/Linux: type R (or the appropriate path on your\n",
    "machine)\n",
    " Stopping\n",
    " Type q()\n",
    " q()is a function execution\n",
    " Everything in R is a function\n",
    " q merely returns the content of the function"
   ]
  },
  {
   "cell_type": "markdown",
   "id": "93dd5cfe-0edd-4eff-883a-f2c11f02389f",
   "metadata": {
    "tags": []
   },
   "source": [
    "## Writing R code\n"
   ]
  },
  {
   "cell_type": "markdown",
   "id": "6a45bbbf-9431-40a3-8670-6827dfc5693f",
   "metadata": {},
   "source": [
    "\n",
    "Can input lines one at a time into R\n",
    "• Can write many lines of code in any of your favorite\n",
    "text editors (including Rstudio) and run all at once\n",
    "– Simply paste the commands into R\n",
    "– Use function source(“path/yourscript”), to run in batch\n",
    "mode the codes saved in file “yourscript” (use\n",
    "options(echo=T) to have the commands echoed)"
   ]
  },
  {
   "cell_type": "markdown",
   "id": "51ad5a6b-2071-43b0-933d-c1066fbdfb11",
   "metadata": {},
   "source": [
    "## R as a Calculator\n"
   ]
  },
  {
   "cell_type": "markdown",
   "id": "e4ce394d-27c5-46f4-8a44-16d0d04c257e",
   "metadata": {},
   "source": [
    "> seq(0, 5, length=6)\n",
    " \n",
    "> plot(sin(seq(0,\n",
    "2*pi, length=100))) \n",
    "\n",
    "Recalling Previous Commands\n",
    "\n",
    "In WINDOWS/UNIX one may use the arrow up key\n",
    "or the history command under the menus\n",
    "• Given the history window then one can copy certain\n",
    "commands or else past them into the console window\n"
   ]
  },
  {
   "cell_type": "markdown",
   "id": "a625b776-1521-4ccc-bcf5-71ce2a76f86b",
   "metadata": {},
   "source": [
    "## Language layout\n"
   ]
  },
  {
   "cell_type": "markdown",
   "id": "21e84222-bf8c-4b56-87e6-3b2b5b904bfa",
   "metadata": {},
   "source": [
    "\n",
    "Three types of statement\n",
    "– expression: it is evaluated, printed, and the value is lost\n",
    "(3+5)\n",
    "– assignment: passes the value to a variable but the result\n",
    "is not printed automatically (out<-3+5)\n",
    "– comment: (#This is a comment)"
   ]
  },
  {
   "cell_type": "markdown",
   "id": "8d7ce36d-101e-44db-9652-97103f110c04",
   "metadata": {},
   "source": [
    "Any roman letters, digits, underline, and ‘.’ (non-initial\n",
    "position)\n",
    "• Avoid using system names: c, q, s, t, C, D, F, I, T, diff,\n",
    "mean, pi, range, rank, tree, var\n",
    "• Hold for variables, data and functions\n",
    "• Variable names are case sensitive"
   ]
  },
  {
   "cell_type": "markdown",
   "id": "f632da60-517f-4b52-9918-64e35e84f495",
   "metadata": {},
   "source": [
    "Assignment symbol, use “<-” (shortcut: alt -) or =\n",
    "• Scalars\n",
    ">scal<-6\n",
    ">value<-7\n",
    "• Vectors; using c() to enter data\n",
    ">whales<-c(74,122,235,111,292,111,211,133,16,79)\n",
    ">simpsons<-c(\"Homer\", \"Marge\", \"Bart\", \"Lisa\", \"Maggie\")\n",
    "• Factors\n",
    ">pain<-c(0,3,2,2,1)\n",
    ">fpain<-factor(pain,levels=0:3)\n",
    ">levels(fpain)<-c(\"none\", \"Mild\", \"medium\", \"severe\")"
   ]
  },
  {
   "cell_type": "markdown",
   "id": "7e27dd8a-3966-4b36-98d4-aa49bc86b76a",
   "metadata": {},
   "source": [
    "Most functions work on vectors exactly as we\n",
    "would want them to do\n",
    ">sum(whales)\n",
    ">length(whales)\n",
    ">mean(whales)\n",
    "– sort(), min(), max(), range(), diff(), cumsum()\n",
    "• Vectorization of (arithmetic) functions\n",
    ">whales + whales\n",
    ">whales - mean(whales)\n",
    "– Other arithmetic funs: sin(), cos(), exp(), log(), ^, sqrt()\n",
    "– Example: calculate the stBandard deviation of whales"
   ]
  },
  {
   "cell_type": "markdown",
   "id": "82d5961c-c562-4b8a-b2eb-a44f45728649",
   "metadata": {},
   "source": [
    "## Functions that create vectors\n"
   ]
  },
  {
   "cell_type": "markdown",
   "id": "384f2082-8201-4e6a-8910-a2f25416072a",
   "metadata": {},
   "source": [
    "• Simple sequences\n",
    ">1:10\n",
    ">rev(1:10)\n",
    ">10:1\n",
    "• Arithmetic sequence\n",
    "– a+(n-1)*h: how to generate 1, 3, 5, 7, 9?\n",
    ">a=1; h=2; n=5 OR\n",
    ">a+h*(0:(n-1))\n",
    "• Repeated numbers\n",
    ">rep(1,10)\n",
    ">rep(1:2, c(10,15))\n",
    "– getting help: ?rep or help(rep)\n",
    "– help.search(“keyword”) or ??keyword\n",
    "31\n",
    ">seq(1,9,by=2)\n",
    ">seq(1,9,"
   ]
  },
  {
   "cell_type": "markdown",
   "id": "78092030-37b9-407a-a9c1-68a9e2851606",
   "metadata": {},
   "source": [
    "## Most operations in R are similar to Excel and calculators\n"
   ]
  },
  {
   "cell_type": "markdown",
   "id": "5617bcb2-2d1c-4fed-a0aa-85ab456e04a9",
   "metadata": {},
   "source": [
    "• Basic: +(add), -(subtract), *(multiply), /(divide)\n",
    "• Exponentiation: ^\n",
    "• Remainder or modulo operator: %%\n",
    "• Matrix multiplication: %*%\n",
    "• sin(x), cos(x), cosh(x), tan(x), tanh(x), acos(x), acosh(x),\n",
    "asin(x), asinh(x), atan(x), atan(x,y) atanh(x)\n",
    "• abs(x), ceiling(x), floor(x)\n",
    "• exp(x), log(x, base=exp(1)), log10(x), sqrt(x), trunc(x) (the\n",
    "next integer closer to zero)\n",
    "•B max(), min(), mean(), median()"
   ]
  },
  {
   "cell_type": "markdown",
   "id": "cad59a3d-cbae-4699-a2f7-d2c1ce22bb9b",
   "metadata": {},
   "source": [
    "## There are several ways to make a matrix"
   ]
  },
  {
   "cell_type": "markdown",
   "id": "dc7752a3-a8af-444c-8dba-0b9f1ecc8492",
   "metadata": {},
   "source": [
    "\n",
    "• To make a 2x3 (2 rows, 3 columns) matrix of 0’s:\n",
    ">mat<-matrix(0,2,3)\n",
    "• To make the following matrix:\n",
    ">mat2<-rbind(c(71,172),c(73,169),c(69,160),c(65,130))\n",
    ">mat3<-cbind(c(71,73,69,65),c(172,169,160,130))\n",
    "• To make the following matrix:\n",
    "– mat4<-matrix(1:10,2,5, byrow=T)"
   ]
  },
  {
   "cell_type": "markdown",
   "id": "9c19372b-7ee1-46c3-82e5-88013488c9b1",
   "metadata": {},
   "source": [
    "Revisit vectors: access data\n",
    "• Accessing individual observations\n",
    ">whales[2]\n",
    "• Slicing\n",
    ">whales[2:5]\n",
    "• Negative indices\n",
    ">whales[-1]\n",
    "• Logical values\n",
    ">whales[whales>100]\n",
    ">which(whales>100)\n",
    ">which.max(whales)"
   ]
  },
  {
   "cell_type": "markdown",
   "id": "b0fe34b4-57b5-4c5f-9fa9-cde3904d4bd1",
   "metadata": {},
   "source": [
    "## Indexing of vector/matrix\n"
   ]
  },
  {
   "cell_type": "markdown",
   "id": "cbabe950-6543-411b-b070-f91dc17ffe7f",
   "metadata": {},
   "source": [
    "• x=1:10\n",
    " mat=matrix(1:24, nrow=4)\n",
    "mat[,2] # 2nd column\n",
    "mat[2,] # 2nd row\n",
    "mat[c(B2,4),] # 2nd and 4th row\n",
    "mat[1:3,1] # 1 to 3 element in column 1\n",
    "mat[-c(2,4),] # all but row 2 and 4 "
   ]
  },
  {
   "cell_type": "markdown",
   "id": "0242cdf8-3609-4000-b4f1-68bb03843148",
   "metadata": {},
   "source": [
    "## Create logical vectors by conditions"
   ]
  },
  {
   "cell_type": "markdown",
   "id": "81ab5678-1d8a-4377-b5c8-a470751de334",
   "metadata": {},
   "source": [
    "\n",
    "• Logical operators: <, <=, >, >=, ==, !=\n",
    "• Comparisons\n",
    "– Vectors: AND &; OR |\n",
    "– Longer forms &&, ||: return a single value\n",
    "– all() and any()\n",
    "• Examples\n",
    "– X=1:5\n",
    "– X<5; X>1\n",
    "– X >1 & X <5; X >1 | X <5;\n",
    "– all(X<5); Bany(X>1); all(X<5) && any(X>1)\n",
    "• %in% operator: x %in% c(2,4)"
   ]
  },
  {
   "cell_type": "markdown",
   "id": "6dc1781f-aa44-405e-9765-5284e834a22f",
   "metadata": {},
   "source": [
    "## Missing values\n"
   ]
  },
  {
   "cell_type": "markdown",
   "id": "9b7b4545-e15c-4455-b1aa-7787040f5b30",
   "metadata": {},
   "source": [
    "• R codes missing values as NA\n",
    "• is.na(x) is a logical function that assigns a T to all\n",
    "values that are NA and F otherwise\n",
    " >x[is.na(x)]<-0\n",
    " >mean(x, na.rm=TRUE)"
   ]
  },
  {
   "cell_type": "markdown",
   "id": "1a92cd65-19c9-4bf0-a59e-f6bf2e3036dc",
   "metadata": {},
   "source": [
    "## "
   ]
  },
  {
   "cell_type": "markdown",
   "id": "6e7b7326-e15a-4e11-8107-ff576015844a",
   "metadata": {},
   "source": [
    "Reading in other sources of data\n",
    "• Use R’s built-in libraries and data sets\n",
    ">range(lynx) #lynx is a built-in dataset\n",
    ">library(MASS) # load a library\n",
    ">data(survey) # load a dataset in the library\n",
    ">data(survey, package=\"MASS\")#load just data\n",
    ">head(survey)\n",
    ">tail(survey)\n",
    "• Copy and paste by scan()\n",
    ">whales=scan()\n",
    "1: 74 122 235 111 292 111 211 133 156 79\n",
    "11:\n",
    "Read 10 items"
   ]
  },
  {
   "cell_type": "markdown",
   "id": "e15642e2-a0bf-4d3a-90cb-d195f852f72d",
   "metadata": {},
   "source": [
    "## "
   ]
  },
  {
   "cell_type": "markdown",
   "id": "3bdfcea7-0e61-420f-9ba7-69d5da1a6871",
   "metadata": {},
   "source": [
    "Read formatted data\n",
    "• Read data from formatted data files, e.g. a file of numbers from a single\n",
    "file, a table of numbers separated by space, comma, tab etc, with or\n",
    "without header\n",
    ">whale=scan(file=\"whale.txt\")\n",
    "“whale.txt”:\n",
    "74 122 235 111 292 111 211 133 156 79\n",
    ">whale=read.table(file=\"whale.txt\", header=TRUE)\n",
    "“whale.txt”:\n",
    " texas florida\n",
    "1 74 89\n",
    "2 122 254\n",
    "3 …. ….\n",
    ">read.table(file=file.choose()) # specify the file\n",
    ">read.table(file=\"http://statweb.stanford.edu/~rag/stat141/exs/whale.txt\",head\n",
    "er=T) # read from internet "
   ]
  },
  {
   "cell_type": "markdown",
   "id": "b205fa2f-68a1-43ae-8aff-646faa30b191",
   "metadata": {},
   "source": [
    "## Data Frame"
   ]
  },
  {
   "cell_type": "markdown",
   "id": "59435f89-1ea0-41ee-a789-f7fe8f410964",
   "metadata": {},
   "source": [
    "Data frame\n",
    "• A “data matrix” or a “data set”\n",
    "– it likes a matrix (rectangular grid)\n",
    "– But unlike matrix, different columns can be of different types\n",
    "– Row names have to be unique\n",
    "• >alphabet<-data.frame(index=1:26, symbol=LETTERS)\n",
    "• read.table() stores data in a data frame\n",
    "• Access var in a dataset: $, attach(), with()\n",
    ">library(ISwR) #load the package that provides thuesen data\n",
    ">data(thuesen)\n",
    ">names(thuesen) #variable names\n",
    "> blood.glucose# not visible\n",
    ">length(thuesen$blood.glucose)\n",
    ">with(thuesen, range(blood.glucose))"
   ]
  },
  {
   "cell_type": "markdown",
   "id": "5b06a83f-c6f8-47e0-8b4b-79c0c8ad7031",
   "metadata": {},
   "source": [
    "##  More about data frame"
   ]
  },
  {
   "cell_type": "markdown",
   "id": "984d958e-66eb-4878-baab-1092970bbd55",
   "metadata": {},
   "source": [
    "\n",
    "• Indexing of data frames is the same as that of vector\n",
    "and matrix >energy[energy$stature==\n",
    "\"lean\",]\n",
    "• Sorting rows by order()\n",
    ">energy[order(energy$expend),]\n",
    ">energy[with(energy, order(stature, expend)),]\n",
    "• Selecting subsets of data by subset()\n",
    ">subset(energy, stature==\"lean\" & expend>8)\n",
    "• Splitting data\n",
    ">split(energy$expend, energy$stature)"
   ]
  },
  {
   "cell_type": "markdown",
   "id": "d00181ff-3ff0-4d18-b530-27cc8e74ebb2",
   "metadata": {},
   "source": [
    "## Lists"
   ]
  },
  {
   "cell_type": "markdown",
   "id": "e321a2ef-7a0e-4bf9-96a3-d3996bbd634a",
   "metadata": {},
   "source": [
    "• A larger composite object for combining a collection\n",
    "of objects\n",
    "– Different from data frame, each object can be of\n",
    "different length, in additional to being of different types\n",
    ">a=list(whales=c(74,122,235,111,292,111,211,133,16,79),\n",
    " simpsons=c(\"Homer\", \"Marge\", \"Bart\", \"Lisa\", \"Maggie\"))\n",
    "– Access by $ or [[]]: a$simpsons or a[[2]]"
   ]
  },
  {
   "cell_type": "markdown",
   "id": "8dbb9f39-0e4d-47ed-a005-98431e585bec",
   "metadata": {},
   "source": [
    "## Manage the work environment"
   ]
  },
  {
   "cell_type": "markdown",
   "id": "5b0e8b9f-1181-4211-b660-b94836c9685b",
   "metadata": {},
   "source": [
    "• What if there are more variables defined than can\n",
    "be remembered?\n",
    "• ls() list all the objects(var, fun, etc) in a given\n",
    "environment\n",
    "• rm(a, b): delete variables a and b\n",
    "– rm(list=ls()) will ?\n",
    "• Get and set working directory\n",
    ">getwd()\n",
    ">setwd(\"working/directory/path\")\n",
    "• Save and load working environment\n",
    ">save.image(file=\"filename.RData\")\n",
    ">load(file=\"filename.RData\")"
   ]
  },
  {
   "cell_type": "markdown",
   "id": "6aaaacf3-0ec0-4834-8895-6cf08faa3d4c",
   "metadata": {},
   "source": [
    "## scripting"
   ]
  },
  {
   "cell_type": "markdown",
   "id": "dc26099d-b5e8-45f2-8b5c-7ff98f6c53d8",
   "metadata": {},
   "source": [
    "• Edit your commands using your favorite text editors\n",
    "• How to run\n",
    "Inside R: >source(filename)\n",
    "– Takes the input and runs them\n",
    "– Do syntax-check before anything is executed\n",
    "– Set echo=T to print executed commands\n",
    "OR copy & paste\n",
    "Outside R: R CMD BATCH filename\n",
    " output is in *.Rout\n",
    "Or: Rscript filename"
   ]
  },
  {
   "cell_type": "markdown",
   "id": "4bebe0f5-45c3-434c-a384-a7b313b4a6f7",
   "metadata": {},
   "source": [
    "## Principal functions reading data"
   ]
  },
  {
   "cell_type": "markdown",
   "id": "6e2fefb2-dc54-413f-82c5-8b0430dd2e28",
   "metadata": {},
   "source": [
    "• read.table, read.csv, for reading tabular data\n",
    "• readLines, for reading lines of a text file\n",
    "• source, for reading in R code files (inverse of\n",
    "dump)\n",
    "• dget, for reading in R code files (inverse of dput)\n",
    "• load, for reading in saved workspaces\n",
    "• unserialize, for reading single R objects in binary\n",
    "form\n",
    "53\n",
    "Principal functions writing data\n",
    "• write.table, for writing tabular data to text files\n",
    "(i.e. CSV) or connections\n",
    "• writeLines, for writing character data line-by-line\n",
    "to a file or connection\n",
    "• dump, for dumping a textual representation of\n",
    "multiple R objects\n",
    "• dput, for outputting a textual representation of\n",
    "an R object\n",
    "• save, for saving an arbitrary number of R objects\n",
    "in binary format (possibly compressed) to a file.\n",
    "• serialize, for converting an R object into a binary\n",
    "format for outputting to a connection (or file)."
   ]
  },
  {
   "cell_type": "markdown",
   "id": "45e0aded-2754-4473-89da-93913e6672d3",
   "metadata": {},
   "source": [
    "## Using dput() and dump()"
   ]
  },
  {
   "cell_type": "markdown",
   "id": "ae21b3b9-560e-4002-a33c-aa1b08824046",
   "metadata": {},
   "source": [
    "\n",
    "• dput()/dget()\n",
    "– y <- data.frame(a = 1, b = \"a\")\n",
    "– dput(y)\n",
    "– dput(y, file = \"y.R\")\n",
    "• dump()/source()\n",
    "– x <- \"foo\"; y <- data.frame(a = 1L, b = \"a\")\n",
    "– dump(c(\"x\", \"y\"), file = \"data.R\")\n",
    "– rm(x, y)\n",
    "– source(\"data.R\")\n",
    "– str(y)"
   ]
  },
  {
   "cell_type": "markdown",
   "id": "a06944b6-2ae8-4e50-890f-d6fb74d7c889",
   "metadata": {},
   "source": [
    "## Difference between dput() and dump()"
   ]
  },
  {
   "cell_type": "markdown",
   "id": "45d67451-7368-4c63-a489-d3f7169a4f9a",
   "metadata": {},
   "source": [
    "\n",
    "\n",
    "• dump can be used to output multiple objects\n",
    "• dump adds the object name and can be source()'d\n",
    "Binary Formats save()/load()\n",
    "• a <- data.frame(x = rnorm(100), y = runif(100))\n",
    "• b <- c(3, 4.4, 1 / 3)\n",
    "• ## Save 'a' and 'b' to a file\n",
    "• save(a, b, file = \"mydata.rda\")\n",
    "• ## Load 'a' and 'b' into your workspace\n",
    "• load(\"mydata.rda\")\n",
    "• ## Save everything to a file\n",
    "• save.image(file = \"mydata.RData\")\n",
    "• ## load all objects in this file\n",
    "• load(\"mydata.RData\")\n"
   ]
  },
  {
   "cell_type": "markdown",
   "id": "26d82d91-27d3-4df3-b629-0fd94b2faa70",
   "metadata": {},
   "source": [
    "## Reading in Larger Datasets with read.table"
   ]
  },
  {
   "cell_type": "markdown",
   "id": "85eef254-ee82-4c6e-9e4e-9918dcc52be5",
   "metadata": {},
   "source": [
    "\n",
    "\n",
    "• Video https://youtu.be/BJYYIJO3UFI\n",
    "• A tip\n",
    "> initial <- read.table(\"datatable.txt\", nrows = 100)\n",
    "> classes <- sapply(initial, class)\n",
    "> tabAll <- read.table(\"datatable.txt\", colClasses = classes)"
   ]
  },
  {
   "cell_type": "markdown",
   "id": "3a320e76-eb25-4eb6-99ed-cae72772093b",
   "metadata": {},
   "source": [
    "## Summary"
   ]
  },
  {
   "cell_type": "markdown",
   "id": "08717c79-4052-4b2b-b4d7-e276cd12c0e7",
   "metadata": {},
   "source": [
    "\n",
    "• write.csv() and write.table() are used when you want\n",
    "to exchange data in tabular text format.\n",
    "• dput() saves single data object in R code\n",
    "• dump() saves multiple data objects and their\n",
    "metadata in R code\n",
    "• save() is similar to dump() but saves in binary format\n",
    "or ASCII\n",
    "• save.image() saves workspace in binary format"
   ]
  },
  {
   "cell_type": "markdown",
   "id": "6a9ed67d-6cec-4ec8-ba43-c2bc37da0f5f",
   "metadata": {},
   "source": [
    "### Calculating Memory"
   ]
  },
  {
   "cell_type": "markdown",
   "id": "c06169e8-5347-4f99-ab81-b7c8e2ab4d53",
   "metadata": {},
   "source": [
    "##  Requirements for R Objects"
   ]
  },
  {
   "cell_type": "markdown",
   "id": "866de8bb-d504-4c8c-a2cb-f728fc0e4c51",
   "metadata": {},
   "source": [
    "• An example: a data frame with 1,500,000 rows and\n",
    "120 columns, all of which are numeric data.\n",
    "– 1,500,000 × 120 × 8 bytes/numeric\n",
    "62\n",
    "\n"
   ]
  },
  {
   "cell_type": "markdown",
   "id": "0be882c5-907a-4ec0-9f1f-de210cf90bd4",
   "metadata": {},
   "source": [
    "## Commonly used control structures\n"
   ]
  },
  {
   "cell_type": "markdown",
   "id": "842febe2-d5d0-49c5-af8d-12e033c07b0f",
   "metadata": {},
   "source": [
    "\n",
    "• if and else: testing a condition and acting on it\n",
    "• for: execute a loop a fixed number of times\n",
    "• while: execute a loop while a condition is true\n",
    "• repeat: execute an infinite loop (must break out\n",
    "of it to stop)\n",
    "• break: break the execution of a loop\n",
    "• next: skip an iteration of a loop"
   ]
  },
  {
   "cell_type": "markdown",
   "id": "50a7b2d4-5b0f-4373-8ed8-c1db4cef8fc6",
   "metadata": {},
   "source": [
    "## if-else\n"
   ]
  },
  {
   "cell_type": "markdown",
   "id": "00e0e4e5-e047-438f-b406-ad8bafc052e0",
   "metadata": {
    "tags": []
   },
   "source": [
    "• if(<condition>) {\n",
    "## do something\n",
    "}\n",
    "## Continue with rest of code\n",
    "• if(<condition>) {\n",
    "## do something\n",
    "}\n",
    "else {\n",
    "## do something else\n",
    "}\n",
    "if-else {if-else}\n",
    "if(<condition1>) {\n",
    "## do something\n",
    "} else if(<condition2>) {\n",
    "## do something different\n",
    "} else {\n",
    "## do something different\n",
    "}\n",
    "#------------------------\n",
    "if(<condition1>) {\n",
    "}\n",
    "if(<condition2>) {\n",
    "}\n",
    "Example\n",
    "x <- runif(1, 0, 10)\n",
    "• if(x > 3) {\n",
    " y <- 10\n",
    " } else {\n",
    " y <- 0\n",
    " }\n",
    "• y <- if(x > 3) {\n",
    " 10\n",
    " } else {\n",
    " 0\n",
    " }\n",
    "• y <- ifelse(x>3, 10, 0)\n",
    "ifelse()\n",
    "• x <- c(6:-4)\n",
    "• sqrt(x) #- gives warning\n",
    "• sqrt(ifelse(x >= 0, x, NA)) # no warning\n",
    "• ## Note: the following also gives the warning !\n",
    "• ifelse(x >= 0, sqrt(x), NA)\n",
    "• ## example of different return modes:\n",
    "yes <- 1:3\n",
    "no <- pi^(0:3)\n",
    "typeof(ifelse(NA, yes, no)) # logical\n",
    "typeof(ifelse(TRUE, yes, no)) # integer\n",
    "typeof(ifelse(FALSE, yes, no)) # double"
   ]
  },
  {
   "cell_type": "markdown",
   "id": "8794940e-381a-4e37-a71d-b5a5ad75f917",
   "metadata": {},
   "source": [
    "## for Loops"
   ]
  },
  {
   "cell_type": "markdown",
   "id": "ed5285c8-25b3-420f-8194-96535a87c740",
   "metadata": {},
   "source": [
    "\n",
    "• for(i in 1:10) {\n",
    "print(i)\n",
    "}\n",
    "x <- c(\"a\", \"b\", \"c\", \"d\")\n",
    "• for(i in 1:4) {\n",
    "## Print out each element of 'x'\n",
    "print(x[i])\n",
    "}\n",
    "\n",
    "• seq_along() function is commonly used in\n",
    "conjunction with for loops\n",
    "for(i in seq_along(x)) {\n",
    " print(x[i])\n",
    "}\n",
    "• It is not necessary to use an index-type variable\n",
    "for(letter in x) {\n",
    " print(letter)\n",
    " }\n",
    "• One line loops (curly braces are not required)\n",
    "for(i in 1:4) print(x[i])"
   ]
  },
  {
   "cell_type": "markdown",
   "id": "c30b675a-b0a9-4bcf-b87b-d3befbd76fcf",
   "metadata": {},
   "source": [
    "## Nested for loops"
   ]
  },
  {
   "cell_type": "markdown",
   "id": "ad5e189f-6f09-4f08-b406-d10eb88f63d3",
   "metadata": {},
   "source": [
    "x <- matrix(1:6, 2, 3)\n",
    "for(i in seq_len(nrow(x))) {\n",
    " for(j in seq_len(ncol(x))) {\n",
    " print(x[i, j])\n",
    " }\n",
    "}\n"
   ]
  },
  {
   "cell_type": "markdown",
   "id": "8c591cb2-9e5e-4f2a-87c4-9bd185325b9b",
   "metadata": {},
   "source": [
    "## while Loops"
   ]
  },
  {
   "cell_type": "markdown",
   "id": "7860ca85-9344-46f9-ad07-840dccd969a3",
   "metadata": {},
   "source": [
    "\n",
    "while (<condition>) {\n",
    " ## do something\n",
    "}\n",
    "Example:\n",
    "count <- 0\n",
    "while(count < 10) {\n",
    " print(count)\n",
    " count <- count + 1\n",
    "}\n",
    "While loops can potentially result in infinite loops if\n",
    "not written properly. Use with care!"
   ]
  },
  {
   "cell_type": "markdown",
   "id": "8e624860-c37c-4f81-8a1e-f4bbcc29c2b2",
   "metadata": {},
   "source": [
    "## repeat\n"
   ]
  },
  {
   "cell_type": "markdown",
   "id": "9640349f-291d-4b9c-a62f-fc4ed2a2a13d",
   "metadata": {},
   "source": [
    "x0 <- 1\n",
    "tol <- 1e-8\n",
    "repeat {\n",
    " x1 <- computeEstimate()\n",
    " if(abs(x1 - x0) < tol) { ## Close enough?\n",
    " break\n",
    " } else {\n",
    " x0 <- x1\n",
    " }\n",
    "}"
   ]
  },
  {
   "cell_type": "markdown",
   "id": "40f0e748-d082-4cb9-b25f-63175b42caf5",
   "metadata": {},
   "source": [
    "##  next, break\n"
   ]
  },
  {
   "cell_type": "markdown",
   "id": "a2adc9bb-e74b-43cc-a550-e525705597cd",
   "metadata": {},
   "source": [
    "\n",
    "- next is used to skip an iteration of a loop.\n",
    "for(i in 1:100) {\n",
    " if(i <= 20) {\n",
    "- Skip the first 20 iterations\n",
    " next\n",
    " }\n",
    "- Do something here\n",
    "}\n",
    "- break is used to exit a loop immediately, regardless of what\n",
    "iteration the loop may be on.\n",
    "for(i in 1:100) {\n",
    " print(i)\n",
    " if(i > 20) {\n",
    "- Stop loop after 20 iterations\n",
    " break\n",
    " }\n",
    "}"
   ]
  },
  {
   "cell_type": "markdown",
   "id": "f084e15c-01a3-4cf2-9ba6-2f5a29078e8e",
   "metadata": {},
   "source": [
    "## Summary"
   ]
  },
  {
   "cell_type": "markdown",
   "id": "cea9fd6f-774a-4e85-aa2b-b6cacc1c77c8",
   "metadata": {},
   "source": [
    "\n",
    "- Control structures like if, while, and for allow you to control the flow of an R program\n",
    "- Infinite loops should generally be avoided, even if (you believe) they are theoretically correct.\n",
    "- Control structures mentioned here are primarilyuseful for writing programs; for commandline interactive work, the “apply” functions are,more useful (will cover later)\n",
    "- It is more efficient to use built-in functions or vectorization rather than control structures whenever possible."
   ]
  },
  {
   "cell_type": "markdown",
   "id": "47616331-3c79-4e85-a5b7-eef0d75bd15e",
   "metadata": {
    "jp-MarkdownHeadingCollapsed": true,
    "tags": []
   },
   "source": [
    "## "
   ]
  },
  {
   "cell_type": "code",
   "execution_count": null,
   "id": "b881c4ba-605b-45a8-9aea-77047256d68e",
   "metadata": {},
   "outputs": [],
   "source": []
  },
  {
   "cell_type": "markdown",
   "id": "3e62ce0b-1d4e-4ae8-a371-2c9e75dbde3d",
   "metadata": {
    "tags": []
   },
   "source": [
    "# w3 functions"
   ]
  },
  {
   "cell_type": "markdown",
   "id": "ce7589ec-12bb-4640-b42d-2bd5a34ee432",
   "metadata": {
    "tags": []
   },
   "source": [
    "## Introduction to Functional programming\n",
    "## Functions"
   ]
  },
  {
   "cell_type": "markdown",
   "id": "41622f59-7526-4b6a-a342-2b15cbd9fdb7",
   "metadata": {},
   "source": [
    "## Functions in R\n"
   ]
  },
  {
   "cell_type": "markdown",
   "id": "da7c3ce8-da46-4717-9e8c-8481673de243",
   "metadata": {},
   "source": [
    "\n",
    "A core activity of an R programmer.\n",
    "• “user”  developer\n",
    "• When to write a function\n",
    "– Encapsulate a sequence of expressions that need to be\n",
    "executed numerous times, perhaps under slightly\n",
    "different conditions.\n",
    "– Code must be shared with others or the public\n",
    "• Create an interface to the code: via a set of\n",
    "parameters.\n",
    "• This interface provides an abstraction of the code\n",
    "to potential users.\n",
    "– Ex: sort()\n"
   ]
  },
  {
   "cell_type": "markdown",
   "id": "0f93c9d3-9aec-45eb-bec7-671f830f7157",
   "metadata": {},
   "source": [
    "## "
   ]
  },
  {
   "cell_type": "markdown",
   "id": "02844104-17e2-4f1a-b944-960f732c7bed",
   "metadata": {},
   "source": [
    "## A special argument in R"
   ]
  },
  {
   "cell_type": "markdown",
   "id": "fc289b1d-4f73-47e3-b801-ef0a9c1c3c64",
   "metadata": {},
   "source": [
    "• Indicate a variable number of arguments that are\n",
    "usually passed on to other functions.\n",
    "• The ... argument is necessary when the number\n",
    "of arguments passed to the function cannot be\n",
    "known in advance.\n",
    "myplot <- function(x, y, type = \"l\", ...) {\n",
    " plot(x, y, type = type, ...) ## Pass '...' to 'plot' function\n",
    "}\n",
    "> args(paste)\n",
    "function (..., sep = \" \", collapse = NULL)\n",
    "NULL\n",
    "> args(cat)\n",
    "function (..., file = \"\", sep = \" \", fill = FALSE, labels = NULL, append = FALSE)\n",
    "NULL"
   ]
  },
  {
   "cell_type": "markdown",
   "id": "cd680607-62d4-43cd-af6c-857b35ac8999",
   "metadata": {},
   "source": [
    "## Arguments Coming After the ... Argument"
   ]
  },
  {
   "cell_type": "markdown",
   "id": "0e679c61-7ce3-4c5f-a2f0-5786acd929f7",
   "metadata": {},
   "source": [
    "One catch with ... is that any arguments that appear after ...\n",
    "on the argument list must be named explicitly and cannot\n",
    "be partially matched or matched positionally.\n",
    "> args(paste)\n",
    "function (..., sep = \" \", collapse = NULL)\n",
    "NULL\n",
    "paste(\"a\", \"b\", sep = \"+\")\n",
    "paste(\"a\", \"b\", se = \"+\")"
   ]
  },
  {
   "cell_type": "markdown",
   "id": "29939f6f-21d8-4435-854c-db6e396d886d",
   "metadata": {},
   "source": [
    "## Default value"
   ]
  },
  {
   "cell_type": "markdown",
   "id": "2be93f55-2cc9-487c-ad4a-3ee41f4ac5f7",
   "metadata": {
    "jp-MarkdownHeadingCollapsed": true,
    "tags": []
   },
   "source": [
    "So far, we have written a function that\n",
    "• has one formal argument named num with a default value of 1.\n",
    "• prints the message “Hello, world!” to the console a number of\n",
    "times indicated by the argument num\n",
    "• returns the number of characters printed to the console\n",
    "Argument Matching\n",
    "R functions arguments can be matched positionally or by\n",
    "name.\n",
    "• Positional matching just means that R assigns the first\n",
    "value to the first argument, the second value to second\n",
    "argument, etc.\n",
    "100 is assigned to the n argument, 2 is assigned to the mean\n",
    "argument, and 1 is assigned to the sd argument, all by positional\n",
    "matching.\n",
    "Specifying arguments by name\n",
    "Order doesn’t matter then\n",
    "• Function arguments can also be partially matched\n",
    "• The order of operations when given an argument\n",
    "1. Check for exact match for a named argument\n",
    "2. Check for a partial match\n",
    "3. Check for a positional match\n",
    "Example\n",
    "args(lm)\n",
    "function (formula, data, subset, weights, na.action, method = \"qr\",\n",
    "model = TRUE, x = FALSE, y = FALSE, qr = TRUE, singular.ok = TRUE,\n",
    "contrasts = NULL, offset, ...)\n",
    "NULL\n",
    "The following two calls are equivalent.\n",
    "set.seed(0)\n",
    "mydata = data.frame(y=rnorm(20), x=rnorm(20))\n",
    "lm(data = mydata, y ~ x, model = FALSE, 1:20)\n",
    "lm(y ~ x, mydata, 1:20, model = FALSE)\n",
    "\n",
    "Lazy Evaluation\n",
    "Arguments to functions are evaluated lazily, so they are\n",
    "evaluated only as needed in the body of the function.\n",
    "> f <- function(a, b) {\n",
    " a^2\n",
    "}\n",
    "> f(2)\n",
    "> f <- function(a, b) {\n",
    " print(a)\n",
    " print(b)\n",
    "}\n",
    "> f(45)\n",
    "The ... Argument\n",
    "\n",
    "\n",
    "\n",
    "\n"
   ]
  },
  {
   "cell_type": "markdown",
   "id": "597c5236-0822-4e6d-be23-7a8855d1e792",
   "metadata": {},
   "source": [
    "## Summary"
   ]
  },
  {
   "cell_type": "markdown",
   "id": "81ac6f3f-8267-4302-984c-5a2297d652f0",
   "metadata": {},
   "source": [
    "Functions can be defined using the function() directive and\n",
    "are assigned to R objects just like any other R object\n",
    "• Functions have can be defined with named arguments;\n",
    "these function arguments can have default values\n",
    "• Functions arguments can be specified by name or by\n",
    "position in the argument list\n",
    "• Functions always return the last expression evaluated in the\n",
    "function body\n",
    "• A variable number of arguments can be specified using the\n",
    "special ... argument in a function definition.\n"
   ]
  },
  {
   "cell_type": "markdown",
   "id": "9ada0e2e-84b2-4508-a7a8-651c55f3d45c",
   "metadata": {},
   "source": [
    "## Example"
   ]
  },
  {
   "cell_type": "markdown",
   "id": "08bf7223-2333-4b94-aa66-29c719c1917a",
   "metadata": {},
   "source": [
    "Example: Newton-Rapson method to find a square root of an integer number\n",
    "Functional Programming\n",
    "Looping on the Command Line\n",
    "apply()"
   ]
  },
  {
   "cell_type": "markdown",
   "id": "73973f1c-b62e-4ea5-b994-b1701b7ebd6e",
   "metadata": {},
   "source": [
    "## "
   ]
  },
  {
   "cell_type": "markdown",
   "id": "12f267c9-102f-4a85-b623-504663582889",
   "metadata": {},
   "source": [
    "## Your First Function\n"
   ]
  },
  {
   "cell_type": "markdown",
   "id": "9311a4d9-d9c9-4e48-97b6-7da0db33ad63",
   "metadata": {},
   "source": [
    "f <- function() {\n",
    " ## This is an empty function\n",
    "}\n",
    "## Functions have their own class\n",
    "class(f)\n",
    "# Execute this function\n",
    "f()"
   ]
  },
  {
   "cell_type": "markdown",
   "id": "31ec1c98-14e2-4c07-ae16-a2c8471fe262",
   "metadata": {},
   "source": [
    "## apply()"
   ]
  },
  {
   "cell_type": "markdown",
   "id": "0ab9cc1c-0434-40bc-a17c-857107f72686",
   "metadata": {},
   "source": [
    "Evaluate a function (often an anonymous one) over the margins\n",
    "of an array.\n",
    "• Most often, apply a function to the rows or columns of a matrix\n",
    "(which is just a 2-dimensional array). Also, applicable to general\n",
    "arrays\n",
    "• The arguments to apply() are\n",
    "– X is an array (matrix is just a 2D array)\n",
    "– MARGIN is an integer vector indicating which margins should\n",
    "be “retained”.\n",
    "– FUN is a function to be applied\n",
    "– ... is for other arguments to be passed to FUN\n",
    "\n",
    "Examples\n",
    "• Shortcuts\n",
    "– rowSums = apply(x, 1, sum)\n",
    "– rowMeans = apply(x, 1, mean)\n",
    "– colSums = apply(x, 2, sum)\n",
    "– colMeans = apply(x, 2, mean)"
   ]
  },
  {
   "cell_type": "markdown",
   "id": "fe690591-79fb-49b5-aff5-54db63aca6b0",
   "metadata": {},
   "source": [
    "## lapply()"
   ]
  },
  {
   "cell_type": "markdown",
   "id": "b49be2c1-0796-4b7d-81f6-1da5d3d97560",
   "metadata": {},
   "source": [
    "The lapply() function does the following simple\n",
    "series of operations:\n",
    "1. it loops over a list, iterating over each element in that list\n",
    "2. it applies a function to each element of the list (a function\n",
    "that you specify)\n",
    "3. and returns a list (the l is for “list”).\n",
    "                       \n",
    "• This function takes three arguments\n",
    "– (1) a list X, If X is not a list, it will be coerced to a list\n",
    "using as.list().\n",
    "– (2) a function (or the name of a function) FUN;\n",
    "– (3) other arguments via its ... argument. \n",
    "lapply()\n",
    "the actual looping is done internally in C code for\n",
    "efficiency reasons."
   ]
  },
  {
   "cell_type": "markdown",
   "id": "7d5b67a6-fee5-45f4-9014-b9a46381dc24",
   "metadata": {},
   "source": [
    "> lapply\n",
    "function (X, FUN, ...)\n",
    "{\n",
    "FUN <- match.fun(FUN)\n",
    "if (!is.vector(X) || is.object(X))\n",
    "X <- as.list(X)\n",
    ".Internal(lapply(X, FUN))\n",
    "}\n",
    "<bytecode: 0x7fcc8388f758>\n",
    "<environment:\n",
    "namespace:base>\n",
    "lapply()\n",
    "Example 1\n",
    "• Example 2\n",
    "> x <- list(a = 1:5, b = rnorm(10))\n",
    "> lapply(x, mean)\n",
    "> x <- list(a = 1:4, b = rnorm(10), c = rnorm(20, 1), d = rnorm(100, 5))\n",
    "> lapply(x, mean)\n",
    "> x <- 1:4\n",
    "> lapply(x, runif)"
   ]
  },
  {
   "cell_type": "markdown",
   "id": "da5ab724-a0b2-4832-8c6c-d113164030d6",
   "metadata": {},
   "source": [
    "When you pass a function to lapply(), lapply()\n",
    "takes elements of the list and passes them as the\n",
    "first argument of the function you are applying\n",
    "lapply()"
   ]
  },
  {
   "cell_type": "markdown",
   "id": "fcd8b2ad-8d45-455b-8c7a-15f04f7be16d",
   "metadata": {},
   "source": [
    "## the ... Argument"
   ]
  },
  {
   "cell_type": "markdown",
   "id": "84094542-40c7-421b-a60b-7a7751c24db9",
   "metadata": {},
   "source": [
    "• anonymous functions.\n",
    "> x <- 1:4\n",
    "> lapply(x, runif, min = 0, max = 10)\n",
    "> x <- list(a = matrix(1:4, 2, 2), b = matrix(1:6, 3, 2))\n",
    "> lapply(x, function(elt) { elt[,1] })\n",
    "> f <- function(elt) {\n",
    " elt[, 1]\n",
    " }\n",
    "> lapply(x, f)"
   ]
  },
  {
   "cell_type": "markdown",
   "id": "7bc84716-159f-4910-9701-729addee678b",
   "metadata": {},
   "source": [
    "## sapply()"
   ]
  },
  {
   "cell_type": "markdown",
   "id": "79c2f989-4ab5-48f8-a9d6-f145a02c25fa",
   "metadata": {},
   "source": [
    "The sapply() function behaves similarly to lapply(); the only real\n",
    "difference is in the return value.\n",
    "• sapply() will try to simplify the result of lapply() if possible.\n",
    "Essentially, sapply() calls lapply() on its input and then applies the\n",
    "following algorithm\n",
    "• If the result is a list where every element is length 1, then a\n",
    "vector is returned\n",
    "• If the result is a list where every element is a vector of the same\n",
    "length (> 1), a matrix is returned.\n",
    "• If it can’t figure things out, a list is returned\n",
    "> x <- list(a = 1:4, b = rnorm(10), c = rnorm(20, 1), d = rnorm(100, 5))\n",
    "> lapply(x, mean)\n",
    "> sapply(x, mean)"
   ]
  },
  {
   "cell_type": "markdown",
   "id": "9a02f921-7376-47e2-a3a4-213af7f8ca2d",
   "metadata": {},
   "source": [
    "## split()"
   ]
  },
  {
   "cell_type": "markdown",
   "id": "cc7c79b2-6781-4f36-bb8c-540c37d5e131",
   "metadata": {},
   "source": [
    "The combination of split() and a function like\n",
    "lapply() or sapply() is a common paradigm in R.\n",
    "> library(datasets)\n",
    "> head(airquality)\n",
    "> s <- split(airquality, airquality$Month)\n",
    "> str(s)\n",
    "> lapply(s, function(x) {\n",
    " colMeans(x[, c(\"Ozone\", \"Solar.R\", \"Wind\")])\n",
    " })\n",
    "> sapply(s, function(x) {\n",
    " colMeans(x[, c(\"Ozone\", \"Solar.R\", \"Wind\")])\n",
    " })\n",
    "> sapply(s, function(x) {\n",
    " colMeans(x[, c(\"Ozone\", \"Solar.R\", \"Wind\")],na.rm = TRUE)\n",
    " })"
   ]
  },
  {
   "cell_type": "markdown",
   "id": "11ebf5a9-a2d8-4cc9-a4bc-95099c0ca371",
   "metadata": {},
   "source": [
    "## tapply\n"
   ]
  },
  {
   "cell_type": "markdown",
   "id": "863ad631-6eed-42d7-b305-cb299d9b90fd",
   "metadata": {},
   "source": [
    "tapply() is used to apply a function over subsets of a\n",
    "vector. It can be thought of as a combination of split() and\n",
    "sapply() for vectors only.\n",
    "• The arguments to tapply() are as follows:\n",
    "– X is a vector\n",
    "– INDEX is a factor or a list of factors (or else they are coerced to\n",
    "factors)\n",
    "– FUN is a function to be applied\n",
    "– … contains other arguments to be passed FUN\n",
    "– simplify, should we simplify the result?\n",
    "\n",
    "tapply\n",
    "                  > ## Simulate some data\n",
    "> x <- c(rnorm(10), runif(10), rnorm(10, 1))\n",
    "> ## Define some groups with a factor variable\n",
    "> f <- gl(3, 10)\n",
    "> f\n",
    "[1] 1 1 1 1 1 1 1 1 1 1 2 2 2 2 2 2 2 2 2 2 3 3 3 3 3 3 3 3 3 3\n",
    "Levels: 1 2 3\n",
    "> tapply(x, f, mean)\n",
    "> tapply(x, f, mean, simplify = FALSE)\n",
    "> tapply(x, f, mean, simp = FALSE) "
   ]
  },
  {
   "cell_type": "markdown",
   "id": "d2edb3f5-d57a-480e-9092-0a3538d93a93",
   "metadata": {},
   "source": [
    "## will it return the same?"
   ]
  },
  {
   "cell_type": "markdown",
   "id": "410b578c-f87f-47ea-98ae-28ad84fc208c",
   "metadata": {},
   "source": [
    "when returning >1 value. tapply() will not simplify the result and will return a list.\n",
    "> tapply(x, f, range)"
   ]
  },
  {
   "cell_type": "markdown",
   "id": "4517ed91-0a7c-4721-8185-9f920ff935d3",
   "metadata": {},
   "source": [
    "## mapply()"
   ]
  },
  {
   "cell_type": "markdown",
   "id": "44f0d33e-377c-4ca2-b44d-9a1924a37fba",
   "metadata": {},
   "source": [
    "A multivariate apply of sorts which applies a function in parallel\n",
    "over a set of arguments.\n",
    "\n",
    "• Recall that lapply() and friends only iterate over a single R object.\n",
    "What if you want to iterate over multiple R objects in parallel?\n",
    "This is what mapply() is for."
   ]
  },
  {
   "cell_type": "markdown",
   "id": "0db556e7-7cfd-4bdc-bd48-9007f333d4df",
   "metadata": {
    "tags": []
   },
   "source": [
    " str(mapply)\n",
    "function (FUN, ..., MoreArgs = NULL, SIMPLIFY = TRUE, USE.NAMES =\n",
    "TRUE)\n",
    "The arguments to mapply() are\n",
    "• FUN is a function to apply\n",
    "• ... contains R objects to apply over\n",
    "• MoreArgs is a list of other arguments to FUN.\n",
    "• SIMPLIFY indicates whether the result should be simplified\n",
    "mapply()\n",
    "list(rep(1, 4), rep(2, 3), rep(3, 2), rep(4, 1))\n",
    " mapply(rep, 1:4, 4:1)\n",
    " noise <- function(n, mean, sd) {\n",
    " rnorm(n, mean, sd)\n",
    "}"
   ]
  },
  {
   "cell_type": "markdown",
   "id": "fae23492-8cf0-4c9f-a84d-74bc37897226",
   "metadata": {},
   "source": [
    "## Simulate 5 random numbers\n"
   ]
  },
  {
   "cell_type": "markdown",
   "id": "c597e213-d20b-4762-8de8-e786b7acb0b0",
   "metadata": {},
   "source": [
    "noise(5, 1, 2)\n",
    "[1] -0.5196913 3.2979182 -0.6849525 1.7828267 2.7827545\n",
    ">\n",
    "> ## This only simulates 1 set of numbers, not 5\n",
    "> noise(1:5, 1:5, 2)\n",
    "[1] -1.670517 2.796247 2.776826 5.351488 3.422804\n",
    "> mapply(noise, 1:5, 1:5, 2) list(noise(1, 1, 2), noise(2, 2, 2),\n",
    "noise(3, 3, 2), noise(4, 4, 2),\n",
    "noise(5, 5, 2))\n"
   ]
  },
  {
   "cell_type": "markdown",
   "id": "cfe512b0-61e9-4fed-b630-2b5a57baebd8",
   "metadata": {},
   "source": [
    "## Vectorizing a Function"
   ]
  },
  {
   "cell_type": "code",
   "execution_count": 1,
   "id": "06c08651-2d94-4c4d-9de5-f628856e921b",
   "metadata": {},
   "outputs": [
    {
     "ename": "ERROR",
     "evalue": "Error in parse(text = x, srcfile = src): <text>:1:5: unexpected symbol\n1: The mapply\n        ^\n",
     "output_type": "error",
     "traceback": [
      "Error in parse(text = x, srcfile = src): <text>:1:5: unexpected symbol\n1: The mapply\n        ^\nTraceback:\n"
     ]
    }
   ],
   "source": [
    "The mapply() function can be used to automatically\n",
    "“vectorize” a function: take a function that typically only\n",
    "takes single arguments and create a new function that can\n",
    "take vector arguments.\n",
    "> sumsq <- function(mu, sigma, x) {\n",
    " sum(((x - mu) / sigma)^2)\n",
    " }\n",
    "> x <- rnorm(100) ## Generate some data\n",
    "> sumsq(1:10, 1:10, x) ## This is not what we want\n",
    "[1] 110.2594\n",
    "However, we can do what we want to do by using mapply().\n",
    "> mapply(sumsq, 1:10, 1:10, MoreArgs = list(x = x))"
   ]
  },
  {
   "cell_type": "markdown",
   "id": "06b1d851-a99f-4ece-869a-689a443eb2b5",
   "metadata": {},
   "source": [
    "## Vectorize()"
   ]
  },
  {
   "cell_type": "markdown",
   "id": "40bd9e5d-9337-4fda-a292-6f8f2b279b15",
   "metadata": {},
   "source": [
    "It can automatically create a vectorized version of\n",
    "your function.\n",
    "• Example: create a vsumsq() function that is fully\n",
    "vectorized as follows.\n",
    "> vsumsq <- Vectorize(sumsq, c(\"mu\", \"sigma\"))\n",
    "> vsumsq(1:10, 1:10, x)\n",
    "[1] 196.2289 121.4765 108.3981 104.0788 102.1975 101.2393 100.6998\n"
   ]
  },
  {
   "cell_type": "markdown",
   "id": "1f53cace-940a-4768-a4e9-15451bd296f1",
   "metadata": {
    "jp-MarkdownHeadingCollapsed": true,
    "tags": []
   },
   "source": [
    "# w4 dataframes"
   ]
  },
  {
   "cell_type": "markdown",
   "id": "a777e229-0210-478a-ab63-f18b87810ce8",
   "metadata": {},
   "source": [
    "## Revisit Data frame"
   ]
  },
  {
   "cell_type": "markdown",
   "id": "b7ab1a6d-0335-4c8f-b5c9-94f932463482",
   "metadata": {},
   "source": [
    "- it likes a matrix (rectangular grid)\n",
    "- But unlike matrix, different columns can be of different types\n",
    "- Row names have to be unique"
   ]
  },
  {
   "cell_type": "markdown",
   "id": "4ce0bb91-9f15-49ed-aab1-134b34e660ba",
   "metadata": {},
   "source": [
    "Indexing of data frames is the same as that of vector\n",
    "and matrix >energy[energy$stature== \"lean\",]\n",
    "• Sorting rows by order()\n",
    ">energy[order(energy$expend),]\n",
    ">energy[with(energy, order(stature, expend)),]\n",
    "• Selecting subsets of data by subset()\n",
    ">subset(energy, stature==\"lean\" & expend>8)\n",
    "• Splitting data\n",
    ">split(energy$expend, energy$stature)"
   ]
  },
  {
   "cell_type": "markdown",
   "id": "dc00676c-88f2-4996-a95c-52027a500afc",
   "metadata": {},
   "source": [
    "## Slicing"
   ]
  },
  {
   "cell_type": "markdown",
   "id": "867b9797-7c0f-4688-b224-0d9b8d691909",
   "metadata": {},
   "source": [
    "Column Slicing\n",
    "\n",
    "Numeric Indexing\n",
    "– > mtcars[1]\n",
    "Name Indexing\n",
    "– > mtcars[\"mpg\"]\n",
    "– > mtcars[c(\"mpg\", \"hp\")]"
   ]
  },
  {
   "cell_type": "markdown",
   "id": "89bf894f-ff17-46d5-823e-88e09bea7f17",
   "metadata": {},
   "source": [
    "Row Slicing\n",
    "\n",
    "Numeric Indexing\n",
    "– > mtcars[2,]\n",
    "– > mtcars[c(1,3),] \n",
    "Name Indexing\n",
    "– > mtcars[\"Mazda RX4 Wag\",] \n",
    "– > mtcars[c(\"Mazda RX4\", \"Datsun 710\"),]\n",
    "Row Slicing\n",
    "Logical Indexing\n",
    "– > low_mpg = mtcars$mpg < 22\n",
    "> low_mpg\n",
    "\n",
    "[1] TRUE TRUE FALSE...\n",
    "\n",
    "> mtcars[low_mpg,] \n",
    "\n",
    "– > mtcars[low_mpg,]$wt \n"
   ]
  },
  {
   "cell_type": "markdown",
   "id": "1dae4aa9-4ddd-4cd3-99f8-716b8ef7dceb",
   "metadata": {},
   "source": [
    "## Important dplyr verbs"
   ]
  },
  {
   "cell_type": "markdown",
   "id": "b499d602-8f7c-4559-b351-45853dbd201b",
   "metadata": {},
   "source": [
    "dplyr verbs Description\n",
    "\n",
    "1. select() select columns\n",
    "2. filter() filter rows\n",
    "3. arrange() re-order or arrange rows\n",
    "4. mutate() create new columns\n",
    "5. summarise() summarise values\n",
    "6. group_by() allows for group operations in the “splitapply-combine” concept\n"
   ]
  },
  {
   "cell_type": "markdown",
   "id": "54dcc97e-f247-47fb-8ebf-6750f0897001",
   "metadata": {},
   "source": [
    "## Introduction to dplyr"
   ]
  },
  {
   "cell_type": "markdown",
   "id": "70cb6a53-2cde-4839-a5bc-188a88ae3a8a",
   "metadata": {},
   "source": [
    "The dplyr package was developed by Hadley\n",
    "Wickham of RStudio and is an optimized and\n",
    "distilled version of his plyr package.\n",
    "\n",
    "- Provides a “grammar” (in particular, verbs) for\n",
    "data manipulation and for operating on data\n",
    "frames.\n",
    "- Provides an abstraction for data manipulation\n",
    "that previously did not exist\n",
    "- dplyr functions are very fast, as many key\n",
    "operations are coded in C++."
   ]
  },
  {
   "cell_type": "markdown",
   "id": "d0ed50af-8b98-4d53-8afd-0aaa40bb24e5",
   "metadata": {},
   "source": [
    "## Common dplyr Function Properties"
   ]
  },
  {
   "cell_type": "markdown",
   "id": "de1b471d-f77f-4dd5-a1af-71f42a943ca8",
   "metadata": {},
   "source": [
    "\n",
    "The first argument is a data frame.\n",
    "- The subsequent arguments describe what to do with the\n",
    "data frame specified in the first argument, and you can\n",
    "refer to columns in the data frame directly without using\n",
    "the $ operator (just use the column names).\n",
    "- The return result of a function is a new data frame\n",
    "- Data frames must be properly formatted and annotated for this to all be useful. \n",
    "\n",
    "In particular, the data must be tidy.In short, there should be one observation per row, and each column should represent a feature or characteristic of that\n",
    "observation."
   ]
  },
  {
   "cell_type": "markdown",
   "id": "8a193bee-fc7c-4e06-b8d6-6392a68b561f",
   "metadata": {},
   "source": [
    "## Example Data"
   ]
  },
  {
   "cell_type": "markdown",
   "id": "f3d6fb1e-a9b2-488e-b5ad-837eb3e42948",
   "metadata": {
    "jp-MarkdownHeadingCollapsed": true,
    "tags": []
   },
   "source": [
    "- #install.packages(\"dplyr\") install it\n",
    "- library(\"dplyr\")\n",
    "- msleep <- read.csv(“msleep_ggplot2.csv\")\n",
    "\n",
    "Data Description"
   ]
  },
  {
   "cell_type": "markdown",
   "id": "0adaaf98-3754-4ef7-bd3d-d0281f3178b6",
   "metadata": {},
   "source": [
    "## dplyr verbs in action"
   ]
  },
  {
   "cell_type": "markdown",
   "id": "29381c37-23d1-493d-9625-737cebfecfbf",
   "metadata": {},
   "source": [
    "Selecting rows using filter()\n",
    "- filter(mtcars, cyl == 8)\n",
    "- filter(mtcars, cyl < 6)\n",
    "- Multiple criteria\n",
    "- filter(mtcars, cyl < 6 & vs == 1)\n",
    "- filter(mtcars, cyl < 6 | vs == 1)\n",
    "- Multiple arguments are equivalent to and\n",
    "- filter(mtcars, cyl < 6, vs == 1) #see … in ?filter"
   ]
  },
  {
   "cell_type": "markdown",
   "id": "556a059c-d535-4f59-a95a-afd5aa980329",
   "metadata": {},
   "source": [
    "## "
   ]
  },
  {
   "cell_type": "markdown",
   "id": "f17ba3b4-4c61-4fd4-a29d-986113fee1f7",
   "metadata": {
    "jp-MarkdownHeadingCollapsed": true,
    "tags": []
   },
   "source": [
    "##  Difference between subset and filter"
   ]
  },
  {
   "cell_type": "markdown",
   "id": "d42bc621-d874-4658-b2a0-86b52b02d3af",
   "metadata": {},
   "source": [
    "They produce the same result\n",
    "- subset is that it is part of base R and doesn't require\n",
    "any additional packages\n",
    "- filter is a function of dplyr package\n",
    "- subset is faster with small sample size\n",
    "- filter is faster with large sample size (> 15000 records)\n"
   ]
  },
  {
   "cell_type": "markdown",
   "id": "b6af1f24-1a3f-491a-b56d-32f1e08ddd90",
   "metadata": {
    "jp-MarkdownHeadingCollapsed": true,
    "tags": []
   },
   "source": [
    "## Some additional options to select columns"
   ]
  },
  {
   "cell_type": "markdown",
   "id": "e1da9b76-ffa8-4977-b27d-3c46cdebdcbd",
   "metadata": {},
   "source": [
    "\n",
    "- ends_with() = Select columns that end with a character string\n",
    "- contains() = Select columns that contain a character string\n",
    "- matches() = Select columns that match a regular expression\n",
    "- one_of() = Select columns names that are from a group of names\n",
    "\n",
    "- head(select(msleep, ends_with(\"e\")))\n",
    "- head(select(msleep, matches(\"e$\")))\n",
    "- head(select(msleep, contains(\"_\")))\n",
    "- head(select(msleep, matches(\"_\")))\n",
    "- head(select(msleep, one_of(\"name\", \"order\")))\n"
   ]
  },
  {
   "cell_type": "markdown",
   "id": "293b1e99-af54-42f5-b71a-f86a1e00036d",
   "metadata": {
    "jp-MarkdownHeadingCollapsed": true,
    "tags": []
   },
   "source": [
    "## arrange()\n"
   ]
  },
  {
   "cell_type": "markdown",
   "id": "e100724c-317c-4753-95f3-5c53b1f56e50",
   "metadata": {},
   "source": [
    "The arrange() function is used to reorder rows of a\n",
    "data frame according to one/some of the variables/-\n",
    "columns\n",
    "- arrange(mtcars, cyl, disp)\n",
    "- arrange(mtcars, desc(disp"
   ]
  },
  {
   "cell_type": "markdown",
   "id": "0bb605ca-3f61-48a6-aece-1c0d52b4fa41",
   "metadata": {
    "jp-MarkdownHeadingCollapsed": true,
    "tags": []
   },
   "source": [
    "## rename()\n"
   ]
  },
  {
   "cell_type": "markdown",
   "id": "637221e2-3c51-4ca8-a075-28ef3c95555f",
   "metadata": {},
   "source": [
    "Renaming a variable in a data frame in R is surprisingly hard to do! The rename() function is designed to make this process easier.\n",
    "- rename(data, new.name=old.name)\n",
    "- Example\n",
    "- rename(mtcars, Weight=wt)\n",
    "- rename(mtcars, wt=Weight) #error\n",
    "                      "
   ]
  },
  {
   "cell_type": "markdown",
   "id": "69adfaca-f4ed-43ab-bd54-1b7f6770fb82",
   "metadata": {
    "jp-MarkdownHeadingCollapsed": true,
    "tags": []
   },
   "source": [
    "## mutate() / transmute()"
   ]
  },
  {
   "cell_type": "markdown",
   "id": "a0b21921-6492-4f4d-976b-ba4fb8866d4e",
   "metadata": {},
   "source": [
    "- mutate() computes transformations of variables in a data frame\n",
    "- Often, you want to create new variables that are derived from existing variables.\n",
    "\n",
    "> head(mutate(msleep, sleep_total_min = sleep_total * 60))\n",
    "\n",
    "- transmute() function, the same as mutate() but then drops all non-transformed variables.\n",
    "\n",
    "> head(transmute(msleep, sleep_total_min = sleep_total * 60))             "
   ]
  },
  {
   "cell_type": "markdown",
   "id": "54af5279-4820-414a-a2c4-32e5581ab14c",
   "metadata": {
    "jp-MarkdownHeadingCollapsed": true,
    "tags": []
   },
   "source": [
    "## group_by()"
   ]
  },
  {
   "cell_type": "markdown",
   "id": "302893c7-5bbc-4768-848d-9afb1c0a8d6a",
   "metadata": {},
   "source": [
    "generate summary statistics from the data frame\n",
    "within strata defined by a variable.\n",
    ">by_cyl <- group_by(mtcars, cyl)\n",
    ">summarise(by_cyl, mean(disp), mean(hp))\n",
    ">by_vore <- group_by(msleep, vore)\n",
    "> summarise(by_vore, total=mean(sleep_total),\n",
    "avg_sleep_rem=mean(sleep_rem, na.rm=T))"
   ]
  },
  {
   "cell_type": "markdown",
   "id": "6b0d9ddf-90ff-4ec7-9d90-69c5b256f647",
   "metadata": {
    "jp-MarkdownHeadingCollapsed": true,
    "tags": []
   },
   "source": [
    "## Pipe operator %>%"
   ]
  },
  {
   "cell_type": "markdown",
   "id": "a83bab26-f615-4d53-9271-7114e8e4a62d",
   "metadata": {},
   "source": [
    "Passing the result of one step as input for the next\n",
    "step in a sequence of operations.\n",
    "- Easy to read\n",
    "- Syntax\n",
    "- lhs %>% rhs # pipe syntax for rhs(lhs)\n",
    "- lhs %>% rhs(a = 1) # pipe syntax for rhs(lhs, a = 1)\n",
    "- lhs %>% rhs(a = 1, b = .) # pipe syntax for rhs(a = 1, b = lhs)\n",
    "- third(second(first(x)))\n",
    "vs\n",
    "- first(x) %>% second %>% third"
   ]
  },
  {
   "cell_type": "markdown",
   "id": "efa0dfc9-87e2-4a35-ac74-0c3fb4805a34",
   "metadata": {
    "jp-MarkdownHeadingCollapsed": true,
    "tags": []
   },
   "source": [
    "## %>% example"
   ]
  },
  {
   "cell_type": "markdown",
   "id": "f63c1093-38e9-49b6-9e97-cb5d7280bee0",
   "metadata": {},
   "source": [
    "select three columns from msleep, arrange the rows by the taxonomic order and then arrange the rows by sleep_total."
   ]
  },
  {
   "cell_type": "markdown",
   "id": "966c1ad6-8b74-4347-a1de-464a9ec3d134",
   "metadata": {},
   "source": [
    "Finally show the head of the final data frame\n",
    "\n",
    "- msleep %>% select(name, order, sleep_total) %>%\n",
    "arrange(order, sleep_total) %>% head "
   ]
  },
  {
   "cell_type": "markdown",
   "id": "97356d02-2416-42eb-b6b1-24d46a4fd54c",
   "metadata": {},
   "source": [
    "- Same as above, except here we filter the rows for mammals that sleep for 16 or more hours instead of showing the head of the final data frame\n",
    "\n",
    "- msleep %>% select(name, order, sleep_total) %>% arrange(order, sleep_total) %>% filter(sleep_total >= 16)\n",
    "- msleep %>% group_by(order) %>% summarise(avg_sleep = mean(sleep_total), min_sleep = min(sleep_total), max_sleep = max(sleep_total), total = n()) # n() (returns the length of vector)"
   ]
  },
  {
   "cell_type": "markdown",
   "id": "ba51f837-61b6-4252-918f-41e96eafd95c",
   "metadata": {
    "jp-MarkdownHeadingCollapsed": true,
    "tags": []
   },
   "source": [
    "## reshape2 package"
   ]
  },
  {
   "cell_type": "markdown",
   "id": "01d7bf96-026c-4344-8946-83250f6b2ea8",
   "metadata": {},
   "source": [
    "Reshape2 is a reboot of the reshape package, also\n",
    "developed by Hadley Wickham\n",
    "\n",
    "- It makes it easy to transform data between wide and\n",
    "long formats.\n",
    "- Much more focused and much much faster.\n",
    "- install.packages(\"reshape2\")"
   ]
  },
  {
   "cell_type": "markdown",
   "id": "8fc1b15b-9e94-43ab-9a53-3ff138181cc7",
   "metadata": {
    "jp-MarkdownHeadingCollapsed": true,
    "tags": []
   },
   "source": [
    "## Two major functions"
   ]
  },
  {
   "cell_type": "markdown",
   "id": "9ca66c30-aef2-472b-bdc4-ff32b79b4953",
   "metadata": {},
   "source": [
    "- melt: takes wide-format data and melts it into longformat data.\n",
    "- cast: takes long-format data and casts it into wideformat data.\n",
    "Think of working with metal: if you melt metal, it drips\n",
    "and becomes long. If you cast it into a mould, it\n",
    "becomes wide."
   ]
  },
  {
   "cell_type": "markdown",
   "id": "ca46265e-f865-45e3-9e42-3ca78758b283",
   "metadata": {
    "jp-MarkdownHeadingCollapsed": true,
    "tags": []
   },
   "source": [
    "## melt"
   ]
  },
  {
   "cell_type": "markdown",
   "id": "f1a6d6fa-0386-40ed-8c3f-a3c4f124abe0",
   "metadata": {},
   "source": [
    "names(airquality) <- tolower(names(airquality))\n",
    "head(airquality)\n",
    "- By default, melt has assumed that all columns with numeric values are variables with values.\n",
    "\n",
    "> aql <- melt(airquality)\n",
    "head(aql)\n",
    "tail(aql)\n",
    "\n",
    "Specify “ID variables”, the variables that identify individual rows of data.\n",
    "> aql <- melt(airquality, id.vars = c(\"month\", \"day\"))\n",
    "head(aql)\n",
    "subset(airquality, month==5 & day==1)\n",
    "subset(aql, month==5 & day==1)"
   ]
  },
  {
   "cell_type": "markdown",
   "id": "8b31f89b-8728-4c16-bf1f-d36584a8722c",
   "metadata": {
    "jp-MarkdownHeadingCollapsed": true,
    "tags": []
   },
   "source": [
    "## What makes data wide or long?\n"
   ]
  },
  {
   "cell_type": "markdown",
   "id": "bcc334a8-4cb2-4e78-a7de-90c079e7faeb",
   "metadata": {},
   "source": [
    "Wide data has a column for each variable.\n",
    "Wide-format long-format\n",
    "> ozone wind temp\n",
    " 1 23.62 11.623 65.55\n",
    " 2 29.44 10.267 79.10\n",
    " 3 59.12 8.942 83.90\n",
    " 4 59.96 8.794 83.97\n",
    "> variable value\n",
    " 1 ozone 23.615\n",
    " 2 ozone 29.444\n",
    " 3 ozone 59.115\n",
    " 4 ozone 59.962\n",
    " 5 wind 11.623\n",
    " 6 wind 10.267\n",
    " 7 wind 8.942\n",
    " 8 wind 8.794\n",
    " 9 temp 65.548\n",
    " 10 temp 79.100\n",
    " 11 temp 83.903\n",
    " 12 temp 83.968\n",
    "- Long-format data has a column for possible variable types and a column for the values of those variables.\n",
    "- Long-format data isn’t necessarily only two columns.\n",
    "- More commonly used than wideformat: ggplot2 "
   ]
  },
  {
   "cell_type": "markdown",
   "id": "ba848ebd-6703-4535-805d-decaf04edc8c",
   "metadata": {
    "jp-MarkdownHeadingCollapsed": true,
    "tags": []
   },
   "source": [
    "## Summary"
   ]
  },
  {
   "cell_type": "markdown",
   "id": "5ae938c3-99c2-450a-82cc-a4444cc9b6ae",
   "metadata": {},
   "source": [
    "The dplyr package provides a concise set of operations for managing data frames.\n",
    "- With these functions we can do a number of complex operations in just a few lines of code.\n",
    "- In particular, we can often conduct the beginnings of an exploratory analysis with the powerful combination of group_by() and summarize().\n",
    "- dplyr can work with other data frame “backends” such as SQL databases. There is an SQL interface for relational databases via the DBI package\n",
    "- dplyr can be integrated with the data.table package for large fast tables\n",
    "- Both simplify and speed up your data frame management code"
   ]
  },
  {
   "cell_type": "markdown",
   "id": "de9089f0-d957-4475-a305-d885c043225a",
   "metadata": {},
   "source": [
    "## Set column names"
   ]
  },
  {
   "cell_type": "markdown",
   "id": "441f2127-cab6-4fe5-8945-8b2b676180a2",
   "metadata": {},
   "source": [
    "aql <- melt(airquality, id.vars = c(\"month\", \"day\"),\n",
    " variable.name = \"climate_variable\",\n",
    " value.name = \"climate_value\")\n",
    "head(aql)\n",
    "Ex: aql2 <- melt(airquality, id.vars = c(\"month\", \"day\",\n",
    "\"ozone\"))\n",
    "cast\n",
    "dcast: work with data.frame objects; acast: return\n",
    "a vector, matrix, or array\n",
    "- dcast uses a formula to describe the shape of the\n",
    "data.\n",
    "- The arguments on the left refer to the ID variables and the arguments on the right refer to the measured variables.\n",
    "- Coming up with the right formula can take some trial and error at first. So, if you’re stuck don’t feel bad about just experimenting with formulas."
   ]
  },
  {
   "cell_type": "markdown",
   "id": "2452d1b1-5758-44ad-88a3-e2ac1628f2a4",
   "metadata": {
    "jp-MarkdownHeadingCollapsed": true,
    "tags": []
   },
   "source": [
    "## cast"
   ]
  },
  {
   "cell_type": "markdown",
   "id": "aa6ea80a-57e9-49d0-a755-8fa113bca058",
   "metadata": {},
   "source": [
    "aql <- melt(airquality, id.vars = c(\"month\", \"day\"))\n",
    "aqw <- dcast(aql, month + day ~ variable)\n",
    "head(aqw)\n",
    "head(airquality) # original data\n",
    "id.vars is like the composite key in database"
   ]
  },
  {
   "cell_type": "markdown",
   "id": "fcfe292c-2c77-4353-a7aa-5b9bc1dfe642",
   "metadata": {
    "jp-MarkdownHeadingCollapsed": true,
    "tags": []
   },
   "source": [
    "## More than one value per data cell"
   ]
  },
  {
   "cell_type": "markdown",
   "id": "697a176e-990b-4145-a754-4eb527b53e85",
   "metadata": {},
   "source": [
    "One confusing “mistake” you might make is casting\n",
    "a dataset in which there is more than one value per\n",
    "data cell.\n",
    "- Example:\n",
    "dcast(aql, month ~ variable)\n",
    "When you run this in R, you’ll notice the warning\n",
    "message:\n",
    "Aggregation function missing: defaulting to length"
   ]
  },
  {
   "cell_type": "markdown",
   "id": "e81561f0-1919-4456-a6ad-51f679f7f0bf",
   "metadata": {
    "jp-MarkdownHeadingCollapsed": true,
    "tags": []
   },
   "source": [
    "## Aggregate the data"
   ]
  },
  {
   "cell_type": "markdown",
   "id": "a0be22d9-c582-44d2-81c0-aa89ad8a48eb",
   "metadata": {},
   "source": [
    "> dcast(aql, month ~ variable, fun.aggregate =\n",
    "mean, na.rm = TRUE)\n",
    "- Unlike melt, you can compute summaries for rows and columns, subset the columns, and fill in missing cells in one call to dcast."
   ]
  }
 ],
 "metadata": {
  "kernelspec": {
   "display_name": "R",
   "language": "R",
   "name": "ir"
  },
  "language_info": {
   "codemirror_mode": "r",
   "file_extension": ".r",
   "mimetype": "text/x-r-source",
   "name": "R",
   "pygments_lexer": "r",
   "version": "4.0.2"
  }
 },
 "nbformat": 4,
 "nbformat_minor": 5
}

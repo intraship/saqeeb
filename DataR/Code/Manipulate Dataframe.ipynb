{
 "cells": [
  {
   "cell_type": "code",
   "execution_count": 1,
   "metadata": {},
   "outputs": [
    {
     "data": {
      "text/html": [
       "TRUE"
      ],
      "text/latex": [
       "TRUE"
      ],
      "text/markdown": [
       "TRUE"
      ],
      "text/plain": [
       "[1] TRUE"
      ]
     },
     "metadata": {},
     "output_type": "display_data"
    }
   ],
   "source": [
    "\"a\" < \"A\""
   ]
  },
  {
   "cell_type": "code",
   "execution_count": 2,
   "metadata": {},
   "outputs": [
    {
     "name": "stderr",
     "output_type": "stream",
     "text": [
      "Warning message:\n",
      "\"package 'dplyr' was built under R version 4.1.3\"\n",
      "\n",
      "Attaching package: 'dplyr'\n",
      "\n",
      "\n",
      "The following objects are masked from 'package:stats':\n",
      "\n",
      "    filter, lag\n",
      "\n",
      "\n",
      "The following objects are masked from 'package:base':\n",
      "\n",
      "    intersect, setdiff, setequal, union\n",
      "\n",
      "\n"
     ]
    }
   ],
   "source": [
    "library(dplyr)"
   ]
  },
  {
   "cell_type": "code",
   "execution_count": 3,
   "metadata": {},
   "outputs": [
    {
     "data": {
      "text/html": [
       "<table class=\"dataframe\">\n",
       "<caption>A data.frame: 6 × 11</caption>\n",
       "<thead>\n",
       "\t<tr><th></th><th scope=col>mpg</th><th scope=col>cyl</th><th scope=col>disp</th><th scope=col>hp</th><th scope=col>drat</th><th scope=col>wt</th><th scope=col>qsec</th><th scope=col>vs</th><th scope=col>am</th><th scope=col>gear</th><th scope=col>carb</th></tr>\n",
       "\t<tr><th></th><th scope=col>&lt;dbl&gt;</th><th scope=col>&lt;dbl&gt;</th><th scope=col>&lt;dbl&gt;</th><th scope=col>&lt;dbl&gt;</th><th scope=col>&lt;dbl&gt;</th><th scope=col>&lt;dbl&gt;</th><th scope=col>&lt;dbl&gt;</th><th scope=col>&lt;dbl&gt;</th><th scope=col>&lt;dbl&gt;</th><th scope=col>&lt;dbl&gt;</th><th scope=col>&lt;dbl&gt;</th></tr>\n",
       "</thead>\n",
       "<tbody>\n",
       "\t<tr><th scope=row>Mazda RX4</th><td>21.0</td><td>6</td><td>160</td><td>110</td><td>3.90</td><td>2.620</td><td>16.46</td><td>0</td><td>1</td><td>4</td><td>4</td></tr>\n",
       "\t<tr><th scope=row>Mazda RX4 Wag</th><td>21.0</td><td>6</td><td>160</td><td>110</td><td>3.90</td><td>2.875</td><td>17.02</td><td>0</td><td>1</td><td>4</td><td>4</td></tr>\n",
       "\t<tr><th scope=row>Datsun 710</th><td>22.8</td><td>4</td><td>108</td><td> 93</td><td>3.85</td><td>2.320</td><td>18.61</td><td>1</td><td>1</td><td>4</td><td>1</td></tr>\n",
       "\t<tr><th scope=row>Hornet 4 Drive</th><td>21.4</td><td>6</td><td>258</td><td>110</td><td>3.08</td><td>3.215</td><td>19.44</td><td>1</td><td>0</td><td>3</td><td>1</td></tr>\n",
       "\t<tr><th scope=row>Hornet Sportabout</th><td>18.7</td><td>8</td><td>360</td><td>175</td><td>3.15</td><td>3.440</td><td>17.02</td><td>0</td><td>0</td><td>3</td><td>2</td></tr>\n",
       "\t<tr><th scope=row>Valiant</th><td>18.1</td><td>6</td><td>225</td><td>105</td><td>2.76</td><td>3.460</td><td>20.22</td><td>1</td><td>0</td><td>3</td><td>1</td></tr>\n",
       "</tbody>\n",
       "</table>\n"
      ],
      "text/latex": [
       "A data.frame: 6 × 11\n",
       "\\begin{tabular}{r|lllllllllll}\n",
       "  & mpg & cyl & disp & hp & drat & wt & qsec & vs & am & gear & carb\\\\\n",
       "  & <dbl> & <dbl> & <dbl> & <dbl> & <dbl> & <dbl> & <dbl> & <dbl> & <dbl> & <dbl> & <dbl>\\\\\n",
       "\\hline\n",
       "\tMazda RX4 & 21.0 & 6 & 160 & 110 & 3.90 & 2.620 & 16.46 & 0 & 1 & 4 & 4\\\\\n",
       "\tMazda RX4 Wag & 21.0 & 6 & 160 & 110 & 3.90 & 2.875 & 17.02 & 0 & 1 & 4 & 4\\\\\n",
       "\tDatsun 710 & 22.8 & 4 & 108 &  93 & 3.85 & 2.320 & 18.61 & 1 & 1 & 4 & 1\\\\\n",
       "\tHornet 4 Drive & 21.4 & 6 & 258 & 110 & 3.08 & 3.215 & 19.44 & 1 & 0 & 3 & 1\\\\\n",
       "\tHornet Sportabout & 18.7 & 8 & 360 & 175 & 3.15 & 3.440 & 17.02 & 0 & 0 & 3 & 2\\\\\n",
       "\tValiant & 18.1 & 6 & 225 & 105 & 2.76 & 3.460 & 20.22 & 1 & 0 & 3 & 1\\\\\n",
       "\\end{tabular}\n"
      ],
      "text/markdown": [
       "\n",
       "A data.frame: 6 × 11\n",
       "\n",
       "| <!--/--> | mpg &lt;dbl&gt; | cyl &lt;dbl&gt; | disp &lt;dbl&gt; | hp &lt;dbl&gt; | drat &lt;dbl&gt; | wt &lt;dbl&gt; | qsec &lt;dbl&gt; | vs &lt;dbl&gt; | am &lt;dbl&gt; | gear &lt;dbl&gt; | carb &lt;dbl&gt; |\n",
       "|---|---|---|---|---|---|---|---|---|---|---|---|\n",
       "| Mazda RX4 | 21.0 | 6 | 160 | 110 | 3.90 | 2.620 | 16.46 | 0 | 1 | 4 | 4 |\n",
       "| Mazda RX4 Wag | 21.0 | 6 | 160 | 110 | 3.90 | 2.875 | 17.02 | 0 | 1 | 4 | 4 |\n",
       "| Datsun 710 | 22.8 | 4 | 108 |  93 | 3.85 | 2.320 | 18.61 | 1 | 1 | 4 | 1 |\n",
       "| Hornet 4 Drive | 21.4 | 6 | 258 | 110 | 3.08 | 3.215 | 19.44 | 1 | 0 | 3 | 1 |\n",
       "| Hornet Sportabout | 18.7 | 8 | 360 | 175 | 3.15 | 3.440 | 17.02 | 0 | 0 | 3 | 2 |\n",
       "| Valiant | 18.1 | 6 | 225 | 105 | 2.76 | 3.460 | 20.22 | 1 | 0 | 3 | 1 |\n",
       "\n"
      ],
      "text/plain": [
       "                  mpg  cyl disp hp  drat wt    qsec  vs am gear carb\n",
       "Mazda RX4         21.0 6   160  110 3.90 2.620 16.46 0  1  4    4   \n",
       "Mazda RX4 Wag     21.0 6   160  110 3.90 2.875 17.02 0  1  4    4   \n",
       "Datsun 710        22.8 4   108   93 3.85 2.320 18.61 1  1  4    1   \n",
       "Hornet 4 Drive    21.4 6   258  110 3.08 3.215 19.44 1  0  3    1   \n",
       "Hornet Sportabout 18.7 8   360  175 3.15 3.440 17.02 0  0  3    2   \n",
       "Valiant           18.1 6   225  105 2.76 3.460 20.22 1  0  3    1   "
      ]
     },
     "metadata": {},
     "output_type": "display_data"
    }
   ],
   "source": [
    "head(mtcars)"
   ]
  },
  {
   "cell_type": "code",
   "execution_count": 4,
   "metadata": {},
   "outputs": [
    {
     "data": {
      "text/html": [
       "6"
      ],
      "text/latex": [
       "6"
      ],
      "text/markdown": [
       "6"
      ],
      "text/plain": [
       "[1] 6"
      ]
     },
     "metadata": {},
     "output_type": "display_data"
    }
   ],
   "source": [
    "mtcars[1, 2] "
   ]
  },
  {
   "cell_type": "code",
   "execution_count": 5,
   "metadata": {
    "scrolled": true
   },
   "outputs": [
    {
     "data": {
      "text/html": [
       "6"
      ],
      "text/latex": [
       "6"
      ],
      "text/markdown": [
       "6"
      ],
      "text/plain": [
       "[1] 6"
      ]
     },
     "metadata": {},
     "output_type": "display_data"
    }
   ],
   "source": [
    "mtcars[\"Mazda RX4\", \"cyl\"] "
   ]
  },
  {
   "cell_type": "code",
   "execution_count": 6,
   "metadata": {
    "scrolled": true
   },
   "outputs": [
    {
     "data": {
      "text/html": [
       "32"
      ],
      "text/latex": [
       "32"
      ],
      "text/markdown": [
       "32"
      ],
      "text/plain": [
       "[1] 32"
      ]
     },
     "metadata": {},
     "output_type": "display_data"
    },
    {
     "data": {
      "text/html": [
       "11"
      ],
      "text/latex": [
       "11"
      ],
      "text/markdown": [
       "11"
      ],
      "text/plain": [
       "[1] 11"
      ]
     },
     "metadata": {},
     "output_type": "display_data"
    }
   ],
   "source": [
    "nrow(mtcars) # number of data rows \n",
    "ncol(mtcars) # number of columns"
   ]
  },
  {
   "cell_type": "code",
   "execution_count": 7,
   "metadata": {
    "code_folding": [],
    "scrolled": true
   },
   "outputs": [
    {
     "data": {
      "text/html": [
       "<style>\n",
       ".list-inline {list-style: none; margin:0; padding: 0}\n",
       ".list-inline>li {display: inline-block}\n",
       ".list-inline>li:not(:last-child)::after {content: \"\\00b7\"; padding: 0 .5ex}\n",
       "</style>\n",
       "<ol class=list-inline><li>21</li><li>21</li><li>22.8</li><li>21.4</li><li>18.7</li><li>18.1</li><li>14.3</li><li>24.4</li><li>22.8</li><li>19.2</li><li>17.8</li><li>16.4</li><li>17.3</li><li>15.2</li><li>10.4</li><li>10.4</li><li>14.7</li><li>32.4</li><li>30.4</li><li>33.9</li><li>21.5</li><li>15.5</li><li>15.2</li><li>13.3</li><li>19.2</li><li>27.3</li><li>26</li><li>30.4</li><li>15.8</li><li>19.7</li><li>15</li><li>21.4</li></ol>\n"
      ],
      "text/latex": [
       "\\begin{enumerate*}\n",
       "\\item 21\n",
       "\\item 21\n",
       "\\item 22.8\n",
       "\\item 21.4\n",
       "\\item 18.7\n",
       "\\item 18.1\n",
       "\\item 14.3\n",
       "\\item 24.4\n",
       "\\item 22.8\n",
       "\\item 19.2\n",
       "\\item 17.8\n",
       "\\item 16.4\n",
       "\\item 17.3\n",
       "\\item 15.2\n",
       "\\item 10.4\n",
       "\\item 10.4\n",
       "\\item 14.7\n",
       "\\item 32.4\n",
       "\\item 30.4\n",
       "\\item 33.9\n",
       "\\item 21.5\n",
       "\\item 15.5\n",
       "\\item 15.2\n",
       "\\item 13.3\n",
       "\\item 19.2\n",
       "\\item 27.3\n",
       "\\item 26\n",
       "\\item 30.4\n",
       "\\item 15.8\n",
       "\\item 19.7\n",
       "\\item 15\n",
       "\\item 21.4\n",
       "\\end{enumerate*}\n"
      ],
      "text/markdown": [
       "1. 21\n",
       "2. 21\n",
       "3. 22.8\n",
       "4. 21.4\n",
       "5. 18.7\n",
       "6. 18.1\n",
       "7. 14.3\n",
       "8. 24.4\n",
       "9. 22.8\n",
       "10. 19.2\n",
       "11. 17.8\n",
       "12. 16.4\n",
       "13. 17.3\n",
       "14. 15.2\n",
       "15. 10.4\n",
       "16. 10.4\n",
       "17. 14.7\n",
       "18. 32.4\n",
       "19. 30.4\n",
       "20. 33.9\n",
       "21. 21.5\n",
       "22. 15.5\n",
       "23. 15.2\n",
       "24. 13.3\n",
       "25. 19.2\n",
       "26. 27.3\n",
       "27. 26\n",
       "28. 30.4\n",
       "29. 15.8\n",
       "30. 19.7\n",
       "31. 15\n",
       "32. 21.4\n",
       "\n",
       "\n"
      ],
      "text/plain": [
       " [1] 21.0 21.0 22.8 21.4 18.7 18.1 14.3 24.4 22.8 19.2 17.8 16.4 17.3 15.2 10.4\n",
       "[16] 10.4 14.7 32.4 30.4 33.9 21.5 15.5 15.2 13.3 19.2 27.3 26.0 30.4 15.8 19.7\n",
       "[31] 15.0 21.4"
      ]
     },
     "metadata": {},
     "output_type": "display_data"
    }
   ],
   "source": [
    "mtcars[[1]] "
   ]
  },
  {
   "cell_type": "code",
   "execution_count": 8,
   "metadata": {
    "scrolled": true
   },
   "outputs": [
    {
     "data": {
      "text/html": [
       "<style>\n",
       ".list-inline {list-style: none; margin:0; padding: 0}\n",
       ".list-inline>li {display: inline-block}\n",
       ".list-inline>li:not(:last-child)::after {content: \"\\00b7\"; padding: 0 .5ex}\n",
       "</style>\n",
       "<ol class=list-inline><li>21</li><li>21</li><li>22.8</li><li>21.4</li><li>18.7</li><li>18.1</li><li>14.3</li><li>24.4</li><li>22.8</li><li>19.2</li><li>17.8</li><li>16.4</li><li>17.3</li><li>15.2</li><li>10.4</li><li>10.4</li><li>14.7</li><li>32.4</li><li>30.4</li><li>33.9</li><li>21.5</li><li>15.5</li><li>15.2</li><li>13.3</li><li>19.2</li><li>27.3</li><li>26</li><li>30.4</li><li>15.8</li><li>19.7</li><li>15</li><li>21.4</li></ol>\n"
      ],
      "text/latex": [
       "\\begin{enumerate*}\n",
       "\\item 21\n",
       "\\item 21\n",
       "\\item 22.8\n",
       "\\item 21.4\n",
       "\\item 18.7\n",
       "\\item 18.1\n",
       "\\item 14.3\n",
       "\\item 24.4\n",
       "\\item 22.8\n",
       "\\item 19.2\n",
       "\\item 17.8\n",
       "\\item 16.4\n",
       "\\item 17.3\n",
       "\\item 15.2\n",
       "\\item 10.4\n",
       "\\item 10.4\n",
       "\\item 14.7\n",
       "\\item 32.4\n",
       "\\item 30.4\n",
       "\\item 33.9\n",
       "\\item 21.5\n",
       "\\item 15.5\n",
       "\\item 15.2\n",
       "\\item 13.3\n",
       "\\item 19.2\n",
       "\\item 27.3\n",
       "\\item 26\n",
       "\\item 30.4\n",
       "\\item 15.8\n",
       "\\item 19.7\n",
       "\\item 15\n",
       "\\item 21.4\n",
       "\\end{enumerate*}\n"
      ],
      "text/markdown": [
       "1. 21\n",
       "2. 21\n",
       "3. 22.8\n",
       "4. 21.4\n",
       "5. 18.7\n",
       "6. 18.1\n",
       "7. 14.3\n",
       "8. 24.4\n",
       "9. 22.8\n",
       "10. 19.2\n",
       "11. 17.8\n",
       "12. 16.4\n",
       "13. 17.3\n",
       "14. 15.2\n",
       "15. 10.4\n",
       "16. 10.4\n",
       "17. 14.7\n",
       "18. 32.4\n",
       "19. 30.4\n",
       "20. 33.9\n",
       "21. 21.5\n",
       "22. 15.5\n",
       "23. 15.2\n",
       "24. 13.3\n",
       "25. 19.2\n",
       "26. 27.3\n",
       "27. 26\n",
       "28. 30.4\n",
       "29. 15.8\n",
       "30. 19.7\n",
       "31. 15\n",
       "32. 21.4\n",
       "\n",
       "\n"
      ],
      "text/plain": [
       " [1] 21.0 21.0 22.8 21.4 18.7 18.1 14.3 24.4 22.8 19.2 17.8 16.4 17.3 15.2 10.4\n",
       "[16] 10.4 14.7 32.4 30.4 33.9 21.5 15.5 15.2 13.3 19.2 27.3 26.0 30.4 15.8 19.7\n",
       "[31] 15.0 21.4"
      ]
     },
     "metadata": {},
     "output_type": "display_data"
    }
   ],
   "source": [
    "mtcars[[\"mpg\"]] "
   ]
  },
  {
   "cell_type": "code",
   "execution_count": 9,
   "metadata": {
    "scrolled": true
   },
   "outputs": [
    {
     "data": {
      "text/html": [
       "<style>\n",
       ".list-inline {list-style: none; margin:0; padding: 0}\n",
       ".list-inline>li {display: inline-block}\n",
       ".list-inline>li:not(:last-child)::after {content: \"\\00b7\"; padding: 0 .5ex}\n",
       "</style>\n",
       "<ol class=list-inline><li>21</li><li>21</li><li>22.8</li><li>21.4</li><li>18.7</li><li>18.1</li><li>14.3</li><li>24.4</li><li>22.8</li><li>19.2</li><li>17.8</li><li>16.4</li><li>17.3</li><li>15.2</li><li>10.4</li><li>10.4</li><li>14.7</li><li>32.4</li><li>30.4</li><li>33.9</li><li>21.5</li><li>15.5</li><li>15.2</li><li>13.3</li><li>19.2</li><li>27.3</li><li>26</li><li>30.4</li><li>15.8</li><li>19.7</li><li>15</li><li>21.4</li></ol>\n"
      ],
      "text/latex": [
       "\\begin{enumerate*}\n",
       "\\item 21\n",
       "\\item 21\n",
       "\\item 22.8\n",
       "\\item 21.4\n",
       "\\item 18.7\n",
       "\\item 18.1\n",
       "\\item 14.3\n",
       "\\item 24.4\n",
       "\\item 22.8\n",
       "\\item 19.2\n",
       "\\item 17.8\n",
       "\\item 16.4\n",
       "\\item 17.3\n",
       "\\item 15.2\n",
       "\\item 10.4\n",
       "\\item 10.4\n",
       "\\item 14.7\n",
       "\\item 32.4\n",
       "\\item 30.4\n",
       "\\item 33.9\n",
       "\\item 21.5\n",
       "\\item 15.5\n",
       "\\item 15.2\n",
       "\\item 13.3\n",
       "\\item 19.2\n",
       "\\item 27.3\n",
       "\\item 26\n",
       "\\item 30.4\n",
       "\\item 15.8\n",
       "\\item 19.7\n",
       "\\item 15\n",
       "\\item 21.4\n",
       "\\end{enumerate*}\n"
      ],
      "text/markdown": [
       "1. 21\n",
       "2. 21\n",
       "3. 22.8\n",
       "4. 21.4\n",
       "5. 18.7\n",
       "6. 18.1\n",
       "7. 14.3\n",
       "8. 24.4\n",
       "9. 22.8\n",
       "10. 19.2\n",
       "11. 17.8\n",
       "12. 16.4\n",
       "13. 17.3\n",
       "14. 15.2\n",
       "15. 10.4\n",
       "16. 10.4\n",
       "17. 14.7\n",
       "18. 32.4\n",
       "19. 30.4\n",
       "20. 33.9\n",
       "21. 21.5\n",
       "22. 15.5\n",
       "23. 15.2\n",
       "24. 13.3\n",
       "25. 19.2\n",
       "26. 27.3\n",
       "27. 26\n",
       "28. 30.4\n",
       "29. 15.8\n",
       "30. 19.7\n",
       "31. 15\n",
       "32. 21.4\n",
       "\n",
       "\n"
      ],
      "text/plain": [
       " [1] 21.0 21.0 22.8 21.4 18.7 18.1 14.3 24.4 22.8 19.2 17.8 16.4 17.3 15.2 10.4\n",
       "[16] 10.4 14.7 32.4 30.4 33.9 21.5 15.5 15.2 13.3 19.2 27.3 26.0 30.4 15.8 19.7\n",
       "[31] 15.0 21.4"
      ]
     },
     "metadata": {},
     "output_type": "display_data"
    }
   ],
   "source": [
    "mtcars$mpg"
   ]
  },
  {
   "cell_type": "code",
   "execution_count": 10,
   "metadata": {
    "scrolled": true
   },
   "outputs": [
    {
     "data": {
      "text/html": [
       "<style>\n",
       ".list-inline {list-style: none; margin:0; padding: 0}\n",
       ".list-inline>li {display: inline-block}\n",
       ".list-inline>li:not(:last-child)::after {content: \"\\00b7\"; padding: 0 .5ex}\n",
       "</style>\n",
       "<ol class=list-inline><li>21</li><li>21</li><li>22.8</li><li>21.4</li><li>18.7</li><li>18.1</li><li>14.3</li><li>24.4</li><li>22.8</li><li>19.2</li><li>17.8</li><li>16.4</li><li>17.3</li><li>15.2</li><li>10.4</li><li>10.4</li><li>14.7</li><li>32.4</li><li>30.4</li><li>33.9</li><li>21.5</li><li>15.5</li><li>15.2</li><li>13.3</li><li>19.2</li><li>27.3</li><li>26</li><li>30.4</li><li>15.8</li><li>19.7</li><li>15</li><li>21.4</li></ol>\n"
      ],
      "text/latex": [
       "\\begin{enumerate*}\n",
       "\\item 21\n",
       "\\item 21\n",
       "\\item 22.8\n",
       "\\item 21.4\n",
       "\\item 18.7\n",
       "\\item 18.1\n",
       "\\item 14.3\n",
       "\\item 24.4\n",
       "\\item 22.8\n",
       "\\item 19.2\n",
       "\\item 17.8\n",
       "\\item 16.4\n",
       "\\item 17.3\n",
       "\\item 15.2\n",
       "\\item 10.4\n",
       "\\item 10.4\n",
       "\\item 14.7\n",
       "\\item 32.4\n",
       "\\item 30.4\n",
       "\\item 33.9\n",
       "\\item 21.5\n",
       "\\item 15.5\n",
       "\\item 15.2\n",
       "\\item 13.3\n",
       "\\item 19.2\n",
       "\\item 27.3\n",
       "\\item 26\n",
       "\\item 30.4\n",
       "\\item 15.8\n",
       "\\item 19.7\n",
       "\\item 15\n",
       "\\item 21.4\n",
       "\\end{enumerate*}\n"
      ],
      "text/markdown": [
       "1. 21\n",
       "2. 21\n",
       "3. 22.8\n",
       "4. 21.4\n",
       "5. 18.7\n",
       "6. 18.1\n",
       "7. 14.3\n",
       "8. 24.4\n",
       "9. 22.8\n",
       "10. 19.2\n",
       "11. 17.8\n",
       "12. 16.4\n",
       "13. 17.3\n",
       "14. 15.2\n",
       "15. 10.4\n",
       "16. 10.4\n",
       "17. 14.7\n",
       "18. 32.4\n",
       "19. 30.4\n",
       "20. 33.9\n",
       "21. 21.5\n",
       "22. 15.5\n",
       "23. 15.2\n",
       "24. 13.3\n",
       "25. 19.2\n",
       "26. 27.3\n",
       "27. 26\n",
       "28. 30.4\n",
       "29. 15.8\n",
       "30. 19.7\n",
       "31. 15\n",
       "32. 21.4\n",
       "\n",
       "\n"
      ],
      "text/plain": [
       " [1] 21.0 21.0 22.8 21.4 18.7 18.1 14.3 24.4 22.8 19.2 17.8 16.4 17.3 15.2 10.4\n",
       "[16] 10.4 14.7 32.4 30.4 33.9 21.5 15.5 15.2 13.3 19.2 27.3 26.0 30.4 15.8 19.7\n",
       "[31] 15.0 21.4"
      ]
     },
     "metadata": {},
     "output_type": "display_data"
    }
   ],
   "source": [
    "mtcars[, 'mpg']"
   ]
  },
  {
   "cell_type": "code",
   "execution_count": 11,
   "metadata": {
    "scrolled": true
   },
   "outputs": [
    {
     "data": {
      "text/html": [
       "<table class=\"dataframe\">\n",
       "<caption>A data.frame: 32 × 1</caption>\n",
       "<thead>\n",
       "\t<tr><th></th><th scope=col>mpg</th></tr>\n",
       "\t<tr><th></th><th scope=col>&lt;dbl&gt;</th></tr>\n",
       "</thead>\n",
       "<tbody>\n",
       "\t<tr><th scope=row>Mazda RX4</th><td>21.0</td></tr>\n",
       "\t<tr><th scope=row>Mazda RX4 Wag</th><td>21.0</td></tr>\n",
       "\t<tr><th scope=row>Datsun 710</th><td>22.8</td></tr>\n",
       "\t<tr><th scope=row>Hornet 4 Drive</th><td>21.4</td></tr>\n",
       "\t<tr><th scope=row>Hornet Sportabout</th><td>18.7</td></tr>\n",
       "\t<tr><th scope=row>Valiant</th><td>18.1</td></tr>\n",
       "\t<tr><th scope=row>Duster 360</th><td>14.3</td></tr>\n",
       "\t<tr><th scope=row>Merc 240D</th><td>24.4</td></tr>\n",
       "\t<tr><th scope=row>Merc 230</th><td>22.8</td></tr>\n",
       "\t<tr><th scope=row>Merc 280</th><td>19.2</td></tr>\n",
       "\t<tr><th scope=row>Merc 280C</th><td>17.8</td></tr>\n",
       "\t<tr><th scope=row>Merc 450SE</th><td>16.4</td></tr>\n",
       "\t<tr><th scope=row>Merc 450SL</th><td>17.3</td></tr>\n",
       "\t<tr><th scope=row>Merc 450SLC</th><td>15.2</td></tr>\n",
       "\t<tr><th scope=row>Cadillac Fleetwood</th><td>10.4</td></tr>\n",
       "\t<tr><th scope=row>Lincoln Continental</th><td>10.4</td></tr>\n",
       "\t<tr><th scope=row>Chrysler Imperial</th><td>14.7</td></tr>\n",
       "\t<tr><th scope=row>Fiat 128</th><td>32.4</td></tr>\n",
       "\t<tr><th scope=row>Honda Civic</th><td>30.4</td></tr>\n",
       "\t<tr><th scope=row>Toyota Corolla</th><td>33.9</td></tr>\n",
       "\t<tr><th scope=row>Toyota Corona</th><td>21.5</td></tr>\n",
       "\t<tr><th scope=row>Dodge Challenger</th><td>15.5</td></tr>\n",
       "\t<tr><th scope=row>AMC Javelin</th><td>15.2</td></tr>\n",
       "\t<tr><th scope=row>Camaro Z28</th><td>13.3</td></tr>\n",
       "\t<tr><th scope=row>Pontiac Firebird</th><td>19.2</td></tr>\n",
       "\t<tr><th scope=row>Fiat X1-9</th><td>27.3</td></tr>\n",
       "\t<tr><th scope=row>Porsche 914-2</th><td>26.0</td></tr>\n",
       "\t<tr><th scope=row>Lotus Europa</th><td>30.4</td></tr>\n",
       "\t<tr><th scope=row>Ford Pantera L</th><td>15.8</td></tr>\n",
       "\t<tr><th scope=row>Ferrari Dino</th><td>19.7</td></tr>\n",
       "\t<tr><th scope=row>Maserati Bora</th><td>15.0</td></tr>\n",
       "\t<tr><th scope=row>Volvo 142E</th><td>21.4</td></tr>\n",
       "</tbody>\n",
       "</table>\n"
      ],
      "text/latex": [
       "A data.frame: 32 × 1\n",
       "\\begin{tabular}{r|l}\n",
       "  & mpg\\\\\n",
       "  & <dbl>\\\\\n",
       "\\hline\n",
       "\tMazda RX4 & 21.0\\\\\n",
       "\tMazda RX4 Wag & 21.0\\\\\n",
       "\tDatsun 710 & 22.8\\\\\n",
       "\tHornet 4 Drive & 21.4\\\\\n",
       "\tHornet Sportabout & 18.7\\\\\n",
       "\tValiant & 18.1\\\\\n",
       "\tDuster 360 & 14.3\\\\\n",
       "\tMerc 240D & 24.4\\\\\n",
       "\tMerc 230 & 22.8\\\\\n",
       "\tMerc 280 & 19.2\\\\\n",
       "\tMerc 280C & 17.8\\\\\n",
       "\tMerc 450SE & 16.4\\\\\n",
       "\tMerc 450SL & 17.3\\\\\n",
       "\tMerc 450SLC & 15.2\\\\\n",
       "\tCadillac Fleetwood & 10.4\\\\\n",
       "\tLincoln Continental & 10.4\\\\\n",
       "\tChrysler Imperial & 14.7\\\\\n",
       "\tFiat 128 & 32.4\\\\\n",
       "\tHonda Civic & 30.4\\\\\n",
       "\tToyota Corolla & 33.9\\\\\n",
       "\tToyota Corona & 21.5\\\\\n",
       "\tDodge Challenger & 15.5\\\\\n",
       "\tAMC Javelin & 15.2\\\\\n",
       "\tCamaro Z28 & 13.3\\\\\n",
       "\tPontiac Firebird & 19.2\\\\\n",
       "\tFiat X1-9 & 27.3\\\\\n",
       "\tPorsche 914-2 & 26.0\\\\\n",
       "\tLotus Europa & 30.4\\\\\n",
       "\tFord Pantera L & 15.8\\\\\n",
       "\tFerrari Dino & 19.7\\\\\n",
       "\tMaserati Bora & 15.0\\\\\n",
       "\tVolvo 142E & 21.4\\\\\n",
       "\\end{tabular}\n"
      ],
      "text/markdown": [
       "\n",
       "A data.frame: 32 × 1\n",
       "\n",
       "| <!--/--> | mpg &lt;dbl&gt; |\n",
       "|---|---|\n",
       "| Mazda RX4 | 21.0 |\n",
       "| Mazda RX4 Wag | 21.0 |\n",
       "| Datsun 710 | 22.8 |\n",
       "| Hornet 4 Drive | 21.4 |\n",
       "| Hornet Sportabout | 18.7 |\n",
       "| Valiant | 18.1 |\n",
       "| Duster 360 | 14.3 |\n",
       "| Merc 240D | 24.4 |\n",
       "| Merc 230 | 22.8 |\n",
       "| Merc 280 | 19.2 |\n",
       "| Merc 280C | 17.8 |\n",
       "| Merc 450SE | 16.4 |\n",
       "| Merc 450SL | 17.3 |\n",
       "| Merc 450SLC | 15.2 |\n",
       "| Cadillac Fleetwood | 10.4 |\n",
       "| Lincoln Continental | 10.4 |\n",
       "| Chrysler Imperial | 14.7 |\n",
       "| Fiat 128 | 32.4 |\n",
       "| Honda Civic | 30.4 |\n",
       "| Toyota Corolla | 33.9 |\n",
       "| Toyota Corona | 21.5 |\n",
       "| Dodge Challenger | 15.5 |\n",
       "| AMC Javelin | 15.2 |\n",
       "| Camaro Z28 | 13.3 |\n",
       "| Pontiac Firebird | 19.2 |\n",
       "| Fiat X1-9 | 27.3 |\n",
       "| Porsche 914-2 | 26.0 |\n",
       "| Lotus Europa | 30.4 |\n",
       "| Ford Pantera L | 15.8 |\n",
       "| Ferrari Dino | 19.7 |\n",
       "| Maserati Bora | 15.0 |\n",
       "| Volvo 142E | 21.4 |\n",
       "\n"
      ],
      "text/plain": [
       "                    mpg \n",
       "Mazda RX4           21.0\n",
       "Mazda RX4 Wag       21.0\n",
       "Datsun 710          22.8\n",
       "Hornet 4 Drive      21.4\n",
       "Hornet Sportabout   18.7\n",
       "Valiant             18.1\n",
       "Duster 360          14.3\n",
       "Merc 240D           24.4\n",
       "Merc 230            22.8\n",
       "Merc 280            19.2\n",
       "Merc 280C           17.8\n",
       "Merc 450SE          16.4\n",
       "Merc 450SL          17.3\n",
       "Merc 450SLC         15.2\n",
       "Cadillac Fleetwood  10.4\n",
       "Lincoln Continental 10.4\n",
       "Chrysler Imperial   14.7\n",
       "Fiat 128            32.4\n",
       "Honda Civic         30.4\n",
       "Toyota Corolla      33.9\n",
       "Toyota Corona       21.5\n",
       "Dodge Challenger    15.5\n",
       "AMC Javelin         15.2\n",
       "Camaro Z28          13.3\n",
       "Pontiac Firebird    19.2\n",
       "Fiat X1-9           27.3\n",
       "Porsche 914-2       26.0\n",
       "Lotus Europa        30.4\n",
       "Ford Pantera L      15.8\n",
       "Ferrari Dino        19.7\n",
       "Maserati Bora       15.0\n",
       "Volvo 142E          21.4"
      ]
     },
     "metadata": {},
     "output_type": "display_data"
    }
   ],
   "source": [
    "mtcars[1]"
   ]
  },
  {
   "cell_type": "code",
   "execution_count": 12,
   "metadata": {
    "scrolled": true
   },
   "outputs": [
    {
     "data": {
      "text/html": [
       "<table class=\"dataframe\">\n",
       "<caption>A data.frame: 32 × 1</caption>\n",
       "<thead>\n",
       "\t<tr><th></th><th scope=col>mpg</th></tr>\n",
       "\t<tr><th></th><th scope=col>&lt;dbl&gt;</th></tr>\n",
       "</thead>\n",
       "<tbody>\n",
       "\t<tr><th scope=row>Mazda RX4</th><td>21.0</td></tr>\n",
       "\t<tr><th scope=row>Mazda RX4 Wag</th><td>21.0</td></tr>\n",
       "\t<tr><th scope=row>Datsun 710</th><td>22.8</td></tr>\n",
       "\t<tr><th scope=row>Hornet 4 Drive</th><td>21.4</td></tr>\n",
       "\t<tr><th scope=row>Hornet Sportabout</th><td>18.7</td></tr>\n",
       "\t<tr><th scope=row>Valiant</th><td>18.1</td></tr>\n",
       "\t<tr><th scope=row>Duster 360</th><td>14.3</td></tr>\n",
       "\t<tr><th scope=row>Merc 240D</th><td>24.4</td></tr>\n",
       "\t<tr><th scope=row>Merc 230</th><td>22.8</td></tr>\n",
       "\t<tr><th scope=row>Merc 280</th><td>19.2</td></tr>\n",
       "\t<tr><th scope=row>Merc 280C</th><td>17.8</td></tr>\n",
       "\t<tr><th scope=row>Merc 450SE</th><td>16.4</td></tr>\n",
       "\t<tr><th scope=row>Merc 450SL</th><td>17.3</td></tr>\n",
       "\t<tr><th scope=row>Merc 450SLC</th><td>15.2</td></tr>\n",
       "\t<tr><th scope=row>Cadillac Fleetwood</th><td>10.4</td></tr>\n",
       "\t<tr><th scope=row>Lincoln Continental</th><td>10.4</td></tr>\n",
       "\t<tr><th scope=row>Chrysler Imperial</th><td>14.7</td></tr>\n",
       "\t<tr><th scope=row>Fiat 128</th><td>32.4</td></tr>\n",
       "\t<tr><th scope=row>Honda Civic</th><td>30.4</td></tr>\n",
       "\t<tr><th scope=row>Toyota Corolla</th><td>33.9</td></tr>\n",
       "\t<tr><th scope=row>Toyota Corona</th><td>21.5</td></tr>\n",
       "\t<tr><th scope=row>Dodge Challenger</th><td>15.5</td></tr>\n",
       "\t<tr><th scope=row>AMC Javelin</th><td>15.2</td></tr>\n",
       "\t<tr><th scope=row>Camaro Z28</th><td>13.3</td></tr>\n",
       "\t<tr><th scope=row>Pontiac Firebird</th><td>19.2</td></tr>\n",
       "\t<tr><th scope=row>Fiat X1-9</th><td>27.3</td></tr>\n",
       "\t<tr><th scope=row>Porsche 914-2</th><td>26.0</td></tr>\n",
       "\t<tr><th scope=row>Lotus Europa</th><td>30.4</td></tr>\n",
       "\t<tr><th scope=row>Ford Pantera L</th><td>15.8</td></tr>\n",
       "\t<tr><th scope=row>Ferrari Dino</th><td>19.7</td></tr>\n",
       "\t<tr><th scope=row>Maserati Bora</th><td>15.0</td></tr>\n",
       "\t<tr><th scope=row>Volvo 142E</th><td>21.4</td></tr>\n",
       "</tbody>\n",
       "</table>\n"
      ],
      "text/latex": [
       "A data.frame: 32 × 1\n",
       "\\begin{tabular}{r|l}\n",
       "  & mpg\\\\\n",
       "  & <dbl>\\\\\n",
       "\\hline\n",
       "\tMazda RX4 & 21.0\\\\\n",
       "\tMazda RX4 Wag & 21.0\\\\\n",
       "\tDatsun 710 & 22.8\\\\\n",
       "\tHornet 4 Drive & 21.4\\\\\n",
       "\tHornet Sportabout & 18.7\\\\\n",
       "\tValiant & 18.1\\\\\n",
       "\tDuster 360 & 14.3\\\\\n",
       "\tMerc 240D & 24.4\\\\\n",
       "\tMerc 230 & 22.8\\\\\n",
       "\tMerc 280 & 19.2\\\\\n",
       "\tMerc 280C & 17.8\\\\\n",
       "\tMerc 450SE & 16.4\\\\\n",
       "\tMerc 450SL & 17.3\\\\\n",
       "\tMerc 450SLC & 15.2\\\\\n",
       "\tCadillac Fleetwood & 10.4\\\\\n",
       "\tLincoln Continental & 10.4\\\\\n",
       "\tChrysler Imperial & 14.7\\\\\n",
       "\tFiat 128 & 32.4\\\\\n",
       "\tHonda Civic & 30.4\\\\\n",
       "\tToyota Corolla & 33.9\\\\\n",
       "\tToyota Corona & 21.5\\\\\n",
       "\tDodge Challenger & 15.5\\\\\n",
       "\tAMC Javelin & 15.2\\\\\n",
       "\tCamaro Z28 & 13.3\\\\\n",
       "\tPontiac Firebird & 19.2\\\\\n",
       "\tFiat X1-9 & 27.3\\\\\n",
       "\tPorsche 914-2 & 26.0\\\\\n",
       "\tLotus Europa & 30.4\\\\\n",
       "\tFord Pantera L & 15.8\\\\\n",
       "\tFerrari Dino & 19.7\\\\\n",
       "\tMaserati Bora & 15.0\\\\\n",
       "\tVolvo 142E & 21.4\\\\\n",
       "\\end{tabular}\n"
      ],
      "text/markdown": [
       "\n",
       "A data.frame: 32 × 1\n",
       "\n",
       "| <!--/--> | mpg &lt;dbl&gt; |\n",
       "|---|---|\n",
       "| Mazda RX4 | 21.0 |\n",
       "| Mazda RX4 Wag | 21.0 |\n",
       "| Datsun 710 | 22.8 |\n",
       "| Hornet 4 Drive | 21.4 |\n",
       "| Hornet Sportabout | 18.7 |\n",
       "| Valiant | 18.1 |\n",
       "| Duster 360 | 14.3 |\n",
       "| Merc 240D | 24.4 |\n",
       "| Merc 230 | 22.8 |\n",
       "| Merc 280 | 19.2 |\n",
       "| Merc 280C | 17.8 |\n",
       "| Merc 450SE | 16.4 |\n",
       "| Merc 450SL | 17.3 |\n",
       "| Merc 450SLC | 15.2 |\n",
       "| Cadillac Fleetwood | 10.4 |\n",
       "| Lincoln Continental | 10.4 |\n",
       "| Chrysler Imperial | 14.7 |\n",
       "| Fiat 128 | 32.4 |\n",
       "| Honda Civic | 30.4 |\n",
       "| Toyota Corolla | 33.9 |\n",
       "| Toyota Corona | 21.5 |\n",
       "| Dodge Challenger | 15.5 |\n",
       "| AMC Javelin | 15.2 |\n",
       "| Camaro Z28 | 13.3 |\n",
       "| Pontiac Firebird | 19.2 |\n",
       "| Fiat X1-9 | 27.3 |\n",
       "| Porsche 914-2 | 26.0 |\n",
       "| Lotus Europa | 30.4 |\n",
       "| Ford Pantera L | 15.8 |\n",
       "| Ferrari Dino | 19.7 |\n",
       "| Maserati Bora | 15.0 |\n",
       "| Volvo 142E | 21.4 |\n",
       "\n"
      ],
      "text/plain": [
       "                    mpg \n",
       "Mazda RX4           21.0\n",
       "Mazda RX4 Wag       21.0\n",
       "Datsun 710          22.8\n",
       "Hornet 4 Drive      21.4\n",
       "Hornet Sportabout   18.7\n",
       "Valiant             18.1\n",
       "Duster 360          14.3\n",
       "Merc 240D           24.4\n",
       "Merc 230            22.8\n",
       "Merc 280            19.2\n",
       "Merc 280C           17.8\n",
       "Merc 450SE          16.4\n",
       "Merc 450SL          17.3\n",
       "Merc 450SLC         15.2\n",
       "Cadillac Fleetwood  10.4\n",
       "Lincoln Continental 10.4\n",
       "Chrysler Imperial   14.7\n",
       "Fiat 128            32.4\n",
       "Honda Civic         30.4\n",
       "Toyota Corolla      33.9\n",
       "Toyota Corona       21.5\n",
       "Dodge Challenger    15.5\n",
       "AMC Javelin         15.2\n",
       "Camaro Z28          13.3\n",
       "Pontiac Firebird    19.2\n",
       "Fiat X1-9           27.3\n",
       "Porsche 914-2       26.0\n",
       "Lotus Europa        30.4\n",
       "Ford Pantera L      15.8\n",
       "Ferrari Dino        19.7\n",
       "Maserati Bora       15.0\n",
       "Volvo 142E          21.4"
      ]
     },
     "metadata": {},
     "output_type": "display_data"
    }
   ],
   "source": [
    "mtcars[\"mpg\"]"
   ]
  },
  {
   "cell_type": "code",
   "execution_count": 13,
   "metadata": {
    "scrolled": true
   },
   "outputs": [
    {
     "data": {
      "text/html": [
       "<table class=\"dataframe\">\n",
       "<caption>A data.frame: 32 × 2</caption>\n",
       "<thead>\n",
       "\t<tr><th></th><th scope=col>mpg</th><th scope=col>hp</th></tr>\n",
       "\t<tr><th></th><th scope=col>&lt;dbl&gt;</th><th scope=col>&lt;dbl&gt;</th></tr>\n",
       "</thead>\n",
       "<tbody>\n",
       "\t<tr><th scope=row>Mazda RX4</th><td>21.0</td><td>110</td></tr>\n",
       "\t<tr><th scope=row>Mazda RX4 Wag</th><td>21.0</td><td>110</td></tr>\n",
       "\t<tr><th scope=row>Datsun 710</th><td>22.8</td><td> 93</td></tr>\n",
       "\t<tr><th scope=row>Hornet 4 Drive</th><td>21.4</td><td>110</td></tr>\n",
       "\t<tr><th scope=row>Hornet Sportabout</th><td>18.7</td><td>175</td></tr>\n",
       "\t<tr><th scope=row>Valiant</th><td>18.1</td><td>105</td></tr>\n",
       "\t<tr><th scope=row>Duster 360</th><td>14.3</td><td>245</td></tr>\n",
       "\t<tr><th scope=row>Merc 240D</th><td>24.4</td><td> 62</td></tr>\n",
       "\t<tr><th scope=row>Merc 230</th><td>22.8</td><td> 95</td></tr>\n",
       "\t<tr><th scope=row>Merc 280</th><td>19.2</td><td>123</td></tr>\n",
       "\t<tr><th scope=row>Merc 280C</th><td>17.8</td><td>123</td></tr>\n",
       "\t<tr><th scope=row>Merc 450SE</th><td>16.4</td><td>180</td></tr>\n",
       "\t<tr><th scope=row>Merc 450SL</th><td>17.3</td><td>180</td></tr>\n",
       "\t<tr><th scope=row>Merc 450SLC</th><td>15.2</td><td>180</td></tr>\n",
       "\t<tr><th scope=row>Cadillac Fleetwood</th><td>10.4</td><td>205</td></tr>\n",
       "\t<tr><th scope=row>Lincoln Continental</th><td>10.4</td><td>215</td></tr>\n",
       "\t<tr><th scope=row>Chrysler Imperial</th><td>14.7</td><td>230</td></tr>\n",
       "\t<tr><th scope=row>Fiat 128</th><td>32.4</td><td> 66</td></tr>\n",
       "\t<tr><th scope=row>Honda Civic</th><td>30.4</td><td> 52</td></tr>\n",
       "\t<tr><th scope=row>Toyota Corolla</th><td>33.9</td><td> 65</td></tr>\n",
       "\t<tr><th scope=row>Toyota Corona</th><td>21.5</td><td> 97</td></tr>\n",
       "\t<tr><th scope=row>Dodge Challenger</th><td>15.5</td><td>150</td></tr>\n",
       "\t<tr><th scope=row>AMC Javelin</th><td>15.2</td><td>150</td></tr>\n",
       "\t<tr><th scope=row>Camaro Z28</th><td>13.3</td><td>245</td></tr>\n",
       "\t<tr><th scope=row>Pontiac Firebird</th><td>19.2</td><td>175</td></tr>\n",
       "\t<tr><th scope=row>Fiat X1-9</th><td>27.3</td><td> 66</td></tr>\n",
       "\t<tr><th scope=row>Porsche 914-2</th><td>26.0</td><td> 91</td></tr>\n",
       "\t<tr><th scope=row>Lotus Europa</th><td>30.4</td><td>113</td></tr>\n",
       "\t<tr><th scope=row>Ford Pantera L</th><td>15.8</td><td>264</td></tr>\n",
       "\t<tr><th scope=row>Ferrari Dino</th><td>19.7</td><td>175</td></tr>\n",
       "\t<tr><th scope=row>Maserati Bora</th><td>15.0</td><td>335</td></tr>\n",
       "\t<tr><th scope=row>Volvo 142E</th><td>21.4</td><td>109</td></tr>\n",
       "</tbody>\n",
       "</table>\n"
      ],
      "text/latex": [
       "A data.frame: 32 × 2\n",
       "\\begin{tabular}{r|ll}\n",
       "  & mpg & hp\\\\\n",
       "  & <dbl> & <dbl>\\\\\n",
       "\\hline\n",
       "\tMazda RX4 & 21.0 & 110\\\\\n",
       "\tMazda RX4 Wag & 21.0 & 110\\\\\n",
       "\tDatsun 710 & 22.8 &  93\\\\\n",
       "\tHornet 4 Drive & 21.4 & 110\\\\\n",
       "\tHornet Sportabout & 18.7 & 175\\\\\n",
       "\tValiant & 18.1 & 105\\\\\n",
       "\tDuster 360 & 14.3 & 245\\\\\n",
       "\tMerc 240D & 24.4 &  62\\\\\n",
       "\tMerc 230 & 22.8 &  95\\\\\n",
       "\tMerc 280 & 19.2 & 123\\\\\n",
       "\tMerc 280C & 17.8 & 123\\\\\n",
       "\tMerc 450SE & 16.4 & 180\\\\\n",
       "\tMerc 450SL & 17.3 & 180\\\\\n",
       "\tMerc 450SLC & 15.2 & 180\\\\\n",
       "\tCadillac Fleetwood & 10.4 & 205\\\\\n",
       "\tLincoln Continental & 10.4 & 215\\\\\n",
       "\tChrysler Imperial & 14.7 & 230\\\\\n",
       "\tFiat 128 & 32.4 &  66\\\\\n",
       "\tHonda Civic & 30.4 &  52\\\\\n",
       "\tToyota Corolla & 33.9 &  65\\\\\n",
       "\tToyota Corona & 21.5 &  97\\\\\n",
       "\tDodge Challenger & 15.5 & 150\\\\\n",
       "\tAMC Javelin & 15.2 & 150\\\\\n",
       "\tCamaro Z28 & 13.3 & 245\\\\\n",
       "\tPontiac Firebird & 19.2 & 175\\\\\n",
       "\tFiat X1-9 & 27.3 &  66\\\\\n",
       "\tPorsche 914-2 & 26.0 &  91\\\\\n",
       "\tLotus Europa & 30.4 & 113\\\\\n",
       "\tFord Pantera L & 15.8 & 264\\\\\n",
       "\tFerrari Dino & 19.7 & 175\\\\\n",
       "\tMaserati Bora & 15.0 & 335\\\\\n",
       "\tVolvo 142E & 21.4 & 109\\\\\n",
       "\\end{tabular}\n"
      ],
      "text/markdown": [
       "\n",
       "A data.frame: 32 × 2\n",
       "\n",
       "| <!--/--> | mpg &lt;dbl&gt; | hp &lt;dbl&gt; |\n",
       "|---|---|---|\n",
       "| Mazda RX4 | 21.0 | 110 |\n",
       "| Mazda RX4 Wag | 21.0 | 110 |\n",
       "| Datsun 710 | 22.8 |  93 |\n",
       "| Hornet 4 Drive | 21.4 | 110 |\n",
       "| Hornet Sportabout | 18.7 | 175 |\n",
       "| Valiant | 18.1 | 105 |\n",
       "| Duster 360 | 14.3 | 245 |\n",
       "| Merc 240D | 24.4 |  62 |\n",
       "| Merc 230 | 22.8 |  95 |\n",
       "| Merc 280 | 19.2 | 123 |\n",
       "| Merc 280C | 17.8 | 123 |\n",
       "| Merc 450SE | 16.4 | 180 |\n",
       "| Merc 450SL | 17.3 | 180 |\n",
       "| Merc 450SLC | 15.2 | 180 |\n",
       "| Cadillac Fleetwood | 10.4 | 205 |\n",
       "| Lincoln Continental | 10.4 | 215 |\n",
       "| Chrysler Imperial | 14.7 | 230 |\n",
       "| Fiat 128 | 32.4 |  66 |\n",
       "| Honda Civic | 30.4 |  52 |\n",
       "| Toyota Corolla | 33.9 |  65 |\n",
       "| Toyota Corona | 21.5 |  97 |\n",
       "| Dodge Challenger | 15.5 | 150 |\n",
       "| AMC Javelin | 15.2 | 150 |\n",
       "| Camaro Z28 | 13.3 | 245 |\n",
       "| Pontiac Firebird | 19.2 | 175 |\n",
       "| Fiat X1-9 | 27.3 |  66 |\n",
       "| Porsche 914-2 | 26.0 |  91 |\n",
       "| Lotus Europa | 30.4 | 113 |\n",
       "| Ford Pantera L | 15.8 | 264 |\n",
       "| Ferrari Dino | 19.7 | 175 |\n",
       "| Maserati Bora | 15.0 | 335 |\n",
       "| Volvo 142E | 21.4 | 109 |\n",
       "\n"
      ],
      "text/plain": [
       "                    mpg  hp \n",
       "Mazda RX4           21.0 110\n",
       "Mazda RX4 Wag       21.0 110\n",
       "Datsun 710          22.8  93\n",
       "Hornet 4 Drive      21.4 110\n",
       "Hornet Sportabout   18.7 175\n",
       "Valiant             18.1 105\n",
       "Duster 360          14.3 245\n",
       "Merc 240D           24.4  62\n",
       "Merc 230            22.8  95\n",
       "Merc 280            19.2 123\n",
       "Merc 280C           17.8 123\n",
       "Merc 450SE          16.4 180\n",
       "Merc 450SL          17.3 180\n",
       "Merc 450SLC         15.2 180\n",
       "Cadillac Fleetwood  10.4 205\n",
       "Lincoln Continental 10.4 215\n",
       "Chrysler Imperial   14.7 230\n",
       "Fiat 128            32.4  66\n",
       "Honda Civic         30.4  52\n",
       "Toyota Corolla      33.9  65\n",
       "Toyota Corona       21.5  97\n",
       "Dodge Challenger    15.5 150\n",
       "AMC Javelin         15.2 150\n",
       "Camaro Z28          13.3 245\n",
       "Pontiac Firebird    19.2 175\n",
       "Fiat X1-9           27.3  66\n",
       "Porsche 914-2       26.0  91\n",
       "Lotus Europa        30.4 113\n",
       "Ford Pantera L      15.8 264\n",
       "Ferrari Dino        19.7 175\n",
       "Maserati Bora       15.0 335\n",
       "Volvo 142E          21.4 109"
      ]
     },
     "metadata": {},
     "output_type": "display_data"
    }
   ],
   "source": [
    "mtcars[c(\"mpg\",\"hp\")]"
   ]
  },
  {
   "cell_type": "code",
   "execution_count": 14,
   "metadata": {
    "scrolled": true
   },
   "outputs": [
    {
     "data": {
      "text/html": [
       "<table class=\"dataframe\">\n",
       "<caption>A data.frame: 1 × 11</caption>\n",
       "<thead>\n",
       "\t<tr><th></th><th scope=col>mpg</th><th scope=col>cyl</th><th scope=col>disp</th><th scope=col>hp</th><th scope=col>drat</th><th scope=col>wt</th><th scope=col>qsec</th><th scope=col>vs</th><th scope=col>am</th><th scope=col>gear</th><th scope=col>carb</th></tr>\n",
       "\t<tr><th></th><th scope=col>&lt;dbl&gt;</th><th scope=col>&lt;dbl&gt;</th><th scope=col>&lt;dbl&gt;</th><th scope=col>&lt;dbl&gt;</th><th scope=col>&lt;dbl&gt;</th><th scope=col>&lt;dbl&gt;</th><th scope=col>&lt;dbl&gt;</th><th scope=col>&lt;dbl&gt;</th><th scope=col>&lt;dbl&gt;</th><th scope=col>&lt;dbl&gt;</th><th scope=col>&lt;dbl&gt;</th></tr>\n",
       "</thead>\n",
       "<tbody>\n",
       "\t<tr><th scope=row>Mazda RX4 Wag</th><td>21</td><td>6</td><td>160</td><td>110</td><td>3.9</td><td>2.875</td><td>17.02</td><td>0</td><td>1</td><td>4</td><td>4</td></tr>\n",
       "</tbody>\n",
       "</table>\n"
      ],
      "text/latex": [
       "A data.frame: 1 × 11\n",
       "\\begin{tabular}{r|lllllllllll}\n",
       "  & mpg & cyl & disp & hp & drat & wt & qsec & vs & am & gear & carb\\\\\n",
       "  & <dbl> & <dbl> & <dbl> & <dbl> & <dbl> & <dbl> & <dbl> & <dbl> & <dbl> & <dbl> & <dbl>\\\\\n",
       "\\hline\n",
       "\tMazda RX4 Wag & 21 & 6 & 160 & 110 & 3.9 & 2.875 & 17.02 & 0 & 1 & 4 & 4\\\\\n",
       "\\end{tabular}\n"
      ],
      "text/markdown": [
       "\n",
       "A data.frame: 1 × 11\n",
       "\n",
       "| <!--/--> | mpg &lt;dbl&gt; | cyl &lt;dbl&gt; | disp &lt;dbl&gt; | hp &lt;dbl&gt; | drat &lt;dbl&gt; | wt &lt;dbl&gt; | qsec &lt;dbl&gt; | vs &lt;dbl&gt; | am &lt;dbl&gt; | gear &lt;dbl&gt; | carb &lt;dbl&gt; |\n",
       "|---|---|---|---|---|---|---|---|---|---|---|---|\n",
       "| Mazda RX4 Wag | 21 | 6 | 160 | 110 | 3.9 | 2.875 | 17.02 | 0 | 1 | 4 | 4 |\n",
       "\n"
      ],
      "text/plain": [
       "              mpg cyl disp hp  drat wt    qsec  vs am gear carb\n",
       "Mazda RX4 Wag 21  6   160  110 3.9  2.875 17.02 0  1  4    4   "
      ]
     },
     "metadata": {},
     "output_type": "display_data"
    }
   ],
   "source": [
    "mtcars[2,] "
   ]
  },
  {
   "cell_type": "code",
   "execution_count": 15,
   "metadata": {
    "scrolled": true
   },
   "outputs": [
    {
     "data": {
      "text/html": [
       "<table class=\"dataframe\">\n",
       "<caption>A data.frame: 2 × 11</caption>\n",
       "<thead>\n",
       "\t<tr><th></th><th scope=col>mpg</th><th scope=col>cyl</th><th scope=col>disp</th><th scope=col>hp</th><th scope=col>drat</th><th scope=col>wt</th><th scope=col>qsec</th><th scope=col>vs</th><th scope=col>am</th><th scope=col>gear</th><th scope=col>carb</th></tr>\n",
       "\t<tr><th></th><th scope=col>&lt;dbl&gt;</th><th scope=col>&lt;dbl&gt;</th><th scope=col>&lt;dbl&gt;</th><th scope=col>&lt;dbl&gt;</th><th scope=col>&lt;dbl&gt;</th><th scope=col>&lt;dbl&gt;</th><th scope=col>&lt;dbl&gt;</th><th scope=col>&lt;dbl&gt;</th><th scope=col>&lt;dbl&gt;</th><th scope=col>&lt;dbl&gt;</th><th scope=col>&lt;dbl&gt;</th></tr>\n",
       "</thead>\n",
       "<tbody>\n",
       "\t<tr><th scope=row>Mazda RX4</th><td>21.0</td><td>6</td><td>160</td><td>110</td><td>3.90</td><td>2.62</td><td>16.46</td><td>0</td><td>1</td><td>4</td><td>4</td></tr>\n",
       "\t<tr><th scope=row>Datsun 710</th><td>22.8</td><td>4</td><td>108</td><td> 93</td><td>3.85</td><td>2.32</td><td>18.61</td><td>1</td><td>1</td><td>4</td><td>1</td></tr>\n",
       "</tbody>\n",
       "</table>\n"
      ],
      "text/latex": [
       "A data.frame: 2 × 11\n",
       "\\begin{tabular}{r|lllllllllll}\n",
       "  & mpg & cyl & disp & hp & drat & wt & qsec & vs & am & gear & carb\\\\\n",
       "  & <dbl> & <dbl> & <dbl> & <dbl> & <dbl> & <dbl> & <dbl> & <dbl> & <dbl> & <dbl> & <dbl>\\\\\n",
       "\\hline\n",
       "\tMazda RX4 & 21.0 & 6 & 160 & 110 & 3.90 & 2.62 & 16.46 & 0 & 1 & 4 & 4\\\\\n",
       "\tDatsun 710 & 22.8 & 4 & 108 &  93 & 3.85 & 2.32 & 18.61 & 1 & 1 & 4 & 1\\\\\n",
       "\\end{tabular}\n"
      ],
      "text/markdown": [
       "\n",
       "A data.frame: 2 × 11\n",
       "\n",
       "| <!--/--> | mpg &lt;dbl&gt; | cyl &lt;dbl&gt; | disp &lt;dbl&gt; | hp &lt;dbl&gt; | drat &lt;dbl&gt; | wt &lt;dbl&gt; | qsec &lt;dbl&gt; | vs &lt;dbl&gt; | am &lt;dbl&gt; | gear &lt;dbl&gt; | carb &lt;dbl&gt; |\n",
       "|---|---|---|---|---|---|---|---|---|---|---|---|\n",
       "| Mazda RX4 | 21.0 | 6 | 160 | 110 | 3.90 | 2.62 | 16.46 | 0 | 1 | 4 | 4 |\n",
       "| Datsun 710 | 22.8 | 4 | 108 |  93 | 3.85 | 2.32 | 18.61 | 1 | 1 | 4 | 1 |\n",
       "\n"
      ],
      "text/plain": [
       "           mpg  cyl disp hp  drat wt   qsec  vs am gear carb\n",
       "Mazda RX4  21.0 6   160  110 3.90 2.62 16.46 0  1  4    4   \n",
       "Datsun 710 22.8 4   108   93 3.85 2.32 18.61 1  1  4    1   "
      ]
     },
     "metadata": {},
     "output_type": "display_data"
    }
   ],
   "source": [
    "mtcars[c(1,3),] "
   ]
  },
  {
   "cell_type": "code",
   "execution_count": 16,
   "metadata": {
    "scrolled": true
   },
   "outputs": [
    {
     "data": {
      "text/html": [
       "<table class=\"dataframe\">\n",
       "<caption>A data.frame: 1 × 11</caption>\n",
       "<thead>\n",
       "\t<tr><th></th><th scope=col>mpg</th><th scope=col>cyl</th><th scope=col>disp</th><th scope=col>hp</th><th scope=col>drat</th><th scope=col>wt</th><th scope=col>qsec</th><th scope=col>vs</th><th scope=col>am</th><th scope=col>gear</th><th scope=col>carb</th></tr>\n",
       "\t<tr><th></th><th scope=col>&lt;dbl&gt;</th><th scope=col>&lt;dbl&gt;</th><th scope=col>&lt;dbl&gt;</th><th scope=col>&lt;dbl&gt;</th><th scope=col>&lt;dbl&gt;</th><th scope=col>&lt;dbl&gt;</th><th scope=col>&lt;dbl&gt;</th><th scope=col>&lt;dbl&gt;</th><th scope=col>&lt;dbl&gt;</th><th scope=col>&lt;dbl&gt;</th><th scope=col>&lt;dbl&gt;</th></tr>\n",
       "</thead>\n",
       "<tbody>\n",
       "\t<tr><th scope=row>Mazda RX4 Wag</th><td>21</td><td>6</td><td>160</td><td>110</td><td>3.9</td><td>2.875</td><td>17.02</td><td>0</td><td>1</td><td>4</td><td>4</td></tr>\n",
       "</tbody>\n",
       "</table>\n"
      ],
      "text/latex": [
       "A data.frame: 1 × 11\n",
       "\\begin{tabular}{r|lllllllllll}\n",
       "  & mpg & cyl & disp & hp & drat & wt & qsec & vs & am & gear & carb\\\\\n",
       "  & <dbl> & <dbl> & <dbl> & <dbl> & <dbl> & <dbl> & <dbl> & <dbl> & <dbl> & <dbl> & <dbl>\\\\\n",
       "\\hline\n",
       "\tMazda RX4 Wag & 21 & 6 & 160 & 110 & 3.9 & 2.875 & 17.02 & 0 & 1 & 4 & 4\\\\\n",
       "\\end{tabular}\n"
      ],
      "text/markdown": [
       "\n",
       "A data.frame: 1 × 11\n",
       "\n",
       "| <!--/--> | mpg &lt;dbl&gt; | cyl &lt;dbl&gt; | disp &lt;dbl&gt; | hp &lt;dbl&gt; | drat &lt;dbl&gt; | wt &lt;dbl&gt; | qsec &lt;dbl&gt; | vs &lt;dbl&gt; | am &lt;dbl&gt; | gear &lt;dbl&gt; | carb &lt;dbl&gt; |\n",
       "|---|---|---|---|---|---|---|---|---|---|---|---|\n",
       "| Mazda RX4 Wag | 21 | 6 | 160 | 110 | 3.9 | 2.875 | 17.02 | 0 | 1 | 4 | 4 |\n",
       "\n"
      ],
      "text/plain": [
       "              mpg cyl disp hp  drat wt    qsec  vs am gear carb\n",
       "Mazda RX4 Wag 21  6   160  110 3.9  2.875 17.02 0  1  4    4   "
      ]
     },
     "metadata": {},
     "output_type": "display_data"
    }
   ],
   "source": [
    "mtcars[\"Mazda RX4 Wag\",] "
   ]
  },
  {
   "cell_type": "code",
   "execution_count": 17,
   "metadata": {
    "scrolled": true
   },
   "outputs": [
    {
     "data": {
      "text/html": [
       "<table class=\"dataframe\">\n",
       "<caption>A data.frame: 2 × 11</caption>\n",
       "<thead>\n",
       "\t<tr><th></th><th scope=col>mpg</th><th scope=col>cyl</th><th scope=col>disp</th><th scope=col>hp</th><th scope=col>drat</th><th scope=col>wt</th><th scope=col>qsec</th><th scope=col>vs</th><th scope=col>am</th><th scope=col>gear</th><th scope=col>carb</th></tr>\n",
       "\t<tr><th></th><th scope=col>&lt;dbl&gt;</th><th scope=col>&lt;dbl&gt;</th><th scope=col>&lt;dbl&gt;</th><th scope=col>&lt;dbl&gt;</th><th scope=col>&lt;dbl&gt;</th><th scope=col>&lt;dbl&gt;</th><th scope=col>&lt;dbl&gt;</th><th scope=col>&lt;dbl&gt;</th><th scope=col>&lt;dbl&gt;</th><th scope=col>&lt;dbl&gt;</th><th scope=col>&lt;dbl&gt;</th></tr>\n",
       "</thead>\n",
       "<tbody>\n",
       "\t<tr><th scope=row>Mazda RX4</th><td>21.0</td><td>6</td><td>160</td><td>110</td><td>3.90</td><td>2.62</td><td>16.46</td><td>0</td><td>1</td><td>4</td><td>4</td></tr>\n",
       "\t<tr><th scope=row>Datsun 710</th><td>22.8</td><td>4</td><td>108</td><td> 93</td><td>3.85</td><td>2.32</td><td>18.61</td><td>1</td><td>1</td><td>4</td><td>1</td></tr>\n",
       "</tbody>\n",
       "</table>\n"
      ],
      "text/latex": [
       "A data.frame: 2 × 11\n",
       "\\begin{tabular}{r|lllllllllll}\n",
       "  & mpg & cyl & disp & hp & drat & wt & qsec & vs & am & gear & carb\\\\\n",
       "  & <dbl> & <dbl> & <dbl> & <dbl> & <dbl> & <dbl> & <dbl> & <dbl> & <dbl> & <dbl> & <dbl>\\\\\n",
       "\\hline\n",
       "\tMazda RX4 & 21.0 & 6 & 160 & 110 & 3.90 & 2.62 & 16.46 & 0 & 1 & 4 & 4\\\\\n",
       "\tDatsun 710 & 22.8 & 4 & 108 &  93 & 3.85 & 2.32 & 18.61 & 1 & 1 & 4 & 1\\\\\n",
       "\\end{tabular}\n"
      ],
      "text/markdown": [
       "\n",
       "A data.frame: 2 × 11\n",
       "\n",
       "| <!--/--> | mpg &lt;dbl&gt; | cyl &lt;dbl&gt; | disp &lt;dbl&gt; | hp &lt;dbl&gt; | drat &lt;dbl&gt; | wt &lt;dbl&gt; | qsec &lt;dbl&gt; | vs &lt;dbl&gt; | am &lt;dbl&gt; | gear &lt;dbl&gt; | carb &lt;dbl&gt; |\n",
       "|---|---|---|---|---|---|---|---|---|---|---|---|\n",
       "| Mazda RX4 | 21.0 | 6 | 160 | 110 | 3.90 | 2.62 | 16.46 | 0 | 1 | 4 | 4 |\n",
       "| Datsun 710 | 22.8 | 4 | 108 |  93 | 3.85 | 2.32 | 18.61 | 1 | 1 | 4 | 1 |\n",
       "\n"
      ],
      "text/plain": [
       "           mpg  cyl disp hp  drat wt   qsec  vs am gear carb\n",
       "Mazda RX4  21.0 6   160  110 3.90 2.62 16.46 0  1  4    4   \n",
       "Datsun 710 22.8 4   108   93 3.85 2.32 18.61 1  1  4    1   "
      ]
     },
     "metadata": {},
     "output_type": "display_data"
    }
   ],
   "source": [
    "mtcars[c(\"Mazda RX4\", \"Datsun 710\"),] "
   ]
  },
  {
   "cell_type": "code",
   "execution_count": 18,
   "metadata": {
    "scrolled": true
   },
   "outputs": [
    {
     "data": {
      "text/html": [
       "<style>\n",
       ".list-inline {list-style: none; margin:0; padding: 0}\n",
       ".list-inline>li {display: inline-block}\n",
       ".list-inline>li:not(:last-child)::after {content: \"\\00b7\"; padding: 0 .5ex}\n",
       "</style>\n",
       "<ol class=list-inline><li>TRUE</li><li>TRUE</li><li>FALSE</li><li>TRUE</li><li>TRUE</li><li>TRUE</li><li>TRUE</li><li>FALSE</li><li>FALSE</li><li>TRUE</li><li>TRUE</li><li>TRUE</li><li>TRUE</li><li>TRUE</li><li>TRUE</li><li>TRUE</li><li>TRUE</li><li>FALSE</li><li>FALSE</li><li>FALSE</li><li>TRUE</li><li>TRUE</li><li>TRUE</li><li>TRUE</li><li>TRUE</li><li>FALSE</li><li>FALSE</li><li>FALSE</li><li>TRUE</li><li>TRUE</li><li>TRUE</li><li>TRUE</li></ol>\n"
      ],
      "text/latex": [
       "\\begin{enumerate*}\n",
       "\\item TRUE\n",
       "\\item TRUE\n",
       "\\item FALSE\n",
       "\\item TRUE\n",
       "\\item TRUE\n",
       "\\item TRUE\n",
       "\\item TRUE\n",
       "\\item FALSE\n",
       "\\item FALSE\n",
       "\\item TRUE\n",
       "\\item TRUE\n",
       "\\item TRUE\n",
       "\\item TRUE\n",
       "\\item TRUE\n",
       "\\item TRUE\n",
       "\\item TRUE\n",
       "\\item TRUE\n",
       "\\item FALSE\n",
       "\\item FALSE\n",
       "\\item FALSE\n",
       "\\item TRUE\n",
       "\\item TRUE\n",
       "\\item TRUE\n",
       "\\item TRUE\n",
       "\\item TRUE\n",
       "\\item FALSE\n",
       "\\item FALSE\n",
       "\\item FALSE\n",
       "\\item TRUE\n",
       "\\item TRUE\n",
       "\\item TRUE\n",
       "\\item TRUE\n",
       "\\end{enumerate*}\n"
      ],
      "text/markdown": [
       "1. TRUE\n",
       "2. TRUE\n",
       "3. FALSE\n",
       "4. TRUE\n",
       "5. TRUE\n",
       "6. TRUE\n",
       "7. TRUE\n",
       "8. FALSE\n",
       "9. FALSE\n",
       "10. TRUE\n",
       "11. TRUE\n",
       "12. TRUE\n",
       "13. TRUE\n",
       "14. TRUE\n",
       "15. TRUE\n",
       "16. TRUE\n",
       "17. TRUE\n",
       "18. FALSE\n",
       "19. FALSE\n",
       "20. FALSE\n",
       "21. TRUE\n",
       "22. TRUE\n",
       "23. TRUE\n",
       "24. TRUE\n",
       "25. TRUE\n",
       "26. FALSE\n",
       "27. FALSE\n",
       "28. FALSE\n",
       "29. TRUE\n",
       "30. TRUE\n",
       "31. TRUE\n",
       "32. TRUE\n",
       "\n",
       "\n"
      ],
      "text/plain": [
       " [1]  TRUE  TRUE FALSE  TRUE  TRUE  TRUE  TRUE FALSE FALSE  TRUE  TRUE  TRUE\n",
       "[13]  TRUE  TRUE  TRUE  TRUE  TRUE FALSE FALSE FALSE  TRUE  TRUE  TRUE  TRUE\n",
       "[25]  TRUE FALSE FALSE FALSE  TRUE  TRUE  TRUE  TRUE"
      ]
     },
     "metadata": {},
     "output_type": "display_data"
    }
   ],
   "source": [
    "low_mpg = mtcars$mpg < 22 ; low_mpg"
   ]
  },
  {
   "cell_type": "code",
   "execution_count": 19,
   "metadata": {
    "scrolled": true
   },
   "outputs": [
    {
     "data": {
      "text/html": [
       "<table class=\"dataframe\">\n",
       "<caption>A data.frame: 23 × 11</caption>\n",
       "<thead>\n",
       "\t<tr><th></th><th scope=col>mpg</th><th scope=col>cyl</th><th scope=col>disp</th><th scope=col>hp</th><th scope=col>drat</th><th scope=col>wt</th><th scope=col>qsec</th><th scope=col>vs</th><th scope=col>am</th><th scope=col>gear</th><th scope=col>carb</th></tr>\n",
       "\t<tr><th></th><th scope=col>&lt;dbl&gt;</th><th scope=col>&lt;dbl&gt;</th><th scope=col>&lt;dbl&gt;</th><th scope=col>&lt;dbl&gt;</th><th scope=col>&lt;dbl&gt;</th><th scope=col>&lt;dbl&gt;</th><th scope=col>&lt;dbl&gt;</th><th scope=col>&lt;dbl&gt;</th><th scope=col>&lt;dbl&gt;</th><th scope=col>&lt;dbl&gt;</th><th scope=col>&lt;dbl&gt;</th></tr>\n",
       "</thead>\n",
       "<tbody>\n",
       "\t<tr><th scope=row>Mazda RX4</th><td>21.0</td><td>6</td><td>160.0</td><td>110</td><td>3.90</td><td>2.620</td><td>16.46</td><td>0</td><td>1</td><td>4</td><td>4</td></tr>\n",
       "\t<tr><th scope=row>Mazda RX4 Wag</th><td>21.0</td><td>6</td><td>160.0</td><td>110</td><td>3.90</td><td>2.875</td><td>17.02</td><td>0</td><td>1</td><td>4</td><td>4</td></tr>\n",
       "\t<tr><th scope=row>Hornet 4 Drive</th><td>21.4</td><td>6</td><td>258.0</td><td>110</td><td>3.08</td><td>3.215</td><td>19.44</td><td>1</td><td>0</td><td>3</td><td>1</td></tr>\n",
       "\t<tr><th scope=row>Hornet Sportabout</th><td>18.7</td><td>8</td><td>360.0</td><td>175</td><td>3.15</td><td>3.440</td><td>17.02</td><td>0</td><td>0</td><td>3</td><td>2</td></tr>\n",
       "\t<tr><th scope=row>Valiant</th><td>18.1</td><td>6</td><td>225.0</td><td>105</td><td>2.76</td><td>3.460</td><td>20.22</td><td>1</td><td>0</td><td>3</td><td>1</td></tr>\n",
       "\t<tr><th scope=row>Duster 360</th><td>14.3</td><td>8</td><td>360.0</td><td>245</td><td>3.21</td><td>3.570</td><td>15.84</td><td>0</td><td>0</td><td>3</td><td>4</td></tr>\n",
       "\t<tr><th scope=row>Merc 280</th><td>19.2</td><td>6</td><td>167.6</td><td>123</td><td>3.92</td><td>3.440</td><td>18.30</td><td>1</td><td>0</td><td>4</td><td>4</td></tr>\n",
       "\t<tr><th scope=row>Merc 280C</th><td>17.8</td><td>6</td><td>167.6</td><td>123</td><td>3.92</td><td>3.440</td><td>18.90</td><td>1</td><td>0</td><td>4</td><td>4</td></tr>\n",
       "\t<tr><th scope=row>Merc 450SE</th><td>16.4</td><td>8</td><td>275.8</td><td>180</td><td>3.07</td><td>4.070</td><td>17.40</td><td>0</td><td>0</td><td>3</td><td>3</td></tr>\n",
       "\t<tr><th scope=row>Merc 450SL</th><td>17.3</td><td>8</td><td>275.8</td><td>180</td><td>3.07</td><td>3.730</td><td>17.60</td><td>0</td><td>0</td><td>3</td><td>3</td></tr>\n",
       "\t<tr><th scope=row>Merc 450SLC</th><td>15.2</td><td>8</td><td>275.8</td><td>180</td><td>3.07</td><td>3.780</td><td>18.00</td><td>0</td><td>0</td><td>3</td><td>3</td></tr>\n",
       "\t<tr><th scope=row>Cadillac Fleetwood</th><td>10.4</td><td>8</td><td>472.0</td><td>205</td><td>2.93</td><td>5.250</td><td>17.98</td><td>0</td><td>0</td><td>3</td><td>4</td></tr>\n",
       "\t<tr><th scope=row>Lincoln Continental</th><td>10.4</td><td>8</td><td>460.0</td><td>215</td><td>3.00</td><td>5.424</td><td>17.82</td><td>0</td><td>0</td><td>3</td><td>4</td></tr>\n",
       "\t<tr><th scope=row>Chrysler Imperial</th><td>14.7</td><td>8</td><td>440.0</td><td>230</td><td>3.23</td><td>5.345</td><td>17.42</td><td>0</td><td>0</td><td>3</td><td>4</td></tr>\n",
       "\t<tr><th scope=row>Toyota Corona</th><td>21.5</td><td>4</td><td>120.1</td><td> 97</td><td>3.70</td><td>2.465</td><td>20.01</td><td>1</td><td>0</td><td>3</td><td>1</td></tr>\n",
       "\t<tr><th scope=row>Dodge Challenger</th><td>15.5</td><td>8</td><td>318.0</td><td>150</td><td>2.76</td><td>3.520</td><td>16.87</td><td>0</td><td>0</td><td>3</td><td>2</td></tr>\n",
       "\t<tr><th scope=row>AMC Javelin</th><td>15.2</td><td>8</td><td>304.0</td><td>150</td><td>3.15</td><td>3.435</td><td>17.30</td><td>0</td><td>0</td><td>3</td><td>2</td></tr>\n",
       "\t<tr><th scope=row>Camaro Z28</th><td>13.3</td><td>8</td><td>350.0</td><td>245</td><td>3.73</td><td>3.840</td><td>15.41</td><td>0</td><td>0</td><td>3</td><td>4</td></tr>\n",
       "\t<tr><th scope=row>Pontiac Firebird</th><td>19.2</td><td>8</td><td>400.0</td><td>175</td><td>3.08</td><td>3.845</td><td>17.05</td><td>0</td><td>0</td><td>3</td><td>2</td></tr>\n",
       "\t<tr><th scope=row>Ford Pantera L</th><td>15.8</td><td>8</td><td>351.0</td><td>264</td><td>4.22</td><td>3.170</td><td>14.50</td><td>0</td><td>1</td><td>5</td><td>4</td></tr>\n",
       "\t<tr><th scope=row>Ferrari Dino</th><td>19.7</td><td>6</td><td>145.0</td><td>175</td><td>3.62</td><td>2.770</td><td>15.50</td><td>0</td><td>1</td><td>5</td><td>6</td></tr>\n",
       "\t<tr><th scope=row>Maserati Bora</th><td>15.0</td><td>8</td><td>301.0</td><td>335</td><td>3.54</td><td>3.570</td><td>14.60</td><td>0</td><td>1</td><td>5</td><td>8</td></tr>\n",
       "\t<tr><th scope=row>Volvo 142E</th><td>21.4</td><td>4</td><td>121.0</td><td>109</td><td>4.11</td><td>2.780</td><td>18.60</td><td>1</td><td>1</td><td>4</td><td>2</td></tr>\n",
       "</tbody>\n",
       "</table>\n"
      ],
      "text/latex": [
       "A data.frame: 23 × 11\n",
       "\\begin{tabular}{r|lllllllllll}\n",
       "  & mpg & cyl & disp & hp & drat & wt & qsec & vs & am & gear & carb\\\\\n",
       "  & <dbl> & <dbl> & <dbl> & <dbl> & <dbl> & <dbl> & <dbl> & <dbl> & <dbl> & <dbl> & <dbl>\\\\\n",
       "\\hline\n",
       "\tMazda RX4 & 21.0 & 6 & 160.0 & 110 & 3.90 & 2.620 & 16.46 & 0 & 1 & 4 & 4\\\\\n",
       "\tMazda RX4 Wag & 21.0 & 6 & 160.0 & 110 & 3.90 & 2.875 & 17.02 & 0 & 1 & 4 & 4\\\\\n",
       "\tHornet 4 Drive & 21.4 & 6 & 258.0 & 110 & 3.08 & 3.215 & 19.44 & 1 & 0 & 3 & 1\\\\\n",
       "\tHornet Sportabout & 18.7 & 8 & 360.0 & 175 & 3.15 & 3.440 & 17.02 & 0 & 0 & 3 & 2\\\\\n",
       "\tValiant & 18.1 & 6 & 225.0 & 105 & 2.76 & 3.460 & 20.22 & 1 & 0 & 3 & 1\\\\\n",
       "\tDuster 360 & 14.3 & 8 & 360.0 & 245 & 3.21 & 3.570 & 15.84 & 0 & 0 & 3 & 4\\\\\n",
       "\tMerc 280 & 19.2 & 6 & 167.6 & 123 & 3.92 & 3.440 & 18.30 & 1 & 0 & 4 & 4\\\\\n",
       "\tMerc 280C & 17.8 & 6 & 167.6 & 123 & 3.92 & 3.440 & 18.90 & 1 & 0 & 4 & 4\\\\\n",
       "\tMerc 450SE & 16.4 & 8 & 275.8 & 180 & 3.07 & 4.070 & 17.40 & 0 & 0 & 3 & 3\\\\\n",
       "\tMerc 450SL & 17.3 & 8 & 275.8 & 180 & 3.07 & 3.730 & 17.60 & 0 & 0 & 3 & 3\\\\\n",
       "\tMerc 450SLC & 15.2 & 8 & 275.8 & 180 & 3.07 & 3.780 & 18.00 & 0 & 0 & 3 & 3\\\\\n",
       "\tCadillac Fleetwood & 10.4 & 8 & 472.0 & 205 & 2.93 & 5.250 & 17.98 & 0 & 0 & 3 & 4\\\\\n",
       "\tLincoln Continental & 10.4 & 8 & 460.0 & 215 & 3.00 & 5.424 & 17.82 & 0 & 0 & 3 & 4\\\\\n",
       "\tChrysler Imperial & 14.7 & 8 & 440.0 & 230 & 3.23 & 5.345 & 17.42 & 0 & 0 & 3 & 4\\\\\n",
       "\tToyota Corona & 21.5 & 4 & 120.1 &  97 & 3.70 & 2.465 & 20.01 & 1 & 0 & 3 & 1\\\\\n",
       "\tDodge Challenger & 15.5 & 8 & 318.0 & 150 & 2.76 & 3.520 & 16.87 & 0 & 0 & 3 & 2\\\\\n",
       "\tAMC Javelin & 15.2 & 8 & 304.0 & 150 & 3.15 & 3.435 & 17.30 & 0 & 0 & 3 & 2\\\\\n",
       "\tCamaro Z28 & 13.3 & 8 & 350.0 & 245 & 3.73 & 3.840 & 15.41 & 0 & 0 & 3 & 4\\\\\n",
       "\tPontiac Firebird & 19.2 & 8 & 400.0 & 175 & 3.08 & 3.845 & 17.05 & 0 & 0 & 3 & 2\\\\\n",
       "\tFord Pantera L & 15.8 & 8 & 351.0 & 264 & 4.22 & 3.170 & 14.50 & 0 & 1 & 5 & 4\\\\\n",
       "\tFerrari Dino & 19.7 & 6 & 145.0 & 175 & 3.62 & 2.770 & 15.50 & 0 & 1 & 5 & 6\\\\\n",
       "\tMaserati Bora & 15.0 & 8 & 301.0 & 335 & 3.54 & 3.570 & 14.60 & 0 & 1 & 5 & 8\\\\\n",
       "\tVolvo 142E & 21.4 & 4 & 121.0 & 109 & 4.11 & 2.780 & 18.60 & 1 & 1 & 4 & 2\\\\\n",
       "\\end{tabular}\n"
      ],
      "text/markdown": [
       "\n",
       "A data.frame: 23 × 11\n",
       "\n",
       "| <!--/--> | mpg &lt;dbl&gt; | cyl &lt;dbl&gt; | disp &lt;dbl&gt; | hp &lt;dbl&gt; | drat &lt;dbl&gt; | wt &lt;dbl&gt; | qsec &lt;dbl&gt; | vs &lt;dbl&gt; | am &lt;dbl&gt; | gear &lt;dbl&gt; | carb &lt;dbl&gt; |\n",
       "|---|---|---|---|---|---|---|---|---|---|---|---|\n",
       "| Mazda RX4 | 21.0 | 6 | 160.0 | 110 | 3.90 | 2.620 | 16.46 | 0 | 1 | 4 | 4 |\n",
       "| Mazda RX4 Wag | 21.0 | 6 | 160.0 | 110 | 3.90 | 2.875 | 17.02 | 0 | 1 | 4 | 4 |\n",
       "| Hornet 4 Drive | 21.4 | 6 | 258.0 | 110 | 3.08 | 3.215 | 19.44 | 1 | 0 | 3 | 1 |\n",
       "| Hornet Sportabout | 18.7 | 8 | 360.0 | 175 | 3.15 | 3.440 | 17.02 | 0 | 0 | 3 | 2 |\n",
       "| Valiant | 18.1 | 6 | 225.0 | 105 | 2.76 | 3.460 | 20.22 | 1 | 0 | 3 | 1 |\n",
       "| Duster 360 | 14.3 | 8 | 360.0 | 245 | 3.21 | 3.570 | 15.84 | 0 | 0 | 3 | 4 |\n",
       "| Merc 280 | 19.2 | 6 | 167.6 | 123 | 3.92 | 3.440 | 18.30 | 1 | 0 | 4 | 4 |\n",
       "| Merc 280C | 17.8 | 6 | 167.6 | 123 | 3.92 | 3.440 | 18.90 | 1 | 0 | 4 | 4 |\n",
       "| Merc 450SE | 16.4 | 8 | 275.8 | 180 | 3.07 | 4.070 | 17.40 | 0 | 0 | 3 | 3 |\n",
       "| Merc 450SL | 17.3 | 8 | 275.8 | 180 | 3.07 | 3.730 | 17.60 | 0 | 0 | 3 | 3 |\n",
       "| Merc 450SLC | 15.2 | 8 | 275.8 | 180 | 3.07 | 3.780 | 18.00 | 0 | 0 | 3 | 3 |\n",
       "| Cadillac Fleetwood | 10.4 | 8 | 472.0 | 205 | 2.93 | 5.250 | 17.98 | 0 | 0 | 3 | 4 |\n",
       "| Lincoln Continental | 10.4 | 8 | 460.0 | 215 | 3.00 | 5.424 | 17.82 | 0 | 0 | 3 | 4 |\n",
       "| Chrysler Imperial | 14.7 | 8 | 440.0 | 230 | 3.23 | 5.345 | 17.42 | 0 | 0 | 3 | 4 |\n",
       "| Toyota Corona | 21.5 | 4 | 120.1 |  97 | 3.70 | 2.465 | 20.01 | 1 | 0 | 3 | 1 |\n",
       "| Dodge Challenger | 15.5 | 8 | 318.0 | 150 | 2.76 | 3.520 | 16.87 | 0 | 0 | 3 | 2 |\n",
       "| AMC Javelin | 15.2 | 8 | 304.0 | 150 | 3.15 | 3.435 | 17.30 | 0 | 0 | 3 | 2 |\n",
       "| Camaro Z28 | 13.3 | 8 | 350.0 | 245 | 3.73 | 3.840 | 15.41 | 0 | 0 | 3 | 4 |\n",
       "| Pontiac Firebird | 19.2 | 8 | 400.0 | 175 | 3.08 | 3.845 | 17.05 | 0 | 0 | 3 | 2 |\n",
       "| Ford Pantera L | 15.8 | 8 | 351.0 | 264 | 4.22 | 3.170 | 14.50 | 0 | 1 | 5 | 4 |\n",
       "| Ferrari Dino | 19.7 | 6 | 145.0 | 175 | 3.62 | 2.770 | 15.50 | 0 | 1 | 5 | 6 |\n",
       "| Maserati Bora | 15.0 | 8 | 301.0 | 335 | 3.54 | 3.570 | 14.60 | 0 | 1 | 5 | 8 |\n",
       "| Volvo 142E | 21.4 | 4 | 121.0 | 109 | 4.11 | 2.780 | 18.60 | 1 | 1 | 4 | 2 |\n",
       "\n"
      ],
      "text/plain": [
       "                    mpg  cyl disp  hp  drat wt    qsec  vs am gear carb\n",
       "Mazda RX4           21.0 6   160.0 110 3.90 2.620 16.46 0  1  4    4   \n",
       "Mazda RX4 Wag       21.0 6   160.0 110 3.90 2.875 17.02 0  1  4    4   \n",
       "Hornet 4 Drive      21.4 6   258.0 110 3.08 3.215 19.44 1  0  3    1   \n",
       "Hornet Sportabout   18.7 8   360.0 175 3.15 3.440 17.02 0  0  3    2   \n",
       "Valiant             18.1 6   225.0 105 2.76 3.460 20.22 1  0  3    1   \n",
       "Duster 360          14.3 8   360.0 245 3.21 3.570 15.84 0  0  3    4   \n",
       "Merc 280            19.2 6   167.6 123 3.92 3.440 18.30 1  0  4    4   \n",
       "Merc 280C           17.8 6   167.6 123 3.92 3.440 18.90 1  0  4    4   \n",
       "Merc 450SE          16.4 8   275.8 180 3.07 4.070 17.40 0  0  3    3   \n",
       "Merc 450SL          17.3 8   275.8 180 3.07 3.730 17.60 0  0  3    3   \n",
       "Merc 450SLC         15.2 8   275.8 180 3.07 3.780 18.00 0  0  3    3   \n",
       "Cadillac Fleetwood  10.4 8   472.0 205 2.93 5.250 17.98 0  0  3    4   \n",
       "Lincoln Continental 10.4 8   460.0 215 3.00 5.424 17.82 0  0  3    4   \n",
       "Chrysler Imperial   14.7 8   440.0 230 3.23 5.345 17.42 0  0  3    4   \n",
       "Toyota Corona       21.5 4   120.1  97 3.70 2.465 20.01 1  0  3    1   \n",
       "Dodge Challenger    15.5 8   318.0 150 2.76 3.520 16.87 0  0  3    2   \n",
       "AMC Javelin         15.2 8   304.0 150 3.15 3.435 17.30 0  0  3    2   \n",
       "Camaro Z28          13.3 8   350.0 245 3.73 3.840 15.41 0  0  3    4   \n",
       "Pontiac Firebird    19.2 8   400.0 175 3.08 3.845 17.05 0  0  3    2   \n",
       "Ford Pantera L      15.8 8   351.0 264 4.22 3.170 14.50 0  1  5    4   \n",
       "Ferrari Dino        19.7 6   145.0 175 3.62 2.770 15.50 0  1  5    6   \n",
       "Maserati Bora       15.0 8   301.0 335 3.54 3.570 14.60 0  1  5    8   \n",
       "Volvo 142E          21.4 4   121.0 109 4.11 2.780 18.60 1  1  4    2   "
      ]
     },
     "metadata": {},
     "output_type": "display_data"
    }
   ],
   "source": [
    "mtcars[low_mpg,]"
   ]
  },
  {
   "cell_type": "code",
   "execution_count": 20,
   "metadata": {},
   "outputs": [
    {
     "data": {
      "text/html": [
       "<style>\n",
       ".list-inline {list-style: none; margin:0; padding: 0}\n",
       ".list-inline>li {display: inline-block}\n",
       ".list-inline>li:not(:last-child)::after {content: \"\\00b7\"; padding: 0 .5ex}\n",
       "</style>\n",
       "<ol class=list-inline><li>2.62</li><li>2.875</li><li>3.215</li><li>3.44</li><li>3.46</li><li>3.57</li><li>3.44</li><li>3.44</li><li>4.07</li><li>3.73</li><li>3.78</li><li>5.25</li><li>5.424</li><li>5.345</li><li>2.465</li><li>3.52</li><li>3.435</li><li>3.84</li><li>3.845</li><li>3.17</li><li>2.77</li><li>3.57</li><li>2.78</li></ol>\n"
      ],
      "text/latex": [
       "\\begin{enumerate*}\n",
       "\\item 2.62\n",
       "\\item 2.875\n",
       "\\item 3.215\n",
       "\\item 3.44\n",
       "\\item 3.46\n",
       "\\item 3.57\n",
       "\\item 3.44\n",
       "\\item 3.44\n",
       "\\item 4.07\n",
       "\\item 3.73\n",
       "\\item 3.78\n",
       "\\item 5.25\n",
       "\\item 5.424\n",
       "\\item 5.345\n",
       "\\item 2.465\n",
       "\\item 3.52\n",
       "\\item 3.435\n",
       "\\item 3.84\n",
       "\\item 3.845\n",
       "\\item 3.17\n",
       "\\item 2.77\n",
       "\\item 3.57\n",
       "\\item 2.78\n",
       "\\end{enumerate*}\n"
      ],
      "text/markdown": [
       "1. 2.62\n",
       "2. 2.875\n",
       "3. 3.215\n",
       "4. 3.44\n",
       "5. 3.46\n",
       "6. 3.57\n",
       "7. 3.44\n",
       "8. 3.44\n",
       "9. 4.07\n",
       "10. 3.73\n",
       "11. 3.78\n",
       "12. 5.25\n",
       "13. 5.424\n",
       "14. 5.345\n",
       "15. 2.465\n",
       "16. 3.52\n",
       "17. 3.435\n",
       "18. 3.84\n",
       "19. 3.845\n",
       "20. 3.17\n",
       "21. 2.77\n",
       "22. 3.57\n",
       "23. 2.78\n",
       "\n",
       "\n"
      ],
      "text/plain": [
       " [1] 2.620 2.875 3.215 3.440 3.460 3.570 3.440 3.440 4.070 3.730 3.780 5.250\n",
       "[13] 5.424 5.345 2.465 3.520 3.435 3.840 3.845 3.170 2.770 3.570 2.780"
      ]
     },
     "metadata": {},
     "output_type": "display_data"
    }
   ],
   "source": [
    "mtcars[low_mpg,]$wt"
   ]
  },
  {
   "cell_type": "code",
   "execution_count": 21,
   "metadata": {},
   "outputs": [
    {
     "ename": "ERROR",
     "evalue": "Error in library(ISwR): there is no package called 'ISwR'\n",
     "output_type": "error",
     "traceback": [
      "Error in library(ISwR): there is no package called 'ISwR'\nTraceback:\n",
      "1. library(ISwR)"
     ]
    }
   ],
   "source": [
    "library(ISwR)\n",
    "data(energy)\n",
    "head(energy)"
   ]
  },
  {
   "cell_type": "code",
   "execution_count": null,
   "metadata": {},
   "outputs": [],
   "source": [
    "energy[2,]"
   ]
  },
  {
   "cell_type": "code",
   "execution_count": null,
   "metadata": {
    "scrolled": true
   },
   "outputs": [],
   "source": [
    "energy[energy$stature== \"lean\",]"
   ]
  },
  {
   "cell_type": "code",
   "execution_count": null,
   "metadata": {},
   "outputs": [],
   "source": [
    "energy[order(energy$expend),]"
   ]
  },
  {
   "cell_type": "code",
   "execution_count": null,
   "metadata": {
    "scrolled": true
   },
   "outputs": [],
   "source": [
    "subset(energy, stature==\"lean\" & expend>8)"
   ]
  },
  {
   "cell_type": "code",
   "execution_count": null,
   "metadata": {
    "scrolled": true
   },
   "outputs": [],
   "source": [
    "x=split(energy$expend, energy$stature)\n",
    "class(x)\n",
    "x"
   ]
  },
  {
   "cell_type": "code",
   "execution_count": null,
   "metadata": {},
   "outputs": [],
   "source": [
    "?split"
   ]
  },
  {
   "cell_type": "code",
   "execution_count": null,
   "metadata": {
    "scrolled": true
   },
   "outputs": [],
   "source": [
    "msleep=read.csv(\"msleep_ggplot2.csv\")\n",
    "class(msleep)\n",
    "head(msleep)"
   ]
  },
  {
   "cell_type": "code",
   "execution_count": null,
   "metadata": {
    "scrolled": true
   },
   "outputs": [],
   "source": [
    "str(msleep)\n",
    "row.names(msleep)"
   ]
  },
  {
   "cell_type": "code",
   "execution_count": null,
   "metadata": {
    "scrolled": true
   },
   "outputs": [],
   "source": [
    "x=msleep[,c('name', 'sleep_total', 'order')]\n",
    "head(x)"
   ]
  },
  {
   "cell_type": "code",
   "execution_count": null,
   "metadata": {},
   "outputs": [],
   "source": [
    "x=select(msleep, name, sleep_total, order)\n",
    "head(x)"
   ]
  },
  {
   "cell_type": "code",
   "execution_count": null,
   "metadata": {},
   "outputs": [],
   "source": [
    "x=select(msleep, c('name', 'sleep_total', 'order'))\n",
    "head(x)\n",
    "x=select(msleep, 'name', 'sleep_total', 'order')\n",
    "head(x)"
   ]
  },
  {
   "cell_type": "code",
   "execution_count": null,
   "metadata": {},
   "outputs": [],
   "source": [
    "x=select(msleep, -name, -sleep_total, -order)\n",
    "head(x)"
   ]
  },
  {
   "cell_type": "code",
   "execution_count": null,
   "metadata": {},
   "outputs": [],
   "source": [
    "x=select(msleep, -name, order)  # don't mix them together\n",
    "head(x)\n",
    "head(msleep)"
   ]
  },
  {
   "cell_type": "code",
   "execution_count": null,
   "metadata": {
    "scrolled": true
   },
   "outputs": [],
   "source": [
    "x=select(msleep, order:awake)\n",
    "head(x)"
   ]
  },
  {
   "cell_type": "code",
   "execution_count": null,
   "metadata": {
    "scrolled": true
   },
   "outputs": [],
   "source": [
    "x=select(msleep, starts_with(\"sl\"))\n",
    "head(x)"
   ]
  },
  {
   "cell_type": "code",
   "execution_count": null,
   "metadata": {
    "scrolled": true
   },
   "outputs": [],
   "source": [
    "x=select(msleep, ends_with(\"e\"))\n",
    "head(x)"
   ]
  },
  {
   "cell_type": "code",
   "execution_count": null,
   "metadata": {
    "scrolled": true
   },
   "outputs": [],
   "source": [
    "x=select(msleep, matches(\"ee.*e\"))  #regular expression\n",
    "# x=select(msleep, matches(\"e.*e\"))  #regular expression\n",
    "head(x)"
   ]
  },
  {
   "cell_type": "code",
   "execution_count": null,
   "metadata": {
    "scrolled": true
   },
   "outputs": [],
   "source": [
    "x=select(msleep, contains(\"_\")) \n",
    "head(x)"
   ]
  },
  {
   "cell_type": "code",
   "execution_count": null,
   "metadata": {
    "scrolled": true
   },
   "outputs": [],
   "source": [
    "x=select(msleep, one_of(\"name\", \"order\", \"xxx\")) \n",
    "head(x)"
   ]
  },
  {
   "cell_type": "code",
   "execution_count": null,
   "metadata": {
    "scrolled": true
   },
   "outputs": [],
   "source": [
    "maintainer(\"dplyr\")"
   ]
  },
  {
   "cell_type": "code",
   "execution_count": null,
   "metadata": {
    "scrolled": true
   },
   "outputs": [],
   "source": [
    "head(mtcars)"
   ]
  },
  {
   "cell_type": "code",
   "execution_count": null,
   "metadata": {
    "scrolled": true
   },
   "outputs": [],
   "source": [
    "head(filter(mtcars, cyl==8))"
   ]
  },
  {
   "cell_type": "code",
   "execution_count": null,
   "metadata": {
    "scrolled": true
   },
   "outputs": [],
   "source": [
    "head(filter(mtcars, cyl<8))"
   ]
  },
  {
   "cell_type": "code",
   "execution_count": null,
   "metadata": {
    "scrolled": true
   },
   "outputs": [],
   "source": [
    "head(filter(mtcars, cyl<6 & (vs==1 | am==1)))"
   ]
  },
  {
   "cell_type": "code",
   "execution_count": null,
   "metadata": {
    "scrolled": true
   },
   "outputs": [],
   "source": [
    "head(filter(mtcars, cyl<6, vs==1, am==1)) #equivalent to AND"
   ]
  },
  {
   "cell_type": "code",
   "execution_count": null,
   "metadata": {},
   "outputs": [],
   "source": [
    "x=arrange(mtcars, cyl, gear)\n",
    "x"
   ]
  },
  {
   "cell_type": "code",
   "execution_count": null,
   "metadata": {
    "scrolled": true
   },
   "outputs": [],
   "source": [
    "x=select(mtcars, cyl, vs, am)\n",
    "arrange(x, cyl, vs)"
   ]
  },
  {
   "cell_type": "code",
   "execution_count": null,
   "metadata": {
    "scrolled": true
   },
   "outputs": [],
   "source": [
    "x=select(arrange(x, cyl, vs), cyl, vs, am)\n",
    "x"
   ]
  },
  {
   "cell_type": "code",
   "execution_count": null,
   "metadata": {
    "scrolled": true
   },
   "outputs": [],
   "source": [
    "x=arrange(mtcars, cyl*gear/carb)\n",
    "x"
   ]
  },
  {
   "cell_type": "code",
   "execution_count": null,
   "metadata": {
    "scrolled": true
   },
   "outputs": [],
   "source": [
    "x=arrange(mtcars, desc(cyl*gear/carb))\n",
    "x"
   ]
  },
  {
   "cell_type": "code",
   "execution_count": null,
   "metadata": {
    "scrolled": true
   },
   "outputs": [],
   "source": [
    "x=rename(mtcars, Weight=wt); head(x) # newname = oldname"
   ]
  },
  {
   "cell_type": "code",
   "execution_count": null,
   "metadata": {
    "scrolled": true
   },
   "outputs": [],
   "source": [
    "x=mutate(mtcars, score=cyl*gear/carb); head(x) #create new variable"
   ]
  },
  {
   "cell_type": "code",
   "execution_count": null,
   "metadata": {},
   "outputs": [],
   "source": [
    "x=transmute(mtcars, am, vs, score=cyl*gear/carb); head(x) # drop all other columns\n",
    "x=transmute(mtcars, score=cyl*gear/carb); head(x)"
   ]
  },
  {
   "cell_type": "code",
   "execution_count": null,
   "metadata": {},
   "outputs": [],
   "source": [
    "arrange(mutate(mtcars, score=cyl*gear/carb), score)"
   ]
  },
  {
   "cell_type": "code",
   "execution_count": null,
   "metadata": {},
   "outputs": [],
   "source": [
    "head(mtcars)\n",
    "'============group by cyl'\n",
    "by_cyl=group_by(mtcars, cyl); head(by_cyl)\n",
    "str(mtcars)\n",
    "'============='\n",
    "str(by_cyl)\n",
    "class(by_cyl)"
   ]
  },
  {
   "cell_type": "code",
   "execution_count": null,
   "metadata": {},
   "outputs": [],
   "source": [
    "summarise(by_cyl, sum(hp), sd(hp), sum(disp), sd(disp))"
   ]
  },
  {
   "cell_type": "code",
   "execution_count": null,
   "metadata": {
    "scrolled": true
   },
   "outputs": [],
   "source": [
    "by_vore=group_by(msleep, vore)\n",
    "summarise(by_vore, sum(sleep_total), total=sum(sleep_total), avgrem=mean(sleep_rem, na.rm=T)) #give column name"
   ]
  },
  {
   "cell_type": "code",
   "execution_count": null,
   "metadata": {
    "scrolled": true
   },
   "outputs": [],
   "source": [
    "sqrt(9) %>% sqrt %>% sqrt\n",
    "9 %>% sqrt %>% sqrt %>% sqrt\n",
    "9**(1/8)"
   ]
  },
  {
   "cell_type": "code",
   "execution_count": null,
   "metadata": {},
   "outputs": [],
   "source": [
    "sum(1) %>% sum(1) %>% sum(1) %>% sum(1) #always pass the previous result to the next function as the first arg"
   ]
  },
  {
   "cell_type": "code",
   "execution_count": null,
   "metadata": {},
   "outputs": [],
   "source": [
    "8 %>% (function(x){x*x}) #anonymous function"
   ]
  },
  {
   "cell_type": "code",
   "execution_count": null,
   "metadata": {},
   "outputs": [],
   "source": [
    "msleep %>% \n",
    "select(name, order, sleep_total) %>% \n",
    "arrange(order, sleep_total) %>% \n",
    "head \n",
    "#these functions don't have the dataframe as the first arg because %>% passes in the first arg"
   ]
  },
  {
   "cell_type": "code",
   "execution_count": null,
   "metadata": {},
   "outputs": [],
   "source": [
    "msleep %>% select(name, order, sleep_total) %>% arrange(order, sleep_total) %>% filter(sleep_total >= 16)"
   ]
  },
  {
   "cell_type": "code",
   "execution_count": null,
   "metadata": {},
   "outputs": [],
   "source": [
    "msleep %>% \n",
    "group_by(order) %>% \n",
    "summarise(avg_sleep = mean(sleep_total), \n",
    "        min_sleep = min(sleep_total),\n",
    "        max_sleep = max(sleep_total), \n",
    "        total = n()) %>% \n",
    "head\n",
    "# n() (returns the length of vector)"
   ]
  },
  {
   "cell_type": "code",
   "execution_count": null,
   "metadata": {},
   "outputs": [],
   "source": [
    "library(reshape2)"
   ]
  },
  {
   "cell_type": "code",
   "execution_count": null,
   "metadata": {
    "scrolled": true
   },
   "outputs": [],
   "source": [
    "names(airquality)\n",
    "names(airquality) <- toupper(names(airquality))\n",
    "head(airquality)"
   ]
  },
  {
   "cell_type": "code",
   "execution_count": null,
   "metadata": {
    "scrolled": true
   },
   "outputs": [],
   "source": [
    "\"=============airquality\"\n",
    "head(airquality)\n",
    "\"=============aql\"\n",
    "aql <- melt(airquality) \n",
    "head(aql)\n",
    "tail(aql)"
   ]
  },
  {
   "cell_type": "code",
   "execution_count": null,
   "metadata": {},
   "outputs": [],
   "source": [
    "head(airquality)\n",
    "subset(airquality, MONTH==5 & DAY==1)\n",
    "filter(airquality, MONTH==5 & DAY==1) #filter is faster than subset when data set is over 15000 or so\n",
    "aql=melt(airquality, id.vars=c('MONTH', 'DAY')) \n",
    "# aql\n",
    "subset(aql, MONTH==5 & DAY==1)"
   ]
  },
  {
   "cell_type": "code",
   "execution_count": null,
   "metadata": {},
   "outputs": [],
   "source": [
    "#when some columns are not numeric, use all of them as id.vars\n",
    "melt(msleep)"
   ]
  },
  {
   "cell_type": "code",
   "execution_count": null,
   "metadata": {
    "scrolled": true
   },
   "outputs": [],
   "source": [
    "filter(melt(msleep), name=='Cheetah', genus=='Acinonyx')"
   ]
  },
  {
   "cell_type": "code",
   "execution_count": null,
   "metadata": {},
   "outputs": [],
   "source": [
    "filter(msleep, name=='Cheetah', genus=='Acinonyx')"
   ]
  },
  {
   "cell_type": "code",
   "execution_count": null,
   "metadata": {},
   "outputs": [],
   "source": [
    "aql=melt(airquality, id.vars=\"DAY\");aql #it doesn't guarantee the id's uniqueness.\n",
    "subset(airquality, DAY==1)\n",
    "subset(aql, DAY==1)"
   ]
  },
  {
   "cell_type": "code",
   "execution_count": null,
   "metadata": {},
   "outputs": [],
   "source": [
    "aql=melt(airquality, id.vars=\"OZONE\");head(aql) #it doesn't guarantee the id's uniqueness.\n",
    "subset(airquality, OZONE==12)\n",
    "subset(aql, OZONE==12)"
   ]
  },
  {
   "cell_type": "code",
   "execution_count": null,
   "metadata": {},
   "outputs": [],
   "source": [
    "# subset(airquality, MONTH==5 & DAY==1)\n",
    "subset(airquality, OZONE==12)\n",
    "head(aql)\n",
    "subset(aql, OZONE==12) \n",
    "subset(aql, value==190)\n",
    "\n",
    "# subset(aql, MONTH==5 & DAY==1)"
   ]
  },
  {
   "cell_type": "code",
   "execution_count": null,
   "metadata": {
    "scrolled": true
   },
   "outputs": [],
   "source": [
    "aql=melt(airquality, id.vars=c('MONTH', 'DAY'))\n",
    "subset(airquality, MONTH==5 & DAY==1)\n",
    "subset(aql, MONTH==5 & DAY==1)"
   ]
  },
  {
   "cell_type": "code",
   "execution_count": null,
   "metadata": {
    "scrolled": true
   },
   "outputs": [],
   "source": [
    "head(airquality)\n",
    "aql <- melt(airquality, id.vars = c(\"MONTH\", \"DAY\"),\n",
    "  variable.name = \"climate_variable\", \n",
    "  value.name = \"climate_value\") #rename\n",
    "subset(aql, MONTH==5 & DAY==1)"
   ]
  },
  {
   "cell_type": "code",
   "execution_count": null,
   "metadata": {
    "scrolled": true
   },
   "outputs": [],
   "source": [
    "aql"
   ]
  },
  {
   "cell_type": "code",
   "execution_count": null,
   "metadata": {},
   "outputs": [],
   "source": [
    "aqw <- dcast(aql, MONTH + DAY ~ climate_variable, value.var=\"climate_value\");head(aqw)\n",
    "subset(aqw, MONTH==5 & DAY==1)"
   ]
  },
  {
   "cell_type": "code",
   "execution_count": null,
   "metadata": {},
   "outputs": [],
   "source": [
    "head(aql)\n",
    "dcast(aql, MONTH ~ climate_variable)"
   ]
  },
  {
   "cell_type": "code",
   "execution_count": null,
   "metadata": {
    "scrolled": true
   },
   "outputs": [],
   "source": [
    "aql2=melt(airquality, id.vars=c(\"MONTH\", \"DAY\", \"OZONE\"))\n",
    "head(aql2)"
   ]
  },
  {
   "cell_type": "code",
   "execution_count": null,
   "metadata": {
    "scrolled": true
   },
   "outputs": [],
   "source": [
    "dcast(aql, MONTH ~ climate_variable, fun.aggregate=mean, na.rm=T)"
   ]
  },
  {
   "cell_type": "code",
   "execution_count": null,
   "metadata": {},
   "outputs": [],
   "source": [
    "head(iris)\n",
    "\n",
    "# data6 <- melt(iris,measure.vars = c(\"Species\")) \n",
    "data6 <- melt(iris,measure.vars = c(\"Petal.Width\")) \n",
    "\"==========data6\"\n",
    "data6"
   ]
  },
  {
   "cell_type": "code",
   "execution_count": null,
   "metadata": {},
   "outputs": [],
   "source": [
    "dim(iris)\n",
    "dim(data6)"
   ]
  },
  {
   "cell_type": "code",
   "execution_count": null,
   "metadata": {},
   "outputs": [],
   "source": [
    "#attributes are not identical across measure variables; they will be dropped\n",
    "# data6 <- melt(iris,measure.vars = c(\"Species\", \"Sepal.Length\")) \n",
    "\n",
    "# head(data6,3)\n",
    "subset(iris, Sepal.Length==5.1 & Sepal.Width==3.5)\n",
    "subset(data6, Sepal.Length==5.1 & Sepal.Width==3.5)"
   ]
  },
  {
   "cell_type": "code",
   "execution_count": null,
   "metadata": {
    "scrolled": true
   },
   "outputs": [],
   "source": [
    "aql <- melt(airquality, id.vars = c(\"MONTH\", \"DAY\"))\n",
    "head(aql)\n",
    "aqw <- dcast(aql, MONTH + DAY ~ variable)\n",
    "head(aqw)\n",
    "head(airquality) # original data"
   ]
  },
  {
   "cell_type": "code",
   "execution_count": null,
   "metadata": {
    "scrolled": true
   },
   "outputs": [],
   "source": [
    "head(iris) # use string volumn as default id variables if not specified.\n",
    "x=melt(iris);head(x)"
   ]
  },
  {
   "cell_type": "code",
   "execution_count": null,
   "metadata": {},
   "outputs": [],
   "source": []
  }
 ],
 "metadata": {
  "kernelspec": {
   "display_name": "R",
   "language": "R",
   "name": "ir"
  },
  "language_info": {
   "codemirror_mode": "r",
   "file_extension": ".r",
   "mimetype": "text/x-r-source",
   "name": "R",
   "pygments_lexer": "r",
   "version": "4.0.2"
  }
 },
 "nbformat": 4,
 "nbformat_minor": 4
}

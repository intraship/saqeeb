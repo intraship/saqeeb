{
 "cells": [
  {
   "cell_type": "code",
   "execution_count": 1,
   "metadata": {
    "scrolled": true
   },
   "outputs": [
    {
     "data": {
      "text/html": [
       "<pre class=language-r><code>function (data = NA, nrow = 1, ncol = 1, byrow = FALSE, dimnames = NULL) \n",
       "{\n",
       "<span style=white-space:pre-wrap>    if (is.object(data) || !is.atomic(data)) </span>\n",
       "<span style=white-space:pre-wrap>        data &lt;- as.vector(data)</span>\n",
       "<span style=white-space:pre-wrap>    .Internal(matrix(data, nrow, ncol, byrow, dimnames, missing(nrow), </span>\n",
       "<span style=white-space:pre-wrap>        missing(ncol)))</span>\n",
       "}</code></pre>"
      ],
      "text/latex": [
       "\\begin{minted}{r}\n",
       "function (data = NA, nrow = 1, ncol = 1, byrow = FALSE, dimnames = NULL) \n",
       "\\{\n",
       "    if (is.object(data) \\textbar{}\\textbar{} !is.atomic(data)) \n",
       "        data <- as.vector(data)\n",
       "    .Internal(matrix(data, nrow, ncol, byrow, dimnames, missing(nrow), \n",
       "        missing(ncol)))\n",
       "\\}\n",
       "\\end{minted}"
      ],
      "text/markdown": [
       "```r\n",
       "function (data = NA, nrow = 1, ncol = 1, byrow = FALSE, dimnames = NULL) \n",
       "{\n",
       "    if (is.object(data) || !is.atomic(data)) \n",
       "        data <- as.vector(data)\n",
       "    .Internal(matrix(data, nrow, ncol, byrow, dimnames, missing(nrow), \n",
       "        missing(ncol)))\n",
       "}\n",
       "```"
      ],
      "text/plain": [
       "function (data = NA, nrow = 1, ncol = 1, byrow = FALSE, dimnames = NULL) \n",
       "{\n",
       "    if (is.object(data) || !is.atomic(data)) \n",
       "        data <- as.vector(data)\n",
       "    .Internal(matrix(data, nrow, ncol, byrow, dimnames, missing(nrow), \n",
       "        missing(ncol)))\n",
       "}\n",
       "<bytecode: 0x0000000014353758>\n",
       "<environment: namespace:base>"
      ]
     },
     "metadata": {},
     "output_type": "display_data"
    },
    {
     "data": {
      "text/html": [
       "\n",
       "<table width=\"100%\" summary=\"page for matrix {base}\"><tr><td>matrix {base}</td><td style=\"text-align: right;\">R Documentation</td></tr></table>\n",
       "\n",
       "<h2>Matrices</h2>\n",
       "\n",
       "<h3>Description</h3>\n",
       "\n",
       "<p><code>matrix</code> creates a matrix from the given set of values.\n",
       "</p>\n",
       "<p><code>as.matrix</code> attempts to turn its argument into a matrix.\n",
       "</p>\n",
       "<p><code>is.matrix</code> tests if its argument is a (strict) matrix.\n",
       "</p>\n",
       "\n",
       "\n",
       "<h3>Usage</h3>\n",
       "\n",
       "<pre>\n",
       "matrix(data = NA, nrow = 1, ncol = 1, byrow = FALSE,\n",
       "       dimnames = NULL)\n",
       "\n",
       "as.matrix(x, ...)\n",
       "## S3 method for class 'data.frame'\n",
       "as.matrix(x, rownames.force = NA, ...)\n",
       "\n",
       "is.matrix(x)\n",
       "</pre>\n",
       "\n",
       "\n",
       "<h3>Arguments</h3>\n",
       "\n",
       "<table summary=\"R argblock\">\n",
       "<tr valign=\"top\"><td><code>data</code></td>\n",
       "<td>\n",
       "<p>an optional data vector (including a list or\n",
       "<code>expression</code> vector).  Non-atomic classed <span style=\"font-family: Courier New, Courier; color: #666666;\"><b>R</b></span> objects are\n",
       "coerced by <code>as.vector</code> and all attributes discarded.</p>\n",
       "</td></tr>\n",
       "<tr valign=\"top\"><td><code>nrow</code></td>\n",
       "<td>\n",
       "<p>the desired number of rows.</p>\n",
       "</td></tr>\n",
       "<tr valign=\"top\"><td><code>ncol</code></td>\n",
       "<td>\n",
       "<p>the desired number of columns.</p>\n",
       "</td></tr>\n",
       "<tr valign=\"top\"><td><code>byrow</code></td>\n",
       "<td>\n",
       "<p>logical. If <code>FALSE</code> (the default) the matrix is\n",
       "filled by columns, otherwise the matrix is filled by rows.</p>\n",
       "</td></tr>\n",
       "<tr valign=\"top\"><td><code>dimnames</code></td>\n",
       "<td>\n",
       "<p>A <code>dimnames</code> attribute for the matrix:\n",
       "<code>NULL</code> or a <code>list</code> of length 2 giving the row and column\n",
       "names respectively.  An empty list is treated as <code>NULL</code>, and a\n",
       "list of length one as row names.  The list can be named, and the\n",
       "list names will be used as names for the dimensions.</p>\n",
       "</td></tr>\n",
       "<tr valign=\"top\"><td><code>x</code></td>\n",
       "<td>\n",
       "<p>an <span style=\"font-family: Courier New, Courier; color: #666666;\"><b>R</b></span> object.</p>\n",
       "</td></tr>\n",
       "<tr valign=\"top\"><td><code>...</code></td>\n",
       "<td>\n",
       "<p>additional arguments to be passed to or from methods.</p>\n",
       "</td></tr>\n",
       "<tr valign=\"top\"><td><code>rownames.force</code></td>\n",
       "<td>\n",
       "<p>logical indicating if the resulting matrix\n",
       "should have character (rather than <code>NULL</code>)\n",
       "<code>rownames</code>.  The default, <code>NA</code>, uses <code>NULL</code>\n",
       "rownames if the data frame has &lsquo;automatic&rsquo; row.names or for a\n",
       "zero-row data frame.</p>\n",
       "</td></tr>\n",
       "</table>\n",
       "\n",
       "\n",
       "<h3>Details</h3>\n",
       "\n",
       "<p>If one of <code>nrow</code> or <code>ncol</code> is not given, an attempt is\n",
       "made to infer it from the length of <code>data</code> and the other\n",
       "parameter.  If neither is given, a one-column matrix is returned.\n",
       "</p>\n",
       "<p>If there are too few elements in <code>data</code> to fill the matrix,\n",
       "then the elements in <code>data</code> are recycled.  If <code>data</code> has\n",
       "length zero, <code>NA</code> of an appropriate type is used for atomic\n",
       "vectors (<code>0</code> for raw vectors) and <code>NULL</code> for lists.\n",
       "</p>\n",
       "<p><code>is.matrix</code> returns <code>TRUE</code> if <code>x</code> is a vector and has a\n",
       "<code>\"dim\"</code> attribute of length 2 and <code>FALSE</code> otherwise.\n",
       "Note that a <code>data.frame</code> is <strong>not</strong> a matrix by this\n",
       "test.  The function is generic: you can write methods to handle\n",
       "specific classes of objects, see InternalMethods.\n",
       "</p>\n",
       "<p><code>as.matrix</code> is a generic function.  The method for data frames\n",
       "will return a character matrix if there is only atomic columns and any\n",
       "non-(numeric/logical/complex) column, applying <code>as.vector</code>\n",
       "to factors and <code>format</code> to other non-character columns.\n",
       "Otherwise, the usual coercion hierarchy (logical &lt; integer &lt; double &lt;\n",
       "complex) will be used, e.g., all-logical data frames will be coerced\n",
       "to a logical matrix, mixed logical-integer will give a integer matrix,\n",
       "etc.\n",
       "</p>\n",
       "<p>The default method for <code>as.matrix</code> calls <code>as.vector(x)</code>, and\n",
       "hence e.g. coerces factors to character vectors.\n",
       "</p>\n",
       "<p>When coercing a vector, it produces a one-column matrix, and\n",
       "promotes the names (if any) of the vector to the rownames of the matrix.\n",
       "</p>\n",
       "<p><code>is.matrix</code> is a primitive function.\n",
       "</p>\n",
       "<p>The <code>print</code> method for a matrix gives a rectangular layout with\n",
       "dimnames or indices.  For a list matrix, the entries of length not\n",
       "one are printed in  the form <span class=\"samp\">integer,7</span> indicating the type\n",
       "and length.\n",
       "</p>\n",
       "\n",
       "\n",
       "<h3>Note</h3>\n",
       "\n",
       "<p>If you just want to convert a vector to a matrix, something like\n",
       "</p>\n",
       "<pre>  dim(x) &lt;- c(nx, ny)\n",
       "  dimnames(x) &lt;- list(row_names, col_names)\n",
       "</pre>\n",
       "<p>will avoid duplicating <code>x</code>.\n",
       "</p>\n",
       "\n",
       "\n",
       "<h3>References</h3>\n",
       "\n",
       "<p>Becker, R. A., Chambers, J. M. and Wilks, A. R. (1988)\n",
       "<em>The New S Language</em>.\n",
       "Wadsworth &amp; Brooks/Cole.\n",
       "</p>\n",
       "\n",
       "\n",
       "<h3>See Also</h3>\n",
       "\n",
       "<p><code>data.matrix</code>, which attempts to convert to a numeric\n",
       "matrix.\n",
       "</p>\n",
       "<p>A matrix is the special case of a two-dimensional <code>array</code>.\n",
       "Since <span style=\"font-family: Courier New, Courier; color: #666666;\"><b>R</b></span> 4.0.0, <code>inherits(m, \"array\")</code> is true for a\n",
       "<code>matrix</code> <code>m</code>.\n",
       "</p>\n",
       "\n",
       "\n",
       "<h3>Examples</h3>\n",
       "\n",
       "<pre>\n",
       "is.matrix(as.matrix(1:10))\n",
       "!is.matrix(warpbreaks)  # data.frame, NOT matrix!\n",
       "warpbreaks[1:10,]\n",
       "as.matrix(warpbreaks[1:10,])  # using as.matrix.data.frame(.) method\n",
       "\n",
       "## Example of setting row and column names\n",
       "mdat &lt;- matrix(c(1,2,3, 11,12,13), nrow = 2, ncol = 3, byrow = TRUE,\n",
       "               dimnames = list(c(\"row1\", \"row2\"),\n",
       "                               c(\"C.1\", \"C.2\", \"C.3\")))\n",
       "mdat\n",
       "</pre>\n",
       "\n",
       "<hr /><div style=\"text-align: center;\">[Package <em>base</em> version 4.0.2 ]</div>"
      ],
      "text/latex": [
       "\\inputencoding{utf8}\n",
       "\\HeaderA{matrix}{Matrices}{matrix}\n",
       "\\aliasA{as.matrix}{matrix}{as.matrix}\n",
       "\\methaliasA{as.matrix.data.frame}{matrix}{as.matrix.data.frame}\n",
       "\\methaliasA{as.matrix.default}{matrix}{as.matrix.default}\n",
       "\\aliasA{is.matrix}{matrix}{is.matrix}\n",
       "\\keyword{array}{matrix}\n",
       "\\keyword{algebra}{matrix}\n",
       "%\n",
       "\\begin{Description}\\relax\n",
       "\\code{matrix} creates a matrix from the given set of values.\n",
       "\n",
       "\\code{as.matrix} attempts to turn its argument into a matrix.\n",
       "\n",
       "\\code{is.matrix} tests if its argument is a (strict) matrix.\n",
       "\\end{Description}\n",
       "%\n",
       "\\begin{Usage}\n",
       "\\begin{verbatim}\n",
       "matrix(data = NA, nrow = 1, ncol = 1, byrow = FALSE,\n",
       "       dimnames = NULL)\n",
       "\n",
       "as.matrix(x, ...)\n",
       "## S3 method for class 'data.frame'\n",
       "as.matrix(x, rownames.force = NA, ...)\n",
       "\n",
       "is.matrix(x)\n",
       "\\end{verbatim}\n",
       "\\end{Usage}\n",
       "%\n",
       "\\begin{Arguments}\n",
       "\\begin{ldescription}\n",
       "\\item[\\code{data}] an optional data vector (including a list or\n",
       "\\code{\\LinkA{expression}{expression}} vector).  Non-atomic classed \\R{} objects are\n",
       "coerced by \\code{\\LinkA{as.vector}{as.vector}} and all attributes discarded.\n",
       "\\item[\\code{nrow}] the desired number of rows.\n",
       "\\item[\\code{ncol}] the desired number of columns.\n",
       "\\item[\\code{byrow}] logical. If \\code{FALSE} (the default) the matrix is\n",
       "filled by columns, otherwise the matrix is filled by rows.\n",
       "\\item[\\code{dimnames}] A \\code{\\LinkA{dimnames}{dimnames}} attribute for the matrix:\n",
       "\\code{NULL} or a \\code{list} of length 2 giving the row and column\n",
       "names respectively.  An empty list is treated as \\code{NULL}, and a\n",
       "list of length one as row names.  The list can be named, and the\n",
       "list names will be used as names for the dimensions.\n",
       "\\item[\\code{x}] an \\R{} object.\n",
       "\\item[\\code{...}] additional arguments to be passed to or from methods.\n",
       "\\item[\\code{rownames.force}] logical indicating if the resulting matrix\n",
       "should have character (rather than \\code{NULL})\n",
       "\\code{\\LinkA{rownames}{rownames}}.  The default, \\code{NA}, uses \\code{NULL}\n",
       "rownames if the data frame has `automatic' row.names or for a\n",
       "zero-row data frame.\n",
       "\\end{ldescription}\n",
       "\\end{Arguments}\n",
       "%\n",
       "\\begin{Details}\\relax\n",
       "If one of \\code{nrow} or \\code{ncol} is not given, an attempt is\n",
       "made to infer it from the length of \\code{data} and the other\n",
       "parameter.  If neither is given, a one-column matrix is returned.\n",
       "\n",
       "If there are too few elements in \\code{data} to fill the matrix,\n",
       "then the elements in \\code{data} are recycled.  If \\code{data} has\n",
       "length zero, \\code{NA} of an appropriate type is used for atomic\n",
       "vectors (\\code{0} for raw vectors) and \\code{NULL} for lists.\n",
       "\n",
       "\\code{is.matrix} returns \\code{TRUE} if \\code{x} is a vector and has a\n",
       "\\code{\"\\LinkA{dim}{dim}\"} attribute of length 2 and \\code{FALSE} otherwise.\n",
       "Note that a \\code{\\LinkA{data.frame}{data.frame}} is \\strong{not} a matrix by this\n",
       "test.  The function is generic: you can write methods to handle\n",
       "specific classes of objects, see \\LinkA{InternalMethods}{InternalMethods}.\n",
       "\n",
       "\\code{as.matrix} is a generic function.  The method for data frames\n",
       "will return a character matrix if there is only atomic columns and any\n",
       "non-(numeric/logical/complex) column, applying \\code{\\LinkA{as.vector}{as.vector}}\n",
       "to factors and \\code{\\LinkA{format}{format}} to other non-character columns.\n",
       "Otherwise, the usual coercion hierarchy (logical < integer < double <\n",
       "complex) will be used, e.g., all-logical data frames will be coerced\n",
       "to a logical matrix, mixed logical-integer will give a integer matrix,\n",
       "etc.\n",
       "\n",
       "The default method for \\code{as.matrix} calls \\code{as.vector(x)}, and\n",
       "hence e.g.~coerces factors to character vectors.\n",
       "\n",
       "When coercing a vector, it produces a one-column matrix, and\n",
       "promotes the names (if any) of the vector to the rownames of the matrix.\n",
       "\n",
       "\\code{is.matrix} is a \\LinkA{primitive}{primitive} function.\n",
       "\n",
       "The \\code{print} method for a matrix gives a rectangular layout with\n",
       "dimnames or indices.  For a list matrix, the entries of length not\n",
       "one are printed in  the form \\samp{integer,7} indicating the type\n",
       "and length.\n",
       "\\end{Details}\n",
       "%\n",
       "\\begin{Note}\\relax\n",
       "If you just want to convert a vector to a matrix, something like\n",
       "\\begin{alltt}  dim(x) <- c(nx, ny)\n",
       "  dimnames(x) <- list(row_names, col_names)\n",
       "\\end{alltt}\n",
       "\n",
       "will avoid duplicating \\code{x}.\n",
       "\\end{Note}\n",
       "%\n",
       "\\begin{References}\\relax\n",
       "Becker, R. A., Chambers, J. M. and Wilks, A. R. (1988)\n",
       "\\emph{The New S Language}.\n",
       "Wadsworth \\& Brooks/Cole.\n",
       "\\end{References}\n",
       "%\n",
       "\\begin{SeeAlso}\\relax\n",
       "\\code{\\LinkA{data.matrix}{data.matrix}}, which attempts to convert to a numeric\n",
       "matrix.\n",
       "\n",
       "A matrix is the special case of a two-dimensional \\code{\\LinkA{array}{array}}.\n",
       "Since \\R{} 4.0.0, \\code{\\LinkA{inherits}{inherits}(m, \"array\")} is true for a\n",
       "\\code{matrix} \\code{m}.\n",
       "\\end{SeeAlso}\n",
       "%\n",
       "\\begin{Examples}\n",
       "\\begin{ExampleCode}\n",
       "is.matrix(as.matrix(1:10))\n",
       "!is.matrix(warpbreaks)  # data.frame, NOT matrix!\n",
       "warpbreaks[1:10,]\n",
       "as.matrix(warpbreaks[1:10,])  # using as.matrix.data.frame(.) method\n",
       "\n",
       "## Example of setting row and column names\n",
       "mdat <- matrix(c(1,2,3, 11,12,13), nrow = 2, ncol = 3, byrow = TRUE,\n",
       "               dimnames = list(c(\"row1\", \"row2\"),\n",
       "                               c(\"C.1\", \"C.2\", \"C.3\")))\n",
       "mdat\n",
       "\\end{ExampleCode}\n",
       "\\end{Examples}"
      ],
      "text/plain": [
       "matrix                  package:base                   R Documentation\n",
       "\n",
       "_\bM_\ba_\bt_\br_\bi_\bc_\be_\bs\n",
       "\n",
       "_\bD_\be_\bs_\bc_\br_\bi_\bp_\bt_\bi_\bo_\bn:\n",
       "\n",
       "     'matrix' creates a matrix from the given set of values.\n",
       "\n",
       "     'as.matrix' attempts to turn its argument into a matrix.\n",
       "\n",
       "     'is.matrix' tests if its argument is a (strict) matrix.\n",
       "\n",
       "_\bU_\bs_\ba_\bg_\be:\n",
       "\n",
       "     matrix(data = NA, nrow = 1, ncol = 1, byrow = FALSE,\n",
       "            dimnames = NULL)\n",
       "     \n",
       "     as.matrix(x, ...)\n",
       "     ## S3 method for class 'data.frame'\n",
       "     as.matrix(x, rownames.force = NA, ...)\n",
       "     \n",
       "     is.matrix(x)\n",
       "     \n",
       "_\bA_\br_\bg_\bu_\bm_\be_\bn_\bt_\bs:\n",
       "\n",
       "    data: an optional data vector (including a list or 'expression'\n",
       "          vector).  Non-atomic classed R objects are coerced by\n",
       "          'as.vector' and all attributes discarded.\n",
       "\n",
       "    nrow: the desired number of rows.\n",
       "\n",
       "    ncol: the desired number of columns.\n",
       "\n",
       "   byrow: logical. If 'FALSE' (the default) the matrix is filled by\n",
       "          columns, otherwise the matrix is filled by rows.\n",
       "\n",
       "dimnames: A 'dimnames' attribute for the matrix: 'NULL' or a 'list' of\n",
       "          length 2 giving the row and column names respectively.  An\n",
       "          empty list is treated as 'NULL', and a list of length one as\n",
       "          row names.  The list can be named, and the list names will be\n",
       "          used as names for the dimensions.\n",
       "\n",
       "       x: an R object.\n",
       "\n",
       "     ...: additional arguments to be passed to or from methods.\n",
       "\n",
       "rownames.force: logical indicating if the resulting matrix should have\n",
       "          character (rather than 'NULL') 'rownames'.  The default,\n",
       "          'NA', uses 'NULL' rownames if the data frame has 'automatic'\n",
       "          row.names or for a zero-row data frame.\n",
       "\n",
       "_\bD_\be_\bt_\ba_\bi_\bl_\bs:\n",
       "\n",
       "     If one of 'nrow' or 'ncol' is not given, an attempt is made to\n",
       "     infer it from the length of 'data' and the other parameter.  If\n",
       "     neither is given, a one-column matrix is returned.\n",
       "\n",
       "     If there are too few elements in 'data' to fill the matrix, then\n",
       "     the elements in 'data' are recycled.  If 'data' has length zero,\n",
       "     'NA' of an appropriate type is used for atomic vectors ('0' for\n",
       "     raw vectors) and 'NULL' for lists.\n",
       "\n",
       "     'is.matrix' returns 'TRUE' if 'x' is a vector and has a '\"dim\"'\n",
       "     attribute of length 2 and 'FALSE' otherwise.  Note that a\n",
       "     'data.frame' is *not* a matrix by this test.  The function is\n",
       "     generic: you can write methods to handle specific classes of\n",
       "     objects, see InternalMethods.\n",
       "\n",
       "     'as.matrix' is a generic function.  The method for data frames\n",
       "     will return a character matrix if there is only atomic columns and\n",
       "     any non-(numeric/logical/complex) column, applying 'as.vector' to\n",
       "     factors and 'format' to other non-character columns.  Otherwise,\n",
       "     the usual coercion hierarchy (logical < integer < double <\n",
       "     complex) will be used, e.g., all-logical data frames will be\n",
       "     coerced to a logical matrix, mixed logical-integer will give a\n",
       "     integer matrix, etc.\n",
       "\n",
       "     The default method for 'as.matrix' calls 'as.vector(x)', and hence\n",
       "     e.g. coerces factors to character vectors.\n",
       "\n",
       "     When coercing a vector, it produces a one-column matrix, and\n",
       "     promotes the names (if any) of the vector to the rownames of the\n",
       "     matrix.\n",
       "\n",
       "     'is.matrix' is a primitive function.\n",
       "\n",
       "     The 'print' method for a matrix gives a rectangular layout with\n",
       "     dimnames or indices.  For a list matrix, the entries of length not\n",
       "     one are printed in the form 'integer,7' indicating the type and\n",
       "     length.\n",
       "\n",
       "_\bN_\bo_\bt_\be:\n",
       "\n",
       "     If you just want to convert a vector to a matrix, something like\n",
       "\n",
       "       dim(x) <- c(nx, ny)\n",
       "       dimnames(x) <- list(row_names, col_names)\n",
       "     \n",
       "     will avoid duplicating 'x'.\n",
       "\n",
       "_\bR_\be_\bf_\be_\br_\be_\bn_\bc_\be_\bs:\n",
       "\n",
       "     Becker, R. A., Chambers, J. M. and Wilks, A. R. (1988) _The New S\n",
       "     Language_.  Wadsworth & Brooks/Cole.\n",
       "\n",
       "_\bS_\be_\be _\bA_\bl_\bs_\bo:\n",
       "\n",
       "     'data.matrix', which attempts to convert to a numeric matrix.\n",
       "\n",
       "     A matrix is the special case of a two-dimensional 'array'.  Since\n",
       "     R 4.0.0, 'inherits(m, \"array\")' is true for a 'matrix' 'm'.\n",
       "\n",
       "_\bE_\bx_\ba_\bm_\bp_\bl_\be_\bs:\n",
       "\n",
       "     is.matrix(as.matrix(1:10))\n",
       "     !is.matrix(warpbreaks)  # data.frame, NOT matrix!\n",
       "     warpbreaks[1:10,]\n",
       "     as.matrix(warpbreaks[1:10,])  # using as.matrix.data.frame(.) method\n",
       "     \n",
       "     ## Example of setting row and column names\n",
       "     mdat <- matrix(c(1,2,3, 11,12,13), nrow = 2, ncol = 3, byrow = TRUE,\n",
       "                    dimnames = list(c(\"row1\", \"row2\"),\n",
       "                                    c(\"C.1\", \"C.2\", \"C.3\")))\n",
       "     mdat\n",
       "     "
      ]
     },
     "metadata": {},
     "output_type": "display_data"
    }
   ],
   "source": [
    "?matrix\n",
    "matrix"
   ]
  },
  {
   "cell_type": "code",
   "execution_count": 2,
   "metadata": {},
   "outputs": [
    {
     "data": {
      "text/html": [
       "<table class=\"dataframe\">\n",
       "<caption>A matrix: 1 × 1 of type lgl</caption>\n",
       "<tbody>\n",
       "\t<tr><td>NA</td></tr>\n",
       "</tbody>\n",
       "</table>\n"
      ],
      "text/latex": [
       "A matrix: 1 × 1 of type lgl\n",
       "\\begin{tabular}{l}\n",
       "\t NA\\\\\n",
       "\\end{tabular}\n"
      ],
      "text/markdown": [
       "\n",
       "A matrix: 1 × 1 of type lgl\n",
       "\n",
       "| NA |\n",
       "\n"
      ],
      "text/plain": [
       "     [,1]\n",
       "[1,] NA  "
      ]
     },
     "metadata": {},
     "output_type": "display_data"
    },
    {
     "data": {
      "text/html": [
       "<table class=\"dataframe\">\n",
       "<caption>A matrix: 2 × 3 of type lgl</caption>\n",
       "<tbody>\n",
       "\t<tr><td>NA</td><td>NA</td><td>NA</td></tr>\n",
       "\t<tr><td>NA</td><td>NA</td><td>NA</td></tr>\n",
       "</tbody>\n",
       "</table>\n"
      ],
      "text/latex": [
       "A matrix: 2 × 3 of type lgl\n",
       "\\begin{tabular}{lll}\n",
       "\t NA & NA & NA\\\\\n",
       "\t NA & NA & NA\\\\\n",
       "\\end{tabular}\n"
      ],
      "text/markdown": [
       "\n",
       "A matrix: 2 × 3 of type lgl\n",
       "\n",
       "| NA | NA | NA |\n",
       "| NA | NA | NA |\n",
       "\n"
      ],
      "text/plain": [
       "     [,1] [,2] [,3]\n",
       "[1,] NA   NA   NA  \n",
       "[2,] NA   NA   NA  "
      ]
     },
     "metadata": {},
     "output_type": "display_data"
    },
    {
     "data": {
      "text/html": [
       "<table class=\"dataframe\">\n",
       "<caption>A matrix: 2 × 3 of type dbl</caption>\n",
       "<tbody>\n",
       "\t<tr><td>0</td><td>0</td><td>0</td></tr>\n",
       "\t<tr><td>0</td><td>0</td><td>0</td></tr>\n",
       "</tbody>\n",
       "</table>\n"
      ],
      "text/latex": [
       "A matrix: 2 × 3 of type dbl\n",
       "\\begin{tabular}{lll}\n",
       "\t 0 & 0 & 0\\\\\n",
       "\t 0 & 0 & 0\\\\\n",
       "\\end{tabular}\n"
      ],
      "text/markdown": [
       "\n",
       "A matrix: 2 × 3 of type dbl\n",
       "\n",
       "| 0 | 0 | 0 |\n",
       "| 0 | 0 | 0 |\n",
       "\n"
      ],
      "text/plain": [
       "     [,1] [,2] [,3]\n",
       "[1,] 0    0    0   \n",
       "[2,] 0    0    0   "
      ]
     },
     "metadata": {},
     "output_type": "display_data"
    },
    {
     "data": {
      "text/html": [
       "<table class=\"dataframe\">\n",
       "<caption>A matrix: 2 × 3 of type int</caption>\n",
       "<tbody>\n",
       "\t<tr><td>1</td><td>3</td><td>5</td></tr>\n",
       "\t<tr><td>2</td><td>4</td><td>6</td></tr>\n",
       "</tbody>\n",
       "</table>\n"
      ],
      "text/latex": [
       "A matrix: 2 × 3 of type int\n",
       "\\begin{tabular}{lll}\n",
       "\t 1 & 3 & 5\\\\\n",
       "\t 2 & 4 & 6\\\\\n",
       "\\end{tabular}\n"
      ],
      "text/markdown": [
       "\n",
       "A matrix: 2 × 3 of type int\n",
       "\n",
       "| 1 | 3 | 5 |\n",
       "| 2 | 4 | 6 |\n",
       "\n"
      ],
      "text/plain": [
       "     [,1] [,2] [,3]\n",
       "[1,] 1    3    5   \n",
       "[2,] 2    4    6   "
      ]
     },
     "metadata": {},
     "output_type": "display_data"
    },
    {
     "data": {
      "text/html": [
       "<table class=\"dataframe\">\n",
       "<caption>A matrix: 2 × 3 of type int</caption>\n",
       "<tbody>\n",
       "\t<tr><td>1</td><td>2</td><td>3</td></tr>\n",
       "\t<tr><td>4</td><td>5</td><td>6</td></tr>\n",
       "</tbody>\n",
       "</table>\n"
      ],
      "text/latex": [
       "A matrix: 2 × 3 of type int\n",
       "\\begin{tabular}{lll}\n",
       "\t 1 & 2 & 3\\\\\n",
       "\t 4 & 5 & 6\\\\\n",
       "\\end{tabular}\n"
      ],
      "text/markdown": [
       "\n",
       "A matrix: 2 × 3 of type int\n",
       "\n",
       "| 1 | 2 | 3 |\n",
       "| 4 | 5 | 6 |\n",
       "\n"
      ],
      "text/plain": [
       "     [,1] [,2] [,3]\n",
       "[1,] 1    2    3   \n",
       "[2,] 4    5    6   "
      ]
     },
     "metadata": {},
     "output_type": "display_data"
    }
   ],
   "source": [
    "matrix()\n",
    "matrix(nrow=2, ncol=3)\n",
    "matrix(0, 2, 3)\n",
    "matrix(1:6, 2, 3)\n",
    "matrix(1:6, 2, 3, byrow=TRUE)"
   ]
  },
  {
   "cell_type": "code",
   "execution_count": 3,
   "metadata": {
    "scrolled": true
   },
   "outputs": [
    {
     "data": {
      "text/html": [
       "<table class=\"dataframe\">\n",
       "<caption>A matrix: 2 × 3 of type int</caption>\n",
       "<thead>\n",
       "\t<tr><th></th><th scope=col>C1</th><th scope=col>C2</th><th scope=col>C3</th></tr>\n",
       "</thead>\n",
       "<tbody>\n",
       "\t<tr><th scope=row>R1</th><td>1</td><td>3</td><td>5</td></tr>\n",
       "\t<tr><th scope=row>R2</th><td>2</td><td>4</td><td>6</td></tr>\n",
       "</tbody>\n",
       "</table>\n"
      ],
      "text/latex": [
       "A matrix: 2 × 3 of type int\n",
       "\\begin{tabular}{r|lll}\n",
       "  & C1 & C2 & C3\\\\\n",
       "\\hline\n",
       "\tR1 & 1 & 3 & 5\\\\\n",
       "\tR2 & 2 & 4 & 6\\\\\n",
       "\\end{tabular}\n"
      ],
      "text/markdown": [
       "\n",
       "A matrix: 2 × 3 of type int\n",
       "\n",
       "| <!--/--> | C1 | C2 | C3 |\n",
       "|---|---|---|---|\n",
       "| R1 | 1 | 3 | 5 |\n",
       "| R2 | 2 | 4 | 6 |\n",
       "\n"
      ],
      "text/plain": [
       "   C1 C2 C3\n",
       "R1 1  3  5 \n",
       "R2 2  4  6 "
      ]
     },
     "metadata": {},
     "output_type": "display_data"
    }
   ],
   "source": [
    "#row names and column names\n",
    "rnames <- c('R1', 'R2')\n",
    "cnames <- c('C1', 'C2', 'C3')\n",
    "matrix(1:6, nrow=2, dimnames=list(rnames, cnames))"
   ]
  },
  {
   "cell_type": "code",
   "execution_count": 4,
   "metadata": {
    "scrolled": true
   },
   "outputs": [
    {
     "data": {
      "text/html": [
       "<table class=\"dataframe\">\n",
       "<caption>A matrix: 2 × 3 of type int</caption>\n",
       "<thead>\n",
       "\t<tr><th></th><th scope=col>c1</th><th scope=col>c2</th><th scope=col>c3</th></tr>\n",
       "</thead>\n",
       "<tbody>\n",
       "\t<tr><th scope=row>r1</th><td>1</td><td>3</td><td>5</td></tr>\n",
       "\t<tr><th scope=row>r2</th><td>2</td><td>4</td><td>6</td></tr>\n",
       "</tbody>\n",
       "</table>\n"
      ],
      "text/latex": [
       "A matrix: 2 × 3 of type int\n",
       "\\begin{tabular}{r|lll}\n",
       "  & c1 & c2 & c3\\\\\n",
       "\\hline\n",
       "\tr1 & 1 & 3 & 5\\\\\n",
       "\tr2 & 2 & 4 & 6\\\\\n",
       "\\end{tabular}\n"
      ],
      "text/markdown": [
       "\n",
       "A matrix: 2 × 3 of type int\n",
       "\n",
       "| <!--/--> | c1 | c2 | c3 |\n",
       "|---|---|---|---|\n",
       "| r1 | 1 | 3 | 5 |\n",
       "| r2 | 2 | 4 | 6 |\n",
       "\n"
      ],
      "text/plain": [
       "   c1 c2 c3\n",
       "r1 1  3  5 \n",
       "r2 2  4  6 "
      ]
     },
     "metadata": {},
     "output_type": "display_data"
    }
   ],
   "source": [
    "#assign row names and column names\n",
    "x=matrix(1:6, nrow=2)\n",
    "rownames(x)=c('r1', 'r2')\n",
    "colnames(x)=c('c1', 'c2', 'c3')\n",
    "x"
   ]
  },
  {
   "cell_type": "code",
   "execution_count": 5,
   "metadata": {
    "scrolled": true
   },
   "outputs": [
    {
     "data": {
      "text/html": [
       "<style>\n",
       ".list-inline {list-style: none; margin:0; padding: 0}\n",
       ".list-inline>li {display: inline-block}\n",
       ".list-inline>li:not(:last-child)::after {content: \"\\00b7\"; padding: 0 .5ex}\n",
       "</style>\n",
       "<ol class=list-inline><li>1</li><li>2</li><li>3</li><li>4</li><li>5</li><li>6</li></ol>\n"
      ],
      "text/latex": [
       "\\begin{enumerate*}\n",
       "\\item 1\n",
       "\\item 2\n",
       "\\item 3\n",
       "\\item 4\n",
       "\\item 5\n",
       "\\item 6\n",
       "\\end{enumerate*}\n"
      ],
      "text/markdown": [
       "1. 1\n",
       "2. 2\n",
       "3. 3\n",
       "4. 4\n",
       "5. 5\n",
       "6. 6\n",
       "\n",
       "\n"
      ],
      "text/plain": [
       "[1] 1 2 3 4 5 6"
      ]
     },
     "metadata": {},
     "output_type": "display_data"
    },
    {
     "data": {
      "text/html": [
       "TRUE"
      ],
      "text/latex": [
       "TRUE"
      ],
      "text/markdown": [
       "TRUE"
      ],
      "text/plain": [
       "[1] TRUE"
      ]
     },
     "metadata": {},
     "output_type": "display_data"
    },
    {
     "data": {
      "text/html": [
       "<table class=\"dataframe\">\n",
       "<caption>A matrix: 3 × 2 of type int</caption>\n",
       "<tbody>\n",
       "\t<tr><td>1</td><td>4</td></tr>\n",
       "\t<tr><td>2</td><td>5</td></tr>\n",
       "\t<tr><td>3</td><td>6</td></tr>\n",
       "</tbody>\n",
       "</table>\n"
      ],
      "text/latex": [
       "A matrix: 3 × 2 of type int\n",
       "\\begin{tabular}{ll}\n",
       "\t 1 & 4\\\\\n",
       "\t 2 & 5\\\\\n",
       "\t 3 & 6\\\\\n",
       "\\end{tabular}\n"
      ],
      "text/markdown": [
       "\n",
       "A matrix: 3 × 2 of type int\n",
       "\n",
       "| 1 | 4 |\n",
       "| 2 | 5 |\n",
       "| 3 | 6 |\n",
       "\n"
      ],
      "text/plain": [
       "     [,1] [,2]\n",
       "[1,] 1    4   \n",
       "[2,] 2    5   \n",
       "[3,] 3    6   "
      ]
     },
     "metadata": {},
     "output_type": "display_data"
    }
   ],
   "source": [
    "#use dim() to create matrix from vector\n",
    "x <- 1:6   ##vector\n",
    "x\n",
    "dim(x) <- c(3, 2)  ##convert vector to matrix in place\n",
    "is.matrix(x)   \n",
    "x "
   ]
  },
  {
   "cell_type": "code",
   "execution_count": 6,
   "metadata": {
    "scrolled": true
   },
   "outputs": [
    {
     "data": {
      "text/html": [
       "<table class=\"dataframe\">\n",
       "<caption>A matrix: 2 × 3 of type int</caption>\n",
       "<tbody>\n",
       "\t<tr><td>1</td><td>2</td><td>3</td></tr>\n",
       "\t<tr><td>4</td><td>5</td><td>6</td></tr>\n",
       "</tbody>\n",
       "</table>\n"
      ],
      "text/latex": [
       "A matrix: 2 × 3 of type int\n",
       "\\begin{tabular}{lll}\n",
       "\t 1 & 2 & 3\\\\\n",
       "\t 4 & 5 & 6\\\\\n",
       "\\end{tabular}\n"
      ],
      "text/markdown": [
       "\n",
       "A matrix: 2 × 3 of type int\n",
       "\n",
       "| 1 | 2 | 3 |\n",
       "| 4 | 5 | 6 |\n",
       "\n"
      ],
      "text/plain": [
       "     [,1] [,2] [,3]\n",
       "[1,] 1    2    3   \n",
       "[2,] 4    5    6   "
      ]
     },
     "metadata": {},
     "output_type": "display_data"
    },
    {
     "data": {
      "text/html": [
       "\n",
       "<table width=\"100%\" summary=\"page for t {base}\"><tr><td>t {base}</td><td style=\"text-align: right;\">R Documentation</td></tr></table>\n",
       "\n",
       "<h2>Matrix Transpose</h2>\n",
       "\n",
       "<h3>Description</h3>\n",
       "\n",
       "<p>Given a matrix or <code>data.frame</code> <code>x</code>,\n",
       "<code>t</code> returns the transpose of <code>x</code>.\n",
       "</p>\n",
       "\n",
       "\n",
       "<h3>Usage</h3>\n",
       "\n",
       "<pre>\n",
       "t(x)\n",
       "</pre>\n",
       "\n",
       "\n",
       "<h3>Arguments</h3>\n",
       "\n",
       "<table summary=\"R argblock\">\n",
       "<tr valign=\"top\"><td><code>x</code></td>\n",
       "<td>\n",
       "<p>a matrix or data frame, typically.</p>\n",
       "</td></tr>\n",
       "</table>\n",
       "\n",
       "\n",
       "<h3>Details</h3>\n",
       "\n",
       "<p>This is a generic function for which methods can be written.  The\n",
       "description here applies to the default and <code>\"data.frame\"</code> methods.\n",
       "</p>\n",
       "<p>A data frame is first coerced to a matrix: see <code>as.matrix</code>.\n",
       "When <code>x</code> is a vector, it is treated as a column, i.e., the\n",
       "result is a 1-row matrix.\n",
       "</p>\n",
       "\n",
       "\n",
       "<h3>Value</h3>\n",
       "\n",
       "<p>A matrix, with <code>dim</code> and <code>dimnames</code> constructed\n",
       "appropriately from those of <code>x</code>, and other attributes except\n",
       "names copied across.\n",
       "</p>\n",
       "\n",
       "\n",
       "<h3>Note</h3>\n",
       "\n",
       "<p>The <em>conjugate</em> transpose of a complex matrix <i>A</i>, denoted\n",
       "<i>A^H</i> or <i>A^*</i>, is computed as <code>Conj(t(A))</code>.\n",
       "</p>\n",
       "\n",
       "\n",
       "<h3>References</h3>\n",
       "\n",
       "<p>Becker, R. A., Chambers, J. M. and Wilks, A. R. (1988)\n",
       "<em>The New S Language</em>.\n",
       "Wadsworth &amp; Brooks/Cole.\n",
       "</p>\n",
       "\n",
       "\n",
       "<h3>See Also</h3>\n",
       "\n",
       "<p><code>aperm</code> for permuting the dimensions of arrays.\n",
       "</p>\n",
       "\n",
       "\n",
       "<h3>Examples</h3>\n",
       "\n",
       "<pre>\n",
       "a &lt;- matrix(1:30, 5, 6)\n",
       "ta &lt;- t(a) ##-- i.e.,  a[i, j] == ta[j, i] for all i,j :\n",
       "for(j in seq(ncol(a)))\n",
       "  if(! all(a[, j] == ta[j, ])) stop(\"wrong transpose\")\n",
       "</pre>\n",
       "\n",
       "<hr /><div style=\"text-align: center;\">[Package <em>base</em> version 4.1.2 ]</div>"
      ],
      "text/latex": [
       "\\inputencoding{utf8}\n",
       "\\HeaderA{t}{Matrix Transpose}{t}\n",
       "\\methaliasA{t.data.frame}{t}{t.data.frame}\n",
       "\\methaliasA{t.default}{t}{t.default}\n",
       "\\keyword{array}{t}\n",
       "%\n",
       "\\begin{Description}\\relax\n",
       "Given a matrix or \\code{\\LinkA{data.frame}{data.frame}} \\code{x},\n",
       "\\code{t} returns the transpose of \\code{x}.\n",
       "\\end{Description}\n",
       "%\n",
       "\\begin{Usage}\n",
       "\\begin{verbatim}\n",
       "t(x)\n",
       "\\end{verbatim}\n",
       "\\end{Usage}\n",
       "%\n",
       "\\begin{Arguments}\n",
       "\\begin{ldescription}\n",
       "\\item[\\code{x}] a matrix or data frame, typically.\n",
       "\\end{ldescription}\n",
       "\\end{Arguments}\n",
       "%\n",
       "\\begin{Details}\\relax\n",
       "This is a generic function for which methods can be written.  The\n",
       "description here applies to the default and \\code{\"data.frame\"} methods.\n",
       "\n",
       "A data frame is first coerced to a matrix: see \\code{\\LinkA{as.matrix}{as.matrix}}.\n",
       "When \\code{x} is a vector, it is treated as a column, i.e., the\n",
       "result is a 1-row matrix.\n",
       "\\end{Details}\n",
       "%\n",
       "\\begin{Value}\n",
       "A matrix, with \\code{dim} and \\code{dimnames} constructed\n",
       "appropriately from those of \\code{x}, and other attributes except\n",
       "names copied across.\n",
       "\\end{Value}\n",
       "%\n",
       "\\begin{Note}\\relax\n",
       "The \\emph{conjugate} transpose of a complex matrix \\eqn{A}{}, denoted\n",
       "\\eqn{A^H}{} or \\eqn{A^*}{}, is computed as \\code{\\LinkA{Conj}{Conj}(t(A))}.\n",
       "\\end{Note}\n",
       "%\n",
       "\\begin{References}\\relax\n",
       "Becker, R. A., Chambers, J. M. and Wilks, A. R. (1988)\n",
       "\\emph{The New S Language}.\n",
       "Wadsworth \\& Brooks/Cole.\n",
       "\\end{References}\n",
       "%\n",
       "\\begin{SeeAlso}\\relax\n",
       "\\code{\\LinkA{aperm}{aperm}} for permuting the dimensions of arrays.\n",
       "\\end{SeeAlso}\n",
       "%\n",
       "\\begin{Examples}\n",
       "\\begin{ExampleCode}\n",
       "a <- matrix(1:30, 5, 6)\n",
       "ta <- t(a) ##-- i.e.,  a[i, j] == ta[j, i] for all i,j :\n",
       "for(j in seq(ncol(a)))\n",
       "  if(! all(a[, j] == ta[j, ])) stop(\"wrong transpose\")\n",
       "\\end{ExampleCode}\n",
       "\\end{Examples}"
      ],
      "text/plain": [
       "t                     package:base                     R Documentation\n",
       "\n",
       "_\bM_\ba_\bt_\br_\bi_\bx _\bT_\br_\ba_\bn_\bs_\bp_\bo_\bs_\be\n",
       "\n",
       "_\bD_\be_\bs_\bc_\br_\bi_\bp_\bt_\bi_\bo_\bn:\n",
       "\n",
       "     Given a matrix or 'data.frame' 'x', 't' returns the transpose of\n",
       "     'x'.\n",
       "\n",
       "_\bU_\bs_\ba_\bg_\be:\n",
       "\n",
       "     t(x)\n",
       "     \n",
       "_\bA_\br_\bg_\bu_\bm_\be_\bn_\bt_\bs:\n",
       "\n",
       "       x: a matrix or data frame, typically.\n",
       "\n",
       "_\bD_\be_\bt_\ba_\bi_\bl_\bs:\n",
       "\n",
       "     This is a generic function for which methods can be written.  The\n",
       "     description here applies to the default and '\"data.frame\"'\n",
       "     methods.\n",
       "\n",
       "     A data frame is first coerced to a matrix: see 'as.matrix'.  When\n",
       "     'x' is a vector, it is treated as a column, i.e., the result is a\n",
       "     1-row matrix.\n",
       "\n",
       "_\bV_\ba_\bl_\bu_\be:\n",
       "\n",
       "     A matrix, with 'dim' and 'dimnames' constructed appropriately from\n",
       "     those of 'x', and other attributes except names copied across.\n",
       "\n",
       "_\bN_\bo_\bt_\be:\n",
       "\n",
       "     The _conjugate_ transpose of a complex matrix A, denoted A^H or\n",
       "     A^*, is computed as 'Conj(t(A))'.\n",
       "\n",
       "_\bR_\be_\bf_\be_\br_\be_\bn_\bc_\be_\bs:\n",
       "\n",
       "     Becker, R. A., Chambers, J. M. and Wilks, A. R. (1988) _The New S\n",
       "     Language_.  Wadsworth & Brooks/Cole.\n",
       "\n",
       "_\bS_\be_\be _\bA_\bl_\bs_\bo:\n",
       "\n",
       "     'aperm' for permuting the dimensions of arrays.\n",
       "\n",
       "_\bE_\bx_\ba_\bm_\bp_\bl_\be_\bs:\n",
       "\n",
       "     a <- matrix(1:30, 5, 6)\n",
       "     ta <- t(a) ##-- i.e.,  a[i, j] == ta[j, i] for all i,j :\n",
       "     for(j in seq(ncol(a)))\n",
       "       if(! all(a[, j] == ta[j, ])) stop(\"wrong transpose\")\n",
       "     "
      ]
     },
     "metadata": {},
     "output_type": "display_data"
    }
   ],
   "source": [
    "#Matrix Transpose\n",
    "?t\n",
    "t(x)"
   ]
  },
  {
   "cell_type": "code",
   "execution_count": 7,
   "metadata": {
    "scrolled": true
   },
   "outputs": [
    {
     "data": {
      "text/html": [
       "<table class=\"dataframe\">\n",
       "<caption>A matrix: 2 × 3 of type int</caption>\n",
       "<thead>\n",
       "\t<tr><th></th><th scope=col>C1</th><th scope=col>C2</th><th scope=col>C3</th></tr>\n",
       "</thead>\n",
       "<tbody>\n",
       "\t<tr><th scope=row>R1</th><td>1</td><td>3</td><td>5</td></tr>\n",
       "\t<tr><th scope=row>R2</th><td>2</td><td>4</td><td>6</td></tr>\n",
       "</tbody>\n",
       "</table>\n"
      ],
      "text/latex": [
       "A matrix: 2 × 3 of type int\n",
       "\\begin{tabular}{r|lll}\n",
       "  & C1 & C2 & C3\\\\\n",
       "\\hline\n",
       "\tR1 & 1 & 3 & 5\\\\\n",
       "\tR2 & 2 & 4 & 6\\\\\n",
       "\\end{tabular}\n"
      ],
      "text/markdown": [
       "\n",
       "A matrix: 2 × 3 of type int\n",
       "\n",
       "| <!--/--> | C1 | C2 | C3 |\n",
       "|---|---|---|---|\n",
       "| R1 | 1 | 3 | 5 |\n",
       "| R2 | 2 | 4 | 6 |\n",
       "\n"
      ],
      "text/plain": [
       "   C1 C2 C3\n",
       "R1 1  3  5 \n",
       "R2 2  4  6 "
      ]
     },
     "metadata": {},
     "output_type": "display_data"
    },
    {
     "data": {
      "text/html": [
       "<style>\n",
       ".list-inline {list-style: none; margin:0; padding: 0}\n",
       ".list-inline>li {display: inline-block}\n",
       ".list-inline>li:not(:last-child)::after {content: \"\\00b7\"; padding: 0 .5ex}\n",
       "</style>\n",
       "<ol class=list-inline><li>'matrix'</li><li>'array'</li></ol>\n"
      ],
      "text/latex": [
       "\\begin{enumerate*}\n",
       "\\item 'matrix'\n",
       "\\item 'array'\n",
       "\\end{enumerate*}\n"
      ],
      "text/markdown": [
       "1. 'matrix'\n",
       "2. 'array'\n",
       "\n",
       "\n"
      ],
      "text/plain": [
       "[1] \"matrix\" \"array\" "
      ]
     },
     "metadata": {},
     "output_type": "display_data"
    },
    {
     "data": {
      "text/html": [
       "'integer'"
      ],
      "text/latex": [
       "'integer'"
      ],
      "text/markdown": [
       "'integer'"
      ],
      "text/plain": [
       "[1] \"integer\""
      ]
     },
     "metadata": {},
     "output_type": "display_data"
    },
    {
     "data": {
      "text/html": [
       "<style>\n",
       ".list-inline {list-style: none; margin:0; padding: 0}\n",
       ".list-inline>li {display: inline-block}\n",
       ".list-inline>li:not(:last-child)::after {content: \"\\00b7\"; padding: 0 .5ex}\n",
       "</style>\n",
       "<ol class=list-inline><li>2</li><li>3</li></ol>\n"
      ],
      "text/latex": [
       "\\begin{enumerate*}\n",
       "\\item 2\n",
       "\\item 3\n",
       "\\end{enumerate*}\n"
      ],
      "text/markdown": [
       "1. 2\n",
       "2. 3\n",
       "\n",
       "\n"
      ],
      "text/plain": [
       "[1] 2 3"
      ]
     },
     "metadata": {},
     "output_type": "display_data"
    },
    {
     "data": {
      "text/html": [
       "6"
      ],
      "text/latex": [
       "6"
      ],
      "text/markdown": [
       "6"
      ],
      "text/plain": [
       "[1] 6"
      ]
     },
     "metadata": {},
     "output_type": "display_data"
    },
    {
     "data": {
      "text/html": [
       "<style>\n",
       ".list-inline {list-style: none; margin:0; padding: 0}\n",
       ".list-inline>li {display: inline-block}\n",
       ".list-inline>li:not(:last-child)::after {content: \"\\00b7\"; padding: 0 .5ex}\n",
       "</style>\n",
       "<ol class=list-inline><li>'R1'</li><li>'R2'</li></ol>\n"
      ],
      "text/latex": [
       "\\begin{enumerate*}\n",
       "\\item 'R1'\n",
       "\\item 'R2'\n",
       "\\end{enumerate*}\n"
      ],
      "text/markdown": [
       "1. 'R1'\n",
       "2. 'R2'\n",
       "\n",
       "\n"
      ],
      "text/plain": [
       "[1] \"R1\" \"R2\""
      ]
     },
     "metadata": {},
     "output_type": "display_data"
    },
    {
     "data": {
      "text/html": [
       "<style>\n",
       ".list-inline {list-style: none; margin:0; padding: 0}\n",
       ".list-inline>li {display: inline-block}\n",
       ".list-inline>li:not(:last-child)::after {content: \"\\00b7\"; padding: 0 .5ex}\n",
       "</style>\n",
       "<ol class=list-inline><li>'C1'</li><li>'C2'</li><li>'C3'</li></ol>\n"
      ],
      "text/latex": [
       "\\begin{enumerate*}\n",
       "\\item 'C1'\n",
       "\\item 'C2'\n",
       "\\item 'C3'\n",
       "\\end{enumerate*}\n"
      ],
      "text/markdown": [
       "1. 'C1'\n",
       "2. 'C2'\n",
       "3. 'C3'\n",
       "\n",
       "\n"
      ],
      "text/plain": [
       "[1] \"C1\" \"C2\" \"C3\""
      ]
     },
     "metadata": {},
     "output_type": "display_data"
    }
   ],
   "source": [
    "#matrix attributes\n",
    "rnames <- c('R1', 'R2')\n",
    "cnames <- c('C1', 'C2', 'C3')\n",
    "x=matrix(1:6, nrow=2, dimnames=list(rnames, cnames))\n",
    "x\n",
    "class(x)  ##data structure type\n",
    "typeof(x)  ##element data type\n",
    "dim(x)  ##dimension\n",
    "length(x)  ##total number of elements\n",
    "rownames(x)  ##get row names\n",
    "colnames(x)  ##get column names"
   ]
  },
  {
   "cell_type": "code",
   "execution_count": 8,
   "metadata": {},
   "outputs": [
    {
     "data": {
      "text/html": [
       "<table class=\"dataframe\">\n",
       "<caption>A matrix: 4 × 2 of type dbl</caption>\n",
       "<tbody>\n",
       "\t<tr><td>71</td><td>172</td></tr>\n",
       "\t<tr><td>73</td><td>169</td></tr>\n",
       "\t<tr><td>69</td><td>160</td></tr>\n",
       "\t<tr><td>65</td><td>130</td></tr>\n",
       "</tbody>\n",
       "</table>\n"
      ],
      "text/latex": [
       "A matrix: 4 × 2 of type dbl\n",
       "\\begin{tabular}{ll}\n",
       "\t 71 & 172\\\\\n",
       "\t 73 & 169\\\\\n",
       "\t 69 & 160\\\\\n",
       "\t 65 & 130\\\\\n",
       "\\end{tabular}\n"
      ],
      "text/markdown": [
       "\n",
       "A matrix: 4 × 2 of type dbl\n",
       "\n",
       "| 71 | 172 |\n",
       "| 73 | 169 |\n",
       "| 69 | 160 |\n",
       "| 65 | 130 |\n",
       "\n"
      ],
      "text/plain": [
       "     [,1] [,2]\n",
       "[1,] 71   172 \n",
       "[2,] 73   169 \n",
       "[3,] 69   160 \n",
       "[4,] 65   130 "
      ]
     },
     "metadata": {},
     "output_type": "display_data"
    },
    {
     "data": {
      "text/html": [
       "<table class=\"dataframe\">\n",
       "<caption>A matrix: 4 × 2 of type dbl</caption>\n",
       "<tbody>\n",
       "\t<tr><td>71</td><td>172</td></tr>\n",
       "\t<tr><td>73</td><td>169</td></tr>\n",
       "\t<tr><td>69</td><td>160</td></tr>\n",
       "\t<tr><td>65</td><td>130</td></tr>\n",
       "</tbody>\n",
       "</table>\n"
      ],
      "text/latex": [
       "A matrix: 4 × 2 of type dbl\n",
       "\\begin{tabular}{ll}\n",
       "\t 71 & 172\\\\\n",
       "\t 73 & 169\\\\\n",
       "\t 69 & 160\\\\\n",
       "\t 65 & 130\\\\\n",
       "\\end{tabular}\n"
      ],
      "text/markdown": [
       "\n",
       "A matrix: 4 × 2 of type dbl\n",
       "\n",
       "| 71 | 172 |\n",
       "| 73 | 169 |\n",
       "| 69 | 160 |\n",
       "| 65 | 130 |\n",
       "\n"
      ],
      "text/plain": [
       "     [,1] [,2]\n",
       "[1,] 71   172 \n",
       "[2,] 73   169 \n",
       "[3,] 69   160 \n",
       "[4,] 65   130 "
      ]
     },
     "metadata": {},
     "output_type": "display_data"
    }
   ],
   "source": [
    "#bind vectors into matrix\n",
    "rbind(c(71,172),c(73,169),c(69,160),c(65,130))\n",
    "cbind(c(71,73,69,65),c(172,169,160,130))"
   ]
  },
  {
   "cell_type": "code",
   "execution_count": 9,
   "metadata": {},
   "outputs": [
    {
     "data": {
      "text/html": [
       "<table class=\"dataframe\">\n",
       "<caption>A matrix: 2 × 3 of type int</caption>\n",
       "<thead>\n",
       "\t<tr><th></th><th scope=col>C1</th><th scope=col>C2</th><th scope=col>C3</th></tr>\n",
       "</thead>\n",
       "<tbody>\n",
       "\t<tr><th scope=row>R1</th><td>1</td><td>3</td><td>5</td></tr>\n",
       "\t<tr><th scope=row>R2</th><td>2</td><td>4</td><td>6</td></tr>\n",
       "</tbody>\n",
       "</table>\n"
      ],
      "text/latex": [
       "A matrix: 2 × 3 of type int\n",
       "\\begin{tabular}{r|lll}\n",
       "  & C1 & C2 & C3\\\\\n",
       "\\hline\n",
       "\tR1 & 1 & 3 & 5\\\\\n",
       "\tR2 & 2 & 4 & 6\\\\\n",
       "\\end{tabular}\n"
      ],
      "text/markdown": [
       "\n",
       "A matrix: 2 × 3 of type int\n",
       "\n",
       "| <!--/--> | C1 | C2 | C3 |\n",
       "|---|---|---|---|\n",
       "| R1 | 1 | 3 | 5 |\n",
       "| R2 | 2 | 4 | 6 |\n",
       "\n"
      ],
      "text/plain": [
       "   C1 C2 C3\n",
       "R1 1  3  5 \n",
       "R2 2  4  6 "
      ]
     },
     "metadata": {},
     "output_type": "display_data"
    },
    {
     "data": {
      "text/html": [
       "<style>\n",
       ".dl-inline {width: auto; margin:0; padding: 0}\n",
       ".dl-inline>dt, .dl-inline>dd {float: none; width: auto; display: inline-block}\n",
       ".dl-inline>dt::after {content: \":\\0020\"; padding-right: .5ex}\n",
       ".dl-inline>dt:not(:first-of-type) {padding-left: .5ex}\n",
       "</style><dl class=dl-inline><dt>R1</dt><dd>3</dd><dt>R2</dt><dd>4</dd></dl>\n"
      ],
      "text/latex": [
       "\\begin{description*}\n",
       "\\item[R1] 3\n",
       "\\item[R2] 4\n",
       "\\end{description*}\n"
      ],
      "text/markdown": [
       "R1\n",
       ":   3R2\n",
       ":   4\n",
       "\n"
      ],
      "text/plain": [
       "R1 R2 \n",
       " 3  4 "
      ]
     },
     "metadata": {},
     "output_type": "display_data"
    },
    {
     "data": {
      "text/html": [
       "<style>\n",
       ".dl-inline {width: auto; margin:0; padding: 0}\n",
       ".dl-inline>dt, .dl-inline>dd {float: none; width: auto; display: inline-block}\n",
       ".dl-inline>dt::after {content: \":\\0020\"; padding-right: .5ex}\n",
       ".dl-inline>dt:not(:first-of-type) {padding-left: .5ex}\n",
       "</style><dl class=dl-inline><dt>C1</dt><dd>2</dd><dt>C2</dt><dd>4</dd><dt>C3</dt><dd>6</dd></dl>\n"
      ],
      "text/latex": [
       "\\begin{description*}\n",
       "\\item[C1] 2\n",
       "\\item[C2] 4\n",
       "\\item[C3] 6\n",
       "\\end{description*}\n"
      ],
      "text/markdown": [
       "C1\n",
       ":   2C2\n",
       ":   4C3\n",
       ":   6\n",
       "\n"
      ],
      "text/plain": [
       "C1 C2 C3 \n",
       " 2  4  6 "
      ]
     },
     "metadata": {},
     "output_type": "display_data"
    },
    {
     "data": {
      "text/html": [
       "4"
      ],
      "text/latex": [
       "4"
      ],
      "text/markdown": [
       "4"
      ],
      "text/plain": [
       "[1] 4"
      ]
     },
     "metadata": {},
     "output_type": "display_data"
    }
   ],
   "source": [
    "#access elements in matrix\n",
    "x\n",
    "x[,2]\n",
    "x[2,]\n",
    "x[2,2]"
   ]
  },
  {
   "cell_type": "code",
   "execution_count": 10,
   "metadata": {},
   "outputs": [
    {
     "data": {
      "text/html": [
       "'integer'"
      ],
      "text/latex": [
       "'integer'"
      ],
      "text/markdown": [
       "'integer'"
      ],
      "text/plain": [
       "[1] \"integer\""
      ]
     },
     "metadata": {},
     "output_type": "display_data"
    },
    {
     "data": {
      "text/html": [
       "'integer'"
      ],
      "text/latex": [
       "'integer'"
      ],
      "text/markdown": [
       "'integer'"
      ],
      "text/plain": [
       "[1] \"integer\""
      ]
     },
     "metadata": {},
     "output_type": "display_data"
    },
    {
     "data": {
      "text/html": [
       "<strong>C1:</strong> 2"
      ],
      "text/latex": [
       "\\textbf{C1:} 2"
      ],
      "text/markdown": [
       "**C1:** 2"
      ],
      "text/plain": [
       "C1 \n",
       " 2 "
      ]
     },
     "metadata": {},
     "output_type": "display_data"
    }
   ],
   "source": [
    "typeof(x[2,])\n",
    "class(x[2,])\n",
    "x[2,][1]"
   ]
  },
  {
   "cell_type": "code",
   "execution_count": 11,
   "metadata": {
    "scrolled": true
   },
   "outputs": [
    {
     "data": {
      "text/html": [
       "<table class=\"dataframe\">\n",
       "<caption>A matrix: 2 × 2 of type int</caption>\n",
       "<thead>\n",
       "\t<tr><th></th><th scope=col>C1</th><th scope=col>C2</th></tr>\n",
       "</thead>\n",
       "<tbody>\n",
       "\t<tr><th scope=row>R1</th><td>1</td><td>3</td></tr>\n",
       "\t<tr><th scope=row>R2</th><td>2</td><td>4</td></tr>\n",
       "</tbody>\n",
       "</table>\n"
      ],
      "text/latex": [
       "A matrix: 2 × 2 of type int\n",
       "\\begin{tabular}{r|ll}\n",
       "  & C1 & C2\\\\\n",
       "\\hline\n",
       "\tR1 & 1 & 3\\\\\n",
       "\tR2 & 2 & 4\\\\\n",
       "\\end{tabular}\n"
      ],
      "text/markdown": [
       "\n",
       "A matrix: 2 × 2 of type int\n",
       "\n",
       "| <!--/--> | C1 | C2 |\n",
       "|---|---|---|\n",
       "| R1 | 1 | 3 |\n",
       "| R2 | 2 | 4 |\n",
       "\n"
      ],
      "text/plain": [
       "   C1 C2\n",
       "R1 1  3 \n",
       "R2 2  4 "
      ]
     },
     "metadata": {},
     "output_type": "display_data"
    },
    {
     "data": {
      "text/html": [
       "<table class=\"dataframe\">\n",
       "<caption>A matrix: 2 × 3 of type int</caption>\n",
       "<thead>\n",
       "\t<tr><th></th><th scope=col>C1</th><th scope=col>C2</th><th scope=col>C3</th></tr>\n",
       "</thead>\n",
       "<tbody>\n",
       "\t<tr><th scope=row>R1</th><td>1</td><td>3</td><td>5</td></tr>\n",
       "\t<tr><th scope=row>R2</th><td>2</td><td>4</td><td>6</td></tr>\n",
       "</tbody>\n",
       "</table>\n"
      ],
      "text/latex": [
       "A matrix: 2 × 3 of type int\n",
       "\\begin{tabular}{r|lll}\n",
       "  & C1 & C2 & C3\\\\\n",
       "\\hline\n",
       "\tR1 & 1 & 3 & 5\\\\\n",
       "\tR2 & 2 & 4 & 6\\\\\n",
       "\\end{tabular}\n"
      ],
      "text/markdown": [
       "\n",
       "A matrix: 2 × 3 of type int\n",
       "\n",
       "| <!--/--> | C1 | C2 | C3 |\n",
       "|---|---|---|---|\n",
       "| R1 | 1 | 3 | 5 |\n",
       "| R2 | 2 | 4 | 6 |\n",
       "\n"
      ],
      "text/plain": [
       "   C1 C2 C3\n",
       "R1 1  3  5 \n",
       "R2 2  4  6 "
      ]
     },
     "metadata": {},
     "output_type": "display_data"
    }
   ],
   "source": [
    "x[,c(1,2)]\n",
    "x[c(1,2),]"
   ]
  },
  {
   "cell_type": "code",
   "execution_count": 12,
   "metadata": {
    "scrolled": true
   },
   "outputs": [
    {
     "data": {
      "text/html": [
       "<table class=\"dataframe\">\n",
       "<caption>A matrix: 2 × 2 of type int</caption>\n",
       "<thead>\n",
       "\t<tr><th></th><th scope=col>C2</th><th scope=col>C3</th></tr>\n",
       "</thead>\n",
       "<tbody>\n",
       "\t<tr><th scope=row>R1</th><td>3</td><td>5</td></tr>\n",
       "\t<tr><th scope=row>R2</th><td>4</td><td>6</td></tr>\n",
       "</tbody>\n",
       "</table>\n"
      ],
      "text/latex": [
       "A matrix: 2 × 2 of type int\n",
       "\\begin{tabular}{r|ll}\n",
       "  & C2 & C3\\\\\n",
       "\\hline\n",
       "\tR1 & 3 & 5\\\\\n",
       "\tR2 & 4 & 6\\\\\n",
       "\\end{tabular}\n"
      ],
      "text/markdown": [
       "\n",
       "A matrix: 2 × 2 of type int\n",
       "\n",
       "| <!--/--> | C2 | C3 |\n",
       "|---|---|---|\n",
       "| R1 | 3 | 5 |\n",
       "| R2 | 4 | 6 |\n",
       "\n"
      ],
      "text/plain": [
       "   C2 C3\n",
       "R1 3  5 \n",
       "R2 4  6 "
      ]
     },
     "metadata": {},
     "output_type": "display_data"
    },
    {
     "data": {
      "text/html": [
       "<style>\n",
       ".dl-inline {width: auto; margin:0; padding: 0}\n",
       ".dl-inline>dt, .dl-inline>dd {float: none; width: auto; display: inline-block}\n",
       ".dl-inline>dt::after {content: \":\\0020\"; padding-right: .5ex}\n",
       ".dl-inline>dt:not(:first-of-type) {padding-left: .5ex}\n",
       "</style><dl class=dl-inline><dt>C2</dt><dd>3</dd><dt>C3</dt><dd>5</dd></dl>\n"
      ],
      "text/latex": [
       "\\begin{description*}\n",
       "\\item[C2] 3\n",
       "\\item[C3] 5\n",
       "\\end{description*}\n"
      ],
      "text/markdown": [
       "C2\n",
       ":   3C3\n",
       ":   5\n",
       "\n"
      ],
      "text/plain": [
       "C2 C3 \n",
       " 3  5 "
      ]
     },
     "metadata": {},
     "output_type": "display_data"
    }
   ],
   "source": [
    "x[,c(2:3)]\n",
    "x[1,c(2:3)]"
   ]
  },
  {
   "cell_type": "code",
   "execution_count": 13,
   "metadata": {},
   "outputs": [
    {
     "data": {
      "text/html": [
       "<style>\n",
       ".dl-inline {width: auto; margin:0; padding: 0}\n",
       ".dl-inline>dt, .dl-inline>dd {float: none; width: auto; display: inline-block}\n",
       ".dl-inline>dt::after {content: \":\\0020\"; padding-right: .5ex}\n",
       ".dl-inline>dt:not(:first-of-type) {padding-left: .5ex}\n",
       "</style><dl class=dl-inline><dt>R1</dt><dd>1</dd><dt>R2</dt><dd>2</dd></dl>\n"
      ],
      "text/latex": [
       "\\begin{description*}\n",
       "\\item[R1] 1\n",
       "\\item[R2] 2\n",
       "\\end{description*}\n"
      ],
      "text/markdown": [
       "R1\n",
       ":   1R2\n",
       ":   2\n",
       "\n"
      ],
      "text/plain": [
       "R1 R2 \n",
       " 1  2 "
      ]
     },
     "metadata": {},
     "output_type": "display_data"
    }
   ],
   "source": [
    "x[,-c(2:3)] #exclude"
   ]
  },
  {
   "cell_type": "code",
   "execution_count": 14,
   "metadata": {},
   "outputs": [
    {
     "data": {
      "text/html": [
       "<table class=\"dataframe\">\n",
       "<caption>A matrix: 4 × 2 of type dbl</caption>\n",
       "<tbody>\n",
       "\t<tr><td>71</td><td>172</td></tr>\n",
       "\t<tr><td>73</td><td> 73</td></tr>\n",
       "\t<tr><td>69</td><td>160</td></tr>\n",
       "\t<tr><td>65</td><td>130</td></tr>\n",
       "</tbody>\n",
       "</table>\n"
      ],
      "text/latex": [
       "A matrix: 4 × 2 of type dbl\n",
       "\\begin{tabular}{ll}\n",
       "\t 71 & 172\\\\\n",
       "\t 73 &  73\\\\\n",
       "\t 69 & 160\\\\\n",
       "\t 65 & 130\\\\\n",
       "\\end{tabular}\n"
      ],
      "text/markdown": [
       "\n",
       "A matrix: 4 × 2 of type dbl\n",
       "\n",
       "| 71 | 172 |\n",
       "| 73 |  73 |\n",
       "| 69 | 160 |\n",
       "| 65 | 130 |\n",
       "\n"
      ],
      "text/plain": [
       "     [,1] [,2]\n",
       "[1,] 71   172 \n",
       "[2,] 73    73 \n",
       "[3,] 69   160 \n",
       "[4,] 65   130 "
      ]
     },
     "metadata": {},
     "output_type": "display_data"
    },
    {
     "name": "stderr",
     "output_type": "stream",
     "text": [
      "Warning message in cbind(c(71, 73, 65), c(172, 169, 160, 130)):\n",
      "\"number of rows of result is not a multiple of vector length (arg 1)\"\n"
     ]
    },
    {
     "data": {
      "text/html": [
       "<table class=\"dataframe\">\n",
       "<caption>A matrix: 4 × 2 of type dbl</caption>\n",
       "<tbody>\n",
       "\t<tr><td>71</td><td>172</td></tr>\n",
       "\t<tr><td>73</td><td>169</td></tr>\n",
       "\t<tr><td>65</td><td>160</td></tr>\n",
       "\t<tr><td>71</td><td>130</td></tr>\n",
       "</tbody>\n",
       "</table>\n"
      ],
      "text/latex": [
       "A matrix: 4 × 2 of type dbl\n",
       "\\begin{tabular}{ll}\n",
       "\t 71 & 172\\\\\n",
       "\t 73 & 169\\\\\n",
       "\t 65 & 160\\\\\n",
       "\t 71 & 130\\\\\n",
       "\\end{tabular}\n"
      ],
      "text/markdown": [
       "\n",
       "A matrix: 4 × 2 of type dbl\n",
       "\n",
       "| 71 | 172 |\n",
       "| 73 | 169 |\n",
       "| 65 | 160 |\n",
       "| 71 | 130 |\n",
       "\n"
      ],
      "text/plain": [
       "     [,1] [,2]\n",
       "[1,] 71   172 \n",
       "[2,] 73   169 \n",
       "[3,] 65   160 \n",
       "[4,] 71   130 "
      ]
     },
     "metadata": {},
     "output_type": "display_data"
    },
    {
     "name": "stderr",
     "output_type": "stream",
     "text": [
      "Warning message in cbind(c(71, 73, 69, 65), c(172, 169, 130)):\n",
      "\"number of rows of result is not a multiple of vector length (arg 2)\"\n"
     ]
    },
    {
     "data": {
      "text/html": [
       "<table class=\"dataframe\">\n",
       "<caption>A matrix: 4 × 2 of type dbl</caption>\n",
       "<tbody>\n",
       "\t<tr><td>71</td><td>172</td></tr>\n",
       "\t<tr><td>73</td><td>169</td></tr>\n",
       "\t<tr><td>69</td><td>130</td></tr>\n",
       "\t<tr><td>65</td><td>172</td></tr>\n",
       "</tbody>\n",
       "</table>\n"
      ],
      "text/latex": [
       "A matrix: 4 × 2 of type dbl\n",
       "\\begin{tabular}{ll}\n",
       "\t 71 & 172\\\\\n",
       "\t 73 & 169\\\\\n",
       "\t 69 & 130\\\\\n",
       "\t 65 & 172\\\\\n",
       "\\end{tabular}\n"
      ],
      "text/markdown": [
       "\n",
       "A matrix: 4 × 2 of type dbl\n",
       "\n",
       "| 71 | 172 |\n",
       "| 73 | 169 |\n",
       "| 69 | 130 |\n",
       "| 65 | 172 |\n",
       "\n"
      ],
      "text/plain": [
       "     [,1] [,2]\n",
       "[1,] 71   172 \n",
       "[2,] 73   169 \n",
       "[3,] 69   130 \n",
       "[4,] 65   172 "
      ]
     },
     "metadata": {},
     "output_type": "display_data"
    }
   ],
   "source": [
    "# how does R deal with incomplete data. Cyclically reuse the vector.\n",
    "x=rbind(c(71,172),c(73),c(69,160),c(65,130)); x\n",
    "y=cbind(c(71,73,65),c(172,169,160,130)); y\n",
    "y=cbind(c(71,73,69,65),c(172,169,130)); y"
   ]
  },
  {
   "cell_type": "code",
   "execution_count": 15,
   "metadata": {
    "scrolled": true
   },
   "outputs": [
    {
     "name": "stderr",
     "output_type": "stream",
     "text": [
      "Warning message in matrix(1:6, 2, 5):\n",
      "\"data length [6] is not a sub-multiple or multiple of the number of columns [5]\"\n"
     ]
    },
    {
     "data": {
      "text/html": [
       "<table class=\"dataframe\">\n",
       "<caption>A matrix: 2 × 5 of type int</caption>\n",
       "<tbody>\n",
       "\t<tr><td>1</td><td>3</td><td>5</td><td>1</td><td>3</td></tr>\n",
       "\t<tr><td>2</td><td>4</td><td>6</td><td>2</td><td>4</td></tr>\n",
       "</tbody>\n",
       "</table>\n"
      ],
      "text/latex": [
       "A matrix: 2 × 5 of type int\n",
       "\\begin{tabular}{lllll}\n",
       "\t 1 & 3 & 5 & 1 & 3\\\\\n",
       "\t 2 & 4 & 6 & 2 & 4\\\\\n",
       "\\end{tabular}\n"
      ],
      "text/markdown": [
       "\n",
       "A matrix: 2 × 5 of type int\n",
       "\n",
       "| 1 | 3 | 5 | 1 | 3 |\n",
       "| 2 | 4 | 6 | 2 | 4 |\n",
       "\n"
      ],
      "text/plain": [
       "     [,1] [,2] [,3] [,4] [,5]\n",
       "[1,] 1    3    5    1    3   \n",
       "[2,] 2    4    6    2    4   "
      ]
     },
     "metadata": {},
     "output_type": "display_data"
    },
    {
     "name": "stderr",
     "output_type": "stream",
     "text": [
      "Warning message in matrix(1:6, 2, 5, byrow = T):\n",
      "\"data length [6] is not a sub-multiple or multiple of the number of columns [5]\"\n"
     ]
    },
    {
     "data": {
      "text/html": [
       "<table class=\"dataframe\">\n",
       "<caption>A matrix: 2 × 5 of type int</caption>\n",
       "<tbody>\n",
       "\t<tr><td>1</td><td>2</td><td>3</td><td>4</td><td>5</td></tr>\n",
       "\t<tr><td>6</td><td>1</td><td>2</td><td>3</td><td>4</td></tr>\n",
       "</tbody>\n",
       "</table>\n"
      ],
      "text/latex": [
       "A matrix: 2 × 5 of type int\n",
       "\\begin{tabular}{lllll}\n",
       "\t 1 & 2 & 3 & 4 & 5\\\\\n",
       "\t 6 & 1 & 2 & 3 & 4\\\\\n",
       "\\end{tabular}\n"
      ],
      "text/markdown": [
       "\n",
       "A matrix: 2 × 5 of type int\n",
       "\n",
       "| 1 | 2 | 3 | 4 | 5 |\n",
       "| 6 | 1 | 2 | 3 | 4 |\n",
       "\n"
      ],
      "text/plain": [
       "     [,1] [,2] [,3] [,4] [,5]\n",
       "[1,] 1    2    3    4    5   \n",
       "[2,] 6    1    2    3    4   "
      ]
     },
     "metadata": {},
     "output_type": "display_data"
    }
   ],
   "source": [
    "# how does R deal with incomplete data. Cyclically reuse the vector.\n",
    "z=matrix(1:6,2,5); z\n",
    "z=matrix(1:6,2,5, byrow=T); z"
   ]
  },
  {
   "cell_type": "code",
   "execution_count": 16,
   "metadata": {},
   "outputs": [
    {
     "data": {
      "text/html": [
       "<style>\n",
       ".list-inline {list-style: none; margin:0; padding: 0}\n",
       ".list-inline>li {display: inline-block}\n",
       ".list-inline>li:not(:last-child)::after {content: \"\\00b7\"; padding: 0 .5ex}\n",
       "</style>\n",
       "<ol class=list-inline><li>1</li><li>2</li><li>3</li><li>4</li><li>5</li><li>6</li></ol>\n"
      ],
      "text/latex": [
       "\\begin{enumerate*}\n",
       "\\item 1\n",
       "\\item 2\n",
       "\\item 3\n",
       "\\item 4\n",
       "\\item 5\n",
       "\\item 6\n",
       "\\end{enumerate*}\n"
      ],
      "text/markdown": [
       "1. 1\n",
       "2. 2\n",
       "3. 3\n",
       "4. 4\n",
       "5. 5\n",
       "6. 6\n",
       "\n",
       "\n"
      ],
      "text/plain": [
       "[1] 1 2 3 4 5 6"
      ]
     },
     "metadata": {},
     "output_type": "display_data"
    },
    {
     "data": {
      "text/html": [
       "1"
      ],
      "text/latex": [
       "1"
      ],
      "text/markdown": [
       "1"
      ],
      "text/plain": [
       "[1] 1"
      ]
     },
     "metadata": {},
     "output_type": "display_data"
    },
    {
     "data": {
      "text/html": [
       "2"
      ],
      "text/latex": [
       "2"
      ],
      "text/markdown": [
       "2"
      ],
      "text/plain": [
       "[1] 2"
      ]
     },
     "metadata": {},
     "output_type": "display_data"
    },
    {
     "data": {
      "text/html": [],
      "text/latex": [],
      "text/markdown": [],
      "text/plain": [
       "numeric(0)"
      ]
     },
     "metadata": {},
     "output_type": "display_data"
    },
    {
     "name": "stdout",
     "output_type": "stream",
     "text": [
      "numeric(0)\n"
     ]
    },
    {
     "data": {
      "text/html": [
       "<style>\n",
       ".list-inline {list-style: none; margin:0; padding: 0}\n",
       ".list-inline>li {display: inline-block}\n",
       ".list-inline>li:not(:last-child)::after {content: \"\\00b7\"; padding: 0 .5ex}\n",
       "</style>\n",
       "<ol class=list-inline><li>2</li><li>3</li></ol>\n"
      ],
      "text/latex": [
       "\\begin{enumerate*}\n",
       "\\item 2\n",
       "\\item 3\n",
       "\\end{enumerate*}\n"
      ],
      "text/markdown": [
       "1. 2\n",
       "2. 3\n",
       "\n",
       "\n"
      ],
      "text/plain": [
       "[1] 2 3"
      ]
     },
     "metadata": {},
     "output_type": "display_data"
    },
    {
     "data": {
      "text/html": [
       "<style>\n",
       ".list-inline {list-style: none; margin:0; padding: 0}\n",
       ".list-inline>li {display: inline-block}\n",
       ".list-inline>li:not(:last-child)::after {content: \"\\00b7\"; padding: 0 .5ex}\n",
       "</style>\n",
       "<ol class=list-inline><li>1</li><li>3</li><li>4</li><li>5</li><li>6</li></ol>\n"
      ],
      "text/latex": [
       "\\begin{enumerate*}\n",
       "\\item 1\n",
       "\\item 3\n",
       "\\item 4\n",
       "\\item 5\n",
       "\\item 6\n",
       "\\end{enumerate*}\n"
      ],
      "text/markdown": [
       "1. 1\n",
       "2. 3\n",
       "3. 4\n",
       "4. 5\n",
       "5. 6\n",
       "\n",
       "\n"
      ],
      "text/plain": [
       "[1] 1 3 4 5 6"
      ]
     },
     "metadata": {},
     "output_type": "display_data"
    },
    {
     "data": {
      "text/html": [
       "<style>\n",
       ".list-inline {list-style: none; margin:0; padding: 0}\n",
       ".list-inline>li {display: inline-block}\n",
       ".list-inline>li:not(:last-child)::after {content: \"\\00b7\"; padding: 0 .5ex}\n",
       "</style>\n",
       "<ol class=list-inline><li>3</li><li>5</li><li>6</li></ol>\n"
      ],
      "text/latex": [
       "\\begin{enumerate*}\n",
       "\\item 3\n",
       "\\item 5\n",
       "\\item 6\n",
       "\\end{enumerate*}\n"
      ],
      "text/markdown": [
       "1. 3\n",
       "2. 5\n",
       "3. 6\n",
       "\n",
       "\n"
      ],
      "text/plain": [
       "[1] 3 5 6"
      ]
     },
     "metadata": {},
     "output_type": "display_data"
    },
    {
     "data": {
      "text/html": [
       "<style>\n",
       ".list-inline {list-style: none; margin:0; padding: 0}\n",
       ".list-inline>li {display: inline-block}\n",
       ".list-inline>li:not(:last-child)::after {content: \"\\00b7\"; padding: 0 .5ex}\n",
       "</style>\n",
       "<ol class=list-inline><li>3</li><li>5</li><li>6</li><li>&lt;NA&gt;</li></ol>\n"
      ],
      "text/latex": [
       "\\begin{enumerate*}\n",
       "\\item 3\n",
       "\\item 5\n",
       "\\item 6\n",
       "\\item <NA>\n",
       "\\end{enumerate*}\n"
      ],
      "text/markdown": [
       "1. 3\n",
       "2. 5\n",
       "3. 6\n",
       "4. &lt;NA&gt;\n",
       "\n",
       "\n"
      ],
      "text/plain": [
       "[1]  3  5  6 NA"
      ]
     },
     "metadata": {},
     "output_type": "display_data"
    }
   ],
   "source": [
    "x=c(1,2,3,4,5,6);x\n",
    "x[1] #index starts from 1\n",
    "x[2]\n",
    "x[0] # it is always integer(0) or numeric(0)\n",
    "print(x[0])\n",
    "x[2:3] #slicing\n",
    "x[-2] #drop\n",
    "x[c(3,5,6)]\n",
    "x[c(3,5,6,8)] #when index is out of range"
   ]
  },
  {
   "cell_type": "code",
   "execution_count": 17,
   "metadata": {
    "scrolled": true
   },
   "outputs": [
    {
     "data": {
      "text/html": [
       "<style>\n",
       ".list-inline {list-style: none; margin:0; padding: 0}\n",
       ".list-inline>li {display: inline-block}\n",
       ".list-inline>li:not(:last-child)::after {content: \"\\00b7\"; padding: 0 .5ex}\n",
       "</style>\n",
       "<ol class=list-inline><li>4</li><li>5</li><li>6</li></ol>\n"
      ],
      "text/latex": [
       "\\begin{enumerate*}\n",
       "\\item 4\n",
       "\\item 5\n",
       "\\item 6\n",
       "\\end{enumerate*}\n"
      ],
      "text/markdown": [
       "1. 4\n",
       "2. 5\n",
       "3. 6\n",
       "\n",
       "\n"
      ],
      "text/plain": [
       "[1] 4 5 6"
      ]
     },
     "metadata": {},
     "output_type": "display_data"
    },
    {
     "data": {
      "text/html": [
       "<style>\n",
       ".list-inline {list-style: none; margin:0; padding: 0}\n",
       ".list-inline>li {display: inline-block}\n",
       ".list-inline>li:not(:last-child)::after {content: \"\\00b7\"; padding: 0 .5ex}\n",
       "</style>\n",
       "<ol class=list-inline><li>1</li><li>4</li><li>5</li><li>6</li></ol>\n"
      ],
      "text/latex": [
       "\\begin{enumerate*}\n",
       "\\item 1\n",
       "\\item 4\n",
       "\\item 5\n",
       "\\item 6\n",
       "\\end{enumerate*}\n"
      ],
      "text/markdown": [
       "1. 1\n",
       "2. 4\n",
       "3. 5\n",
       "4. 6\n",
       "\n",
       "\n"
      ],
      "text/plain": [
       "[1] 1 4 5 6"
      ]
     },
     "metadata": {},
     "output_type": "display_data"
    },
    {
     "data": {
      "text/html": [
       "<style>\n",
       ".list-inline {list-style: none; margin:0; padding: 0}\n",
       ".list-inline>li {display: inline-block}\n",
       ".list-inline>li:not(:last-child)::after {content: \"\\00b7\"; padding: 0 .5ex}\n",
       "</style>\n",
       "<ol class=list-inline><li>4</li><li>5</li><li>6</li></ol>\n"
      ],
      "text/latex": [
       "\\begin{enumerate*}\n",
       "\\item 4\n",
       "\\item 5\n",
       "\\item 6\n",
       "\\end{enumerate*}\n"
      ],
      "text/markdown": [
       "1. 4\n",
       "2. 5\n",
       "3. 6\n",
       "\n",
       "\n"
      ],
      "text/plain": [
       "[1] 4 5 6"
      ]
     },
     "metadata": {},
     "output_type": "display_data"
    },
    {
     "data": {
      "text/html": [
       "<style>\n",
       ".list-inline {list-style: none; margin:0; padding: 0}\n",
       ".list-inline>li {display: inline-block}\n",
       ".list-inline>li:not(:last-child)::after {content: \"\\00b7\"; padding: 0 .5ex}\n",
       "</style>\n",
       "<ol class=list-inline><li>1</li><li>4</li><li>5</li><li>6</li></ol>\n"
      ],
      "text/latex": [
       "\\begin{enumerate*}\n",
       "\\item 1\n",
       "\\item 4\n",
       "\\item 5\n",
       "\\item 6\n",
       "\\end{enumerate*}\n"
      ],
      "text/markdown": [
       "1. 1\n",
       "2. 4\n",
       "3. 5\n",
       "4. 6\n",
       "\n",
       "\n"
      ],
      "text/plain": [
       "[1] 1 4 5 6"
      ]
     },
     "metadata": {},
     "output_type": "display_data"
    },
    {
     "data": {
      "text/html": [
       "6"
      ],
      "text/latex": [
       "6"
      ],
      "text/markdown": [
       "6"
      ],
      "text/plain": [
       "[1] 6"
      ]
     },
     "metadata": {},
     "output_type": "display_data"
    },
    {
     "data": {
      "text/html": [
       "2"
      ],
      "text/latex": [
       "2"
      ],
      "text/markdown": [
       "2"
      ],
      "text/plain": [
       "[1] 2"
      ]
     },
     "metadata": {},
     "output_type": "display_data"
    },
    {
     "data": {
      "text/html": [
       "\n",
       "<table width=\"100%\" summary=\"page for which.min {base}\"><tr><td>which.min {base}</td><td style=\"text-align: right;\">R Documentation</td></tr></table>\n",
       "\n",
       "<h2>Where is the Min() or Max() or first TRUE or FALSE ?</h2>\n",
       "\n",
       "<h3>Description</h3>\n",
       "\n",
       "<p>Determines the location, i.e., index of the (first) minimum or maximum\n",
       "of a numeric (or logical) vector.\n",
       "</p>\n",
       "\n",
       "\n",
       "<h3>Usage</h3>\n",
       "\n",
       "<pre>\n",
       "which.min(x)\n",
       "which.max(x)\n",
       "</pre>\n",
       "\n",
       "\n",
       "<h3>Arguments</h3>\n",
       "\n",
       "<table summary=\"R argblock\">\n",
       "<tr valign=\"top\"><td><code>x</code></td>\n",
       "<td>\n",
       "<p>numeric (logical, integer or double) vector or an <span style=\"font-family: Courier New, Courier; color: #666666;\"><b>R</b></span> object\n",
       "for which the internal coercion to <code>double</code> works whose\n",
       "<code>min</code> or <code>max</code> is searched for.</p>\n",
       "</td></tr>\n",
       "</table>\n",
       "\n",
       "\n",
       "<h3>Value</h3>\n",
       "\n",
       "<p>Missing and <code>NaN</code> values are discarded.\n",
       "</p>\n",
       "<p>an <code>integer</code> or on 64-bit platforms, if\n",
       "<code>length(x) =: n</code><i>&gt;= 2^31</i> an integer\n",
       "valued <code>double</code> of length 1 or 0 (iff <code>x</code> has no\n",
       "non-<code>NA</code>s), giving the index of the <em>first</em> minimum or\n",
       "maximum respectively of <code>x</code>.\n",
       "</p>\n",
       "<p>If this extremum is unique (or empty), the results are the same as\n",
       "(but more efficient than) <code>which(x == min(x, na.rm = TRUE))</code> or\n",
       "<code>which(x == max(x, na.rm = TRUE))</code> respectively.\n",
       "</p>\n",
       "\n",
       "\n",
       "<h3>Logical <code>x</code> &ndash; First <code>TRUE</code> or <code>FALSE</code></h3>\n",
       "\n",
       "<p>For a <code>logical</code> vector <code>x</code> with both <code>FALSE</code> and\n",
       "<code>TRUE</code> values, <code>which.min(x)</code> and <code>which.max(x)</code> return\n",
       "the index of the first <code>FALSE</code> or <code>TRUE</code>, respectively, as\n",
       "<code>FALSE &lt; TRUE</code>.  However, <code>match(FALSE, x)</code> or\n",
       "<code>match(TRUE, x)</code> are typically <em>preferred</em>, as they do\n",
       "indicate mismatches.\n",
       "</p>\n",
       "\n",
       "\n",
       "<h3>Author(s)</h3>\n",
       "\n",
       "<p>Martin Maechler</p>\n",
       "\n",
       "\n",
       "<h3>See Also</h3>\n",
       "\n",
       "<p><code>which</code>, <code>max.col</code>, <code>max</code>, etc.\n",
       "</p>\n",
       "<p>Use <code>arrayInd()</code>, if you need array/matrix indices instead\n",
       "of 1D vector ones.\n",
       "</p>\n",
       "<p><code>which.is.max</code> in package <a href=\"https://CRAN.R-project.org/package=nnet\"><span class=\"pkg\">nnet</span></a> differs in\n",
       "breaking ties at random (and having a &lsquo;fuzz&rsquo; in the definition\n",
       "of ties).\n",
       "</p>\n",
       "\n",
       "\n",
       "<h3>Examples</h3>\n",
       "\n",
       "<pre>\n",
       "x &lt;- c(1:4, 0:5, 11)\n",
       "which.min(x)\n",
       "which.max(x)\n",
       "\n",
       "## it *does* work with NA's present, by discarding them:\n",
       "presidents[1:30]\n",
       "range(presidents, na.rm = TRUE)\n",
       "which.min(presidents) # 28\n",
       "which.max(presidents) #  2\n",
       "\n",
       "## Find the first occurrence, i.e. the first TRUE, if there is at least one:\n",
       "x &lt;- rpois(10000, lambda = 10); x[sample.int(50, 20)] &lt;- NA\n",
       "## where is the first value &gt;= 20 ?\n",
       "which.max(x &gt;= 20)\n",
       "\n",
       "## Also works for lists (which can be coerced to numeric vectors):\n",
       "which.min(list(A = 7, pi = pi)) ##  -&gt;  c(pi = 2L)\n",
       "\n",
       "</pre>\n",
       "\n",
       "<hr /><div style=\"text-align: center;\">[Package <em>base</em> version 4.1.2 ]</div>"
      ],
      "text/latex": [
       "\\inputencoding{utf8}\n",
       "\\HeaderA{which.min}{Where is the Min() or Max() or first TRUE or FALSE ?}{which.min}\n",
       "\\aliasA{which.max}{which.min}{which.max}\n",
       "\\keyword{argmin}{which.min}\n",
       "\\keyword{argmax}{which.min}\n",
       "\\keyword{index of minimum}{which.min}\n",
       "\\keyword{index of maximum}{which.min}\n",
       "\\keyword{index of first TRUE}{which.min}\n",
       "\\keyword{index of first FALSE}{which.min}\n",
       "\\keyword{utilities}{which.min}\n",
       "%\n",
       "\\begin{Description}\\relax\n",
       "Determines the location, i.e., index of the (first) minimum or maximum\n",
       "of a numeric (or logical) vector.\n",
       "\\end{Description}\n",
       "%\n",
       "\\begin{Usage}\n",
       "\\begin{verbatim}\n",
       "which.min(x)\n",
       "which.max(x)\n",
       "\\end{verbatim}\n",
       "\\end{Usage}\n",
       "%\n",
       "\\begin{Arguments}\n",
       "\\begin{ldescription}\n",
       "\\item[\\code{x}] numeric (logical, integer or double) vector or an \\R{} object\n",
       "for which the internal coercion to \\code{\\LinkA{double}{double}} works whose\n",
       "\\code{\\LinkA{min}{min}} or \\code{\\LinkA{max}{max}} is searched for.\n",
       "\\end{ldescription}\n",
       "\\end{Arguments}\n",
       "%\n",
       "\\begin{Value}\n",
       "Missing and \\code{NaN} values are discarded.\n",
       "\n",
       "an \\code{\\LinkA{integer}{integer}} or on 64-bit platforms, if\n",
       "\\code{\\LinkA{length}{length}(x) =: n}\\eqn{\\ge 2^{31}}{} an integer\n",
       "valued \\code{\\LinkA{double}{double}} of length 1 or 0 (iff \\code{x} has no\n",
       "non-\\code{NA}s), giving the index of the \\emph{first} minimum or\n",
       "maximum respectively of \\code{x}.\n",
       "\n",
       "If this extremum is unique (or empty), the results are the same as\n",
       "(but more efficient than) \\code{which(x == min(x, na.rm = TRUE))} or\n",
       "\\code{which(x == max(x, na.rm = TRUE))} respectively.\n",
       "\\end{Value}\n",
       "%\n",
       "\\begin{Section}{Logical \\code{x} -- First \\code{TRUE} or \\code{FALSE}}\n",
       "For a \\code{\\LinkA{logical}{logical}} vector \\code{x} with both \\code{FALSE} and\n",
       "\\code{TRUE} values, \\code{which.min(x)} and \\code{which.max(x)} return\n",
       "the index of the first \\code{FALSE} or \\code{TRUE}, respectively, as\n",
       "\\code{FALSE < TRUE}.  However, \\code{match(FALSE, x)} or\n",
       "\\code{match(TRUE, x)} are typically \\emph{preferred}, as they do\n",
       "indicate mismatches.\n",
       "\\end{Section}\n",
       "%\n",
       "\\begin{Author}\\relax\n",
       "Martin Maechler\n",
       "\\end{Author}\n",
       "%\n",
       "\\begin{SeeAlso}\\relax\n",
       "\\code{\\LinkA{which}{which}}, \\code{\\LinkA{max.col}{max.col}}, \\code{\\LinkA{max}{max}}, etc.\n",
       "\n",
       "Use \\code{\\LinkA{arrayInd}{arrayInd}()}, if you need array/matrix indices instead\n",
       "of 1D vector ones.\n",
       "\n",
       "\\code{\\LinkA{which.is.max}{which.is.max}} in package \\Rhref{https://CRAN.R-project.org/package=nnet}{\\pkg{nnet}} differs in\n",
       "breaking ties at random (and having a `fuzz' in the definition\n",
       "of ties).\n",
       "\\end{SeeAlso}\n",
       "%\n",
       "\\begin{Examples}\n",
       "\\begin{ExampleCode}\n",
       "x <- c(1:4, 0:5, 11)\n",
       "which.min(x)\n",
       "which.max(x)\n",
       "\n",
       "## it *does* work with NA's present, by discarding them:\n",
       "presidents[1:30]\n",
       "range(presidents, na.rm = TRUE)\n",
       "which.min(presidents) # 28\n",
       "which.max(presidents) #  2\n",
       "\n",
       "## Find the first occurrence, i.e. the first TRUE, if there is at least one:\n",
       "x <- rpois(10000, lambda = 10); x[sample.int(50, 20)] <- NA\n",
       "## where is the first value >= 20 ?\n",
       "which.max(x >= 20)\n",
       "\n",
       "## Also works for lists (which can be coerced to numeric vectors):\n",
       "which.min(list(A = 7, pi = pi)) ##  ->  c(pi = 2L)\n",
       "\n",
       "\\end{ExampleCode}\n",
       "\\end{Examples}"
      ],
      "text/plain": [
       "which.min                 package:base                 R Documentation\n",
       "\n",
       "_\bW_\bh_\be_\br_\be _\bi_\bs _\bt_\bh_\be _\bM_\bi_\bn() _\bo_\br _\bM_\ba_\bx() _\bo_\br _\bf_\bi_\br_\bs_\bt _\bT_\bR_\bU_\bE _\bo_\br _\bF_\bA_\bL_\bS_\bE ?\n",
       "\n",
       "_\bD_\be_\bs_\bc_\br_\bi_\bp_\bt_\bi_\bo_\bn:\n",
       "\n",
       "     Determines the location, i.e., index of the (first) minimum or\n",
       "     maximum of a numeric (or logical) vector.\n",
       "\n",
       "_\bU_\bs_\ba_\bg_\be:\n",
       "\n",
       "     which.min(x)\n",
       "     which.max(x)\n",
       "     \n",
       "_\bA_\br_\bg_\bu_\bm_\be_\bn_\bt_\bs:\n",
       "\n",
       "       x: numeric (logical, integer or double) vector or an R object\n",
       "          for which the internal coercion to 'double' works whose 'min'\n",
       "          or 'max' is searched for.\n",
       "\n",
       "_\bV_\ba_\bl_\bu_\be:\n",
       "\n",
       "     Missing and 'NaN' values are discarded.\n",
       "\n",
       "     an 'integer' or on 64-bit platforms, if 'length(x) =: n'>= 2^31 an\n",
       "     integer valued 'double' of length 1 or 0 (iff 'x' has no\n",
       "     non-'NA's), giving the index of the _first_ minimum or maximum\n",
       "     respectively of 'x'.\n",
       "\n",
       "     If this extremum is unique (or empty), the results are the same as\n",
       "     (but more efficient than) 'which(x == min(x, na.rm = TRUE))' or\n",
       "     'which(x == max(x, na.rm = TRUE))' respectively.\n",
       "\n",
       "_\bL_\bo_\bg_\bi_\bc_\ba_\bl '_\bx' - _\bF_\bi_\br_\bs_\bt '_\bT_\bR_\bU_\bE' _\bo_\br '_\bF_\bA_\bL_\bS_\bE':\n",
       "\n",
       "     For a 'logical' vector 'x' with both 'FALSE' and 'TRUE' values,\n",
       "     'which.min(x)' and 'which.max(x)' return the index of the first\n",
       "     'FALSE' or 'TRUE', respectively, as 'FALSE < TRUE'.  However,\n",
       "     'match(FALSE, x)' or 'match(TRUE, x)' are typically _preferred_,\n",
       "     as they do indicate mismatches.\n",
       "\n",
       "_\bA_\bu_\bt_\bh_\bo_\br(_\bs):\n",
       "\n",
       "     Martin Maechler\n",
       "\n",
       "_\bS_\be_\be _\bA_\bl_\bs_\bo:\n",
       "\n",
       "     'which', 'max.col', 'max', etc.\n",
       "\n",
       "     Use 'arrayInd()', if you need array/matrix indices instead of 1D\n",
       "     vector ones.\n",
       "\n",
       "     'which.is.max' in package 'nnet' differs in breaking ties at\n",
       "     random (and having a 'fuzz' in the definition of ties).\n",
       "\n",
       "_\bE_\bx_\ba_\bm_\bp_\bl_\be_\bs:\n",
       "\n",
       "     x <- c(1:4, 0:5, 11)\n",
       "     which.min(x)\n",
       "     which.max(x)\n",
       "     \n",
       "     ## it *does* work with NA's present, by discarding them:\n",
       "     presidents[1:30]\n",
       "     range(presidents, na.rm = TRUE)\n",
       "     which.min(presidents) # 28\n",
       "     which.max(presidents) #  2\n",
       "     \n",
       "     ## Find the first occurrence, i.e. the first TRUE, if there is at least one:\n",
       "     x <- rpois(10000, lambda = 10); x[sample.int(50, 20)] <- NA\n",
       "     ## where is the first value >= 20 ?\n",
       "     which.max(x >= 20)\n",
       "     \n",
       "     ## Also works for lists (which can be coerced to numeric vectors):\n",
       "     which.min(list(A = 7, pi = pi)) ##  ->  c(pi = 2L)\n",
       "     "
      ]
     },
     "metadata": {},
     "output_type": "display_data"
    }
   ],
   "source": [
    "#filtering\n",
    "x[x>3]\n",
    "x[x<2 | x>3]\n",
    "which(x>3)  #return indices\n",
    "which(x<2 | x>3)\n",
    "which.max(x)\n",
    "y=c(2,3,3,2)\n",
    "which.max(y)\n",
    "?which.max"
   ]
  },
  {
   "cell_type": "code",
   "execution_count": 18,
   "metadata": {},
   "outputs": [
    {
     "data": {
      "text/html": [
       "<style>\n",
       ".list-inline {list-style: none; margin:0; padding: 0}\n",
       ".list-inline>li {display: inline-block}\n",
       ".list-inline>li:not(:last-child)::after {content: \"\\00b7\"; padding: 0 .5ex}\n",
       "</style>\n",
       "<ol class=list-inline><li>1</li><li>2</li><li>3</li><li>4</li><li>5</li><li>6</li></ol>\n"
      ],
      "text/latex": [
       "\\begin{enumerate*}\n",
       "\\item 1\n",
       "\\item 2\n",
       "\\item 3\n",
       "\\item 4\n",
       "\\item 5\n",
       "\\item 6\n",
       "\\end{enumerate*}\n"
      ],
      "text/markdown": [
       "1. 1\n",
       "2. 2\n",
       "3. 3\n",
       "4. 4\n",
       "5. 5\n",
       "6. 6\n",
       "\n",
       "\n"
      ],
      "text/plain": [
       "[1] 1 2 3 4 5 6"
      ]
     },
     "metadata": {},
     "output_type": "display_data"
    },
    {
     "data": {
      "text/html": [
       "<style>\n",
       ".list-inline {list-style: none; margin:0; padding: 0}\n",
       ".list-inline>li {display: inline-block}\n",
       ".list-inline>li:not(:last-child)::after {content: \"\\00b7\"; padding: 0 .5ex}\n",
       "</style>\n",
       "<ol class=list-inline><li>FALSE</li><li>FALSE</li><li>FALSE</li><li>TRUE</li><li>TRUE</li><li>TRUE</li></ol>\n"
      ],
      "text/latex": [
       "\\begin{enumerate*}\n",
       "\\item FALSE\n",
       "\\item FALSE\n",
       "\\item FALSE\n",
       "\\item TRUE\n",
       "\\item TRUE\n",
       "\\item TRUE\n",
       "\\end{enumerate*}\n"
      ],
      "text/markdown": [
       "1. FALSE\n",
       "2. FALSE\n",
       "3. FALSE\n",
       "4. TRUE\n",
       "5. TRUE\n",
       "6. TRUE\n",
       "\n",
       "\n"
      ],
      "text/plain": [
       "[1] FALSE FALSE FALSE  TRUE  TRUE  TRUE"
      ]
     },
     "metadata": {},
     "output_type": "display_data"
    },
    {
     "data": {
      "text/html": [
       "<style>\n",
       ".list-inline {list-style: none; margin:0; padding: 0}\n",
       ".list-inline>li {display: inline-block}\n",
       ".list-inline>li:not(:last-child)::after {content: \"\\00b7\"; padding: 0 .5ex}\n",
       "</style>\n",
       "<ol class=list-inline><li>TRUE</li><li>FALSE</li><li>FALSE</li><li>TRUE</li><li>TRUE</li><li>TRUE</li></ol>\n"
      ],
      "text/latex": [
       "\\begin{enumerate*}\n",
       "\\item TRUE\n",
       "\\item FALSE\n",
       "\\item FALSE\n",
       "\\item TRUE\n",
       "\\item TRUE\n",
       "\\item TRUE\n",
       "\\end{enumerate*}\n"
      ],
      "text/markdown": [
       "1. TRUE\n",
       "2. FALSE\n",
       "3. FALSE\n",
       "4. TRUE\n",
       "5. TRUE\n",
       "6. TRUE\n",
       "\n",
       "\n"
      ],
      "text/plain": [
       "[1]  TRUE FALSE FALSE  TRUE  TRUE  TRUE"
      ]
     },
     "metadata": {},
     "output_type": "display_data"
    },
    {
     "data": {
      "text/html": [
       "<style>\n",
       ".list-inline {list-style: none; margin:0; padding: 0}\n",
       ".list-inline>li {display: inline-block}\n",
       ".list-inline>li:not(:last-child)::after {content: \"\\00b7\"; padding: 0 .5ex}\n",
       "</style>\n",
       "<ol class=list-inline><li>FALSE</li><li>FALSE</li><li>FALSE</li><li>FALSE</li><li>FALSE</li><li>FALSE</li></ol>\n"
      ],
      "text/latex": [
       "\\begin{enumerate*}\n",
       "\\item FALSE\n",
       "\\item FALSE\n",
       "\\item FALSE\n",
       "\\item FALSE\n",
       "\\item FALSE\n",
       "\\item FALSE\n",
       "\\end{enumerate*}\n"
      ],
      "text/markdown": [
       "1. FALSE\n",
       "2. FALSE\n",
       "3. FALSE\n",
       "4. FALSE\n",
       "5. FALSE\n",
       "6. FALSE\n",
       "\n",
       "\n"
      ],
      "text/plain": [
       "[1] FALSE FALSE FALSE FALSE FALSE FALSE"
      ]
     },
     "metadata": {},
     "output_type": "display_data"
    },
    {
     "data": {
      "text/html": [
       "FALSE"
      ],
      "text/latex": [
       "FALSE"
      ],
      "text/markdown": [
       "FALSE"
      ],
      "text/plain": [
       "[1] FALSE"
      ]
     },
     "metadata": {},
     "output_type": "display_data"
    },
    {
     "data": {
      "text/html": [
       "TRUE"
      ],
      "text/latex": [
       "TRUE"
      ],
      "text/markdown": [
       "TRUE"
      ],
      "text/plain": [
       "[1] TRUE"
      ]
     },
     "metadata": {},
     "output_type": "display_data"
    },
    {
     "data": {
      "text/html": [
       "<style>\n",
       ".list-inline {list-style: none; margin:0; padding: 0}\n",
       ".list-inline>li {display: inline-block}\n",
       ".list-inline>li:not(:last-child)::after {content: \"\\00b7\"; padding: 0 .5ex}\n",
       "</style>\n",
       "<ol class=list-inline><li>FALSE</li><li>TRUE</li><li>FALSE</li><li>TRUE</li><li>FALSE</li><li>FALSE</li></ol>\n"
      ],
      "text/latex": [
       "\\begin{enumerate*}\n",
       "\\item FALSE\n",
       "\\item TRUE\n",
       "\\item FALSE\n",
       "\\item TRUE\n",
       "\\item FALSE\n",
       "\\item FALSE\n",
       "\\end{enumerate*}\n"
      ],
      "text/markdown": [
       "1. FALSE\n",
       "2. TRUE\n",
       "3. FALSE\n",
       "4. TRUE\n",
       "5. FALSE\n",
       "6. FALSE\n",
       "\n",
       "\n"
      ],
      "text/plain": [
       "[1] FALSE  TRUE FALSE  TRUE FALSE FALSE"
      ]
     },
     "metadata": {},
     "output_type": "display_data"
    }
   ],
   "source": [
    "# logical vectors\n",
    "x\n",
    "x>3\n",
    "x<2 | x>3  \n",
    "x<2 & x>3  \n",
    "all(x>3)\n",
    "any(x>3)\n",
    "x %in% c(2,4)"
   ]
  },
  {
   "cell_type": "code",
   "execution_count": 19,
   "metadata": {
    "scrolled": true
   },
   "outputs": [
    {
     "data": {
      "text/html": [
       "<style>\n",
       ".list-inline {list-style: none; margin:0; padding: 0}\n",
       ".list-inline>li {display: inline-block}\n",
       ".list-inline>li:not(:last-child)::after {content: \"\\00b7\"; padding: 0 .5ex}\n",
       "</style>\n",
       "<ol class=list-inline><li>FALSE</li><li>FALSE</li><li>TRUE</li><li>TRUE</li><li>TRUE</li><li>TRUE</li></ol>\n"
      ],
      "text/latex": [
       "\\begin{enumerate*}\n",
       "\\item FALSE\n",
       "\\item FALSE\n",
       "\\item TRUE\n",
       "\\item TRUE\n",
       "\\item TRUE\n",
       "\\item TRUE\n",
       "\\end{enumerate*}\n"
      ],
      "text/markdown": [
       "1. FALSE\n",
       "2. FALSE\n",
       "3. TRUE\n",
       "4. TRUE\n",
       "5. TRUE\n",
       "6. TRUE\n",
       "\n",
       "\n"
      ],
      "text/plain": [
       "[1] FALSE FALSE  TRUE  TRUE  TRUE  TRUE"
      ]
     },
     "metadata": {},
     "output_type": "display_data"
    },
    {
     "data": {
      "text/html": [
       "<style>\n",
       ".list-inline {list-style: none; margin:0; padding: 0}\n",
       ".list-inline>li {display: inline-block}\n",
       ".list-inline>li:not(:last-child)::after {content: \"\\00b7\"; padding: 0 .5ex}\n",
       "</style>\n",
       "<ol class=list-inline><li>TRUE</li><li>TRUE</li><li>TRUE</li><li>TRUE</li><li>FALSE</li><li>FALSE</li></ol>\n"
      ],
      "text/latex": [
       "\\begin{enumerate*}\n",
       "\\item TRUE\n",
       "\\item TRUE\n",
       "\\item TRUE\n",
       "\\item TRUE\n",
       "\\item FALSE\n",
       "\\item FALSE\n",
       "\\end{enumerate*}\n"
      ],
      "text/markdown": [
       "1. TRUE\n",
       "2. TRUE\n",
       "3. TRUE\n",
       "4. TRUE\n",
       "5. FALSE\n",
       "6. FALSE\n",
       "\n",
       "\n"
      ],
      "text/plain": [
       "[1]  TRUE  TRUE  TRUE  TRUE FALSE FALSE"
      ]
     },
     "metadata": {},
     "output_type": "display_data"
    },
    {
     "data": {
      "text/html": [
       "FALSE"
      ],
      "text/latex": [
       "FALSE"
      ],
      "text/markdown": [
       "FALSE"
      ],
      "text/plain": [
       "[1] FALSE"
      ]
     },
     "metadata": {},
     "output_type": "display_data"
    },
    {
     "data": {
      "text/html": [
       "FALSE"
      ],
      "text/latex": [
       "FALSE"
      ],
      "text/markdown": [
       "FALSE"
      ],
      "text/plain": [
       "[1] FALSE"
      ]
     },
     "metadata": {},
     "output_type": "display_data"
    }
   ],
   "source": [
    "# && and ||\n",
    "# The longer form evaluates left to right examining only the first element of each vector\n",
    "x=1:6\n",
    "x>2\n",
    "x<5\n",
    "(x > 2) && (x < 5)\n",
    "(x[1] > 2) & (x[1] < 5)"
   ]
  },
  {
   "cell_type": "code",
   "execution_count": 20,
   "metadata": {
    "scrolled": true
   },
   "outputs": [
    {
     "data": {
      "text/html": [
       "TRUE"
      ],
      "text/latex": [
       "TRUE"
      ],
      "text/markdown": [
       "TRUE"
      ],
      "text/plain": [
       "[1] TRUE"
      ]
     },
     "metadata": {},
     "output_type": "display_data"
    },
    {
     "data": {
      "text/html": [
       "TRUE"
      ],
      "text/latex": [
       "TRUE"
      ],
      "text/markdown": [
       "TRUE"
      ],
      "text/plain": [
       "[1] TRUE"
      ]
     },
     "metadata": {},
     "output_type": "display_data"
    }
   ],
   "source": [
    "x = 1; y = 2\n",
    "(x == 1) & (y == 2)\n",
    "(x == 1) && (y == 2)"
   ]
  },
  {
   "cell_type": "code",
   "execution_count": 21,
   "metadata": {
    "scrolled": true
   },
   "outputs": [
    {
     "data": {
      "text/html": [
       "<style>\n",
       ".list-inline {list-style: none; margin:0; padding: 0}\n",
       ".list-inline>li {display: inline-block}\n",
       ".list-inline>li:not(:last-child)::after {content: \"\\00b7\"; padding: 0 .5ex}\n",
       "</style>\n",
       "<ol class=list-inline><li>FALSE</li><li>FALSE</li><li>TRUE</li><li>TRUE</li><li>FALSE</li><li>FALSE</li></ol>\n"
      ],
      "text/latex": [
       "\\begin{enumerate*}\n",
       "\\item FALSE\n",
       "\\item FALSE\n",
       "\\item TRUE\n",
       "\\item TRUE\n",
       "\\item FALSE\n",
       "\\item FALSE\n",
       "\\end{enumerate*}\n"
      ],
      "text/markdown": [
       "1. FALSE\n",
       "2. FALSE\n",
       "3. TRUE\n",
       "4. TRUE\n",
       "5. FALSE\n",
       "6. FALSE\n",
       "\n",
       "\n"
      ],
      "text/plain": [
       "[1] FALSE FALSE  TRUE  TRUE FALSE FALSE"
      ]
     },
     "metadata": {},
     "output_type": "display_data"
    },
    {
     "data": {
      "text/html": [
       "<style>\n",
       ".list-inline {list-style: none; margin:0; padding: 0}\n",
       ".list-inline>li {display: inline-block}\n",
       ".list-inline>li:not(:last-child)::after {content: \"\\00b7\"; padding: 0 .5ex}\n",
       "</style>\n",
       "<ol class=list-inline><li>3</li><li>4</li></ol>\n"
      ],
      "text/latex": [
       "\\begin{enumerate*}\n",
       "\\item 3\n",
       "\\item 4\n",
       "\\end{enumerate*}\n"
      ],
      "text/markdown": [
       "1. 3\n",
       "2. 4\n",
       "\n",
       "\n"
      ],
      "text/plain": [
       "[1] 3 4"
      ]
     },
     "metadata": {},
     "output_type": "display_data"
    }
   ],
   "source": [
    "z = 1:6\n",
    "(z > 2) & (z < 5)\n",
    "z[(z>2) & (z<5)]"
   ]
  },
  {
   "cell_type": "code",
   "execution_count": 22,
   "metadata": {
    "scrolled": true
   },
   "outputs": [
    {
     "data": {
      "text/html": [
       "<style>\n",
       ".list-inline {list-style: none; margin:0; padding: 0}\n",
       ".list-inline>li {display: inline-block}\n",
       ".list-inline>li:not(:last-child)::after {content: \"\\00b7\"; padding: 0 .5ex}\n",
       "</style>\n",
       "<ol class=list-inline><li>FALSE</li><li>FALSE</li><li>TRUE</li><li>TRUE</li><li>TRUE</li><li>TRUE</li></ol>\n"
      ],
      "text/latex": [
       "\\begin{enumerate*}\n",
       "\\item FALSE\n",
       "\\item FALSE\n",
       "\\item TRUE\n",
       "\\item TRUE\n",
       "\\item TRUE\n",
       "\\item TRUE\n",
       "\\end{enumerate*}\n"
      ],
      "text/markdown": [
       "1. FALSE\n",
       "2. FALSE\n",
       "3. TRUE\n",
       "4. TRUE\n",
       "5. TRUE\n",
       "6. TRUE\n",
       "\n",
       "\n"
      ],
      "text/plain": [
       "[1] FALSE FALSE  TRUE  TRUE  TRUE  TRUE"
      ]
     },
     "metadata": {},
     "output_type": "display_data"
    },
    {
     "data": {
      "text/html": [
       "<style>\n",
       ".list-inline {list-style: none; margin:0; padding: 0}\n",
       ".list-inline>li {display: inline-block}\n",
       ".list-inline>li:not(:last-child)::after {content: \"\\00b7\"; padding: 0 .5ex}\n",
       "</style>\n",
       "<ol class=list-inline><li>TRUE</li><li>TRUE</li><li>TRUE</li><li>TRUE</li><li>FALSE</li><li>FALSE</li></ol>\n"
      ],
      "text/latex": [
       "\\begin{enumerate*}\n",
       "\\item TRUE\n",
       "\\item TRUE\n",
       "\\item TRUE\n",
       "\\item TRUE\n",
       "\\item FALSE\n",
       "\\item FALSE\n",
       "\\end{enumerate*}\n"
      ],
      "text/markdown": [
       "1. TRUE\n",
       "2. TRUE\n",
       "3. TRUE\n",
       "4. TRUE\n",
       "5. FALSE\n",
       "6. FALSE\n",
       "\n",
       "\n"
      ],
      "text/plain": [
       "[1]  TRUE  TRUE  TRUE  TRUE FALSE FALSE"
      ]
     },
     "metadata": {},
     "output_type": "display_data"
    }
   ],
   "source": [
    "z=1:6\n",
    "z>2\n",
    "z<5"
   ]
  },
  {
   "cell_type": "code",
   "execution_count": 23,
   "metadata": {},
   "outputs": [
    {
     "data": {
      "text/html": [
       "<style>\n",
       ".list-inline {list-style: none; margin:0; padding: 0}\n",
       ".list-inline>li {display: inline-block}\n",
       ".list-inline>li:not(:last-child)::after {content: \"\\00b7\"; padding: 0 .5ex}\n",
       "</style>\n",
       "<ol class=list-inline><li>FALSE</li><li>FALSE</li><li>TRUE</li><li>TRUE</li><li>FALSE</li><li>FALSE</li></ol>\n"
      ],
      "text/latex": [
       "\\begin{enumerate*}\n",
       "\\item FALSE\n",
       "\\item FALSE\n",
       "\\item TRUE\n",
       "\\item TRUE\n",
       "\\item FALSE\n",
       "\\item FALSE\n",
       "\\end{enumerate*}\n"
      ],
      "text/markdown": [
       "1. FALSE\n",
       "2. FALSE\n",
       "3. TRUE\n",
       "4. TRUE\n",
       "5. FALSE\n",
       "6. FALSE\n",
       "\n",
       "\n"
      ],
      "text/plain": [
       "[1] FALSE FALSE  TRUE  TRUE FALSE FALSE"
      ]
     },
     "metadata": {},
     "output_type": "display_data"
    }
   ],
   "source": [
    "(z > 2) & (z < 5)"
   ]
  },
  {
   "cell_type": "code",
   "execution_count": 24,
   "metadata": {},
   "outputs": [
    {
     "ename": "ERROR",
     "evalue": "Error in eval(expr, envir, enclos): attempt to apply non-function\n",
     "output_type": "error",
     "traceback": [
      "Error in eval(expr, envir, enclos): attempt to apply non-function\nTraceback:\n"
     ]
    }
   ],
   "source": [
    "(z > 2)  (z < 5)"
   ]
  },
  {
   "cell_type": "code",
   "execution_count": null,
   "metadata": {},
   "outputs": [],
   "source": [
    "(z > 2)[1] || (z < 5)[1]"
   ]
  },
  {
   "cell_type": "code",
   "execution_count": null,
   "metadata": {},
   "outputs": [],
   "source": [
    "z<2"
   ]
  },
  {
   "cell_type": "code",
   "execution_count": null,
   "metadata": {},
   "outputs": [],
   "source": [
    "z<3"
   ]
  },
  {
   "cell_type": "code",
   "execution_count": null,
   "metadata": {},
   "outputs": [],
   "source": [
    "z<2 || z<3"
   ]
  },
  {
   "cell_type": "code",
   "execution_count": null,
   "metadata": {},
   "outputs": [],
   "source": [
    "(z<2)[1] & (z<3)[1]"
   ]
  },
  {
   "cell_type": "code",
   "execution_count": null,
   "metadata": {
    "scrolled": true
   },
   "outputs": [],
   "source": [
    "(z > 2) && (z < 5)\n",
    "z[(z > 2) && (z < 5)]"
   ]
  },
  {
   "cell_type": "code",
   "execution_count": null,
   "metadata": {
    "scrolled": true
   },
   "outputs": [],
   "source": [
    "(z > 2) && (z < 5)\n",
    "z[(z > 0) && (z < 5)]  # R recylces the TRUE variable"
   ]
  },
  {
   "cell_type": "code",
   "execution_count": null,
   "metadata": {},
   "outputs": [],
   "source": [
    "z\n",
    "z[TRUE]\n",
    "# z[FALSE] ##output nothing"
   ]
  },
  {
   "cell_type": "code",
   "execution_count": null,
   "metadata": {},
   "outputs": [],
   "source": [
    "# more examples of && and ||\n",
    "a=c(0,1,1)\n",
    "b=c(0,0,1)\n",
    "a & b\n",
    "\n",
    "a | b\n",
    "a && b # The longer form evaluates left to right examining only the first element of each vector\n",
    "a || b\n",
    "a=c(0,1,1)\n",
    "b=c(1,0,1)\n",
    "a & b\n",
    "a | b\n",
    "a && b\n",
    "a || b\n",
    "a=c(1,1,1)\n",
    "b=c(1,0,1)\n",
    "a & b\n",
    "a | b\n",
    "a && b\n",
    "a || b"
   ]
  },
  {
   "cell_type": "code",
   "execution_count": null,
   "metadata": {},
   "outputs": [],
   "source": [
    "x # a scalar is like a vector with lengh =1\n",
    "x>3\n",
    "x[x>3]"
   ]
  },
  {
   "cell_type": "code",
   "execution_count": null,
   "metadata": {
    "scrolled": true
   },
   "outputs": [],
   "source": [
    "x[c(FALSE, FALSE, FALSE, TRUE, TRUE, TRUE)]\n",
    "x<2 | x>3\n",
    "x[x<2 | x>3]\n",
    "x[c(TRUE, FALSE, FALSE, TRUE, TRUE, TRUE)]"
   ]
  },
  {
   "cell_type": "code",
   "execution_count": null,
   "metadata": {},
   "outputs": [],
   "source": [
    "x=c(1,2,3,NA,4)\n",
    "x\n",
    "is.na(x)\n",
    "mean(x)\n",
    "mean(x, na.rm=TRUE)\n",
    "all(!is.na(x))\n",
    "any(is.na(x))\n",
    "x[is.na(x)]=0\n",
    "x\n",
    "mean(x)\n",
    "(1/0)*8 # NA is different from inf"
   ]
  },
  {
   "cell_type": "code",
   "execution_count": null,
   "metadata": {},
   "outputs": [],
   "source": [
    "library() #list all installed packages\n",
    "library(MASS)\n",
    "head(survey)\n",
    "tail(survey)\n",
    "# data(survey, package=\"MASS\")"
   ]
  },
  {
   "cell_type": "code",
   "execution_count": null,
   "metadata": {},
   "outputs": [],
   "source": [
    "islands"
   ]
  },
  {
   "cell_type": "code",
   "execution_count": null,
   "metadata": {},
   "outputs": [],
   "source": [
    "# islands\n",
    "class(islands)\n",
    "head(islands)\n",
    "islands[1]\n",
    "islands['Africa']"
   ]
  },
  {
   "cell_type": "code",
   "execution_count": null,
   "metadata": {},
   "outputs": [],
   "source": [
    "library(help=MASS)\n",
    "library(MASS)\n",
    "find.package() # list all loaded packages\n",
    "detach(\"package:MASS\", unload=TRUE)\n",
    "find.package()"
   ]
  },
  {
   "cell_type": "code",
   "execution_count": null,
   "metadata": {},
   "outputs": [],
   "source": [
    "whales=scan() #doesn't work in jupyter"
   ]
  },
  {
   "cell_type": "code",
   "execution_count": null,
   "metadata": {},
   "outputs": [],
   "source": [
    "data()"
   ]
  },
  {
   "cell_type": "code",
   "execution_count": null,
   "metadata": {
    "scrolled": true
   },
   "outputs": [],
   "source": [
    "head(rock)"
   ]
  },
  {
   "cell_type": "code",
   "execution_count": null,
   "metadata": {
    "scrolled": true
   },
   "outputs": [],
   "source": [
    "numbers=scan(file=\"numbers.txt\");numbers"
   ]
  },
  {
   "cell_type": "code",
   "execution_count": null,
   "metadata": {},
   "outputs": [],
   "source": [
    "mytable=read.table(file=\"table.txt\", header=TRUE);mytable\n",
    "# read.table(file=file.choose()) \n",
    "class(mytable)"
   ]
  },
  {
   "cell_type": "code",
   "execution_count": null,
   "metadata": {
    "scrolled": true
   },
   "outputs": [],
   "source": [
    "LETTERS\n",
    "data.frame(index=1:26, symbol=LETTERS)"
   ]
  },
  {
   "cell_type": "code",
   "execution_count": null,
   "metadata": {},
   "outputs": [],
   "source": [
    "?data.frame"
   ]
  },
  {
   "cell_type": "code",
   "execution_count": null,
   "metadata": {
    "scrolled": true
   },
   "outputs": [],
   "source": [
    "mydata=data.frame(col1=1:3, col2=4:6, col3=c('x', 'y', 'z'));mydata"
   ]
  },
  {
   "cell_type": "code",
   "execution_count": null,
   "metadata": {
    "scrolled": true
   },
   "outputs": [],
   "source": [
    "# col1=9\n",
    "# rm(col1)\n",
    "# ls()\n",
    "names(mydata)\n",
    "attach(mydata)\n",
    "col1\n",
    "col2\n",
    "# detach(mydata)\n",
    "# # col1\n",
    "# # col1\n",
    "# # col2\n",
    "mydata$col1\n",
    "with(mydata, col1)\n",
    "with(mydata, mean(col1))"
   ]
  },
  {
   "cell_type": "code",
   "execution_count": null,
   "metadata": {},
   "outputs": [],
   "source": [
    "library(ISwR)\n",
    "data(thuesen)\n",
    "head(thuesen)\n",
    "names(thuesen)\n",
    "attach(thuesen) #add namespace\n",
    "blood.glucose\n",
    "detach(thuesen) #remove namespace\n",
    "thuesen$blood.glucose"
   ]
  },
  {
   "cell_type": "code",
   "execution_count": null,
   "metadata": {
    "scrolled": true
   },
   "outputs": [],
   "source": [
    "with(thuesen, blood.glucose) # with context\n",
    "with(thuesen, mean(blood.glucose))\n",
    "with(thuesen, range(blood.glucose))"
   ]
  },
  {
   "cell_type": "code",
   "execution_count": null,
   "metadata": {
    "scrolled": true
   },
   "outputs": [],
   "source": [
    "head(energy)\n",
    "class(energy)\n",
    "energy[energy$stature== \"lean\",]"
   ]
  },
  {
   "cell_type": "code",
   "execution_count": null,
   "metadata": {},
   "outputs": [],
   "source": [
    "energy$stature== \"lean\""
   ]
  },
  {
   "cell_type": "code",
   "execution_count": null,
   "metadata": {
    "scrolled": true
   },
   "outputs": [],
   "source": [
    "energy$expend\n",
    "\n",
    "sort(energy$expend, decreasing = TRUE)\n",
    "order(energy$expend, decreasing = TRUE)"
   ]
  },
  {
   "cell_type": "code",
   "execution_count": null,
   "metadata": {
    "scrolled": true
   },
   "outputs": [],
   "source": [
    "energy$stature\n",
    "order(energy$stature)\n",
    "order(energy$stature, energy$expend)"
   ]
  },
  {
   "cell_type": "code",
   "execution_count": null,
   "metadata": {},
   "outputs": [],
   "source": [
    "energy$stature"
   ]
  },
  {
   "cell_type": "code",
   "execution_count": null,
   "metadata": {
    "scrolled": true
   },
   "outputs": [],
   "source": [
    "energy[order(energy$expend),]\n",
    "energy[order(energy$stature, energy$expend),]\n",
    "energy[with(energy, order(stature, expend)),] # with context"
   ]
  },
  {
   "cell_type": "code",
   "execution_count": null,
   "metadata": {},
   "outputs": [],
   "source": [
    "subset(energy, stature==\"lean\" & expend>8)\n",
    "energy[energy$stature== \"lean\" & energy$expend>8, ]"
   ]
  },
  {
   "cell_type": "code",
   "execution_count": null,
   "metadata": {},
   "outputs": [],
   "source": [
    "x=split(energy$expend, energy$stature) # split the data in energy$expend into the groups defined by energy$stature\n",
    "class(x)\n",
    "x"
   ]
  },
  {
   "cell_type": "code",
   "execution_count": null,
   "metadata": {},
   "outputs": [],
   "source": [
    "split(1:10, c(\"A\", \"B\"))\n",
    "#1 2 3 4 5 6 7 8 9 10\n",
    "#A B A B A B A B A B \n",
    "\n",
    "# list\n",
    "# A: 1,3,5,7,9\n",
    "# B: 2,4,6,8,10"
   ]
  },
  {
   "cell_type": "code",
   "execution_count": null,
   "metadata": {},
   "outputs": [],
   "source": [
    "x$lean\n",
    "x[[1]]"
   ]
  },
  {
   "cell_type": "code",
   "execution_count": null,
   "metadata": {},
   "outputs": [],
   "source": [
    "energy[[1]]"
   ]
  },
  {
   "cell_type": "code",
   "execution_count": null,
   "metadata": {
    "scrolled": true
   },
   "outputs": [],
   "source": [
    "x=list(a=1:4, b=5:9, c=c('hello', 'world'), mymatrix=matrix(1:6, 2,3))\n",
    "x\n",
    "# x$m[2,2]\n",
    "names(x)\n",
    "x[['mymatrix']][,2]\n",
    "# x$a\n",
    "# x[[1]]\n",
    "# x[[2]]\n",
    "# x[['c']]"
   ]
  },
  {
   "cell_type": "code",
   "execution_count": null,
   "metadata": {},
   "outputs": [],
   "source": [
    "ls()\n",
    "rm(a)\n",
    "ls()"
   ]
  },
  {
   "cell_type": "code",
   "execution_count": null,
   "metadata": {
    "scrolled": true
   },
   "outputs": [],
   "source": [
    "getwd()"
   ]
  },
  {
   "cell_type": "code",
   "execution_count": null,
   "metadata": {},
   "outputs": [],
   "source": [
    "file.show(\"table.txt\")"
   ]
  },
  {
   "cell_type": "code",
   "execution_count": null,
   "metadata": {},
   "outputs": [],
   "source": [
    "file.show(\"table.csv\")"
   ]
  },
  {
   "cell_type": "code",
   "execution_count": null,
   "metadata": {},
   "outputs": [],
   "source": [
    "read.table"
   ]
  },
  {
   "cell_type": "code",
   "execution_count": null,
   "metadata": {
    "scrolled": true
   },
   "outputs": [],
   "source": [
    "mytable=read.table(file=\"table.txt\", header=TRUE, sep=\" \");mytable\n",
    "class(mytable)\n",
    "sapply(mytable, class) #get data type for each column"
   ]
  },
  {
   "cell_type": "code",
   "execution_count": null,
   "metadata": {},
   "outputs": [],
   "source": [
    "mytable\n",
    "write.table(mytable, file=\"mytable.txt\")"
   ]
  },
  {
   "cell_type": "code",
   "execution_count": null,
   "metadata": {},
   "outputs": [],
   "source": [
    "?write.table"
   ]
  },
  {
   "cell_type": "code",
   "execution_count": null,
   "metadata": {},
   "outputs": [],
   "source": [
    "file.show(\"mytable.txt\")"
   ]
  },
  {
   "cell_type": "code",
   "execution_count": null,
   "metadata": {},
   "outputs": [],
   "source": [
    "# write.csv(mytable, file=\"mytable.csv\")\n",
    "write.csv(mytable, file=\"mytable.csv\", row.names=FALSE) #do not include row numbers"
   ]
  },
  {
   "cell_type": "code",
   "execution_count": null,
   "metadata": {},
   "outputs": [],
   "source": [
    "file.show(\"mytable.csv\")"
   ]
  },
  {
   "cell_type": "code",
   "execution_count": null,
   "metadata": {},
   "outputs": [],
   "source": [
    "mytable=read.csv(file=\"mytable.csv\", header=TRUE);mytable\n",
    "names(mytable)"
   ]
  },
  {
   "cell_type": "code",
   "execution_count": null,
   "metadata": {
    "scrolled": true
   },
   "outputs": [],
   "source": [
    "mytable=read.csv(file=\"table.csv\", header=TRUE);mytable\n",
    "names(mytable)"
   ]
  },
  {
   "cell_type": "code",
   "execution_count": null,
   "metadata": {},
   "outputs": [],
   "source": [
    "mytable=read.csv(file=\"table.txt\", header=TRUE);mytable\n",
    "names(mytable)"
   ]
  },
  {
   "cell_type": "code",
   "execution_count": null,
   "metadata": {},
   "outputs": [],
   "source": [
    "lines=readLines(\"table.csv\")\n",
    "lines\n",
    "lines=readLines(\"table.txt\")\n",
    "lines\n",
    "lines[1]\n",
    "lines[2]\n",
    "lines[3]"
   ]
  },
  {
   "cell_type": "code",
   "execution_count": null,
   "metadata": {},
   "outputs": [],
   "source": [
    "?writeLines"
   ]
  },
  {
   "cell_type": "code",
   "execution_count": null,
   "metadata": {},
   "outputs": [],
   "source": [
    "fileConn<-file(\"output.txt\")\n",
    "writeLines(c(\"Hello\",\"World\"), fileConn)\n",
    "close(fileConn)"
   ]
  },
  {
   "cell_type": "code",
   "execution_count": null,
   "metadata": {
    "scrolled": true
   },
   "outputs": [],
   "source": [
    "x=data.frame(a=1, b=2); x\n",
    "dput(x)"
   ]
  },
  {
   "cell_type": "code",
   "execution_count": null,
   "metadata": {},
   "outputs": [],
   "source": [
    "str(x)"
   ]
  },
  {
   "cell_type": "code",
   "execution_count": null,
   "metadata": {
    "scrolled": true
   },
   "outputs": [],
   "source": [
    "summary(x)"
   ]
  },
  {
   "cell_type": "code",
   "execution_count": null,
   "metadata": {},
   "outputs": [],
   "source": [
    "dput(x, file=\"x.R\")"
   ]
  },
  {
   "cell_type": "code",
   "execution_count": null,
   "metadata": {},
   "outputs": [],
   "source": [
    "file.show(\"x.R\")"
   ]
  },
  {
   "cell_type": "code",
   "execution_count": null,
   "metadata": {
    "scrolled": true
   },
   "outputs": [],
   "source": [
    "dget(\"x.R\")\n",
    "structure(list(a = 1, b = 2), class = \"data.frame\", row.names = c(NA, \n",
    "-1L))\n",
    "data.frame(a=1, b=2)"
   ]
  },
  {
   "cell_type": "code",
   "execution_count": null,
   "metadata": {},
   "outputs": [],
   "source": [
    "y=dget(\"x.R\") # you can think dget inserts the content here.\n",
    "y"
   ]
  },
  {
   "cell_type": "code",
   "execution_count": null,
   "metadata": {},
   "outputs": [],
   "source": [
    "y=structure(list(a = 1, b = 2), class = \"data.frame\", row.names = c(NA, \n",
    "-1L))\n",
    "y"
   ]
  },
  {
   "cell_type": "code",
   "execution_count": null,
   "metadata": {
    "scrolled": true
   },
   "outputs": [],
   "source": [
    "print(\"====================\")\n",
    "x=8\n",
    "y=9\n",
    "# dump(c('x', 'y'))  # by default it dumps to file \"dumpdata.R\"\n",
    "dump(c('x', 'y'), file='xy.R')"
   ]
  },
  {
   "cell_type": "code",
   "execution_count": null,
   "metadata": {},
   "outputs": [],
   "source": [
    "file.show(\"xy.R\")"
   ]
  },
  {
   "cell_type": "code",
   "execution_count": null,
   "metadata": {},
   "outputs": [],
   "source": [
    "ls()\n",
    "rm(x, y)\n",
    "ls()"
   ]
  },
  {
   "cell_type": "code",
   "execution_count": null,
   "metadata": {},
   "outputs": [],
   "source": [
    "source(\"xy.R\") # source both inserts and executes the content here\n",
    "x"
   ]
  },
  {
   "cell_type": "code",
   "execution_count": null,
   "metadata": {},
   "outputs": [],
   "source": [
    "x <- serialize(list(1,2,3), NULL)\n",
    "print(x)\n",
    "y=unserialize(x)\n",
    "y"
   ]
  },
  {
   "cell_type": "code",
   "execution_count": null,
   "metadata": {
    "scrolled": true
   },
   "outputs": [],
   "source": [
    "a=data.frame(x = rnorm(100), y = runif(100)); head(a)\n",
    "b=c(3, 4.4, 1 / 3); b"
   ]
  },
  {
   "cell_type": "code",
   "execution_count": null,
   "metadata": {},
   "outputs": [],
   "source": [
    "save(a, b, file = \"mydata.rda\")"
   ]
  },
  {
   "cell_type": "code",
   "execution_count": null,
   "metadata": {
    "scrolled": true
   },
   "outputs": [],
   "source": [
    "rm(a, b)\n",
    "ls()"
   ]
  },
  {
   "cell_type": "code",
   "execution_count": null,
   "metadata": {},
   "outputs": [],
   "source": [
    "load(\"mydata.rda\")"
   ]
  },
  {
   "cell_type": "code",
   "execution_count": null,
   "metadata": {
    "scrolled": true
   },
   "outputs": [],
   "source": [
    "ls()\n",
    "head(a)\n",
    "b"
   ]
  },
  {
   "cell_type": "code",
   "execution_count": null,
   "metadata": {},
   "outputs": [],
   "source": [
    "save.image(file=\"alldata.RData\") #then this file can be opened in another R session or even on different computer."
   ]
  },
  {
   "cell_type": "code",
   "execution_count": null,
   "metadata": {},
   "outputs": [],
   "source": [
    "mult <- function(x, y) {\n",
    "    x*y\n",
    "}"
   ]
  },
  {
   "cell_type": "code",
   "execution_count": null,
   "metadata": {},
   "outputs": [],
   "source": [
    "mult(9, 9)"
   ]
  },
  {
   "cell_type": "code",
   "execution_count": null,
   "metadata": {},
   "outputs": [],
   "source": [
    "dput(mult, file=\"mymult.R\")"
   ]
  },
  {
   "cell_type": "code",
   "execution_count": null,
   "metadata": {},
   "outputs": [],
   "source": [
    "file.show(\"mymult.R\")"
   ]
  },
  {
   "cell_type": "code",
   "execution_count": null,
   "metadata": {},
   "outputs": [],
   "source": [
    "dump(c('mult'), file=\"myfun.R\")"
   ]
  },
  {
   "cell_type": "code",
   "execution_count": null,
   "metadata": {},
   "outputs": [],
   "source": [
    "file.show(\"myfun.R\")"
   ]
  },
  {
   "cell_type": "code",
   "execution_count": null,
   "metadata": {},
   "outputs": [],
   "source": [
    "# calling the functions\n",
    "# this is the file where we will call the functions in myfun.R and mymult.R\n",
    "times <- dget(\"mymult.R\")\n",
    "times(-4:4, 2)\n",
    "\n",
    "source(\"myfun.R\")\n",
    "mult(-4:4, 2)"
   ]
  },
  {
   "cell_type": "code",
   "execution_count": null,
   "metadata": {
    "scrolled": true
   },
   "outputs": [],
   "source": [
    "x=5\n",
    "\n",
    "if (x>9) \n",
    "{\n",
    "    print(2)\n",
    "} else\n",
    "{\n",
    "    print(4)\n",
    "}"
   ]
  },
  {
   "cell_type": "code",
   "execution_count": null,
   "metadata": {},
   "outputs": [],
   "source": [
    "x=8\n",
    "\n",
    "if(x<5){\n",
    "    print(1)\n",
    "} else if (x<10)  #the conditions are better to be exclusive from each other\n",
    "# } else if (5<=x & x<10) \n",
    "        {\n",
    "        print(2)\n",
    "        }else{ # x>=10\n",
    "           print(3)\n",
    "        }"
   ]
  },
  {
   "cell_type": "code",
   "execution_count": null,
   "metadata": {
    "scrolled": true
   },
   "outputs": [],
   "source": [
    "x=runif(1, 0, 10);x\n",
    "if (x>3) print(10) else print(0)\n"
   ]
  },
  {
   "cell_type": "code",
   "execution_count": null,
   "metadata": {},
   "outputs": [],
   "source": [
    "?runif"
   ]
  },
  {
   "cell_type": "code",
   "execution_count": null,
   "metadata": {
    "scrolled": true
   },
   "outputs": [],
   "source": [
    "x=runif(1, 0, 10)\n",
    "if (x>3) 10 else 0"
   ]
  },
  {
   "cell_type": "code",
   "execution_count": null,
   "metadata": {},
   "outputs": [],
   "source": [
    "x=runif(1, 0, 10)\n",
    "y=if (x>3) 10 else 0\n",
    "print(y)\n",
    "# x=runif(1, 0, 10)\n",
    "print(ifelse(x>3, 10, 0))"
   ]
  },
  {
   "cell_type": "code",
   "execution_count": null,
   "metadata": {},
   "outputs": [],
   "source": [
    "ifelse #it creates both vectors, the yes and the no, and then subsets."
   ]
  },
  {
   "cell_type": "code",
   "execution_count": null,
   "metadata": {
    "scrolled": true
   },
   "outputs": [],
   "source": [
    "rep(c(1,2,3), length.out =5)\n",
    "# ?rep"
   ]
  },
  {
   "cell_type": "code",
   "execution_count": null,
   "metadata": {},
   "outputs": [],
   "source": [
    "x=6:-4\n",
    "sqrt(x)"
   ]
  },
  {
   "cell_type": "code",
   "execution_count": null,
   "metadata": {},
   "outputs": [],
   "source": [
    "y=ifelse(x>=0, x, 0);y\n",
    "sqrt(y)"
   ]
  },
  {
   "cell_type": "code",
   "execution_count": null,
   "metadata": {},
   "outputs": [],
   "source": [
    "ifelse(x>=0, sqrt(x), 0)"
   ]
  },
  {
   "cell_type": "code",
   "execution_count": null,
   "metadata": {},
   "outputs": [],
   "source": [
    "ifelse(x>=0, {print(x);sqrt(x)}, {print(\"negative\");0}) #recycling happens within ifelse function as seen above"
   ]
  },
  {
   "cell_type": "code",
   "execution_count": null,
   "metadata": {
    "scrolled": true
   },
   "outputs": [],
   "source": [
    "x=c(1,2,3)\n",
    "typeof(x)  #R internal type or storage mode\n",
    "class(x)   #object's class attribute, if not, it use the result of typeof\n",
    "# ?typeof\n",
    "# ?class\n",
    "y=data.frame(x=1:2, y=3:4)\n",
    "typeof(y)\n",
    "class(y)"
   ]
  },
  {
   "cell_type": "code",
   "execution_count": null,
   "metadata": {},
   "outputs": [],
   "source": [
    "yes <- 1:3\n",
    "no <- pi^(0:3)\n",
    "typeof(ifelse(NA,    yes, no)) # logical\n",
    "typeof(ifelse(TRUE,  yes, no)) # integer\n",
    "typeof(ifelse(FALSE, yes, no)) # double"
   ]
  },
  {
   "cell_type": "code",
   "execution_count": null,
   "metadata": {},
   "outputs": [],
   "source": [
    "for(i in 1:10) print(i)"
   ]
  },
  {
   "cell_type": "code",
   "execution_count": null,
   "metadata": {},
   "outputs": [],
   "source": [
    "x=c('a', 'b', 'c')\n",
    "for (i in x) print(i)\n",
    "for (i in 1:length(x)) print(x[i])"
   ]
  },
  {
   "cell_type": "code",
   "execution_count": null,
   "metadata": {
    "scrolled": true
   },
   "outputs": [],
   "source": [
    "x=c('a', 'b', 'c')\n",
    "# x=c()\n",
    "1:length(x)\n",
    "for (i in 1:length(x)) print(i)\n",
    "\"==================\"\n",
    "seq_along(x) #generate the index vector safely\n",
    "for (i in seq_along(x)) print(i)"
   ]
  },
  {
   "cell_type": "code",
   "execution_count": null,
   "metadata": {},
   "outputs": [],
   "source": [
    "?seq_along"
   ]
  },
  {
   "cell_type": "code",
   "execution_count": 6,
   "metadata": {},
   "outputs": [
    {
     "name": "stdout",
     "output_type": "stream",
     "text": [
      "[1] 1\n",
      "[1] 2\n",
      "[1] 3\n",
      "[1] 4\n",
      "[1] 5\n",
      "[1] 6\n",
      "[1] 12\n"
     ]
    },
    {
     "data": {
      "text/html": [
       "'===================='"
      ],
      "text/latex": [
       "'===================='"
      ],
      "text/markdown": [
       "'===================='"
      ],
      "text/plain": [
       "[1] \"====================\""
      ]
     },
     "metadata": {},
     "output_type": "display_data"
    },
    {
     "name": "stdout",
     "output_type": "stream",
     "text": [
      "[1] 1\n",
      "[1] 2\n",
      "[1] 2\n",
      "[1] 4\n",
      "[1] 3\n",
      "[1] 6\n",
      "[1] 4\n",
      "[1] 8\n",
      "[1] 5\n",
      "[1] 10\n",
      "[1] 6\n",
      "[1] 12\n"
     ]
    }
   ],
   "source": [
    "for (i in seq_along(x)) print(i);print(i*2)\n",
    "\"====================\"\n",
    "for (i in seq_along(x)) {print(i);print(i*2)}"
   ]
  },
  {
   "cell_type": "code",
   "execution_count": null,
   "metadata": {},
   "outputs": [],
   "source": [
    "x=matrix(1:6, 2, 3)\n",
    "print(x)\n",
    "\n",
    "nrow(x)\n",
    "ncol(x)\n",
    "seq_len(nrow(x))\n",
    "seq_len(ncol(x))\n",
    "seq_len(10)\n",
    "seq_len(0)\n",
    "seq_along(10)\n",
    "seq_along(1:10)\n",
    "\n",
    "for(i in seq_len(nrow(x))) {\n",
    "    for (j in seq_len(ncol(x))) {\n",
    "        print(paste(\"i=\", i, \"j=\", j, \"x=\", x[i, j], sep=\" \"))\n",
    "#         print(x[i,j])\n",
    "        }\n",
    "}"
   ]
  },
  {
   "cell_type": "code",
   "execution_count": null,
   "metadata": {
    "scrolled": true
   },
   "outputs": [],
   "source": [
    "x <- 1\n",
    "repeat {\n",
    "    print(x)\n",
    "    x = x+1\n",
    "    if (x == 6) break\n",
    "}"
   ]
  },
  {
   "cell_type": "code",
   "execution_count": null,
   "metadata": {},
   "outputs": [],
   "source": [
    "x=data.frame(1:3, 10001:10003, c(\"a\", \"b\", \"c\",\"a\", \"b\", \"c\",\"a\", \"b\", \"c\",\"a\", \"b\", \"c\",\"a\", \"b\", \"c\"))\n",
    "x$c..a....b....c....a....b....c....a....b....c....a....b..\n",
    "# y=list(a=1:3, b=4:6, c=4:6)\n",
    "# # x$a\n",
    "# # y$a\n",
    "# x[2]\n",
    "# x$2"
   ]
  },
  {
   "cell_type": "code",
   "execution_count": null,
   "metadata": {
    "scrolled": true
   },
   "outputs": [],
   "source": [
    "mydf=data.frame(a=1:3, \"b a \"=4:6)\n",
    "mydf"
   ]
  },
  {
   "cell_type": "code",
   "execution_count": null,
   "metadata": {},
   "outputs": [],
   "source": [
    "mydf$b."
   ]
  },
  {
   "cell_type": "code",
   "execution_count": null,
   "metadata": {
    "scrolled": true
   },
   "outputs": [],
   "source": [
    "typeof(1:4)"
   ]
  },
  {
   "cell_type": "code",
   "execution_count": null,
   "metadata": {
    "scrolled": true
   },
   "outputs": [],
   "source": [
    "matrix(1:5, 2, 3)\n",
    "\n",
    "# 1 3 1\n",
    "# 2 4 2"
   ]
  },
  {
   "cell_type": "code",
   "execution_count": null,
   "metadata": {},
   "outputs": [],
   "source": [
    "matrix(1:5, nrow=3)\n",
    "# 1 3 5\n",
    "# 2 4 1"
   ]
  }
 ],
 "metadata": {
  "kernelspec": {
   "display_name": "R",
   "language": "R",
   "name": "ir"
  },
  "language_info": {
   "codemirror_mode": "r",
   "file_extension": ".r",
   "mimetype": "text/x-r-source",
   "name": "R",
   "pygments_lexer": "r",
   "version": "4.0.2"
  }
 },
 "nbformat": 4,
 "nbformat_minor": 4
}

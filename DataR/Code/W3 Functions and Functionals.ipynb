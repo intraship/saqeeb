{
 "cells": [
  {
   "cell_type": "code",
   "execution_count": 1,
   "metadata": {
    "scrolled": true
   },
   "outputs": [
    {
     "name": "stdout",
     "output_type": "stream",
     "text": [
      "[1] \"x= 5\"\n",
      "[1] \"y1= 20\"\n",
      "[1] \"y2= 20.0001000001\"\n",
      "[1] \"x= 2.99999199988692\"\n",
      "[1] \"y1= 3.99995199938554\"\n",
      "[1] \"y2= 4.00001199932554\"\n",
      "[1] \"x= 2.33332266663804\"\n",
      "[1] \"y1= 0.444394666646853\"\n",
      "[1] \"y2= 0.444441333200186\"\n",
      "[1] \"x= 2.23808500680248\"\n",
      "[1] \"y1= 0.00902449767403635\"\n",
      "[1] \"y2= 0.00906925947417214\"\n",
      "[1] \"x= 2.23605889090752\"\n",
      "[1] \"y1= -4.06363934093434e-05\"\n",
      "[1] \"y2= 4.08488440939436e-06\"\n",
      "[1] \"x= 2.23605797749793\"\n"
     ]
    }
   ],
   "source": [
    "a=5\n",
    "x=a\n",
    "print(paste(\"x=\", x))\n",
    "for (i in 1:5){\n",
    "    delta=0.00001\n",
    "    y1=x*x-a\n",
    "    y2=(x+delta)**2-a\n",
    "    print(paste(\"y1=\", y1))\n",
    "    print(paste(\"y2=\", y2))\n",
    "    x=x-(y2*delta)/(y2-y1)\n",
    "    print(paste(\"x=\",x))\n",
    "}"
   ]
  },
  {
   "cell_type": "code",
   "execution_count": 2,
   "metadata": {
    "scrolled": true
   },
   "outputs": [
    {
     "name": "stdout",
     "output_type": "stream",
     "text": [
      "[1] \"x= 5\"\n",
      "[1] \"y1= 20\"\n",
      "[1] \"y2= 20.0001000001\"\n",
      "[1] \"x= 2.99999199988692\"\n",
      "[1] \"y1= 3.99995199938554\"\n",
      "[1] \"y2= 4.00001199932554\"\n",
      "[1] \"x= 2.33332266663804\"\n",
      "[1] \"y1= 0.444394666646853\"\n",
      "[1] \"y2= 0.444441333200186\"\n",
      "[1] \"x= 2.23808500680248\"\n",
      "[1] \"y1= 0.00902449767403635\"\n",
      "[1] \"y2= 0.00906925947417214\"\n",
      "[1] \"x= 2.23605889090752\"\n"
     ]
    }
   ],
   "source": [
    "a=5\n",
    "x=a\n",
    "print(paste(\"x=\", x))\n",
    "while(abs(x**2-a)>0.001){\n",
    "    delta=0.00001\n",
    "    y1=x*x-a\n",
    "    y2=(x+delta)**2-a\n",
    "    print(paste(\"y1=\", y1))\n",
    "    print(paste(\"y2=\", y2))\n",
    "    x=x-(y2*delta)/(y2-y1)\n",
    "    print(paste(\"x=\",x))\n",
    "}"
   ]
  },
  {
   "cell_type": "code",
   "execution_count": 3,
   "metadata": {
    "scrolled": true
   },
   "outputs": [
    {
     "name": "stdout",
     "output_type": "stream",
     "text": [
      "[1] \"x= 5\"\n",
      "[1] \"y1= 20\"\n",
      "[1] \"y2= 20.0001000001\"\n",
      "[1] \"x= 2.99999199988692\"\n",
      "[1] \"y1= 3.99995199938554\"\n",
      "[1] \"y2= 4.00001199932554\"\n",
      "[1] \"x= 2.33332266663804\"\n",
      "[1] \"y1= 0.444394666646853\"\n",
      "[1] \"y2= 0.444441333200186\"\n",
      "[1] \"x= 2.23808500680248\"\n",
      "[1] \"y1= 0.00902449767403635\"\n",
      "[1] \"y2= 0.00906925947417214\"\n",
      "[1] \"x= 2.23605889090752\"\n"
     ]
    }
   ],
   "source": [
    "a=5\n",
    "x=a\n",
    "print(paste(\"x=\", x))\n",
    "repeat{\n",
    "    delta=0.00001\n",
    "    y1=x*x-a\n",
    "    y2=(x+delta)**2-a\n",
    "    print(paste(\"y1=\", y1))\n",
    "    print(paste(\"y2=\", y2))\n",
    "    x=x-(y2*delta)/(y2-y1)\n",
    "    print(paste(\"x=\",x))\n",
    "    if (abs(x**2-a)<0.001) break\n",
    "}"
   ]
  },
  {
   "cell_type": "code",
   "execution_count": 4,
   "metadata": {
    "scrolled": true
   },
   "outputs": [
    {
     "data": {
      "text/html": [
       "2.23606797749979"
      ],
      "text/latex": [
       "2.23606797749979"
      ],
      "text/markdown": [
       "2.23606797749979"
      ],
      "text/plain": [
       "[1] 2.236068"
      ]
     },
     "metadata": {},
     "output_type": "display_data"
    },
    {
     "data": {
      "text/html": [
       "2.44948974278318"
      ],
      "text/latex": [
       "2.44948974278318"
      ],
      "text/markdown": [
       "2.44948974278318"
      ],
      "text/plain": [
       "[1] 2.44949"
      ]
     },
     "metadata": {},
     "output_type": "display_data"
    }
   ],
   "source": [
    "sqrt(5)\n",
    "sqrt(6)"
   ]
  },
  {
   "cell_type": "code",
   "execution_count": 5,
   "metadata": {
    "scrolled": true
   },
   "outputs": [
    {
     "name": "stdout",
     "output_type": "stream",
     "text": [
      "[1] \"x= 5\"\n",
      "[1] \"y1= 20\"\n",
      "[1] \"y2= 20.0001000001\"\n",
      "[1] \"x= 2.99999199988692\"\n",
      "[1] \"y1= 3.99995199938554\"\n",
      "[1] \"y2= 4.00001199932554\"\n",
      "[1] \"x= 2.33332266663804\"\n",
      "[1] \"y1= 0.444394666646853\"\n",
      "[1] \"y2= 0.444441333200186\"\n",
      "[1] \"x= 2.23808500680248\"\n",
      "[1] \"y1= 0.00902449767403635\"\n",
      "[1] \"y2= 0.00906925947417214\"\n",
      "[1] \"x= 2.23605889090752\"\n",
      "[1] \"x= 5\"\n",
      "[1] \"y1= 20\"\n",
      "[1] \"y2= 20.0001000001\"\n",
      "[1] \"x= 2.99999199988692\"\n",
      "[1] \"y1= 3.99995199938554\"\n",
      "[1] \"y2= 4.00001199932554\"\n",
      "[1] \"x= 2.33332266663804\"\n",
      "[1] \"y1= 0.444394666646853\"\n",
      "[1] \"y2= 0.444441333200186\"\n",
      "[1] \"x= 2.23808500680248\"\n",
      "[1] \"y1= 0.00902449767403635\"\n",
      "[1] \"y2= 0.00906925947417214\"\n",
      "[1] \"x= 2.23605889090752\"\n"
     ]
    },
    {
     "data": {
      "text/html": [
       "'function'"
      ],
      "text/latex": [
       "'function'"
      ],
      "text/markdown": [
       "'function'"
      ],
      "text/plain": [
       "[1] \"function\""
      ]
     },
     "metadata": {},
     "output_type": "display_data"
    }
   ],
   "source": [
    "root=function(){\n",
    "    a=5\n",
    "    x=a\n",
    "    print(paste(\"x=\", x))\n",
    "    repeat{\n",
    "        delta=0.00001\n",
    "        y1=x*x-a\n",
    "        y2=(x+delta)**2-a\n",
    "        print(paste(\"y1=\", y1))\n",
    "        print(paste(\"y2=\", y2))\n",
    "        x=x-(y2*delta)/(y2-y1)\n",
    "        print(paste(\"x=\",x))\n",
    "        if (abs(x**2-a)<0.001) break\n",
    "}\n",
    "}\n",
    "\n",
    "root()\n",
    "root()\n",
    "class(root)"
   ]
  },
  {
   "cell_type": "code",
   "execution_count": 6,
   "metadata": {},
   "outputs": [
    {
     "name": "stdout",
     "output_type": "stream",
     "text": [
      "[1] \"x= 5\"\n",
      "[1] \"y1= 20\"\n",
      "[1] \"y2= 20.0001000001\"\n",
      "[1] \"x= 2.99999199988692\"\n",
      "[1] \"y1= 3.99995199938554\"\n",
      "[1] \"y2= 4.00001199932554\"\n",
      "[1] \"x= 2.33332266663804\"\n",
      "[1] \"y1= 0.444394666646853\"\n",
      "[1] \"y2= 0.444441333200186\"\n",
      "[1] \"x= 2.23808500680248\"\n",
      "[1] \"y1= 0.00902449767403635\"\n",
      "[1] \"y2= 0.00906925947417214\"\n",
      "[1] \"x= 2.23605889090752\"\n",
      "[1] \"Mission Complete!!!!!!!!!!!!!!!!!!!!!!!!!\"\n"
     ]
    },
    {
     "data": {
      "text/html": [
       "2.23605889090752"
      ],
      "text/latex": [
       "2.23605889090752"
      ],
      "text/markdown": [
       "2.23605889090752"
      ],
      "text/plain": [
       "[1] 2.236059"
      ]
     },
     "metadata": {},
     "output_type": "display_data"
    },
    {
     "name": "stdout",
     "output_type": "stream",
     "text": [
      "[1] \"x= 100\"\n",
      "[1] \"y1= 9900\"\n",
      "[1] \"y2= 9900.0020000001\"\n",
      "[1] \"x= 50.4999924861837\"\n",
      "[1] \"y1= 2450.24924110461\"\n",
      "[1] \"y2= 2450.25025110456\"\n",
      "[1] \"x= 26.2400878072077\"\n",
      "[1] \"y1= 588.542208129969\"\n",
      "[1] \"y2= 588.542732931825\"\n",
      "[1] \"x= 15.025517469374\"\n",
      "[1] \"y1= 125.766175222463\"\n",
      "[1] \"y2= 125.766475732912\"\n",
      "[1] \"x= 10.8404225417552\"\n",
      "[1] \"y1= 17.5147608837936\"\n",
      "[1] \"y2= 17.5149776923445\"\n",
      "[1] \"x= 10.0325679794554\"\n",
      "[1] \"y1= 0.652420262393576\"\n",
      "[1] \"y2= 0.652620913853156\"\n",
      "[1] \"x= 10.0000428777082\"\n",
      "[1] \"Mission Complete!!!!!!!!!!!!!!!!!!!!!!!!!\"\n",
      "[1] 10.00004\n"
     ]
    },
    {
     "data": {
      "text/html": [
       "'function'"
      ],
      "text/latex": [
       "'function'"
      ],
      "text/markdown": [
       "'function'"
      ],
      "text/plain": [
       "[1] \"function\""
      ]
     },
     "metadata": {},
     "output_type": "display_data"
    }
   ],
   "source": [
    "root=function(a){\n",
    "#     a=5\n",
    "    x=a\n",
    "    print(paste(\"x=\", x))\n",
    "    repeat{\n",
    "        delta=0.00001\n",
    "        y1=x*x-a\n",
    "        y2=(x+delta)**2-a\n",
    "        print(paste(\"y1=\", y1))\n",
    "        print(paste(\"y2=\", y2))\n",
    "        x=x-(y2*delta)/(y2-y1)\n",
    "        print(paste(\"x=\",x))\n",
    "        if (abs(x**2-a)<0.001) {\n",
    "            print(\"Mission Complete!!!!!!!!!!!!!!!!!!!!!!!!!\")\n",
    "            break\n",
    "            }\n",
    "    }\n",
    "    x #return value of the last expression\n",
    "}\n",
    "\n",
    "root(5)\n",
    "y=root(100)\n",
    "print(y)\n",
    "class(root)"
   ]
  },
  {
   "cell_type": "code",
   "execution_count": 7,
   "metadata": {},
   "outputs": [
    {
     "name": "stdout",
     "output_type": "stream",
     "text": [
      "[1] 2\n",
      "[1] 9\n",
      "[1] 10\n",
      "[1] 9\n"
     ]
    }
   ],
   "source": [
    "f=function(x=1){\n",
    "#     x <<- x+1 #superassignment\n",
    "    x <- x+1\n",
    "    y=8\n",
    "    x\n",
    "}\n",
    "\n",
    "x=9\n",
    "\n",
    "print(f())\n",
    "print(x)\n",
    "print(f(x))\n",
    "print(x)"
   ]
  },
  {
   "cell_type": "code",
   "execution_count": 8,
   "metadata": {},
   "outputs": [
    {
     "name": "stdout",
     "output_type": "stream",
     "text": [
      "function (n, mean = 0, sd = 1)  \n"
     ]
    },
    {
     "data": {
      "text/html": [
       "-2.75199308482514"
      ],
      "text/latex": [
       "-2.75199308482514"
      ],
      "text/markdown": [
       "-2.75199308482514"
      ],
      "text/plain": [
       "[1] -2.751993"
      ]
     },
     "metadata": {},
     "output_type": "display_data"
    },
    {
     "data": {
      "text/html": [
       "-1.66607261991617"
      ],
      "text/latex": [
       "-1.66607261991617"
      ],
      "text/markdown": [
       "-1.66607261991617"
      ],
      "text/plain": [
       "[1] -1.666073"
      ]
     },
     "metadata": {},
     "output_type": "display_data"
    },
    {
     "data": {
      "text/html": [
       "1.36547013672649"
      ],
      "text/latex": [
       "1.36547013672649"
      ],
      "text/markdown": [
       "1.36547013672649"
      ],
      "text/plain": [
       "[1] 1.36547"
      ]
     },
     "metadata": {},
     "output_type": "display_data"
    }
   ],
   "source": [
    "str(rnorm)\n",
    "# set.seed(0)\n",
    "rnorm(1, 1, 2)\n",
    "# set.seed(0)\n",
    "rnorm(1, sd=2, mean=1)\n",
    "# set.seed(0)\n",
    "rnorm(sd=2, me=1, 1)"
   ]
  },
  {
   "cell_type": "code",
   "execution_count": 9,
   "metadata": {
    "scrolled": true
   },
   "outputs": [
    {
     "name": "stdout",
     "output_type": "stream",
     "text": [
      "function (formula, data, subset, weights, na.action, method = \"qr\", model = TRUE, \n",
      "    x = FALSE, y = FALSE, qr = TRUE, singular.ok = TRUE, contrasts = NULL, \n",
      "    offset, ...)  \n",
      "function (x, na.rm = FALSE)  \n"
     ]
    },
    {
     "data": {
      "text/html": [
       "\n",
       "<table width=\"100%\" summary=\"page for lm {stats}\"><tr><td>lm {stats}</td><td style=\"text-align: right;\">R Documentation</td></tr></table>\n",
       "\n",
       "<h2>Fitting Linear Models</h2>\n",
       "\n",
       "<h3>Description</h3>\n",
       "\n",
       "<p><code>lm</code> is used to fit linear models.\n",
       "It can be used to carry out regression,\n",
       "single stratum analysis of variance and\n",
       "analysis of covariance (although <code>aov</code> may provide a more\n",
       "convenient interface for these).\n",
       "</p>\n",
       "\n",
       "\n",
       "<h3>Usage</h3>\n",
       "\n",
       "<pre>\n",
       "lm(formula, data, subset, weights, na.action,\n",
       "   method = \"qr\", model = TRUE, x = FALSE, y = FALSE, qr = TRUE,\n",
       "   singular.ok = TRUE, contrasts = NULL, offset, ...)\n",
       "</pre>\n",
       "\n",
       "\n",
       "<h3>Arguments</h3>\n",
       "\n",
       "<table summary=\"R argblock\">\n",
       "<tr valign=\"top\"><td><code>formula</code></td>\n",
       "<td>\n",
       "<p>an object of class <code>\"formula\"</code> (or one that\n",
       "can be coerced to that class): a symbolic description of the\n",
       "model to be fitted.  The details of model specification are given\n",
       "under &lsquo;Details&rsquo;.</p>\n",
       "</td></tr>\n",
       "<tr valign=\"top\"><td><code>data</code></td>\n",
       "<td>\n",
       "<p>an optional data frame, list or environment (or object\n",
       "coercible by <code>as.data.frame</code> to a data frame) containing\n",
       "the variables in the model.  If not found in <code>data</code>, the\n",
       "variables are taken from <code>environment(formula)</code>,\n",
       "typically the environment from which <code>lm</code> is called.</p>\n",
       "</td></tr>\n",
       "<tr valign=\"top\"><td><code>subset</code></td>\n",
       "<td>\n",
       "<p>an optional vector specifying a subset of observations\n",
       "to be used in the fitting process.</p>\n",
       "</td></tr>\n",
       "<tr valign=\"top\"><td><code>weights</code></td>\n",
       "<td>\n",
       "<p>an optional vector of weights to be used in the fitting\n",
       "process.  Should be <code>NULL</code> or a numeric vector.\n",
       "If non-NULL, weighted least squares is used with weights\n",
       "<code>weights</code> (that is, minimizing <code>sum(w*e^2)</code>); otherwise\n",
       "ordinary least squares is used.  See also &lsquo;Details&rsquo;,</p>\n",
       "</td></tr>\n",
       "<tr valign=\"top\"><td><code>na.action</code></td>\n",
       "<td>\n",
       "<p>a function which indicates what should happen\n",
       "when the data contain <code>NA</code>s.  The default is set by\n",
       "the <code>na.action</code> setting of <code>options</code>, and is\n",
       "<code>na.fail</code> if that is unset.  The &lsquo;factory-fresh&rsquo;\n",
       "default is <code>na.omit</code>.  Another possible value is\n",
       "<code>NULL</code>, no action.  Value <code>na.exclude</code> can be useful.</p>\n",
       "</td></tr>\n",
       "<tr valign=\"top\"><td><code>method</code></td>\n",
       "<td>\n",
       "<p>the method to be used; for fitting, currently only\n",
       "<code>method = \"qr\"</code> is supported; <code>method = \"model.frame\"</code> returns\n",
       "the model frame (the same as with <code>model = TRUE</code>, see below).</p>\n",
       "</td></tr>\n",
       "<tr valign=\"top\"><td><code>model, x, y, qr</code></td>\n",
       "<td>\n",
       "<p>logicals.  If <code>TRUE</code> the corresponding\n",
       "components of the fit (the model frame, the model matrix, the\n",
       "response, the QR decomposition) are returned.\n",
       "</p>\n",
       "</td></tr>\n",
       "<tr valign=\"top\"><td><code>singular.ok</code></td>\n",
       "<td>\n",
       "<p>logical. If <code>FALSE</code> (the default in S but\n",
       "not in <span style=\"font-family: Courier New, Courier; color: #666666;\"><b>R</b></span>) a singular fit is an error.</p>\n",
       "</td></tr>\n",
       "<tr valign=\"top\"><td><code>contrasts</code></td>\n",
       "<td>\n",
       "<p>an optional list. See the <code>contrasts.arg</code>\n",
       "of <code>model.matrix.default</code>.</p>\n",
       "</td></tr>\n",
       "<tr valign=\"top\"><td><code>offset</code></td>\n",
       "<td>\n",
       "<p>this can be used to specify an <em>a priori</em> known\n",
       "component to be included in the linear predictor during fitting.\n",
       "This should be <code>NULL</code> or a numeric vector or matrix of extents\n",
       "matching those of the response.  One or more <code>offset</code> terms can be\n",
       "included in the formula instead or as well, and if more than one are\n",
       "specified their sum is used.  See <code>model.offset</code>.</p>\n",
       "</td></tr>\n",
       "<tr valign=\"top\"><td><code>...</code></td>\n",
       "<td>\n",
       "<p>additional arguments to be passed to the low level\n",
       "regression fitting functions (see below).</p>\n",
       "</td></tr>\n",
       "</table>\n",
       "\n",
       "\n",
       "<h3>Details</h3>\n",
       "\n",
       "<p>Models for <code>lm</code> are specified symbolically.  A typical model has\n",
       "the form <code>response ~ terms</code> where <code>response</code> is the (numeric)\n",
       "response vector and <code>terms</code> is a series of terms which specifies a\n",
       "linear predictor for <code>response</code>.  A terms specification of the form\n",
       "<code>first + second</code> indicates all the terms in <code>first</code> together\n",
       "with all the terms in <code>second</code> with duplicates removed.  A\n",
       "specification of the form <code>first:second</code> indicates the set of\n",
       "terms obtained by taking the interactions of all terms in <code>first</code>\n",
       "with all terms in <code>second</code>.  The specification <code>first*second</code>\n",
       "indicates the <em>cross</em> of <code>first</code> and <code>second</code>.  This is\n",
       "the same as <code>first + second + first:second</code>.\n",
       "</p>\n",
       "<p>If the formula includes an <code>offset</code>, this is evaluated and\n",
       "subtracted from the response.\n",
       "</p>\n",
       "<p>If <code>response</code> is a matrix a linear model is fitted separately by\n",
       "least-squares to each column of the matrix.\n",
       "</p>\n",
       "<p>See <code>model.matrix</code> for some further details.  The terms in\n",
       "the formula will be re-ordered so that main effects come first,\n",
       "followed by the interactions, all second-order, all third-order and so\n",
       "on: to avoid this pass a <code>terms</code> object as the formula (see\n",
       "<code>aov</code> and <code>demo(glm.vr)</code> for an example).\n",
       "</p>\n",
       "<p>A formula has an implied intercept term.  To remove this use either\n",
       "<code>y ~ x - 1</code> or <code>y ~ 0 + x</code>.  See <code>formula</code> for\n",
       "more details of allowed formulae.\n",
       "</p>\n",
       "<p>Non-<code>NULL</code> <code>weights</code> can be used to indicate that\n",
       "different observations have different variances (with the values in\n",
       "<code>weights</code> being inversely proportional to the variances); or\n",
       "equivalently, when the elements of <code>weights</code> are positive\n",
       "integers <i>w_i</i>, that each response <i>y_i</i> is the mean of\n",
       "<i>w_i</i> unit-weight observations (including the case that there\n",
       "are <i>w_i</i> observations equal to <i>y_i</i> and the data have been\n",
       "summarized). However, in the latter case, notice that within-group\n",
       "variation is not used.  Therefore, the sigma estimate and residual\n",
       "degrees of freedom may be suboptimal; in the case of replication\n",
       "weights, even wrong. Hence, standard errors and analysis of variance\n",
       "tables should be treated with care.\n",
       "</p>\n",
       "<p><code>lm</code> calls the lower level functions <code>lm.fit</code>, etc,\n",
       "see below, for the actual numerical computations.  For programming\n",
       "only, you may consider doing likewise.\n",
       "</p>\n",
       "<p>All of <code>weights</code>, <code>subset</code> and <code>offset</code> are evaluated\n",
       "in the same way as variables in <code>formula</code>, that is first in\n",
       "<code>data</code> and then in the environment of <code>formula</code>.\n",
       "</p>\n",
       "\n",
       "\n",
       "<h3>Value</h3>\n",
       "\n",
       "<p><code>lm</code> returns an object of <code>class</code> <code>\"lm\"</code> or for\n",
       "multiple responses of class <code>c(\"mlm\", \"lm\")</code>.\n",
       "</p>\n",
       "<p>The functions <code>summary</code> and <code>anova</code> are used to\n",
       "obtain and print a summary and analysis of variance table of the\n",
       "results.  The generic accessor functions <code>coefficients</code>,\n",
       "<code>effects</code>, <code>fitted.values</code> and <code>residuals</code> extract\n",
       "various useful features of the value returned by <code>lm</code>.\n",
       "</p>\n",
       "<p>An object of class <code>\"lm\"</code> is a list containing at least the\n",
       "following components:\n",
       "</p>\n",
       "<table summary=\"R valueblock\">\n",
       "<tr valign=\"top\"><td><code>coefficients</code></td>\n",
       "<td>\n",
       "<p>a named vector of coefficients</p>\n",
       "</td></tr>\n",
       "<tr valign=\"top\"><td><code>residuals</code></td>\n",
       "<td>\n",
       "<p>the residuals, that is response minus fitted values.</p>\n",
       "</td></tr>\n",
       "<tr valign=\"top\"><td><code>fitted.values</code></td>\n",
       "<td>\n",
       "<p>the fitted mean values.</p>\n",
       "</td></tr>\n",
       "<tr valign=\"top\"><td><code>rank</code></td>\n",
       "<td>\n",
       "<p>the numeric rank of the fitted linear model.</p>\n",
       "</td></tr>\n",
       "<tr valign=\"top\"><td><code>weights</code></td>\n",
       "<td>\n",
       "<p>(only for weighted fits) the specified weights.</p>\n",
       "</td></tr>\n",
       "<tr valign=\"top\"><td><code>df.residual</code></td>\n",
       "<td>\n",
       "<p>the residual degrees of freedom.</p>\n",
       "</td></tr>\n",
       "<tr valign=\"top\"><td><code>call</code></td>\n",
       "<td>\n",
       "<p>the matched call.</p>\n",
       "</td></tr>\n",
       "<tr valign=\"top\"><td><code>terms</code></td>\n",
       "<td>\n",
       "<p>the <code>terms</code> object used.</p>\n",
       "</td></tr>\n",
       "<tr valign=\"top\"><td><code>contrasts</code></td>\n",
       "<td>\n",
       "<p>(only where relevant) the contrasts used.</p>\n",
       "</td></tr>\n",
       "<tr valign=\"top\"><td><code>xlevels</code></td>\n",
       "<td>\n",
       "<p>(only where relevant) a record of the levels of the\n",
       "factors used in fitting.</p>\n",
       "</td></tr>\n",
       "<tr valign=\"top\"><td><code>offset</code></td>\n",
       "<td>\n",
       "<p>the offset used (missing if none were used).</p>\n",
       "</td></tr>\n",
       "<tr valign=\"top\"><td><code>y</code></td>\n",
       "<td>\n",
       "<p>if requested, the response used.</p>\n",
       "</td></tr>\n",
       "<tr valign=\"top\"><td><code>x</code></td>\n",
       "<td>\n",
       "<p>if requested, the model matrix used.</p>\n",
       "</td></tr>\n",
       "<tr valign=\"top\"><td><code>model</code></td>\n",
       "<td>\n",
       "<p>if requested (the default), the model frame used.</p>\n",
       "</td></tr>\n",
       "<tr valign=\"top\"><td><code>na.action</code></td>\n",
       "<td>\n",
       "<p>(where relevant) information returned by\n",
       "<code>model.frame</code> on the special handling of <code>NA</code>s.</p>\n",
       "</td></tr>\n",
       "</table>\n",
       "<p>In addition, non-null fits will have components <code>assign</code>,\n",
       "<code>effects</code> and (unless not requested) <code>qr</code> relating to the linear\n",
       "fit, for use by extractor functions such as <code>summary</code> and\n",
       "<code>effects</code>.\n",
       "</p>\n",
       "\n",
       "\n",
       "<h3>Using time series</h3>\n",
       "\n",
       "<p>Considerable care is needed when using <code>lm</code> with time series.\n",
       "</p>\n",
       "<p>Unless <code>na.action = NULL</code>, the time series attributes are\n",
       "stripped from the variables before the regression is done.  (This is\n",
       "necessary as omitting <code>NA</code>s would invalidate the time series\n",
       "attributes, and if <code>NA</code>s are omitted in the middle of the series\n",
       "the result would no longer be a regular time series.)\n",
       "</p>\n",
       "<p>Even if the time series attributes are retained, they are not used to\n",
       "line up series, so that the time shift of a lagged or differenced\n",
       "regressor would be ignored.  It is good practice to prepare a\n",
       "<code>data</code> argument by <code>ts.intersect(..., dframe = TRUE)</code>,\n",
       "then apply a suitable <code>na.action</code> to that data frame and call\n",
       "<code>lm</code> with <code>na.action = NULL</code> so that residuals and fitted\n",
       "values are time series.\n",
       "</p>\n",
       "\n",
       "\n",
       "<h3>Note</h3>\n",
       "\n",
       "<p>Offsets specified by <code>offset</code> will not be included in predictions\n",
       "by <code>predict.lm</code>, whereas those specified by an offset term\n",
       "in the formula will be.\n",
       "</p>\n",
       "\n",
       "\n",
       "<h3>Author(s)</h3>\n",
       "\n",
       "<p>The design was inspired by the S function of the same name described\n",
       "in Chambers (1992).  The implementation of model formula by Ross Ihaka\n",
       "was based on Wilkinson &amp; Rogers (1973).\n",
       "</p>\n",
       "\n",
       "\n",
       "<h3>References</h3>\n",
       "\n",
       "<p>Chambers, J. M. (1992)\n",
       "<em>Linear models.</em>\n",
       "Chapter 4 of <em>Statistical Models in S</em>\n",
       "eds J. M. Chambers and T. J. Hastie, Wadsworth &amp; Brooks/Cole.\n",
       "</p>\n",
       "<p>Wilkinson, G. N. and Rogers, C. E. (1973).\n",
       "Symbolic descriptions of factorial models for analysis of variance.\n",
       "<em>Applied Statistics</em>, <b>22</b>, 392&ndash;399.\n",
       "doi: <a href=\"https://doi.org/10.2307/2346786\">10.2307/2346786</a>.\n",
       "</p>\n",
       "\n",
       "\n",
       "<h3>See Also</h3>\n",
       "\n",
       "<p><code>summary.lm</code> for summaries and <code>anova.lm</code> for\n",
       "the ANOVA table; <code>aov</code> for a different interface.\n",
       "</p>\n",
       "<p>The generic functions <code>coef</code>, <code>effects</code>,\n",
       "<code>residuals</code>, <code>fitted</code>, <code>vcov</code>.\n",
       "</p>\n",
       "<p><code>predict.lm</code> (via <code>predict</code>) for prediction,\n",
       "including confidence and prediction intervals;\n",
       "<code>confint</code> for confidence intervals of <em>parameters</em>.\n",
       "</p>\n",
       "<p><code>lm.influence</code> for regression diagnostics, and\n",
       "<code>glm</code> for <b>generalized</b> linear models.\n",
       "</p>\n",
       "<p>The underlying low level functions,\n",
       "<code>lm.fit</code> for plain, and <code>lm.wfit</code> for weighted\n",
       "regression fitting.\n",
       "</p>\n",
       "<p>More <code>lm()</code> examples are available e.g., in\n",
       "<code>anscombe</code>, <code>attitude</code>, <code>freeny</code>,\n",
       "<code>LifeCycleSavings</code>, <code>longley</code>,\n",
       "<code>stackloss</code>, <code>swiss</code>.\n",
       "</p>\n",
       "<p><code>biglm</code> in package <a href=\"https://CRAN.R-project.org/package=biglm\"><span class=\"pkg\">biglm</span></a> for an alternative\n",
       "way to fit linear models to large datasets (especially those with many\n",
       "cases).\n",
       "</p>\n",
       "\n",
       "\n",
       "<h3>Examples</h3>\n",
       "\n",
       "<pre>\n",
       "require(graphics)\n",
       "\n",
       "## Annette Dobson (1990) \"An Introduction to Generalized Linear Models\".\n",
       "## Page 9: Plant Weight Data.\n",
       "ctl &lt;- c(4.17,5.58,5.18,6.11,4.50,4.61,5.17,4.53,5.33,5.14)\n",
       "trt &lt;- c(4.81,4.17,4.41,3.59,5.87,3.83,6.03,4.89,4.32,4.69)\n",
       "group &lt;- gl(2, 10, 20, labels = c(\"Ctl\",\"Trt\"))\n",
       "weight &lt;- c(ctl, trt)\n",
       "lm.D9 &lt;- lm(weight ~ group)\n",
       "lm.D90 &lt;- lm(weight ~ group - 1) # omitting intercept\n",
       "\n",
       "anova(lm.D9)\n",
       "summary(lm.D90)\n",
       "\n",
       "opar &lt;- par(mfrow = c(2,2), oma = c(0, 0, 1.1, 0))\n",
       "plot(lm.D9, las = 1)      # Residuals, Fitted, ...\n",
       "par(opar)\n",
       "\n",
       "### less simple examples in \"See Also\" above\n",
       "</pre>\n",
       "\n",
       "<hr /><div style=\"text-align: center;\">[Package <em>stats</em> version 4.1.2 ]</div>"
      ],
      "text/latex": [
       "\\inputencoding{utf8}\n",
       "\\HeaderA{lm}{Fitting Linear Models}{lm}\n",
       "\\keyword{regression}{lm}\n",
       "\\keyword{regression}{lm}\n",
       "%\n",
       "\\begin{Description}\\relax\n",
       "\\code{lm} is used to fit linear models.\n",
       "It can be used to carry out regression,\n",
       "single stratum analysis of variance and\n",
       "analysis of covariance (although \\code{\\LinkA{aov}{aov}} may provide a more\n",
       "convenient interface for these).\n",
       "\\end{Description}\n",
       "%\n",
       "\\begin{Usage}\n",
       "\\begin{verbatim}\n",
       "lm(formula, data, subset, weights, na.action,\n",
       "   method = \"qr\", model = TRUE, x = FALSE, y = FALSE, qr = TRUE,\n",
       "   singular.ok = TRUE, contrasts = NULL, offset, ...)\n",
       "\\end{verbatim}\n",
       "\\end{Usage}\n",
       "%\n",
       "\\begin{Arguments}\n",
       "\\begin{ldescription}\n",
       "\\item[\\code{formula}] an object of class \\code{\"\\LinkA{formula}{formula}\"} (or one that\n",
       "can be coerced to that class): a symbolic description of the\n",
       "model to be fitted.  The details of model specification are given\n",
       "under `Details'.\n",
       "\n",
       "\\item[\\code{data}] an optional data frame, list or environment (or object\n",
       "coercible by \\code{\\LinkA{as.data.frame}{as.data.frame}} to a data frame) containing\n",
       "the variables in the model.  If not found in \\code{data}, the\n",
       "variables are taken from \\code{environment(formula)},\n",
       "typically the environment from which \\code{lm} is called.\n",
       "\n",
       "\\item[\\code{subset}] an optional vector specifying a subset of observations\n",
       "to be used in the fitting process.\n",
       "\n",
       "\\item[\\code{weights}] an optional vector of weights to be used in the fitting\n",
       "process.  Should be \\code{NULL} or a numeric vector.\n",
       "If non-NULL, weighted least squares is used with weights\n",
       "\\code{weights} (that is, minimizing \\code{sum(w*e\\textasciicircum{}2)}); otherwise\n",
       "ordinary least squares is used.  See also `Details',\n",
       "\n",
       "\\item[\\code{na.action}] a function which indicates what should happen\n",
       "when the data contain \\code{NA}s.  The default is set by\n",
       "the \\code{na.action} setting of \\code{\\LinkA{options}{options}}, and is\n",
       "\\code{\\LinkA{na.fail}{na.fail}} if that is unset.  The `factory-fresh'\n",
       "default is \\code{\\LinkA{na.omit}{na.omit}}.  Another possible value is\n",
       "\\code{NULL}, no action.  Value \\code{\\LinkA{na.exclude}{na.exclude}} can be useful.\n",
       "\n",
       "\\item[\\code{method}] the method to be used; for fitting, currently only\n",
       "\\code{method = \"qr\"} is supported; \\code{method = \"model.frame\"} returns\n",
       "the model frame (the same as with \\code{model = TRUE}, see below).\n",
       "\n",
       "\\item[\\code{model, x, y, qr}] logicals.  If \\code{TRUE} the corresponding\n",
       "components of the fit (the model frame, the model matrix, the\n",
       "response, the QR decomposition) are returned.\n",
       "\n",
       "\n",
       "\\item[\\code{singular.ok}] logical. If \\code{FALSE} (the default in S but\n",
       "not in \\R{}) a singular fit is an error.\n",
       "\n",
       "\\item[\\code{contrasts}] an optional list. See the \\code{contrasts.arg}\n",
       "of \\code{\\LinkA{model.matrix.default}{model.matrix.default}}.\n",
       "\n",
       "\\item[\\code{offset}] this can be used to specify an \\emph{a priori} known\n",
       "component to be included in the linear predictor during fitting.\n",
       "This should be \\code{NULL} or a numeric vector or matrix of extents\n",
       "matching those of the response.  One or more \\code{\\LinkA{offset}{offset}} terms can be\n",
       "included in the formula instead or as well, and if more than one are\n",
       "specified their sum is used.  See \\code{\\LinkA{model.offset}{model.offset}}.\n",
       "\n",
       "\\item[\\code{...}] additional arguments to be passed to the low level\n",
       "regression fitting functions (see below).\n",
       "\\end{ldescription}\n",
       "\\end{Arguments}\n",
       "%\n",
       "\\begin{Details}\\relax\n",
       "Models for \\code{lm} are specified symbolically.  A typical model has\n",
       "the form \\code{response \\textasciitilde{} terms} where \\code{response} is the (numeric)\n",
       "response vector and \\code{terms} is a series of terms which specifies a\n",
       "linear predictor for \\code{response}.  A terms specification of the form\n",
       "\\code{first + second} indicates all the terms in \\code{first} together\n",
       "with all the terms in \\code{second} with duplicates removed.  A\n",
       "specification of the form \\code{first:second} indicates the set of\n",
       "terms obtained by taking the interactions of all terms in \\code{first}\n",
       "with all terms in \\code{second}.  The specification \\code{first*second}\n",
       "indicates the \\emph{cross} of \\code{first} and \\code{second}.  This is\n",
       "the same as \\code{first + second + first:second}.\n",
       "\n",
       "If the formula includes an \\code{\\LinkA{offset}{offset}}, this is evaluated and\n",
       "subtracted from the response.\n",
       "\n",
       "If \\code{response} is a matrix a linear model is fitted separately by\n",
       "least-squares to each column of the matrix.\n",
       "\n",
       "See \\code{\\LinkA{model.matrix}{model.matrix}} for some further details.  The terms in\n",
       "the formula will be re-ordered so that main effects come first,\n",
       "followed by the interactions, all second-order, all third-order and so\n",
       "on: to avoid this pass a \\code{terms} object as the formula (see\n",
       "\\code{\\LinkA{aov}{aov}} and \\code{demo(glm.vr)} for an example).\n",
       "\n",
       "A formula has an implied intercept term.  To remove this use either\n",
       "\\code{y \\textasciitilde{} x - 1} or \\code{y \\textasciitilde{} 0 + x}.  See \\code{\\LinkA{formula}{formula}} for\n",
       "more details of allowed formulae.\n",
       "\n",
       "Non-\\code{NULL} \\code{weights} can be used to indicate that\n",
       "different observations have different variances (with the values in\n",
       "\\code{weights} being inversely proportional to the variances); or\n",
       "equivalently, when the elements of \\code{weights} are positive\n",
       "integers \\eqn{w_i}{}, that each response \\eqn{y_i}{} is the mean of\n",
       "\\eqn{w_i}{} unit-weight observations (including the case that there\n",
       "are \\eqn{w_i}{} observations equal to \\eqn{y_i}{} and the data have been\n",
       "summarized). However, in the latter case, notice that within-group\n",
       "variation is not used.  Therefore, the sigma estimate and residual\n",
       "degrees of freedom may be suboptimal; in the case of replication\n",
       "weights, even wrong. Hence, standard errors and analysis of variance\n",
       "tables should be treated with care.\n",
       "\n",
       "\\code{lm} calls the lower level functions \\code{\\LinkA{lm.fit}{lm.fit}}, etc,\n",
       "see below, for the actual numerical computations.  For programming\n",
       "only, you may consider doing likewise.\n",
       "\n",
       "All of \\code{weights}, \\code{subset} and \\code{offset} are evaluated\n",
       "in the same way as variables in \\code{formula}, that is first in\n",
       "\\code{data} and then in the environment of \\code{formula}.\n",
       "\\end{Details}\n",
       "%\n",
       "\\begin{Value}\n",
       "\\code{lm} returns an object of \\code{\\LinkA{class}{class}} \\code{\"lm\"} or for\n",
       "multiple responses of class \\code{c(\"mlm\", \"lm\")}.\n",
       "\n",
       "The functions \\code{summary} and \\code{\\LinkA{anova}{anova}} are used to\n",
       "obtain and print a summary and analysis of variance table of the\n",
       "results.  The generic accessor functions \\code{coefficients},\n",
       "\\code{effects}, \\code{fitted.values} and \\code{residuals} extract\n",
       "various useful features of the value returned by \\code{lm}.\n",
       "\n",
       "An object of class \\code{\"lm\"} is a list containing at least the\n",
       "following components:\n",
       "\n",
       "\\begin{ldescription}\n",
       "\\item[\\code{coefficients}] a named vector of coefficients\n",
       "\\item[\\code{residuals}] the residuals, that is response minus fitted values.\n",
       "\\item[\\code{fitted.values}] the fitted mean values.\n",
       "\\item[\\code{rank}] the numeric rank of the fitted linear model.\n",
       "\\item[\\code{weights}] (only for weighted fits) the specified weights.\n",
       "\\item[\\code{df.residual}] the residual degrees of freedom.\n",
       "\\item[\\code{call}] the matched call.\n",
       "\\item[\\code{terms}] the \\code{\\LinkA{terms}{terms}} object used.\n",
       "\\item[\\code{contrasts}] (only where relevant) the contrasts used.\n",
       "\\item[\\code{xlevels}] (only where relevant) a record of the levels of the\n",
       "factors used in fitting.\n",
       "\\item[\\code{offset}] the offset used (missing if none were used).\n",
       "\\item[\\code{y}] if requested, the response used.\n",
       "\\item[\\code{x}] if requested, the model matrix used.\n",
       "\\item[\\code{model}] if requested (the default), the model frame used.\n",
       "\\item[\\code{na.action}] (where relevant) information returned by\n",
       "\\code{\\LinkA{model.frame}{model.frame}} on the special handling of \\code{NA}s.\n",
       "\n",
       "\\end{ldescription}\n",
       "In addition, non-null fits will have components \\code{assign},\n",
       "\\code{effects} and (unless not requested) \\code{qr} relating to the linear\n",
       "fit, for use by extractor functions such as \\code{summary} and\n",
       "\\code{\\LinkA{effects}{effects}}.\n",
       "\\end{Value}\n",
       "%\n",
       "\\begin{Section}{Using time series}\n",
       "Considerable care is needed when using \\code{lm} with time series.\n",
       "\n",
       "Unless \\code{na.action = NULL}, the time series attributes are\n",
       "stripped from the variables before the regression is done.  (This is\n",
       "necessary as omitting \\code{NA}s would invalidate the time series\n",
       "attributes, and if \\code{NA}s are omitted in the middle of the series\n",
       "the result would no longer be a regular time series.)\n",
       "\n",
       "Even if the time series attributes are retained, they are not used to\n",
       "line up series, so that the time shift of a lagged or differenced\n",
       "regressor would be ignored.  It is good practice to prepare a\n",
       "\\code{data} argument by \\code{\\LinkA{ts.intersect}{ts.intersect}(..., dframe = TRUE)},\n",
       "then apply a suitable \\code{na.action} to that data frame and call\n",
       "\\code{lm} with \\code{na.action = NULL} so that residuals and fitted\n",
       "values are time series.\n",
       "\\end{Section}\n",
       "%\n",
       "\\begin{Note}\\relax\n",
       "Offsets specified by \\code{offset} will not be included in predictions\n",
       "by \\code{\\LinkA{predict.lm}{predict.lm}}, whereas those specified by an offset term\n",
       "in the formula will be.\n",
       "\\end{Note}\n",
       "%\n",
       "\\begin{Author}\\relax\n",
       "The design was inspired by the S function of the same name described\n",
       "in Chambers (1992).  The implementation of model formula by Ross Ihaka\n",
       "was based on Wilkinson \\& Rogers (1973).\n",
       "\\end{Author}\n",
       "%\n",
       "\\begin{References}\\relax\n",
       "Chambers, J. M. (1992)\n",
       "\\emph{Linear models.}\n",
       "Chapter 4 of \\emph{Statistical Models in S}\n",
       "eds J. M. Chambers and T. J. Hastie, Wadsworth \\& Brooks/Cole.\n",
       "\n",
       "Wilkinson, G. N. and Rogers, C. E. (1973).\n",
       "Symbolic descriptions of factorial models for analysis of variance.\n",
       "\\emph{Applied Statistics}, \\bold{22}, 392--399.\n",
       "doi:\\nobreakspace{}\\Rhref{https://doi.org/10.2307/2346786}{10.2307\\slash{}2346786}.\n",
       "\\end{References}\n",
       "%\n",
       "\\begin{SeeAlso}\\relax\n",
       "\\code{\\LinkA{summary.lm}{summary.lm}} for summaries and \\code{\\LinkA{anova.lm}{anova.lm}} for\n",
       "the ANOVA table; \\code{\\LinkA{aov}{aov}} for a different interface.\n",
       "\n",
       "The generic functions \\code{\\LinkA{coef}{coef}}, \\code{\\LinkA{effects}{effects}},\n",
       "\\code{\\LinkA{residuals}{residuals}}, \\code{\\LinkA{fitted}{fitted}}, \\code{\\LinkA{vcov}{vcov}}.\n",
       "\n",
       "\\code{\\LinkA{predict.lm}{predict.lm}} (via \\code{\\LinkA{predict}{predict}}) for prediction,\n",
       "including confidence and prediction intervals;\n",
       "\\code{\\LinkA{confint}{confint}} for confidence intervals of \\emph{parameters}.\n",
       "\n",
       "\\code{\\LinkA{lm.influence}{lm.influence}} for regression diagnostics, and\n",
       "\\code{\\LinkA{glm}{glm}} for \\bold{generalized} linear models.\n",
       "\n",
       "The underlying low level functions,\n",
       "\\code{\\LinkA{lm.fit}{lm.fit}} for plain, and \\code{\\LinkA{lm.wfit}{lm.wfit}} for weighted\n",
       "regression fitting.\n",
       "\n",
       "More \\code{lm()} examples are available e.g., in\n",
       "\\code{\\LinkA{anscombe}{anscombe}}, \\code{\\LinkA{attitude}{attitude}}, \\code{\\LinkA{freeny}{freeny}},\n",
       "\\code{\\LinkA{LifeCycleSavings}{LifeCycleSavings}}, \\code{\\LinkA{longley}{longley}},\n",
       "\\code{\\LinkA{stackloss}{stackloss}}, \\code{\\LinkA{swiss}{swiss}}.\n",
       "\n",
       "\\code{biglm} in package \\Rhref{https://CRAN.R-project.org/package=biglm}{\\pkg{biglm}} for an alternative\n",
       "way to fit linear models to large datasets (especially those with many\n",
       "cases).\n",
       "\\end{SeeAlso}\n",
       "%\n",
       "\\begin{Examples}\n",
       "\\begin{ExampleCode}\n",
       "require(graphics)\n",
       "\n",
       "## Annette Dobson (1990) \"An Introduction to Generalized Linear Models\".\n",
       "## Page 9: Plant Weight Data.\n",
       "ctl <- c(4.17,5.58,5.18,6.11,4.50,4.61,5.17,4.53,5.33,5.14)\n",
       "trt <- c(4.81,4.17,4.41,3.59,5.87,3.83,6.03,4.89,4.32,4.69)\n",
       "group <- gl(2, 10, 20, labels = c(\"Ctl\",\"Trt\"))\n",
       "weight <- c(ctl, trt)\n",
       "lm.D9 <- lm(weight ~ group)\n",
       "lm.D90 <- lm(weight ~ group - 1) # omitting intercept\n",
       "\n",
       "anova(lm.D9)\n",
       "summary(lm.D90)\n",
       "\n",
       "opar <- par(mfrow = c(2,2), oma = c(0, 0, 1.1, 0))\n",
       "plot(lm.D9, las = 1)      # Residuals, Fitted, ...\n",
       "par(opar)\n",
       "\n",
       "### less simple examples in \"See Also\" above\n",
       "\\end{ExampleCode}\n",
       "\\end{Examples}"
      ],
      "text/plain": [
       "lm                    package:stats                    R Documentation\n",
       "\n",
       "_\bF_\bi_\bt_\bt_\bi_\bn_\bg _\bL_\bi_\bn_\be_\ba_\br _\bM_\bo_\bd_\be_\bl_\bs\n",
       "\n",
       "_\bD_\be_\bs_\bc_\br_\bi_\bp_\bt_\bi_\bo_\bn:\n",
       "\n",
       "     'lm' is used to fit linear models.  It can be used to carry out\n",
       "     regression, single stratum analysis of variance and analysis of\n",
       "     covariance (although 'aov' may provide a more convenient interface\n",
       "     for these).\n",
       "\n",
       "_\bU_\bs_\ba_\bg_\be:\n",
       "\n",
       "     lm(formula, data, subset, weights, na.action,\n",
       "        method = \"qr\", model = TRUE, x = FALSE, y = FALSE, qr = TRUE,\n",
       "        singular.ok = TRUE, contrasts = NULL, offset, ...)\n",
       "     \n",
       "_\bA_\br_\bg_\bu_\bm_\be_\bn_\bt_\bs:\n",
       "\n",
       " formula: an object of class '\"formula\"' (or one that can be coerced to\n",
       "          that class): a symbolic description of the model to be\n",
       "          fitted.  The details of model specification are given under\n",
       "          'Details'.\n",
       "\n",
       "    data: an optional data frame, list or environment (or object\n",
       "          coercible by 'as.data.frame' to a data frame) containing the\n",
       "          variables in the model.  If not found in 'data', the\n",
       "          variables are taken from 'environment(formula)', typically\n",
       "          the environment from which 'lm' is called.\n",
       "\n",
       "  subset: an optional vector specifying a subset of observations to be\n",
       "          used in the fitting process.\n",
       "\n",
       " weights: an optional vector of weights to be used in the fitting\n",
       "          process.  Should be 'NULL' or a numeric vector.  If non-NULL,\n",
       "          weighted least squares is used with weights 'weights' (that\n",
       "          is, minimizing 'sum(w*e^2)'); otherwise ordinary least\n",
       "          squares is used.  See also 'Details',\n",
       "\n",
       "na.action: a function which indicates what should happen when the data\n",
       "          contain 'NA's.  The default is set by the 'na.action' setting\n",
       "          of 'options', and is 'na.fail' if that is unset.  The\n",
       "          'factory-fresh' default is 'na.omit'.  Another possible value\n",
       "          is 'NULL', no action.  Value 'na.exclude' can be useful.\n",
       "\n",
       "  method: the method to be used; for fitting, currently only 'method =\n",
       "          \"qr\"' is supported; 'method = \"model.frame\"' returns the\n",
       "          model frame (the same as with 'model = TRUE', see below).\n",
       "\n",
       "model, x, y, qr: logicals.  If 'TRUE' the corresponding components of\n",
       "          the fit (the model frame, the model matrix, the response, the\n",
       "          QR decomposition) are returned.\n",
       "\n",
       "singular.ok: logical. If 'FALSE' (the default in S but not in R) a\n",
       "          singular fit is an error.\n",
       "\n",
       "contrasts: an optional list. See the 'contrasts.arg' of\n",
       "          'model.matrix.default'.\n",
       "\n",
       "  offset: this can be used to specify an _a priori_ known component to\n",
       "          be included in the linear predictor during fitting.  This\n",
       "          should be 'NULL' or a numeric vector or matrix of extents\n",
       "          matching those of the response.  One or more 'offset' terms\n",
       "          can be included in the formula instead or as well, and if\n",
       "          more than one are specified their sum is used.  See\n",
       "          'model.offset'.\n",
       "\n",
       "     ...: additional arguments to be passed to the low level regression\n",
       "          fitting functions (see below).\n",
       "\n",
       "_\bD_\be_\bt_\ba_\bi_\bl_\bs:\n",
       "\n",
       "     Models for 'lm' are specified symbolically.  A typical model has\n",
       "     the form 'response ~ terms' where 'response' is the (numeric)\n",
       "     response vector and 'terms' is a series of terms which specifies a\n",
       "     linear predictor for 'response'.  A terms specification of the\n",
       "     form 'first + second' indicates all the terms in 'first' together\n",
       "     with all the terms in 'second' with duplicates removed.  A\n",
       "     specification of the form 'first:second' indicates the set of\n",
       "     terms obtained by taking the interactions of all terms in 'first'\n",
       "     with all terms in 'second'.  The specification 'first*second'\n",
       "     indicates the _cross_ of 'first' and 'second'.  This is the same\n",
       "     as 'first + second + first:second'.\n",
       "\n",
       "     If the formula includes an 'offset', this is evaluated and\n",
       "     subtracted from the response.\n",
       "\n",
       "     If 'response' is a matrix a linear model is fitted separately by\n",
       "     least-squares to each column of the matrix.\n",
       "\n",
       "     See 'model.matrix' for some further details.  The terms in the\n",
       "     formula will be re-ordered so that main effects come first,\n",
       "     followed by the interactions, all second-order, all third-order\n",
       "     and so on: to avoid this pass a 'terms' object as the formula (see\n",
       "     'aov' and 'demo(glm.vr)' for an example).\n",
       "\n",
       "     A formula has an implied intercept term.  To remove this use\n",
       "     either 'y ~ x - 1' or 'y ~ 0 + x'.  See 'formula' for more details\n",
       "     of allowed formulae.\n",
       "\n",
       "     Non-'NULL' 'weights' can be used to indicate that different\n",
       "     observations have different variances (with the values in\n",
       "     'weights' being inversely proportional to the variances); or\n",
       "     equivalently, when the elements of 'weights' are positive integers\n",
       "     w_i, that each response y_i is the mean of w_i unit-weight\n",
       "     observations (including the case that there are w_i observations\n",
       "     equal to y_i and the data have been summarized). However, in the\n",
       "     latter case, notice that within-group variation is not used.\n",
       "     Therefore, the sigma estimate and residual degrees of freedom may\n",
       "     be suboptimal; in the case of replication weights, even wrong.\n",
       "     Hence, standard errors and analysis of variance tables should be\n",
       "     treated with care.\n",
       "\n",
       "     'lm' calls the lower level functions 'lm.fit', etc, see below, for\n",
       "     the actual numerical computations.  For programming only, you may\n",
       "     consider doing likewise.\n",
       "\n",
       "     All of 'weights', 'subset' and 'offset' are evaluated in the same\n",
       "     way as variables in 'formula', that is first in 'data' and then in\n",
       "     the environment of 'formula'.\n",
       "\n",
       "_\bV_\ba_\bl_\bu_\be:\n",
       "\n",
       "     'lm' returns an object of 'class' '\"lm\"' or for multiple responses\n",
       "     of class 'c(\"mlm\", \"lm\")'.\n",
       "\n",
       "     The functions 'summary' and 'anova' are used to obtain and print a\n",
       "     summary and analysis of variance table of the results.  The\n",
       "     generic accessor functions 'coefficients', 'effects',\n",
       "     'fitted.values' and 'residuals' extract various useful features of\n",
       "     the value returned by 'lm'.\n",
       "\n",
       "     An object of class '\"lm\"' is a list containing at least the\n",
       "     following components:\n",
       "\n",
       "coefficients: a named vector of coefficients\n",
       "\n",
       "residuals: the residuals, that is response minus fitted values.\n",
       "\n",
       "fitted.values: the fitted mean values.\n",
       "\n",
       "    rank: the numeric rank of the fitted linear model.\n",
       "\n",
       " weights: (only for weighted fits) the specified weights.\n",
       "\n",
       "df.residual: the residual degrees of freedom.\n",
       "\n",
       "    call: the matched call.\n",
       "\n",
       "   terms: the 'terms' object used.\n",
       "\n",
       "contrasts: (only where relevant) the contrasts used.\n",
       "\n",
       " xlevels: (only where relevant) a record of the levels of the factors\n",
       "          used in fitting.\n",
       "\n",
       "  offset: the offset used (missing if none were used).\n",
       "\n",
       "       y: if requested, the response used.\n",
       "\n",
       "       x: if requested, the model matrix used.\n",
       "\n",
       "   model: if requested (the default), the model frame used.\n",
       "\n",
       "na.action: (where relevant) information returned by 'model.frame' on\n",
       "          the special handling of 'NA's.\n",
       "     In addition, non-null fits will have components 'assign',\n",
       "     'effects' and (unless not requested) 'qr' relating to the linear\n",
       "     fit, for use by extractor functions such as 'summary' and\n",
       "     'effects'.\n",
       "\n",
       "_\bU_\bs_\bi_\bn_\bg _\bt_\bi_\bm_\be _\bs_\be_\br_\bi_\be_\bs:\n",
       "\n",
       "     Considerable care is needed when using 'lm' with time series.\n",
       "\n",
       "     Unless 'na.action = NULL', the time series attributes are stripped\n",
       "     from the variables before the regression is done.  (This is\n",
       "     necessary as omitting 'NA's would invalidate the time series\n",
       "     attributes, and if 'NA's are omitted in the middle of the series\n",
       "     the result would no longer be a regular time series.)\n",
       "\n",
       "     Even if the time series attributes are retained, they are not used\n",
       "     to line up series, so that the time shift of a lagged or\n",
       "     differenced regressor would be ignored.  It is good practice to\n",
       "     prepare a 'data' argument by 'ts.intersect(..., dframe = TRUE)',\n",
       "     then apply a suitable 'na.action' to that data frame and call 'lm'\n",
       "     with 'na.action = NULL' so that residuals and fitted values are\n",
       "     time series.\n",
       "\n",
       "_\bN_\bo_\bt_\be:\n",
       "\n",
       "     Offsets specified by 'offset' will not be included in predictions\n",
       "     by 'predict.lm', whereas those specified by an offset term in the\n",
       "     formula will be.\n",
       "\n",
       "_\bA_\bu_\bt_\bh_\bo_\br(_\bs):\n",
       "\n",
       "     The design was inspired by the S function of the same name\n",
       "     described in Chambers (1992).  The implementation of model formula\n",
       "     by Ross Ihaka was based on Wilkinson & Rogers (1973).\n",
       "\n",
       "_\bR_\be_\bf_\be_\br_\be_\bn_\bc_\be_\bs:\n",
       "\n",
       "     Chambers, J. M. (1992) _Linear models._ Chapter 4 of _Statistical\n",
       "     Models in S_ eds J. M. Chambers and T. J. Hastie, Wadsworth &\n",
       "     Brooks/Cole.\n",
       "\n",
       "     Wilkinson, G. N. and Rogers, C. E. (1973).  Symbolic descriptions\n",
       "     of factorial models for analysis of variance.  _Applied\n",
       "     Statistics_, *22*, 392-399.  doi: 10.2307/2346786 (URL:\n",
       "     https://doi.org/10.2307/2346786).\n",
       "\n",
       "_\bS_\be_\be _\bA_\bl_\bs_\bo:\n",
       "\n",
       "     'summary.lm' for summaries and 'anova.lm' for the ANOVA table;\n",
       "     'aov' for a different interface.\n",
       "\n",
       "     The generic functions 'coef', 'effects', 'residuals', 'fitted',\n",
       "     'vcov'.\n",
       "\n",
       "     'predict.lm' (via 'predict') for prediction, including confidence\n",
       "     and prediction intervals; 'confint' for confidence intervals of\n",
       "     _parameters_.\n",
       "\n",
       "     'lm.influence' for regression diagnostics, and 'glm' for\n",
       "     *generalized* linear models.\n",
       "\n",
       "     The underlying low level functions, 'lm.fit' for plain, and\n",
       "     'lm.wfit' for weighted regression fitting.\n",
       "\n",
       "     More 'lm()' examples are available e.g., in 'anscombe',\n",
       "     'attitude', 'freeny', 'LifeCycleSavings', 'longley', 'stackloss',\n",
       "     'swiss'.\n",
       "\n",
       "     'biglm' in package 'biglm' for an alternative way to fit linear\n",
       "     models to large datasets (especially those with many cases).\n",
       "\n",
       "_\bE_\bx_\ba_\bm_\bp_\bl_\be_\bs:\n",
       "\n",
       "     require(graphics)\n",
       "     \n",
       "     ## Annette Dobson (1990) \"An Introduction to Generalized Linear Models\".\n",
       "     ## Page 9: Plant Weight Data.\n",
       "     ctl <- c(4.17,5.58,5.18,6.11,4.50,4.61,5.17,4.53,5.33,5.14)\n",
       "     trt <- c(4.81,4.17,4.41,3.59,5.87,3.83,6.03,4.89,4.32,4.69)\n",
       "     group <- gl(2, 10, 20, labels = c(\"Ctl\",\"Trt\"))\n",
       "     weight <- c(ctl, trt)\n",
       "     lm.D9 <- lm(weight ~ group)\n",
       "     lm.D90 <- lm(weight ~ group - 1) # omitting intercept\n",
       "     \n",
       "     anova(lm.D9)\n",
       "     summary(lm.D90)\n",
       "     \n",
       "     opar <- par(mfrow = c(2,2), oma = c(0, 0, 1.1, 0))\n",
       "     plot(lm.D9, las = 1)      # Residuals, Fitted, ...\n",
       "     par(opar)\n",
       "     \n",
       "     ### less simple examples in \"See Also\" above\n",
       "     "
      ]
     },
     "metadata": {},
     "output_type": "display_data"
    }
   ],
   "source": [
    "str(lm)\n",
    "str(sd)\n",
    "?lm"
   ]
  },
  {
   "cell_type": "code",
   "execution_count": 10,
   "metadata": {},
   "outputs": [
    {
     "data": {
      "text/plain": [
       "   user  system elapsed \n",
       "      0       0       0 "
      ]
     },
     "metadata": {},
     "output_type": "display_data"
    }
   ],
   "source": [
    "f <- function(x) {\n",
    "#   force(x) #Force Evaluation of an Argument\n",
    "#   y=x\n",
    "  10\n",
    "}\n",
    "system.time(f(Sys.sleep(10)))\n",
    "# ?force"
   ]
  },
  {
   "cell_type": "code",
   "execution_count": 11,
   "metadata": {},
   "outputs": [
    {
     "data": {
      "text/html": [
       "4"
      ],
      "text/latex": [
       "4"
      ],
      "text/markdown": [
       "4"
      ],
      "text/plain": [
       "[1] 4"
      ]
     },
     "metadata": {},
     "output_type": "display_data"
    }
   ],
   "source": [
    "f <- function(a, b) {\n",
    "  a^2\n",
    " }\n",
    "\n",
    "f(2)"
   ]
  },
  {
   "cell_type": "code",
   "execution_count": 12,
   "metadata": {},
   "outputs": [
    {
     "name": "stdout",
     "output_type": "stream",
     "text": [
      "[1] 3\n"
     ]
    }
   ],
   "source": [
    "f <- function(a, b) {\n",
    "  print(a)\n",
    "#   print(b)\n",
    "  if (a>4) print(b)\n",
    "}\n",
    "f(3)"
   ]
  },
  {
   "cell_type": "code",
   "execution_count": 13,
   "metadata": {
    "scrolled": true
   },
   "outputs": [
    {
     "data": {
      "text/html": [
       "<style>\n",
       ".list-inline {list-style: none; margin:0; padding: 0}\n",
       ".list-inline>li {display: inline-block}\n",
       ".list-inline>li:not(:last-child)::after {content: \"\\00b7\"; padding: 0 .5ex}\n",
       "</style>\n",
       "<ol class=list-inline><li>'a'</li><li>'b'</li><li>'c'</li><li>'kdkdk'</li></ol>\n"
      ],
      "text/latex": [
       "\\begin{enumerate*}\n",
       "\\item 'a'\n",
       "\\item 'b'\n",
       "\\item 'c'\n",
       "\\item 'kdkdk'\n",
       "\\end{enumerate*}\n"
      ],
      "text/markdown": [
       "1. 'a'\n",
       "2. 'b'\n",
       "3. 'c'\n",
       "4. 'kdkdk'\n",
       "\n",
       "\n"
      ],
      "text/plain": [
       "[1] \"a\"     \"b\"     \"c\"     \"kdkdk\""
      ]
     },
     "metadata": {},
     "output_type": "display_data"
    }
   ],
   "source": [
    "f <- function(...) {\n",
    "  names(list(...))\n",
    "}\n",
    "f(a = 1, b = 2, c=3, kdkdk=\"dkfj\")\n",
    "\n",
    "# list(a=1, b=2)\n",
    "# ?names"
   ]
  },
  {
   "cell_type": "code",
   "execution_count": 14,
   "metadata": {},
   "outputs": [
    {
     "data": {
      "text/plain": [
       "NULL"
      ]
     },
     "metadata": {},
     "output_type": "display_data"
    }
   ],
   "source": [
    "f()"
   ]
  },
  {
   "cell_type": "code",
   "execution_count": 15,
   "metadata": {},
   "outputs": [
    {
     "data": {
      "text/plain": [
       "NULL"
      ]
     },
     "metadata": {},
     "output_type": "display_data"
    }
   ],
   "source": [
    "names(list(1,2))"
   ]
  },
  {
   "cell_type": "code",
   "execution_count": 16,
   "metadata": {
    "scrolled": true
   },
   "outputs": [
    {
     "data": {
      "text/html": [
       "<style>\n",
       ".list-inline {list-style: none; margin:0; padding: 0}\n",
       ".list-inline>li {display: inline-block}\n",
       ".list-inline>li:not(:last-child)::after {content: \"\\00b7\"; padding: 0 .5ex}\n",
       "</style>\n",
       "<ol class=list-inline><li>'a'</li><li>'b'</li><li>'c'</li><li>'kdkdk'</li></ol>\n"
      ],
      "text/latex": [
       "\\begin{enumerate*}\n",
       "\\item 'a'\n",
       "\\item 'b'\n",
       "\\item 'c'\n",
       "\\item 'kdkdk'\n",
       "\\end{enumerate*}\n"
      ],
      "text/markdown": [
       "1. 'a'\n",
       "2. 'b'\n",
       "3. 'c'\n",
       "4. 'kdkdk'\n",
       "\n",
       "\n"
      ],
      "text/plain": [
       "[1] \"a\"     \"b\"     \"c\"     \"kdkdk\""
      ]
     },
     "metadata": {},
     "output_type": "display_data"
    }
   ],
   "source": [
    "names(list(a = 1, b = 2, c=3, kdkdk=\"dkfj\"))"
   ]
  },
  {
   "cell_type": "code",
   "execution_count": 17,
   "metadata": {},
   "outputs": [
    {
     "data": {
      "image/png": "[encoded data removed]",
      "text/plain": [
       "plot without title"
      ]
     },
     "metadata": {
      "image/png": {
       "height": 420,
       "width": 420
      }
     },
     "output_type": "display_data"
    },
    {
     "data": {
      "text/html": [
       "\n",
       "<table width=\"100%\" summary=\"page for barplot {graphics}\"><tr><td>barplot {graphics}</td><td style=\"text-align: right;\">R Documentation</td></tr></table>\n",
       "\n",
       "<h2>Bar Plots</h2>\n",
       "\n",
       "<h3>Description</h3>\n",
       "\n",
       "<p>Creates a bar plot with vertical or horizontal bars.\n",
       "</p>\n",
       "\n",
       "\n",
       "<h3>Usage</h3>\n",
       "\n",
       "<pre>\n",
       "barplot(height, ...)\n",
       "\n",
       "## Default S3 method:\n",
       "barplot(height, width = 1, space = NULL,\n",
       "        names.arg = NULL, legend.text = NULL, beside = FALSE,\n",
       "        horiz = FALSE, density = NULL, angle = 45,\n",
       "        col = NULL, border = par(\"fg\"),\n",
       "        main = NULL, sub = NULL, xlab = NULL, ylab = NULL,\n",
       "        xlim = NULL, ylim = NULL, xpd = TRUE, log = \"\",\n",
       "        axes = TRUE, axisnames = TRUE,\n",
       "        cex.axis = par(\"cex.axis\"), cex.names = par(\"cex.axis\"),\n",
       "        inside = TRUE, plot = TRUE, axis.lty = 0, offset = 0,\n",
       "        add = FALSE, ann = !add &amp;&amp; par(\"ann\"), args.legend = NULL, ...)\n",
       "\n",
       "## S3 method for class 'formula'\n",
       "barplot(formula, data, subset, na.action,\n",
       "        horiz = FALSE, xlab = NULL, ylab = NULL, ...)\n",
       "</pre>\n",
       "\n",
       "\n",
       "<h3>Arguments</h3>\n",
       "\n",
       "<table summary=\"R argblock\">\n",
       "<tr valign=\"top\"><td><code>height</code></td>\n",
       "<td>\n",
       "<p>either a vector or matrix of values describing the\n",
       "bars which make up the plot.  If <code>height</code> is a vector, the\n",
       "plot consists of a sequence of rectangular bars with heights\n",
       "given by the values in the vector.  If <code>height</code> is a matrix\n",
       "and <code>beside</code> is <code>FALSE</code> then each bar of the plot\n",
       "corresponds to a column of <code>height</code>, with the values in the\n",
       "column giving the heights of stacked sub-bars making up the\n",
       "bar.  If <code>height</code> is a matrix and <code>beside</code> is\n",
       "<code>TRUE</code>, then the values in each column are juxtaposed\n",
       "rather than stacked.</p>\n",
       "</td></tr>\n",
       "<tr valign=\"top\"><td><code>width</code></td>\n",
       "<td>\n",
       "<p>optional vector of bar widths. Re-cycled to length the\n",
       "number of bars drawn.  Specifying a single value will have no\n",
       "visible effect unless <code>xlim</code> is specified.</p>\n",
       "</td></tr>\n",
       "<tr valign=\"top\"><td><code>space</code></td>\n",
       "<td>\n",
       "<p>the amount of space (as a fraction of the average bar\n",
       "width) left before each bar.  May be given as a single number or\n",
       "one number per bar.  If <code>height</code> is a matrix and\n",
       "<code>beside</code> is <code>TRUE</code>, <code>space</code> may be specified by\n",
       "two numbers, where the first is the space between bars in the\n",
       "same group, and the second the space between the groups.  If not\n",
       "given explicitly, it defaults to <code>c(0,1)</code> if <code>height</code>\n",
       "is a matrix and <code>beside</code> is <code>TRUE</code>, and to 0.2\n",
       "otherwise.</p>\n",
       "</td></tr>\n",
       "<tr valign=\"top\"><td><code>names.arg</code></td>\n",
       "<td>\n",
       "<p>a vector of names to be plotted below each bar or\n",
       "group of bars.  If this argument is omitted, then the names are\n",
       "taken from the <code>names</code> attribute of <code>height</code> if this\n",
       "is a vector, or the column names if it is a matrix.</p>\n",
       "</td></tr>\n",
       "<tr valign=\"top\"><td><code>legend.text</code></td>\n",
       "<td>\n",
       "<p>a vector of text used to construct a legend for\n",
       "the plot, or a logical indicating whether a legend should be\n",
       "included.  This is only useful when <code>height</code> is a matrix.\n",
       "In that case given legend labels should correspond to the rows of\n",
       "<code>height</code>; if <code>legend.text</code> is true, the row names of\n",
       "<code>height</code> will be used as labels if they are non-null.</p>\n",
       "</td></tr>\n",
       "<tr valign=\"top\"><td><code>beside</code></td>\n",
       "<td>\n",
       "<p>a logical value.  If <code>FALSE</code>, the columns of\n",
       "<code>height</code> are portrayed as stacked bars, and if <code>TRUE</code>\n",
       "the columns are portrayed as juxtaposed bars.</p>\n",
       "</td></tr>\n",
       "<tr valign=\"top\"><td><code>horiz</code></td>\n",
       "<td>\n",
       "<p>a logical value.  If <code>FALSE</code>, the bars are drawn\n",
       "vertically with the first bar to the left.  If <code>TRUE</code>, the\n",
       "bars are drawn horizontally with the first at the bottom.</p>\n",
       "</td></tr>\n",
       "<tr valign=\"top\"><td><code>density</code></td>\n",
       "<td>\n",
       "<p>a vector giving the density of shading lines, in\n",
       "lines per inch, for the bars or bar components.\n",
       "The default value of <code>NULL</code> means that no shading lines\n",
       "are drawn. Non-positive values of <code>density</code> also inhibit the\n",
       "drawing of shading lines.</p>\n",
       "</td></tr>\n",
       "<tr valign=\"top\"><td><code>angle</code></td>\n",
       "<td>\n",
       "<p>the slope of shading lines, given as an angle in\n",
       "degrees (counter-clockwise), for the bars or bar components.</p>\n",
       "</td></tr>\n",
       "<tr valign=\"top\"><td><code>col</code></td>\n",
       "<td>\n",
       "<p>a vector of colors for the bars or bar components.\n",
       "By default, grey is used if <code>height</code> is a vector, and a\n",
       "gamma-corrected grey palette if <code>height</code> is a matrix.</p>\n",
       "</td></tr>\n",
       "<tr valign=\"top\"><td><code>border</code></td>\n",
       "<td>\n",
       "<p>the color to be used for the border of the bars.\n",
       "Use <code>border = NA</code> to omit borders.  If there are shading\n",
       "lines, <code>border = TRUE</code> means use the same colour for\n",
       "the border as for the shading lines.</p>\n",
       "</td></tr>\n",
       "<tr valign=\"top\"><td><code>main,sub</code></td>\n",
       "<td>\n",
       "<p>overall and sub title for the plot.</p>\n",
       "</td></tr>\n",
       "<tr valign=\"top\"><td><code>xlab</code></td>\n",
       "<td>\n",
       "<p>a label for the x axis.</p>\n",
       "</td></tr>\n",
       "<tr valign=\"top\"><td><code>ylab</code></td>\n",
       "<td>\n",
       "<p>a label for the y axis.</p>\n",
       "</td></tr>\n",
       "<tr valign=\"top\"><td><code>xlim</code></td>\n",
       "<td>\n",
       "<p>limits for the x axis.</p>\n",
       "</td></tr>\n",
       "<tr valign=\"top\"><td><code>ylim</code></td>\n",
       "<td>\n",
       "<p>limits for the y axis.</p>\n",
       "</td></tr>\n",
       "<tr valign=\"top\"><td><code>xpd</code></td>\n",
       "<td>\n",
       "<p>logical. Should bars be allowed to go outside region?</p>\n",
       "</td></tr>\n",
       "<tr valign=\"top\"><td><code>log</code></td>\n",
       "<td>\n",
       "<p>string specifying if axis scales should be logarithmic; see\n",
       "<code>plot.default</code>.</p>\n",
       "</td></tr>\n",
       "<tr valign=\"top\"><td><code>axes</code></td>\n",
       "<td>\n",
       "<p>logical.  If <code>TRUE</code>, a vertical (or horizontal, if\n",
       "<code>horiz</code> is true) axis is drawn.</p>\n",
       "</td></tr>\n",
       "<tr valign=\"top\"><td><code>axisnames</code></td>\n",
       "<td>\n",
       "<p>logical.  If <code>TRUE</code>, and if there are\n",
       "<code>names.arg</code> (see above), the\n",
       "other axis is drawn (with <code>lty = 0</code>) and labeled.</p>\n",
       "</td></tr>\n",
       "<tr valign=\"top\"><td><code>cex.axis</code></td>\n",
       "<td>\n",
       "<p>expansion factor for numeric axis labels (see\n",
       "<code>par('cex')</code>).</p>\n",
       "</td></tr>\n",
       "<tr valign=\"top\"><td><code>cex.names</code></td>\n",
       "<td>\n",
       "<p>expansion factor for axis names (bar labels).</p>\n",
       "</td></tr>\n",
       "<tr valign=\"top\"><td><code>inside</code></td>\n",
       "<td>\n",
       "<p>logical.  If <code>TRUE</code>, the lines which divide\n",
       "adjacent (non-stacked!) bars will be drawn.  Only applies when\n",
       "<code>space = 0</code> (which it partly is when <code>beside = TRUE</code>).</p>\n",
       "</td></tr>\n",
       "</table>\n",
       "\n",
       "\n",
       "<table summary=\"R argblock\">\n",
       "<tr valign=\"top\"><td><code>plot</code></td>\n",
       "<td>\n",
       "<p>logical.  If <code>FALSE</code>, nothing is plotted.</p>\n",
       "</td></tr>\n",
       "<tr valign=\"top\"><td><code>axis.lty</code></td>\n",
       "<td>\n",
       "<p>the graphics parameter <code>lty</code> (see\n",
       "<code>par('lty')</code>) applied to the axis\n",
       "and tick marks of the categorical (default horizontal) axis.  Note\n",
       "that by default the axis is suppressed.</p>\n",
       "</td></tr>\n",
       "<tr valign=\"top\"><td><code>offset</code></td>\n",
       "<td>\n",
       "<p>a vector indicating how much the bars should be shifted\n",
       "relative to the x axis.</p>\n",
       "</td></tr>\n",
       "<tr valign=\"top\"><td><code>add</code></td>\n",
       "<td>\n",
       "<p>logical specifying if bars should be added to an already\n",
       "existing plot; defaults to <code>FALSE</code>.</p>\n",
       "</td></tr>\n",
       "<tr valign=\"top\"><td><code>ann</code></td>\n",
       "<td>\n",
       "<p>logical specifying if the default annotation (<code>main</code>,\n",
       "<code>sub</code>, <code>xlab</code>, <code>ylab</code>) should appear on the plot, see\n",
       "<code>title</code>.</p>\n",
       "</td></tr>\n",
       "<tr valign=\"top\"><td><code>args.legend</code></td>\n",
       "<td>\n",
       "<p>list of additional arguments to pass to\n",
       "<code>legend()</code>; names of the list are used as argument\n",
       "names.  Only used if <code>legend.text</code> is supplied.</p>\n",
       "</td></tr>\n",
       "<tr valign=\"top\"><td><code>formula</code></td>\n",
       "<td>\n",
       "<p>a formula where the <code>y</code> variables are numeric data\n",
       "to plot against the categorical <code>x</code> variables.  The formula\n",
       "can have one of three forms:\n",
       "</p>\n",
       "<pre>\n",
       "      y ~ x\n",
       "      y ~ x1 + x2\n",
       "      cbind(y1, y2) ~ x\n",
       "    </pre>\n",
       "<p>(see the examples).</p>\n",
       "</td></tr>\n",
       "<tr valign=\"top\"><td><code>data</code></td>\n",
       "<td>\n",
       "<p>a data frame (or list) from which the variables in formula\n",
       "should be taken.</p>\n",
       "</td></tr>\n",
       "<tr valign=\"top\"><td><code>subset</code></td>\n",
       "<td>\n",
       "<p>an optional vector specifying a subset of observations\n",
       "to be used.</p>\n",
       "</td></tr>\n",
       "<tr valign=\"top\"><td><code>na.action</code></td>\n",
       "<td>\n",
       "<p>a function which indicates what should happen when\n",
       "the data contain <code>NA</code> values.  The default is to ignore missing\n",
       "values in the given variables.</p>\n",
       "</td></tr>\n",
       "<tr valign=\"top\"><td><code>...</code></td>\n",
       "<td>\n",
       "<p>arguments to be passed to/from other methods.  For the\n",
       "default method these can include further arguments (such as\n",
       "<code>axes</code>, <code>asp</code> and <code>main</code>) and\n",
       "graphical parameters (see <code>par</code>) which are passed to\n",
       "<code>plot.window()</code>, <code>title()</code> and\n",
       "<code>axis</code>.</p>\n",
       "</td></tr>\n",
       "</table>\n",
       "\n",
       "\n",
       "<h3>Value</h3>\n",
       "\n",
       "<p>A numeric vector (or matrix, when <code>beside = TRUE</code>), say\n",
       "<code>mp</code>, giving the coordinates of <em>all</em> the bar midpoints\n",
       "drawn, useful for adding to the graph.\n",
       "</p>\n",
       "<p>If <code>beside</code> is true, use <code>colMeans(mp)</code> for the\n",
       "midpoints of each <em>group</em> of bars, see example.\n",
       "</p>\n",
       "\n",
       "\n",
       "<h3>Author(s)</h3>\n",
       "\n",
       "<p>R Core, with a contribution by Arni Magnusson.</p>\n",
       "\n",
       "\n",
       "<h3>References</h3>\n",
       "\n",
       "<p>Becker, R. A., Chambers, J. M. and Wilks, A. R. (1988)\n",
       "<em>The New S Language</em>.\n",
       "Wadsworth &amp; Brooks/Cole.\n",
       "</p>\n",
       "<p>Murrell, P. (2005) <em>R Graphics</em>. Chapman &amp; Hall/CRC Press.\n",
       "</p>\n",
       "\n",
       "\n",
       "<h3>See Also</h3>\n",
       "\n",
       "<p><code>plot(..., type = \"h\")</code>, <code>dotchart</code>;\n",
       "<code>hist</code> for bars of a <em>continuous</em> variable.\n",
       "<code>mosaicplot()</code>, more sophisticated to visualize\n",
       "<em>several</em> categorical variables.\n",
       "</p>\n",
       "\n",
       "\n",
       "<h3>Examples</h3>\n",
       "\n",
       "<pre>\n",
       "# Formula method\n",
       "barplot(GNP ~ Year, data = longley)\n",
       "barplot(cbind(Employed, Unemployed) ~ Year, data = longley)\n",
       "\n",
       "## 3rd form of formula - 2 categories :\n",
       "op &lt;- par(mfrow = 2:1, mgp = c(3,1,0)/2, mar = .1+c(3,3:1))\n",
       "summary(d.Titanic &lt;- as.data.frame(Titanic))\n",
       "barplot(Freq ~ Class + Survived, data = d.Titanic,\n",
       "        subset = Age == \"Adult\" &amp; Sex == \"Male\",\n",
       "        main = \"barplot(Freq ~ Class + Survived, *)\", ylab = \"# {passengers}\", legend.text = TRUE)\n",
       "# Corresponding table :\n",
       "(xt &lt;- xtabs(Freq ~ Survived + Class + Sex, d.Titanic, subset = Age==\"Adult\"))\n",
       "# Alternatively, a mosaic plot :\n",
       "mosaicplot(xt[,,\"Male\"], main = \"mosaicplot(Freq ~ Class + Survived, *)\", color=TRUE)\n",
       "par(op)\n",
       "\n",
       "\n",
       "# Default method\n",
       "require(grDevices) # for colours\n",
       "tN &lt;- table(Ni &lt;- stats::rpois(100, lambda = 5))\n",
       "r &lt;- barplot(tN, col = rainbow(20))\n",
       "#- type = \"h\" plotting *is* 'bar'plot\n",
       "lines(r, tN, type = \"h\", col = \"red\", lwd = 2)\n",
       "\n",
       "barplot(tN, space = 1.5, axisnames = FALSE,\n",
       "        sub = \"barplot(..., space= 1.5, axisnames = FALSE)\")\n",
       "\n",
       "barplot(VADeaths, plot = FALSE)\n",
       "barplot(VADeaths, plot = FALSE, beside = TRUE)\n",
       "\n",
       "mp &lt;- barplot(VADeaths) # default\n",
       "tot &lt;- colMeans(VADeaths)\n",
       "text(mp, tot + 3, format(tot), xpd = TRUE, col = \"blue\")\n",
       "barplot(VADeaths, beside = TRUE,\n",
       "        col = c(\"lightblue\", \"mistyrose\", \"lightcyan\",\n",
       "                \"lavender\", \"cornsilk\"),\n",
       "        legend.text = rownames(VADeaths), ylim = c(0, 100))\n",
       "title(main = \"Death Rates in Virginia\", font.main = 4)\n",
       "\n",
       "hh &lt;- t(VADeaths)[, 5:1]\n",
       "mybarcol &lt;- \"gray20\"\n",
       "mp &lt;- barplot(hh, beside = TRUE,\n",
       "        col = c(\"lightblue\", \"mistyrose\",\n",
       "                \"lightcyan\", \"lavender\"),\n",
       "        legend.text = colnames(VADeaths), ylim = c(0,100),\n",
       "        main = \"Death Rates in Virginia\", font.main = 4,\n",
       "        sub = \"Faked upper 2*sigma error bars\", col.sub = mybarcol,\n",
       "        cex.names = 1.5)\n",
       "segments(mp, hh, mp, hh + 2*sqrt(1000*hh/100), col = mybarcol, lwd = 1.5)\n",
       "stopifnot(dim(mp) == dim(hh))  # corresponding matrices\n",
       "mtext(side = 1, at = colMeans(mp), line = -2,\n",
       "      text = paste(\"Mean\", formatC(colMeans(hh))), col = \"red\")\n",
       "\n",
       "# Bar shading example\n",
       "barplot(VADeaths, angle = 15+10*1:5, density = 20, col = \"black\",\n",
       "        legend.text = rownames(VADeaths))\n",
       "title(main = list(\"Death Rates in Virginia\", font = 4))\n",
       "\n",
       "# Border color\n",
       "barplot(VADeaths, border = \"dark blue\") \n",
       "\n",
       "\n",
       "# Log scales (not much sense here)\n",
       "barplot(tN, col = heat.colors(12), log = \"y\")\n",
       "barplot(tN, col = gray.colors(20), log = \"xy\")\n",
       "\n",
       "# Legend location\n",
       "barplot(height = cbind(x = c(465, 91) / 465 * 100,\n",
       "                       y = c(840, 200) / 840 * 100,\n",
       "                       z = c(37, 17) / 37 * 100),\n",
       "        beside = FALSE,\n",
       "        width = c(465, 840, 37),\n",
       "        col = c(1, 2),\n",
       "        legend.text = c(\"A\", \"B\"),\n",
       "        args.legend = list(x = \"topleft\"))\n",
       "</pre>\n",
       "\n",
       "<hr /><div style=\"text-align: center;\">[Package <em>graphics</em> version 4.1.2 ]</div>"
      ],
      "text/latex": [
       "\\inputencoding{utf8}\n",
       "\\HeaderA{barplot}{Bar Plots}{barplot}\n",
       "\\methaliasA{barplot.default}{barplot}{barplot.default}\n",
       "\\methaliasA{barplot.formula}{barplot}{barplot.formula}\n",
       "\\keyword{hplot}{barplot}\n",
       "%\n",
       "\\begin{Description}\\relax\n",
       "Creates a bar plot with vertical or horizontal bars.\n",
       "\\end{Description}\n",
       "%\n",
       "\\begin{Usage}\n",
       "\\begin{verbatim}\n",
       "barplot(height, ...)\n",
       "\n",
       "## Default S3 method:\n",
       "barplot(height, width = 1, space = NULL,\n",
       "        names.arg = NULL, legend.text = NULL, beside = FALSE,\n",
       "        horiz = FALSE, density = NULL, angle = 45,\n",
       "        col = NULL, border = par(\"fg\"),\n",
       "        main = NULL, sub = NULL, xlab = NULL, ylab = NULL,\n",
       "        xlim = NULL, ylim = NULL, xpd = TRUE, log = \"\",\n",
       "        axes = TRUE, axisnames = TRUE,\n",
       "        cex.axis = par(\"cex.axis\"), cex.names = par(\"cex.axis\"),\n",
       "        inside = TRUE, plot = TRUE, axis.lty = 0, offset = 0,\n",
       "        add = FALSE, ann = !add && par(\"ann\"), args.legend = NULL, ...)\n",
       "\n",
       "## S3 method for class 'formula'\n",
       "barplot(formula, data, subset, na.action,\n",
       "        horiz = FALSE, xlab = NULL, ylab = NULL, ...)\n",
       "\\end{verbatim}\n",
       "\\end{Usage}\n",
       "%\n",
       "\\begin{Arguments}\n",
       "\\begin{ldescription}\n",
       "\\item[\\code{height}] either a vector or matrix of values describing the\n",
       "bars which make up the plot.  If \\code{height} is a vector, the\n",
       "plot consists of a sequence of rectangular bars with heights\n",
       "given by the values in the vector.  If \\code{height} is a matrix\n",
       "and \\code{beside} is \\code{FALSE} then each bar of the plot\n",
       "corresponds to a column of \\code{height}, with the values in the\n",
       "column giving the heights of stacked sub-bars making up the\n",
       "bar.  If \\code{height} is a matrix and \\code{beside} is\n",
       "\\code{TRUE}, then the values in each column are juxtaposed\n",
       "rather than stacked.\n",
       "\\item[\\code{width}] optional vector of bar widths. Re-cycled to length the\n",
       "number of bars drawn.  Specifying a single value will have no\n",
       "visible effect unless \\code{xlim} is specified.\n",
       "\\item[\\code{space}] the amount of space (as a fraction of the average bar\n",
       "width) left before each bar.  May be given as a single number or\n",
       "one number per bar.  If \\code{height} is a matrix and\n",
       "\\code{beside} is \\code{TRUE}, \\code{space} may be specified by\n",
       "two numbers, where the first is the space between bars in the\n",
       "same group, and the second the space between the groups.  If not\n",
       "given explicitly, it defaults to \\code{c(0,1)} if \\code{height}\n",
       "is a matrix and \\code{beside} is \\code{TRUE}, and to 0.2\n",
       "otherwise.\n",
       "\\item[\\code{names.arg}] a vector of names to be plotted below each bar or\n",
       "group of bars.  If this argument is omitted, then the names are\n",
       "taken from the \\code{names} attribute of \\code{height} if this\n",
       "is a vector, or the column names if it is a matrix.\n",
       "\\item[\\code{legend.text}] a vector of text used to construct a legend for\n",
       "the plot, or a logical indicating whether a legend should be\n",
       "included.  This is only useful when \\code{height} is a matrix.\n",
       "In that case given legend labels should correspond to the rows of\n",
       "\\code{height}; if \\code{legend.text} is true, the row names of\n",
       "\\code{height} will be used as labels if they are non-null.\n",
       "\\item[\\code{beside}] a logical value.  If \\code{FALSE}, the columns of\n",
       "\\code{height} are portrayed as stacked bars, and if \\code{TRUE}\n",
       "the columns are portrayed as juxtaposed bars.\n",
       "\\item[\\code{horiz}] a logical value.  If \\code{FALSE}, the bars are drawn\n",
       "vertically with the first bar to the left.  If \\code{TRUE}, the\n",
       "bars are drawn horizontally with the first at the bottom.\n",
       "\\item[\\code{density}] a vector giving the density of shading lines, in\n",
       "lines per inch, for the bars or bar components.\n",
       "The default value of \\code{NULL} means that no shading lines\n",
       "are drawn. Non-positive values of \\code{density} also inhibit the\n",
       "drawing of shading lines.\n",
       "\\item[\\code{angle}] the slope of shading lines, given as an angle in\n",
       "degrees (counter-clockwise), for the bars or bar components.\n",
       "\\item[\\code{col}] a vector of colors for the bars or bar components.\n",
       "By default, grey is used if \\code{height} is a vector, and a\n",
       "gamma-corrected grey palette if \\code{height} is a matrix.\n",
       "\\item[\\code{border}] the color to be used for the border of the bars.\n",
       "Use \\code{border = NA} to omit borders.  If there are shading\n",
       "lines, \\code{border = TRUE} means use the same colour for\n",
       "the border as for the shading lines.\n",
       "\\item[\\code{main,sub}] overall and sub title for the plot.\n",
       "\\item[\\code{xlab}] a label for the x axis.\n",
       "\\item[\\code{ylab}] a label for the y axis.\n",
       "\\item[\\code{xlim}] limits for the x axis.\n",
       "\\item[\\code{ylim}] limits for the y axis.\n",
       "\\item[\\code{xpd}] logical. Should bars be allowed to go outside region?\n",
       "\\item[\\code{log}] string specifying if axis scales should be logarithmic; see\n",
       "\\code{\\LinkA{plot.default}{plot.default}}.\n",
       "\\item[\\code{axes}] logical.  If \\code{TRUE}, a vertical (or horizontal, if\n",
       "\\code{horiz} is true) axis is drawn.\n",
       "\\item[\\code{axisnames}] logical.  If \\code{TRUE}, and if there are\n",
       "\\code{names.arg} (see above), the\n",
       "other axis is drawn (with \\code{lty = 0}) and labeled.\n",
       "\\item[\\code{cex.axis}] expansion factor for numeric axis labels (see\n",
       "\\code{\\LinkA{par}{par}('cex')}).\n",
       "\\item[\\code{cex.names}] expansion factor for axis names (bar labels).\n",
       "\\item[\\code{inside}] logical.  If \\code{TRUE}, the lines which divide\n",
       "adjacent (non-stacked!) bars will be drawn.  Only applies when\n",
       "\\code{space = 0} (which it partly is when \\code{beside = TRUE}).\n",
       "\n",
       "\n",
       "\\item[\\code{plot}] logical.  If \\code{FALSE}, nothing is plotted.\n",
       "\\item[\\code{axis.lty}] the graphics parameter \\code{lty} (see\n",
       "\\code{\\LinkA{par}{par}('lty')}) applied to the axis\n",
       "and tick marks of the categorical (default horizontal) axis.  Note\n",
       "that by default the axis is suppressed.\n",
       "\\item[\\code{offset}] a vector indicating how much the bars should be shifted\n",
       "relative to the x axis.\n",
       "\\item[\\code{add}] logical specifying if bars should be added to an already\n",
       "existing plot; defaults to \\code{FALSE}.\n",
       "\\item[\\code{ann}] logical specifying if the default annotation (\\code{main},\n",
       "\\code{sub}, \\code{xlab}, \\code{ylab}) should appear on the plot, see\n",
       "\\code{\\LinkA{title}{title}}.\n",
       "\\item[\\code{args.legend}] list of additional arguments to pass to\n",
       "\\code{\\LinkA{legend}{legend}()}; names of the list are used as argument\n",
       "names.  Only used if \\code{legend.text} is supplied.\n",
       "\\item[\\code{formula}] a formula where the \\code{y} variables are numeric data\n",
       "to plot against the categorical \\code{x} variables.  The formula\n",
       "can have one of three forms:\n",
       "\\begin{alltt}\n",
       "      y ~ x\n",
       "      y ~ x1 + x2\n",
       "      cbind(y1, y2) ~ x\n",
       "    \\end{alltt}\n",
       "\n",
       "(see the examples).\n",
       "\\item[\\code{data}] a data frame (or list) from which the variables in formula\n",
       "should be taken.\n",
       "\\item[\\code{subset}] an optional vector specifying a subset of observations\n",
       "to be used.\n",
       "\\item[\\code{na.action}] a function which indicates what should happen when\n",
       "the data contain \\code{\\LinkA{NA}{NA}} values.  The default is to ignore missing\n",
       "values in the given variables.\n",
       "\\item[\\code{...}] arguments to be passed to/from other methods.  For the\n",
       "default method these can include further arguments (such as\n",
       "\\code{axes}, \\code{asp} and \\code{main}) and\n",
       "\\LinkA{graphical parameters}{graphical parameters} (see \\code{\\LinkA{par}{par}}) which are passed to\n",
       "\\code{\\LinkA{plot.window}{plot.window}()}, \\code{\\LinkA{title}{title}()} and\n",
       "\\code{\\LinkA{axis}{axis}}.\n",
       "\\end{ldescription}\n",
       "\\end{Arguments}\n",
       "%\n",
       "\\begin{Value}\n",
       "A numeric vector (or matrix, when \\code{beside = TRUE}), say\n",
       "\\code{mp}, giving the coordinates of \\emph{all} the bar midpoints\n",
       "drawn, useful for adding to the graph.\n",
       "\n",
       "If \\code{beside} is true, use \\code{colMeans(mp)} for the\n",
       "midpoints of each \\emph{group} of bars, see example.\n",
       "\\end{Value}\n",
       "%\n",
       "\\begin{Author}\\relax\n",
       "R Core, with a contribution by Arni Magnusson.\n",
       "\\end{Author}\n",
       "%\n",
       "\\begin{References}\\relax\n",
       "Becker, R. A., Chambers, J. M. and Wilks, A. R. (1988)\n",
       "\\emph{The New S Language}.\n",
       "Wadsworth \\& Brooks/Cole.\n",
       "\n",
       "Murrell, P. (2005) \\emph{R Graphics}. Chapman \\& Hall/CRC Press.\n",
       "\\end{References}\n",
       "%\n",
       "\\begin{SeeAlso}\\relax\n",
       "\\code{\\LinkA{plot}{plot}(..., type = \"h\")}, \\code{\\LinkA{dotchart}{dotchart}};\n",
       "\\code{\\LinkA{hist}{hist}} for bars of a \\emph{continuous} variable.\n",
       "\\code{\\LinkA{mosaicplot}{mosaicplot}()}, more sophisticated to visualize\n",
       "\\emph{several} categorical variables.\n",
       "\\end{SeeAlso}\n",
       "%\n",
       "\\begin{Examples}\n",
       "\\begin{ExampleCode}\n",
       "# Formula method\n",
       "barplot(GNP ~ Year, data = longley)\n",
       "barplot(cbind(Employed, Unemployed) ~ Year, data = longley)\n",
       "\n",
       "## 3rd form of formula - 2 categories :\n",
       "op <- par(mfrow = 2:1, mgp = c(3,1,0)/2, mar = .1+c(3,3:1))\n",
       "summary(d.Titanic <- as.data.frame(Titanic))\n",
       "barplot(Freq ~ Class + Survived, data = d.Titanic,\n",
       "        subset = Age == \"Adult\" & Sex == \"Male\",\n",
       "        main = \"barplot(Freq ~ Class + Survived, *)\", ylab = \"# {passengers}\", legend.text = TRUE)\n",
       "# Corresponding table :\n",
       "(xt <- xtabs(Freq ~ Survived + Class + Sex, d.Titanic, subset = Age==\"Adult\"))\n",
       "# Alternatively, a mosaic plot :\n",
       "mosaicplot(xt[,,\"Male\"], main = \"mosaicplot(Freq ~ Class + Survived, *)\", color=TRUE)\n",
       "par(op)\n",
       "\n",
       "\n",
       "# Default method\n",
       "require(grDevices) # for colours\n",
       "tN <- table(Ni <- stats::rpois(100, lambda = 5))\n",
       "r <- barplot(tN, col = rainbow(20))\n",
       "#- type = \"h\" plotting *is* 'bar'plot\n",
       "lines(r, tN, type = \"h\", col = \"red\", lwd = 2)\n",
       "\n",
       "barplot(tN, space = 1.5, axisnames = FALSE,\n",
       "        sub = \"barplot(..., space= 1.5, axisnames = FALSE)\")\n",
       "\n",
       "barplot(VADeaths, plot = FALSE)\n",
       "barplot(VADeaths, plot = FALSE, beside = TRUE)\n",
       "\n",
       "mp <- barplot(VADeaths) # default\n",
       "tot <- colMeans(VADeaths)\n",
       "text(mp, tot + 3, format(tot), xpd = TRUE, col = \"blue\")\n",
       "barplot(VADeaths, beside = TRUE,\n",
       "        col = c(\"lightblue\", \"mistyrose\", \"lightcyan\",\n",
       "                \"lavender\", \"cornsilk\"),\n",
       "        legend.text = rownames(VADeaths), ylim = c(0, 100))\n",
       "title(main = \"Death Rates in Virginia\", font.main = 4)\n",
       "\n",
       "hh <- t(VADeaths)[, 5:1]\n",
       "mybarcol <- \"gray20\"\n",
       "mp <- barplot(hh, beside = TRUE,\n",
       "        col = c(\"lightblue\", \"mistyrose\",\n",
       "                \"lightcyan\", \"lavender\"),\n",
       "        legend.text = colnames(VADeaths), ylim = c(0,100),\n",
       "        main = \"Death Rates in Virginia\", font.main = 4,\n",
       "        sub = \"Faked upper 2*sigma error bars\", col.sub = mybarcol,\n",
       "        cex.names = 1.5)\n",
       "segments(mp, hh, mp, hh + 2*sqrt(1000*hh/100), col = mybarcol, lwd = 1.5)\n",
       "stopifnot(dim(mp) == dim(hh))  # corresponding matrices\n",
       "mtext(side = 1, at = colMeans(mp), line = -2,\n",
       "      text = paste(\"Mean\", formatC(colMeans(hh))), col = \"red\")\n",
       "\n",
       "# Bar shading example\n",
       "barplot(VADeaths, angle = 15+10*1:5, density = 20, col = \"black\",\n",
       "        legend.text = rownames(VADeaths))\n",
       "title(main = list(\"Death Rates in Virginia\", font = 4))\n",
       "\n",
       "# Border color\n",
       "barplot(VADeaths, border = \"dark blue\") \n",
       "\n",
       "\n",
       "# Log scales (not much sense here)\n",
       "barplot(tN, col = heat.colors(12), log = \"y\")\n",
       "barplot(tN, col = gray.colors(20), log = \"xy\")\n",
       "\n",
       "# Legend location\n",
       "barplot(height = cbind(x = c(465, 91) / 465 * 100,\n",
       "                       y = c(840, 200) / 840 * 100,\n",
       "                       z = c(37, 17) / 37 * 100),\n",
       "        beside = FALSE,\n",
       "        width = c(465, 840, 37),\n",
       "        col = c(1, 2),\n",
       "        legend.text = c(\"A\", \"B\"),\n",
       "        args.legend = list(x = \"topleft\"))\n",
       "\\end{ExampleCode}\n",
       "\\end{Examples}"
      ],
      "text/plain": [
       "barplot                package:graphics                R Documentation\n",
       "\n",
       "_\bB_\ba_\br _\bP_\bl_\bo_\bt_\bs\n",
       "\n",
       "_\bD_\be_\bs_\bc_\br_\bi_\bp_\bt_\bi_\bo_\bn:\n",
       "\n",
       "     Creates a bar plot with vertical or horizontal bars.\n",
       "\n",
       "_\bU_\bs_\ba_\bg_\be:\n",
       "\n",
       "     barplot(height, ...)\n",
       "     \n",
       "     ## Default S3 method:\n",
       "     barplot(height, width = 1, space = NULL,\n",
       "             names.arg = NULL, legend.text = NULL, beside = FALSE,\n",
       "             horiz = FALSE, density = NULL, angle = 45,\n",
       "             col = NULL, border = par(\"fg\"),\n",
       "             main = NULL, sub = NULL, xlab = NULL, ylab = NULL,\n",
       "             xlim = NULL, ylim = NULL, xpd = TRUE, log = \"\",\n",
       "             axes = TRUE, axisnames = TRUE,\n",
       "             cex.axis = par(\"cex.axis\"), cex.names = par(\"cex.axis\"),\n",
       "             inside = TRUE, plot = TRUE, axis.lty = 0, offset = 0,\n",
       "             add = FALSE, ann = !add && par(\"ann\"), args.legend = NULL, ...)\n",
       "     \n",
       "     ## S3 method for class 'formula'\n",
       "     barplot(formula, data, subset, na.action,\n",
       "             horiz = FALSE, xlab = NULL, ylab = NULL, ...)\n",
       "     \n",
       "_\bA_\br_\bg_\bu_\bm_\be_\bn_\bt_\bs:\n",
       "\n",
       "  height: either a vector or matrix of values describing the bars which\n",
       "          make up the plot.  If 'height' is a vector, the plot consists\n",
       "          of a sequence of rectangular bars with heights given by the\n",
       "          values in the vector.  If 'height' is a matrix and 'beside'\n",
       "          is 'FALSE' then each bar of the plot corresponds to a column\n",
       "          of 'height', with the values in the column giving the heights\n",
       "          of stacked sub-bars making up the bar.  If 'height' is a\n",
       "          matrix and 'beside' is 'TRUE', then the values in each column\n",
       "          are juxtaposed rather than stacked.\n",
       "\n",
       "   width: optional vector of bar widths. Re-cycled to length the number\n",
       "          of bars drawn.  Specifying a single value will have no\n",
       "          visible effect unless 'xlim' is specified.\n",
       "\n",
       "   space: the amount of space (as a fraction of the average bar width)\n",
       "          left before each bar.  May be given as a single number or one\n",
       "          number per bar.  If 'height' is a matrix and 'beside' is\n",
       "          'TRUE', 'space' may be specified by two numbers, where the\n",
       "          first is the space between bars in the same group, and the\n",
       "          second the space between the groups.  If not given\n",
       "          explicitly, it defaults to 'c(0,1)' if 'height' is a matrix\n",
       "          and 'beside' is 'TRUE', and to 0.2 otherwise.\n",
       "\n",
       "names.arg: a vector of names to be plotted below each bar or group of\n",
       "          bars.  If this argument is omitted, then the names are taken\n",
       "          from the 'names' attribute of 'height' if this is a vector,\n",
       "          or the column names if it is a matrix.\n",
       "\n",
       "legend.text: a vector of text used to construct a legend for the plot,\n",
       "          or a logical indicating whether a legend should be included.\n",
       "          This is only useful when 'height' is a matrix.  In that case\n",
       "          given legend labels should correspond to the rows of\n",
       "          'height'; if 'legend.text' is true, the row names of 'height'\n",
       "          will be used as labels if they are non-null.\n",
       "\n",
       "  beside: a logical value.  If 'FALSE', the columns of 'height' are\n",
       "          portrayed as stacked bars, and if 'TRUE' the columns are\n",
       "          portrayed as juxtaposed bars.\n",
       "\n",
       "   horiz: a logical value.  If 'FALSE', the bars are drawn vertically\n",
       "          with the first bar to the left.  If 'TRUE', the bars are\n",
       "          drawn horizontally with the first at the bottom.\n",
       "\n",
       " density: a vector giving the density of shading lines, in lines per\n",
       "          inch, for the bars or bar components.  The default value of\n",
       "          'NULL' means that no shading lines are drawn. Non-positive\n",
       "          values of 'density' also inhibit the drawing of shading\n",
       "          lines.\n",
       "\n",
       "   angle: the slope of shading lines, given as an angle in degrees\n",
       "          (counter-clockwise), for the bars or bar components.\n",
       "\n",
       "     col: a vector of colors for the bars or bar components.  By\n",
       "          default, grey is used if 'height' is a vector, and a\n",
       "          gamma-corrected grey palette if 'height' is a matrix.\n",
       "\n",
       "  border: the color to be used for the border of the bars.  Use 'border\n",
       "          = NA' to omit borders.  If there are shading lines, 'border =\n",
       "          TRUE' means use the same colour for the border as for the\n",
       "          shading lines.\n",
       "\n",
       "main,sub: overall and sub title for the plot.\n",
       "\n",
       "    xlab: a label for the x axis.\n",
       "\n",
       "    ylab: a label for the y axis.\n",
       "\n",
       "    xlim: limits for the x axis.\n",
       "\n",
       "    ylim: limits for the y axis.\n",
       "\n",
       "     xpd: logical. Should bars be allowed to go outside region?\n",
       "\n",
       "     log: string specifying if axis scales should be logarithmic; see\n",
       "          'plot.default'.\n",
       "\n",
       "    axes: logical.  If 'TRUE', a vertical (or horizontal, if 'horiz' is\n",
       "          true) axis is drawn.\n",
       "\n",
       "axisnames: logical.  If 'TRUE', and if there are 'names.arg' (see\n",
       "          above), the other axis is drawn (with 'lty = 0') and labeled.\n",
       "\n",
       "cex.axis: expansion factor for numeric axis labels (see 'par('cex')').\n",
       "\n",
       "cex.names: expansion factor for axis names (bar labels).\n",
       "\n",
       "  inside: logical.  If 'TRUE', the lines which divide adjacent\n",
       "          (non-stacked!) bars will be drawn.  Only applies when 'space\n",
       "          = 0' (which it partly is when 'beside = TRUE').\n",
       "\n",
       "    plot: logical.  If 'FALSE', nothing is plotted.\n",
       "\n",
       "axis.lty: the graphics parameter 'lty' (see 'par('lty')') applied to\n",
       "          the axis and tick marks of the categorical (default\n",
       "          horizontal) axis.  Note that by default the axis is\n",
       "          suppressed.\n",
       "\n",
       "  offset: a vector indicating how much the bars should be shifted\n",
       "          relative to the x axis.\n",
       "\n",
       "     add: logical specifying if bars should be added to an already\n",
       "          existing plot; defaults to 'FALSE'.\n",
       "\n",
       "     ann: logical specifying if the default annotation ('main', 'sub',\n",
       "          'xlab', 'ylab') should appear on the plot, see 'title'.\n",
       "\n",
       "args.legend: list of additional arguments to pass to 'legend()'; names\n",
       "          of the list are used as argument names.  Only used if\n",
       "          'legend.text' is supplied.\n",
       "\n",
       " formula: a formula where the 'y' variables are numeric data to plot\n",
       "          against the categorical 'x' variables.  The formula can have\n",
       "          one of three forms:\n",
       "\n",
       "                y ~ x\n",
       "                y ~ x1 + x2\n",
       "                cbind(y1, y2) ~ x\n",
       "          \n",
       "          (see the examples).\n",
       "\n",
       "    data: a data frame (or list) from which the variables in formula\n",
       "          should be taken.\n",
       "\n",
       "  subset: an optional vector specifying a subset of observations to be\n",
       "          used.\n",
       "\n",
       "na.action: a function which indicates what should happen when the data\n",
       "          contain 'NA' values.  The default is to ignore missing values\n",
       "          in the given variables.\n",
       "\n",
       "     ...: arguments to be passed to/from other methods.  For the\n",
       "          default method these can include further arguments (such as\n",
       "          'axes', 'asp' and 'main') and graphical parameters (see\n",
       "          'par') which are passed to 'plot.window()', 'title()' and\n",
       "          'axis'.\n",
       "\n",
       "_\bV_\ba_\bl_\bu_\be:\n",
       "\n",
       "     A numeric vector (or matrix, when 'beside = TRUE'), say 'mp',\n",
       "     giving the coordinates of _all_ the bar midpoints drawn, useful\n",
       "     for adding to the graph.\n",
       "\n",
       "     If 'beside' is true, use 'colMeans(mp)' for the midpoints of each\n",
       "     _group_ of bars, see example.\n",
       "\n",
       "_\bA_\bu_\bt_\bh_\bo_\br(_\bs):\n",
       "\n",
       "     R Core, with a contribution by Arni Magnusson.\n",
       "\n",
       "_\bR_\be_\bf_\be_\br_\be_\bn_\bc_\be_\bs:\n",
       "\n",
       "     Becker, R. A., Chambers, J. M. and Wilks, A. R. (1988) _The New S\n",
       "     Language_.  Wadsworth & Brooks/Cole.\n",
       "\n",
       "     Murrell, P. (2005) _R Graphics_. Chapman & Hall/CRC Press.\n",
       "\n",
       "_\bS_\be_\be _\bA_\bl_\bs_\bo:\n",
       "\n",
       "     'plot(..., type = \"h\")', 'dotchart'; 'hist' for bars of a\n",
       "     _continuous_ variable.  'mosaicplot()', more sophisticated to\n",
       "     visualize _several_ categorical variables.\n",
       "\n",
       "_\bE_\bx_\ba_\bm_\bp_\bl_\be_\bs:\n",
       "\n",
       "     # Formula method\n",
       "     barplot(GNP ~ Year, data = longley)\n",
       "     barplot(cbind(Employed, Unemployed) ~ Year, data = longley)\n",
       "     \n",
       "     ## 3rd form of formula - 2 categories :\n",
       "     op <- par(mfrow = 2:1, mgp = c(3,1,0)/2, mar = .1+c(3,3:1))\n",
       "     summary(d.Titanic <- as.data.frame(Titanic))\n",
       "     barplot(Freq ~ Class + Survived, data = d.Titanic,\n",
       "             subset = Age == \"Adult\" & Sex == \"Male\",\n",
       "             main = \"barplot(Freq ~ Class + Survived, *)\", ylab = \"# {passengers}\", legend.text = TRUE)\n",
       "     # Corresponding table :\n",
       "     (xt <- xtabs(Freq ~ Survived + Class + Sex, d.Titanic, subset = Age==\"Adult\"))\n",
       "     # Alternatively, a mosaic plot :\n",
       "     mosaicplot(xt[,,\"Male\"], main = \"mosaicplot(Freq ~ Class + Survived, *)\", color=TRUE)\n",
       "     par(op)\n",
       "     \n",
       "     \n",
       "     # Default method\n",
       "     require(grDevices) # for colours\n",
       "     tN <- table(Ni <- stats::rpois(100, lambda = 5))\n",
       "     r <- barplot(tN, col = rainbow(20))\n",
       "     #- type = \"h\" plotting *is* 'bar'plot\n",
       "     lines(r, tN, type = \"h\", col = \"red\", lwd = 2)\n",
       "     \n",
       "     barplot(tN, space = 1.5, axisnames = FALSE,\n",
       "             sub = \"barplot(..., space= 1.5, axisnames = FALSE)\")\n",
       "     \n",
       "     barplot(VADeaths, plot = FALSE)\n",
       "     barplot(VADeaths, plot = FALSE, beside = TRUE)\n",
       "     \n",
       "     mp <- barplot(VADeaths) # default\n",
       "     tot <- colMeans(VADeaths)\n",
       "     text(mp, tot + 3, format(tot), xpd = TRUE, col = \"blue\")\n",
       "     barplot(VADeaths, beside = TRUE,\n",
       "             col = c(\"lightblue\", \"mistyrose\", \"lightcyan\",\n",
       "                     \"lavender\", \"cornsilk\"),\n",
       "             legend.text = rownames(VADeaths), ylim = c(0, 100))\n",
       "     title(main = \"Death Rates in Virginia\", font.main = 4)\n",
       "     \n",
       "     hh <- t(VADeaths)[, 5:1]\n",
       "     mybarcol <- \"gray20\"\n",
       "     mp <- barplot(hh, beside = TRUE,\n",
       "             col = c(\"lightblue\", \"mistyrose\",\n",
       "                     \"lightcyan\", \"lavender\"),\n",
       "             legend.text = colnames(VADeaths), ylim = c(0,100),\n",
       "             main = \"Death Rates in Virginia\", font.main = 4,\n",
       "             sub = \"Faked upper 2*sigma error bars\", col.sub = mybarcol,\n",
       "             cex.names = 1.5)\n",
       "     segments(mp, hh, mp, hh + 2*sqrt(1000*hh/100), col = mybarcol, lwd = 1.5)\n",
       "     stopifnot(dim(mp) == dim(hh))  # corresponding matrices\n",
       "     mtext(side = 1, at = colMeans(mp), line = -2,\n",
       "           text = paste(\"Mean\", formatC(colMeans(hh))), col = \"red\")\n",
       "     \n",
       "     # Bar shading example\n",
       "     barplot(VADeaths, angle = 15+10*1:5, density = 20, col = \"black\",\n",
       "             legend.text = rownames(VADeaths))\n",
       "     title(main = list(\"Death Rates in Virginia\", font = 4))\n",
       "     \n",
       "     # Border color\n",
       "     barplot(VADeaths, border = \"dark blue\") \n",
       "     \n",
       "     \n",
       "     # Log scales (not much sense here)\n",
       "     barplot(tN, col = heat.colors(12), log = \"y\")\n",
       "     barplot(tN, col = gray.colors(20), log = \"xy\")\n",
       "     \n",
       "     # Legend location\n",
       "     barplot(height = cbind(x = c(465, 91) / 465 * 100,\n",
       "                            y = c(840, 200) / 840 * 100,\n",
       "                            z = c(37, 17) / 37 * 100),\n",
       "             beside = FALSE,\n",
       "             width = c(465, 840, 37),\n",
       "             col = c(1, 2),\n",
       "             legend.text = c(\"A\", \"B\"),\n",
       "             args.legend = list(x = \"topleft\"))\n",
       "     "
      ]
     },
     "metadata": {},
     "output_type": "display_data"
    }
   ],
   "source": [
    "redplot=function(inputs, col=\"red\", ...){\n",
    "   barplot(inputs, col=col, ...)\n",
    "}\n",
    "\n",
    "x=1:5\n",
    "redplot(x, sub=\"this is a test\")\n",
    "?barplot"
   ]
  },
  {
   "cell_type": "code",
   "execution_count": 18,
   "metadata": {
    "scrolled": true
   },
   "outputs": [
    {
     "data": {
      "text/html": [
       "<pre class=language-r><code>function (..., sep = \" \", collapse = NULL, recycle0 = FALSE) \n",
       "NULL</code></pre>"
      ],
      "text/latex": [
       "\\begin{minted}{r}\n",
       "function (..., sep = \" \", collapse = NULL, recycle0 = FALSE) \n",
       "NULL\n",
       "\\end{minted}"
      ],
      "text/markdown": [
       "```r\n",
       "function (..., sep = \" \", collapse = NULL, recycle0 = FALSE) \n",
       "NULL\n",
       "```"
      ],
      "text/plain": [
       "function (..., sep = \" \", collapse = NULL, recycle0 = FALSE) \n",
       "NULL"
      ]
     },
     "metadata": {},
     "output_type": "display_data"
    },
    {
     "data": {
      "text/html": [
       "'1::2::3'"
      ],
      "text/latex": [
       "'1::2::3'"
      ],
      "text/markdown": [
       "'1::2::3'"
      ],
      "text/plain": [
       "[1] \"1::2::3\""
      ]
     },
     "metadata": {},
     "output_type": "display_data"
    }
   ],
   "source": [
    "args(paste)\n",
    "x=1\n",
    "y=2\n",
    "z=3\n",
    "paste(x, y, z, sep=\"::\")\n",
    "# paste(\"a\", \"b\", sep=\"+\")\n",
    "# paste(\"a\", \"b\", \"c\", \"d\", se=\"+\")"
   ]
  },
  {
   "cell_type": "code",
   "execution_count": 19,
   "metadata": {},
   "outputs": [
    {
     "data": {
      "text/html": [
       "465"
      ],
      "text/latex": [
       "465"
      ],
      "text/markdown": [
       "465"
      ],
      "text/plain": [
       "[1] 465"
      ]
     },
     "metadata": {},
     "output_type": "display_data"
    }
   ],
   "source": [
    "recursivesum = function(num){\n",
    "    if (num==1){\n",
    "        1\n",
    "        }else{\n",
    "        recursivesum(num-1)+num\n",
    "    }\n",
    "    \n",
    "}\n",
    "\n",
    "recursivesum(30) # 30+29+28+...+2+1"
   ]
  },
  {
   "cell_type": "code",
   "execution_count": 20,
   "metadata": {},
   "outputs": [
    {
     "data": {
      "text/html": [
       "<pre class=language-r><code>.Primitive(\"sum\")</code></pre>"
      ],
      "text/latex": [
       "\\begin{minted}{r}\n",
       ".Primitive(\"sum\")\n",
       "\\end{minted}"
      ],
      "text/markdown": [
       "```r\n",
       ".Primitive(\"sum\")\n",
       "```"
      ],
      "text/plain": [
       "function (..., na.rm = FALSE)  .Primitive(\"sum\")"
      ]
     },
     "metadata": {},
     "output_type": "display_data"
    }
   ],
   "source": [
    "sum"
   ]
  },
  {
   "cell_type": "code",
   "execution_count": 21,
   "metadata": {
    "scrolled": true
   },
   "outputs": [
    {
     "data": {
      "text/html": [
       "2"
      ],
      "text/latex": [
       "2"
      ],
      "text/markdown": [
       "2"
      ],
      "text/plain": [
       "[1] 2"
      ]
     },
     "metadata": {},
     "output_type": "display_data"
    },
    {
     "data": {
      "text/html": [
       "2.70833333333333"
      ],
      "text/latex": [
       "2.70833333333333"
      ],
      "text/markdown": [
       "2.70833333333333"
      ],
      "text/plain": [
       "[1] 2.708333"
      ]
     },
     "metadata": {},
     "output_type": "display_data"
    },
    {
     "data": {
      "text/html": [
       "2.71828152557319"
      ],
      "text/latex": [
       "2.71828152557319"
      ],
      "text/markdown": [
       "2.71828152557319"
      ],
      "text/plain": [
       "[1] 2.718282"
      ]
     },
     "metadata": {},
     "output_type": "display_data"
    },
    {
     "data": {
      "text/html": [
       "2.71828182845905"
      ],
      "text/latex": [
       "2.71828182845905"
      ],
      "text/markdown": [
       "2.71828182845905"
      ],
      "text/plain": [
       "[1] 2.718282"
      ]
     },
     "metadata": {},
     "output_type": "display_data"
    }
   ],
   "source": [
    "# use for loop to compute e\n",
    "# e = 1/0! + 1/1! + 1/2! + 1/3! +  1/4! + ...\n",
    "\n",
    "e <- function(n){\n",
    "    factorial=1\n",
    "    total=1\n",
    "    for (i in seq_len(n)){\n",
    "        factorial = factorial*i\n",
    "        total = total + 1/factorial\n",
    "    }    \n",
    "    total\n",
    "}\n",
    "\n",
    "e(1)\n",
    "e(4)\n",
    "e(9)\n",
    "e(30)"
   ]
  },
  {
   "cell_type": "code",
   "execution_count": 22,
   "metadata": {
    "scrolled": true
   },
   "outputs": [
    {
     "data": {
      "text/html": [
       "<pre class=language-r><code>function (X, MARGIN, FUN, ..., simplify = TRUE) \n",
       "{\n",
       "<span style=white-space:pre-wrap>    FUN &lt;- match.fun(FUN)</span>\n",
       "<span style=white-space:pre-wrap>    simplify &lt;- isTRUE(simplify)</span>\n",
       "<span style=white-space:pre-wrap>    dl &lt;- length(dim(X))</span>\n",
       "<span style=white-space:pre-wrap>    if (!dl) </span>\n",
       "<span style=white-space:pre-wrap>        stop(\"dim(X) must have a positive length\")</span>\n",
       "<span style=white-space:pre-wrap>    if (is.object(X)) </span>\n",
       "<span style=white-space:pre-wrap>        X &lt;- if (dl == 2L) </span>\n",
       "<span style=white-space:pre-wrap>            as.matrix(X)</span>\n",
       "<span style=white-space:pre-wrap>        else as.array(X)</span>\n",
       "<span style=white-space:pre-wrap>    d &lt;- dim(X)</span>\n",
       "<span style=white-space:pre-wrap>    dn &lt;- dimnames(X)</span>\n",
       "<span style=white-space:pre-wrap>    ds &lt;- seq_len(dl)</span>\n",
       "<span style=white-space:pre-wrap>    if (is.character(MARGIN)) {</span>\n",
       "<span style=white-space:pre-wrap>        if (is.null(dnn &lt;- names(dn))) </span>\n",
       "<span style=white-space:pre-wrap>            stop(\"'X' must have named dimnames\")</span>\n",
       "<span style=white-space:pre-wrap>        MARGIN &lt;- match(MARGIN, dnn)</span>\n",
       "<span style=white-space:pre-wrap>        if (anyNA(MARGIN)) </span>\n",
       "<span style=white-space:pre-wrap>            stop(\"not all elements of 'MARGIN' are names of dimensions\")</span>\n",
       "<span style=white-space:pre-wrap>    }</span>\n",
       "<span style=white-space:pre-wrap>    d.call &lt;- d[-MARGIN]</span>\n",
       "<span style=white-space:pre-wrap>    d.ans &lt;- d[MARGIN]</span>\n",
       "<span style=white-space:pre-wrap>    if (anyNA(d.call) || anyNA(d.ans)) </span>\n",
       "<span style=white-space:pre-wrap>        stop(\"'MARGIN' does not match dim(X)\")</span>\n",
       "<span style=white-space:pre-wrap>    s.call &lt;- ds[-MARGIN]</span>\n",
       "<span style=white-space:pre-wrap>    s.ans &lt;- ds[MARGIN]</span>\n",
       "<span style=white-space:pre-wrap>    dn.call &lt;- dn[-MARGIN]</span>\n",
       "<span style=white-space:pre-wrap>    dn.ans &lt;- dn[MARGIN]</span>\n",
       "<span style=white-space:pre-wrap>    d2 &lt;- prod(d.ans)</span>\n",
       "<span style=white-space:pre-wrap>    if (d2 == 0L) {</span>\n",
       "<span style=white-space:pre-wrap>        newX &lt;- array(vector(typeof(X), 1L), dim = c(prod(d.call), </span>\n",
       "<span style=white-space:pre-wrap>            1L))</span>\n",
       "<span style=white-space:pre-wrap>        ans &lt;- forceAndCall(1, FUN, if (length(d.call) &lt; 2L) newX[, </span>\n",
       "<span style=white-space:pre-wrap>            1] else array(newX[, 1L], d.call, dn.call), ...)</span>\n",
       "<span style=white-space:pre-wrap>        return(if (is.null(ans)) ans else if (length(d.ans) &lt; </span>\n",
       "<span style=white-space:pre-wrap>            2L) ans[1L][-1L] else array(ans, d.ans, dn.ans))</span>\n",
       "<span style=white-space:pre-wrap>    }</span>\n",
       "<span style=white-space:pre-wrap>    newX &lt;- aperm(X, c(s.call, s.ans))</span>\n",
       "<span style=white-space:pre-wrap>    dim(newX) &lt;- c(prod(d.call), d2)</span>\n",
       "<span style=white-space:pre-wrap>    ans &lt;- vector(\"list\", d2)</span>\n",
       "<span style=white-space:pre-wrap>    if (length(d.call) &lt; 2L) {</span>\n",
       "<span style=white-space:pre-wrap>        if (length(dn.call)) </span>\n",
       "<span style=white-space:pre-wrap>            dimnames(newX) &lt;- c(dn.call, list(NULL))</span>\n",
       "<span style=white-space:pre-wrap>        for (i in 1L:d2) {</span>\n",
       "<span style=white-space:pre-wrap>            tmp &lt;- forceAndCall(1, FUN, newX[, i], ...)</span>\n",
       "<span style=white-space:pre-wrap>            if (!is.null(tmp)) </span>\n",
       "<span style=white-space:pre-wrap>                ans[[i]] &lt;- tmp</span>\n",
       "<span style=white-space:pre-wrap>        }</span>\n",
       "<span style=white-space:pre-wrap>    }</span>\n",
       "<span style=white-space:pre-wrap>    else for (i in 1L:d2) {</span>\n",
       "<span style=white-space:pre-wrap>        tmp &lt;- forceAndCall(1, FUN, array(newX[, i], d.call, </span>\n",
       "<span style=white-space:pre-wrap>            dn.call), ...)</span>\n",
       "<span style=white-space:pre-wrap>        if (!is.null(tmp)) </span>\n",
       "<span style=white-space:pre-wrap>            ans[[i]] &lt;- tmp</span>\n",
       "<span style=white-space:pre-wrap>    }</span>\n",
       "<span style=white-space:pre-wrap>    ans.list &lt;- !simplify || is.recursive(ans[[1L]])</span>\n",
       "<span style=white-space:pre-wrap>    l.ans &lt;- length(ans[[1L]])</span>\n",
       "<span style=white-space:pre-wrap>    ans.names &lt;- names(ans[[1L]])</span>\n",
       "<span style=white-space:pre-wrap>    if (!ans.list) </span>\n",
       "<span style=white-space:pre-wrap>        ans.list &lt;- any(lengths(ans) != l.ans)</span>\n",
       "<span style=white-space:pre-wrap>    if (!ans.list &amp;&amp; length(ans.names)) {</span>\n",
       "<span style=white-space:pre-wrap>        all.same &lt;- vapply(ans, function(x) identical(names(x), </span>\n",
       "<span style=white-space:pre-wrap>            ans.names), NA)</span>\n",
       "<span style=white-space:pre-wrap>        if (!all(all.same)) </span>\n",
       "<span style=white-space:pre-wrap>            ans.names &lt;- NULL</span>\n",
       "<span style=white-space:pre-wrap>    }</span>\n",
       "<span style=white-space:pre-wrap>    len.a &lt;- if (ans.list) </span>\n",
       "<span style=white-space:pre-wrap>        d2</span>\n",
       "<span style=white-space:pre-wrap>    else length(ans &lt;- unlist(ans, recursive = FALSE))</span>\n",
       "<span style=white-space:pre-wrap>    if (length(MARGIN) == 1L &amp;&amp; len.a == d2) {</span>\n",
       "<span style=white-space:pre-wrap>        names(ans) &lt;- if (length(dn.ans[[1L]])) </span>\n",
       "<span style=white-space:pre-wrap>            dn.ans[[1L]]</span>\n",
       "<span style=white-space:pre-wrap>        ans</span>\n",
       "<span style=white-space:pre-wrap>    }</span>\n",
       "<span style=white-space:pre-wrap>    else if (len.a == d2) </span>\n",
       "<span style=white-space:pre-wrap>        array(ans, d.ans, dn.ans)</span>\n",
       "<span style=white-space:pre-wrap>    else if (len.a &amp;&amp; len.a%%d2 == 0L) {</span>\n",
       "<span style=white-space:pre-wrap>        if (is.null(dn.ans)) </span>\n",
       "<span style=white-space:pre-wrap>            dn.ans &lt;- vector(mode = \"list\", length(d.ans))</span>\n",
       "<span style=white-space:pre-wrap>        dn1 &lt;- list(ans.names)</span>\n",
       "<span style=white-space:pre-wrap>        if (length(dn.call) &amp;&amp; !is.null(n1 &lt;- names(dn &lt;- dn.call[1])) &amp;&amp; </span>\n",
       "<span style=white-space:pre-wrap>            nzchar(n1) &amp;&amp; length(ans.names) == length(dn[[1]])) </span>\n",
       "<span style=white-space:pre-wrap>            names(dn1) &lt;- n1</span>\n",
       "<span style=white-space:pre-wrap>        dn.ans &lt;- c(dn1, dn.ans)</span>\n",
       "<span style=white-space:pre-wrap>        array(ans, c(len.a%/%d2, d.ans), if (!is.null(names(dn.ans)) || </span>\n",
       "<span style=white-space:pre-wrap>            !all(vapply(dn.ans, is.null, NA))) </span>\n",
       "<span style=white-space:pre-wrap>            dn.ans)</span>\n",
       "<span style=white-space:pre-wrap>    }</span>\n",
       "<span style=white-space:pre-wrap>    else ans</span>\n",
       "}</code></pre>"
      ],
      "text/latex": [
       "\\begin{minted}{r}\n",
       "function (X, MARGIN, FUN, ..., simplify = TRUE) \n",
       "\\{\n",
       "    FUN <- match.fun(FUN)\n",
       "    simplify <- isTRUE(simplify)\n",
       "    dl <- length(dim(X))\n",
       "    if (!dl) \n",
       "        stop(\"dim(X) must have a positive length\")\n",
       "    if (is.object(X)) \n",
       "        X <- if (dl == 2L) \n",
       "            as.matrix(X)\n",
       "        else as.array(X)\n",
       "    d <- dim(X)\n",
       "    dn <- dimnames(X)\n",
       "    ds <- seq\\_len(dl)\n",
       "    if (is.character(MARGIN)) \\{\n",
       "        if (is.null(dnn <- names(dn))) \n",
       "            stop(\"'X' must have named dimnames\")\n",
       "        MARGIN <- match(MARGIN, dnn)\n",
       "        if (anyNA(MARGIN)) \n",
       "            stop(\"not all elements of 'MARGIN' are names of dimensions\")\n",
       "    \\}\n",
       "    d.call <- d{[}-MARGIN{]}\n",
       "    d.ans <- d{[}MARGIN{]}\n",
       "    if (anyNA(d.call) \\textbar{}\\textbar{} anyNA(d.ans)) \n",
       "        stop(\"'MARGIN' does not match dim(X)\")\n",
       "    s.call <- ds{[}-MARGIN{]}\n",
       "    s.ans <- ds{[}MARGIN{]}\n",
       "    dn.call <- dn{[}-MARGIN{]}\n",
       "    dn.ans <- dn{[}MARGIN{]}\n",
       "    d2 <- prod(d.ans)\n",
       "    if (d2 == 0L) \\{\n",
       "        newX <- array(vector(typeof(X), 1L), dim = c(prod(d.call), \n",
       "            1L))\n",
       "        ans <- forceAndCall(1, FUN, if (length(d.call) < 2L) newX{[}, \n",
       "            1{]} else array(newX{[}, 1L{]}, d.call, dn.call), ...)\n",
       "        return(if (is.null(ans)) ans else if (length(d.ans) < \n",
       "            2L) ans{[}1L{]}{[}-1L{]} else array(ans, d.ans, dn.ans))\n",
       "    \\}\n",
       "    newX <- aperm(X, c(s.call, s.ans))\n",
       "    dim(newX) <- c(prod(d.call), d2)\n",
       "    ans <- vector(\"list\", d2)\n",
       "    if (length(d.call) < 2L) \\{\n",
       "        if (length(dn.call)) \n",
       "            dimnames(newX) <- c(dn.call, list(NULL))\n",
       "        for (i in 1L:d2) \\{\n",
       "            tmp <- forceAndCall(1, FUN, newX{[}, i{]}, ...)\n",
       "            if (!is.null(tmp)) \n",
       "                ans{[}{[}i{]}{]} <- tmp\n",
       "        \\}\n",
       "    \\}\n",
       "    else for (i in 1L:d2) \\{\n",
       "        tmp <- forceAndCall(1, FUN, array(newX{[}, i{]}, d.call, \n",
       "            dn.call), ...)\n",
       "        if (!is.null(tmp)) \n",
       "            ans{[}{[}i{]}{]} <- tmp\n",
       "    \\}\n",
       "    ans.list <- !simplify \\textbar{}\\textbar{} is.recursive(ans{[}{[}1L{]}{]})\n",
       "    l.ans <- length(ans{[}{[}1L{]}{]})\n",
       "    ans.names <- names(ans{[}{[}1L{]}{]})\n",
       "    if (!ans.list) \n",
       "        ans.list <- any(lengths(ans) != l.ans)\n",
       "    if (!ans.list \\&\\& length(ans.names)) \\{\n",
       "        all.same <- vapply(ans, function(x) identical(names(x), \n",
       "            ans.names), NA)\n",
       "        if (!all(all.same)) \n",
       "            ans.names <- NULL\n",
       "    \\}\n",
       "    len.a <- if (ans.list) \n",
       "        d2\n",
       "    else length(ans <- unlist(ans, recursive = FALSE))\n",
       "    if (length(MARGIN) == 1L \\&\\& len.a == d2) \\{\n",
       "        names(ans) <- if (length(dn.ans{[}{[}1L{]}{]})) \n",
       "            dn.ans{[}{[}1L{]}{]}\n",
       "        ans\n",
       "    \\}\n",
       "    else if (len.a == d2) \n",
       "        array(ans, d.ans, dn.ans)\n",
       "    else if (len.a \\&\\& len.a\\%\\%d2 == 0L) \\{\n",
       "        if (is.null(dn.ans)) \n",
       "            dn.ans <- vector(mode = \"list\", length(d.ans))\n",
       "        dn1 <- list(ans.names)\n",
       "        if (length(dn.call) \\&\\& !is.null(n1 <- names(dn <- dn.call{[}1{]})) \\&\\& \n",
       "            nzchar(n1) \\&\\& length(ans.names) == length(dn{[}{[}1{]}{]})) \n",
       "            names(dn1) <- n1\n",
       "        dn.ans <- c(dn1, dn.ans)\n",
       "        array(ans, c(len.a\\%/\\%d2, d.ans), if (!is.null(names(dn.ans)) \\textbar{}\\textbar{} \n",
       "            !all(vapply(dn.ans, is.null, NA))) \n",
       "            dn.ans)\n",
       "    \\}\n",
       "    else ans\n",
       "\\}\n",
       "\\end{minted}"
      ],
      "text/markdown": [
       "```r\n",
       "function (X, MARGIN, FUN, ..., simplify = TRUE) \n",
       "{\n",
       "    FUN <- match.fun(FUN)\n",
       "    simplify <- isTRUE(simplify)\n",
       "    dl <- length(dim(X))\n",
       "    if (!dl) \n",
       "        stop(\"dim(X) must have a positive length\")\n",
       "    if (is.object(X)) \n",
       "        X <- if (dl == 2L) \n",
       "            as.matrix(X)\n",
       "        else as.array(X)\n",
       "    d <- dim(X)\n",
       "    dn <- dimnames(X)\n",
       "    ds <- seq_len(dl)\n",
       "    if (is.character(MARGIN)) {\n",
       "        if (is.null(dnn <- names(dn))) \n",
       "            stop(\"'X' must have named dimnames\")\n",
       "        MARGIN <- match(MARGIN, dnn)\n",
       "        if (anyNA(MARGIN)) \n",
       "            stop(\"not all elements of 'MARGIN' are names of dimensions\")\n",
       "    }\n",
       "    d.call <- d[-MARGIN]\n",
       "    d.ans <- d[MARGIN]\n",
       "    if (anyNA(d.call) || anyNA(d.ans)) \n",
       "        stop(\"'MARGIN' does not match dim(X)\")\n",
       "    s.call <- ds[-MARGIN]\n",
       "    s.ans <- ds[MARGIN]\n",
       "    dn.call <- dn[-MARGIN]\n",
       "    dn.ans <- dn[MARGIN]\n",
       "    d2 <- prod(d.ans)\n",
       "    if (d2 == 0L) {\n",
       "        newX <- array(vector(typeof(X), 1L), dim = c(prod(d.call), \n",
       "            1L))\n",
       "        ans <- forceAndCall(1, FUN, if (length(d.call) < 2L) newX[, \n",
       "            1] else array(newX[, 1L], d.call, dn.call), ...)\n",
       "        return(if (is.null(ans)) ans else if (length(d.ans) < \n",
       "            2L) ans[1L][-1L] else array(ans, d.ans, dn.ans))\n",
       "    }\n",
       "    newX <- aperm(X, c(s.call, s.ans))\n",
       "    dim(newX) <- c(prod(d.call), d2)\n",
       "    ans <- vector(\"list\", d2)\n",
       "    if (length(d.call) < 2L) {\n",
       "        if (length(dn.call)) \n",
       "            dimnames(newX) <- c(dn.call, list(NULL))\n",
       "        for (i in 1L:d2) {\n",
       "            tmp <- forceAndCall(1, FUN, newX[, i], ...)\n",
       "            if (!is.null(tmp)) \n",
       "                ans[[i]] <- tmp\n",
       "        }\n",
       "    }\n",
       "    else for (i in 1L:d2) {\n",
       "        tmp <- forceAndCall(1, FUN, array(newX[, i], d.call, \n",
       "            dn.call), ...)\n",
       "        if (!is.null(tmp)) \n",
       "            ans[[i]] <- tmp\n",
       "    }\n",
       "    ans.list <- !simplify || is.recursive(ans[[1L]])\n",
       "    l.ans <- length(ans[[1L]])\n",
       "    ans.names <- names(ans[[1L]])\n",
       "    if (!ans.list) \n",
       "        ans.list <- any(lengths(ans) != l.ans)\n",
       "    if (!ans.list && length(ans.names)) {\n",
       "        all.same <- vapply(ans, function(x) identical(names(x), \n",
       "            ans.names), NA)\n",
       "        if (!all(all.same)) \n",
       "            ans.names <- NULL\n",
       "    }\n",
       "    len.a <- if (ans.list) \n",
       "        d2\n",
       "    else length(ans <- unlist(ans, recursive = FALSE))\n",
       "    if (length(MARGIN) == 1L && len.a == d2) {\n",
       "        names(ans) <- if (length(dn.ans[[1L]])) \n",
       "            dn.ans[[1L]]\n",
       "        ans\n",
       "    }\n",
       "    else if (len.a == d2) \n",
       "        array(ans, d.ans, dn.ans)\n",
       "    else if (len.a && len.a%%d2 == 0L) {\n",
       "        if (is.null(dn.ans)) \n",
       "            dn.ans <- vector(mode = \"list\", length(d.ans))\n",
       "        dn1 <- list(ans.names)\n",
       "        if (length(dn.call) && !is.null(n1 <- names(dn <- dn.call[1])) && \n",
       "            nzchar(n1) && length(ans.names) == length(dn[[1]])) \n",
       "            names(dn1) <- n1\n",
       "        dn.ans <- c(dn1, dn.ans)\n",
       "        array(ans, c(len.a%/%d2, d.ans), if (!is.null(names(dn.ans)) || \n",
       "            !all(vapply(dn.ans, is.null, NA))) \n",
       "            dn.ans)\n",
       "    }\n",
       "    else ans\n",
       "}\n",
       "```"
      ],
      "text/plain": [
       "function (X, MARGIN, FUN, ..., simplify = TRUE) \n",
       "{\n",
       "    FUN <- match.fun(FUN)\n",
       "    simplify <- isTRUE(simplify)\n",
       "    dl <- length(dim(X))\n",
       "    if (!dl) \n",
       "        stop(\"dim(X) must have a positive length\")\n",
       "    if (is.object(X)) \n",
       "        X <- if (dl == 2L) \n",
       "            as.matrix(X)\n",
       "        else as.array(X)\n",
       "    d <- dim(X)\n",
       "    dn <- dimnames(X)\n",
       "    ds <- seq_len(dl)\n",
       "    if (is.character(MARGIN)) {\n",
       "        if (is.null(dnn <- names(dn))) \n",
       "            stop(\"'X' must have named dimnames\")\n",
       "        MARGIN <- match(MARGIN, dnn)\n",
       "        if (anyNA(MARGIN)) \n",
       "            stop(\"not all elements of 'MARGIN' are names of dimensions\")\n",
       "    }\n",
       "    d.call <- d[-MARGIN]\n",
       "    d.ans <- d[MARGIN]\n",
       "    if (anyNA(d.call) || anyNA(d.ans)) \n",
       "        stop(\"'MARGIN' does not match dim(X)\")\n",
       "    s.call <- ds[-MARGIN]\n",
       "    s.ans <- ds[MARGIN]\n",
       "    dn.call <- dn[-MARGIN]\n",
       "    dn.ans <- dn[MARGIN]\n",
       "    d2 <- prod(d.ans)\n",
       "    if (d2 == 0L) {\n",
       "        newX <- array(vector(typeof(X), 1L), dim = c(prod(d.call), \n",
       "            1L))\n",
       "        ans <- forceAndCall(1, FUN, if (length(d.call) < 2L) newX[, \n",
       "            1] else array(newX[, 1L], d.call, dn.call), ...)\n",
       "        return(if (is.null(ans)) ans else if (length(d.ans) < \n",
       "            2L) ans[1L][-1L] else array(ans, d.ans, dn.ans))\n",
       "    }\n",
       "    newX <- aperm(X, c(s.call, s.ans))\n",
       "    dim(newX) <- c(prod(d.call), d2)\n",
       "    ans <- vector(\"list\", d2)\n",
       "    if (length(d.call) < 2L) {\n",
       "        if (length(dn.call)) \n",
       "            dimnames(newX) <- c(dn.call, list(NULL))\n",
       "        for (i in 1L:d2) {\n",
       "            tmp <- forceAndCall(1, FUN, newX[, i], ...)\n",
       "            if (!is.null(tmp)) \n",
       "                ans[[i]] <- tmp\n",
       "        }\n",
       "    }\n",
       "    else for (i in 1L:d2) {\n",
       "        tmp <- forceAndCall(1, FUN, array(newX[, i], d.call, \n",
       "            dn.call), ...)\n",
       "        if (!is.null(tmp)) \n",
       "            ans[[i]] <- tmp\n",
       "    }\n",
       "    ans.list <- !simplify || is.recursive(ans[[1L]])\n",
       "    l.ans <- length(ans[[1L]])\n",
       "    ans.names <- names(ans[[1L]])\n",
       "    if (!ans.list) \n",
       "        ans.list <- any(lengths(ans) != l.ans)\n",
       "    if (!ans.list && length(ans.names)) {\n",
       "        all.same <- vapply(ans, function(x) identical(names(x), \n",
       "            ans.names), NA)\n",
       "        if (!all(all.same)) \n",
       "            ans.names <- NULL\n",
       "    }\n",
       "    len.a <- if (ans.list) \n",
       "        d2\n",
       "    else length(ans <- unlist(ans, recursive = FALSE))\n",
       "    if (length(MARGIN) == 1L && len.a == d2) {\n",
       "        names(ans) <- if (length(dn.ans[[1L]])) \n",
       "            dn.ans[[1L]]\n",
       "        ans\n",
       "    }\n",
       "    else if (len.a == d2) \n",
       "        array(ans, d.ans, dn.ans)\n",
       "    else if (len.a && len.a%%d2 == 0L) {\n",
       "        if (is.null(dn.ans)) \n",
       "            dn.ans <- vector(mode = \"list\", length(d.ans))\n",
       "        dn1 <- list(ans.names)\n",
       "        if (length(dn.call) && !is.null(n1 <- names(dn <- dn.call[1])) && \n",
       "            nzchar(n1) && length(ans.names) == length(dn[[1]])) \n",
       "            names(dn1) <- n1\n",
       "        dn.ans <- c(dn1, dn.ans)\n",
       "        array(ans, c(len.a%/%d2, d.ans), if (!is.null(names(dn.ans)) || \n",
       "            !all(vapply(dn.ans, is.null, NA))) \n",
       "            dn.ans)\n",
       "    }\n",
       "    else ans\n",
       "}\n",
       "<bytecode: 0x0000000013fd7d00>\n",
       "<environment: namespace:base>"
      ]
     },
     "metadata": {},
     "output_type": "display_data"
    }
   ],
   "source": [
    "apply"
   ]
  },
  {
   "cell_type": "code",
   "execution_count": 23,
   "metadata": {},
   "outputs": [
    {
     "name": "stdout",
     "output_type": "stream",
     "text": [
      "     [,1] [,2] [,3] [,4]\n",
      "[1,]    1    4    7   10\n",
      "[2,]    2    5    8   11\n",
      "[3,]    3    6    9   12\n"
     ]
    }
   ],
   "source": [
    "a=matrix(1:12, c(3,4))\n",
    "print(a)"
   ]
  },
  {
   "cell_type": "code",
   "execution_count": 24,
   "metadata": {
    "scrolled": true
   },
   "outputs": [
    {
     "name": "stdout",
     "output_type": "stream",
     "text": [
      "[1] 22 26 30\n"
     ]
    }
   ],
   "source": [
    "x=apply(a, 1, sum) #apply function \"sum\" on each row, i.e., keep dim 1\n",
    "print(x)"
   ]
  },
  {
   "cell_type": "code",
   "execution_count": 25,
   "metadata": {},
   "outputs": [
    {
     "data": {
      "text/html": [
       "'numeric'"
      ],
      "text/latex": [
       "'numeric'"
      ],
      "text/markdown": [
       "'numeric'"
      ],
      "text/plain": [
       "[1] \"numeric\""
      ]
     },
     "metadata": {},
     "output_type": "display_data"
    },
    {
     "name": "stdout",
     "output_type": "stream",
     "text": [
      "[1]  2  5  8 11\n"
     ]
    }
   ],
   "source": [
    "x=apply(a, 2, mean) #apply function \"sum\" on each column, i.e., keep dim 2\n",
    "class(x)\n",
    "print(x)"
   ]
  },
  {
   "cell_type": "code",
   "execution_count": 26,
   "metadata": {},
   "outputs": [
    {
     "data": {
      "text/html": [
       "<table class=\"dataframe\">\n",
       "<caption>A matrix: 8 × 2 of type dbl</caption>\n",
       "<thead>\n",
       "\t<tr><th scope=col>x1</th><th scope=col>x2</th></tr>\n",
       "</thead>\n",
       "<tbody>\n",
       "\t<tr><td>3</td><td>4</td></tr>\n",
       "\t<tr><td>3</td><td>3</td></tr>\n",
       "\t<tr><td>3</td><td>2</td></tr>\n",
       "\t<tr><td>3</td><td>1</td></tr>\n",
       "\t<tr><td>3</td><td>2</td></tr>\n",
       "\t<tr><td>3</td><td>3</td></tr>\n",
       "\t<tr><td>3</td><td>4</td></tr>\n",
       "\t<tr><td>3</td><td>5</td></tr>\n",
       "</tbody>\n",
       "</table>\n"
      ],
      "text/latex": [
       "A matrix: 8 × 2 of type dbl\n",
       "\\begin{tabular}{ll}\n",
       " x1 & x2\\\\\n",
       "\\hline\n",
       "\t 3 & 4\\\\\n",
       "\t 3 & 3\\\\\n",
       "\t 3 & 2\\\\\n",
       "\t 3 & 1\\\\\n",
       "\t 3 & 2\\\\\n",
       "\t 3 & 3\\\\\n",
       "\t 3 & 4\\\\\n",
       "\t 3 & 5\\\\\n",
       "\\end{tabular}\n"
      ],
      "text/markdown": [
       "\n",
       "A matrix: 8 × 2 of type dbl\n",
       "\n",
       "| x1 | x2 |\n",
       "|---|---|\n",
       "| 3 | 4 |\n",
       "| 3 | 3 |\n",
       "| 3 | 2 |\n",
       "| 3 | 1 |\n",
       "| 3 | 2 |\n",
       "| 3 | 3 |\n",
       "| 3 | 4 |\n",
       "| 3 | 5 |\n",
       "\n"
      ],
      "text/plain": [
       "     x1 x2\n",
       "[1,] 3  4 \n",
       "[2,] 3  3 \n",
       "[3,] 3  2 \n",
       "[4,] 3  1 \n",
       "[5,] 3  2 \n",
       "[6,] 3  3 \n",
       "[7,] 3  4 \n",
       "[8,] 3  5 "
      ]
     },
     "metadata": {},
     "output_type": "display_data"
    },
    {
     "data": {
      "text/html": [
       "<style>\n",
       ".list-inline {list-style: none; margin:0; padding: 0}\n",
       ".list-inline>li {display: inline-block}\n",
       ".list-inline>li:not(:last-child)::after {content: \"\\00b7\"; padding: 0 .5ex}\n",
       "</style>\n",
       "<ol class=list-inline><li>'matrix'</li><li>'array'</li></ol>\n"
      ],
      "text/latex": [
       "\\begin{enumerate*}\n",
       "\\item 'matrix'\n",
       "\\item 'array'\n",
       "\\end{enumerate*}\n"
      ],
      "text/markdown": [
       "1. 'matrix'\n",
       "2. 'array'\n",
       "\n",
       "\n"
      ],
      "text/plain": [
       "[1] \"matrix\" \"array\" "
      ]
     },
     "metadata": {},
     "output_type": "display_data"
    },
    {
     "name": "stdout",
     "output_type": "stream",
     "text": [
      "x1 x2 \n",
      " 3  4 \n",
      "x1 x2 \n",
      " 3  3 \n",
      "x1 x2 \n",
      " 3  2 \n",
      "x1 x2 \n",
      " 3  1 \n",
      "x1 x2 \n",
      " 3  2 \n",
      "x1 x2 \n",
      " 3  3 \n",
      "x1 x2 \n",
      " 3  4 \n",
      "x1 x2 \n",
      " 3  5 \n"
     ]
    },
    {
     "data": {
      "text/html": [
       "<table class=\"dataframe\">\n",
       "<caption>A matrix: 2 × 8 of type dbl</caption>\n",
       "<tbody>\n",
       "\t<tr><td>4.0</td><td>4</td><td>4.0</td><td>4</td><td>4.0</td><td>4</td><td>4.0</td><td>4</td></tr>\n",
       "\t<tr><td>3.5</td><td>3</td><td>2.5</td><td>2</td><td>2.5</td><td>3</td><td>3.5</td><td>4</td></tr>\n",
       "</tbody>\n",
       "</table>\n"
      ],
      "text/latex": [
       "A matrix: 2 × 8 of type dbl\n",
       "\\begin{tabular}{llllllll}\n",
       "\t 4.0 & 4 & 4.0 & 4 & 4.0 & 4 & 4.0 & 4\\\\\n",
       "\t 3.5 & 3 & 2.5 & 2 & 2.5 & 3 & 3.5 & 4\\\\\n",
       "\\end{tabular}\n"
      ],
      "text/markdown": [
       "\n",
       "A matrix: 2 × 8 of type dbl\n",
       "\n",
       "| 4.0 | 4 | 4.0 | 4 | 4.0 | 4 | 4.0 | 4 |\n",
       "| 3.5 | 3 | 2.5 | 2 | 2.5 | 3 | 3.5 | 4 |\n",
       "\n"
      ],
      "text/plain": [
       "     [,1] [,2] [,3] [,4] [,5] [,6] [,7] [,8]\n",
       "[1,] 4.0  4    4.0  4    4.0  4    4.0  4   \n",
       "[2,] 3.5  3    2.5  2    2.5  3    3.5  4   "
      ]
     },
     "metadata": {},
     "output_type": "display_data"
    }
   ],
   "source": [
    "x <- cbind(x1 = 3, x2 = c(4:1, 2:5)); x\n",
    "class(x)\n",
    "myFUN<- function(x, c1, c2) {\n",
    "  print(x)\n",
    "  c(sum(x[c1],1), mean(x[c2]))\n",
    "  }\n",
    "apply(x,1,myFUN,c1='x1',c2=c('x1','x2')) #pass c1 and c2 into myFUN"
   ]
  },
  {
   "cell_type": "code",
   "execution_count": 27,
   "metadata": {},
   "outputs": [
    {
     "data": {
      "text/plain": [
       "   user  system elapsed \n",
       "      0       0       0 "
      ]
     },
     "metadata": {},
     "output_type": "display_data"
    },
    {
     "data": {
      "text/plain": [
       "   user  system elapsed \n",
       "   0.14    0.00    0.14 "
      ]
     },
     "metadata": {},
     "output_type": "display_data"
    },
    {
     "data": {
      "text/plain": [
       "   user  system elapsed \n",
       "      0       0       0 "
      ]
     },
     "metadata": {},
     "output_type": "display_data"
    }
   ],
   "source": [
    "rm(list=ls())\n",
    "\n",
    "fun1<-function(x){\n",
    " myFUN<- function(x, c1, c2) {\n",
    " c(sum(x[c1],1), mean(x[c2]))\n",
    " }\n",
    " apply(x,1,myFUN,c1='x1',c2=c('x1','x2'))\n",
    " }\n",
    "\n",
    "fun2<-function(x){\n",
    " df<-data.frame()\n",
    " for(i in 1:nrow(x)){\n",
    " row<-x[i,]\n",
    " df<-rbind(df,rbind(c(sum(row[1],1), mean(row))))\n",
    " }\n",
    " }\n",
    "\n",
    "fun3<-function(x){\n",
    " data.frame(x1=x[,1]+1,x2=rowMeans(x))\n",
    " }\n",
    "\n",
    "x <- cbind(x1=3, x2 = c(400:1, 2:500))\n",
    "# cpu time\n",
    "system.time(fun1(x))\n",
    "system.time(fun2(x))\n",
    "system.time(fun3(x))"
   ]
  },
  {
   "cell_type": "code",
   "execution_count": 28,
   "metadata": {},
   "outputs": [
    {
     "data": {
      "text/html": [
       "<pre class=language-r><code>function (X, FUN, ...) \n",
       "{\n",
       "<span style=white-space:pre-wrap>    FUN &lt;- match.fun(FUN)</span>\n",
       "<span style=white-space:pre-wrap>    if (!is.vector(X) || is.object(X)) </span>\n",
       "<span style=white-space:pre-wrap>        X &lt;- as.list(X)</span>\n",
       "<span style=white-space:pre-wrap>    .Internal(lapply(X, FUN))</span>\n",
       "}</code></pre>"
      ],
      "text/latex": [
       "\\begin{minted}{r}\n",
       "function (X, FUN, ...) \n",
       "\\{\n",
       "    FUN <- match.fun(FUN)\n",
       "    if (!is.vector(X) \\textbar{}\\textbar{} is.object(X)) \n",
       "        X <- as.list(X)\n",
       "    .Internal(lapply(X, FUN))\n",
       "\\}\n",
       "\\end{minted}"
      ],
      "text/markdown": [
       "```r\n",
       "function (X, FUN, ...) \n",
       "{\n",
       "    FUN <- match.fun(FUN)\n",
       "    if (!is.vector(X) || is.object(X)) \n",
       "        X <- as.list(X)\n",
       "    .Internal(lapply(X, FUN))\n",
       "}\n",
       "```"
      ],
      "text/plain": [
       "function (X, FUN, ...) \n",
       "{\n",
       "    FUN <- match.fun(FUN)\n",
       "    if (!is.vector(X) || is.object(X)) \n",
       "        X <- as.list(X)\n",
       "    .Internal(lapply(X, FUN))\n",
       "}\n",
       "<bytecode: 0x0000000013d5c3e0>\n",
       "<environment: namespace:base>"
      ]
     },
     "metadata": {},
     "output_type": "display_data"
    }
   ],
   "source": [
    "lapply"
   ]
  },
  {
   "cell_type": "code",
   "execution_count": 29,
   "metadata": {},
   "outputs": [
    {
     "data": {
      "text/html": [
       "<ol>\n",
       "\t<li>1</li>\n",
       "\t<li>1.4142135623731</li>\n",
       "\t<li>1.73205080756888</li>\n",
       "\t<li>2</li>\n",
       "\t<li>2.23606797749979</li>\n",
       "\t<li>2.44948974278318</li>\n",
       "\t<li>2.64575131106459</li>\n",
       "\t<li>2.82842712474619</li>\n",
       "\t<li>3</li>\n",
       "\t<li>3.16227766016838</li>\n",
       "</ol>\n"
      ],
      "text/latex": [
       "\\begin{enumerate}\n",
       "\\item 1\n",
       "\\item 1.4142135623731\n",
       "\\item 1.73205080756888\n",
       "\\item 2\n",
       "\\item 2.23606797749979\n",
       "\\item 2.44948974278318\n",
       "\\item 2.64575131106459\n",
       "\\item 2.82842712474619\n",
       "\\item 3\n",
       "\\item 3.16227766016838\n",
       "\\end{enumerate}\n"
      ],
      "text/markdown": [
       "1. 1\n",
       "2. 1.4142135623731\n",
       "3. 1.73205080756888\n",
       "4. 2\n",
       "5. 2.23606797749979\n",
       "6. 2.44948974278318\n",
       "7. 2.64575131106459\n",
       "8. 2.82842712474619\n",
       "9. 3\n",
       "10. 3.16227766016838\n",
       "\n",
       "\n"
      ],
      "text/plain": [
       "[[1]]\n",
       "[1] 1\n",
       "\n",
       "[[2]]\n",
       "[1] 1.414214\n",
       "\n",
       "[[3]]\n",
       "[1] 1.732051\n",
       "\n",
       "[[4]]\n",
       "[1] 2\n",
       "\n",
       "[[5]]\n",
       "[1] 2.236068\n",
       "\n",
       "[[6]]\n",
       "[1] 2.44949\n",
       "\n",
       "[[7]]\n",
       "[1] 2.645751\n",
       "\n",
       "[[8]]\n",
       "[1] 2.828427\n",
       "\n",
       "[[9]]\n",
       "[1] 3\n",
       "\n",
       "[[10]]\n",
       "[1] 3.162278\n"
      ]
     },
     "metadata": {},
     "output_type": "display_data"
    },
    {
     "data": {
      "text/html": [
       "'list'"
      ],
      "text/latex": [
       "'list'"
      ],
      "text/markdown": [
       "'list'"
      ],
      "text/plain": [
       "[1] \"list\""
      ]
     },
     "metadata": {},
     "output_type": "display_data"
    },
    {
     "name": "stdout",
     "output_type": "stream",
     "text": [
      "[[1]]\n",
      "[1] 1\n",
      "\n",
      "[[2]]\n",
      "[1] 1.414214\n",
      "\n",
      "[[3]]\n",
      "[1] 1.732051\n",
      "\n",
      "[[4]]\n",
      "[1] 2\n",
      "\n",
      "[[5]]\n",
      "[1] 2.236068\n",
      "\n",
      "[[6]]\n",
      "[1] 2.44949\n",
      "\n",
      "[[7]]\n",
      "[1] 2.645751\n",
      "\n",
      "[[8]]\n",
      "[1] 2.828427\n",
      "\n",
      "[[9]]\n",
      "[1] 3\n",
      "\n",
      "[[10]]\n",
      "[1] 3.162278\n",
      "\n"
     ]
    },
    {
     "data": {
      "text/html": [
       "'=============='"
      ],
      "text/latex": [
       "'=============='"
      ],
      "text/markdown": [
       "'=============='"
      ],
      "text/plain": [
       "[1] \"==============\""
      ]
     },
     "metadata": {},
     "output_type": "display_data"
    },
    {
     "name": "stdout",
     "output_type": "stream",
     "text": [
      "[1] 1.414214\n"
     ]
    },
    {
     "data": {
      "text/html": [
       "'numeric'"
      ],
      "text/latex": [
       "'numeric'"
      ],
      "text/markdown": [
       "'numeric'"
      ],
      "text/plain": [
       "[1] \"numeric\""
      ]
     },
     "metadata": {},
     "output_type": "display_data"
    },
    {
     "name": "stdout",
     "output_type": "stream",
     "text": [
      "[1] 1.414214\n"
     ]
    }
   ],
   "source": [
    "x=lapply(1:10, sqrt); x  #vector 1:10 is converted to list internally\n",
    "class(x)\n",
    "print(x)\n",
    "\"==============\"\n",
    "print(x[[2]])\n",
    "class(x[[2]])\n",
    "print(x[[2]][1])"
   ]
  },
  {
   "cell_type": "code",
   "execution_count": 30,
   "metadata": {
    "scrolled": true
   },
   "outputs": [
    {
     "name": "stdout",
     "output_type": "stream",
     "text": [
      "[[1]]\n",
      "[1] 1\n",
      "\n",
      "[[2]]\n",
      "[1] 1 2\n",
      "\n",
      "[[3]]\n",
      "[1] 1 2 3\n",
      "\n",
      "[[4]]\n",
      "[1] 1 2 3 4\n",
      "\n",
      "[[5]]\n",
      "[1] 1 2 3 4 5\n",
      "\n"
     ]
    },
    {
     "data": {
      "text/html": [
       "<style>\n",
       ".list-inline {list-style: none; margin:0; padding: 0}\n",
       ".list-inline>li {display: inline-block}\n",
       ".list-inline>li:not(:last-child)::after {content: \"\\00b7\"; padding: 0 .5ex}\n",
       "</style>\n",
       "<ol class=list-inline><li>1</li><li>2</li><li>3</li><li>4</li><li>5</li></ol>\n"
      ],
      "text/latex": [
       "\\begin{enumerate*}\n",
       "\\item 1\n",
       "\\item 2\n",
       "\\item 3\n",
       "\\item 4\n",
       "\\item 5\n",
       "\\end{enumerate*}\n"
      ],
      "text/markdown": [
       "1. 1\n",
       "2. 2\n",
       "3. 3\n",
       "4. 4\n",
       "5. 5\n",
       "\n",
       "\n"
      ],
      "text/plain": [
       "[1] 1 2 3 4 5"
      ]
     },
     "metadata": {},
     "output_type": "display_data"
    }
   ],
   "source": [
    "x=lapply(1:5, seq_len)\n",
    "print(x)\n",
    "x[[5]]"
   ]
  },
  {
   "cell_type": "code",
   "execution_count": 31,
   "metadata": {},
   "outputs": [
    {
     "name": "stdout",
     "output_type": "stream",
     "text": [
      "[[1]]\n",
      "[1] 0.6537956\n",
      "\n",
      "[[2]]\n",
      "[1] 0.9069382 0.4928759\n",
      "\n",
      "[[3]]\n",
      "[1] 0.3778910 0.9737280 0.4955181\n",
      "\n",
      "[[4]]\n",
      "[1] 0.5367939 0.1880848 0.4861735 0.2870674\n",
      "\n",
      "[[5]]\n",
      "[1] 0.06945315 0.37365461 0.72712099 0.12272509 0.92878533\n",
      "\n"
     ]
    }
   ],
   "source": [
    "x=lapply(1:5, runif)\n",
    "print(x)"
   ]
  },
  {
   "cell_type": "code",
   "execution_count": 32,
   "metadata": {
    "scrolled": true
   },
   "outputs": [
    {
     "data": {
      "text/html": [
       "<ol>\n",
       "\t<li>8.96697200136259</li>\n",
       "\t<li><style>\n",
       ".list-inline {list-style: none; margin:0; padding: 0}\n",
       ".list-inline>li {display: inline-block}\n",
       ".list-inline>li:not(:last-child)::after {content: \"\\00b7\"; padding: 0 .5ex}\n",
       "</style>\n",
       "<ol class=list-inline><li>2.655086631421</li><li>3.7212389963679</li></ol>\n",
       "</li>\n",
       "\t<li><style>\n",
       ".list-inline {list-style: none; margin:0; padding: 0}\n",
       ".list-inline>li {display: inline-block}\n",
       ".list-inline>li:not(:last-child)::after {content: \"\\00b7\"; padding: 0 .5ex}\n",
       "</style>\n",
       "<ol class=list-inline><li>5.72853363351896</li><li>9.08207789994776</li><li>2.01681931037456</li></ol>\n",
       "</li>\n",
       "\t<li><style>\n",
       ".list-inline {list-style: none; margin:0; padding: 0}\n",
       ".list-inline>li {display: inline-block}\n",
       ".list-inline>li:not(:last-child)::after {content: \"\\00b7\"; padding: 0 .5ex}\n",
       "</style>\n",
       "<ol class=list-inline><li>8.98389684967697</li><li>9.44675268605351</li><li>6.60797792486846</li><li>6.2911404389888</li></ol>\n",
       "</li>\n",
       "\t<li><style>\n",
       ".list-inline {list-style: none; margin:0; padding: 0}\n",
       ".list-inline>li {display: inline-block}\n",
       ".list-inline>li:not(:last-child)::after {content: \"\\00b7\"; padding: 0 .5ex}\n",
       "</style>\n",
       "<ol class=list-inline><li>0.617862704675645</li><li>2.05974574899301</li><li>1.76556752528995</li><li>6.87022846657783</li><li>3.84103718213737</li></ol>\n",
       "</li>\n",
       "</ol>\n"
      ],
      "text/latex": [
       "\\begin{enumerate}\n",
       "\\item 8.96697200136259\n",
       "\\item \\begin{enumerate*}\n",
       "\\item 2.655086631421\n",
       "\\item 3.7212389963679\n",
       "\\end{enumerate*}\n",
       "\n",
       "\\item \\begin{enumerate*}\n",
       "\\item 5.72853363351896\n",
       "\\item 9.08207789994776\n",
       "\\item 2.01681931037456\n",
       "\\end{enumerate*}\n",
       "\n",
       "\\item \\begin{enumerate*}\n",
       "\\item 8.98389684967697\n",
       "\\item 9.44675268605351\n",
       "\\item 6.60797792486846\n",
       "\\item 6.2911404389888\n",
       "\\end{enumerate*}\n",
       "\n",
       "\\item \\begin{enumerate*}\n",
       "\\item 0.617862704675645\n",
       "\\item 2.05974574899301\n",
       "\\item 1.76556752528995\n",
       "\\item 6.87022846657783\n",
       "\\item 3.84103718213737\n",
       "\\end{enumerate*}\n",
       "\n",
       "\\end{enumerate}\n"
      ],
      "text/markdown": [
       "1. 8.96697200136259\n",
       "2. 1. 2.655086631421\n",
       "2. 3.7212389963679\n",
       "\n",
       "\n",
       "\n",
       "3. 1. 5.72853363351896\n",
       "2. 9.08207789994776\n",
       "3. 2.01681931037456\n",
       "\n",
       "\n",
       "\n",
       "4. 1. 8.98389684967697\n",
       "2. 9.44675268605351\n",
       "3. 6.60797792486846\n",
       "4. 6.2911404389888\n",
       "\n",
       "\n",
       "\n",
       "5. 1. 0.617862704675645\n",
       "2. 2.05974574899301\n",
       "3. 1.76556752528995\n",
       "4. 6.87022846657783\n",
       "5. 3.84103718213737\n",
       "\n",
       "\n",
       "\n",
       "\n",
       "\n"
      ],
      "text/plain": [
       "[[1]]\n",
       "[1] 8.966972\n",
       "\n",
       "[[2]]\n",
       "[1] 2.655087 3.721239\n",
       "\n",
       "[[3]]\n",
       "[1] 5.728534 9.082078 2.016819\n",
       "\n",
       "[[4]]\n",
       "[1] 8.983897 9.446753 6.607978 6.291140\n",
       "\n",
       "[[5]]\n",
       "[1] 0.6178627 2.0597457 1.7655675 6.8702285 3.8410372\n"
      ]
     },
     "metadata": {},
     "output_type": "display_data"
    },
    {
     "data": {
      "text/html": [
       "<ol>\n",
       "\t<li>8.96697200136259</li>\n",
       "\t<li><style>\n",
       ".list-inline {list-style: none; margin:0; padding: 0}\n",
       ".list-inline>li {display: inline-block}\n",
       ".list-inline>li:not(:last-child)::after {content: \"\\00b7\"; padding: 0 .5ex}\n",
       "</style>\n",
       "<ol class=list-inline><li>2.655086631421</li><li>3.7212389963679</li></ol>\n",
       "</li>\n",
       "\t<li><style>\n",
       ".list-inline {list-style: none; margin:0; padding: 0}\n",
       ".list-inline>li {display: inline-block}\n",
       ".list-inline>li:not(:last-child)::after {content: \"\\00b7\"; padding: 0 .5ex}\n",
       "</style>\n",
       "<ol class=list-inline><li>5.72853363351896</li><li>9.08207789994776</li><li>2.01681931037456</li></ol>\n",
       "</li>\n",
       "\t<li><style>\n",
       ".list-inline {list-style: none; margin:0; padding: 0}\n",
       ".list-inline>li {display: inline-block}\n",
       ".list-inline>li:not(:last-child)::after {content: \"\\00b7\"; padding: 0 .5ex}\n",
       "</style>\n",
       "<ol class=list-inline><li>8.98389684967697</li><li>9.44675268605351</li><li>6.60797792486846</li><li>6.2911404389888</li></ol>\n",
       "</li>\n",
       "\t<li><style>\n",
       ".list-inline {list-style: none; margin:0; padding: 0}\n",
       ".list-inline>li {display: inline-block}\n",
       ".list-inline>li:not(:last-child)::after {content: \"\\00b7\"; padding: 0 .5ex}\n",
       "</style>\n",
       "<ol class=list-inline><li>0.617862704675645</li><li>2.05974574899301</li><li>1.76556752528995</li><li>6.87022846657783</li><li>3.84103718213737</li></ol>\n",
       "</li>\n",
       "</ol>\n"
      ],
      "text/latex": [
       "\\begin{enumerate}\n",
       "\\item 8.96697200136259\n",
       "\\item \\begin{enumerate*}\n",
       "\\item 2.655086631421\n",
       "\\item 3.7212389963679\n",
       "\\end{enumerate*}\n",
       "\n",
       "\\item \\begin{enumerate*}\n",
       "\\item 5.72853363351896\n",
       "\\item 9.08207789994776\n",
       "\\item 2.01681931037456\n",
       "\\end{enumerate*}\n",
       "\n",
       "\\item \\begin{enumerate*}\n",
       "\\item 8.98389684967697\n",
       "\\item 9.44675268605351\n",
       "\\item 6.60797792486846\n",
       "\\item 6.2911404389888\n",
       "\\end{enumerate*}\n",
       "\n",
       "\\item \\begin{enumerate*}\n",
       "\\item 0.617862704675645\n",
       "\\item 2.05974574899301\n",
       "\\item 1.76556752528995\n",
       "\\item 6.87022846657783\n",
       "\\item 3.84103718213737\n",
       "\\end{enumerate*}\n",
       "\n",
       "\\end{enumerate}\n"
      ],
      "text/markdown": [
       "1. 8.96697200136259\n",
       "2. 1. 2.655086631421\n",
       "2. 3.7212389963679\n",
       "\n",
       "\n",
       "\n",
       "3. 1. 5.72853363351896\n",
       "2. 9.08207789994776\n",
       "3. 2.01681931037456\n",
       "\n",
       "\n",
       "\n",
       "4. 1. 8.98389684967697\n",
       "2. 9.44675268605351\n",
       "3. 6.60797792486846\n",
       "4. 6.2911404389888\n",
       "\n",
       "\n",
       "\n",
       "5. 1. 0.617862704675645\n",
       "2. 2.05974574899301\n",
       "3. 1.76556752528995\n",
       "4. 6.87022846657783\n",
       "5. 3.84103718213737\n",
       "\n",
       "\n",
       "\n",
       "\n",
       "\n"
      ],
      "text/plain": [
       "[[1]]\n",
       "[1] 8.966972\n",
       "\n",
       "[[2]]\n",
       "[1] 2.655087 3.721239\n",
       "\n",
       "[[3]]\n",
       "[1] 5.728534 9.082078 2.016819\n",
       "\n",
       "[[4]]\n",
       "[1] 8.983897 9.446753 6.607978 6.291140\n",
       "\n",
       "[[5]]\n",
       "[1] 0.6178627 2.0597457 1.7655675 6.8702285 3.8410372\n"
      ]
     },
     "metadata": {},
     "output_type": "display_data"
    }
   ],
   "source": [
    "set.seed(0)\n",
    "lapply(1:5, runif, min=0, max=10) #pass more args into FUN\n",
    "set.seed(0)\n",
    "myunif=function(x){runif(x, min=0, max=10)}\n",
    "# lapply(1:5, function(x){runif(x, min=0, max=10)})\n",
    "lapply(1:5, myunif)"
   ]
  },
  {
   "cell_type": "code",
   "execution_count": 33,
   "metadata": {},
   "outputs": [
    {
     "name": "stdout",
     "output_type": "stream",
     "text": [
      "$a\n",
      "[1] 1 2 3 4 5\n",
      "\n",
      "$b\n",
      " [1]  0.73832471  0.57578135 -0.30538839  1.51178117  0.38984324 -0.62124058\n",
      " [7] -2.21469989  1.12493092 -0.04493361 -0.01619026\n",
      "\n",
      "$a\n",
      "[1] 3\n",
      "\n",
      "$b\n",
      "[1] 0.1138209\n",
      "\n",
      "[1] \"list\"\n",
      "[1] 3\n",
      "[1] 3\n",
      "[1] 0.1138209\n"
     ]
    }
   ],
   "source": [
    "x=list(a=1:5, b=rnorm(10))\n",
    "print(x)\n",
    "y=lapply(x, mean)\n",
    "print(y)\n",
    "print(typeof(y))\n",
    "print(y[[1]])\n",
    "print(y$a)\n",
    "print(y$b)"
   ]
  },
  {
   "cell_type": "code",
   "execution_count": 34,
   "metadata": {},
   "outputs": [
    {
     "name": "stdout",
     "output_type": "stream",
     "text": [
      "$a\n",
      "[1] 1 2 3 4\n",
      "\n",
      "$b\n",
      " [1]  0.94383621  0.82122120  0.59390132  0.91897737  0.78213630  0.07456498\n",
      " [7] -1.98935170  0.61982575 -0.05612874 -0.15579551\n",
      "\n",
      "$c\n",
      " [1] -0.4707524  0.5218499  1.4179416  2.3586796  0.8972123  1.3876716\n",
      " [7]  0.9461950 -0.3770596  0.5850054  0.6057100  0.9406866  2.1000254\n",
      "[13]  1.7631757  0.8354764  0.7466383  1.6969634  1.5566632  0.3112443\n",
      "[19]  0.2925048  1.3645820\n",
      "\n",
      "$d\n",
      " [1] 0.7789147 0.7973088 0.4552745 0.4100841 0.8108702 0.6049333 0.6547239\n",
      " [8] 0.3531973 0.2702601 0.9926841\n",
      "\n",
      "$a\n",
      "[1] 2.5\n",
      "\n",
      "$b\n",
      "[1] 0.2553187\n",
      "\n",
      "$c\n",
      "[1] 0.9740207\n",
      "\n",
      "$d\n",
      "[1] 0.6128251\n",
      "\n"
     ]
    }
   ],
   "source": [
    "x=list(a=1:4, b=rnorm(10), c=rnorm(20, 1), d=runif(10)); print(x)\n",
    "y=lapply(x, mean)\n",
    "print(y)"
   ]
  },
  {
   "cell_type": "code",
   "execution_count": 35,
   "metadata": {},
   "outputs": [
    {
     "data": {
      "text/html": [
       "81"
      ],
      "text/latex": [
       "81"
      ],
      "text/markdown": [
       "81"
      ],
      "text/plain": [
       "[1] 81"
      ]
     },
     "metadata": {},
     "output_type": "display_data"
    },
    {
     "data": {
      "text/html": [
       "81"
      ],
      "text/latex": [
       "81"
      ],
      "text/markdown": [
       "81"
      ],
      "text/plain": [
       "[1] 81"
      ]
     },
     "metadata": {},
     "output_type": "display_data"
    }
   ],
   "source": [
    "y=function(x){x*x}\n",
    "# formals(y)\n",
    "# body(y)\n",
    "# environment(y)\n",
    "y(9)\n",
    "(function(x){x*x})(9)"
   ]
  },
  {
   "cell_type": "code",
   "execution_count": 36,
   "metadata": {},
   "outputs": [
    {
     "data": {
      "text/html": [
       "<dl>\n",
       "\t<dt>$a</dt>\n",
       "\t\t<dd><style>\n",
       ".list-inline {list-style: none; margin:0; padding: 0}\n",
       ".list-inline>li {display: inline-block}\n",
       ".list-inline>li:not(:last-child)::after {content: \"\\00b7\"; padding: 0 .5ex}\n",
       "</style>\n",
       "<ol class=list-inline><li>1</li><li>2</li><li>3</li><li>4</li></ol>\n",
       "</dd>\n",
       "\t<dt>$b</dt>\n",
       "\t\t<dd><style>\n",
       ".list-inline {list-style: none; margin:0; padding: 0}\n",
       ".list-inline>li {display: inline-block}\n",
       ".list-inline>li:not(:last-child)::after {content: \"\\00b7\"; padding: 0 .5ex}\n",
       "</style>\n",
       "<ol class=list-inline><li>1.26295428488079</li><li>-0.326233360705649</li><li>1.3297992629225</li><li>1.2724293214294</li><li>0.414641434456408</li><li>-1.53995004190371</li><li>-0.928567034713538</li><li>-0.29472044679056</li><li>-0.00576717274753696</li><li>2.40465338885795</li></ol>\n",
       "</dd>\n",
       "\t<dt>$c</dt>\n",
       "\t\t<dd><style>\n",
       ".list-inline {list-style: none; margin:0; padding: 0}\n",
       ".list-inline>li {display: inline-block}\n",
       ".list-inline>li:not(:last-child)::after {content: \"\\00b7\"; padding: 0 .5ex}\n",
       "</style>\n",
       "<ol class=list-inline><li>1.76359346114046</li><li>0.200990751010632</li><li>-0.147657009236351</li><li>0.710538426311777</li><li>0.700784882102684</li><li>0.588489167204933</li><li>1.25222344815613</li><li>0.108078872715431</li><li>1.43568329935572</li><li>-0.237538421929958</li><li>0.775732114721691</li><li>1.3773956459817</li><li>1.13333636081484</li><li>1.80418950974491</li><li>0.942893225616191</li><li>1.50360797223373</li><li>2.08576936214569</li><li>0.30904616030317</li><li>-0.284599353872188</li><li>1.04672617218835</li></ol>\n",
       "</dd>\n",
       "\t<dt>$d</dt>\n",
       "\t\t<dd><style>\n",
       ".list-inline {list-style: none; margin:0; padding: 0}\n",
       ".list-inline>li {display: inline-block}\n",
       ".list-inline>li:not(:last-child)::after {content: \"\\00b7\"; padding: 0 .5ex}\n",
       "</style>\n",
       "<ol class=list-inline><li>0.406830187188461</li><li>0.912875924259424</li><li>0.293603372760117</li><li>0.459065726259723</li><li>0.332394674187526</li><li>0.65087046707049</li><li>0.258016780717298</li><li>0.478545248275623</li><li>0.766310670645908</li><li>0.0842469143681228</li></ol>\n",
       "</dd>\n",
       "</dl>\n"
      ],
      "text/latex": [
       "\\begin{description}\n",
       "\\item[\\$a] \\begin{enumerate*}\n",
       "\\item 1\n",
       "\\item 2\n",
       "\\item 3\n",
       "\\item 4\n",
       "\\end{enumerate*}\n",
       "\n",
       "\\item[\\$b] \\begin{enumerate*}\n",
       "\\item 1.26295428488079\n",
       "\\item -0.326233360705649\n",
       "\\item 1.3297992629225\n",
       "\\item 1.2724293214294\n",
       "\\item 0.414641434456408\n",
       "\\item -1.53995004190371\n",
       "\\item -0.928567034713538\n",
       "\\item -0.29472044679056\n",
       "\\item -0.00576717274753696\n",
       "\\item 2.40465338885795\n",
       "\\end{enumerate*}\n",
       "\n",
       "\\item[\\$c] \\begin{enumerate*}\n",
       "\\item 1.76359346114046\n",
       "\\item 0.200990751010632\n",
       "\\item -0.147657009236351\n",
       "\\item 0.710538426311777\n",
       "\\item 0.700784882102684\n",
       "\\item 0.588489167204933\n",
       "\\item 1.25222344815613\n",
       "\\item 0.108078872715431\n",
       "\\item 1.43568329935572\n",
       "\\item -0.237538421929958\n",
       "\\item 0.775732114721691\n",
       "\\item 1.3773956459817\n",
       "\\item 1.13333636081484\n",
       "\\item 1.80418950974491\n",
       "\\item 0.942893225616191\n",
       "\\item 1.50360797223373\n",
       "\\item 2.08576936214569\n",
       "\\item 0.30904616030317\n",
       "\\item -0.284599353872188\n",
       "\\item 1.04672617218835\n",
       "\\end{enumerate*}\n",
       "\n",
       "\\item[\\$d] \\begin{enumerate*}\n",
       "\\item 0.406830187188461\n",
       "\\item 0.912875924259424\n",
       "\\item 0.293603372760117\n",
       "\\item 0.459065726259723\n",
       "\\item 0.332394674187526\n",
       "\\item 0.65087046707049\n",
       "\\item 0.258016780717298\n",
       "\\item 0.478545248275623\n",
       "\\item 0.766310670645908\n",
       "\\item 0.0842469143681228\n",
       "\\end{enumerate*}\n",
       "\n",
       "\\end{description}\n"
      ],
      "text/markdown": [
       "$a\n",
       ":   1. 1\n",
       "2. 2\n",
       "3. 3\n",
       "4. 4\n",
       "\n",
       "\n",
       "\n",
       "$b\n",
       ":   1. 1.26295428488079\n",
       "2. -0.326233360705649\n",
       "3. 1.3297992629225\n",
       "4. 1.2724293214294\n",
       "5. 0.414641434456408\n",
       "6. -1.53995004190371\n",
       "7. -0.928567034713538\n",
       "8. -0.29472044679056\n",
       "9. -0.00576717274753696\n",
       "10. 2.40465338885795\n",
       "\n",
       "\n",
       "\n",
       "$c\n",
       ":   1. 1.76359346114046\n",
       "2. 0.200990751010632\n",
       "3. -0.147657009236351\n",
       "4. 0.710538426311777\n",
       "5. 0.700784882102684\n",
       "6. 0.588489167204933\n",
       "7. 1.25222344815613\n",
       "8. 0.108078872715431\n",
       "9. 1.43568329935572\n",
       "10. -0.237538421929958\n",
       "11. 0.775732114721691\n",
       "12. 1.3773956459817\n",
       "13. 1.13333636081484\n",
       "14. 1.80418950974491\n",
       "15. 0.942893225616191\n",
       "16. 1.50360797223373\n",
       "17. 2.08576936214569\n",
       "18. 0.30904616030317\n",
       "19. -0.284599353872188\n",
       "20. 1.04672617218835\n",
       "\n",
       "\n",
       "\n",
       "$d\n",
       ":   1. 0.406830187188461\n",
       "2. 0.912875924259424\n",
       "3. 0.293603372760117\n",
       "4. 0.459065726259723\n",
       "5. 0.332394674187526\n",
       "6. 0.65087046707049\n",
       "7. 0.258016780717298\n",
       "8. 0.478545248275623\n",
       "9. 0.766310670645908\n",
       "10. 0.0842469143681228\n",
       "\n",
       "\n",
       "\n",
       "\n",
       "\n"
      ],
      "text/plain": [
       "$a\n",
       "[1] 1 2 3 4\n",
       "\n",
       "$b\n",
       " [1]  1.262954285 -0.326233361  1.329799263  1.272429321  0.414641434\n",
       " [6] -1.539950042 -0.928567035 -0.294720447 -0.005767173  2.404653389\n",
       "\n",
       "$c\n",
       " [1]  1.7635935  0.2009908 -0.1476570  0.7105384  0.7007849  0.5884892\n",
       " [7]  1.2522234  0.1080789  1.4356833 -0.2375384  0.7757321  1.3773956\n",
       "[13]  1.1333364  1.8041895  0.9428932  1.5036080  2.0857694  0.3090462\n",
       "[19] -0.2845994  1.0467262\n",
       "\n",
       "$d\n",
       " [1] 0.40683019 0.91287592 0.29360337 0.45906573 0.33239467 0.65087047\n",
       " [7] 0.25801678 0.47854525 0.76631067 0.08424691\n"
      ]
     },
     "metadata": {},
     "output_type": "display_data"
    },
    {
     "name": "stderr",
     "output_type": "stream",
     "text": [
      "Warning message in FUN(X[[i]], ...):\n",
      "\"NaNs produced\"\n",
      "Warning message in FUN(X[[i]], ...):\n",
      "\"NaNs produced\"\n"
     ]
    },
    {
     "data": {
      "text/html": [
       "<dl>\n",
       "\t<dt>$a</dt>\n",
       "\t\t<dd><style>\n",
       ".list-inline {list-style: none; margin:0; padding: 0}\n",
       ".list-inline>li {display: inline-block}\n",
       ".list-inline>li:not(:last-child)::after {content: \"\\00b7\"; padding: 0 .5ex}\n",
       "</style>\n",
       "<ol class=list-inline><li>1</li><li>1.4142135623731</li><li>1.73205080756888</li><li>2</li></ol>\n",
       "</dd>\n",
       "\t<dt>$b</dt>\n",
       "\t\t<dd><style>\n",
       ".list-inline {list-style: none; margin:0; padding: 0}\n",
       ".list-inline>li {display: inline-block}\n",
       ".list-inline>li:not(:last-child)::after {content: \"\\00b7\"; padding: 0 .5ex}\n",
       "</style>\n",
       "<ol class=list-inline><li>1.12381238864892</li><li>NaN</li><li>1.15316922562237</li><li>1.1280200891072</li><li>0.643926575361204</li><li>NaN</li><li>NaN</li><li>NaN</li><li>NaN</li><li>1.55069448598296</li></ol>\n",
       "</dd>\n",
       "\t<dt>$c</dt>\n",
       "\t\t<dd><style>\n",
       ".list-inline {list-style: none; margin:0; padding: 0}\n",
       ".list-inline>li {display: inline-block}\n",
       ".list-inline>li:not(:last-child)::after {content: \"\\00b7\"; padding: 0 .5ex}\n",
       "</style>\n",
       "<ol class=list-inline><li>1.3280035621716</li><li>0.448319920381229</li><li>NaN</li><li>0.842934414003709</li><li>0.837128951896112</li><li>0.76713047599801</li><li>1.11902790320712</li><li>0.328753513616861</li><li>1.1982000247687</li><li>NaN</li><li>0.880756558148556</li><li>1.17362500228212</li><li>1.06458271675565</li><li>1.3432012171469</li><li>0.97102689232389</li><li>1.22621693522546</li><li>1.44421929157095</li><li>0.55591920303509</li><li>NaN</li><li>1.0230963650548</li></ol>\n",
       "</dd>\n",
       "\t<dt>$d</dt>\n",
       "\t\t<dd><style>\n",
       ".list-inline {list-style: none; margin:0; padding: 0}\n",
       ".list-inline>li {display: inline-block}\n",
       ".list-inline>li:not(:last-child)::after {content: \"\\00b7\"; padding: 0 .5ex}\n",
       "</style>\n",
       "<ol class=list-inline><li>0.637832413090195</li><li>0.955445406216087</li><li>0.541851799628014</li><li>0.677543892496806</li><li>0.576536793437788</li><li>0.806765434975055</li><li>0.507953522201883</li><li>0.691769649721367</li><li>0.875391724113215</li><li>0.290253190108434</li></ol>\n",
       "</dd>\n",
       "</dl>\n"
      ],
      "text/latex": [
       "\\begin{description}\n",
       "\\item[\\$a] \\begin{enumerate*}\n",
       "\\item 1\n",
       "\\item 1.4142135623731\n",
       "\\item 1.73205080756888\n",
       "\\item 2\n",
       "\\end{enumerate*}\n",
       "\n",
       "\\item[\\$b] \\begin{enumerate*}\n",
       "\\item 1.12381238864892\n",
       "\\item NaN\n",
       "\\item 1.15316922562237\n",
       "\\item 1.1280200891072\n",
       "\\item 0.643926575361204\n",
       "\\item NaN\n",
       "\\item NaN\n",
       "\\item NaN\n",
       "\\item NaN\n",
       "\\item 1.55069448598296\n",
       "\\end{enumerate*}\n",
       "\n",
       "\\item[\\$c] \\begin{enumerate*}\n",
       "\\item 1.3280035621716\n",
       "\\item 0.448319920381229\n",
       "\\item NaN\n",
       "\\item 0.842934414003709\n",
       "\\item 0.837128951896112\n",
       "\\item 0.76713047599801\n",
       "\\item 1.11902790320712\n",
       "\\item 0.328753513616861\n",
       "\\item 1.1982000247687\n",
       "\\item NaN\n",
       "\\item 0.880756558148556\n",
       "\\item 1.17362500228212\n",
       "\\item 1.06458271675565\n",
       "\\item 1.3432012171469\n",
       "\\item 0.97102689232389\n",
       "\\item 1.22621693522546\n",
       "\\item 1.44421929157095\n",
       "\\item 0.55591920303509\n",
       "\\item NaN\n",
       "\\item 1.0230963650548\n",
       "\\end{enumerate*}\n",
       "\n",
       "\\item[\\$d] \\begin{enumerate*}\n",
       "\\item 0.637832413090195\n",
       "\\item 0.955445406216087\n",
       "\\item 0.541851799628014\n",
       "\\item 0.677543892496806\n",
       "\\item 0.576536793437788\n",
       "\\item 0.806765434975055\n",
       "\\item 0.507953522201883\n",
       "\\item 0.691769649721367\n",
       "\\item 0.875391724113215\n",
       "\\item 0.290253190108434\n",
       "\\end{enumerate*}\n",
       "\n",
       "\\end{description}\n"
      ],
      "text/markdown": [
       "$a\n",
       ":   1. 1\n",
       "2. 1.4142135623731\n",
       "3. 1.73205080756888\n",
       "4. 2\n",
       "\n",
       "\n",
       "\n",
       "$b\n",
       ":   1. 1.12381238864892\n",
       "2. NaN\n",
       "3. 1.15316922562237\n",
       "4. 1.1280200891072\n",
       "5. 0.643926575361204\n",
       "6. NaN\n",
       "7. NaN\n",
       "8. NaN\n",
       "9. NaN\n",
       "10. 1.55069448598296\n",
       "\n",
       "\n",
       "\n",
       "$c\n",
       ":   1. 1.3280035621716\n",
       "2. 0.448319920381229\n",
       "3. NaN\n",
       "4. 0.842934414003709\n",
       "5. 0.837128951896112\n",
       "6. 0.76713047599801\n",
       "7. 1.11902790320712\n",
       "8. 0.328753513616861\n",
       "9. 1.1982000247687\n",
       "10. NaN\n",
       "11. 0.880756558148556\n",
       "12. 1.17362500228212\n",
       "13. 1.06458271675565\n",
       "14. 1.3432012171469\n",
       "15. 0.97102689232389\n",
       "16. 1.22621693522546\n",
       "17. 1.44421929157095\n",
       "18. 0.55591920303509\n",
       "19. NaN\n",
       "20. 1.0230963650548\n",
       "\n",
       "\n",
       "\n",
       "$d\n",
       ":   1. 0.637832413090195\n",
       "2. 0.955445406216087\n",
       "3. 0.541851799628014\n",
       "4. 0.677543892496806\n",
       "5. 0.576536793437788\n",
       "6. 0.806765434975055\n",
       "7. 0.507953522201883\n",
       "8. 0.691769649721367\n",
       "9. 0.875391724113215\n",
       "10. 0.290253190108434\n",
       "\n",
       "\n",
       "\n",
       "\n",
       "\n"
      ],
      "text/plain": [
       "$a\n",
       "[1] 1.000000 1.414214 1.732051 2.000000\n",
       "\n",
       "$b\n",
       " [1] 1.1238124       NaN 1.1531692 1.1280201 0.6439266       NaN       NaN\n",
       " [8]       NaN       NaN 1.5506945\n",
       "\n",
       "$c\n",
       " [1] 1.3280036 0.4483199       NaN 0.8429344 0.8371290 0.7671305 1.1190279\n",
       " [8] 0.3287535 1.1982000       NaN 0.8807566 1.1736250 1.0645827 1.3432012\n",
       "[15] 0.9710269 1.2262169 1.4442193 0.5559192       NaN 1.0230964\n",
       "\n",
       "$d\n",
       " [1] 0.6378324 0.9554454 0.5418518 0.6775439 0.5765368 0.8067654 0.5079535\n",
       " [8] 0.6917696 0.8753917 0.2902532\n"
      ]
     },
     "metadata": {},
     "output_type": "display_data"
    },
    {
     "data": {
      "text/html": [
       "<dl>\n",
       "\t<dt>$a</dt>\n",
       "\t\t<dd><style>\n",
       ".list-inline {list-style: none; margin:0; padding: 0}\n",
       ".list-inline>li {display: inline-block}\n",
       ".list-inline>li:not(:last-child)::after {content: \"\\00b7\"; padding: 0 .5ex}\n",
       "</style>\n",
       "<ol class=list-inline><li>1</li><li>1.4142135623731</li><li>1.73205080756888</li><li>2</li></ol>\n",
       "</dd>\n",
       "\t<dt>$b</dt>\n",
       "\t\t<dd><style>\n",
       ".list-inline {list-style: none; margin:0; padding: 0}\n",
       ".list-inline>li {display: inline-block}\n",
       ".list-inline>li:not(:last-child)::after {content: \"\\00b7\"; padding: 0 .5ex}\n",
       "</style>\n",
       "<ol class=list-inline><li>1.12381238864892</li><li>&lt;NA&gt;</li><li>1.15316922562237</li><li>1.1280200891072</li><li>0.643926575361204</li><li>&lt;NA&gt;</li><li>&lt;NA&gt;</li><li>&lt;NA&gt;</li><li>&lt;NA&gt;</li><li>1.55069448598296</li></ol>\n",
       "</dd>\n",
       "\t<dt>$c</dt>\n",
       "\t\t<dd><style>\n",
       ".list-inline {list-style: none; margin:0; padding: 0}\n",
       ".list-inline>li {display: inline-block}\n",
       ".list-inline>li:not(:last-child)::after {content: \"\\00b7\"; padding: 0 .5ex}\n",
       "</style>\n",
       "<ol class=list-inline><li>1.3280035621716</li><li>0.448319920381229</li><li>&lt;NA&gt;</li><li>0.842934414003709</li><li>0.837128951896112</li><li>0.76713047599801</li><li>1.11902790320712</li><li>0.328753513616861</li><li>1.1982000247687</li><li>&lt;NA&gt;</li><li>0.880756558148556</li><li>1.17362500228212</li><li>1.06458271675565</li><li>1.3432012171469</li><li>0.97102689232389</li><li>1.22621693522546</li><li>1.44421929157095</li><li>0.55591920303509</li><li>&lt;NA&gt;</li><li>1.0230963650548</li></ol>\n",
       "</dd>\n",
       "\t<dt>$d</dt>\n",
       "\t\t<dd><style>\n",
       ".list-inline {list-style: none; margin:0; padding: 0}\n",
       ".list-inline>li {display: inline-block}\n",
       ".list-inline>li:not(:last-child)::after {content: \"\\00b7\"; padding: 0 .5ex}\n",
       "</style>\n",
       "<ol class=list-inline><li>0.637832413090195</li><li>0.955445406216087</li><li>0.541851799628014</li><li>0.677543892496806</li><li>0.576536793437788</li><li>0.806765434975055</li><li>0.507953522201883</li><li>0.691769649721367</li><li>0.875391724113215</li><li>0.290253190108434</li></ol>\n",
       "</dd>\n",
       "</dl>\n"
      ],
      "text/latex": [
       "\\begin{description}\n",
       "\\item[\\$a] \\begin{enumerate*}\n",
       "\\item 1\n",
       "\\item 1.4142135623731\n",
       "\\item 1.73205080756888\n",
       "\\item 2\n",
       "\\end{enumerate*}\n",
       "\n",
       "\\item[\\$b] \\begin{enumerate*}\n",
       "\\item 1.12381238864892\n",
       "\\item <NA>\n",
       "\\item 1.15316922562237\n",
       "\\item 1.1280200891072\n",
       "\\item 0.643926575361204\n",
       "\\item <NA>\n",
       "\\item <NA>\n",
       "\\item <NA>\n",
       "\\item <NA>\n",
       "\\item 1.55069448598296\n",
       "\\end{enumerate*}\n",
       "\n",
       "\\item[\\$c] \\begin{enumerate*}\n",
       "\\item 1.3280035621716\n",
       "\\item 0.448319920381229\n",
       "\\item <NA>\n",
       "\\item 0.842934414003709\n",
       "\\item 0.837128951896112\n",
       "\\item 0.76713047599801\n",
       "\\item 1.11902790320712\n",
       "\\item 0.328753513616861\n",
       "\\item 1.1982000247687\n",
       "\\item <NA>\n",
       "\\item 0.880756558148556\n",
       "\\item 1.17362500228212\n",
       "\\item 1.06458271675565\n",
       "\\item 1.3432012171469\n",
       "\\item 0.97102689232389\n",
       "\\item 1.22621693522546\n",
       "\\item 1.44421929157095\n",
       "\\item 0.55591920303509\n",
       "\\item <NA>\n",
       "\\item 1.0230963650548\n",
       "\\end{enumerate*}\n",
       "\n",
       "\\item[\\$d] \\begin{enumerate*}\n",
       "\\item 0.637832413090195\n",
       "\\item 0.955445406216087\n",
       "\\item 0.541851799628014\n",
       "\\item 0.677543892496806\n",
       "\\item 0.576536793437788\n",
       "\\item 0.806765434975055\n",
       "\\item 0.507953522201883\n",
       "\\item 0.691769649721367\n",
       "\\item 0.875391724113215\n",
       "\\item 0.290253190108434\n",
       "\\end{enumerate*}\n",
       "\n",
       "\\end{description}\n"
      ],
      "text/markdown": [
       "$a\n",
       ":   1. 1\n",
       "2. 1.4142135623731\n",
       "3. 1.73205080756888\n",
       "4. 2\n",
       "\n",
       "\n",
       "\n",
       "$b\n",
       ":   1. 1.12381238864892\n",
       "2. &lt;NA&gt;\n",
       "3. 1.15316922562237\n",
       "4. 1.1280200891072\n",
       "5. 0.643926575361204\n",
       "6. &lt;NA&gt;\n",
       "7. &lt;NA&gt;\n",
       "8. &lt;NA&gt;\n",
       "9. &lt;NA&gt;\n",
       "10. 1.55069448598296\n",
       "\n",
       "\n",
       "\n",
       "$c\n",
       ":   1. 1.3280035621716\n",
       "2. 0.448319920381229\n",
       "3. &lt;NA&gt;\n",
       "4. 0.842934414003709\n",
       "5. 0.837128951896112\n",
       "6. 0.76713047599801\n",
       "7. 1.11902790320712\n",
       "8. 0.328753513616861\n",
       "9. 1.1982000247687\n",
       "10. &lt;NA&gt;\n",
       "11. 0.880756558148556\n",
       "12. 1.17362500228212\n",
       "13. 1.06458271675565\n",
       "14. 1.3432012171469\n",
       "15. 0.97102689232389\n",
       "16. 1.22621693522546\n",
       "17. 1.44421929157095\n",
       "18. 0.55591920303509\n",
       "19. &lt;NA&gt;\n",
       "20. 1.0230963650548\n",
       "\n",
       "\n",
       "\n",
       "$d\n",
       ":   1. 0.637832413090195\n",
       "2. 0.955445406216087\n",
       "3. 0.541851799628014\n",
       "4. 0.677543892496806\n",
       "5. 0.576536793437788\n",
       "6. 0.806765434975055\n",
       "7. 0.507953522201883\n",
       "8. 0.691769649721367\n",
       "9. 0.875391724113215\n",
       "10. 0.290253190108434\n",
       "\n",
       "\n",
       "\n",
       "\n",
       "\n"
      ],
      "text/plain": [
       "$a\n",
       "[1] 1.000000 1.414214 1.732051 2.000000\n",
       "\n",
       "$b\n",
       " [1] 1.1238124        NA 1.1531692 1.1280201 0.6439266        NA        NA\n",
       " [8]        NA        NA 1.5506945\n",
       "\n",
       "$c\n",
       " [1] 1.3280036 0.4483199        NA 0.8429344 0.8371290 0.7671305 1.1190279\n",
       " [8] 0.3287535 1.1982000        NA 0.8807566 1.1736250 1.0645827 1.3432012\n",
       "[15] 0.9710269 1.2262169 1.4442193 0.5559192        NA 1.0230964\n",
       "\n",
       "$d\n",
       " [1] 0.6378324 0.9554454 0.5418518 0.6775439 0.5765368 0.8067654 0.5079535\n",
       " [8] 0.6917696 0.8753917 0.2902532\n"
      ]
     },
     "metadata": {},
     "output_type": "display_data"
    }
   ],
   "source": [
    "set.seed(0)\n",
    "x=list(a=1:4, b=rnorm(10), c=rnorm(20, 1), d=runif(10)); x\n",
    "z=lapply(x, sqrt); z\n",
    "z=lapply(x, function(x){x[x<0]=NA; sqrt(x)}); z"
   ]
  },
  {
   "cell_type": "code",
   "execution_count": 37,
   "metadata": {},
   "outputs": [
    {
     "data": {
      "text/html": [
       "<dl>\n",
       "\t<dt>$a</dt>\n",
       "\t\t<dd><style>\n",
       ".list-inline {list-style: none; margin:0; padding: 0}\n",
       ".list-inline>li {display: inline-block}\n",
       ".list-inline>li:not(:last-child)::after {content: \"\\00b7\"; padding: 0 .5ex}\n",
       "</style>\n",
       "<ol class=list-inline><li>1</li><li>2</li><li>3</li><li>4</li></ol>\n",
       "</dd>\n",
       "\t<dt>$b</dt>\n",
       "\t\t<dd><style>\n",
       ".list-inline {list-style: none; margin:0; padding: 0}\n",
       ".list-inline>li {display: inline-block}\n",
       ".list-inline>li:not(:last-child)::after {content: \"\\00b7\"; padding: 0 .5ex}\n",
       "</style>\n",
       "<ol class=list-inline><li>1.26295428488079</li><li>-0.326233360705649</li><li>1.3297992629225</li><li>1.2724293214294</li><li>0.414641434456408</li><li>-1.53995004190371</li><li>-0.928567034713538</li><li>-0.29472044679056</li><li>-0.00576717274753696</li><li>2.40465338885795</li></ol>\n",
       "</dd>\n",
       "\t<dt>$c</dt>\n",
       "\t\t<dd><style>\n",
       ".list-inline {list-style: none; margin:0; padding: 0}\n",
       ".list-inline>li {display: inline-block}\n",
       ".list-inline>li:not(:last-child)::after {content: \"\\00b7\"; padding: 0 .5ex}\n",
       "</style>\n",
       "<ol class=list-inline><li>1.76359346114046</li><li>0.200990751010632</li><li>-0.147657009236351</li><li>0.710538426311777</li><li>0.700784882102684</li><li>0.588489167204933</li><li>1.25222344815613</li><li>0.108078872715431</li><li>1.43568329935572</li><li>-0.237538421929958</li><li>0.775732114721691</li><li>1.3773956459817</li><li>1.13333636081484</li><li>1.80418950974491</li><li>0.942893225616191</li><li>1.50360797223373</li><li>2.08576936214569</li><li>0.30904616030317</li><li>-0.284599353872188</li><li>1.04672617218835</li></ol>\n",
       "</dd>\n",
       "\t<dt>$d</dt>\n",
       "\t\t<dd><style>\n",
       ".list-inline {list-style: none; margin:0; padding: 0}\n",
       ".list-inline>li {display: inline-block}\n",
       ".list-inline>li:not(:last-child)::after {content: \"\\00b7\"; padding: 0 .5ex}\n",
       "</style>\n",
       "<ol class=list-inline><li>0.406830187188461</li><li>0.912875924259424</li><li>0.293603372760117</li><li>0.459065726259723</li><li>0.332394674187526</li><li>0.65087046707049</li><li>0.258016780717298</li><li>0.478545248275623</li><li>0.766310670645908</li><li>0.0842469143681228</li></ol>\n",
       "</dd>\n",
       "</dl>\n"
      ],
      "text/latex": [
       "\\begin{description}\n",
       "\\item[\\$a] \\begin{enumerate*}\n",
       "\\item 1\n",
       "\\item 2\n",
       "\\item 3\n",
       "\\item 4\n",
       "\\end{enumerate*}\n",
       "\n",
       "\\item[\\$b] \\begin{enumerate*}\n",
       "\\item 1.26295428488079\n",
       "\\item -0.326233360705649\n",
       "\\item 1.3297992629225\n",
       "\\item 1.2724293214294\n",
       "\\item 0.414641434456408\n",
       "\\item -1.53995004190371\n",
       "\\item -0.928567034713538\n",
       "\\item -0.29472044679056\n",
       "\\item -0.00576717274753696\n",
       "\\item 2.40465338885795\n",
       "\\end{enumerate*}\n",
       "\n",
       "\\item[\\$c] \\begin{enumerate*}\n",
       "\\item 1.76359346114046\n",
       "\\item 0.200990751010632\n",
       "\\item -0.147657009236351\n",
       "\\item 0.710538426311777\n",
       "\\item 0.700784882102684\n",
       "\\item 0.588489167204933\n",
       "\\item 1.25222344815613\n",
       "\\item 0.108078872715431\n",
       "\\item 1.43568329935572\n",
       "\\item -0.237538421929958\n",
       "\\item 0.775732114721691\n",
       "\\item 1.3773956459817\n",
       "\\item 1.13333636081484\n",
       "\\item 1.80418950974491\n",
       "\\item 0.942893225616191\n",
       "\\item 1.50360797223373\n",
       "\\item 2.08576936214569\n",
       "\\item 0.30904616030317\n",
       "\\item -0.284599353872188\n",
       "\\item 1.04672617218835\n",
       "\\end{enumerate*}\n",
       "\n",
       "\\item[\\$d] \\begin{enumerate*}\n",
       "\\item 0.406830187188461\n",
       "\\item 0.912875924259424\n",
       "\\item 0.293603372760117\n",
       "\\item 0.459065726259723\n",
       "\\item 0.332394674187526\n",
       "\\item 0.65087046707049\n",
       "\\item 0.258016780717298\n",
       "\\item 0.478545248275623\n",
       "\\item 0.766310670645908\n",
       "\\item 0.0842469143681228\n",
       "\\end{enumerate*}\n",
       "\n",
       "\\end{description}\n"
      ],
      "text/markdown": [
       "$a\n",
       ":   1. 1\n",
       "2. 2\n",
       "3. 3\n",
       "4. 4\n",
       "\n",
       "\n",
       "\n",
       "$b\n",
       ":   1. 1.26295428488079\n",
       "2. -0.326233360705649\n",
       "3. 1.3297992629225\n",
       "4. 1.2724293214294\n",
       "5. 0.414641434456408\n",
       "6. -1.53995004190371\n",
       "7. -0.928567034713538\n",
       "8. -0.29472044679056\n",
       "9. -0.00576717274753696\n",
       "10. 2.40465338885795\n",
       "\n",
       "\n",
       "\n",
       "$c\n",
       ":   1. 1.76359346114046\n",
       "2. 0.200990751010632\n",
       "3. -0.147657009236351\n",
       "4. 0.710538426311777\n",
       "5. 0.700784882102684\n",
       "6. 0.588489167204933\n",
       "7. 1.25222344815613\n",
       "8. 0.108078872715431\n",
       "9. 1.43568329935572\n",
       "10. -0.237538421929958\n",
       "11. 0.775732114721691\n",
       "12. 1.3773956459817\n",
       "13. 1.13333636081484\n",
       "14. 1.80418950974491\n",
       "15. 0.942893225616191\n",
       "16. 1.50360797223373\n",
       "17. 2.08576936214569\n",
       "18. 0.30904616030317\n",
       "19. -0.284599353872188\n",
       "20. 1.04672617218835\n",
       "\n",
       "\n",
       "\n",
       "$d\n",
       ":   1. 0.406830187188461\n",
       "2. 0.912875924259424\n",
       "3. 0.293603372760117\n",
       "4. 0.459065726259723\n",
       "5. 0.332394674187526\n",
       "6. 0.65087046707049\n",
       "7. 0.258016780717298\n",
       "8. 0.478545248275623\n",
       "9. 0.766310670645908\n",
       "10. 0.0842469143681228\n",
       "\n",
       "\n",
       "\n",
       "\n",
       "\n"
      ],
      "text/plain": [
       "$a\n",
       "[1] 1 2 3 4\n",
       "\n",
       "$b\n",
       " [1]  1.262954285 -0.326233361  1.329799263  1.272429321  0.414641434\n",
       " [6] -1.539950042 -0.928567035 -0.294720447 -0.005767173  2.404653389\n",
       "\n",
       "$c\n",
       " [1]  1.7635935  0.2009908 -0.1476570  0.7105384  0.7007849  0.5884892\n",
       " [7]  1.2522234  0.1080789  1.4356833 -0.2375384  0.7757321  1.3773956\n",
       "[13]  1.1333364  1.8041895  0.9428932  1.5036080  2.0857694  0.3090462\n",
       "[19] -0.2845994  1.0467262\n",
       "\n",
       "$d\n",
       " [1] 0.40683019 0.91287592 0.29360337 0.45906573 0.33239467 0.65087047\n",
       " [7] 0.25801678 0.47854525 0.76631067 0.08424691\n"
      ]
     },
     "metadata": {},
     "output_type": "display_data"
    },
    {
     "data": {
      "text/html": [
       "<dl>\n",
       "\t<dt>$a</dt>\n",
       "\t\t<dd><style>\n",
       ".list-inline {list-style: none; margin:0; padding: 0}\n",
       ".list-inline>li {display: inline-block}\n",
       ".list-inline>li:not(:last-child)::after {content: \"\\00b7\"; padding: 0 .5ex}\n",
       "</style>\n",
       "<ol class=list-inline><li>1</li><li>1.4142135623731</li><li>1.73205080756888</li><li>2</li></ol>\n",
       "</dd>\n",
       "\t<dt>$b</dt>\n",
       "\t\t<dd><style>\n",
       ".list-inline {list-style: none; margin:0; padding: 0}\n",
       ".list-inline>li {display: inline-block}\n",
       ".list-inline>li:not(:last-child)::after {content: \"\\00b7\"; padding: 0 .5ex}\n",
       "</style>\n",
       "<ol class=list-inline><li>1.12381238864892</li><li>0</li><li>1.15316922562237</li><li>1.1280200891072</li><li>0.643926575361204</li><li>0</li><li>0</li><li>0</li><li>0</li><li>1.55069448598296</li></ol>\n",
       "</dd>\n",
       "\t<dt>$c</dt>\n",
       "\t\t<dd><style>\n",
       ".list-inline {list-style: none; margin:0; padding: 0}\n",
       ".list-inline>li {display: inline-block}\n",
       ".list-inline>li:not(:last-child)::after {content: \"\\00b7\"; padding: 0 .5ex}\n",
       "</style>\n",
       "<ol class=list-inline><li>1.3280035621716</li><li>0.448319920381229</li><li>0</li><li>0.842934414003709</li><li>0.837128951896112</li><li>0.76713047599801</li><li>1.11902790320712</li><li>0.328753513616861</li><li>1.1982000247687</li><li>0</li><li>0.880756558148556</li><li>1.17362500228212</li><li>1.06458271675565</li><li>1.3432012171469</li><li>0.97102689232389</li><li>1.22621693522546</li><li>1.44421929157095</li><li>0.55591920303509</li><li>0</li><li>1.0230963650548</li></ol>\n",
       "</dd>\n",
       "\t<dt>$d</dt>\n",
       "\t\t<dd><style>\n",
       ".list-inline {list-style: none; margin:0; padding: 0}\n",
       ".list-inline>li {display: inline-block}\n",
       ".list-inline>li:not(:last-child)::after {content: \"\\00b7\"; padding: 0 .5ex}\n",
       "</style>\n",
       "<ol class=list-inline><li>0.637832413090195</li><li>0.955445406216087</li><li>0.541851799628014</li><li>0.677543892496806</li><li>0.576536793437788</li><li>0.806765434975055</li><li>0.507953522201883</li><li>0.691769649721367</li><li>0.875391724113215</li><li>0.290253190108434</li></ol>\n",
       "</dd>\n",
       "</dl>\n"
      ],
      "text/latex": [
       "\\begin{description}\n",
       "\\item[\\$a] \\begin{enumerate*}\n",
       "\\item 1\n",
       "\\item 1.4142135623731\n",
       "\\item 1.73205080756888\n",
       "\\item 2\n",
       "\\end{enumerate*}\n",
       "\n",
       "\\item[\\$b] \\begin{enumerate*}\n",
       "\\item 1.12381238864892\n",
       "\\item 0\n",
       "\\item 1.15316922562237\n",
       "\\item 1.1280200891072\n",
       "\\item 0.643926575361204\n",
       "\\item 0\n",
       "\\item 0\n",
       "\\item 0\n",
       "\\item 0\n",
       "\\item 1.55069448598296\n",
       "\\end{enumerate*}\n",
       "\n",
       "\\item[\\$c] \\begin{enumerate*}\n",
       "\\item 1.3280035621716\n",
       "\\item 0.448319920381229\n",
       "\\item 0\n",
       "\\item 0.842934414003709\n",
       "\\item 0.837128951896112\n",
       "\\item 0.76713047599801\n",
       "\\item 1.11902790320712\n",
       "\\item 0.328753513616861\n",
       "\\item 1.1982000247687\n",
       "\\item 0\n",
       "\\item 0.880756558148556\n",
       "\\item 1.17362500228212\n",
       "\\item 1.06458271675565\n",
       "\\item 1.3432012171469\n",
       "\\item 0.97102689232389\n",
       "\\item 1.22621693522546\n",
       "\\item 1.44421929157095\n",
       "\\item 0.55591920303509\n",
       "\\item 0\n",
       "\\item 1.0230963650548\n",
       "\\end{enumerate*}\n",
       "\n",
       "\\item[\\$d] \\begin{enumerate*}\n",
       "\\item 0.637832413090195\n",
       "\\item 0.955445406216087\n",
       "\\item 0.541851799628014\n",
       "\\item 0.677543892496806\n",
       "\\item 0.576536793437788\n",
       "\\item 0.806765434975055\n",
       "\\item 0.507953522201883\n",
       "\\item 0.691769649721367\n",
       "\\item 0.875391724113215\n",
       "\\item 0.290253190108434\n",
       "\\end{enumerate*}\n",
       "\n",
       "\\end{description}\n"
      ],
      "text/markdown": [
       "$a\n",
       ":   1. 1\n",
       "2. 1.4142135623731\n",
       "3. 1.73205080756888\n",
       "4. 2\n",
       "\n",
       "\n",
       "\n",
       "$b\n",
       ":   1. 1.12381238864892\n",
       "2. 0\n",
       "3. 1.15316922562237\n",
       "4. 1.1280200891072\n",
       "5. 0.643926575361204\n",
       "6. 0\n",
       "7. 0\n",
       "8. 0\n",
       "9. 0\n",
       "10. 1.55069448598296\n",
       "\n",
       "\n",
       "\n",
       "$c\n",
       ":   1. 1.3280035621716\n",
       "2. 0.448319920381229\n",
       "3. 0\n",
       "4. 0.842934414003709\n",
       "5. 0.837128951896112\n",
       "6. 0.76713047599801\n",
       "7. 1.11902790320712\n",
       "8. 0.328753513616861\n",
       "9. 1.1982000247687\n",
       "10. 0\n",
       "11. 0.880756558148556\n",
       "12. 1.17362500228212\n",
       "13. 1.06458271675565\n",
       "14. 1.3432012171469\n",
       "15. 0.97102689232389\n",
       "16. 1.22621693522546\n",
       "17. 1.44421929157095\n",
       "18. 0.55591920303509\n",
       "19. 0\n",
       "20. 1.0230963650548\n",
       "\n",
       "\n",
       "\n",
       "$d\n",
       ":   1. 0.637832413090195\n",
       "2. 0.955445406216087\n",
       "3. 0.541851799628014\n",
       "4. 0.677543892496806\n",
       "5. 0.576536793437788\n",
       "6. 0.806765434975055\n",
       "7. 0.507953522201883\n",
       "8. 0.691769649721367\n",
       "9. 0.875391724113215\n",
       "10. 0.290253190108434\n",
       "\n",
       "\n",
       "\n",
       "\n",
       "\n"
      ],
      "text/plain": [
       "$a\n",
       "[1] 1.000000 1.414214 1.732051 2.000000\n",
       "\n",
       "$b\n",
       " [1] 1.1238124 0.0000000 1.1531692 1.1280201 0.6439266 0.0000000 0.0000000\n",
       " [8] 0.0000000 0.0000000 1.5506945\n",
       "\n",
       "$c\n",
       " [1] 1.3280036 0.4483199 0.0000000 0.8429344 0.8371290 0.7671305 1.1190279\n",
       " [8] 0.3287535 1.1982000 0.0000000 0.8807566 1.1736250 1.0645827 1.3432012\n",
       "[15] 0.9710269 1.2262169 1.4442193 0.5559192 0.0000000 1.0230964\n",
       "\n",
       "$d\n",
       " [1] 0.6378324 0.9554454 0.5418518 0.6775439 0.5765368 0.8067654 0.5079535\n",
       " [8] 0.6917696 0.8753917 0.2902532\n"
      ]
     },
     "metadata": {},
     "output_type": "display_data"
    }
   ],
   "source": [
    "set.seed(0)\n",
    "x=list(a=1:4, b=rnorm(10), c=rnorm(20, 1), d=runif(10)); x\n",
    "\n",
    "mysqrt = function(x){\n",
    "    sqrt(ifelse(x>=0, x, 0))\n",
    "}\n",
    "# z=lapply(x, mysqrt); z\n",
    "z=lapply(x, function(x){sqrt(ifelse(x>=0, x, 0))}); z"
   ]
  },
  {
   "cell_type": "code",
   "execution_count": 38,
   "metadata": {},
   "outputs": [
    {
     "data": {
      "text/html": [
       "<dl>\n",
       "\t<dt>$a</dt>\n",
       "\t\t<dd><table class=\"dataframe\">\n",
       "<caption>A matrix: 2 × 2 of type int</caption>\n",
       "<tbody>\n",
       "\t<tr><td>1</td><td>3</td></tr>\n",
       "\t<tr><td>2</td><td>4</td></tr>\n",
       "</tbody>\n",
       "</table>\n",
       "</dd>\n",
       "\t<dt>$b</dt>\n",
       "\t\t<dd><table class=\"dataframe\">\n",
       "<caption>A matrix: 3 × 2 of type int</caption>\n",
       "<tbody>\n",
       "\t<tr><td>1</td><td>4</td></tr>\n",
       "\t<tr><td>2</td><td>5</td></tr>\n",
       "\t<tr><td>3</td><td>6</td></tr>\n",
       "</tbody>\n",
       "</table>\n",
       "</dd>\n",
       "</dl>\n"
      ],
      "text/latex": [
       "\\begin{description}\n",
       "\\item[\\$a] A matrix: 2 × 2 of type int\n",
       "\\begin{tabular}{ll}\n",
       "\t 1 & 3\\\\\n",
       "\t 2 & 4\\\\\n",
       "\\end{tabular}\n",
       "\n",
       "\\item[\\$b] A matrix: 3 × 2 of type int\n",
       "\\begin{tabular}{ll}\n",
       "\t 1 & 4\\\\\n",
       "\t 2 & 5\\\\\n",
       "\t 3 & 6\\\\\n",
       "\\end{tabular}\n",
       "\n",
       "\\end{description}\n"
      ],
      "text/markdown": [
       "$a\n",
       ":   \n",
       "A matrix: 2 × 2 of type int\n",
       "\n",
       "| 1 | 3 |\n",
       "| 2 | 4 |\n",
       "\n",
       "\n",
       "$b\n",
       ":   \n",
       "A matrix: 3 × 2 of type int\n",
       "\n",
       "| 1 | 4 |\n",
       "| 2 | 5 |\n",
       "| 3 | 6 |\n",
       "\n",
       "\n",
       "\n",
       "\n"
      ],
      "text/plain": [
       "$a\n",
       "     [,1] [,2]\n",
       "[1,]    1    3\n",
       "[2,]    2    4\n",
       "\n",
       "$b\n",
       "     [,1] [,2]\n",
       "[1,]    1    4\n",
       "[2,]    2    5\n",
       "[3,]    3    6\n"
      ]
     },
     "metadata": {},
     "output_type": "display_data"
    },
    {
     "name": "stdout",
     "output_type": "stream",
     "text": [
      "$a\n",
      "[1] 1 2\n",
      "\n",
      "$b\n",
      "[1] 1 2 3\n",
      "\n",
      "[1] 1 2 3\n",
      "[1] 1 2 3\n"
     ]
    }
   ],
   "source": [
    "x=list(a = matrix(1:4, 2, 2), b = matrix(1:6, 3, 2)); x\n",
    "y=lapply(x, function(elt) { elt[,1] }) # first column\n",
    "print(y)\n",
    "print(y[[2]])\n",
    "print(y$b)"
   ]
  },
  {
   "cell_type": "code",
   "execution_count": 39,
   "metadata": {},
   "outputs": [
    {
     "data": {
      "text/html": [
       "<dl>\n",
       "\t<dt>$a</dt>\n",
       "\t\t<dd><style>\n",
       ".list-inline {list-style: none; margin:0; padding: 0}\n",
       ".list-inline>li {display: inline-block}\n",
       ".list-inline>li:not(:last-child)::after {content: \"\\00b7\"; padding: 0 .5ex}\n",
       "</style>\n",
       "<ol class=list-inline><li>1</li><li>2</li><li>3</li><li>4</li><li>5</li><li>6</li><li>7</li><li>8</li><li>9</li><li>10</li></ol>\n",
       "</dd>\n",
       "\t<dt>$b</dt>\n",
       "\t\t<dd><style>\n",
       ".list-inline {list-style: none; margin:0; padding: 0}\n",
       ".list-inline>li {display: inline-block}\n",
       ".list-inline>li:not(:last-child)::after {content: \"\\00b7\"; padding: 0 .5ex}\n",
       "</style>\n",
       "<ol class=list-inline><li>15.759558770436</li><li>14.960801827229</li><li>7.85243445254059</li><li>16.1915205042669</li><li>8.60326859072865</li><li>18.7895154490535</li></ol>\n",
       "</dd>\n",
       "\t<dt>$c</dt>\n",
       "\t\t<dd><style>\n",
       ".list-inline {list-style: none; margin:0; padding: 0}\n",
       ".list-inline>li {display: inline-block}\n",
       ".list-inline>li:not(:last-child)::after {content: \"\\00b7\"; padding: 0 .5ex}\n",
       "</style>\n",
       "<ol class=list-inline><li>TRUE</li><li>FALSE</li><li>FALSE</li><li>TRUE</li></ol>\n",
       "</dd>\n",
       "</dl>\n"
      ],
      "text/latex": [
       "\\begin{description}\n",
       "\\item[\\$a] \\begin{enumerate*}\n",
       "\\item 1\n",
       "\\item 2\n",
       "\\item 3\n",
       "\\item 4\n",
       "\\item 5\n",
       "\\item 6\n",
       "\\item 7\n",
       "\\item 8\n",
       "\\item 9\n",
       "\\item 10\n",
       "\\end{enumerate*}\n",
       "\n",
       "\\item[\\$b] \\begin{enumerate*}\n",
       "\\item 15.759558770436\n",
       "\\item 14.960801827229\n",
       "\\item 7.85243445254059\n",
       "\\item 16.1915205042669\n",
       "\\item 8.60326859072865\n",
       "\\item 18.7895154490535\n",
       "\\end{enumerate*}\n",
       "\n",
       "\\item[\\$c] \\begin{enumerate*}\n",
       "\\item TRUE\n",
       "\\item FALSE\n",
       "\\item FALSE\n",
       "\\item TRUE\n",
       "\\end{enumerate*}\n",
       "\n",
       "\\end{description}\n"
      ],
      "text/markdown": [
       "$a\n",
       ":   1. 1\n",
       "2. 2\n",
       "3. 3\n",
       "4. 4\n",
       "5. 5\n",
       "6. 6\n",
       "7. 7\n",
       "8. 8\n",
       "9. 9\n",
       "10. 10\n",
       "\n",
       "\n",
       "\n",
       "$b\n",
       ":   1. 15.759558770436\n",
       "2. 14.960801827229\n",
       "3. 7.85243445254059\n",
       "4. 16.1915205042669\n",
       "5. 8.60326859072865\n",
       "6. 18.7895154490535\n",
       "\n",
       "\n",
       "\n",
       "$c\n",
       ":   1. TRUE\n",
       "2. FALSE\n",
       "3. FALSE\n",
       "4. TRUE\n",
       "\n",
       "\n",
       "\n",
       "\n",
       "\n"
      ],
      "text/plain": [
       "$a\n",
       " [1]  1  2  3  4  5  6  7  8  9 10\n",
       "\n",
       "$b\n",
       "[1] 15.759559 14.960802  7.852434 16.191521  8.603269 18.789515\n",
       "\n",
       "$c\n",
       "[1]  TRUE FALSE FALSE  TRUE\n"
      ]
     },
     "metadata": {},
     "output_type": "display_data"
    },
    {
     "data": {
      "text/html": [
       "<dl>\n",
       "\t<dt>$a</dt>\n",
       "\t\t<dd><style>\n",
       ".list-inline {list-style: none; margin:0; padding: 0}\n",
       ".list-inline>li {display: inline-block}\n",
       ".list-inline>li:not(:last-child)::after {content: \"\\00b7\"; padding: 0 .5ex}\n",
       "</style>\n",
       "<ol class=list-inline><li>1</li><li>3</li><li>5.5</li><li>8</li><li>10</li></ol>\n",
       "</dd>\n",
       "\t<dt>$b</dt>\n",
       "\t\t<dd><style>\n",
       ".list-inline {list-style: none; margin:0; padding: 0}\n",
       ".list-inline>li {display: inline-block}\n",
       ".list-inline>li:not(:last-child)::after {content: \"\\00b7\"; padding: 0 .5ex}\n",
       "</style>\n",
       "<ol class=list-inline><li>7.85243445254059</li><li>8.60326859072865</li><li>15.3601802988325</li><li>16.1915205042669</li><li>18.7895154490535</li></ol>\n",
       "</dd>\n",
       "\t<dt>$c</dt>\n",
       "\t\t<dd><style>\n",
       ".list-inline {list-style: none; margin:0; padding: 0}\n",
       ".list-inline>li {display: inline-block}\n",
       ".list-inline>li:not(:last-child)::after {content: \"\\00b7\"; padding: 0 .5ex}\n",
       "</style>\n",
       "<ol class=list-inline><li>0</li><li>0</li><li>0.5</li><li>1</li><li>1</li></ol>\n",
       "</dd>\n",
       "</dl>\n"
      ],
      "text/latex": [
       "\\begin{description}\n",
       "\\item[\\$a] \\begin{enumerate*}\n",
       "\\item 1\n",
       "\\item 3\n",
       "\\item 5.5\n",
       "\\item 8\n",
       "\\item 10\n",
       "\\end{enumerate*}\n",
       "\n",
       "\\item[\\$b] \\begin{enumerate*}\n",
       "\\item 7.85243445254059\n",
       "\\item 8.60326859072865\n",
       "\\item 15.3601802988325\n",
       "\\item 16.1915205042669\n",
       "\\item 18.7895154490535\n",
       "\\end{enumerate*}\n",
       "\n",
       "\\item[\\$c] \\begin{enumerate*}\n",
       "\\item 0\n",
       "\\item 0\n",
       "\\item 0.5\n",
       "\\item 1\n",
       "\\item 1\n",
       "\\end{enumerate*}\n",
       "\n",
       "\\end{description}\n"
      ],
      "text/markdown": [
       "$a\n",
       ":   1. 1\n",
       "2. 3\n",
       "3. 5.5\n",
       "4. 8\n",
       "5. 10\n",
       "\n",
       "\n",
       "\n",
       "$b\n",
       ":   1. 7.85243445254059\n",
       "2. 8.60326859072865\n",
       "3. 15.3601802988325\n",
       "4. 16.1915205042669\n",
       "5. 18.7895154490535\n",
       "\n",
       "\n",
       "\n",
       "$c\n",
       ":   1. 0\n",
       "2. 0\n",
       "3. 0.5\n",
       "4. 1\n",
       "5. 1\n",
       "\n",
       "\n",
       "\n",
       "\n",
       "\n"
      ],
      "text/plain": [
       "$a\n",
       "[1]  1.0  3.0  5.5  8.0 10.0\n",
       "\n",
       "$b\n",
       "[1]  7.852434  8.603269 15.360180 16.191521 18.789515\n",
       "\n",
       "$c\n",
       "[1] 0.0 0.0 0.5 1.0 1.0\n"
      ]
     },
     "metadata": {},
     "output_type": "display_data"
    }
   ],
   "source": [
    "x = list(a = 1:10, b = rnorm(6,10,5), c = c(TRUE,FALSE,FALSE,TRUE));x\n",
    "lapply(x,fivenum) #five sample percentiles for each element vector"
   ]
  },
  {
   "cell_type": "code",
   "execution_count": 40,
   "metadata": {
    "scrolled": true
   },
   "outputs": [
    {
     "data": {
      "text/html": [
       "'list'"
      ],
      "text/latex": [
       "'list'"
      ],
      "text/markdown": [
       "'list'"
      ],
      "text/plain": [
       "[1] \"list\""
      ]
     },
     "metadata": {},
     "output_type": "display_data"
    },
    {
     "name": "stdout",
     "output_type": "stream",
     "text": [
      "[[1]]\n",
      "[1] 1\n",
      "\n",
      "[[2]]\n",
      "[1] 1 2\n",
      "\n",
      "[[3]]\n",
      "[1] 1 2 3\n",
      "\n",
      "[[4]]\n",
      "[1] 1 2 3 4\n",
      "\n",
      "[[5]]\n",
      "[1] 1 2 3 4 5\n",
      "\n"
     ]
    }
   ],
   "source": [
    "l=lapply(1:5, seq_len) #return list\n",
    "class(l)\n",
    "print(l)"
   ]
  },
  {
   "cell_type": "code",
   "execution_count": 41,
   "metadata": {
    "scrolled": true
   },
   "outputs": [
    {
     "data": {
      "text/html": [
       "<table class=\"dataframe\">\n",
       "<caption>A matrix: 4 × 2 of type dbl</caption>\n",
       "<thead>\n",
       "\t<tr><th scope=col>x1</th><th scope=col>x2</th></tr>\n",
       "</thead>\n",
       "<tbody>\n",
       "\t<tr><td>3</td><td>2</td></tr>\n",
       "\t<tr><td>3</td><td>1</td></tr>\n",
       "\t<tr><td>3</td><td>4</td></tr>\n",
       "\t<tr><td>3</td><td>5</td></tr>\n",
       "</tbody>\n",
       "</table>\n"
      ],
      "text/latex": [
       "A matrix: 4 × 2 of type dbl\n",
       "\\begin{tabular}{ll}\n",
       " x1 & x2\\\\\n",
       "\\hline\n",
       "\t 3 & 2\\\\\n",
       "\t 3 & 1\\\\\n",
       "\t 3 & 4\\\\\n",
       "\t 3 & 5\\\\\n",
       "\\end{tabular}\n"
      ],
      "text/markdown": [
       "\n",
       "A matrix: 4 × 2 of type dbl\n",
       "\n",
       "| x1 | x2 |\n",
       "|---|---|\n",
       "| 3 | 2 |\n",
       "| 3 | 1 |\n",
       "| 3 | 4 |\n",
       "| 3 | 5 |\n",
       "\n"
      ],
      "text/plain": [
       "     x1 x2\n",
       "[1,] 3  2 \n",
       "[2,] 3  1 \n",
       "[3,] 3  4 \n",
       "[4,] 3  5 "
      ]
     },
     "metadata": {},
     "output_type": "display_data"
    },
    {
     "data": {
      "text/html": [
       "<style>\n",
       ".list-inline {list-style: none; margin:0; padding: 0}\n",
       ".list-inline>li {display: inline-block}\n",
       ".list-inline>li:not(:last-child)::after {content: \"\\00b7\"; padding: 0 .5ex}\n",
       "</style>\n",
       "<ol class=list-inline><li>'matrix'</li><li>'array'</li></ol>\n"
      ],
      "text/latex": [
       "\\begin{enumerate*}\n",
       "\\item 'matrix'\n",
       "\\item 'array'\n",
       "\\end{enumerate*}\n"
      ],
      "text/markdown": [
       "1. 'matrix'\n",
       "2. 'array'\n",
       "\n",
       "\n"
      ],
      "text/plain": [
       "[1] \"matrix\" \"array\" "
      ]
     },
     "metadata": {},
     "output_type": "display_data"
    },
    {
     "data": {
      "text/html": [
       "'double'"
      ],
      "text/latex": [
       "'double'"
      ],
      "text/markdown": [
       "'double'"
      ],
      "text/plain": [
       "[1] \"double\""
      ]
     },
     "metadata": {},
     "output_type": "display_data"
    },
    {
     "name": "stdout",
     "output_type": "stream",
     "text": [
      "[[1]]\n",
      "[1] 3\n",
      "\n",
      "[[2]]\n",
      "[1] 3\n",
      "\n",
      "[[3]]\n",
      "[1] 3\n",
      "\n",
      "[[4]]\n",
      "[1] 3\n",
      "\n",
      "[[5]]\n",
      "[1] 2\n",
      "\n",
      "[[6]]\n",
      "[1] 1\n",
      "\n",
      "[[7]]\n",
      "[1] 4\n",
      "\n",
      "[[8]]\n",
      "[1] 5\n",
      "\n",
      "[1] 3\n",
      "[1] 3\n",
      "[1] 3\n",
      "[1] 3\n",
      "[1] 2\n",
      "[1] 1\n",
      "[1] 4\n",
      "[1] 5\n"
     ]
    },
    {
     "data": {
      "text/html": [
       "8"
      ],
      "text/latex": [
       "8"
      ],
      "text/markdown": [
       "8"
      ],
      "text/plain": [
       "[1] 8"
      ]
     },
     "metadata": {},
     "output_type": "display_data"
    }
   ],
   "source": [
    "x=cbind(x1=3, x2=c(2:1, 4:5));x\n",
    "class(x)\n",
    "typeof(x)\n",
    "y=lapply(x, sum) #convert x to a list then run sum on each element\n",
    "print(y)\n",
    "for (i in x) print(i)  #matrix internally is a vector\n",
    "length(x)"
   ]
  },
  {
   "cell_type": "code",
   "execution_count": 42,
   "metadata": {},
   "outputs": [
    {
     "data": {
      "text/html": [
       "2"
      ],
      "text/latex": [
       "2"
      ],
      "text/markdown": [
       "2"
      ],
      "text/plain": [
       "[1] 2"
      ]
     },
     "metadata": {},
     "output_type": "display_data"
    }
   ],
   "source": [
    "mean(c(1,2,3))"
   ]
  },
  {
   "cell_type": "code",
   "execution_count": 43,
   "metadata": {},
   "outputs": [
    {
     "data": {
      "text/html": [
       "'character'"
      ],
      "text/latex": [
       "'character'"
      ],
      "text/markdown": [
       "'character'"
      ],
      "text/plain": [
       "[1] \"character\""
      ]
     },
     "metadata": {},
     "output_type": "display_data"
    },
    {
     "data": {
      "text/html": [
       "'character'"
      ],
      "text/latex": [
       "'character'"
      ],
      "text/markdown": [
       "'character'"
      ],
      "text/plain": [
       "[1] \"character\""
      ]
     },
     "metadata": {},
     "output_type": "display_data"
    },
    {
     "data": {
      "text/html": [
       "<style>\n",
       ".list-inline {list-style: none; margin:0; padding: 0}\n",
       ".list-inline>li {display: inline-block}\n",
       ".list-inline>li:not(:last-child)::after {content: \"\\00b7\"; padding: 0 .5ex}\n",
       "</style>\n",
       "<ol class=list-inline><li>'a'</li><li>'23'</li></ol>\n"
      ],
      "text/latex": [
       "\\begin{enumerate*}\n",
       "\\item 'a'\n",
       "\\item '23'\n",
       "\\end{enumerate*}\n"
      ],
      "text/markdown": [
       "1. 'a'\n",
       "2. '23'\n",
       "\n",
       "\n"
      ],
      "text/plain": [
       "[1] \"a\"  \"23\""
      ]
     },
     "metadata": {},
     "output_type": "display_data"
    }
   ],
   "source": [
    "x=c(\"a\", 23)\n",
    "typeof(x)\n",
    "class(x)\n",
    "x"
   ]
  },
  {
   "cell_type": "code",
   "execution_count": 44,
   "metadata": {
    "scrolled": true
   },
   "outputs": [
    {
     "data": {
      "text/html": [
       "<dl>\n",
       "\t<dt>$a</dt>\n",
       "\t\t<dd>'aa _'</dd>\n",
       "\t<dt>$b</dt>\n",
       "\t\t<dd>'bbb _'</dd>\n",
       "</dl>\n"
      ],
      "text/latex": [
       "\\begin{description}\n",
       "\\item[\\$a] 'aa \\_'\n",
       "\\item[\\$b] 'bbb \\_'\n",
       "\\end{description}\n"
      ],
      "text/markdown": [
       "$a\n",
       ":   'aa _'\n",
       "$b\n",
       ":   'bbb _'\n",
       "\n",
       "\n"
      ],
      "text/plain": [
       "$a\n",
       "[1] \"aa _\"\n",
       "\n",
       "$b\n",
       "[1] \"bbb _\"\n"
      ]
     },
     "metadata": {},
     "output_type": "display_data"
    },
    {
     "data": {
      "text/html": [
       "'list'"
      ],
      "text/latex": [
       "'list'"
      ],
      "text/markdown": [
       "'list'"
      ],
      "text/plain": [
       "[1] \"list\""
      ]
     },
     "metadata": {},
     "output_type": "display_data"
    },
    {
     "data": {
      "text/html": [
       "'list'"
      ],
      "text/latex": [
       "'list'"
      ],
      "text/markdown": [
       "'list'"
      ],
      "text/plain": [
       "[1] \"list\""
      ]
     },
     "metadata": {},
     "output_type": "display_data"
    },
    {
     "data": {
      "text/html": [
       "<style>\n",
       ".dl-inline {width: auto; margin:0; padding: 0}\n",
       ".dl-inline>dt, .dl-inline>dd {float: none; width: auto; display: inline-block}\n",
       ".dl-inline>dt::after {content: \":\\0020\"; padding-right: .5ex}\n",
       ".dl-inline>dt:not(:first-of-type) {padding-left: .5ex}\n",
       "</style><dl class=dl-inline><dt>a</dt><dd>'aa _'</dd><dt>b</dt><dd>'bbb _'</dd></dl>\n"
      ],
      "text/latex": [
       "\\begin{description*}\n",
       "\\item[a] 'aa \\_'\n",
       "\\item[b] 'bbb \\_'\n",
       "\\end{description*}\n"
      ],
      "text/markdown": [
       "a\n",
       ":   'aa _'b\n",
       ":   'bbb _'\n",
       "\n"
      ],
      "text/plain": [
       "      a       b \n",
       " \"aa _\" \"bbb _\" "
      ]
     },
     "metadata": {},
     "output_type": "display_data"
    },
    {
     "data": {
      "text/html": [
       "'character'"
      ],
      "text/latex": [
       "'character'"
      ],
      "text/markdown": [
       "'character'"
      ],
      "text/plain": [
       "[1] \"character\""
      ]
     },
     "metadata": {},
     "output_type": "display_data"
    },
    {
     "data": {
      "text/html": [
       "'character'"
      ],
      "text/latex": [
       "'character'"
      ],
      "text/markdown": [
       "'character'"
      ],
      "text/plain": [
       "[1] \"character\""
      ]
     },
     "metadata": {},
     "output_type": "display_data"
    }
   ],
   "source": [
    "x=list(a=\"aa\", b=\"bbb\")\n",
    "l=lapply(x, function(x) {paste(x, '_')})\n",
    "l\n",
    "class(l)\n",
    "typeof(l)\n",
    "s=sapply(x, function(x) {paste(x, '_')})\n",
    "s\n",
    "class(s)\n",
    "typeof(s)\n",
    "# s=sapply(x, nchar)\n",
    "# l;s\n",
    "# l$a[1]\n",
    "# s*2"
   ]
  },
  {
   "cell_type": "code",
   "execution_count": 45,
   "metadata": {},
   "outputs": [
    {
     "data": {
      "text/html": [
       "<dl>\n",
       "\t<dt>$a</dt>\n",
       "\t\t<dd>'a'</dd>\n",
       "\t<dt>$b</dt>\n",
       "\t\t<dd><style>\n",
       ".list-inline {list-style: none; margin:0; padding: 0}\n",
       ".list-inline>li {display: inline-block}\n",
       ".list-inline>li:not(:last-child)::after {content: \"\\00b7\"; padding: 0 .5ex}\n",
       "</style>\n",
       "<ol class=list-inline><li>0.560746090888056</li><li>-0.452783972553158</li><li>-0.832043296117832</li><li>-1.16657054708471</li><li>-1.0655905803883</li><li>-1.563782051071</li><li>1.15653699715018</li><li>0.83204712857239</li><li>-0.227328691424755</li><li>0.266137361672105</li></ol>\n",
       "</dd>\n",
       "\t<dt>$c</dt>\n",
       "\t\t<dd><style>\n",
       ".list-inline {list-style: none; margin:0; padding: 0}\n",
       ".list-inline>li {display: inline-block}\n",
       ".list-inline>li:not(:last-child)::after {content: \"\\00b7\"; padding: 0 .5ex}\n",
       "</style>\n",
       "<ol class=list-inline><li>0.623297281416372</li><li>3.44136462889459</li><li>0.204660882744628</li><li>0.945122526288421</li><li>1.25014132285415</li></ol>\n",
       "</dd>\n",
       "\t<dt>$d</dt>\n",
       "\t\t<dd><style>\n",
       ".list-inline {list-style: none; margin:0; padding: 0}\n",
       ".list-inline>li {display: inline-block}\n",
       ".list-inline>li:not(:last-child)::after {content: \"\\00b7\"; padding: 0 .5ex}\n",
       "</style>\n",
       "<ol class=list-inline><li>5.61824329356625</li><li>4.82737649735414</li><li>2.77609972599006</li><li>3.73638561502942</li><li>5.35872889597135</li><li>4.98895452153434</li><li>4.05935083738139</li><li>4.88417467784305</li><li>4.18503129113008</li><li>5.24226348085969</li></ol>\n",
       "</dd>\n",
       "</dl>\n"
      ],
      "text/latex": [
       "\\begin{description}\n",
       "\\item[\\$a] 'a'\n",
       "\\item[\\$b] \\begin{enumerate*}\n",
       "\\item 0.560746090888056\n",
       "\\item -0.452783972553158\n",
       "\\item -0.832043296117832\n",
       "\\item -1.16657054708471\n",
       "\\item -1.0655905803883\n",
       "\\item -1.563782051071\n",
       "\\item 1.15653699715018\n",
       "\\item 0.83204712857239\n",
       "\\item -0.227328691424755\n",
       "\\item 0.266137361672105\n",
       "\\end{enumerate*}\n",
       "\n",
       "\\item[\\$c] \\begin{enumerate*}\n",
       "\\item 0.623297281416372\n",
       "\\item 3.44136462889459\n",
       "\\item 0.204660882744628\n",
       "\\item 0.945122526288421\n",
       "\\item 1.25014132285415\n",
       "\\end{enumerate*}\n",
       "\n",
       "\\item[\\$d] \\begin{enumerate*}\n",
       "\\item 5.61824329356625\n",
       "\\item 4.82737649735414\n",
       "\\item 2.77609972599006\n",
       "\\item 3.73638561502942\n",
       "\\item 5.35872889597135\n",
       "\\item 4.98895452153434\n",
       "\\item 4.05935083738139\n",
       "\\item 4.88417467784305\n",
       "\\item 4.18503129113008\n",
       "\\item 5.24226348085969\n",
       "\\end{enumerate*}\n",
       "\n",
       "\\end{description}\n"
      ],
      "text/markdown": [
       "$a\n",
       ":   'a'\n",
       "$b\n",
       ":   1. 0.560746090888056\n",
       "2. -0.452783972553158\n",
       "3. -0.832043296117832\n",
       "4. -1.16657054708471\n",
       "5. -1.0655905803883\n",
       "6. -1.563782051071\n",
       "7. 1.15653699715018\n",
       "8. 0.83204712857239\n",
       "9. -0.227328691424755\n",
       "10. 0.266137361672105\n",
       "\n",
       "\n",
       "\n",
       "$c\n",
       ":   1. 0.623297281416372\n",
       "2. 3.44136462889459\n",
       "3. 0.204660882744628\n",
       "4. 0.945122526288421\n",
       "5. 1.25014132285415\n",
       "\n",
       "\n",
       "\n",
       "$d\n",
       ":   1. 5.61824329356625\n",
       "2. 4.82737649735414\n",
       "3. 2.77609972599006\n",
       "4. 3.73638561502942\n",
       "5. 5.35872889597135\n",
       "6. 4.98895452153434\n",
       "7. 4.05935083738139\n",
       "8. 4.88417467784305\n",
       "9. 4.18503129113008\n",
       "10. 5.24226348085969\n",
       "\n",
       "\n",
       "\n",
       "\n",
       "\n"
      ],
      "text/plain": [
       "$a\n",
       "[1] \"a\"\n",
       "\n",
       "$b\n",
       " [1]  0.5607461 -0.4527840 -0.8320433 -1.1665705 -1.0655906 -1.5637821\n",
       " [7]  1.1565370  0.8320471 -0.2273287  0.2661374\n",
       "\n",
       "$c\n",
       "[1] 0.6232973 3.4413646 0.2046609 0.9451225 1.2501413\n",
       "\n",
       "$d\n",
       " [1] 5.618243 4.827376 2.776100 3.736386 5.358729 4.988955 4.059351 4.884175\n",
       " [9] 4.185031 5.242263\n"
      ]
     },
     "metadata": {},
     "output_type": "display_data"
    },
    {
     "name": "stdout",
     "output_type": "stream",
     "text": [
      "[1] \"========lapply======\"\n"
     ]
    },
    {
     "name": "stderr",
     "output_type": "stream",
     "text": [
      "Warning message in mean.default(X[[i]], ...):\n",
      "\"argument is not numeric or logical: returning NA\"\n"
     ]
    },
    {
     "name": "stdout",
     "output_type": "stream",
     "text": [
      "$a\n",
      "[1] NA\n",
      "\n",
      "$b\n",
      "[1] -0.2492632\n",
      "\n",
      "$c\n",
      "[1] 1.292917\n",
      "\n",
      "$d\n",
      "[1] 4.567661\n",
      "\n",
      "[1] \"========sapply======\"\n"
     ]
    },
    {
     "name": "stderr",
     "output_type": "stream",
     "text": [
      "Warning message in mean.default(X[[i]], ...):\n",
      "\"argument is not numeric or logical: returning NA\"\n"
     ]
    },
    {
     "name": "stdout",
     "output_type": "stream",
     "text": [
      "         a          b          c          d \n",
      "        NA -0.2492632  1.2929173  4.5676609 \n"
     ]
    },
    {
     "data": {
      "text/html": [
       "'list'"
      ],
      "text/latex": [
       "'list'"
      ],
      "text/markdown": [
       "'list'"
      ],
      "text/plain": [
       "[1] \"list\""
      ]
     },
     "metadata": {},
     "output_type": "display_data"
    },
    {
     "data": {
      "text/html": [
       "-0.249263156035702"
      ],
      "text/latex": [
       "-0.249263156035702"
      ],
      "text/markdown": [
       "-0.249263156035702"
      ],
      "text/plain": [
       "[1] -0.2492632"
      ]
     },
     "metadata": {},
     "output_type": "display_data"
    },
    {
     "data": {
      "text/html": [
       "'numeric'"
      ],
      "text/latex": [
       "'numeric'"
      ],
      "text/markdown": [
       "'numeric'"
      ],
      "text/plain": [
       "[1] \"numeric\""
      ]
     },
     "metadata": {},
     "output_type": "display_data"
    },
    {
     "data": {
      "text/html": [
       "<strong>b:</strong> -0.249263156035702"
      ],
      "text/latex": [
       "\\textbf{b:} -0.249263156035702"
      ],
      "text/markdown": [
       "**b:** -0.249263156035702"
      ],
      "text/plain": [
       "         b \n",
       "-0.2492632 "
      ]
     },
     "metadata": {},
     "output_type": "display_data"
    }
   ],
   "source": [
    "x=list(a=\"a\", b=rnorm(10), c=rnorm(5, 1), d=rnorm(10, 5));x\n",
    "print(\"========lapply======\")\n",
    "l=lapply(x, mean);print(l) #list\n",
    "print(\"========sapply======\")\n",
    "s=sapply(x, mean);print(s) #vector\n",
    "# print(l)\n",
    "class(l)\n",
    "l[[2]]  #access element of list\n",
    "\n",
    "# print(s)\n",
    "class(s)\n",
    "s[2]"
   ]
  },
  {
   "cell_type": "code",
   "execution_count": 46,
   "metadata": {},
   "outputs": [
    {
     "data": {
      "text/html": [
       "<dl>\n",
       "\t<dt>$a</dt>\n",
       "\t\t<dd><style>\n",
       ".list-inline {list-style: none; margin:0; padding: 0}\n",
       ".list-inline>li {display: inline-block}\n",
       ".list-inline>li:not(:last-child)::after {content: \"\\00b7\"; padding: 0 .5ex}\n",
       "</style>\n",
       "<ol class=list-inline><li>1</li><li>2</li><li>3</li><li>4</li></ol>\n",
       "</dd>\n",
       "\t<dt>$b</dt>\n",
       "\t\t<dd><style>\n",
       ".list-inline {list-style: none; margin:0; padding: 0}\n",
       ".list-inline>li {display: inline-block}\n",
       ".list-inline>li:not(:last-child)::after {content: \"\\00b7\"; padding: 0 .5ex}\n",
       "</style>\n",
       "<ol class=list-inline><li>-1.4250983947325</li><li>0.36594112304922</li><li>0.248412648872596</li><li>0.0652881816716207</li><li>0.0191563916602738</li><li>0.257338377155533</li><li>-0.649010077708898</li><li>-0.119168762418038</li><li>0.66413569989411</li><li>1.10096910219409</li></ol>\n",
       "</dd>\n",
       "\t<dt>$c</dt>\n",
       "\t\t<dd><style>\n",
       ".list-inline {list-style: none; margin:0; padding: 0}\n",
       ".list-inline>li {display: inline-block}\n",
       ".list-inline>li:not(:last-child)::after {content: \"\\00b7\"; padding: 0 .5ex}\n",
       "</style>\n",
       "<ol class=list-inline><li>1.14377148075807</li><li>0.882246401834049</li><li>0.0879316330516621</li><li>-0.437586240829979</li><li>0.202910474928035</li></ol>\n",
       "</dd>\n",
       "\t<dt>$d</dt>\n",
       "\t\t<dd><style>\n",
       ".list-inline {list-style: none; margin:0; padding: 0}\n",
       ".list-inline>li {display: inline-block}\n",
       ".list-inline>li:not(:last-child)::after {content: \"\\00b7\"; padding: 0 .5ex}\n",
       "</style>\n",
       "<ol class=list-inline><li>6.25408310644997</li><li>5.77214218580453</li><li>4.78048437324656</li><li>4.57518971662271</li><li>4.58101990057804</li><li>5.99698686090911</li><li>4.72422197091197</li><li>6.2560188173061</li><li>5.64667439049535</li><li>6.29931230256343</li></ol>\n",
       "</dd>\n",
       "</dl>\n"
      ],
      "text/latex": [
       "\\begin{description}\n",
       "\\item[\\$a] \\begin{enumerate*}\n",
       "\\item 1\n",
       "\\item 2\n",
       "\\item 3\n",
       "\\item 4\n",
       "\\end{enumerate*}\n",
       "\n",
       "\\item[\\$b] \\begin{enumerate*}\n",
       "\\item -1.4250983947325\n",
       "\\item 0.36594112304922\n",
       "\\item 0.248412648872596\n",
       "\\item 0.0652881816716207\n",
       "\\item 0.0191563916602738\n",
       "\\item 0.257338377155533\n",
       "\\item -0.649010077708898\n",
       "\\item -0.119168762418038\n",
       "\\item 0.66413569989411\n",
       "\\item 1.10096910219409\n",
       "\\end{enumerate*}\n",
       "\n",
       "\\item[\\$c] \\begin{enumerate*}\n",
       "\\item 1.14377148075807\n",
       "\\item 0.882246401834049\n",
       "\\item 0.0879316330516621\n",
       "\\item -0.437586240829979\n",
       "\\item 0.202910474928035\n",
       "\\end{enumerate*}\n",
       "\n",
       "\\item[\\$d] \\begin{enumerate*}\n",
       "\\item 6.25408310644997\n",
       "\\item 5.77214218580453\n",
       "\\item 4.78048437324656\n",
       "\\item 4.57518971662271\n",
       "\\item 4.58101990057804\n",
       "\\item 5.99698686090911\n",
       "\\item 4.72422197091197\n",
       "\\item 6.2560188173061\n",
       "\\item 5.64667439049535\n",
       "\\item 6.29931230256343\n",
       "\\end{enumerate*}\n",
       "\n",
       "\\end{description}\n"
      ],
      "text/markdown": [
       "$a\n",
       ":   1. 1\n",
       "2. 2\n",
       "3. 3\n",
       "4. 4\n",
       "\n",
       "\n",
       "\n",
       "$b\n",
       ":   1. -1.4250983947325\n",
       "2. 0.36594112304922\n",
       "3. 0.248412648872596\n",
       "4. 0.0652881816716207\n",
       "5. 0.0191563916602738\n",
       "6. 0.257338377155533\n",
       "7. -0.649010077708898\n",
       "8. -0.119168762418038\n",
       "9. 0.66413569989411\n",
       "10. 1.10096910219409\n",
       "\n",
       "\n",
       "\n",
       "$c\n",
       ":   1. 1.14377148075807\n",
       "2. 0.882246401834049\n",
       "3. 0.0879316330516621\n",
       "4. -0.437586240829979\n",
       "5. 0.202910474928035\n",
       "\n",
       "\n",
       "\n",
       "$d\n",
       ":   1. 6.25408310644997\n",
       "2. 5.77214218580453\n",
       "3. 4.78048437324656\n",
       "4. 4.57518971662271\n",
       "5. 4.58101990057804\n",
       "6. 5.99698686090911\n",
       "7. 4.72422197091197\n",
       "8. 6.2560188173061\n",
       "9. 5.64667439049535\n",
       "10. 6.29931230256343\n",
       "\n",
       "\n",
       "\n",
       "\n",
       "\n"
      ],
      "text/plain": [
       "$a\n",
       "[1] 1 2 3 4\n",
       "\n",
       "$b\n",
       " [1] -1.42509839  0.36594112  0.24841265  0.06528818  0.01915639  0.25733838\n",
       " [7] -0.64901008 -0.11916876  0.66413570  1.10096910\n",
       "\n",
       "$c\n",
       "[1]  1.14377148  0.88224640  0.08793163 -0.43758624  0.20291047\n",
       "\n",
       "$d\n",
       " [1] 6.254083 5.772142 4.780484 4.575190 4.581020 5.996987 4.724222 6.256019\n",
       " [9] 5.646674 6.299312\n"
      ]
     },
     "metadata": {},
     "output_type": "display_data"
    },
    {
     "data": {
      "text/html": [
       "<dl>\n",
       "\t<dt>$a</dt>\n",
       "\t\t<dd><style>\n",
       ".list-inline {list-style: none; margin:0; padding: 0}\n",
       ".list-inline>li {display: inline-block}\n",
       ".list-inline>li:not(:last-child)::after {content: \"\\00b7\"; padding: 0 .5ex}\n",
       "</style>\n",
       "<ol class=list-inline><li>1</li><li>4</li><li>9</li><li>16</li></ol>\n",
       "</dd>\n",
       "\t<dt>$b</dt>\n",
       "\t\t<dd><style>\n",
       ".list-inline {list-style: none; margin:0; padding: 0}\n",
       ".list-inline>li {display: inline-block}\n",
       ".list-inline>li:not(:last-child)::after {content: \"\\00b7\"; padding: 0 .5ex}\n",
       "</style>\n",
       "<ol class=list-inline><li>2.03090543466915</li><li>0.133912905538524</li><li>0.0617088441198999</li><li>0.00426254666598655</li><li>0.000366967341441809</li><li>0.0662230403570435</li><li>0.42121408096771</li><li>0.0142011939362468</li><li>0.44107622787384</li><li>1.21213296398605</li></ol>\n",
       "</dd>\n",
       "\t<dt>$c</dt>\n",
       "\t\t<dd><style>\n",
       ".list-inline {list-style: none; margin:0; padding: 0}\n",
       ".list-inline>li {display: inline-block}\n",
       ".list-inline>li:not(:last-child)::after {content: \"\\00b7\"; padding: 0 .5ex}\n",
       "</style>\n",
       "<ol class=list-inline><li>1.30821320019551</li><li>0.778358713549126</li><li>0.00773197209113215</li><li>0.191481718163712</li><li>0.0411726608355209</li></ol>\n",
       "</dd>\n",
       "\t<dt>$d</dt>\n",
       "\t\t<dd><style>\n",
       ".list-inline {list-style: none; margin:0; padding: 0}\n",
       ".list-inline>li {display: inline-block}\n",
       ".list-inline>li:not(:last-child)::after {content: \"\\00b7\"; padding: 0 .5ex}\n",
       "</style>\n",
       "<ol class=list-inline><li>39.1135555023829</li><li>33.3176254131443</li><li>22.8530308428546</li><li>20.9323609430902</li><li>20.985743329492</li><li>35.9638514099164</li><li>22.3182732304474</li><li>39.137771442488</li><li>31.884931672276</li><li>39.681335485227</li></ol>\n",
       "</dd>\n",
       "</dl>\n"
      ],
      "text/latex": [
       "\\begin{description}\n",
       "\\item[\\$a] \\begin{enumerate*}\n",
       "\\item 1\n",
       "\\item 4\n",
       "\\item 9\n",
       "\\item 16\n",
       "\\end{enumerate*}\n",
       "\n",
       "\\item[\\$b] \\begin{enumerate*}\n",
       "\\item 2.03090543466915\n",
       "\\item 0.133912905538524\n",
       "\\item 0.0617088441198999\n",
       "\\item 0.00426254666598655\n",
       "\\item 0.000366967341441809\n",
       "\\item 0.0662230403570435\n",
       "\\item 0.42121408096771\n",
       "\\item 0.0142011939362468\n",
       "\\item 0.44107622787384\n",
       "\\item 1.21213296398605\n",
       "\\end{enumerate*}\n",
       "\n",
       "\\item[\\$c] \\begin{enumerate*}\n",
       "\\item 1.30821320019551\n",
       "\\item 0.778358713549126\n",
       "\\item 0.00773197209113215\n",
       "\\item 0.191481718163712\n",
       "\\item 0.0411726608355209\n",
       "\\end{enumerate*}\n",
       "\n",
       "\\item[\\$d] \\begin{enumerate*}\n",
       "\\item 39.1135555023829\n",
       "\\item 33.3176254131443\n",
       "\\item 22.8530308428546\n",
       "\\item 20.9323609430902\n",
       "\\item 20.985743329492\n",
       "\\item 35.9638514099164\n",
       "\\item 22.3182732304474\n",
       "\\item 39.137771442488\n",
       "\\item 31.884931672276\n",
       "\\item 39.681335485227\n",
       "\\end{enumerate*}\n",
       "\n",
       "\\end{description}\n"
      ],
      "text/markdown": [
       "$a\n",
       ":   1. 1\n",
       "2. 4\n",
       "3. 9\n",
       "4. 16\n",
       "\n",
       "\n",
       "\n",
       "$b\n",
       ":   1. 2.03090543466915\n",
       "2. 0.133912905538524\n",
       "3. 0.0617088441198999\n",
       "4. 0.00426254666598655\n",
       "5. 0.000366967341441809\n",
       "6. 0.0662230403570435\n",
       "7. 0.42121408096771\n",
       "8. 0.0142011939362468\n",
       "9. 0.44107622787384\n",
       "10. 1.21213296398605\n",
       "\n",
       "\n",
       "\n",
       "$c\n",
       ":   1. 1.30821320019551\n",
       "2. 0.778358713549126\n",
       "3. 0.00773197209113215\n",
       "4. 0.191481718163712\n",
       "5. 0.0411726608355209\n",
       "\n",
       "\n",
       "\n",
       "$d\n",
       ":   1. 39.1135555023829\n",
       "2. 33.3176254131443\n",
       "3. 22.8530308428546\n",
       "4. 20.9323609430902\n",
       "5. 20.985743329492\n",
       "6. 35.9638514099164\n",
       "7. 22.3182732304474\n",
       "8. 39.137771442488\n",
       "9. 31.884931672276\n",
       "10. 39.681335485227\n",
       "\n",
       "\n",
       "\n",
       "\n",
       "\n"
      ],
      "text/plain": [
       "$a\n",
       "[1]  1  4  9 16\n",
       "\n",
       "$b\n",
       " [1] 2.0309054347 0.1339129055 0.0617088441 0.0042625467 0.0003669673\n",
       " [6] 0.0662230404 0.4212140810 0.0142011939 0.4410762279 1.2121329640\n",
       "\n",
       "$c\n",
       "[1] 1.308213200 0.778358714 0.007731972 0.191481718 0.041172661\n",
       "\n",
       "$d\n",
       " [1] 39.11356 33.31763 22.85303 20.93236 20.98574 35.96385 22.31827 39.13777\n",
       " [9] 31.88493 39.68134\n"
      ]
     },
     "metadata": {},
     "output_type": "display_data"
    },
    {
     "data": {
      "text/html": [
       "'list'"
      ],
      "text/latex": [
       "'list'"
      ],
      "text/markdown": [
       "'list'"
      ],
      "text/plain": [
       "[1] \"list\""
      ]
     },
     "metadata": {},
     "output_type": "display_data"
    },
    {
     "data": {
      "text/html": [
       "<dl>\n",
       "\t<dt>$a</dt>\n",
       "\t\t<dd><style>\n",
       ".list-inline {list-style: none; margin:0; padding: 0}\n",
       ".list-inline>li {display: inline-block}\n",
       ".list-inline>li:not(:last-child)::after {content: \"\\00b7\"; padding: 0 .5ex}\n",
       "</style>\n",
       "<ol class=list-inline><li>1</li><li>4</li><li>9</li><li>16</li></ol>\n",
       "</dd>\n",
       "\t<dt>$b</dt>\n",
       "\t\t<dd><style>\n",
       ".list-inline {list-style: none; margin:0; padding: 0}\n",
       ".list-inline>li {display: inline-block}\n",
       ".list-inline>li:not(:last-child)::after {content: \"\\00b7\"; padding: 0 .5ex}\n",
       "</style>\n",
       "<ol class=list-inline><li>2.03090543466915</li><li>0.133912905538524</li><li>0.0617088441198999</li><li>0.00426254666598655</li><li>0.000366967341441809</li><li>0.0662230403570435</li><li>0.42121408096771</li><li>0.0142011939362468</li><li>0.44107622787384</li><li>1.21213296398605</li></ol>\n",
       "</dd>\n",
       "\t<dt>$c</dt>\n",
       "\t\t<dd><style>\n",
       ".list-inline {list-style: none; margin:0; padding: 0}\n",
       ".list-inline>li {display: inline-block}\n",
       ".list-inline>li:not(:last-child)::after {content: \"\\00b7\"; padding: 0 .5ex}\n",
       "</style>\n",
       "<ol class=list-inline><li>1.30821320019551</li><li>0.778358713549126</li><li>0.00773197209113215</li><li>0.191481718163712</li><li>0.0411726608355209</li></ol>\n",
       "</dd>\n",
       "\t<dt>$d</dt>\n",
       "\t\t<dd><style>\n",
       ".list-inline {list-style: none; margin:0; padding: 0}\n",
       ".list-inline>li {display: inline-block}\n",
       ".list-inline>li:not(:last-child)::after {content: \"\\00b7\"; padding: 0 .5ex}\n",
       "</style>\n",
       "<ol class=list-inline><li>39.1135555023829</li><li>33.3176254131443</li><li>22.8530308428546</li><li>20.9323609430902</li><li>20.985743329492</li><li>35.9638514099164</li><li>22.3182732304474</li><li>39.137771442488</li><li>31.884931672276</li><li>39.681335485227</li></ol>\n",
       "</dd>\n",
       "</dl>\n"
      ],
      "text/latex": [
       "\\begin{description}\n",
       "\\item[\\$a] \\begin{enumerate*}\n",
       "\\item 1\n",
       "\\item 4\n",
       "\\item 9\n",
       "\\item 16\n",
       "\\end{enumerate*}\n",
       "\n",
       "\\item[\\$b] \\begin{enumerate*}\n",
       "\\item 2.03090543466915\n",
       "\\item 0.133912905538524\n",
       "\\item 0.0617088441198999\n",
       "\\item 0.00426254666598655\n",
       "\\item 0.000366967341441809\n",
       "\\item 0.0662230403570435\n",
       "\\item 0.42121408096771\n",
       "\\item 0.0142011939362468\n",
       "\\item 0.44107622787384\n",
       "\\item 1.21213296398605\n",
       "\\end{enumerate*}\n",
       "\n",
       "\\item[\\$c] \\begin{enumerate*}\n",
       "\\item 1.30821320019551\n",
       "\\item 0.778358713549126\n",
       "\\item 0.00773197209113215\n",
       "\\item 0.191481718163712\n",
       "\\item 0.0411726608355209\n",
       "\\end{enumerate*}\n",
       "\n",
       "\\item[\\$d] \\begin{enumerate*}\n",
       "\\item 39.1135555023829\n",
       "\\item 33.3176254131443\n",
       "\\item 22.8530308428546\n",
       "\\item 20.9323609430902\n",
       "\\item 20.985743329492\n",
       "\\item 35.9638514099164\n",
       "\\item 22.3182732304474\n",
       "\\item 39.137771442488\n",
       "\\item 31.884931672276\n",
       "\\item 39.681335485227\n",
       "\\end{enumerate*}\n",
       "\n",
       "\\end{description}\n"
      ],
      "text/markdown": [
       "$a\n",
       ":   1. 1\n",
       "2. 4\n",
       "3. 9\n",
       "4. 16\n",
       "\n",
       "\n",
       "\n",
       "$b\n",
       ":   1. 2.03090543466915\n",
       "2. 0.133912905538524\n",
       "3. 0.0617088441198999\n",
       "4. 0.00426254666598655\n",
       "5. 0.000366967341441809\n",
       "6. 0.0662230403570435\n",
       "7. 0.42121408096771\n",
       "8. 0.0142011939362468\n",
       "9. 0.44107622787384\n",
       "10. 1.21213296398605\n",
       "\n",
       "\n",
       "\n",
       "$c\n",
       ":   1. 1.30821320019551\n",
       "2. 0.778358713549126\n",
       "3. 0.00773197209113215\n",
       "4. 0.191481718163712\n",
       "5. 0.0411726608355209\n",
       "\n",
       "\n",
       "\n",
       "$d\n",
       ":   1. 39.1135555023829\n",
       "2. 33.3176254131443\n",
       "3. 22.8530308428546\n",
       "4. 20.9323609430902\n",
       "5. 20.985743329492\n",
       "6. 35.9638514099164\n",
       "7. 22.3182732304474\n",
       "8. 39.137771442488\n",
       "9. 31.884931672276\n",
       "10. 39.681335485227\n",
       "\n",
       "\n",
       "\n",
       "\n",
       "\n"
      ],
      "text/plain": [
       "$a\n",
       "[1]  1  4  9 16\n",
       "\n",
       "$b\n",
       " [1] 2.0309054347 0.1339129055 0.0617088441 0.0042625467 0.0003669673\n",
       " [6] 0.0662230404 0.4212140810 0.0142011939 0.4410762279 1.2121329640\n",
       "\n",
       "$c\n",
       "[1] 1.308213200 0.778358714 0.007731972 0.191481718 0.041172661\n",
       "\n",
       "$d\n",
       " [1] 39.11356 33.31763 22.85303 20.93236 20.98574 35.96385 22.31827 39.13777\n",
       " [9] 31.88493 39.68134\n"
      ]
     },
     "metadata": {},
     "output_type": "display_data"
    },
    {
     "data": {
      "text/html": [
       "'list'"
      ],
      "text/latex": [
       "'list'"
      ],
      "text/markdown": [
       "'list'"
      ],
      "text/plain": [
       "[1] \"list\""
      ]
     },
     "metadata": {},
     "output_type": "display_data"
    }
   ],
   "source": [
    "x=list(a=1:4, b=rnorm(10), c=rnorm(5, 1), d=rnorm(10, 5));x\n",
    "l=lapply(x, function(i){i*i});l\n",
    "# print(l)\n",
    "class(l)\n",
    "s=sapply(x, function(i){i*i});s #can't figure out the different size vectors, so return list, same as lapply\n",
    "# print(s)\n",
    "class(s)"
   ]
  },
  {
   "cell_type": "code",
   "execution_count": 47,
   "metadata": {},
   "outputs": [
    {
     "name": "stdout",
     "output_type": "stream",
     "text": [
      "[[1]]\n",
      "[1] 1\n",
      "\n",
      "[[2]]\n",
      "[1] 1 2\n",
      "\n",
      "[[3]]\n",
      "[1] 1 2 3\n",
      "\n",
      "[[4]]\n",
      "[1] 1 2 3 4\n",
      "\n",
      "[[5]]\n",
      "[1] 1 2 3 4 5\n",
      "\n",
      "[[1]]\n",
      "[1] 1\n",
      "\n",
      "[[2]]\n",
      "[1] 1 2\n",
      "\n",
      "[[3]]\n",
      "[1] 1 2 3\n",
      "\n",
      "[[4]]\n",
      "[1] 1 2 3 4\n",
      "\n",
      "[[5]]\n",
      "[1] 1 2 3 4 5\n",
      "\n"
     ]
    }
   ],
   "source": [
    "s=sapply(1:5, seq_len); print(s) #return list\n",
    "l=lapply(1:5, seq_len); print(l) #return list"
   ]
  },
  {
   "cell_type": "code",
   "execution_count": 48,
   "metadata": {
    "scrolled": true
   },
   "outputs": [
    {
     "name": "stdout",
     "output_type": "stream",
     "text": [
      "[1] 1.000000 1.414214 1.732051 2.000000 2.236068\n"
     ]
    }
   ],
   "source": [
    "s2=sapply(1:5, sqrt) #return vector\n",
    "print(s2)  "
   ]
  },
  {
   "cell_type": "code",
   "execution_count": 49,
   "metadata": {},
   "outputs": [
    {
     "name": "stdout",
     "output_type": "stream",
     "text": [
      "     [,1] [,2] [,3]\n",
      "[1,]    1    1    1\n",
      "[2,]    2    2    2\n",
      "[3,]    3    3    3\n"
     ]
    }
   ],
   "source": [
    "m=sapply(c(3,3,3), seq_len) #return matrix, each result is a column\n",
    "print(m)"
   ]
  },
  {
   "cell_type": "code",
   "execution_count": 50,
   "metadata": {
    "scrolled": true
   },
   "outputs": [
    {
     "data": {
      "text/html": [
       "3"
      ],
      "text/latex": [
       "3"
      ],
      "text/markdown": [
       "3"
      ],
      "text/plain": [
       "[1] 3"
      ]
     },
     "metadata": {},
     "output_type": "display_data"
    },
    {
     "data": {
      "text/html": [
       "4"
      ],
      "text/latex": [
       "4"
      ],
      "text/markdown": [
       "4"
      ],
      "text/plain": [
       "[1] 4"
      ]
     },
     "metadata": {},
     "output_type": "display_data"
    },
    {
     "data": {
      "text/html": [
       "5"
      ],
      "text/latex": [
       "5"
      ],
      "text/markdown": [
       "5"
      ],
      "text/plain": [
       "[1] 5"
      ]
     },
     "metadata": {},
     "output_type": "display_data"
    },
    {
     "data": {
      "text/html": [
       "<style>\n",
       ".list-inline {list-style: none; margin:0; padding: 0}\n",
       ".list-inline>li {display: inline-block}\n",
       ".list-inline>li:not(:last-child)::after {content: \"\\00b7\"; padding: 0 .5ex}\n",
       "</style>\n",
       "<ol class=list-inline><li>'matrix'</li><li>'array'</li></ol>\n"
      ],
      "text/latex": [
       "\\begin{enumerate*}\n",
       "\\item 'matrix'\n",
       "\\item 'array'\n",
       "\\end{enumerate*}\n"
      ],
      "text/markdown": [
       "1. 'matrix'\n",
       "2. 'array'\n",
       "\n",
       "\n"
      ],
      "text/plain": [
       "[1] \"matrix\" \"array\" "
      ]
     },
     "metadata": {},
     "output_type": "display_data"
    },
    {
     "data": {
      "text/html": [
       "<strong>$dim</strong> = <style>\n",
       ".list-inline {list-style: none; margin:0; padding: 0}\n",
       ".list-inline>li {display: inline-block}\n",
       ".list-inline>li:not(:last-child)::after {content: \"\\00b7\"; padding: 0 .5ex}\n",
       "</style>\n",
       "<ol class=list-inline><li>4</li><li>5</li></ol>\n"
      ],
      "text/latex": [
       "\\textbf{\\$dim} = \\begin{enumerate*}\n",
       "\\item 4\n",
       "\\item 5\n",
       "\\end{enumerate*}\n"
      ],
      "text/markdown": [
       "**$dim** = 1. 4\n",
       "2. 5\n",
       "\n",
       "\n"
      ],
      "text/plain": [
       "$dim\n",
       "[1] 4 5\n"
      ]
     },
     "metadata": {},
     "output_type": "display_data"
    },
    {
     "name": "stdout",
     "output_type": "stream",
     "text": [
      "     [,1] [,2] [,3] [,4] [,5]\n",
      "[1,]    1    2    3    4    5\n",
      "[2,]    1    2    3    4    5\n",
      "[3,]    1    2    3    4    5\n",
      "[4,]    1    2    3    4    5\n"
     ]
    }
   ],
   "source": [
    "x=sapply(1:5,function(x) {matrix(x,2,2)}) # a matrix becomes an array and then becomes a column in result\n",
    "x[12]\n",
    "x[13] #access matrix element as vector\n",
    "x[4,5]\n",
    "class(x) #matrix is 2d array\n",
    "attributes(x)\n",
    "print(x)"
   ]
  },
  {
   "cell_type": "code",
   "execution_count": 51,
   "metadata": {
    "scrolled": true
   },
   "outputs": [
    {
     "data": {
      "text/html": [
       "<style>\n",
       ".list-inline {list-style: none; margin:0; padding: 0}\n",
       ".list-inline>li {display: inline-block}\n",
       ".list-inline>li:not(:last-child)::after {content: \"\\00b7\"; padding: 0 .5ex}\n",
       "</style>\n",
       "<ol class=list-inline><li>'matrix'</li><li>'array'</li></ol>\n"
      ],
      "text/latex": [
       "\\begin{enumerate*}\n",
       "\\item 'matrix'\n",
       "\\item 'array'\n",
       "\\end{enumerate*}\n"
      ],
      "text/markdown": [
       "1. 'matrix'\n",
       "2. 'array'\n",
       "\n",
       "\n"
      ],
      "text/plain": [
       "[1] \"matrix\" \"array\" "
      ]
     },
     "metadata": {},
     "output_type": "display_data"
    },
    {
     "data": {
      "text/html": [
       "'integer'"
      ],
      "text/latex": [
       "'integer'"
      ],
      "text/markdown": [
       "'integer'"
      ],
      "text/plain": [
       "[1] \"integer\""
      ]
     },
     "metadata": {},
     "output_type": "display_data"
    },
    {
     "name": "stdout",
     "output_type": "stream",
     "text": [
      "     [,1] [,2]\n",
      "[1,]    1    2\n",
      "[2,]    1    2\n",
      "[3,]    1    2\n",
      "[4,]    1    2\n"
     ]
    }
   ],
   "source": [
    "x=sapply(1:2,function(x){matrix(x,2,2)})\n",
    "class(x)\n",
    "typeof(x)\n",
    "print(x)"
   ]
  },
  {
   "cell_type": "code",
   "execution_count": 52,
   "metadata": {},
   "outputs": [
    {
     "name": "stdout",
     "output_type": "stream",
     "text": [
      ", , 1\n",
      "\n",
      "     [,1] [,2]\n",
      "[1,]    1    1\n",
      "[2,]    1    1\n",
      "\n",
      ", , 2\n",
      "\n",
      "     [,1] [,2]\n",
      "[1,]    2    2\n",
      "[2,]    2    2\n",
      "\n",
      ", , 3\n",
      "\n",
      "     [,1] [,2]\n",
      "[1,]    3    3\n",
      "[2,]    3    3\n",
      "\n",
      ", , 4\n",
      "\n",
      "     [,1] [,2]\n",
      "[1,]    4    4\n",
      "[2,]    4    4\n",
      "\n",
      ", , 5\n",
      "\n",
      "     [,1] [,2]\n",
      "[1,]    5    5\n",
      "[2,]    5    5\n",
      "\n"
     ]
    }
   ],
   "source": [
    "x=sapply(1:5,function(x){matrix(x,2,2)}, simplify='array') #return 3d array\n",
    "print(x)"
   ]
  },
  {
   "cell_type": "code",
   "execution_count": 53,
   "metadata": {},
   "outputs": [
    {
     "data": {
      "text/html": [
       "'array'"
      ],
      "text/latex": [
       "'array'"
      ],
      "text/markdown": [
       "'array'"
      ],
      "text/plain": [
       "[1] \"array\""
      ]
     },
     "metadata": {},
     "output_type": "display_data"
    },
    {
     "data": {
      "text/html": [
       "<style>\n",
       ".list-inline {list-style: none; margin:0; padding: 0}\n",
       ".list-inline>li {display: inline-block}\n",
       ".list-inline>li:not(:last-child)::after {content: \"\\00b7\"; padding: 0 .5ex}\n",
       "</style>\n",
       "<ol class=list-inline><li>2</li><li>2</li><li>5</li></ol>\n"
      ],
      "text/latex": [
       "\\begin{enumerate*}\n",
       "\\item 2\n",
       "\\item 2\n",
       "\\item 5\n",
       "\\end{enumerate*}\n"
      ],
      "text/markdown": [
       "1. 2\n",
       "2. 2\n",
       "3. 5\n",
       "\n",
       "\n"
      ],
      "text/plain": [
       "[1] 2 2 5"
      ]
     },
     "metadata": {},
     "output_type": "display_data"
    },
    {
     "data": {
      "text/html": [
       "2"
      ],
      "text/latex": [
       "2"
      ],
      "text/markdown": [
       "2"
      ],
      "text/plain": [
       "[1] 2"
      ]
     },
     "metadata": {},
     "output_type": "display_data"
    },
    {
     "data": {
      "text/html": [
       "3"
      ],
      "text/latex": [
       "3"
      ],
      "text/markdown": [
       "3"
      ],
      "text/plain": [
       "[1] 3"
      ]
     },
     "metadata": {},
     "output_type": "display_data"
    },
    {
     "name": "stdout",
     "output_type": "stream",
     "text": [
      " int [1:2, 1:2, 1:5] 1 1 1 1 2 2 2 2 3 3 ...\n"
     ]
    },
    {
     "data": {
      "text/html": [
       "3"
      ],
      "text/latex": [
       "3"
      ],
      "text/markdown": [
       "3"
      ],
      "text/plain": [
       "[1] 3"
      ]
     },
     "metadata": {},
     "output_type": "display_data"
    },
    {
     "name": "stdout",
     "output_type": "stream",
     "text": [
      ", , 1\n",
      "\n",
      "     [,1] [,2]\n",
      "[1,]    1    1\n",
      "[2,]    1    1\n",
      "\n",
      ", , 2\n",
      "\n",
      "     [,1] [,2]\n",
      "[1,]    2    2\n",
      "[2,]    2    2\n",
      "\n",
      ", , 3\n",
      "\n",
      "     [,1] [,2]\n",
      "[1,]    3    3\n",
      "[2,]    3    3\n",
      "\n",
      ", , 4\n",
      "\n",
      "     [,1] [,2]\n",
      "[1,]    4    4\n",
      "[2,]    4    4\n",
      "\n",
      ", , 5\n",
      "\n",
      "     [,1] [,2]\n",
      "[1,]    5    5\n",
      "[2,]    5    5\n",
      "\n"
     ]
    }
   ],
   "source": [
    "class(x)\n",
    "dim(x)\n",
    "x[6]\n",
    "x[9]\n",
    "str(x)\n",
    "x[1,2,3]\n",
    "print(x)"
   ]
  },
  {
   "cell_type": "code",
   "execution_count": 54,
   "metadata": {},
   "outputs": [
    {
     "data": {
      "text/html": [
       "<table class=\"dataframe\">\n",
       "<caption>A data.frame: 4 × 2</caption>\n",
       "<thead>\n",
       "\t<tr><th scope=col>x1</th><th scope=col>x2</th></tr>\n",
       "\t<tr><th scope=col>&lt;dbl&gt;</th><th scope=col>&lt;dbl&gt;</th></tr>\n",
       "</thead>\n",
       "<tbody>\n",
       "\t<tr><td>3</td><td>2</td></tr>\n",
       "\t<tr><td>3</td><td>1</td></tr>\n",
       "\t<tr><td>3</td><td>4</td></tr>\n",
       "\t<tr><td>3</td><td>5</td></tr>\n",
       "</tbody>\n",
       "</table>\n"
      ],
      "text/latex": [
       "A data.frame: 4 × 2\n",
       "\\begin{tabular}{ll}\n",
       " x1 & x2\\\\\n",
       " <dbl> & <dbl>\\\\\n",
       "\\hline\n",
       "\t 3 & 2\\\\\n",
       "\t 3 & 1\\\\\n",
       "\t 3 & 4\\\\\n",
       "\t 3 & 5\\\\\n",
       "\\end{tabular}\n"
      ],
      "text/markdown": [
       "\n",
       "A data.frame: 4 × 2\n",
       "\n",
       "| x1 &lt;dbl&gt; | x2 &lt;dbl&gt; |\n",
       "|---|---|\n",
       "| 3 | 2 |\n",
       "| 3 | 1 |\n",
       "| 3 | 4 |\n",
       "| 3 | 5 |\n",
       "\n"
      ],
      "text/plain": [
       "  x1 x2\n",
       "1 3  2 \n",
       "2 3  1 \n",
       "3 3  4 \n",
       "4 3  5 "
      ]
     },
     "metadata": {},
     "output_type": "display_data"
    },
    {
     "data": {
      "text/html": [
       "<table class=\"dataframe\">\n",
       "<caption>A matrix: 4 × 2 of type dbl</caption>\n",
       "<thead>\n",
       "\t<tr><th></th><th scope=col>x1</th><th scope=col>x2</th></tr>\n",
       "</thead>\n",
       "<tbody>\n",
       "\t<tr><th scope=row>a</th><td> 3</td><td> 2</td></tr>\n",
       "\t<tr><th scope=row>b</th><td> 6</td><td> 3</td></tr>\n",
       "\t<tr><th scope=row>c</th><td> 9</td><td> 7</td></tr>\n",
       "\t<tr><th scope=row>d</th><td>12</td><td>12</td></tr>\n",
       "</tbody>\n",
       "</table>\n"
      ],
      "text/latex": [
       "A matrix: 4 × 2 of type dbl\n",
       "\\begin{tabular}{r|ll}\n",
       "  & x1 & x2\\\\\n",
       "\\hline\n",
       "\ta &  3 &  2\\\\\n",
       "\tb &  6 &  3\\\\\n",
       "\tc &  9 &  7\\\\\n",
       "\td & 12 & 12\\\\\n",
       "\\end{tabular}\n"
      ],
      "text/markdown": [
       "\n",
       "A matrix: 4 × 2 of type dbl\n",
       "\n",
       "| <!--/--> | x1 | x2 |\n",
       "|---|---|---|\n",
       "| a |  3 |  2 |\n",
       "| b |  6 |  3 |\n",
       "| c |  9 |  7 |\n",
       "| d | 12 | 12 |\n",
       "\n"
      ],
      "text/plain": [
       "  x1 x2\n",
       "a  3  2\n",
       "b  6  3\n",
       "c  9  7\n",
       "d 12 12"
      ]
     },
     "metadata": {},
     "output_type": "display_data"
    },
    {
     "data": {
      "text/html": [
       "<table class=\"dataframe\">\n",
       "<caption>A matrix: 4 × 2 of type dbl</caption>\n",
       "<thead>\n",
       "\t<tr><th scope=col>x1</th><th scope=col>x2</th></tr>\n",
       "</thead>\n",
       "<tbody>\n",
       "\t<tr><td> 3</td><td> 2</td></tr>\n",
       "\t<tr><td> 6</td><td> 3</td></tr>\n",
       "\t<tr><td> 9</td><td> 7</td></tr>\n",
       "\t<tr><td>12</td><td>12</td></tr>\n",
       "</tbody>\n",
       "</table>\n"
      ],
      "text/latex": [
       "A matrix: 4 × 2 of type dbl\n",
       "\\begin{tabular}{ll}\n",
       " x1 & x2\\\\\n",
       "\\hline\n",
       "\t  3 &  2\\\\\n",
       "\t  6 &  3\\\\\n",
       "\t  9 &  7\\\\\n",
       "\t 12 & 12\\\\\n",
       "\\end{tabular}\n"
      ],
      "text/markdown": [
       "\n",
       "A matrix: 4 × 2 of type dbl\n",
       "\n",
       "| x1 | x2 |\n",
       "|---|---|\n",
       "|  3 |  2 |\n",
       "|  6 |  3 |\n",
       "|  9 |  7 |\n",
       "| 12 | 12 |\n",
       "\n"
      ],
      "text/plain": [
       "     x1 x2\n",
       "[1,]  3  2\n",
       "[2,]  6  3\n",
       "[3,]  9  7\n",
       "[4,] 12 12"
      ]
     },
     "metadata": {},
     "output_type": "display_data"
    },
    {
     "data": {
      "text/html": [
       "<table class=\"dataframe\">\n",
       "<caption>A matrix: 4 × 2 of type dbl</caption>\n",
       "<thead>\n",
       "\t<tr><th></th><th scope=col>x1</th><th scope=col>x2</th></tr>\n",
       "</thead>\n",
       "<tbody>\n",
       "\t<tr><th scope=row>a</th><td> 3</td><td> 2</td></tr>\n",
       "\t<tr><th scope=row>b</th><td> 6</td><td> 3</td></tr>\n",
       "\t<tr><th scope=row>c</th><td> 9</td><td> 7</td></tr>\n",
       "\t<tr><th scope=row>d</th><td>12</td><td>12</td></tr>\n",
       "</tbody>\n",
       "</table>\n"
      ],
      "text/latex": [
       "A matrix: 4 × 2 of type dbl\n",
       "\\begin{tabular}{r|ll}\n",
       "  & x1 & x2\\\\\n",
       "\\hline\n",
       "\ta &  3 &  2\\\\\n",
       "\tb &  6 &  3\\\\\n",
       "\tc &  9 &  7\\\\\n",
       "\td & 12 & 12\\\\\n",
       "\\end{tabular}\n"
      ],
      "text/markdown": [
       "\n",
       "A matrix: 4 × 2 of type dbl\n",
       "\n",
       "| <!--/--> | x1 | x2 |\n",
       "|---|---|---|\n",
       "| a |  3 |  2 |\n",
       "| b |  6 |  3 |\n",
       "| c |  9 |  7 |\n",
       "| d | 12 | 12 |\n",
       "\n"
      ],
      "text/plain": [
       "  x1 x2\n",
       "a  3  2\n",
       "b  6  3\n",
       "c  9  7\n",
       "d 12 12"
      ]
     },
     "metadata": {},
     "output_type": "display_data"
    }
   ],
   "source": [
    "x <- data.frame(cbind(x1=3, x2=c(2:1,4:5)));x\n",
    "\n",
    "# a more strict apply function called vapply(), which contains an extra argument \n",
    "# FUN.VALUE where you can specify the type and length of the output that should \n",
    "# be returned each time your applied function is called.\n",
    "vapply(x,cumsum,FUN.VALUE=c('a'=0,'b'=0,'c'=0,'d'=0))\n",
    "a<-sapply(x,cumsum);a\n",
    "row.names(a)<-c('a','b','c','d');a"
   ]
  },
  {
   "cell_type": "code",
   "execution_count": 55,
   "metadata": {},
   "outputs": [
    {
     "data": {
      "text/html": [
       "<table class=\"dataframe\">\n",
       "<caption>A data.frame: 6 × 6</caption>\n",
       "<thead>\n",
       "\t<tr><th></th><th scope=col>Ozone</th><th scope=col>Solar.R</th><th scope=col>Wind</th><th scope=col>Temp</th><th scope=col>Month</th><th scope=col>Day</th></tr>\n",
       "\t<tr><th></th><th scope=col>&lt;int&gt;</th><th scope=col>&lt;int&gt;</th><th scope=col>&lt;dbl&gt;</th><th scope=col>&lt;int&gt;</th><th scope=col>&lt;int&gt;</th><th scope=col>&lt;int&gt;</th></tr>\n",
       "</thead>\n",
       "<tbody>\n",
       "\t<tr><th scope=row>1</th><td>41</td><td>190</td><td> 7.4</td><td>67</td><td>5</td><td>1</td></tr>\n",
       "\t<tr><th scope=row>2</th><td>36</td><td>118</td><td> 8.0</td><td>72</td><td>5</td><td>2</td></tr>\n",
       "\t<tr><th scope=row>3</th><td>12</td><td>149</td><td>12.6</td><td>74</td><td>5</td><td>3</td></tr>\n",
       "\t<tr><th scope=row>4</th><td>18</td><td>313</td><td>11.5</td><td>62</td><td>5</td><td>4</td></tr>\n",
       "\t<tr><th scope=row>5</th><td>NA</td><td> NA</td><td>14.3</td><td>56</td><td>5</td><td>5</td></tr>\n",
       "\t<tr><th scope=row>6</th><td>28</td><td> NA</td><td>14.9</td><td>66</td><td>5</td><td>6</td></tr>\n",
       "</tbody>\n",
       "</table>\n"
      ],
      "text/latex": [
       "A data.frame: 6 × 6\n",
       "\\begin{tabular}{r|llllll}\n",
       "  & Ozone & Solar.R & Wind & Temp & Month & Day\\\\\n",
       "  & <int> & <int> & <dbl> & <int> & <int> & <int>\\\\\n",
       "\\hline\n",
       "\t1 & 41 & 190 &  7.4 & 67 & 5 & 1\\\\\n",
       "\t2 & 36 & 118 &  8.0 & 72 & 5 & 2\\\\\n",
       "\t3 & 12 & 149 & 12.6 & 74 & 5 & 3\\\\\n",
       "\t4 & 18 & 313 & 11.5 & 62 & 5 & 4\\\\\n",
       "\t5 & NA &  NA & 14.3 & 56 & 5 & 5\\\\\n",
       "\t6 & 28 &  NA & 14.9 & 66 & 5 & 6\\\\\n",
       "\\end{tabular}\n"
      ],
      "text/markdown": [
       "\n",
       "A data.frame: 6 × 6\n",
       "\n",
       "| <!--/--> | Ozone &lt;int&gt; | Solar.R &lt;int&gt; | Wind &lt;dbl&gt; | Temp &lt;int&gt; | Month &lt;int&gt; | Day &lt;int&gt; |\n",
       "|---|---|---|---|---|---|---|\n",
       "| 1 | 41 | 190 |  7.4 | 67 | 5 | 1 |\n",
       "| 2 | 36 | 118 |  8.0 | 72 | 5 | 2 |\n",
       "| 3 | 12 | 149 | 12.6 | 74 | 5 | 3 |\n",
       "| 4 | 18 | 313 | 11.5 | 62 | 5 | 4 |\n",
       "| 5 | NA |  NA | 14.3 | 56 | 5 | 5 |\n",
       "| 6 | 28 |  NA | 14.9 | 66 | 5 | 6 |\n",
       "\n"
      ],
      "text/plain": [
       "  Ozone Solar.R Wind Temp Month Day\n",
       "1 41    190      7.4 67   5     1  \n",
       "2 36    118      8.0 72   5     2  \n",
       "3 12    149     12.6 74   5     3  \n",
       "4 18    313     11.5 62   5     4  \n",
       "5 NA     NA     14.3 56   5     5  \n",
       "6 28     NA     14.9 66   5     6  "
      ]
     },
     "metadata": {},
     "output_type": "display_data"
    },
    {
     "name": "stdout",
     "output_type": "stream",
     "text": [
      "'data.frame':\t153 obs. of  6 variables:\n",
      " $ Ozone  : int  41 36 12 18 NA 28 23 19 8 NA ...\n",
      " $ Solar.R: int  190 118 149 313 NA NA 299 99 19 194 ...\n",
      " $ Wind   : num  7.4 8 12.6 11.5 14.3 14.9 8.6 13.8 20.1 8.6 ...\n",
      " $ Temp   : int  67 72 74 62 56 66 65 59 61 69 ...\n",
      " $ Month  : int  5 5 5 5 5 5 5 5 5 5 ...\n",
      " $ Day    : int  1 2 3 4 5 6 7 8 9 10 ...\n",
      "List of 5\n",
      " $ 5:'data.frame':\t31 obs. of  6 variables:\n",
      "  ..$ Ozone  : int [1:31] 41 36 12 18 NA 28 23 19 8 NA ...\n",
      "  ..$ Solar.R: int [1:31] 190 118 149 313 NA NA 299 99 19 194 ...\n",
      "  ..$ Wind   : num [1:31] 7.4 8 12.6 11.5 14.3 14.9 8.6 13.8 20.1 8.6 ...\n",
      "  ..$ Temp   : int [1:31] 67 72 74 62 56 66 65 59 61 69 ...\n",
      "  ..$ Month  : int [1:31] 5 5 5 5 5 5 5 5 5 5 ...\n",
      "  ..$ Day    : int [1:31] 1 2 3 4 5 6 7 8 9 10 ...\n",
      " $ 6:'data.frame':\t30 obs. of  6 variables:\n",
      "  ..$ Ozone  : int [1:30] NA NA NA NA NA NA 29 NA 71 39 ...\n",
      "  ..$ Solar.R: int [1:30] 286 287 242 186 220 264 127 273 291 323 ...\n",
      "  ..$ Wind   : num [1:30] 8.6 9.7 16.1 9.2 8.6 14.3 9.7 6.9 13.8 11.5 ...\n",
      "  ..$ Temp   : int [1:30] 78 74 67 84 85 79 82 87 90 87 ...\n",
      "  ..$ Month  : int [1:30] 6 6 6 6 6 6 6 6 6 6 ...\n",
      "  ..$ Day    : int [1:30] 1 2 3 4 5 6 7 8 9 10 ...\n",
      " $ 7:'data.frame':\t31 obs. of  6 variables:\n",
      "  ..$ Ozone  : int [1:31] 135 49 32 NA 64 40 77 97 97 85 ...\n",
      "  ..$ Solar.R: int [1:31] 269 248 236 101 175 314 276 267 272 175 ...\n",
      "  ..$ Wind   : num [1:31] 4.1 9.2 9.2 10.9 4.6 10.9 5.1 6.3 5.7 7.4 ...\n",
      "  ..$ Temp   : int [1:31] 84 85 81 84 83 83 88 92 92 89 ...\n",
      "  ..$ Month  : int [1:31] 7 7 7 7 7 7 7 7 7 7 ...\n",
      "  ..$ Day    : int [1:31] 1 2 3 4 5 6 7 8 9 10 ...\n",
      " $ 8:'data.frame':\t31 obs. of  6 variables:\n",
      "  ..$ Ozone  : int [1:31] 39 9 16 78 35 66 122 89 110 NA ...\n",
      "  ..$ Solar.R: int [1:31] 83 24 77 NA NA NA 255 229 207 222 ...\n",
      "  ..$ Wind   : num [1:31] 6.9 13.8 7.4 6.9 7.4 4.6 4 10.3 8 8.6 ...\n",
      "  ..$ Temp   : int [1:31] 81 81 82 86 85 87 89 90 90 92 ...\n",
      "  ..$ Month  : int [1:31] 8 8 8 8 8 8 8 8 8 8 ...\n",
      "  ..$ Day    : int [1:31] 1 2 3 4 5 6 7 8 9 10 ...\n",
      " $ 9:'data.frame':\t30 obs. of  6 variables:\n",
      "  ..$ Ozone  : int [1:30] 96 78 73 91 47 32 20 23 21 24 ...\n",
      "  ..$ Solar.R: int [1:30] 167 197 183 189 95 92 252 220 230 259 ...\n",
      "  ..$ Wind   : num [1:30] 6.9 5.1 2.8 4.6 7.4 15.5 10.9 10.3 10.9 9.7 ...\n",
      "  ..$ Temp   : int [1:30] 91 92 93 93 87 84 80 78 75 73 ...\n",
      "  ..$ Month  : int [1:30] 9 9 9 9 9 9 9 9 9 9 ...\n",
      "  ..$ Day    : int [1:30] 1 2 3 4 5 6 7 8 9 10 ...\n",
      "List of 1\n",
      " $ 5:'data.frame':\t31 obs. of  6 variables:\n",
      "  ..$ Ozone  : int [1:31] 41 36 12 18 NA 28 23 19 8 NA ...\n",
      "  ..$ Solar.R: int [1:31] 190 118 149 313 NA NA 299 99 19 194 ...\n",
      "  ..$ Wind   : num [1:31] 7.4 8 12.6 11.5 14.3 14.9 8.6 13.8 20.1 8.6 ...\n",
      "  ..$ Temp   : int [1:31] 67 72 74 62 56 66 65 59 61 69 ...\n",
      "  ..$ Month  : int [1:31] 5 5 5 5 5 5 5 5 5 5 ...\n",
      "  ..$ Day    : int [1:31] 1 2 3 4 5 6 7 8 9 10 ...\n",
      "'data.frame':\t31 obs. of  6 variables:\n",
      " $ Ozone  : int  41 36 12 18 NA 28 23 19 8 NA ...\n",
      " $ Solar.R: int  190 118 149 313 NA NA 299 99 19 194 ...\n",
      " $ Wind   : num  7.4 8 12.6 11.5 14.3 14.9 8.6 13.8 20.1 8.6 ...\n",
      " $ Temp   : int  67 72 74 62 56 66 65 59 61 69 ...\n",
      " $ Month  : int  5 5 5 5 5 5 5 5 5 5 ...\n",
      " $ Day    : int  1 2 3 4 5 6 7 8 9 10 ...\n",
      "'data.frame':\t31 obs. of  6 variables:\n",
      " $ Ozone  : int  41 36 12 18 NA 28 23 19 8 NA ...\n",
      " $ Solar.R: int  190 118 149 313 NA NA 299 99 19 194 ...\n",
      " $ Wind   : num  7.4 8 12.6 11.5 14.3 14.9 8.6 13.8 20.1 8.6 ...\n",
      " $ Temp   : int  67 72 74 62 56 66 65 59 61 69 ...\n",
      " $ Month  : int  5 5 5 5 5 5 5 5 5 5 ...\n",
      " $ Day    : int  1 2 3 4 5 6 7 8 9 10 ...\n",
      "List of 1\n",
      " $ 5:'data.frame':\t31 obs. of  6 variables:\n",
      "  ..$ Ozone  : int [1:31] 41 36 12 18 NA 28 23 19 8 NA ...\n",
      "  ..$ Solar.R: int [1:31] 190 118 149 313 NA NA 299 99 19 194 ...\n",
      "  ..$ Wind   : num [1:31] 7.4 8 12.6 11.5 14.3 14.9 8.6 13.8 20.1 8.6 ...\n",
      "  ..$ Temp   : int [1:31] 67 72 74 62 56 66 65 59 61 69 ...\n",
      "  ..$ Month  : int [1:31] 5 5 5 5 5 5 5 5 5 5 ...\n",
      "  ..$ Day    : int [1:31] 1 2 3 4 5 6 7 8 9 10 ...\n",
      "'data.frame':\t31 obs. of  6 variables:\n",
      " $ Ozone  : int  41 36 12 18 NA 28 23 19 8 NA ...\n",
      " $ Solar.R: int  190 118 149 313 NA NA 299 99 19 194 ...\n",
      " $ Wind   : num  7.4 8 12.6 11.5 14.3 14.9 8.6 13.8 20.1 8.6 ...\n",
      " $ Temp   : int  67 72 74 62 56 66 65 59 61 69 ...\n",
      " $ Month  : int  5 5 5 5 5 5 5 5 5 5 ...\n",
      " $ Day    : int  1 2 3 4 5 6 7 8 9 10 ...\n"
     ]
    }
   ],
   "source": [
    "library(datasets)\n",
    "head(airquality)\n",
    "s=split(airquality, airquality$Month)\n",
    "str(airquality)\n",
    "str(s)           #list\n",
    "str(s[1])        #list\n",
    "str(s[1]$'5')    #dataframe\n",
    "str(s[[1]])      #dataframe\n",
    "str(s['5'])      #list\n",
    "str(s['5']$'5')  #dataframe"
   ]
  },
  {
   "cell_type": "code",
   "execution_count": 56,
   "metadata": {
    "scrolled": true
   },
   "outputs": [
    {
     "name": "stdout",
     "output_type": "stream",
     "text": [
      "$`5`\n",
      "   Ozone Solar.R Wind Temp Month Day\n",
      "1     41     190  7.4   67     5   1\n",
      "2     36     118  8.0   72     5   2\n",
      "3     12     149 12.6   74     5   3\n",
      "4     18     313 11.5   62     5   4\n",
      "5     NA      NA 14.3   56     5   5\n",
      "6     28      NA 14.9   66     5   6\n",
      "7     23     299  8.6   65     5   7\n",
      "8     19      99 13.8   59     5   8\n",
      "9      8      19 20.1   61     5   9\n",
      "10    NA     194  8.6   69     5  10\n",
      "11     7      NA  6.9   74     5  11\n",
      "12    16     256  9.7   69     5  12\n",
      "13    11     290  9.2   66     5  13\n",
      "14    14     274 10.9   68     5  14\n",
      "15    18      65 13.2   58     5  15\n",
      "16    14     334 11.5   64     5  16\n",
      "17    34     307 12.0   66     5  17\n",
      "18     6      78 18.4   57     5  18\n",
      "19    30     322 11.5   68     5  19\n",
      "20    11      44  9.7   62     5  20\n",
      "21     1       8  9.7   59     5  21\n",
      "22    11     320 16.6   73     5  22\n",
      "23     4      25  9.7   61     5  23\n",
      "24    32      92 12.0   61     5  24\n",
      "25    NA      66 16.6   57     5  25\n",
      "26    NA     266 14.9   58     5  26\n",
      "27    NA      NA  8.0   57     5  27\n",
      "28    23      13 12.0   67     5  28\n",
      "29    45     252 14.9   81     5  29\n",
      "30   115     223  5.7   79     5  30\n",
      "31    37     279  7.4   76     5  31\n",
      "\n",
      "$`6`\n",
      "   Ozone Solar.R Wind Temp Month Day\n",
      "32    NA     286  8.6   78     6   1\n",
      "33    NA     287  9.7   74     6   2\n",
      "34    NA     242 16.1   67     6   3\n",
      "35    NA     186  9.2   84     6   4\n",
      "36    NA     220  8.6   85     6   5\n",
      "37    NA     264 14.3   79     6   6\n",
      "38    29     127  9.7   82     6   7\n",
      "39    NA     273  6.9   87     6   8\n",
      "40    71     291 13.8   90     6   9\n",
      "41    39     323 11.5   87     6  10\n",
      "42    NA     259 10.9   93     6  11\n",
      "43    NA     250  9.2   92     6  12\n",
      "44    23     148  8.0   82     6  13\n",
      "45    NA     332 13.8   80     6  14\n",
      "46    NA     322 11.5   79     6  15\n",
      "47    21     191 14.9   77     6  16\n",
      "48    37     284 20.7   72     6  17\n",
      "49    20      37  9.2   65     6  18\n",
      "50    12     120 11.5   73     6  19\n",
      "51    13     137 10.3   76     6  20\n",
      "52    NA     150  6.3   77     6  21\n",
      "53    NA      59  1.7   76     6  22\n",
      "54    NA      91  4.6   76     6  23\n",
      "55    NA     250  6.3   76     6  24\n",
      "56    NA     135  8.0   75     6  25\n",
      "57    NA     127  8.0   78     6  26\n",
      "58    NA      47 10.3   73     6  27\n",
      "59    NA      98 11.5   80     6  28\n",
      "60    NA      31 14.9   77     6  29\n",
      "61    NA     138  8.0   83     6  30\n",
      "\n",
      "$`7`\n",
      "   Ozone Solar.R Wind Temp Month Day\n",
      "62   135     269  4.1   84     7   1\n",
      "63    49     248  9.2   85     7   2\n",
      "64    32     236  9.2   81     7   3\n",
      "65    NA     101 10.9   84     7   4\n",
      "66    64     175  4.6   83     7   5\n",
      "67    40     314 10.9   83     7   6\n",
      "68    77     276  5.1   88     7   7\n",
      "69    97     267  6.3   92     7   8\n",
      "70    97     272  5.7   92     7   9\n",
      "71    85     175  7.4   89     7  10\n",
      "72    NA     139  8.6   82     7  11\n",
      "73    10     264 14.3   73     7  12\n",
      "74    27     175 14.9   81     7  13\n",
      "75    NA     291 14.9   91     7  14\n",
      "76     7      48 14.3   80     7  15\n",
      "77    48     260  6.9   81     7  16\n",
      "78    35     274 10.3   82     7  17\n",
      "79    61     285  6.3   84     7  18\n",
      "80    79     187  5.1   87     7  19\n",
      "81    63     220 11.5   85     7  20\n",
      "82    16       7  6.9   74     7  21\n",
      "83    NA     258  9.7   81     7  22\n",
      "84    NA     295 11.5   82     7  23\n",
      "85    80     294  8.6   86     7  24\n",
      "86   108     223  8.0   85     7  25\n",
      "87    20      81  8.6   82     7  26\n",
      "88    52      82 12.0   86     7  27\n",
      "89    82     213  7.4   88     7  28\n",
      "90    50     275  7.4   86     7  29\n",
      "91    64     253  7.4   83     7  30\n",
      "92    59     254  9.2   81     7  31\n",
      "\n",
      "$`8`\n",
      "    Ozone Solar.R Wind Temp Month Day\n",
      "93     39      83  6.9   81     8   1\n",
      "94      9      24 13.8   81     8   2\n",
      "95     16      77  7.4   82     8   3\n",
      "96     78      NA  6.9   86     8   4\n",
      "97     35      NA  7.4   85     8   5\n",
      "98     66      NA  4.6   87     8   6\n",
      "99    122     255  4.0   89     8   7\n",
      "100    89     229 10.3   90     8   8\n",
      "101   110     207  8.0   90     8   9\n",
      "102    NA     222  8.6   92     8  10\n",
      "103    NA     137 11.5   86     8  11\n",
      "104    44     192 11.5   86     8  12\n",
      "105    28     273 11.5   82     8  13\n",
      "106    65     157  9.7   80     8  14\n",
      "107    NA      64 11.5   79     8  15\n",
      "108    22      71 10.3   77     8  16\n",
      "109    59      51  6.3   79     8  17\n",
      "110    23     115  7.4   76     8  18\n",
      "111    31     244 10.9   78     8  19\n",
      "112    44     190 10.3   78     8  20\n",
      "113    21     259 15.5   77     8  21\n",
      "114     9      36 14.3   72     8  22\n",
      "115    NA     255 12.6   75     8  23\n",
      "116    45     212  9.7   79     8  24\n",
      "117   168     238  3.4   81     8  25\n",
      "118    73     215  8.0   86     8  26\n",
      "119    NA     153  5.7   88     8  27\n",
      "120    76     203  9.7   97     8  28\n",
      "121   118     225  2.3   94     8  29\n",
      "122    84     237  6.3   96     8  30\n",
      "123    85     188  6.3   94     8  31\n",
      "\n",
      "$`9`\n",
      "    Ozone Solar.R Wind Temp Month Day\n",
      "124    96     167  6.9   91     9   1\n",
      "125    78     197  5.1   92     9   2\n",
      "126    73     183  2.8   93     9   3\n",
      "127    91     189  4.6   93     9   4\n",
      "128    47      95  7.4   87     9   5\n",
      "129    32      92 15.5   84     9   6\n",
      "130    20     252 10.9   80     9   7\n",
      "131    23     220 10.3   78     9   8\n",
      "132    21     230 10.9   75     9   9\n",
      "133    24     259  9.7   73     9  10\n",
      "134    44     236 14.9   81     9  11\n",
      "135    21     259 15.5   76     9  12\n",
      "136    28     238  6.3   77     9  13\n",
      "137     9      24 10.9   71     9  14\n",
      "138    13     112 11.5   71     9  15\n",
      "139    46     237  6.9   78     9  16\n",
      "140    18     224 13.8   67     9  17\n",
      "141    13      27 10.3   76     9  18\n",
      "142    24     238 10.3   68     9  19\n",
      "143    16     201  8.0   82     9  20\n",
      "144    13     238 12.6   64     9  21\n",
      "145    23      14  9.2   71     9  22\n",
      "146    36     139 10.3   81     9  23\n",
      "147     7      49 10.3   69     9  24\n",
      "148    14      20 16.6   63     9  25\n",
      "149    30     193  6.9   70     9  26\n",
      "150    NA     145 13.2   77     9  27\n",
      "151    14     191 14.3   75     9  28\n",
      "152    18     131  8.0   76     9  29\n",
      "153    20     223 11.5   68     9  30\n",
      "\n"
     ]
    }
   ],
   "source": [
    "print(s)"
   ]
  },
  {
   "cell_type": "code",
   "execution_count": 57,
   "metadata": {},
   "outputs": [
    {
     "name": "stdout",
     "output_type": "stream",
     "text": [
      "List of 2\n",
      " $ a: num [1:3] 1 2 3\n",
      " $ b: num [1:3] 4 5 6\n",
      "List of 1\n",
      " $ a: num [1:3] 1 2 3\n"
     ]
    },
    {
     "data": {
      "text/html": [
       "<strong>$a</strong> = <style>\n",
       ".list-inline {list-style: none; margin:0; padding: 0}\n",
       ".list-inline>li {display: inline-block}\n",
       ".list-inline>li:not(:last-child)::after {content: \"\\00b7\"; padding: 0 .5ex}\n",
       "</style>\n",
       "<ol class=list-inline><li>1</li><li>2</li><li>3</li></ol>\n"
      ],
      "text/latex": [
       "\\textbf{\\$a} = \\begin{enumerate*}\n",
       "\\item 1\n",
       "\\item 2\n",
       "\\item 3\n",
       "\\end{enumerate*}\n"
      ],
      "text/markdown": [
       "**$a** = 1. 1\n",
       "2. 2\n",
       "3. 3\n",
       "\n",
       "\n"
      ],
      "text/plain": [
       "$a\n",
       "[1] 1 2 3\n"
      ]
     },
     "metadata": {},
     "output_type": "display_data"
    },
    {
     "data": {
      "text/html": [
       "<strong>$a</strong> = <style>\n",
       ".list-inline {list-style: none; margin:0; padding: 0}\n",
       ".list-inline>li {display: inline-block}\n",
       ".list-inline>li:not(:last-child)::after {content: \"\\00b7\"; padding: 0 .5ex}\n",
       "</style>\n",
       "<ol class=list-inline><li>1</li><li>2</li><li>3</li></ol>\n"
      ],
      "text/latex": [
       "\\textbf{\\$a} = \\begin{enumerate*}\n",
       "\\item 1\n",
       "\\item 2\n",
       "\\item 3\n",
       "\\end{enumerate*}\n"
      ],
      "text/markdown": [
       "**$a** = 1. 1\n",
       "2. 2\n",
       "3. 3\n",
       "\n",
       "\n"
      ],
      "text/plain": [
       "$a\n",
       "[1] 1 2 3\n"
      ]
     },
     "metadata": {},
     "output_type": "display_data"
    },
    {
     "data": {
      "text/html": [
       "'============'"
      ],
      "text/latex": [
       "'============'"
      ],
      "text/markdown": [
       "'============'"
      ],
      "text/plain": [
       "[1] \"============\""
      ]
     },
     "metadata": {},
     "output_type": "display_data"
    },
    {
     "data": {
      "text/html": [
       "<style>\n",
       ".list-inline {list-style: none; margin:0; padding: 0}\n",
       ".list-inline>li {display: inline-block}\n",
       ".list-inline>li:not(:last-child)::after {content: \"\\00b7\"; padding: 0 .5ex}\n",
       "</style>\n",
       "<ol class=list-inline><li>1</li><li>2</li><li>3</li></ol>\n"
      ],
      "text/latex": [
       "\\begin{enumerate*}\n",
       "\\item 1\n",
       "\\item 2\n",
       "\\item 3\n",
       "\\end{enumerate*}\n"
      ],
      "text/markdown": [
       "1. 1\n",
       "2. 2\n",
       "3. 3\n",
       "\n",
       "\n"
      ],
      "text/plain": [
       "[1] 1 2 3"
      ]
     },
     "metadata": {},
     "output_type": "display_data"
    },
    {
     "data": {
      "text/html": [
       "<style>\n",
       ".list-inline {list-style: none; margin:0; padding: 0}\n",
       ".list-inline>li {display: inline-block}\n",
       ".list-inline>li:not(:last-child)::after {content: \"\\00b7\"; padding: 0 .5ex}\n",
       "</style>\n",
       "<ol class=list-inline><li>1</li><li>2</li><li>3</li></ol>\n"
      ],
      "text/latex": [
       "\\begin{enumerate*}\n",
       "\\item 1\n",
       "\\item 2\n",
       "\\item 3\n",
       "\\end{enumerate*}\n"
      ],
      "text/markdown": [
       "1. 1\n",
       "2. 2\n",
       "3. 3\n",
       "\n",
       "\n"
      ],
      "text/plain": [
       "[1] 1 2 3"
      ]
     },
     "metadata": {},
     "output_type": "display_data"
    },
    {
     "data": {
      "text/html": [
       "2"
      ],
      "text/latex": [
       "2"
      ],
      "text/markdown": [
       "2"
      ],
      "text/plain": [
       "[1] 2"
      ]
     },
     "metadata": {},
     "output_type": "display_data"
    }
   ],
   "source": [
    "x=list(a=c(1,2,3), b=c(4,5,6))\n",
    "# x=list(c(1,2,3), c(4,5,6))\n",
    "str(x)\n",
    "str(x[1])\n",
    "x[1]\n",
    "x[1][1][1][1]\n",
    "\"============\"\n",
    "x[1][1][1][1][[1]]\n",
    "x[[1]]\n",
    "x[[1]][2]"
   ]
  },
  {
   "cell_type": "code",
   "execution_count": 58,
   "metadata": {},
   "outputs": [
    {
     "data": {
      "text/html": [
       "<table class=\"dataframe\">\n",
       "<caption>A data.frame: 6 × 6</caption>\n",
       "<thead>\n",
       "\t<tr><th></th><th scope=col>Ozone</th><th scope=col>Solar.R</th><th scope=col>Wind</th><th scope=col>Temp</th><th scope=col>Month</th><th scope=col>Day</th></tr>\n",
       "\t<tr><th></th><th scope=col>&lt;int&gt;</th><th scope=col>&lt;int&gt;</th><th scope=col>&lt;dbl&gt;</th><th scope=col>&lt;int&gt;</th><th scope=col>&lt;int&gt;</th><th scope=col>&lt;int&gt;</th></tr>\n",
       "</thead>\n",
       "<tbody>\n",
       "\t<tr><th scope=row>1</th><td>41</td><td>190</td><td> 7.4</td><td>67</td><td>5</td><td>1</td></tr>\n",
       "\t<tr><th scope=row>2</th><td>36</td><td>118</td><td> 8.0</td><td>72</td><td>5</td><td>2</td></tr>\n",
       "\t<tr><th scope=row>3</th><td>12</td><td>149</td><td>12.6</td><td>74</td><td>5</td><td>3</td></tr>\n",
       "\t<tr><th scope=row>4</th><td>18</td><td>313</td><td>11.5</td><td>62</td><td>5</td><td>4</td></tr>\n",
       "\t<tr><th scope=row>5</th><td>NA</td><td> NA</td><td>14.3</td><td>56</td><td>5</td><td>5</td></tr>\n",
       "\t<tr><th scope=row>6</th><td>28</td><td> NA</td><td>14.9</td><td>66</td><td>5</td><td>6</td></tr>\n",
       "</tbody>\n",
       "</table>\n"
      ],
      "text/latex": [
       "A data.frame: 6 × 6\n",
       "\\begin{tabular}{r|llllll}\n",
       "  & Ozone & Solar.R & Wind & Temp & Month & Day\\\\\n",
       "  & <int> & <int> & <dbl> & <int> & <int> & <int>\\\\\n",
       "\\hline\n",
       "\t1 & 41 & 190 &  7.4 & 67 & 5 & 1\\\\\n",
       "\t2 & 36 & 118 &  8.0 & 72 & 5 & 2\\\\\n",
       "\t3 & 12 & 149 & 12.6 & 74 & 5 & 3\\\\\n",
       "\t4 & 18 & 313 & 11.5 & 62 & 5 & 4\\\\\n",
       "\t5 & NA &  NA & 14.3 & 56 & 5 & 5\\\\\n",
       "\t6 & 28 &  NA & 14.9 & 66 & 5 & 6\\\\\n",
       "\\end{tabular}\n"
      ],
      "text/markdown": [
       "\n",
       "A data.frame: 6 × 6\n",
       "\n",
       "| <!--/--> | Ozone &lt;int&gt; | Solar.R &lt;int&gt; | Wind &lt;dbl&gt; | Temp &lt;int&gt; | Month &lt;int&gt; | Day &lt;int&gt; |\n",
       "|---|---|---|---|---|---|---|\n",
       "| 1 | 41 | 190 |  7.4 | 67 | 5 | 1 |\n",
       "| 2 | 36 | 118 |  8.0 | 72 | 5 | 2 |\n",
       "| 3 | 12 | 149 | 12.6 | 74 | 5 | 3 |\n",
       "| 4 | 18 | 313 | 11.5 | 62 | 5 | 4 |\n",
       "| 5 | NA |  NA | 14.3 | 56 | 5 | 5 |\n",
       "| 6 | 28 |  NA | 14.9 | 66 | 5 | 6 |\n",
       "\n"
      ],
      "text/plain": [
       "  Ozone Solar.R Wind Temp Month Day\n",
       "1 41    190      7.4 67   5     1  \n",
       "2 36    118      8.0 72   5     2  \n",
       "3 12    149     12.6 74   5     3  \n",
       "4 18    313     11.5 62   5     4  \n",
       "5 NA     NA     14.3 56   5     5  \n",
       "6 28     NA     14.9 66   5     6  "
      ]
     },
     "metadata": {},
     "output_type": "display_data"
    },
    {
     "data": {
      "text/html": [
       "<table class=\"dataframe\">\n",
       "<caption>A data.frame: 30 × 6</caption>\n",
       "<thead>\n",
       "\t<tr><th></th><th scope=col>Ozone</th><th scope=col>Solar.R</th><th scope=col>Wind</th><th scope=col>Temp</th><th scope=col>Month</th><th scope=col>Day</th></tr>\n",
       "\t<tr><th></th><th scope=col>&lt;int&gt;</th><th scope=col>&lt;int&gt;</th><th scope=col>&lt;dbl&gt;</th><th scope=col>&lt;int&gt;</th><th scope=col>&lt;int&gt;</th><th scope=col>&lt;int&gt;</th></tr>\n",
       "</thead>\n",
       "<tbody>\n",
       "\t<tr><th scope=row>32</th><td>NA</td><td>286</td><td> 8.6</td><td>78</td><td>6</td><td> 1</td></tr>\n",
       "\t<tr><th scope=row>33</th><td>NA</td><td>287</td><td> 9.7</td><td>74</td><td>6</td><td> 2</td></tr>\n",
       "\t<tr><th scope=row>34</th><td>NA</td><td>242</td><td>16.1</td><td>67</td><td>6</td><td> 3</td></tr>\n",
       "\t<tr><th scope=row>35</th><td>NA</td><td>186</td><td> 9.2</td><td>84</td><td>6</td><td> 4</td></tr>\n",
       "\t<tr><th scope=row>36</th><td>NA</td><td>220</td><td> 8.6</td><td>85</td><td>6</td><td> 5</td></tr>\n",
       "\t<tr><th scope=row>37</th><td>NA</td><td>264</td><td>14.3</td><td>79</td><td>6</td><td> 6</td></tr>\n",
       "\t<tr><th scope=row>38</th><td>29</td><td>127</td><td> 9.7</td><td>82</td><td>6</td><td> 7</td></tr>\n",
       "\t<tr><th scope=row>39</th><td>NA</td><td>273</td><td> 6.9</td><td>87</td><td>6</td><td> 8</td></tr>\n",
       "\t<tr><th scope=row>40</th><td>71</td><td>291</td><td>13.8</td><td>90</td><td>6</td><td> 9</td></tr>\n",
       "\t<tr><th scope=row>41</th><td>39</td><td>323</td><td>11.5</td><td>87</td><td>6</td><td>10</td></tr>\n",
       "\t<tr><th scope=row>42</th><td>NA</td><td>259</td><td>10.9</td><td>93</td><td>6</td><td>11</td></tr>\n",
       "\t<tr><th scope=row>43</th><td>NA</td><td>250</td><td> 9.2</td><td>92</td><td>6</td><td>12</td></tr>\n",
       "\t<tr><th scope=row>44</th><td>23</td><td>148</td><td> 8.0</td><td>82</td><td>6</td><td>13</td></tr>\n",
       "\t<tr><th scope=row>45</th><td>NA</td><td>332</td><td>13.8</td><td>80</td><td>6</td><td>14</td></tr>\n",
       "\t<tr><th scope=row>46</th><td>NA</td><td>322</td><td>11.5</td><td>79</td><td>6</td><td>15</td></tr>\n",
       "\t<tr><th scope=row>47</th><td>21</td><td>191</td><td>14.9</td><td>77</td><td>6</td><td>16</td></tr>\n",
       "\t<tr><th scope=row>48</th><td>37</td><td>284</td><td>20.7</td><td>72</td><td>6</td><td>17</td></tr>\n",
       "\t<tr><th scope=row>49</th><td>20</td><td> 37</td><td> 9.2</td><td>65</td><td>6</td><td>18</td></tr>\n",
       "\t<tr><th scope=row>50</th><td>12</td><td>120</td><td>11.5</td><td>73</td><td>6</td><td>19</td></tr>\n",
       "\t<tr><th scope=row>51</th><td>13</td><td>137</td><td>10.3</td><td>76</td><td>6</td><td>20</td></tr>\n",
       "\t<tr><th scope=row>52</th><td>NA</td><td>150</td><td> 6.3</td><td>77</td><td>6</td><td>21</td></tr>\n",
       "\t<tr><th scope=row>53</th><td>NA</td><td> 59</td><td> 1.7</td><td>76</td><td>6</td><td>22</td></tr>\n",
       "\t<tr><th scope=row>54</th><td>NA</td><td> 91</td><td> 4.6</td><td>76</td><td>6</td><td>23</td></tr>\n",
       "\t<tr><th scope=row>55</th><td>NA</td><td>250</td><td> 6.3</td><td>76</td><td>6</td><td>24</td></tr>\n",
       "\t<tr><th scope=row>56</th><td>NA</td><td>135</td><td> 8.0</td><td>75</td><td>6</td><td>25</td></tr>\n",
       "\t<tr><th scope=row>57</th><td>NA</td><td>127</td><td> 8.0</td><td>78</td><td>6</td><td>26</td></tr>\n",
       "\t<tr><th scope=row>58</th><td>NA</td><td> 47</td><td>10.3</td><td>73</td><td>6</td><td>27</td></tr>\n",
       "\t<tr><th scope=row>59</th><td>NA</td><td> 98</td><td>11.5</td><td>80</td><td>6</td><td>28</td></tr>\n",
       "\t<tr><th scope=row>60</th><td>NA</td><td> 31</td><td>14.9</td><td>77</td><td>6</td><td>29</td></tr>\n",
       "\t<tr><th scope=row>61</th><td>NA</td><td>138</td><td> 8.0</td><td>83</td><td>6</td><td>30</td></tr>\n",
       "</tbody>\n",
       "</table>\n"
      ],
      "text/latex": [
       "A data.frame: 30 × 6\n",
       "\\begin{tabular}{r|llllll}\n",
       "  & Ozone & Solar.R & Wind & Temp & Month & Day\\\\\n",
       "  & <int> & <int> & <dbl> & <int> & <int> & <int>\\\\\n",
       "\\hline\n",
       "\t32 & NA & 286 &  8.6 & 78 & 6 &  1\\\\\n",
       "\t33 & NA & 287 &  9.7 & 74 & 6 &  2\\\\\n",
       "\t34 & NA & 242 & 16.1 & 67 & 6 &  3\\\\\n",
       "\t35 & NA & 186 &  9.2 & 84 & 6 &  4\\\\\n",
       "\t36 & NA & 220 &  8.6 & 85 & 6 &  5\\\\\n",
       "\t37 & NA & 264 & 14.3 & 79 & 6 &  6\\\\\n",
       "\t38 & 29 & 127 &  9.7 & 82 & 6 &  7\\\\\n",
       "\t39 & NA & 273 &  6.9 & 87 & 6 &  8\\\\\n",
       "\t40 & 71 & 291 & 13.8 & 90 & 6 &  9\\\\\n",
       "\t41 & 39 & 323 & 11.5 & 87 & 6 & 10\\\\\n",
       "\t42 & NA & 259 & 10.9 & 93 & 6 & 11\\\\\n",
       "\t43 & NA & 250 &  9.2 & 92 & 6 & 12\\\\\n",
       "\t44 & 23 & 148 &  8.0 & 82 & 6 & 13\\\\\n",
       "\t45 & NA & 332 & 13.8 & 80 & 6 & 14\\\\\n",
       "\t46 & NA & 322 & 11.5 & 79 & 6 & 15\\\\\n",
       "\t47 & 21 & 191 & 14.9 & 77 & 6 & 16\\\\\n",
       "\t48 & 37 & 284 & 20.7 & 72 & 6 & 17\\\\\n",
       "\t49 & 20 &  37 &  9.2 & 65 & 6 & 18\\\\\n",
       "\t50 & 12 & 120 & 11.5 & 73 & 6 & 19\\\\\n",
       "\t51 & 13 & 137 & 10.3 & 76 & 6 & 20\\\\\n",
       "\t52 & NA & 150 &  6.3 & 77 & 6 & 21\\\\\n",
       "\t53 & NA &  59 &  1.7 & 76 & 6 & 22\\\\\n",
       "\t54 & NA &  91 &  4.6 & 76 & 6 & 23\\\\\n",
       "\t55 & NA & 250 &  6.3 & 76 & 6 & 24\\\\\n",
       "\t56 & NA & 135 &  8.0 & 75 & 6 & 25\\\\\n",
       "\t57 & NA & 127 &  8.0 & 78 & 6 & 26\\\\\n",
       "\t58 & NA &  47 & 10.3 & 73 & 6 & 27\\\\\n",
       "\t59 & NA &  98 & 11.5 & 80 & 6 & 28\\\\\n",
       "\t60 & NA &  31 & 14.9 & 77 & 6 & 29\\\\\n",
       "\t61 & NA & 138 &  8.0 & 83 & 6 & 30\\\\\n",
       "\\end{tabular}\n"
      ],
      "text/markdown": [
       "\n",
       "A data.frame: 30 × 6\n",
       "\n",
       "| <!--/--> | Ozone &lt;int&gt; | Solar.R &lt;int&gt; | Wind &lt;dbl&gt; | Temp &lt;int&gt; | Month &lt;int&gt; | Day &lt;int&gt; |\n",
       "|---|---|---|---|---|---|---|\n",
       "| 32 | NA | 286 |  8.6 | 78 | 6 |  1 |\n",
       "| 33 | NA | 287 |  9.7 | 74 | 6 |  2 |\n",
       "| 34 | NA | 242 | 16.1 | 67 | 6 |  3 |\n",
       "| 35 | NA | 186 |  9.2 | 84 | 6 |  4 |\n",
       "| 36 | NA | 220 |  8.6 | 85 | 6 |  5 |\n",
       "| 37 | NA | 264 | 14.3 | 79 | 6 |  6 |\n",
       "| 38 | 29 | 127 |  9.7 | 82 | 6 |  7 |\n",
       "| 39 | NA | 273 |  6.9 | 87 | 6 |  8 |\n",
       "| 40 | 71 | 291 | 13.8 | 90 | 6 |  9 |\n",
       "| 41 | 39 | 323 | 11.5 | 87 | 6 | 10 |\n",
       "| 42 | NA | 259 | 10.9 | 93 | 6 | 11 |\n",
       "| 43 | NA | 250 |  9.2 | 92 | 6 | 12 |\n",
       "| 44 | 23 | 148 |  8.0 | 82 | 6 | 13 |\n",
       "| 45 | NA | 332 | 13.8 | 80 | 6 | 14 |\n",
       "| 46 | NA | 322 | 11.5 | 79 | 6 | 15 |\n",
       "| 47 | 21 | 191 | 14.9 | 77 | 6 | 16 |\n",
       "| 48 | 37 | 284 | 20.7 | 72 | 6 | 17 |\n",
       "| 49 | 20 |  37 |  9.2 | 65 | 6 | 18 |\n",
       "| 50 | 12 | 120 | 11.5 | 73 | 6 | 19 |\n",
       "| 51 | 13 | 137 | 10.3 | 76 | 6 | 20 |\n",
       "| 52 | NA | 150 |  6.3 | 77 | 6 | 21 |\n",
       "| 53 | NA |  59 |  1.7 | 76 | 6 | 22 |\n",
       "| 54 | NA |  91 |  4.6 | 76 | 6 | 23 |\n",
       "| 55 | NA | 250 |  6.3 | 76 | 6 | 24 |\n",
       "| 56 | NA | 135 |  8.0 | 75 | 6 | 25 |\n",
       "| 57 | NA | 127 |  8.0 | 78 | 6 | 26 |\n",
       "| 58 | NA |  47 | 10.3 | 73 | 6 | 27 |\n",
       "| 59 | NA |  98 | 11.5 | 80 | 6 | 28 |\n",
       "| 60 | NA |  31 | 14.9 | 77 | 6 | 29 |\n",
       "| 61 | NA | 138 |  8.0 | 83 | 6 | 30 |\n",
       "\n"
      ],
      "text/plain": [
       "   Ozone Solar.R Wind Temp Month Day\n",
       "32 NA    286      8.6 78   6      1 \n",
       "33 NA    287      9.7 74   6      2 \n",
       "34 NA    242     16.1 67   6      3 \n",
       "35 NA    186      9.2 84   6      4 \n",
       "36 NA    220      8.6 85   6      5 \n",
       "37 NA    264     14.3 79   6      6 \n",
       "38 29    127      9.7 82   6      7 \n",
       "39 NA    273      6.9 87   6      8 \n",
       "40 71    291     13.8 90   6      9 \n",
       "41 39    323     11.5 87   6     10 \n",
       "42 NA    259     10.9 93   6     11 \n",
       "43 NA    250      9.2 92   6     12 \n",
       "44 23    148      8.0 82   6     13 \n",
       "45 NA    332     13.8 80   6     14 \n",
       "46 NA    322     11.5 79   6     15 \n",
       "47 21    191     14.9 77   6     16 \n",
       "48 37    284     20.7 72   6     17 \n",
       "49 20     37      9.2 65   6     18 \n",
       "50 12    120     11.5 73   6     19 \n",
       "51 13    137     10.3 76   6     20 \n",
       "52 NA    150      6.3 77   6     21 \n",
       "53 NA     59      1.7 76   6     22 \n",
       "54 NA     91      4.6 76   6     23 \n",
       "55 NA    250      6.3 76   6     24 \n",
       "56 NA    135      8.0 75   6     25 \n",
       "57 NA    127      8.0 78   6     26 \n",
       "58 NA     47     10.3 73   6     27 \n",
       "59 NA     98     11.5 80   6     28 \n",
       "60 NA     31     14.9 77   6     29 \n",
       "61 NA    138      8.0 83   6     30 "
      ]
     },
     "metadata": {},
     "output_type": "display_data"
    },
    {
     "data": {
      "text/html": [
       "<style>\n",
       ".dl-inline {width: auto; margin:0; padding: 0}\n",
       ".dl-inline>dt, .dl-inline>dd {float: none; width: auto; display: inline-block}\n",
       ".dl-inline>dt::after {content: \":\\0020\"; padding-right: .5ex}\n",
       ".dl-inline>dt:not(:first-of-type) {padding-left: .5ex}\n",
       "</style><dl class=dl-inline><dt>Ozone</dt><dd>29.4444444444444</dd><dt>Solar.R</dt><dd>190.166666666667</dd></dl>\n"
      ],
      "text/latex": [
       "\\begin{description*}\n",
       "\\item[Ozone] 29.4444444444444\n",
       "\\item[Solar.R] 190.166666666667\n",
       "\\end{description*}\n"
      ],
      "text/markdown": [
       "Ozone\n",
       ":   29.4444444444444Solar.R\n",
       ":   190.166666666667\n",
       "\n"
      ],
      "text/plain": [
       "    Ozone   Solar.R \n",
       " 29.44444 190.16667 "
      ]
     },
     "metadata": {},
     "output_type": "display_data"
    },
    {
     "name": "stdout",
     "output_type": "stream",
     "text": [
      "List of 5\n",
      " $ 5: Named num [1:2] 23.6 181.3\n",
      "  ..- attr(*, \"names\")= chr [1:2] \"Ozone\" \"Solar.R\"\n",
      " $ 6: Named num [1:2] 29.4 190.2\n",
      "  ..- attr(*, \"names\")= chr [1:2] \"Ozone\" \"Solar.R\"\n",
      " $ 7: Named num [1:2] 59.1 216.5\n",
      "  ..- attr(*, \"names\")= chr [1:2] \"Ozone\" \"Solar.R\"\n",
      " $ 8: Named num [1:2] 60 172\n",
      "  ..- attr(*, \"names\")= chr [1:2] \"Ozone\" \"Solar.R\"\n",
      " $ 9: Named num [1:2] 31.4 167.4\n",
      "  ..- attr(*, \"names\")= chr [1:2] \"Ozone\" \"Solar.R\"\n"
     ]
    },
    {
     "data": {
      "text/html": [
       "<dl>\n",
       "\t<dt>$`5`</dt>\n",
       "\t\t<dd><style>\n",
       ".dl-inline {width: auto; margin:0; padding: 0}\n",
       ".dl-inline>dt, .dl-inline>dd {float: none; width: auto; display: inline-block}\n",
       ".dl-inline>dt::after {content: \":\\0020\"; padding-right: .5ex}\n",
       ".dl-inline>dt:not(:first-of-type) {padding-left: .5ex}\n",
       "</style><dl class=dl-inline><dt>Ozone</dt><dd>23.6153846153846</dd><dt>Solar.R</dt><dd>181.296296296296</dd></dl>\n",
       "</dd>\n",
       "\t<dt>$`6`</dt>\n",
       "\t\t<dd><style>\n",
       ".dl-inline {width: auto; margin:0; padding: 0}\n",
       ".dl-inline>dt, .dl-inline>dd {float: none; width: auto; display: inline-block}\n",
       ".dl-inline>dt::after {content: \":\\0020\"; padding-right: .5ex}\n",
       ".dl-inline>dt:not(:first-of-type) {padding-left: .5ex}\n",
       "</style><dl class=dl-inline><dt>Ozone</dt><dd>29.4444444444444</dd><dt>Solar.R</dt><dd>190.166666666667</dd></dl>\n",
       "</dd>\n",
       "\t<dt>$`7`</dt>\n",
       "\t\t<dd><style>\n",
       ".dl-inline {width: auto; margin:0; padding: 0}\n",
       ".dl-inline>dt, .dl-inline>dd {float: none; width: auto; display: inline-block}\n",
       ".dl-inline>dt::after {content: \":\\0020\"; padding-right: .5ex}\n",
       ".dl-inline>dt:not(:first-of-type) {padding-left: .5ex}\n",
       "</style><dl class=dl-inline><dt>Ozone</dt><dd>59.1153846153846</dd><dt>Solar.R</dt><dd>216.483870967742</dd></dl>\n",
       "</dd>\n",
       "\t<dt>$`8`</dt>\n",
       "\t\t<dd><style>\n",
       ".dl-inline {width: auto; margin:0; padding: 0}\n",
       ".dl-inline>dt, .dl-inline>dd {float: none; width: auto; display: inline-block}\n",
       ".dl-inline>dt::after {content: \":\\0020\"; padding-right: .5ex}\n",
       ".dl-inline>dt:not(:first-of-type) {padding-left: .5ex}\n",
       "</style><dl class=dl-inline><dt>Ozone</dt><dd>59.9615384615385</dd><dt>Solar.R</dt><dd>171.857142857143</dd></dl>\n",
       "</dd>\n",
       "\t<dt>$`9`</dt>\n",
       "\t\t<dd><style>\n",
       ".dl-inline {width: auto; margin:0; padding: 0}\n",
       ".dl-inline>dt, .dl-inline>dd {float: none; width: auto; display: inline-block}\n",
       ".dl-inline>dt::after {content: \":\\0020\"; padding-right: .5ex}\n",
       ".dl-inline>dt:not(:first-of-type) {padding-left: .5ex}\n",
       "</style><dl class=dl-inline><dt>Ozone</dt><dd>31.448275862069</dd><dt>Solar.R</dt><dd>167.433333333333</dd></dl>\n",
       "</dd>\n",
       "</dl>\n"
      ],
      "text/latex": [
       "\\begin{description}\n",
       "\\item[\\$`5`] \\begin{description*}\n",
       "\\item[Ozone] 23.6153846153846\n",
       "\\item[Solar.R] 181.296296296296\n",
       "\\end{description*}\n",
       "\n",
       "\\item[\\$`6`] \\begin{description*}\n",
       "\\item[Ozone] 29.4444444444444\n",
       "\\item[Solar.R] 190.166666666667\n",
       "\\end{description*}\n",
       "\n",
       "\\item[\\$`7`] \\begin{description*}\n",
       "\\item[Ozone] 59.1153846153846\n",
       "\\item[Solar.R] 216.483870967742\n",
       "\\end{description*}\n",
       "\n",
       "\\item[\\$`8`] \\begin{description*}\n",
       "\\item[Ozone] 59.9615384615385\n",
       "\\item[Solar.R] 171.857142857143\n",
       "\\end{description*}\n",
       "\n",
       "\\item[\\$`9`] \\begin{description*}\n",
       "\\item[Ozone] 31.448275862069\n",
       "\\item[Solar.R] 167.433333333333\n",
       "\\end{description*}\n",
       "\n",
       "\\end{description}\n"
      ],
      "text/markdown": [
       "$`5`\n",
       ":   Ozone\n",
       ":   23.6153846153846Solar.R\n",
       ":   181.296296296296\n",
       "\n",
       "\n",
       "$`6`\n",
       ":   Ozone\n",
       ":   29.4444444444444Solar.R\n",
       ":   190.166666666667\n",
       "\n",
       "\n",
       "$`7`\n",
       ":   Ozone\n",
       ":   59.1153846153846Solar.R\n",
       ":   216.483870967742\n",
       "\n",
       "\n",
       "$`8`\n",
       ":   Ozone\n",
       ":   59.9615384615385Solar.R\n",
       ":   171.857142857143\n",
       "\n",
       "\n",
       "$`9`\n",
       ":   Ozone\n",
       ":   31.448275862069Solar.R\n",
       ":   167.433333333333\n",
       "\n",
       "\n",
       "\n",
       "\n"
      ],
      "text/plain": [
       "$`5`\n",
       "    Ozone   Solar.R \n",
       " 23.61538 181.29630 \n",
       "\n",
       "$`6`\n",
       "    Ozone   Solar.R \n",
       " 29.44444 190.16667 \n",
       "\n",
       "$`7`\n",
       "    Ozone   Solar.R \n",
       " 59.11538 216.48387 \n",
       "\n",
       "$`8`\n",
       "    Ozone   Solar.R \n",
       " 59.96154 171.85714 \n",
       "\n",
       "$`9`\n",
       "    Ozone   Solar.R \n",
       " 31.44828 167.43333 \n"
      ]
     },
     "metadata": {},
     "output_type": "display_data"
    },
    {
     "name": "stdout",
     "output_type": "stream",
     "text": [
      " num [1:2, 1:5] 23.6 181.3 29.4 190.2 59.1 ...\n",
      " - attr(*, \"dimnames\")=List of 2\n",
      "  ..$ : chr [1:2] \"Ozone\" \"Solar.R\"\n",
      "  ..$ : chr [1:5] \"5\" \"6\" \"7\" \"8\" ...\n"
     ]
    },
    {
     "data": {
      "text/html": [
       "<table class=\"dataframe\">\n",
       "<caption>A matrix: 2 × 5 of type dbl</caption>\n",
       "<thead>\n",
       "\t<tr><th></th><th scope=col>5</th><th scope=col>6</th><th scope=col>7</th><th scope=col>8</th><th scope=col>9</th></tr>\n",
       "</thead>\n",
       "<tbody>\n",
       "\t<tr><th scope=row>Ozone</th><td> 23.61538</td><td> 29.44444</td><td> 59.11538</td><td> 59.96154</td><td> 31.44828</td></tr>\n",
       "\t<tr><th scope=row>Solar.R</th><td>181.29630</td><td>190.16667</td><td>216.48387</td><td>171.85714</td><td>167.43333</td></tr>\n",
       "</tbody>\n",
       "</table>\n"
      ],
      "text/latex": [
       "A matrix: 2 × 5 of type dbl\n",
       "\\begin{tabular}{r|lllll}\n",
       "  & 5 & 6 & 7 & 8 & 9\\\\\n",
       "\\hline\n",
       "\tOzone &  23.61538 &  29.44444 &  59.11538 &  59.96154 &  31.44828\\\\\n",
       "\tSolar.R & 181.29630 & 190.16667 & 216.48387 & 171.85714 & 167.43333\\\\\n",
       "\\end{tabular}\n"
      ],
      "text/markdown": [
       "\n",
       "A matrix: 2 × 5 of type dbl\n",
       "\n",
       "| <!--/--> | 5 | 6 | 7 | 8 | 9 |\n",
       "|---|---|---|---|---|---|\n",
       "| Ozone |  23.61538 |  29.44444 |  59.11538 |  59.96154 |  31.44828 |\n",
       "| Solar.R | 181.29630 | 190.16667 | 216.48387 | 171.85714 | 167.43333 |\n",
       "\n"
      ],
      "text/plain": [
       "        5         6         7         8         9        \n",
       "Ozone    23.61538  29.44444  59.11538  59.96154  31.44828\n",
       "Solar.R 181.29630 190.16667 216.48387 171.85714 167.43333"
      ]
     },
     "metadata": {},
     "output_type": "display_data"
    }
   ],
   "source": [
    "library(datasets)\n",
    "head(airquality)\n",
    "s=split(airquality, airquality$Month) #list\n",
    "means=function(x){colMeans(x[c('Ozone', 'Solar.R')], na.rm=T)}\n",
    "s[[2]]\n",
    "means(s[[2]])\n",
    "\n",
    "str(lapply(s, means))\n",
    "lapply(s, means)\n",
    "\n",
    "str(sapply(s, means)) #smartly make a matrix\n",
    "sapply(s, means)"
   ]
  },
  {
   "cell_type": "code",
   "execution_count": 59,
   "metadata": {},
   "outputs": [
    {
     "data": {
      "text/html": [
       "<style>\n",
       ".list-inline {list-style: none; margin:0; padding: 0}\n",
       ".list-inline>li {display: inline-block}\n",
       ".list-inline>li:not(:last-child)::after {content: \"\\00b7\"; padding: 0 .5ex}\n",
       "</style>\n",
       "<ol class=list-inline><li>1</li><li>1</li><li>1</li><li>1</li><li>1</li><li>1</li><li>1</li><li>1</li><li>1</li><li>1</li><li>11</li><li>12</li><li>13</li><li>14</li><li>15</li><li>16</li><li>17</li><li>18</li><li>19</li><li>20</li><li>10</li><li>10</li><li>10</li><li>10</li><li>10</li><li>10</li><li>10</li><li>10</li><li>10</li><li>10</li></ol>\n"
      ],
      "text/latex": [
       "\\begin{enumerate*}\n",
       "\\item 1\n",
       "\\item 1\n",
       "\\item 1\n",
       "\\item 1\n",
       "\\item 1\n",
       "\\item 1\n",
       "\\item 1\n",
       "\\item 1\n",
       "\\item 1\n",
       "\\item 1\n",
       "\\item 11\n",
       "\\item 12\n",
       "\\item 13\n",
       "\\item 14\n",
       "\\item 15\n",
       "\\item 16\n",
       "\\item 17\n",
       "\\item 18\n",
       "\\item 19\n",
       "\\item 20\n",
       "\\item 10\n",
       "\\item 10\n",
       "\\item 10\n",
       "\\item 10\n",
       "\\item 10\n",
       "\\item 10\n",
       "\\item 10\n",
       "\\item 10\n",
       "\\item 10\n",
       "\\item 10\n",
       "\\end{enumerate*}\n"
      ],
      "text/markdown": [
       "1. 1\n",
       "2. 1\n",
       "3. 1\n",
       "4. 1\n",
       "5. 1\n",
       "6. 1\n",
       "7. 1\n",
       "8. 1\n",
       "9. 1\n",
       "10. 1\n",
       "11. 11\n",
       "12. 12\n",
       "13. 13\n",
       "14. 14\n",
       "15. 15\n",
       "16. 16\n",
       "17. 17\n",
       "18. 18\n",
       "19. 19\n",
       "20. 20\n",
       "21. 10\n",
       "22. 10\n",
       "23. 10\n",
       "24. 10\n",
       "25. 10\n",
       "26. 10\n",
       "27. 10\n",
       "28. 10\n",
       "29. 10\n",
       "30. 10\n",
       "\n",
       "\n"
      ],
      "text/plain": [
       " [1]  1  1  1  1  1  1  1  1  1  1 11 12 13 14 15 16 17 18 19 20 10 10 10 10 10\n",
       "[26] 10 10 10 10 10"
      ]
     },
     "metadata": {},
     "output_type": "display_data"
    },
    {
     "data": {
      "text/html": [
       "<style>\n",
       ".list-inline {list-style: none; margin:0; padding: 0}\n",
       ".list-inline>li {display: inline-block}\n",
       ".list-inline>li:not(:last-child)::after {content: \"\\00b7\"; padding: 0 .5ex}\n",
       "</style>\n",
       "<ol class=list-inline><li>1</li><li>1</li><li>1</li><li>1</li><li>1</li><li>1</li><li>1</li><li>1</li><li>1</li><li>1</li><li>2</li><li>2</li><li>2</li><li>2</li><li>2</li><li>2</li><li>2</li><li>2</li><li>2</li><li>2</li><li>3</li><li>3</li><li>3</li><li>3</li><li>3</li><li>3</li><li>3</li><li>3</li><li>3</li><li>3</li></ol>\n",
       "\n",
       "<details>\n",
       "\t<summary style=display:list-item;cursor:pointer>\n",
       "\t\t<strong>Levels</strong>:\n",
       "\t</summary>\n",
       "\t<style>\n",
       "\t.list-inline {list-style: none; margin:0; padding: 0}\n",
       "\t.list-inline>li {display: inline-block}\n",
       "\t.list-inline>li:not(:last-child)::after {content: \"\\00b7\"; padding: 0 .5ex}\n",
       "\t</style>\n",
       "\t<ol class=list-inline><li>'1'</li><li>'2'</li><li>'3'</li></ol>\n",
       "</details>"
      ],
      "text/latex": [
       "\\begin{enumerate*}\n",
       "\\item 1\n",
       "\\item 1\n",
       "\\item 1\n",
       "\\item 1\n",
       "\\item 1\n",
       "\\item 1\n",
       "\\item 1\n",
       "\\item 1\n",
       "\\item 1\n",
       "\\item 1\n",
       "\\item 2\n",
       "\\item 2\n",
       "\\item 2\n",
       "\\item 2\n",
       "\\item 2\n",
       "\\item 2\n",
       "\\item 2\n",
       "\\item 2\n",
       "\\item 2\n",
       "\\item 2\n",
       "\\item 3\n",
       "\\item 3\n",
       "\\item 3\n",
       "\\item 3\n",
       "\\item 3\n",
       "\\item 3\n",
       "\\item 3\n",
       "\\item 3\n",
       "\\item 3\n",
       "\\item 3\n",
       "\\end{enumerate*}\n",
       "\n",
       "\\emph{Levels}: \\begin{enumerate*}\n",
       "\\item '1'\n",
       "\\item '2'\n",
       "\\item '3'\n",
       "\\end{enumerate*}\n"
      ],
      "text/markdown": [
       "1. 1\n",
       "2. 1\n",
       "3. 1\n",
       "4. 1\n",
       "5. 1\n",
       "6. 1\n",
       "7. 1\n",
       "8. 1\n",
       "9. 1\n",
       "10. 1\n",
       "11. 2\n",
       "12. 2\n",
       "13. 2\n",
       "14. 2\n",
       "15. 2\n",
       "16. 2\n",
       "17. 2\n",
       "18. 2\n",
       "19. 2\n",
       "20. 2\n",
       "21. 3\n",
       "22. 3\n",
       "23. 3\n",
       "24. 3\n",
       "25. 3\n",
       "26. 3\n",
       "27. 3\n",
       "28. 3\n",
       "29. 3\n",
       "30. 3\n",
       "\n",
       "\n",
       "\n",
       "**Levels**: 1. '1'\n",
       "2. '2'\n",
       "3. '3'\n",
       "\n",
       "\n"
      ],
      "text/plain": [
       " [1] 1 1 1 1 1 1 1 1 1 1 2 2 2 2 2 2 2 2 2 2 3 3 3 3 3 3 3 3 3 3\n",
       "Levels: 1 2 3"
      ]
     },
     "metadata": {},
     "output_type": "display_data"
    },
    {
     "name": "stdout",
     "output_type": "stream",
     "text": [
      "   1    2    3 \n",
      " 1.0 15.5 10.0 \n"
     ]
    },
    {
     "data": {
      "text/html": [
       "'array'"
      ],
      "text/latex": [
       "'array'"
      ],
      "text/markdown": [
       "'array'"
      ],
      "text/plain": [
       "[1] \"array\""
      ]
     },
     "metadata": {},
     "output_type": "display_data"
    },
    {
     "data": {
      "text/html": [
       "'==========='"
      ],
      "text/latex": [
       "'==========='"
      ],
      "text/markdown": [
       "'==========='"
      ],
      "text/plain": [
       "[1] \"===========\""
      ]
     },
     "metadata": {},
     "output_type": "display_data"
    },
    {
     "data": {
      "text/html": [
       "'array'"
      ],
      "text/latex": [
       "'array'"
      ],
      "text/markdown": [
       "'array'"
      ],
      "text/plain": [
       "[1] \"array\""
      ]
     },
     "metadata": {},
     "output_type": "display_data"
    },
    {
     "name": "stdout",
     "output_type": "stream",
     "text": [
      "$`1`\n",
      "[1] 1 1\n",
      "\n",
      "$`2`\n",
      "[1] 11 20\n",
      "\n",
      "$`3`\n",
      "[1] 10 10\n",
      "\n"
     ]
    },
    {
     "data": {
      "text/html": [
       "<strong>$`2`</strong> = <style>\n",
       ".list-inline {list-style: none; margin:0; padding: 0}\n",
       ".list-inline>li {display: inline-block}\n",
       ".list-inline>li:not(:last-child)::after {content: \"\\00b7\"; padding: 0 .5ex}\n",
       "</style>\n",
       "<ol class=list-inline><li>11</li><li>20</li></ol>\n"
      ],
      "text/latex": [
       "\\textbf{\\$`2`} = \\begin{enumerate*}\n",
       "\\item 11\n",
       "\\item 20\n",
       "\\end{enumerate*}\n"
      ],
      "text/markdown": [
       "**$`2`** = 1. 11\n",
       "2. 20\n",
       "\n",
       "\n"
      ],
      "text/plain": [
       "$`2`\n",
       "[1] 11 20\n"
      ]
     },
     "metadata": {},
     "output_type": "display_data"
    }
   ],
   "source": [
    "# x=c(rnorm(10, 0), runif(10, min=10, max=20), rnorm(10, 10)); x\n",
    "x=c(rep(1, 10), 11:20, rep(10, 10)); x\n",
    "f=gl(3, 10); f #Generate Factor Levels\n",
    "# f=1:30; f\n",
    "y=tapply(x, f, mean)\n",
    "print(y)\n",
    "class(y)\n",
    "'==========='\n",
    "# y=tapply(x, f, mean, simplify=F); y\n",
    "\n",
    "z=tapply(x, f, range)\n",
    "class(z)\n",
    "print(z)\n",
    "z[2]"
   ]
  },
  {
   "cell_type": "code",
   "execution_count": 60,
   "metadata": {},
   "outputs": [
    {
     "data": {
      "text/html": [
       "'list'"
      ],
      "text/latex": [
       "'list'"
      ],
      "text/markdown": [
       "'list'"
      ],
      "text/plain": [
       "[1] \"list\""
      ]
     },
     "metadata": {},
     "output_type": "display_data"
    },
    {
     "name": "stdout",
     "output_type": "stream",
     "text": [
      "[[1]]\n",
      "[1] 1 1 1 1\n",
      "\n",
      "[[2]]\n",
      "[1] 2 2 2\n",
      "\n",
      "[[3]]\n",
      "[1] 3 3\n",
      "\n",
      "[[4]]\n",
      "[1] 4\n",
      "\n"
     ]
    }
   ],
   "source": [
    "x=mapply(rep, 1:4, 4:1)\n",
    "class(x)\n",
    "print(x)"
   ]
  },
  {
   "cell_type": "code",
   "execution_count": 61,
   "metadata": {
    "scrolled": true
   },
   "outputs": [
    {
     "name": "stdout",
     "output_type": "stream",
     "text": [
      "[[1]]\n",
      "[1] 1 1 1 1\n",
      "\n",
      "[[2]]\n",
      "[1] 2 2 2\n",
      "\n",
      "[[3]]\n",
      "[1] 3 3\n",
      "\n",
      "[[4]]\n",
      "[1] 4\n",
      "\n",
      "[[1]]\n",
      "[1] 1 1 1 1\n",
      "\n",
      "[[2]]\n",
      "[1] 2 2 2\n",
      "\n",
      "[[3]]\n",
      "[1] 3 3\n",
      "\n",
      "[[4]]\n",
      "[1] 4\n",
      "\n"
     ]
    }
   ],
   "source": [
    "x=mapply(rep, 1:4, 4:1)\n",
    "print(x)\n",
    "print(list(rep(1,4), rep(2,3), rep(3,2), rep(4,1)))"
   ]
  },
  {
   "cell_type": "code",
   "execution_count": 62,
   "metadata": {},
   "outputs": [
    {
     "name": "stdout",
     "output_type": "stream",
     "text": [
      "function (FUN, ..., MoreArgs = NULL, SIMPLIFY = TRUE, USE.NAMES = TRUE)  \n"
     ]
    },
    {
     "data": {
      "text/html": [
       "'character'"
      ],
      "text/latex": [
       "'character'"
      ],
      "text/markdown": [
       "'character'"
      ],
      "text/plain": [
       "[1] \"character\""
      ]
     },
     "metadata": {},
     "output_type": "display_data"
    },
    {
     "name": "stdout",
     "output_type": "stream",
     "text": [
      "[1] \"1 4 9\" \"2 5 9\" \"3 6 9\"\n"
     ]
    },
    {
     "data": {
      "text/html": [
       "<style>\n",
       ".list-inline {list-style: none; margin:0; padding: 0}\n",
       ".list-inline>li {display: inline-block}\n",
       ".list-inline>li:not(:last-child)::after {content: \"\\00b7\"; padding: 0 .5ex}\n",
       "</style>\n",
       "<ol class=list-inline><li>'1 4 1'</li><li>'2 5 2'</li><li>'3 6 3'</li><li>'1 4 4'</li><li>'2 5 5'</li><li>'3 6 6'</li><li>'1 4 7'</li><li>'2 5 8'</li><li>'3 6 9'</li></ol>\n"
      ],
      "text/latex": [
       "\\begin{enumerate*}\n",
       "\\item '1 4 1'\n",
       "\\item '2 5 2'\n",
       "\\item '3 6 3'\n",
       "\\item '1 4 4'\n",
       "\\item '2 5 5'\n",
       "\\item '3 6 6'\n",
       "\\item '1 4 7'\n",
       "\\item '2 5 8'\n",
       "\\item '3 6 9'\n",
       "\\end{enumerate*}\n"
      ],
      "text/markdown": [
       "1. '1 4 1'\n",
       "2. '2 5 2'\n",
       "3. '3 6 3'\n",
       "4. '1 4 4'\n",
       "5. '2 5 5'\n",
       "6. '3 6 6'\n",
       "7. '1 4 7'\n",
       "8. '2 5 8'\n",
       "9. '3 6 9'\n",
       "\n",
       "\n"
      ],
      "text/plain": [
       "[1] \"1 4 1\" \"2 5 2\" \"3 6 3\" \"1 4 4\" \"2 5 5\" \"3 6 6\" \"1 4 7\" \"2 5 8\" \"3 6 9\""
      ]
     },
     "metadata": {},
     "output_type": "display_data"
    },
    {
     "data": {
      "text/html": [
       "'list'"
      ],
      "text/latex": [
       "'list'"
      ],
      "text/markdown": [
       "'list'"
      ],
      "text/plain": [
       "[1] \"list\""
      ]
     },
     "metadata": {},
     "output_type": "display_data"
    },
    {
     "name": "stdout",
     "output_type": "stream",
     "text": [
      "[[1]]\n",
      "[1] \"1 4 9\"\n",
      "\n",
      "[[2]]\n",
      "[1] \"2 5 9\"\n",
      "\n",
      "[[3]]\n",
      "[1] \"3 6 9\"\n",
      "\n"
     ]
    },
    {
     "data": {
      "text/html": [
       "<ol>\n",
       "\t<li>'1 4 9'</li>\n",
       "\t<li>'2 5 9'</li>\n",
       "\t<li>'3 6 9'</li>\n",
       "</ol>\n"
      ],
      "text/latex": [
       "\\begin{enumerate}\n",
       "\\item '1 4 9'\n",
       "\\item '2 5 9'\n",
       "\\item '3 6 9'\n",
       "\\end{enumerate}\n"
      ],
      "text/markdown": [
       "1. '1 4 9'\n",
       "2. '2 5 9'\n",
       "3. '3 6 9'\n",
       "\n",
       "\n"
      ],
      "text/plain": [
       "[[1]]\n",
       "[1] \"1 4 9\"\n",
       "\n",
       "[[2]]\n",
       "[1] \"2 5 9\"\n",
       "\n",
       "[[3]]\n",
       "[1] \"3 6 9\"\n"
      ]
     },
     "metadata": {},
     "output_type": "display_data"
    }
   ],
   "source": [
    "f=function(x,y,z){paste(x,y,z)}\n",
    "str(mapply)\n",
    "x=mapply(f, 1:3, 4:6, 9) #vector recycling\n",
    "class(x)\n",
    "print(x)\n",
    "# mapply(f, 1:3, 4:6, 1:8)\n",
    "mapply(f, 1:3, 4:6, 1:9)\n",
    "x=mapply(f, 1:3, 4:6, 9, SIMPLIFY=FALSE)\n",
    "class(x)\n",
    "print(x)\n",
    "list(f(1,4,9), f(2,5,9), f(3,6,9))"
   ]
  },
  {
   "cell_type": "code",
   "execution_count": 63,
   "metadata": {},
   "outputs": [
    {
     "data": {
      "text/html": [
       "<style>\n",
       ".list-inline {list-style: none; margin:0; padding: 0}\n",
       ".list-inline>li {display: inline-block}\n",
       ".list-inline>li:not(:last-child)::after {content: \"\\00b7\"; padding: 0 .5ex}\n",
       "</style>\n",
       "<ol class=list-inline><li>-0.873262111744435</li><li>0.00837095999603331</li><li>-0.880871723252545</li><li>0.59625901661066</li><li>0.119717641289537</li><li>-0.282173877322451</li><li>1.45598840106634</li><li>0.229019590694692</li><li>0.996543928544126</li><li>0.781859184600258</li></ol>\n"
      ],
      "text/latex": [
       "\\begin{enumerate*}\n",
       "\\item -0.873262111744435\n",
       "\\item 0.00837095999603331\n",
       "\\item -0.880871723252545\n",
       "\\item 0.59625901661066\n",
       "\\item 0.119717641289537\n",
       "\\item -0.282173877322451\n",
       "\\item 1.45598840106634\n",
       "\\item 0.229019590694692\n",
       "\\item 0.996543928544126\n",
       "\\item 0.781859184600258\n",
       "\\end{enumerate*}\n"
      ],
      "text/markdown": [
       "1. -0.873262111744435\n",
       "2. 0.00837095999603331\n",
       "3. -0.880871723252545\n",
       "4. 0.59625901661066\n",
       "5. 0.119717641289537\n",
       "6. -0.282173877322451\n",
       "7. 1.45598840106634\n",
       "8. 0.229019590694692\n",
       "9. 0.996543928544126\n",
       "10. 0.781859184600258\n",
       "\n",
       "\n"
      ],
      "text/plain": [
       " [1] -0.87326211  0.00837096 -0.88087172  0.59625902  0.11971764 -0.28217388\n",
       " [7]  1.45598840  0.22901959  0.99654393  0.78185918"
      ]
     },
     "metadata": {},
     "output_type": "display_data"
    },
    {
     "data": {
      "text/html": [
       "<style>\n",
       ".list-inline {list-style: none; margin:0; padding: 0}\n",
       ".list-inline>li {display: inline-block}\n",
       ".list-inline>li:not(:last-child)::after {content: \"\\00b7\"; padding: 0 .5ex}\n",
       "</style>\n",
       "<ol class=list-inline><li>-0.776776621764597</li><li>-0.615989907707918</li><li>0.0465803028049967</li><li>-1.13038577760069</li><li>0.576718781896486</li><li>-1.28074943178832</li><li>1.62544730346494</li><li>-0.500696596002705</li><li>1.67829720781629</li><li>-0.412519887482398</li></ol>\n"
      ],
      "text/latex": [
       "\\begin{enumerate*}\n",
       "\\item -0.776776621764597\n",
       "\\item -0.615989907707918\n",
       "\\item 0.0465803028049967\n",
       "\\item -1.13038577760069\n",
       "\\item 0.576718781896486\n",
       "\\item -1.28074943178832\n",
       "\\item 1.62544730346494\n",
       "\\item -0.500696596002705\n",
       "\\item 1.67829720781629\n",
       "\\item -0.412519887482398\n",
       "\\end{enumerate*}\n"
      ],
      "text/markdown": [
       "1. -0.776776621764597\n",
       "2. -0.615989907707918\n",
       "3. 0.0465803028049967\n",
       "4. -1.13038577760069\n",
       "5. 0.576718781896486\n",
       "6. -1.28074943178832\n",
       "7. 1.62544730346494\n",
       "8. -0.500696596002705\n",
       "9. 1.67829720781629\n",
       "10. -0.412519887482398\n",
       "\n",
       "\n"
      ],
      "text/plain": [
       " [1] -0.7767766 -0.6159899  0.0465803 -1.1303858  0.5767188 -1.2807494\n",
       " [7]  1.6254473 -0.5006966  1.6782972 -0.4125199"
      ]
     },
     "metadata": {},
     "output_type": "display_data"
    },
    {
     "data": {
      "text/html": [
       "<style>\n",
       ".list-inline {list-style: none; margin:0; padding: 0}\n",
       ".list-inline>li {display: inline-block}\n",
       ".list-inline>li:not(:last-child)::after {content: \"\\00b7\"; padding: 0 .5ex}\n",
       "</style>\n",
       "<ol class=list-inline><li>-0.776776621764597</li><li>0.00837095999603331</li><li>0.0465803028049967</li><li>0.59625901661066</li><li>0.576718781896486</li><li>-0.282173877322451</li><li>1.62544730346494</li><li>0.229019590694692</li><li>1.67829720781629</li><li>0.781859184600258</li></ol>\n"
      ],
      "text/latex": [
       "\\begin{enumerate*}\n",
       "\\item -0.776776621764597\n",
       "\\item 0.00837095999603331\n",
       "\\item 0.0465803028049967\n",
       "\\item 0.59625901661066\n",
       "\\item 0.576718781896486\n",
       "\\item -0.282173877322451\n",
       "\\item 1.62544730346494\n",
       "\\item 0.229019590694692\n",
       "\\item 1.67829720781629\n",
       "\\item 0.781859184600258\n",
       "\\end{enumerate*}\n"
      ],
      "text/markdown": [
       "1. -0.776776621764597\n",
       "2. 0.00837095999603331\n",
       "3. 0.0465803028049967\n",
       "4. 0.59625901661066\n",
       "5. 0.576718781896486\n",
       "6. -0.282173877322451\n",
       "7. 1.62544730346494\n",
       "8. 0.229019590694692\n",
       "9. 1.67829720781629\n",
       "10. 0.781859184600258\n",
       "\n",
       "\n"
      ],
      "text/plain": [
       " [1] -0.77677662  0.00837096  0.04658030  0.59625902  0.57671878 -0.28217388\n",
       " [7]  1.62544730  0.22901959  1.67829721  0.78185918"
      ]
     },
     "metadata": {},
     "output_type": "display_data"
    },
    {
     "data": {
      "text/html": [
       "<style>\n",
       ".list-inline {list-style: none; margin:0; padding: 0}\n",
       ".list-inline>li {display: inline-block}\n",
       ".list-inline>li:not(:last-child)::after {content: \"\\00b7\"; padding: 0 .5ex}\n",
       "</style>\n",
       "<ol class=list-inline><li>1</li><li>2</li><li>3</li><li>4</li><li>5</li></ol>\n"
      ],
      "text/latex": [
       "\\begin{enumerate*}\n",
       "\\item 1\n",
       "\\item 2\n",
       "\\item 3\n",
       "\\item 4\n",
       "\\item 5\n",
       "\\end{enumerate*}\n"
      ],
      "text/markdown": [
       "1. 1\n",
       "2. 2\n",
       "3. 3\n",
       "4. 4\n",
       "5. 5\n",
       "\n",
       "\n"
      ],
      "text/plain": [
       "[1] 1 2 3 4 5"
      ]
     },
     "metadata": {},
     "output_type": "display_data"
    },
    {
     "data": {
      "text/html": [
       "'=============='"
      ],
      "text/latex": [
       "'=============='"
      ],
      "text/markdown": [
       "'=============='"
      ],
      "text/plain": [
       "[1] \"==============\""
      ]
     },
     "metadata": {},
     "output_type": "display_data"
    },
    {
     "data": {
      "text/html": [
       "<style>\n",
       ".list-inline {list-style: none; margin:0; padding: 0}\n",
       ".list-inline>li {display: inline-block}\n",
       ".list-inline>li:not(:last-child)::after {content: \"\\00b7\"; padding: 0 .5ex}\n",
       "</style>\n",
       "<ol class=list-inline><li>-0.776776621764597</li><li>0.00837095999603331</li><li>0.0465803028049967</li><li>0.59625901661066</li><li>0.576718781896486</li><li>-0.282173877322451</li><li>1.62544730346494</li><li>0.229019590694692</li><li>1.67829720781629</li><li>0.781859184600258</li></ol>\n"
      ],
      "text/latex": [
       "\\begin{enumerate*}\n",
       "\\item -0.776776621764597\n",
       "\\item 0.00837095999603331\n",
       "\\item 0.0465803028049967\n",
       "\\item 0.59625901661066\n",
       "\\item 0.576718781896486\n",
       "\\item -0.282173877322451\n",
       "\\item 1.62544730346494\n",
       "\\item 0.229019590694692\n",
       "\\item 1.67829720781629\n",
       "\\item 0.781859184600258\n",
       "\\end{enumerate*}\n"
      ],
      "text/markdown": [
       "1. -0.776776621764597\n",
       "2. 0.00837095999603331\n",
       "3. 0.0465803028049967\n",
       "4. 0.59625901661066\n",
       "5. 0.576718781896486\n",
       "6. -0.282173877322451\n",
       "7. 1.62544730346494\n",
       "8. 0.229019590694692\n",
       "9. 1.67829720781629\n",
       "10. 0.781859184600258\n",
       "\n",
       "\n"
      ],
      "text/plain": [
       " [1] -0.77677662  0.00837096  0.04658030  0.59625902  0.57671878 -0.28217388\n",
       " [7]  1.62544730  0.22901959  1.67829721  0.78185918"
      ]
     },
     "metadata": {},
     "output_type": "display_data"
    },
    {
     "data": {
      "text/html": [
       "<style>\n",
       ".list-inline {list-style: none; margin:0; padding: 0}\n",
       ".list-inline>li {display: inline-block}\n",
       ".list-inline>li:not(:last-child)::after {content: \"\\00b7\"; padding: 0 .5ex}\n",
       "</style>\n",
       "<ol class=list-inline><li>1</li><li>2</li><li>3</li><li>4</li><li>5</li></ol>\n"
      ],
      "text/latex": [
       "\\begin{enumerate*}\n",
       "\\item 1\n",
       "\\item 2\n",
       "\\item 3\n",
       "\\item 4\n",
       "\\item 5\n",
       "\\end{enumerate*}\n"
      ],
      "text/markdown": [
       "1. 1\n",
       "2. 2\n",
       "3. 3\n",
       "4. 4\n",
       "5. 5\n",
       "\n",
       "\n"
      ],
      "text/plain": [
       "[1] 1 2 3 4 5"
      ]
     },
     "metadata": {},
     "output_type": "display_data"
    }
   ],
   "source": [
    "m=function(x,y){ifelse(x>y, x, y)}\n",
    "# set.seed(0)\n",
    "x=rnorm(10)\n",
    "y=rnorm(10)\n",
    "x\n",
    "y\n",
    "m(x,y)\n",
    "m(1:5, 1)\n",
    "'=============='\n",
    "mapply(m, x, y)\n",
    "mapply(m, 1:5, 1)"
   ]
  },
  {
   "cell_type": "code",
   "execution_count": 64,
   "metadata": {},
   "outputs": [
    {
     "data": {
      "text/html": [
       "119.166666666667"
      ],
      "text/latex": [
       "119.166666666667"
      ],
      "text/markdown": [
       "119.166666666667"
      ],
      "text/plain": [
       "[1] 119.1667"
      ]
     },
     "metadata": {},
     "output_type": "display_data"
    }
   ],
   "source": [
    "sumsq = function(mu, sigma, x){sum(((x-mu)^2/sigma))}\n",
    "mu=1:3\n",
    "sigma=1:3\n",
    "x=5:10\n",
    "sumsq(mu, sigma, x)"
   ]
  },
  {
   "cell_type": "code",
   "execution_count": 65,
   "metadata": {},
   "outputs": [
    {
     "data": {
      "text/html": [
       "119.166666666667"
      ],
      "text/latex": [
       "119.166666666667"
      ],
      "text/markdown": [
       "119.166666666667"
      ],
      "text/plain": [
       "[1] 119.1667"
      ]
     },
     "metadata": {},
     "output_type": "display_data"
    }
   ],
   "source": [
    "sum(c((5-1)^2/1, (6-2)^2/2, (7-3)^2/3, (8-1)^2/1, (9-2)^2/2, (10-3)^2/3))"
   ]
  },
  {
   "cell_type": "code",
   "execution_count": 66,
   "metadata": {},
   "outputs": [
    {
     "data": {
      "text/html": [
       "416.833333333333"
      ],
      "text/latex": [
       "416.833333333333"
      ],
      "text/markdown": [
       "416.833333333333"
      ],
      "text/plain": [
       "[1] 416.8333"
      ]
     },
     "metadata": {},
     "output_type": "display_data"
    }
   ],
   "source": [
    "sum(c((5:10-1)^2/1, (5:10-2)^2/2, (5:10-3)^2/3))"
   ]
  },
  {
   "cell_type": "code",
   "execution_count": 67,
   "metadata": {},
   "outputs": [
    {
     "data": {
      "text/html": [
       "5.5"
      ],
      "text/latex": [
       "5.5"
      ],
      "text/markdown": [
       "5.5"
      ],
      "text/plain": [
       "[1] 5.5"
      ]
     },
     "metadata": {},
     "output_type": "display_data"
    }
   ],
   "source": [
    "x=1:10\n",
    "mean(x)"
   ]
  },
  {
   "cell_type": "code",
   "execution_count": 68,
   "metadata": {},
   "outputs": [
    {
     "ename": "ERROR",
     "evalue": "Error in parse(text = x, srcfile = src): <text>:1:4: unexpected numeric constant\n1: mu 1\n       ^\n",
     "output_type": "error",
     "traceback": [
      "Error in parse(text = x, srcfile = src): <text>:1:4: unexpected numeric constant\n1: mu 1\n       ^\nTraceback:\n"
     ]
    }
   ],
   "source": [
    "mu 1 2 3 1 2 3\n",
    "si 1 2 3 1 2 3\n",
    "x  5 6 7 8 9 10\n",
    "x-mu\n",
    "(x-mu)/sigma\n",
    "c((5-1)/1, (6-2)/2, (7-3)/3, (8-1)/1, (9-2)/2, (10-3)/3)"
   ]
  },
  {
   "cell_type": "code",
   "execution_count": null,
   "metadata": {},
   "outputs": [],
   "source": [
    "((x-mu)/sigma)^2"
   ]
  },
  {
   "cell_type": "code",
   "execution_count": null,
   "metadata": {},
   "outputs": [],
   "source": [
    "sum(((x-mu)/sigma)^2)"
   ]
  },
  {
   "cell_type": "code",
   "execution_count": null,
   "metadata": {},
   "outputs": [],
   "source": [
    "x=1:10;x\n",
    "y=1:10;y\n",
    "m=function(x,y,z){paste(x, y, z, sep=\",\")}\n",
    "m(x, y, 1:2)"
   ]
  },
  {
   "cell_type": "code",
   "execution_count": null,
   "metadata": {},
   "outputs": [],
   "source": [
    "z=mapply(m, x, y, 1:5)\n",
    "class(z);print(z)"
   ]
  },
  {
   "cell_type": "code",
   "execution_count": null,
   "metadata": {
    "scrolled": true
   },
   "outputs": [],
   "source": [
    "z=mapply(m, x, y, MoreArgs=list(z=1:5))\n",
    "class(z);print(z)"
   ]
  },
  {
   "cell_type": "code",
   "execution_count": null,
   "metadata": {},
   "outputs": [],
   "source": [
    "m=function(x,y,z){paste(x, y, z, sep=\",\")}\n",
    "m2=Vectorize(m, c(\"x\", \"y\"))\n",
    "str(m2)\n",
    "m2(1:10, 1:10, 1:5)"
   ]
  },
  {
   "cell_type": "code",
   "execution_count": null,
   "metadata": {
    "scrolled": true
   },
   "outputs": [],
   "source": [
    "str(mean)"
   ]
  },
  {
   "cell_type": "code",
   "execution_count": null,
   "metadata": {},
   "outputs": [],
   "source": [
    "Vectorize"
   ]
  },
  {
   "cell_type": "code",
   "execution_count": null,
   "metadata": {},
   "outputs": [],
   "source": [
    "y=1:10\n",
    "mean(y)\n",
    "m=Vectorize(mean, c(\"x\"))\n",
    "m(y)"
   ]
  }
 ],
 "metadata": {
  "kernelspec": {
   "display_name": "R",
   "language": "R",
   "name": "ir"
  },
  "language_info": {
   "codemirror_mode": "r",
   "file_extension": ".r",
   "mimetype": "text/x-r-source",
   "name": "R",
   "pygments_lexer": "r",
   "version": "4.0.2"
  }
 },
 "nbformat": 4,
 "nbformat_minor": 4
}

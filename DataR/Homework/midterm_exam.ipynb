{
 "cells": [
  {
   "cell_type": "code",
   "execution_count": 113,
   "id": "abd60354",
   "metadata": {},
   "outputs": [
    {
     "name": "stderr",
     "output_type": "stream",
     "text": [
      "Warning message:\n",
      "\"package 'stringr' is in use and will not be installed\"\n"
     ]
    }
   ],
   "source": [
    "#Q1\n",
    "install.packages(\"stringr\")\n"
   ]
  },
  {
   "cell_type": "code",
   "execution_count": 114,
   "id": "0df063e4",
   "metadata": {},
   "outputs": [
    {
     "data": {
      "text/html": [
       "<table class=\"dataframe\">\n",
       "<caption>A data.frame: 6 × 3</caption>\n",
       "<thead>\n",
       "\t<tr><th></th><th scope=col>currency_pair_name</th><th scope=col>currency_pair_code</th><th scope=col>history_first_trading_month</th></tr>\n",
       "\t<tr><th></th><th scope=col>&lt;chr&gt;</th><th scope=col>&lt;chr&gt;</th><th scope=col>&lt;int&gt;</th></tr>\n",
       "</thead>\n",
       "<tbody>\n",
       "\t<tr><th scope=row>1</th><td>EUR/USD</td><td>eurusd</td><td>200005</td></tr>\n",
       "\t<tr><th scope=row>2</th><td>EUR/CHF</td><td>eurchf</td><td>200203</td></tr>\n",
       "\t<tr><th scope=row>3</th><td>EUR/GBP</td><td>eurgbp</td><td>200203</td></tr>\n",
       "\t<tr><th scope=row>4</th><td>EUR/JPY</td><td>eurjpy</td><td>200203</td></tr>\n",
       "\t<tr><th scope=row>5</th><td>EUR/AUD</td><td>euraud</td><td>200208</td></tr>\n",
       "\t<tr><th scope=row>6</th><td>USD/CAD</td><td>usdcad</td><td>200006</td></tr>\n",
       "</tbody>\n",
       "</table>\n"
      ],
      "text/latex": [
       "A data.frame: 6 × 3\n",
       "\\begin{tabular}{r|lll}\n",
       "  & currency\\_pair\\_name & currency\\_pair\\_code & history\\_first\\_trading\\_month\\\\\n",
       "  & <chr> & <chr> & <int>\\\\\n",
       "\\hline\n",
       "\t1 & EUR/USD & eurusd & 200005\\\\\n",
       "\t2 & EUR/CHF & eurchf & 200203\\\\\n",
       "\t3 & EUR/GBP & eurgbp & 200203\\\\\n",
       "\t4 & EUR/JPY & eurjpy & 200203\\\\\n",
       "\t5 & EUR/AUD & euraud & 200208\\\\\n",
       "\t6 & USD/CAD & usdcad & 200006\\\\\n",
       "\\end{tabular}\n"
      ],
      "text/markdown": [
       "\n",
       "A data.frame: 6 × 3\n",
       "\n",
       "| <!--/--> | currency_pair_name &lt;chr&gt; | currency_pair_code &lt;chr&gt; | history_first_trading_month &lt;int&gt; |\n",
       "|---|---|---|---|\n",
       "| 1 | EUR/USD | eurusd | 200005 |\n",
       "| 2 | EUR/CHF | eurchf | 200203 |\n",
       "| 3 | EUR/GBP | eurgbp | 200203 |\n",
       "| 4 | EUR/JPY | eurjpy | 200203 |\n",
       "| 5 | EUR/AUD | euraud | 200208 |\n",
       "| 6 | USD/CAD | usdcad | 200006 |\n",
       "\n"
      ],
      "text/plain": [
       "  currency_pair_name currency_pair_code history_first_trading_month\n",
       "1 EUR/USD            eurusd             200005                     \n",
       "2 EUR/CHF            eurchf             200203                     \n",
       "3 EUR/GBP            eurgbp             200203                     \n",
       "4 EUR/JPY            eurjpy             200203                     \n",
       "5 EUR/AUD            euraud             200208                     \n",
       "6 USD/CAD            usdcad             200006                     "
      ]
     },
     "metadata": {},
     "output_type": "display_data"
    }
   ],
   "source": [
    "#Q2\n",
    "pairs <- read.csv(\"~/pairs.csv\")\n",
    "head(pairs)"
   ]
  },
  {
   "cell_type": "code",
   "execution_count": 115,
   "id": "47f61747",
   "metadata": {},
   "outputs": [
    {
     "data": {
      "text/html": [
       "<ol>\n",
       "\t<li><style>\n",
       ".list-inline {list-style: none; margin:0; padding: 0}\n",
       ".list-inline>li {display: inline-block}\n",
       ".list-inline>li:not(:last-child)::after {content: \"\\00b7\"; padding: 0 .5ex}\n",
       "</style>\n",
       "<ol class=list-inline><li>'EUR'</li><li>'USD'</li></ol>\n",
       "</li>\n",
       "\t<li><style>\n",
       ".list-inline {list-style: none; margin:0; padding: 0}\n",
       ".list-inline>li {display: inline-block}\n",
       ".list-inline>li:not(:last-child)::after {content: \"\\00b7\"; padding: 0 .5ex}\n",
       "</style>\n",
       "<ol class=list-inline><li>'EUR'</li><li>'CHF'</li></ol>\n",
       "</li>\n",
       "\t<li><style>\n",
       ".list-inline {list-style: none; margin:0; padding: 0}\n",
       ".list-inline>li {display: inline-block}\n",
       ".list-inline>li:not(:last-child)::after {content: \"\\00b7\"; padding: 0 .5ex}\n",
       "</style>\n",
       "<ol class=list-inline><li>'EUR'</li><li>'GBP'</li></ol>\n",
       "</li>\n",
       "\t<li><style>\n",
       ".list-inline {list-style: none; margin:0; padding: 0}\n",
       ".list-inline>li {display: inline-block}\n",
       ".list-inline>li:not(:last-child)::after {content: \"\\00b7\"; padding: 0 .5ex}\n",
       "</style>\n",
       "<ol class=list-inline><li>'EUR'</li><li>'JPY'</li></ol>\n",
       "</li>\n",
       "\t<li><style>\n",
       ".list-inline {list-style: none; margin:0; padding: 0}\n",
       ".list-inline>li {display: inline-block}\n",
       ".list-inline>li:not(:last-child)::after {content: \"\\00b7\"; padding: 0 .5ex}\n",
       "</style>\n",
       "<ol class=list-inline><li>'EUR'</li><li>'AUD'</li></ol>\n",
       "</li>\n",
       "\t<li><style>\n",
       ".list-inline {list-style: none; margin:0; padding: 0}\n",
       ".list-inline>li {display: inline-block}\n",
       ".list-inline>li:not(:last-child)::after {content: \"\\00b7\"; padding: 0 .5ex}\n",
       "</style>\n",
       "<ol class=list-inline><li>'USD'</li><li>'CAD'</li></ol>\n",
       "</li>\n",
       "</ol>\n"
      ],
      "text/latex": [
       "\\begin{enumerate}\n",
       "\\item \\begin{enumerate*}\n",
       "\\item 'EUR'\n",
       "\\item 'USD'\n",
       "\\end{enumerate*}\n",
       "\n",
       "\\item \\begin{enumerate*}\n",
       "\\item 'EUR'\n",
       "\\item 'CHF'\n",
       "\\end{enumerate*}\n",
       "\n",
       "\\item \\begin{enumerate*}\n",
       "\\item 'EUR'\n",
       "\\item 'GBP'\n",
       "\\end{enumerate*}\n",
       "\n",
       "\\item \\begin{enumerate*}\n",
       "\\item 'EUR'\n",
       "\\item 'JPY'\n",
       "\\end{enumerate*}\n",
       "\n",
       "\\item \\begin{enumerate*}\n",
       "\\item 'EUR'\n",
       "\\item 'AUD'\n",
       "\\end{enumerate*}\n",
       "\n",
       "\\item \\begin{enumerate*}\n",
       "\\item 'USD'\n",
       "\\item 'CAD'\n",
       "\\end{enumerate*}\n",
       "\n",
       "\\end{enumerate}\n"
      ],
      "text/markdown": [
       "1. 1. 'EUR'\n",
       "2. 'USD'\n",
       "\n",
       "\n",
       "\n",
       "2. 1. 'EUR'\n",
       "2. 'CHF'\n",
       "\n",
       "\n",
       "\n",
       "3. 1. 'EUR'\n",
       "2. 'GBP'\n",
       "\n",
       "\n",
       "\n",
       "4. 1. 'EUR'\n",
       "2. 'JPY'\n",
       "\n",
       "\n",
       "\n",
       "5. 1. 'EUR'\n",
       "2. 'AUD'\n",
       "\n",
       "\n",
       "\n",
       "6. 1. 'USD'\n",
       "2. 'CAD'\n",
       "\n",
       "\n",
       "\n",
       "\n",
       "\n"
      ],
      "text/plain": [
       "[[1]]\n",
       "[1] \"EUR\" \"USD\"\n",
       "\n",
       "[[2]]\n",
       "[1] \"EUR\" \"CHF\"\n",
       "\n",
       "[[3]]\n",
       "[1] \"EUR\" \"GBP\"\n",
       "\n",
       "[[4]]\n",
       "[1] \"EUR\" \"JPY\"\n",
       "\n",
       "[[5]]\n",
       "[1] \"EUR\" \"AUD\"\n",
       "\n",
       "[[6]]\n",
       "[1] \"USD\" \"CAD\"\n"
      ]
     },
     "metadata": {},
     "output_type": "display_data"
    }
   ],
   "source": [
    "#Q3\n",
    "library(stringr)\n",
    "split <- str_split(pairs$currency_pair_name , \"/\")\n",
    "head(split)"
   ]
  },
  {
   "cell_type": "code",
   "execution_count": 116,
   "id": "3eee1cb2",
   "metadata": {},
   "outputs": [
    {
     "data": {
      "text/html": [
       "<style>\n",
       ".list-inline {list-style: none; margin:0; padding: 0}\n",
       ".list-inline>li {display: inline-block}\n",
       ".list-inline>li:not(:last-child)::after {content: \"\\00b7\"; padding: 0 .5ex}\n",
       "</style>\n",
       "<ol class=list-inline><li>'EUR'</li><li>'EUR'</li><li>'EUR'</li><li>'EUR'</li><li>'EUR'</li><li>'USD'</li></ol>\n"
      ],
      "text/latex": [
       "\\begin{enumerate*}\n",
       "\\item 'EUR'\n",
       "\\item 'EUR'\n",
       "\\item 'EUR'\n",
       "\\item 'EUR'\n",
       "\\item 'EUR'\n",
       "\\item 'USD'\n",
       "\\end{enumerate*}\n"
      ],
      "text/markdown": [
       "1. 'EUR'\n",
       "2. 'EUR'\n",
       "3. 'EUR'\n",
       "4. 'EUR'\n",
       "5. 'EUR'\n",
       "6. 'USD'\n",
       "\n",
       "\n"
      ],
      "text/plain": [
       "[1] \"EUR\" \"EUR\" \"EUR\" \"EUR\" \"EUR\" \"USD\""
      ]
     },
     "metadata": {},
     "output_type": "display_data"
    },
    {
     "data": {
      "text/html": [
       "<ol>\n",
       "\t<li>'EUR'</li>\n",
       "\t<li>'EUR'</li>\n",
       "\t<li>'EUR'</li>\n",
       "\t<li>'EUR'</li>\n",
       "\t<li>'EUR'</li>\n",
       "\t<li>'USD'</li>\n",
       "</ol>\n"
      ],
      "text/latex": [
       "\\begin{enumerate}\n",
       "\\item 'EUR'\n",
       "\\item 'EUR'\n",
       "\\item 'EUR'\n",
       "\\item 'EUR'\n",
       "\\item 'EUR'\n",
       "\\item 'USD'\n",
       "\\end{enumerate}\n"
      ],
      "text/markdown": [
       "1. 'EUR'\n",
       "2. 'EUR'\n",
       "3. 'EUR'\n",
       "4. 'EUR'\n",
       "5. 'EUR'\n",
       "6. 'USD'\n",
       "\n",
       "\n"
      ],
      "text/plain": [
       "[[1]]\n",
       "[1] \"EUR\"\n",
       "\n",
       "[[2]]\n",
       "[1] \"EUR\"\n",
       "\n",
       "[[3]]\n",
       "[1] \"EUR\"\n",
       "\n",
       "[[4]]\n",
       "[1] \"EUR\"\n",
       "\n",
       "[[5]]\n",
       "[1] \"EUR\"\n",
       "\n",
       "[[6]]\n",
       "[1] \"USD\"\n"
      ]
     },
     "metadata": {},
     "output_type": "display_data"
    }
   ],
   "source": [
    "#Q4\n",
    "foreign_ccy <- sapply(split,\"[\",1)\n",
    "head(foreign_ccy)\n",
    "foreign_ccy_list <- lapply(foreign_ccy,tail,1)\n",
    "head(foreign_ccy_list)\n"
   ]
  },
  {
   "cell_type": "code",
   "execution_count": 117,
   "id": "95b0f13a",
   "metadata": {},
   "outputs": [
    {
     "data": {
      "text/html": [
       "<table class=\"dataframe\">\n",
       "<caption>A data.frame: 6 × 5</caption>\n",
       "<thead>\n",
       "\t<tr><th></th><th scope=col>currency_pair_name</th><th scope=col>currency_pair_code</th><th scope=col>history_first_trading_month</th><th scope=col>foreign_ccy</th><th scope=col>domestic_ccy</th></tr>\n",
       "\t<tr><th></th><th scope=col>&lt;chr&gt;</th><th scope=col>&lt;chr&gt;</th><th scope=col>&lt;int&gt;</th><th scope=col>&lt;list&gt;</th><th scope=col>&lt;list&gt;</th></tr>\n",
       "</thead>\n",
       "<tbody>\n",
       "\t<tr><th scope=row>1</th><td>EUR/USD</td><td>eurusd</td><td>200005</td><td>EUR</td><td>USD</td></tr>\n",
       "\t<tr><th scope=row>2</th><td>EUR/CHF</td><td>eurchf</td><td>200203</td><td>EUR</td><td>CHF</td></tr>\n",
       "\t<tr><th scope=row>3</th><td>EUR/GBP</td><td>eurgbp</td><td>200203</td><td>EUR</td><td>GBP</td></tr>\n",
       "\t<tr><th scope=row>4</th><td>EUR/JPY</td><td>eurjpy</td><td>200203</td><td>EUR</td><td>JPY</td></tr>\n",
       "\t<tr><th scope=row>5</th><td>EUR/AUD</td><td>euraud</td><td>200208</td><td>EUR</td><td>AUD</td></tr>\n",
       "\t<tr><th scope=row>6</th><td>USD/CAD</td><td>usdcad</td><td>200006</td><td>USD</td><td>CAD</td></tr>\n",
       "</tbody>\n",
       "</table>\n"
      ],
      "text/latex": [
       "A data.frame: 6 × 5\n",
       "\\begin{tabular}{r|lllll}\n",
       "  & currency\\_pair\\_name & currency\\_pair\\_code & history\\_first\\_trading\\_month & foreign\\_ccy & domestic\\_ccy\\\\\n",
       "  & <chr> & <chr> & <int> & <list> & <list>\\\\\n",
       "\\hline\n",
       "\t1 & EUR/USD & eurusd & 200005 & EUR & USD\\\\\n",
       "\t2 & EUR/CHF & eurchf & 200203 & EUR & CHF\\\\\n",
       "\t3 & EUR/GBP & eurgbp & 200203 & EUR & GBP\\\\\n",
       "\t4 & EUR/JPY & eurjpy & 200203 & EUR & JPY\\\\\n",
       "\t5 & EUR/AUD & euraud & 200208 & EUR & AUD\\\\\n",
       "\t6 & USD/CAD & usdcad & 200006 & USD & CAD\\\\\n",
       "\\end{tabular}\n"
      ],
      "text/markdown": [
       "\n",
       "A data.frame: 6 × 5\n",
       "\n",
       "| <!--/--> | currency_pair_name &lt;chr&gt; | currency_pair_code &lt;chr&gt; | history_first_trading_month &lt;int&gt; | foreign_ccy &lt;list&gt; | domestic_ccy &lt;list&gt; |\n",
       "|---|---|---|---|---|---|\n",
       "| 1 | EUR/USD | eurusd | 200005 | EUR | USD |\n",
       "| 2 | EUR/CHF | eurchf | 200203 | EUR | CHF |\n",
       "| 3 | EUR/GBP | eurgbp | 200203 | EUR | GBP |\n",
       "| 4 | EUR/JPY | eurjpy | 200203 | EUR | JPY |\n",
       "| 5 | EUR/AUD | euraud | 200208 | EUR | AUD |\n",
       "| 6 | USD/CAD | usdcad | 200006 | USD | CAD |\n",
       "\n"
      ],
      "text/plain": [
       "  currency_pair_name currency_pair_code history_first_trading_month foreign_ccy\n",
       "1 EUR/USD            eurusd             200005                      EUR        \n",
       "2 EUR/CHF            eurchf             200203                      EUR        \n",
       "3 EUR/GBP            eurgbp             200203                      EUR        \n",
       "4 EUR/JPY            eurjpy             200203                      EUR        \n",
       "5 EUR/AUD            euraud             200208                      EUR        \n",
       "6 USD/CAD            usdcad             200006                      USD        \n",
       "  domestic_ccy\n",
       "1 USD         \n",
       "2 CHF         \n",
       "3 GBP         \n",
       "4 JPY         \n",
       "5 AUD         \n",
       "6 CAD         "
      ]
     },
     "metadata": {},
     "output_type": "display_data"
    }
   ],
   "source": [
    "#Q5\n",
    "pairs$foreign_ccy = foreign_ccy_list\n",
    "domestic_ccy <- sapply(split,\"[\",2)\n",
    "domestic_ccy_list <- lapply(domestic_ccy,tail,1)\n",
    "pairs$domestic_ccy = domestic_ccy_list\n",
    "head(pairs)\n"
   ]
  },
  {
   "cell_type": "code",
   "execution_count": 118,
   "id": "b1cf63ea",
   "metadata": {
    "scrolled": true
   },
   "outputs": [
    {
     "data": {
      "text/html": [
       "<table class=\"dataframe\">\n",
       "<caption>A data.frame: 6 × 5</caption>\n",
       "<thead>\n",
       "\t<tr><th></th><th scope=col>currency_pair_name</th><th scope=col>currency_pair_code</th><th scope=col>history_first_trading_month</th><th scope=col>foreign_ccy</th><th scope=col>domestic_ccy</th></tr>\n",
       "\t<tr><th></th><th scope=col>&lt;chr&gt;</th><th scope=col>&lt;chr&gt;</th><th scope=col>&lt;int&gt;</th><th scope=col>&lt;list&gt;</th><th scope=col>&lt;list&gt;</th></tr>\n",
       "</thead>\n",
       "<tbody>\n",
       "\t<tr><th scope=row>1</th><td>EUR/USD</td><td>eurusd</td><td>200005</td><td>EUR</td><td>USD</td></tr>\n",
       "\t<tr><th scope=row>2</th><td>GBP/USD</td><td>gbpusd</td><td>200005</td><td>GBP</td><td>USD</td></tr>\n",
       "\t<tr><th scope=row>3</th><td>AUD/USD</td><td>audusd</td><td>200006</td><td>AUD</td><td>USD</td></tr>\n",
       "\t<tr><th scope=row>4</th><td>NZD/USD</td><td>nzdusd</td><td>200508</td><td>NZD</td><td>USD</td></tr>\n",
       "\t<tr><th scope=row>5</th><td>XAU/USD</td><td>xauusd</td><td>200903</td><td>XAU</td><td>USD</td></tr>\n",
       "\t<tr><th scope=row>6</th><td>SPX/USD</td><td>spxusd</td><td>201011</td><td>SPX</td><td>USD</td></tr>\n",
       "</tbody>\n",
       "</table>\n"
      ],
      "text/latex": [
       "A data.frame: 6 × 5\n",
       "\\begin{tabular}{r|lllll}\n",
       "  & currency\\_pair\\_name & currency\\_pair\\_code & history\\_first\\_trading\\_month & foreign\\_ccy & domestic\\_ccy\\\\\n",
       "  & <chr> & <chr> & <int> & <list> & <list>\\\\\n",
       "\\hline\n",
       "\t1 & EUR/USD & eurusd & 200005 & EUR & USD\\\\\n",
       "\t2 & GBP/USD & gbpusd & 200005 & GBP & USD\\\\\n",
       "\t3 & AUD/USD & audusd & 200006 & AUD & USD\\\\\n",
       "\t4 & NZD/USD & nzdusd & 200508 & NZD & USD\\\\\n",
       "\t5 & XAU/USD & xauusd & 200903 & XAU & USD\\\\\n",
       "\t6 & SPX/USD & spxusd & 201011 & SPX & USD\\\\\n",
       "\\end{tabular}\n"
      ],
      "text/markdown": [
       "\n",
       "A data.frame: 6 × 5\n",
       "\n",
       "| <!--/--> | currency_pair_name &lt;chr&gt; | currency_pair_code &lt;chr&gt; | history_first_trading_month &lt;int&gt; | foreign_ccy &lt;list&gt; | domestic_ccy &lt;list&gt; |\n",
       "|---|---|---|---|---|---|\n",
       "| 1 | EUR/USD | eurusd | 200005 | EUR | USD |\n",
       "| 2 | GBP/USD | gbpusd | 200005 | GBP | USD |\n",
       "| 3 | AUD/USD | audusd | 200006 | AUD | USD |\n",
       "| 4 | NZD/USD | nzdusd | 200508 | NZD | USD |\n",
       "| 5 | XAU/USD | xauusd | 200903 | XAU | USD |\n",
       "| 6 | SPX/USD | spxusd | 201011 | SPX | USD |\n",
       "\n"
      ],
      "text/plain": [
       "  currency_pair_name currency_pair_code history_first_trading_month foreign_ccy\n",
       "1 EUR/USD            eurusd             200005                      EUR        \n",
       "2 GBP/USD            gbpusd             200005                      GBP        \n",
       "3 AUD/USD            audusd             200006                      AUD        \n",
       "4 NZD/USD            nzdusd             200508                      NZD        \n",
       "5 XAU/USD            xauusd             200903                      XAU        \n",
       "6 SPX/USD            spxusd             201011                      SPX        \n",
       "  domestic_ccy\n",
       "1 USD         \n",
       "2 USD         \n",
       "3 USD         \n",
       "4 USD         \n",
       "5 USD         \n",
       "6 USD         "
      ]
     },
     "metadata": {},
     "output_type": "display_data"
    },
    {
     "data": {
      "text/html": [
       "<table class=\"dataframe\">\n",
       "<caption>A data.frame: 6 × 2</caption>\n",
       "<thead>\n",
       "\t<tr><th></th><th scope=col>foreign_ccy</th><th scope=col>domestic_ccy</th></tr>\n",
       "\t<tr><th></th><th scope=col>&lt;list&gt;</th><th scope=col>&lt;list&gt;</th></tr>\n",
       "</thead>\n",
       "<tbody>\n",
       "\t<tr><th scope=row>1</th><td>EUR</td><td>USD</td></tr>\n",
       "\t<tr><th scope=row>2</th><td>GBP</td><td>USD</td></tr>\n",
       "\t<tr><th scope=row>3</th><td>AUD</td><td>USD</td></tr>\n",
       "\t<tr><th scope=row>4</th><td>NZD</td><td>USD</td></tr>\n",
       "\t<tr><th scope=row>5</th><td>XAU</td><td>USD</td></tr>\n",
       "\t<tr><th scope=row>6</th><td>SPX</td><td>USD</td></tr>\n",
       "</tbody>\n",
       "</table>\n"
      ],
      "text/latex": [
       "A data.frame: 6 × 2\n",
       "\\begin{tabular}{r|ll}\n",
       "  & foreign\\_ccy & domestic\\_ccy\\\\\n",
       "  & <list> & <list>\\\\\n",
       "\\hline\n",
       "\t1 & EUR & USD\\\\\n",
       "\t2 & GBP & USD\\\\\n",
       "\t3 & AUD & USD\\\\\n",
       "\t4 & NZD & USD\\\\\n",
       "\t5 & XAU & USD\\\\\n",
       "\t6 & SPX & USD\\\\\n",
       "\\end{tabular}\n"
      ],
      "text/markdown": [
       "\n",
       "A data.frame: 6 × 2\n",
       "\n",
       "| <!--/--> | foreign_ccy &lt;list&gt; | domestic_ccy &lt;list&gt; |\n",
       "|---|---|---|\n",
       "| 1 | EUR | USD |\n",
       "| 2 | GBP | USD |\n",
       "| 3 | AUD | USD |\n",
       "| 4 | NZD | USD |\n",
       "| 5 | XAU | USD |\n",
       "| 6 | SPX | USD |\n",
       "\n"
      ],
      "text/plain": [
       "  foreign_ccy domestic_ccy\n",
       "1 EUR         USD         \n",
       "2 GBP         USD         \n",
       "3 AUD         USD         \n",
       "4 NZD         USD         \n",
       "5 XAU         USD         \n",
       "6 SPX         USD         "
      ]
     },
     "metadata": {},
     "output_type": "display_data"
    }
   ],
   "source": [
    "#Q6\n",
    "library(dplyr)\n",
    "pairs_USD <- filter(pairs, pairs$domestic_ccy==\"USD\")\n",
    "head(pairs_USD)\n",
    "pairs_USD <- select(pairs_USD, \"foreign_ccy\", \"domestic_ccy\")\n",
    "head(pairs_USD)\n"
   ]
  },
  {
   "cell_type": "code",
   "execution_count": 119,
   "id": "6b082244",
   "metadata": {
    "scrolled": true
   },
   "outputs": [
    {
     "data": {
      "text/html": [
       "<table class=\"dataframe\">\n",
       "<caption>A data.frame: 6 × 2</caption>\n",
       "<thead>\n",
       "\t<tr><th></th><th scope=col>domestic_ccy</th><th scope=col>n</th></tr>\n",
       "\t<tr><th></th><th scope=col>&lt;list&gt;</th><th scope=col>&lt;int&gt;</th></tr>\n",
       "</thead>\n",
       "<tbody>\n",
       "\t<tr><th scope=row>1</th><td>USD</td><td>11</td></tr>\n",
       "\t<tr><th scope=row>2</th><td>CHF</td><td> 7</td></tr>\n",
       "\t<tr><th scope=row>3</th><td>GBP</td><td> 3</td></tr>\n",
       "\t<tr><th scope=row>4</th><td>JPY</td><td>10</td></tr>\n",
       "\t<tr><th scope=row>5</th><td>AUD</td><td> 4</td></tr>\n",
       "\t<tr><th scope=row>6</th><td>CAD</td><td> 5</td></tr>\n",
       "</tbody>\n",
       "</table>\n"
      ],
      "text/latex": [
       "A data.frame: 6 × 2\n",
       "\\begin{tabular}{r|ll}\n",
       "  & domestic\\_ccy & n\\\\\n",
       "  & <list> & <int>\\\\\n",
       "\\hline\n",
       "\t1 & USD & 11\\\\\n",
       "\t2 & CHF &  7\\\\\n",
       "\t3 & GBP &  3\\\\\n",
       "\t4 & JPY & 10\\\\\n",
       "\t5 & AUD &  4\\\\\n",
       "\t6 & CAD &  5\\\\\n",
       "\\end{tabular}\n"
      ],
      "text/markdown": [
       "\n",
       "A data.frame: 6 × 2\n",
       "\n",
       "| <!--/--> | domestic_ccy &lt;list&gt; | n &lt;int&gt; |\n",
       "|---|---|---|\n",
       "| 1 | USD | 11 |\n",
       "| 2 | CHF |  7 |\n",
       "| 3 | GBP |  3 |\n",
       "| 4 | JPY | 10 |\n",
       "| 5 | AUD |  4 |\n",
       "| 6 | CAD |  5 |\n",
       "\n"
      ],
      "text/plain": [
       "  domestic_ccy n \n",
       "1 USD          11\n",
       "2 CHF           7\n",
       "3 GBP           3\n",
       "4 JPY          10\n",
       "5 AUD           4\n",
       "6 CAD           5"
      ]
     },
     "metadata": {},
     "output_type": "display_data"
    }
   ],
   "source": [
    "#Q7\n",
    "domestic_count <- pairs %>%\n",
    "    count(domestic_ccy)\n",
    "domestic_count <- data.frame(domestic_count)\n",
    "head(domestic_count)\n"
   ]
  },
  {
   "cell_type": "code",
   "execution_count": 160,
   "id": "785122fb",
   "metadata": {},
   "outputs": [
    {
     "data": {
      "image/png": "[encoded data removed]",
      "text/plain": [
       "plot without title"
      ]
     },
     "metadata": {
      "image/png": {
       "height": 420,
       "width": 420
      }
     },
     "output_type": "display_data"
    }
   ],
   "source": [
    "#Q8\n",
    "library(ggplot2)\n",
    "ggplot(data = domestic_count, aes(domestic_ccy)) + geom_bar()"
   ]
  },
  {
   "cell_type": "code",
   "execution_count": 203,
   "id": "83233dd9-6df6-4ea8-82ff-d060d2ff5c5c",
   "metadata": {},
   "outputs": [],
   "source": [
    "x<-TRUE\n",
    "y<-FALSE"
   ]
  },
  {
   "cell_type": "code",
   "execution_count": 212,
   "id": "e95f6612",
   "metadata": {},
   "outputs": [
    {
     "name": "stderr",
     "output_type": "stream",
     "text": [
      "Warning message in if (history_first_trading_month < 201001) {:\n",
      "\"the condition has length > 1 and only the first element will be used\"\n"
     ]
    },
    {
     "name": "stdout",
     "output_type": "stream",
     "text": [
      "[1] \"new\"\n"
     ]
    },
    {
     "data": {
      "text/html": [
       "<table class=\"dataframe\">\n",
       "<caption>A data.frame: 6 × 3</caption>\n",
       "<thead>\n",
       "\t<tr><th></th><th scope=col>domestic_ccy</th><th scope=col>oldnew</th><th scope=col>n</th></tr>\n",
       "\t<tr><th></th><th scope=col>&lt;list&gt;</th><th scope=col>&lt;chr&gt;</th><th scope=col>&lt;int&gt;</th></tr>\n",
       "</thead>\n",
       "<tbody>\n",
       "\t<tr><th scope=row>1</th><td>USD</td><td>new</td><td>11</td></tr>\n",
       "\t<tr><th scope=row>2</th><td>CHF</td><td>new</td><td> 7</td></tr>\n",
       "\t<tr><th scope=row>3</th><td>GBP</td><td>new</td><td> 3</td></tr>\n",
       "\t<tr><th scope=row>4</th><td>JPY</td><td>new</td><td>10</td></tr>\n",
       "\t<tr><th scope=row>5</th><td>AUD</td><td>new</td><td> 4</td></tr>\n",
       "\t<tr><th scope=row>6</th><td>CAD</td><td>new</td><td> 5</td></tr>\n",
       "</tbody>\n",
       "</table>\n"
      ],
      "text/latex": [
       "A data.frame: 6 × 3\n",
       "\\begin{tabular}{r|lll}\n",
       "  & domestic\\_ccy & oldnew & n\\\\\n",
       "  & <list> & <chr> & <int>\\\\\n",
       "\\hline\n",
       "\t1 & USD & new & 11\\\\\n",
       "\t2 & CHF & new &  7\\\\\n",
       "\t3 & GBP & new &  3\\\\\n",
       "\t4 & JPY & new & 10\\\\\n",
       "\t5 & AUD & new &  4\\\\\n",
       "\t6 & CAD & new &  5\\\\\n",
       "\\end{tabular}\n"
      ],
      "text/markdown": [
       "\n",
       "A data.frame: 6 × 3\n",
       "\n",
       "| <!--/--> | domestic_ccy &lt;list&gt; | oldnew &lt;chr&gt; | n &lt;int&gt; |\n",
       "|---|---|---|---|\n",
       "| 1 | USD | new | 11 |\n",
       "| 2 | CHF | new |  7 |\n",
       "| 3 | GBP | new |  3 |\n",
       "| 4 | JPY | new | 10 |\n",
       "| 5 | AUD | new |  4 |\n",
       "| 6 | CAD | new |  5 |\n",
       "\n"
      ],
      "text/plain": [
       "  domestic_ccy oldnew n \n",
       "1 USD          new    11\n",
       "2 CHF          new     7\n",
       "3 GBP          new     3\n",
       "4 JPY          new    10\n",
       "5 AUD          new     4\n",
       "6 CAD          new     5"
      ]
     },
     "metadata": {},
     "output_type": "display_data"
    }
   ],
   "source": [
    "#Q9\n",
    "domestic_count_oldnew <- pairs %>% mutate(\n",
    "    oldnew = if(oldnew\n",
    "    }\n",
    "    else {\n",
    "        print('old')\n",
    "        }\n",
    ") %>% count(domestic_ccy, 72\n",
    "           )\n",
    "\n",
    "head(domestic_count_oldnew)"
   ]
  },
  {
   "cell_type": "code",
   "execution_count": 213,
   "id": "11efa470-f0e7-47b6-b670-2a7538474087",
   "metadata": {},
   "outputs": [
    {
     "data": {
      "text/html": [
       "<table class=\"dataframe\">\n",
       "<caption>A data.frame: 6 × 3</caption>\n",
       "<thead>\n",
       "\t<tr><th></th><th scope=col>domestic_ccy</th><th scope=col>oldnew</th><th scope=col>n</th></tr>\n",
       "\t<tr><th></th><th scope=col>&lt;list&gt;</th><th scope=col>&lt;lgl&gt;</th><th scope=col>&lt;int&gt;</th></tr>\n",
       "</thead>\n",
       "<tbody>\n",
       "\t<tr><th scope=row>1</th><td>USD</td><td>FALSE</td><td>5</td></tr>\n",
       "\t<tr><th scope=row>2</th><td>USD</td><td> TRUE</td><td>6</td></tr>\n",
       "\t<tr><th scope=row>3</th><td>CHF</td><td> TRUE</td><td>7</td></tr>\n",
       "\t<tr><th scope=row>4</th><td>GBP</td><td>FALSE</td><td>1</td></tr>\n",
       "\t<tr><th scope=row>5</th><td>GBP</td><td> TRUE</td><td>2</td></tr>\n",
       "\t<tr><th scope=row>6</th><td>JPY</td><td>FALSE</td><td>2</td></tr>\n",
       "</tbody>\n",
       "</table>\n"
      ],
      "text/latex": [
       "A data.frame: 6 × 3\n",
       "\\begin{tabular}{r|lll}\n",
       "  & domestic\\_ccy & oldnew & n\\\\\n",
       "  & <list> & <lgl> & <int>\\\\\n",
       "\\hline\n",
       "\t1 & USD & FALSE & 5\\\\\n",
       "\t2 & USD &  TRUE & 6\\\\\n",
       "\t3 & CHF &  TRUE & 7\\\\\n",
       "\t4 & GBP & FALSE & 1\\\\\n",
       "\t5 & GBP &  TRUE & 2\\\\\n",
       "\t6 & JPY & FALSE & 2\\\\\n",
       "\\end{tabular}\n"
      ],
      "text/markdown": [
       "\n",
       "A data.frame: 6 × 3\n",
       "\n",
       "| <!--/--> | domestic_ccy &lt;list&gt; | oldnew &lt;lgl&gt; | n &lt;int&gt; |\n",
       "|---|---|---|---|\n",
       "| 1 | USD | FALSE | 5 |\n",
       "| 2 | USD |  TRUE | 6 |\n",
       "| 3 | CHF |  TRUE | 7 |\n",
       "| 4 | GBP | FALSE | 1 |\n",
       "| 5 | GBP |  TRUE | 2 |\n",
       "| 6 | JPY | FALSE | 2 |\n",
       "\n"
      ],
      "text/plain": [
       "  domestic_ccy oldnew n\n",
       "1 USD          FALSE  5\n",
       "2 USD           TRUE  6\n",
       "3 CHF           TRUE  7\n",
       "4 GBP          FALSE  1\n",
       "5 GBP           TRUE  2\n",
       "6 JPY          FALSE  2"
      ]
     },
     "metadata": {},
     "output_type": "display_data"
    }
   ],
   "source": [
    "#Q9\n",
    "domestic_count_oldnew <- pairs %>% mutate(\n",
    "    oldnew = history_first_trading_month < 201001,\n",
    ") %>% count(domestic_ccy, oldnew)\n",
    "head(domestic_count_oldnew)"
   ]
  },
  {
   "cell_type": "code",
   "execution_count": 199,
   "id": "9e5517f5",
   "metadata": {},
   "outputs": [
    {
     "name": "stderr",
     "output_type": "stream",
     "text": [
      "Warning message in pmin(y, 0):\n",
      "\"NAs introduced by coercion\"\n",
      "Warning message in pmin(y, 0):\n",
      "\"NAs introduced by coercion\"\n",
      "Warning message in pmin(y, 0):\n",
      "\"NAs introduced by coercion\"\n",
      "Warning message in pmin(y, 0):\n",
      "\"NAs introduced by coercion\"\n",
      "Warning message in pmin(y, 0):\n",
      "\"NAs introduced by coercion\"\n",
      "Warning message in pmin(y, 0):\n",
      "\"NAs introduced by coercion\"\n",
      "Warning message in pmin(y, 0):\n",
      "\"NAs introduced by coercion\"\n",
      "Warning message in pmin(y, 0):\n",
      "\"NAs introduced by coercion\"\n",
      "Warning message in pmin(y, 0):\n",
      "\"NAs introduced by coercion\"\n",
      "Warning message in pmin(y, 0):\n",
      "\"NAs introduced by coercion\"\n",
      "Warning message in pmin(y, 0):\n",
      "\"NAs introduced by coercion\"\n",
      "Warning message in pmin(y, 0):\n",
      "\"NAs introduced by coercion\"\n",
      "Warning message in pmin(y, 0):\n",
      "\"NAs introduced by coercion\"\n",
      "Warning message in pmin(y, 0):\n",
      "\"NAs introduced by coercion\"\n",
      "Warning message in pmin(y, 0):\n",
      "\"NAs introduced by coercion\"\n",
      "Warning message in pmin(y, 0):\n",
      "\"NAs introduced by coercion\"\n",
      "Warning message in pmin(y, 0):\n",
      "\"NAs introduced by coercion\"\n",
      "Warning message in pmin(y, 0):\n",
      "\"NAs introduced by coercion\"\n",
      "Warning message in pmin(y, 0):\n",
      "\"NAs introduced by coercion\"\n",
      "Warning message in pmin(y, 0):\n",
      "\"NAs introduced by coercion\"\n",
      "Warning message in pmin(y, 0):\n",
      "\"NAs introduced by coercion\"\n",
      "Warning message in pmin(y, 0):\n",
      "\"NAs introduced by coercion\"\n",
      "Warning message in pmin(y, 0):\n",
      "\"NAs introduced by coercion\"\n",
      "Warning message in pmin(y, 0):\n",
      "\"NAs introduced by coercion\"\n",
      "Warning message in pmin(y, 0):\n",
      "\"NAs introduced by coercion\"\n",
      "Warning message in pmax(y, 0):\n",
      "\"NAs introduced by coercion\"\n",
      "Warning message in pmax(y, 0):\n",
      "\"NAs introduced by coercion\"\n",
      "Warning message in pmax(y, 0):\n",
      "\"NAs introduced by coercion\"\n",
      "Warning message in pmax(y, 0):\n",
      "\"NAs introduced by coercion\"\n",
      "Warning message in pmax(y, 0):\n",
      "\"NAs introduced by coercion\"\n",
      "Warning message in pmax(y, 0):\n",
      "\"NAs introduced by coercion\"\n",
      "Warning message in pmax(y, 0):\n",
      "\"NAs introduced by coercion\"\n",
      "Warning message in pmax(y, 0):\n",
      "\"NAs introduced by coercion\"\n",
      "Warning message in pmax(y, 0):\n",
      "\"NAs introduced by coercion\"\n",
      "Warning message in pmax(y, 0):\n",
      "\"NAs introduced by coercion\"\n",
      "Warning message in pmax(y, 0):\n",
      "\"NAs introduced by coercion\"\n",
      "Warning message in pmax(y, 0):\n",
      "\"NAs introduced by coercion\"\n",
      "Warning message in pmax(y, 0):\n",
      "\"NAs introduced by coercion\"\n",
      "Warning message in pmax(y, 0):\n",
      "\"NAs introduced by coercion\"\n",
      "Warning message in pmax(y, 0):\n",
      "\"NAs introduced by coercion\"\n",
      "Warning message in pmax(y, 0):\n",
      "\"NAs introduced by coercion\"\n",
      "Warning message in pmax(y, 0):\n",
      "\"NAs introduced by coercion\"\n",
      "Warning message in pmax(y, 0):\n",
      "\"NAs introduced by coercion\"\n",
      "Warning message in pmax(y, 0):\n",
      "\"NAs introduced by coercion\"\n",
      "Warning message in pmax(y, 0):\n",
      "\"NAs introduced by coercion\"\n",
      "Warning message in pmax(y, 0):\n",
      "\"NAs introduced by coercion\"\n",
      "Warning message in pmax(y, 0):\n",
      "\"NAs introduced by coercion\"\n",
      "Warning message in pmax(y, 0):\n",
      "\"NAs introduced by coercion\"\n",
      "Warning message in pmax(y, 0):\n",
      "\"NAs introduced by coercion\"\n",
      "Warning message in pmax(y, 0):\n",
      "\"NAs introduced by coercion\"\n",
      "ERROR while rich displaying an object: Error: Discrete value supplied to continuous scale\n",
      "\n",
      "Traceback:\n",
      "1. FUN(X[[i]], ...)\n",
      "2. tryCatch(withCallingHandlers({\n",
      " .     if (!mime %in% names(repr::mime2repr)) \n",
      " .         stop(\"No repr_* for mimetype \", mime, \" in repr::mime2repr\")\n",
      " .     rpr <- repr::mime2repr[[mime]](obj)\n",
      " .     if (is.null(rpr)) \n",
      " .         return(NULL)\n",
      " .     prepare_content(is.raw(rpr), rpr)\n",
      " . }, error = error_handler), error = outer_handler)\n",
      "3. tryCatchList(expr, classes, parentenv, handlers)\n",
      "4. tryCatchOne(expr, names, parentenv, handlers[[1L]])\n",
      "5. doTryCatch(return(expr), name, parentenv, handler)\n",
      "6. withCallingHandlers({\n",
      " .     if (!mime %in% names(repr::mime2repr)) \n",
      " .         stop(\"No repr_* for mimetype \", mime, \" in repr::mime2repr\")\n",
      " .     rpr <- repr::mime2repr[[mime]](obj)\n",
      " .     if (is.null(rpr)) \n",
      " .         return(NULL)\n",
      " .     prepare_content(is.raw(rpr), rpr)\n",
      " . }, error = error_handler)\n",
      "7. repr::mime2repr[[mime]](obj)\n",
      "8. repr_text.default(obj)\n",
      "9. paste(capture.output(print(obj)), collapse = \"\\n\")\n",
      "10. capture.output(print(obj))\n",
      "11. evalVis(expr)\n",
      "12. withVisible(eval(expr, pf))\n",
      "13. eval(expr, pf)\n",
      "14. eval(expr, pf)\n",
      "15. print(obj)\n",
      "16. print.ggplot(obj)\n",
      "17. ggplot_build(x)\n",
      "18. ggplot_build.ggplot(x)\n",
      "19. layout$train_position(data, scale_x(), scale_y())\n",
      "20. f(..., self = self)\n",
      "21. self$facet$train_scales(self$panel_scales_x, self$panel_scales_y, \n",
      "  .     layout, data, self$facet_params)\n",
      "22. f(...)\n",
      "23. scale_apply(layer_data, y_vars, \"train\", SCALE_Y, y_scales)\n",
      "24. lapply(vars, function(var) {\n",
      "  .     pieces <- lapply(seq_along(scales), function(i) {\n",
      "  .         scales[[i]][[method]](data[[var]][scale_index[[i]]])\n",
      "  .     })\n",
      "  .     o <- order(unlist(scale_index))[seq_len(sum(lengths(pieces)))]\n",
      "  .     do.call(\"c\", pieces)[o]\n",
      "  . })\n",
      "25. FUN(X[[i]], ...)\n",
      "26. lapply(seq_along(scales), function(i) {\n",
      "  .     scales[[i]][[method]](data[[var]][scale_index[[i]]])\n",
      "  . })\n",
      "27. FUN(X[[i]], ...)\n",
      "28. scales[[i]][[method]](data[[var]][scale_index[[i]]])\n",
      "29. f(..., self = self)\n",
      "30. self$range$train(x)\n",
      "31. f(..., self = self)\n",
      "32. scales::train_continuous(x, self$range)\n",
      "33. stop(\"Discrete value supplied to continuous scale\", call. = FALSE)\n"
     ]
    },
    {
     "data": {
      "image/png": "[encoded data removed]",
      "text/plain": [
       "plot without title"
      ]
     },
     "metadata": {
      "image/png": {
       "height": 420,
       "width": 420
      }
     },
     "output_type": "display_data"
    }
   ],
   "source": [
    "#Q10\n",
    "ggplot(data = domestic_count_oldnew, aes(x=old, colour = \"ccy\" )) + geom_bar(position= 'dodge',stat='identity')"
   ]
  },
  {
   "cell_type": "code",
   "execution_count": 48,
   "id": "256f2a6c",
   "metadata": {
    "tags": []
   },
   "outputs": [
    {
     "name": "stderr",
     "output_type": "stream",
     "text": [
      "Installing package into 'C:/Users/Saqeeb/Documents/R/win-library/4.0'\n",
      "(as 'lib' is unspecified)\n",
      "\n",
      "also installing the dependencies 'cli', 'dplyr', 'dbplyr'\n",
      "\n",
      "\n"
     ]
    },
    {
     "name": "stdout",
     "output_type": "stream",
     "text": [
      "\n",
      "  There are binary versions available but the source versions are later:\n",
      "         binary source needs_compilation\n",
      "cli       3.2.0  3.3.0              TRUE\n",
      "dplyr     1.0.8  1.0.9              TRUE\n",
      "dbplyr    2.1.1  2.2.1             FALSE\n",
      "sparklyr  1.7.5  1.7.7             FALSE\n",
      "\n",
      "  Binaries will be installed\n",
      "package 'cli' successfully unpacked and MD5 sums checked\n"
     ]
    },
    {
     "name": "stderr",
     "output_type": "stream",
     "text": [
      "Warning message:\n",
      "\"cannot remove prior installation of package 'cli'\"\n",
      "Warning message in file.copy(savedcopy, lib, recursive = TRUE):\n",
      "\"problem copying C:\\Users\\Saqeeb\\Documents\\R\\win-library\\4.0\\00LOCK\\cli\\libs\\x64\\cli.dll to C:\\Users\\Saqeeb\\Documents\\R\\win-library\\4.0\\cli\\libs\\x64\\cli.dll: Permission denied\"\n",
      "Warning message:\n",
      "\"restored 'cli'\"\n"
     ]
    },
    {
     "name": "stdout",
     "output_type": "stream",
     "text": [
      "package 'dplyr' successfully unpacked and MD5 sums checked\n"
     ]
    },
    {
     "name": "stderr",
     "output_type": "stream",
     "text": [
      "Warning message:\n",
      "\"cannot remove prior installation of package 'dplyr'\"\n",
      "Warning message in file.copy(savedcopy, lib, recursive = TRUE):\n",
      "\"problem copying C:\\Users\\Saqeeb\\Documents\\R\\win-library\\4.0\\00LOCK\\dplyr\\libs\\x64\\dplyr.dll to C:\\Users\\Saqeeb\\Documents\\R\\win-library\\4.0\\dplyr\\libs\\x64\\dplyr.dll: Permission denied\"\n",
      "Warning message:\n",
      "\"restored 'dplyr'\"\n"
     ]
    },
    {
     "name": "stdout",
     "output_type": "stream",
     "text": [
      "\n",
      "The downloaded binary packages are in\n",
      "\tC:\\Users\\Saqeeb\\AppData\\Local\\Temp\\RtmpYRg3jt\\downloaded_packages\n"
     ]
    },
    {
     "name": "stderr",
     "output_type": "stream",
     "text": [
      "installing the source packages 'dbplyr', 'sparklyr'\n",
      "\n",
      "\n",
      "Warning message in install.packages(\"sparklyr\"):\n",
      "\"installation of package 'dbplyr' had non-zero exit status\"\n",
      "Warning message in install.packages(\"sparklyr\"):\n",
      "\"installation of package 'sparklyr' had non-zero exit status\"\n",
      "Warning message:\n",
      "\"package 'sparklyr' was built under R version 4.2.1\"\n"
     ]
    },
    {
     "ename": "ERROR",
     "evalue": "Error: package or namespace load failed for 'sparklyr' in loadNamespace(j <- i[[1L]], c(lib.loc, .libPaths()), versionCheck = vI[[j]]):\n namespace 'dbplyr' 1.4.4 is being loaded, but >= 2.1.1 is required\n",
     "output_type": "error",
     "traceback": [
      "Error: package or namespace load failed for 'sparklyr' in loadNamespace(j <- i[[1L]], c(lib.loc, .libPaths()), versionCheck = vI[[j]]):\n namespace 'dbplyr' 1.4.4 is being loaded, but >= 2.1.1 is required\nTraceback:\n",
      "1. library(sparklyr)",
      "2. tryCatch({\n .     attr(package, \"LibPath\") <- which.lib.loc\n .     ns <- loadNamespace(package, lib.loc)\n .     env <- attachNamespace(ns, pos = pos, deps, exclude, include.only)\n . }, error = function(e) {\n .     P <- if (!is.null(cc <- conditionCall(e))) \n .         paste(\" in\", deparse(cc)[1L])\n .     else \"\"\n .     msg <- gettextf(\"package or namespace load failed for %s%s:\\n %s\", \n .         sQuote(package), P, conditionMessage(e))\n .     if (logical.return) \n .         message(paste(\"Error:\", msg), domain = NA)\n .     else stop(msg, call. = FALSE, domain = NA)\n . })",
      "3. tryCatchList(expr, classes, parentenv, handlers)",
      "4. tryCatchOne(expr, names, parentenv, handlers[[1L]])",
      "5. value[[3L]](cond)",
      "6. stop(msg, call. = FALSE, domain = NA)"
     ]
    }
   ],
   "source": [
    "#Q11\n",
    "install.packages(\"sparklyr\")\n",
    "library(sparklyr)\n",
    "spark_install()\n",
    "sc = spark_connect(master = \"local\")\n",
    "pairs_tbl <- copy_to(sc, pairs, overwrite = TRUE)"
   ]
  },
  {
   "cell_type": "code",
   "execution_count": 36,
   "id": "31c35e7a",
   "metadata": {},
   "outputs": [
    {
     "data": {
      "text/html": [
       "<table class=\"dataframe\">\n",
       "<caption>A data.frame: 66 × 2</caption>\n",
       "<thead>\n",
       "\t<tr><th scope=col>src</th><th scope=col>dst</th></tr>\n",
       "\t<tr><th scope=col>&lt;list&gt;</th><th scope=col>&lt;list&gt;</th></tr>\n",
       "</thead>\n",
       "<tbody>\n",
       "\t<tr><td>EUR</td><td>USD</td></tr>\n",
       "\t<tr><td>EUR</td><td>CHF</td></tr>\n",
       "\t<tr><td>EUR</td><td>GBP</td></tr>\n",
       "\t<tr><td>EUR</td><td>JPY</td></tr>\n",
       "\t<tr><td>EUR</td><td>AUD</td></tr>\n",
       "\t<tr><td>USD</td><td>CAD</td></tr>\n",
       "\t<tr><td>USD</td><td>CHF</td></tr>\n",
       "\t<tr><td>USD</td><td>JPY</td></tr>\n",
       "\t<tr><td>USD</td><td>MXN</td></tr>\n",
       "\t<tr><td>GBP</td><td>CHF</td></tr>\n",
       "\t<tr><td>GBP</td><td>JPY</td></tr>\n",
       "\t<tr><td>GBP</td><td>USD</td></tr>\n",
       "\t<tr><td>AUD</td><td>JPY</td></tr>\n",
       "\t<tr><td>AUD</td><td>USD</td></tr>\n",
       "\t<tr><td>CHF</td><td>JPY</td></tr>\n",
       "\t<tr><td>NZD</td><td>JPY</td></tr>\n",
       "\t<tr><td>NZD</td><td>USD</td></tr>\n",
       "\t<tr><td>XAU</td><td>USD</td></tr>\n",
       "\t<tr><td>EUR</td><td>CAD</td></tr>\n",
       "\t<tr><td>AUD</td><td>CAD</td></tr>\n",
       "\t<tr><td>CAD</td><td>JPY</td></tr>\n",
       "\t<tr><td>EUR</td><td>NZD</td></tr>\n",
       "\t<tr><td>GRX</td><td>EUR</td></tr>\n",
       "\t<tr><td>NZD</td><td>CAD</td></tr>\n",
       "\t<tr><td>SGD</td><td>JPY</td></tr>\n",
       "\t<tr><td>USD</td><td>HKD</td></tr>\n",
       "\t<tr><td>USD</td><td>NOK</td></tr>\n",
       "\t<tr><td>USD</td><td>TRY</td></tr>\n",
       "\t<tr><td>XAU</td><td>AUD</td></tr>\n",
       "\t<tr><td>AUD</td><td>CHF</td></tr>\n",
       "\t<tr><td>...</td><td>...</td></tr>\n",
       "\t<tr><td>SPX</td><td>USD</td></tr>\n",
       "\t<tr><td>USD</td><td>HUF</td></tr>\n",
       "\t<tr><td>USD</td><td>PLN</td></tr>\n",
       "\t<tr><td>USD</td><td>ZAR</td></tr>\n",
       "\t<tr><td>XAU</td><td>CHF</td></tr>\n",
       "\t<tr><td>ZAR</td><td>JPY</td></tr>\n",
       "\t<tr><td>BCO</td><td>USD</td></tr>\n",
       "\t<tr><td>ETX</td><td>EUR</td></tr>\n",
       "\t<tr><td>EUR</td><td>CZK</td></tr>\n",
       "\t<tr><td>EUR</td><td>SEK</td></tr>\n",
       "\t<tr><td>GBP</td><td>AUD</td></tr>\n",
       "\t<tr><td>GBP</td><td>NZD</td></tr>\n",
       "\t<tr><td>JPX</td><td>JPY</td></tr>\n",
       "\t<tr><td>UDX</td><td>USD</td></tr>\n",
       "\t<tr><td>USD</td><td>CZK</td></tr>\n",
       "\t<tr><td>USD</td><td>SEK</td></tr>\n",
       "\t<tr><td>WTI</td><td>USD</td></tr>\n",
       "\t<tr><td>XAU</td><td>EUR</td></tr>\n",
       "\t<tr><td>AUD</td><td>NZD</td></tr>\n",
       "\t<tr><td>CAD</td><td>CHF</td></tr>\n",
       "\t<tr><td>EUR</td><td>DKK</td></tr>\n",
       "\t<tr><td>EUR</td><td>NOK</td></tr>\n",
       "\t<tr><td>EUR</td><td>TRY</td></tr>\n",
       "\t<tr><td>GBP</td><td>CAD</td></tr>\n",
       "\t<tr><td>NSX</td><td>USD</td></tr>\n",
       "\t<tr><td>UKX</td><td>GBP</td></tr>\n",
       "\t<tr><td>USD</td><td>DKK</td></tr>\n",
       "\t<tr><td>USD</td><td>SGD</td></tr>\n",
       "\t<tr><td>XAG</td><td>USD</td></tr>\n",
       "\t<tr><td>XAU</td><td>GBP</td></tr>\n",
       "</tbody>\n",
       "</table>\n"
      ],
      "text/latex": [
       "A data.frame: 66 × 2\n",
       "\\begin{tabular}{ll}\n",
       " src & dst\\\\\n",
       " <list> & <list>\\\\\n",
       "\\hline\n",
       "\t EUR & USD\\\\\n",
       "\t EUR & CHF\\\\\n",
       "\t EUR & GBP\\\\\n",
       "\t EUR & JPY\\\\\n",
       "\t EUR & AUD\\\\\n",
       "\t USD & CAD\\\\\n",
       "\t USD & CHF\\\\\n",
       "\t USD & JPY\\\\\n",
       "\t USD & MXN\\\\\n",
       "\t GBP & CHF\\\\\n",
       "\t GBP & JPY\\\\\n",
       "\t GBP & USD\\\\\n",
       "\t AUD & JPY\\\\\n",
       "\t AUD & USD\\\\\n",
       "\t CHF & JPY\\\\\n",
       "\t NZD & JPY\\\\\n",
       "\t NZD & USD\\\\\n",
       "\t XAU & USD\\\\\n",
       "\t EUR & CAD\\\\\n",
       "\t AUD & CAD\\\\\n",
       "\t CAD & JPY\\\\\n",
       "\t EUR & NZD\\\\\n",
       "\t GRX & EUR\\\\\n",
       "\t NZD & CAD\\\\\n",
       "\t SGD & JPY\\\\\n",
       "\t USD & HKD\\\\\n",
       "\t USD & NOK\\\\\n",
       "\t USD & TRY\\\\\n",
       "\t XAU & AUD\\\\\n",
       "\t AUD & CHF\\\\\n",
       "\t ... & ...\\\\\n",
       "\t SPX & USD\\\\\n",
       "\t USD & HUF\\\\\n",
       "\t USD & PLN\\\\\n",
       "\t USD & ZAR\\\\\n",
       "\t XAU & CHF\\\\\n",
       "\t ZAR & JPY\\\\\n",
       "\t BCO & USD\\\\\n",
       "\t ETX & EUR\\\\\n",
       "\t EUR & CZK\\\\\n",
       "\t EUR & SEK\\\\\n",
       "\t GBP & AUD\\\\\n",
       "\t GBP & NZD\\\\\n",
       "\t JPX & JPY\\\\\n",
       "\t UDX & USD\\\\\n",
       "\t USD & CZK\\\\\n",
       "\t USD & SEK\\\\\n",
       "\t WTI & USD\\\\\n",
       "\t XAU & EUR\\\\\n",
       "\t AUD & NZD\\\\\n",
       "\t CAD & CHF\\\\\n",
       "\t EUR & DKK\\\\\n",
       "\t EUR & NOK\\\\\n",
       "\t EUR & TRY\\\\\n",
       "\t GBP & CAD\\\\\n",
       "\t NSX & USD\\\\\n",
       "\t UKX & GBP\\\\\n",
       "\t USD & DKK\\\\\n",
       "\t USD & SGD\\\\\n",
       "\t XAG & USD\\\\\n",
       "\t XAU & GBP\\\\\n",
       "\\end{tabular}\n"
      ],
      "text/markdown": [
       "\n",
       "A data.frame: 66 × 2\n",
       "\n",
       "| src &lt;list&gt; | dst &lt;list&gt; |\n",
       "|---|---|\n",
       "| EUR | USD |\n",
       "| EUR | CHF |\n",
       "| EUR | GBP |\n",
       "| EUR | JPY |\n",
       "| EUR | AUD |\n",
       "| USD | CAD |\n",
       "| USD | CHF |\n",
       "| USD | JPY |\n",
       "| USD | MXN |\n",
       "| GBP | CHF |\n",
       "| GBP | JPY |\n",
       "| GBP | USD |\n",
       "| AUD | JPY |\n",
       "| AUD | USD |\n",
       "| CHF | JPY |\n",
       "| NZD | JPY |\n",
       "| NZD | USD |\n",
       "| XAU | USD |\n",
       "| EUR | CAD |\n",
       "| AUD | CAD |\n",
       "| CAD | JPY |\n",
       "| EUR | NZD |\n",
       "| GRX | EUR |\n",
       "| NZD | CAD |\n",
       "| SGD | JPY |\n",
       "| USD | HKD |\n",
       "| USD | NOK |\n",
       "| USD | TRY |\n",
       "| XAU | AUD |\n",
       "| AUD | CHF |\n",
       "| ... | ... |\n",
       "| SPX | USD |\n",
       "| USD | HUF |\n",
       "| USD | PLN |\n",
       "| USD | ZAR |\n",
       "| XAU | CHF |\n",
       "| ZAR | JPY |\n",
       "| BCO | USD |\n",
       "| ETX | EUR |\n",
       "| EUR | CZK |\n",
       "| EUR | SEK |\n",
       "| GBP | AUD |\n",
       "| GBP | NZD |\n",
       "| JPX | JPY |\n",
       "| UDX | USD |\n",
       "| USD | CZK |\n",
       "| USD | SEK |\n",
       "| WTI | USD |\n",
       "| XAU | EUR |\n",
       "| AUD | NZD |\n",
       "| CAD | CHF |\n",
       "| EUR | DKK |\n",
       "| EUR | NOK |\n",
       "| EUR | TRY |\n",
       "| GBP | CAD |\n",
       "| NSX | USD |\n",
       "| UKX | GBP |\n",
       "| USD | DKK |\n",
       "| USD | SGD |\n",
       "| XAG | USD |\n",
       "| XAU | GBP |\n",
       "\n"
      ],
      "text/plain": [
       "    src dst\n",
       "1   EUR USD\n",
       "2   EUR CHF\n",
       "3   EUR GBP\n",
       "4   EUR JPY\n",
       "5   EUR AUD\n",
       "6   USD CAD\n",
       "7   USD CHF\n",
       "8   USD JPY\n",
       "9   USD MXN\n",
       "10  GBP CHF\n",
       "11  GBP JPY\n",
       "12  GBP USD\n",
       "13  AUD JPY\n",
       "14  AUD USD\n",
       "15  CHF JPY\n",
       "16  NZD JPY\n",
       "17  NZD USD\n",
       "18  XAU USD\n",
       "19  EUR CAD\n",
       "20  AUD CAD\n",
       "21  CAD JPY\n",
       "22  EUR NZD\n",
       "23  GRX EUR\n",
       "24  NZD CAD\n",
       "25  SGD JPY\n",
       "26  USD HKD\n",
       "27  USD NOK\n",
       "28  USD TRY\n",
       "29  XAU AUD\n",
       "30  AUD CHF\n",
       "... ... ...\n",
       "37  SPX USD\n",
       "38  USD HUF\n",
       "39  USD PLN\n",
       "40  USD ZAR\n",
       "41  XAU CHF\n",
       "42  ZAR JPY\n",
       "43  BCO USD\n",
       "44  ETX EUR\n",
       "45  EUR CZK\n",
       "46  EUR SEK\n",
       "47  GBP AUD\n",
       "48  GBP NZD\n",
       "49  JPX JPY\n",
       "50  UDX USD\n",
       "51  USD CZK\n",
       "52  USD SEK\n",
       "53  WTI USD\n",
       "54  XAU EUR\n",
       "55  AUD NZD\n",
       "56  CAD CHF\n",
       "57  EUR DKK\n",
       "58  EUR NOK\n",
       "59  EUR TRY\n",
       "60  GBP CAD\n",
       "61  NSX USD\n",
       "62  UKX GBP\n",
       "63  USD DKK\n",
       "64  USD SGD\n",
       "65  XAG USD\n",
       "66  XAU GBP"
      ]
     },
     "metadata": {},
     "output_type": "display_data"
    }
   ],
   "source": [
    "#Q12\n",
    "\n",
    "exchangeable <- select(pairs_tbl, foreign_ccy, domestic_ccy)\n",
    "transmute(exchangeable, src= foreign_ccy, dst = domestic_ccy)"
   ]
  },
  {
   "cell_type": "code",
   "execution_count": null,
   "id": "ec7637ec-cc29-40e7-949e-5cfa8267c58f",
   "metadata": {},
   "outputs": [],
   "source": []
  }
 ],
 "metadata": {
  "kernelspec": {
   "display_name": "R",
   "language": "R",
   "name": "ir"
  },
  "language_info": {
   "codemirror_mode": "r",
   "file_extension": ".r",
   "mimetype": "text/x-r-source",
   "name": "R",
   "pygments_lexer": "r",
   "version": "4.0.2"
  }
 },
 "nbformat": 4,
 "nbformat_minor": 5
}

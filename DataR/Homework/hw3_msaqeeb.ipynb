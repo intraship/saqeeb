{
 "cells": [
  {
   "cell_type": "code",
   "execution_count": 2,
   "metadata": {
    "id": "0Emfaa4d0fs3"
   },
   "outputs": [
    {
     "name": "stdout",
     "output_type": "stream",
     "text": [
      "[1] 2\n",
      "[1] 0.006858711\n",
      "[1] 10.20408\n"
     ]
    }
   ],
   "source": [
    "F <- function(x) {\n",
    "  if (x<1) {\n",
    "    result <- 5/(x-1)^2\n",
    "  } else if (x == 1) {\n",
    "    result <- 2\n",
    "  } else if (x>1) {\n",
    "    result <- 5/(x-1)^3\n",
    "  }\n",
    "  print(result)\n",
    "}\n",
    "\n",
    "F(1)\n",
    "F(10)\n",
    "F(0.3)"
   ]
  },
  {
   "cell_type": "code",
   "execution_count": null,
   "metadata": {},
   "outputs": [],
   "source": []
  },
  {
   "cell_type": "code",
   "execution_count": 3,
   "metadata": {
    "id": "mP_4nv7l0k-p"
   },
   "outputs": [
    {
     "name": "stdout",
     "output_type": "stream",
     "text": [
      "Fibonacci number greater than 10000 is: 10946"
     ]
    }
   ],
   "source": [
    "fibonacci<-function(n){\n",
    "# initial fibonacci\n",
    "prev=1\n",
    "current=1\n",
    "while(n>=current){\n",
    "# compute next fibonacci\n",
    "temp=current\n",
    "current=current+prev\n",
    "prev=temp\n",
    "}\n",
    "return (current)\n",
    "}\n",
    "# take n from user\n",
    "# n<-as.integer(readline(prompt=\"Enter n: \"))\n",
    "n <- 10000\n",
    "# print\n",
    "cat(\"Fibonacci number greater than\",n,\"is:\",fibonacci(n))"
   ]
  },
  {
   "cell_type": "code",
   "execution_count": 4,
   "metadata": {
    "id": "QBhcc3dm0oEq"
   },
   "outputs": [
    {
     "data": {
      "text/html": [
       "<style>\n",
       ".list-inline {list-style: none; margin:0; padding: 0}\n",
       ".list-inline>li {display: inline-block}\n",
       ".list-inline>li:not(:last-child)::after {content: \"\\00b7\"; padding: 0 .5ex}\n",
       "</style>\n",
       "<ol class=list-inline><li>&lt;NA&gt;</li><li>35</li></ol>\n"
      ],
      "text/latex": [
       "\\begin{enumerate*}\n",
       "\\item <NA>\n",
       "\\item 35\n",
       "\\end{enumerate*}\n"
      ],
      "text/markdown": [
       "1. &lt;NA&gt;\n",
       "2. 35\n",
       "\n",
       "\n"
      ],
      "text/plain": [
       "[1] NA 35"
      ]
     },
     "metadata": {},
     "output_type": "display_data"
    },
    {
     "data": {
      "text/html": [
       "<style>\n",
       ".list-inline {list-style: none; margin:0; padding: 0}\n",
       ".list-inline>li {display: inline-block}\n",
       ".list-inline>li:not(:last-child)::after {content: \"\\00b7\"; padding: 0 .5ex}\n",
       "</style>\n",
       "<ol class=list-inline><li>3</li><li>4</li><li>&lt;NA&gt;</li><li>5.5</li><li>6.5</li></ol>\n"
      ],
      "text/latex": [
       "\\begin{enumerate*}\n",
       "\\item 3\n",
       "\\item 4\n",
       "\\item <NA>\n",
       "\\item 5.5\n",
       "\\item 6.5\n",
       "\\end{enumerate*}\n"
      ],
      "text/markdown": [
       "1. 3\n",
       "2. 4\n",
       "3. &lt;NA&gt;\n",
       "4. 5.5\n",
       "5. 6.5\n",
       "\n",
       "\n"
      ],
      "text/plain": [
       "[1] 3.0 4.0  NA 5.5 6.5"
      ]
     },
     "metadata": {},
     "output_type": "display_data"
    }
   ],
   "source": [
    "zz<-matrix(c(c(1,2,NA),c(3,4,5),6:9),nrow=2,ncol=5,byrow=TRUE)\n",
    "# calculating the sum of each row\n",
    "S<-apply(zz,1,sum)\n",
    "S\n",
    "# here calculating the average of the each coloumns\n",
    "C<-colMeans(zz)\n",
    "C"
   ]
  },
  {
   "cell_type": "code",
   "execution_count": 5,
   "metadata": {
    "id": "3FkYfiHT0q0v"
   },
   "outputs": [
    {
     "data": {
      "text/html": [
       "<table class=\"dataframe\">\n",
       "<caption>A data.frame: 1 × 3</caption>\n",
       "<thead>\n",
       "\t<tr><th></th><th scope=col>name</th><th scope=col>salary</th><th scope=col>gender</th></tr>\n",
       "\t<tr><th></th><th scope=col>&lt;chr&gt;</th><th scope=col>&lt;dbl&gt;</th><th scope=col>&lt;fct&gt;</th></tr>\n",
       "</thead>\n",
       "<tbody>\n",
       "\t<tr><th scope=row>4</th><td>Jenny</td><td>80000</td><td>F</td></tr>\n",
       "</tbody>\n",
       "</table>\n"
      ],
      "text/latex": [
       "A data.frame: 1 × 3\n",
       "\\begin{tabular}{r|lll}\n",
       "  & name & salary & gender\\\\\n",
       "  & <chr> & <dbl> & <fct>\\\\\n",
       "\\hline\n",
       "\t4 & Jenny & 80000 & F\\\\\n",
       "\\end{tabular}\n"
      ],
      "text/markdown": [
       "\n",
       "A data.frame: 1 × 3\n",
       "\n",
       "| <!--/--> | name &lt;chr&gt; | salary &lt;dbl&gt; | gender &lt;fct&gt; |\n",
       "|---|---|---|---|\n",
       "| 4 | Jenny | 80000 | F |\n",
       "\n"
      ],
      "text/plain": [
       "  name  salary gender\n",
       "4 Jenny 80000  F     "
      ]
     },
     "metadata": {},
     "output_type": "display_data"
    },
    {
     "data": {
      "text/html": [
       "<table class=\"dataframe\">\n",
       "<caption>A data.frame: 1 × 3</caption>\n",
       "<thead>\n",
       "\t<tr><th></th><th scope=col>name</th><th scope=col>salary</th><th scope=col>gender</th></tr>\n",
       "\t<tr><th></th><th scope=col>&lt;chr&gt;</th><th scope=col>&lt;dbl&gt;</th><th scope=col>&lt;fct&gt;</th></tr>\n",
       "</thead>\n",
       "<tbody>\n",
       "\t<tr><th scope=row>2</th><td>Dave</td><td>1e+05</td><td>M</td></tr>\n",
       "</tbody>\n",
       "</table>\n"
      ],
      "text/latex": [
       "A data.frame: 1 × 3\n",
       "\\begin{tabular}{r|lll}\n",
       "  & name & salary & gender\\\\\n",
       "  & <chr> & <dbl> & <fct>\\\\\n",
       "\\hline\n",
       "\t2 & Dave & 1e+05 & M\\\\\n",
       "\\end{tabular}\n"
      ],
      "text/markdown": [
       "\n",
       "A data.frame: 1 × 3\n",
       "\n",
       "| <!--/--> | name &lt;chr&gt; | salary &lt;dbl&gt; | gender &lt;fct&gt; |\n",
       "|---|---|---|---|\n",
       "| 2 | Dave | 1e+05 | M |\n",
       "\n"
      ],
      "text/plain": [
       "  name salary gender\n",
       "2 Dave 1e+05  M     "
      ]
     },
     "metadata": {},
     "output_type": "display_data"
    }
   ],
   "source": [
    "salary <-\n",
    "  data.frame(\n",
    "    name = c(\"Kay\", \"Dave\", \"Jon\", \"Jenny\", \"Jim\", \"Eve\", \"Ed\"),\n",
    "    salary = c(60000, 100000, 50000, 80000, 30000, 40000, 20000),\n",
    "    gender = factor(c(\"F\", \"M\", \"M\", \"F\", \"M\", \"F\", \"M\"))\n",
    "  )\n",
    "\n",
    "\n",
    "female <- salary[which(salary$gender == 'F'),]\n",
    "male <- salary[which(salary$gender == 'M'),]\n",
    "\n",
    "# female max salary\n",
    "female[unlist(lapply(names(female), function(nm)\n",
    "  which.max(female[nm]$sala))), ]\n",
    "\n",
    "# male max salary\n",
    "male[unlist(lapply(names(male), function(nm)\n",
    "  which.max(male[nm]$sala))), ]"
   ]
  },
  {
   "cell_type": "markdown",
   "metadata": {},
   "source": []
  }
 ],
 "metadata": {
  "colab": {
   "name": "muhammad-saqeeb-hw3",
   "provenance": []
  },
  "kernelspec": {
   "display_name": "R",
   "language": "R",
   "name": "ir"
  },
  "language_info": {
   "codemirror_mode": "r",
   "file_extension": ".r",
   "mimetype": "text/x-r-source",
   "name": "R",
   "pygments_lexer": "r",
   "version": "4.1.2"
  }
 },
 "nbformat": 4,
 "nbformat_minor": 4
}

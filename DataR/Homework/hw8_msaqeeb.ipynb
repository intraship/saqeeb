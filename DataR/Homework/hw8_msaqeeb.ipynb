{
 "cells": [
  {
   "cell_type": "markdown",
   "id": "add0222c-6618-45b5-837d-6abc2bc933d9",
   "metadata": {},
   "source": [
    "Problem 2 and 3 for Hw 8"
   ]
  },
  {
   "cell_type": "markdown",
   "id": "0a7a7322-c93d-473c-95ae-1f14cd39ecb9",
   "metadata": {
    "tags": []
   },
   "source": [
    "## Problem 2"
   ]
  },
  {
   "cell_type": "markdown",
   "id": "13e2229e-f4e3-4658-9573-68fc94c38c90",
   "metadata": {},
   "source": [
    "#1\n",
    "\n",
    "P[ getting a job offer ] = p = 1% = 0.01\n",
    "\n",
    "P[ getting no job offer ] = 1 - 0.01 = 0.99\n",
    "\n",
    "Number of resume sent = 100\n",
    "\n",
    "P[ At least one job offer ] = 1 - P[ zero job offer ]\n",
    "\n",
    "P[ zero job offer ] = P[ getting no job offer ]^100\n",
    "\n",
    "P[ zero job offer ] = 0.99^100\n",
    "\n",
    "P[ zero job offer ] = 0.366\n",
    "\n",
    "P[ At least one job offer ] = 1 - 0.366\n",
    "\n",
    "P[ At least one job offer ] = 0.634"
   ]
  },
  {
   "cell_type": "markdown",
   "id": "cf020dfa-830f-4ed6-9462-83b081e0f6d9",
   "metadata": {},
   "source": [
    "#2 How many resumes in total do you have to spam so that you will have 90% chance to get at least one job offer?\n",
    "\n",
    "P[ At least one job offer ] > 90% = 0.9\n",
    "\n",
    "P[ At least one job offer ] = 1 - P[ zero job offer ]\n",
    "\n",
    "1 - P[ zero job offer ] > 0.9\n",
    "\n",
    "P[ zero job offer ] < 1 - 0.9\n",
    "\n",
    "P[ zero job offer ] < 0.1\n",
    "\n",
    "Let the number of resumes sent be n\n",
    "\n",
    "P[ zero job offer ] = P[ getting no job offer ]^n\n",
    "\n",
    "P[ zero job offer ] = 0.99^n < 0.1\n",
    "\n",
    "or, n = 230\n",
    "\n",
    "number of resumes sent is 230"
   ]
  },
  {
   "cell_type": "code",
   "execution_count": 15,
   "id": "50d40293-d51c-45b5-b3d4-d420988e5618",
   "metadata": {},
   "outputs": [
    {
     "name": "stdout",
     "output_type": "stream",
     "text": [
      "chance to get at least one job offer is 0.6339677"
     ]
    }
   ],
   "source": [
    "cat(\"chance to get at least one job offer is\", 1-(0.99^100))"
   ]
  },
  {
   "cell_type": "code",
   "execution_count": 14,
   "id": "b32b48c6-9a10-4913-afc6-8cb07c9ba469",
   "metadata": {},
   "outputs": [
    {
     "name": "stdout",
     "output_type": "stream",
     "text": [
      "chance to get at least one job offer is 0.6339677"
     ]
    }
   ],
   "source": [
    "cat(\"chance to get at least one job offer is\", 1-dbinom(0,100,0.01))"
   ]
  },
  {
   "cell_type": "code",
   "execution_count": 13,
   "id": "07bcb4d8-827e-492a-8265-137b0f7ce57c",
   "metadata": {},
   "outputs": [
    {
     "data": {
      "text/html": [
       "6315"
      ],
      "text/latex": [
       "6315"
      ],
      "text/markdown": [
       "6315"
      ],
      "text/plain": [
       "[1] 6315"
      ]
     },
     "metadata": {},
     "output_type": "display_data"
    }
   ],
   "source": [
    "x<-c(0,1)\n",
    "p<-c(0.99,0.01)\n",
    "cnt<-0\n",
    "for(i in 1:10000){\n",
    "    w<-sum(sample(x=x,size=100,replace=TRUE,prob=p))\n",
    "    if(w>=1){cnt<- cnt+1}}\n",
    "cnt"
   ]
  },
  {
   "cell_type": "code",
   "execution_count": 12,
   "id": "778a00fa-472c-4276-b387-6d0833fb277f",
   "metadata": {},
   "outputs": [
    {
     "name": "stdout",
     "output_type": "stream",
     "text": [
      "chance to get at least one job offer is 0.6343"
     ]
    }
   ],
   "source": [
    "cat(\"chance to get at least one job offer is\", cnt/10000)"
   ]
  },
  {
   "cell_type": "code",
   "execution_count": 23,
   "id": "8b9bd1b2-79df-43f1-9190-f48f270a5d7e",
   "metadata": {},
   "outputs": [
    {
     "data": {
      "text/html": [
       "229.105288276694"
      ],
      "text/latex": [
       "229.105288276694"
      ],
      "text/markdown": [
       "229.105288276694"
      ],
      "text/plain": [
       "[1] 229.1053"
      ]
     },
     "metadata": {},
     "output_type": "display_data"
    }
   ],
   "source": [
    "log(0.1)/(log(0.99))"
   ]
  },
  {
   "cell_type": "markdown",
   "id": "e1046600-524b-4e7a-be0c-7219a644a8e2",
   "metadata": {},
   "source": [
    "## Problem 3"
   ]
  },
  {
   "cell_type": "code",
   "execution_count": 11,
   "id": "ce5c7e6b-3c3a-4801-a1dc-09505e7064db",
   "metadata": {},
   "outputs": [
    {
     "name": "stdout",
     "output_type": "stream",
     "text": [
      "binomial distrubution is  4.633908e-11"
     ]
    }
   ],
   "source": [
    "cat(\"binomial distrubution is \", dbinom(x=600,1000, 0.5))"
   ]
  },
  {
   "cell_type": "code",
   "execution_count": 24,
   "id": "5e6ac0de-7cd3-48a1-8076-25f755fd440b",
   "metadata": {},
   "outputs": [
    {
     "name": "stdout",
     "output_type": "stream",
     "text": [
      "Normal distrubution by approx is  4.633908e-11"
     ]
    }
   ],
   "source": [
    "cat(\"Normal distrubution by approx is \", d(x=600,1000, 0.5))"
   ]
  },
  {
   "cell_type": "code",
   "execution_count": 25,
   "id": "988bed93-bd01-4976-b02e-5a77b0f450c3",
   "metadata": {},
   "outputs": [
    {
     "data": {
      "text/html": [
       "15.8113883008419"
      ],
      "text/latex": [
       "15.8113883008419"
      ],
      "text/markdown": [
       "15.8113883008419"
      ],
      "text/plain": [
       "[1] 15.81139"
      ]
     },
     "metadata": {},
     "output_type": "display_data"
    }
   ],
   "source": [
    "n=1000\n",
    "p=0.5\n",
    "q=0.5\n",
    "d = sqrt(n*p*q)\n",
    "d"
   ]
  },
  {
   "cell_type": "code",
   "execution_count": 28,
   "id": "5a493849-1926-4b41-8a86-3332975482dc",
   "metadata": {},
   "outputs": [
    {
     "data": {
      "text/html": [
       "6.32455532033676"
      ],
      "text/latex": [
       "6.32455532033676"
      ],
      "text/markdown": [
       "6.32455532033676"
      ],
      "text/plain": [
       "[1] 6.324555"
      ]
     },
     "metadata": {},
     "output_type": "display_data"
    }
   ],
   "source": [
    "z = (600-(p*n))/d\n",
    "z"
   ]
  },
  {
   "cell_type": "code",
   "execution_count": 33,
   "id": "f47cfa4f-eb1f-483c-81d4-22a420721baf",
   "metadata": {},
   "outputs": [
    {
     "name": "stdout",
     "output_type": "stream",
     "text": [
      "normal distrubtion is 1.269814e-10"
     ]
    }
   ],
   "source": [
    "cat(\"normal distrubtion is\", 1- pnorm(z))"
   ]
  },
  {
   "cell_type": "code",
   "execution_count": 32,
   "id": "90d27302-f566-4760-a6b9-853affefcf1f",
   "metadata": {},
   "outputs": [
    {
     "name": "stdout",
     "output_type": "stream",
     "text": [
      "[1] \"Thus normal distrution is approximately zero\"\n"
     ]
    }
   ],
   "source": [
    "print(\"Thus normal distrution is approximately zero\")"
   ]
  },
  {
   "cell_type": "code",
   "execution_count": 34,
   "id": "dbe8c9e7-fce2-4c8a-8ce2-e290e1581b90",
   "metadata": {},
   "outputs": [
    {
     "data": {
      "text/html": [
       "1.26981429473543e-10"
      ],
      "text/latex": [
       "1.26981429473543e-10"
      ],
      "text/markdown": [
       "1.26981429473543e-10"
      ],
      "text/plain": [
       "[1] 1.269814e-10"
      ]
     },
     "metadata": {},
     "output_type": "display_data"
    }
   ],
   "source": [
    "pnorm(600, mean = 1000*0.5 , sd = sqrt(1000*0.5*0.5), lower.tail = FALSE)\n"
   ]
  },
  {
   "cell_type": "code",
   "execution_count": null,
   "id": "ca8e5ab2-8dd2-4b7f-9115-c451ee2c4b1e",
   "metadata": {},
   "outputs": [],
   "source": []
  }
 ],
 "metadata": {
  "kernelspec": {
   "display_name": "R",
   "language": "R",
   "name": "ir"
  },
  "language_info": {
   "codemirror_mode": "r",
   "file_extension": ".r",
   "mimetype": "text/x-r-source",
   "name": "R",
   "pygments_lexer": "r",
   "version": "4.0.2"
  }
 },
 "nbformat": 4,
 "nbformat_minor": 5
}

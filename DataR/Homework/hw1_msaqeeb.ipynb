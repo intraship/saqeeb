{
 "cells": [
  {
   "cell_type": "markdown",
   "metadata": {},
   "source": [
    "1.20-1.27 questions for HW 1"
   ]
  },
  {
   "cell_type": "markdown",
   "metadata": {},
   "source": [
    "1.20"
   ]
  },
  {
   "cell_type": "code",
   "execution_count": 1,
   "metadata": {},
   "outputs": [
    {
     "ename": "NameError",
     "evalue": "name 'library' is not defined",
     "output_type": "error",
     "traceback": [
      "\u001b[1;31m---------------------------------------------------------------------------\u001b[0m",
      "\u001b[1;31mNameError\u001b[0m                                 Traceback (most recent call last)",
      "\u001b[1;32mC:\\Users\\ADMINI~1\\AppData\\Local\\Temp/ipykernel_18832/675366814.py\u001b[0m in \u001b[0;36m<module>\u001b[1;34m\u001b[0m\n\u001b[1;32m----> 1\u001b[1;33m \u001b[0mlibrary\u001b[0m\u001b[1;33m(\u001b[0m\u001b[0mMASS\u001b[0m\u001b[1;33m)\u001b[0m\u001b[1;33m\u001b[0m\u001b[1;33m\u001b[0m\u001b[0m\n\u001b[0m\u001b[0;32m      2\u001b[0m \u001b[1;33m\u001b[0m\u001b[0m\n\u001b[0;32m      3\u001b[0m \u001b[0mlibrary\u001b[0m\u001b[1;33m(\u001b[0m\u001b[0mHistData\u001b[0m\u001b[1;33m)\u001b[0m\u001b[1;33m\u001b[0m\u001b[1;33m\u001b[0m\u001b[0m\n\u001b[0;32m      4\u001b[0m \u001b[1;33m\u001b[0m\u001b[0m\n\u001b[0;32m      5\u001b[0m \u001b[0mlibrary\u001b[0m\u001b[1;33m(\u001b[0m\u001b[0mlattice\u001b[0m\u001b[1;33m)\u001b[0m\u001b[1;33m\u001b[0m\u001b[1;33m\u001b[0m\u001b[0m\n",
      "\u001b[1;31mNameError\u001b[0m: name 'library' is not defined"
     ]
    }
   ],
   "source": [
    "library(MASS)\n",
    "\n",
    "library(HistData)\n",
    "\n",
    "library(lattice)\n",
    "\n",
    "library(survival)\n",
    "\n",
    "library(Formula)\n",
    "\n",
    "library(ggplot2)\n",
    "\n",
    "library(Hmisc)\n",
    "\n",
    "library(UsingR)"
   ]
  },
  {
   "cell_type": "code",
   "execution_count": null,
   "metadata": {},
   "outputs": [],
   "source": [
    "sort(islands, decreasing = TRUE)[1:7]"
   ]
  },
  {
   "cell_type": "markdown",
   "metadata": {},
   "source": [
    "1.21"
   ]
  },
  {
   "cell_type": "code",
   "execution_count": null,
   "metadata": {},
   "outputs": [],
   "source": [
    "# 1.How many elements in the data set\n",
    "\n",
    "data(\"primes\")"
   ]
  },
  {
   "cell_type": "code",
   "execution_count": null,
   "metadata": {},
   "outputs": [],
   "source": [
    "# 2.How many elements in the range[1,100]\n",
    "\n",
    "length(primes[primes<=100]\n",
    "\n",
    "##[1] 25\n"
   ]
  },
  {
   "cell_type": "code",
   "execution_count": null,
   "metadata": {},
   "outputs": [],
   "source": [
    "# 3.How many elements in the range[100,1000]\n",
    "\n",
    "length(primes[primes>=100 &primes<=1000])\n",
    "\n",
    "## [1] 143"
   ]
  },
  {
   "cell_type": "markdown",
   "metadata": {},
   "source": [
    "1.22"
   ]
  },
  {
   "cell_type": "code",
   "execution_count": null,
   "metadata": {},
   "outputs": [],
   "source": [
    "1.\n",
    "\n",
    "head(primes([-1])\n",
    "\n",
    "## [1] 3 5 7 11 13 17\n",
    "\n",
    "2.\n",
    "\n",
    "n<-length(primes)\n",
    "\n",
    "tail(primes[-n])\n",
    "\n",
    "## [1] 1973 1979 1987 1993 1997 1999\n",
    "\n",
    "3.\n",
    "\n",
    "sum(primes[-1]-primes[-n]==2)\n",
    "\n",
    "## [1] 61"
   ]
  },
  {
   "cell_type": "markdown",
   "metadata": {},
   "source": [
    "1.23"
   ]
  },
  {
   "cell_type": "code",
   "execution_count": null,
   "metadata": {},
   "outputs": [],
   "source": [
    "1.\n",
    "\n",
    "data(\"treering\")\n",
    "\n",
    "length(treering)\n",
    "\n",
    "## [1] 7980\n",
    "\n",
    "2.\n",
    "\n",
    "min(treeering)\n",
    "\n",
    "## [1] 0\n",
    "\n",
    "3.\n",
    "\n",
    "max(treering)\n",
    "\n",
    "## [1] 1.908\n",
    "\n",
    "4.\n",
    "\n",
    "sum(treering>1.5)\n",
    "\n",
    "## [1] 219"
   ]
  },
  {
   "cell_type": "markdown",
   "metadata": {},
   "source": [
    "1.24"
   ]
  },
  {
   "cell_type": "code",
   "execution_count": null,
   "metadata": {},
   "outputs": [],
   "source": [
    "1.\n",
    "\n",
    "data(\"mandms\")\n",
    "\n",
    "names(which(rowSums(mandms==0)==1)\n",
    "\n",
    "## [1] \"Peanut Butter\"\n",
    "\n",
    "  rownames(subset(mandms,mandms[,1]==0|mandms[,2]==0|mandms[,3]==0|mandms[,4]==0|\n",
    "\n",
    "mandms[,5]==0|mandms[,6]==0))\n",
    "\n",
    "## [1] \"Peanut Butter\"\n",
    "\n",
    "2.\n",
    "\n",
    "names(which(rowSums(mandms==rowMeans(mandms))==6))\n",
    "\n",
    "## [1] \"Almond\" \"kid minis\"\n",
    "\n",
    "rownames(subset(mandms,mandms[,1]==mandms[,2] &mandms,mandms[,2]==mandms[,3] &\n",
    "\n",
    "  mandms,mandms[,3]==mandms[,4] &mandms,mandms[,4]==mandms[,5] &mandms,mandms[,5]==mandms[,6] &mandms,mandms[,6]==mandms[,1] ))\n",
    "\n",
    "## [1] \"Almond\" \"kid minis\"\n",
    "\n",
    "3.\n",
    "\n",
    "names(which(rowSums(mandms==max(mandms))==1))\n",
    "\n",
    "## [1] \"milk chocolate\"\n",
    "\n",
    "  names(which(colSums(mandms==max(mandms))==1))\n",
    "\n",
    "## [1] \"brown\""
   ]
  },
  {
   "cell_type": "markdown",
   "metadata": {},
   "source": [
    "1.25"
   ]
  },
  {
   "cell_type": "code",
   "execution_count": null,
   "metadata": {},
   "outputs": [],
   "source": [
    "1.\n",
    "\n",
    "data(\"nym.2002\")\n",
    "\n",
    "length(nym.2002$time)\n",
    "\n",
    "## [1] 1000\n",
    "\n",
    "2.\n",
    "\n",
    "fastest<-min(nym.2002$time)\n",
    "\n",
    "fastest\n",
    "\n",
    "## [1] 147.3333\n",
    "\n",
    "paste(fastest %/ % 60,round(fastest %% 60),sep=\":\")\n",
    "\n",
    "## [1] \"2:27\"\n",
    "\n",
    "3.\n",
    "\n",
    "slowest<-max(nym.2002$time)\n",
    "\n",
    "## [1] 566.7833\n",
    "\n",
    "paste(slowest %/ % 60,round(slowest %% 60),sep=\":\")\n",
    "\n",
    "## [1] \"9.27\""
   ]
  },
  {
   "cell_type": "markdown",
   "metadata": {},
   "source": [
    "1.26"
   ]
  },
  {
   "cell_type": "code",
   "execution_count": null,
   "metadata": {},
   "outputs": [],
   "source": [
    "1.data(\"rivers\")\n",
    "\n",
    "max(rivers)\n",
    "\n",
    "## [1] 3710\n",
    "\n",
    "min(rivers)\n",
    "\n",
    "## [1] 135"
   ]
  },
  {
   "cell_type": "markdown",
   "metadata": {},
   "source": [
    "1.27"
   ]
  },
  {
   "cell_type": "code",
   "execution_count": null,
   "metadata": {},
   "outputs": [],
   "source": [
    "data(\"uspop\")\n",
    "\n",
    "names(uspop)<-seq(1790,1970,by=10)\n",
    "\n",
    "uspop\n",
    "\n",
    "## Time Series:\n",
    "\n",
    "## Start=1790\n",
    "\n",
    "## End=1970\n",
    "\n",
    "## Frequency =0.1\n",
    "\n",
    "## 1790 1800 1810 1820 1830 1840 1850 1860 1870 1880\n",
    "\n",
    "## 3.93 5.31 7.24 9.64 12.90 1 7.10 23.20 31.40 39.80 50.20\n",
    "\n",
    "## 1890 1900 1910 1920 1930 1940 1950 1960 1970\n",
    "\n",
    "## 62.90 76.00 92.00 105.70 122.80 13 1.70 151.30 179.30 203.20\n",
    "\n",
    "2.data<-diff(uspop)\n",
    "\n",
    "uspop[c[which.max(delta),which.max(delta)+1)]\n",
    "\n",
    "## 1950 1960\n",
    "\n",
    "## 151.3 179.3\n",
    "\n",
    "max(delta)\n",
    "\n",
    "## [1] 28\n",
    "\n",
    "3.delta>0\n",
    "\n",
    "## Time Series:\n",
    "\n",
    "## Start=1790\n",
    "\n",
    "## End=1970\n",
    "\n",
    "## Frequency =0.1\n",
    "\n",
    "## [1] TRUE TRUE TRUE TRUE TRUE TRUE TRUE TRUE TRUE TRUE TRUE TRUE TRUE TRUE\n",
    "\n",
    "## [15]  TRUE TRUE TRUE TRUE"
   ]
  }
 ],
 "metadata": {
  "interpreter": {
   "hash": "ad2bdc8ecc057115af97d19610ffacc2b4e99fae6737bb82f5d7fb13d2f2c186"
  },
  "kernelspec": {
   "display_name": "Python 3 (ipykernel)",
   "language": "python",
   "name": "python3"
  },
  "language_info": {
   "codemirror_mode": {
    "name": "ipython",
    "version": 3
   },
   "file_extension": ".py",
   "mimetype": "text/x-python",
   "name": "python",
   "nbconvert_exporter": "python",
   "pygments_lexer": "ipython3",
   "version": "3.9.12"
  }
 },
 "nbformat": 4,
 "nbformat_minor": 4
}

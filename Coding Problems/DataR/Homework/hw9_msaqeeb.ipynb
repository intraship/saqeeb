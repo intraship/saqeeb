{
 "cells": [
  {
   "cell_type": "markdown",
   "id": "08607475-250e-4d80-89c8-dcb6952c5aa4",
   "metadata": {
    "tags": []
   },
   "source": [
    "## Setup"
   ]
  },
  {
   "cell_type": "code",
   "execution_count": 26,
   "id": "5fe8429b-30bd-4897-b446-dd09037e2a75",
   "metadata": {
    "tags": []
   },
   "outputs": [
    {
     "name": "stderr",
     "output_type": "stream",
     "text": [
      "Warning message:\n",
      "\"package 'ggpubr' is in use and will not be installed\"\n",
      "Warning message:\n",
      "\"package 'factoextra' is in use and will not be installed\"\n",
      "Installing package into 'C:/Users/Saqeeb/Documents/R/win-library/4.0'\n",
      "(as 'lib' is unspecified)\n",
      "\n"
     ]
    },
    {
     "name": "stdout",
     "output_type": "stream",
     "text": [
      "package 'geosphere' successfully unpacked and MD5 sums checked\n",
      "\n",
      "The downloaded binary packages are in\n",
      "\tC:\\Users\\Saqeeb\\AppData\\Local\\Temp\\Rtmp4Oy5dw\\downloaded_packages\n"
     ]
    }
   ],
   "source": [
    "install.packages('ggpubr')\n",
    "install.packages('factoextra')\n",
    "install.packages('geosphere')"
   ]
  },
  {
   "cell_type": "code",
   "execution_count": 218,
   "id": "49855b74-eec9-4ced-b549-22446f635e7b",
   "metadata": {
    "tags": []
   },
   "outputs": [],
   "source": [
    "set.seed(123)\n",
    "\n",
    "x=c(5.9,4.6,6.2,4.7,5.5,5.0,4.9,6.7,5.1,6.0 )\n",
    "\n",
    "y=c(3.2,2.9,2.8,3.2,4.2,3.0,3.1,3.1,3.8,3.0)\n",
    "df <- data.frame(x,y)\n",
    "\n",
    "k = kmeans(df, centers=3, nstart=25)\n",
    "\n"
   ]
  },
  {
   "cell_type": "code",
   "execution_count": 219,
   "id": "c48f225a-d680-49f8-b0e2-9c01661c0c64",
   "metadata": {
    "tags": []
   },
   "outputs": [],
   "source": [
    "library(ggpubr)\n",
    "\n",
    "library(factoextra)\n"
   ]
  },
  {
   "cell_type": "code",
   "execution_count": 220,
   "id": "a59eb5de-2e64-4e20-84ad-fb618db70ee4",
   "metadata": {},
   "outputs": [
    {
     "data": {
      "image/png": "[encoded data removed]",
      "text/plain": [
       "plot without title"
      ]
     },
     "metadata": {
      "image/png": {
       "height": 420,
       "width": 420
      }
     },
     "output_type": "display_data"
    }
   ],
   "source": [
    "fviz_cluster(k, data = df)"
   ]
  },
  {
   "cell_type": "markdown",
   "id": "9cc3970b-2e19-40e0-ae97-90de7b5b42f8",
   "metadata": {},
   "source": [
    "## First iteriation"
   ]
  },
  {
   "cell_type": "code",
   "execution_count": 151,
   "id": "2f759cde-74e0-4163-a9e8-0541d1824c13",
   "metadata": {},
   "outputs": [],
   "source": [
    "a=c(6.2,3.2)\n",
    "b=c(6.6,3.7)\n",
    "d=c(6.5,3.0)"
   ]
  },
  {
   "cell_type": "code",
   "execution_count": 152,
   "id": "d5423bec-8faa-421e-87c5-53dc651f667a",
   "metadata": {},
   "outputs": [],
   "source": [
    "euclidean <- function(x, y, z, v) (z - x)^2+(v - y)^2\n"
   ]
  },
  {
   "cell_type": "code",
   "execution_count": 153,
   "id": "f0be401b-9a6b-4a84-8526-15bfe155369d",
   "metadata": {},
   "outputs": [],
   "source": [
    "t = x\n",
    "q = y"
   ]
  },
  {
   "cell_type": "code",
   "execution_count": 155,
   "id": "1f09ff88-7942-4526-93a7-1d231764cb78",
   "metadata": {},
   "outputs": [],
   "source": [
    "library(tibble)"
   ]
  },
  {
   "cell_type": "code",
   "execution_count": 156,
   "id": "54603c9d-0339-48f6-bd7a-6e3ae5f3e535",
   "metadata": {},
   "outputs": [
    {
     "data": {
      "text/html": [
       "<table class=\"dataframe\">\n",
       "<caption>A data.frame: 10 × 6</caption>\n",
       "<thead>\n",
       "\t<tr><th scope=col>red</th><th scope=col>green</th><th scope=col>blue</th><th scope=col>x</th><th scope=col>y</th><th scope=col>closest</th></tr>\n",
       "\t<tr><th scope=col>&lt;dbl&gt;</th><th scope=col>&lt;dbl&gt;</th><th scope=col>&lt;dbl&gt;</th><th scope=col>&lt;dbl&gt;</th><th scope=col>&lt;dbl&gt;</th><th scope=col>&lt;chr&gt;</th></tr>\n",
       "</thead>\n",
       "<tbody>\n",
       "\t<tr><td>0.09</td><td>0.74</td><td>0.40</td><td>5.9</td><td>3.2</td><td>red  </td></tr>\n",
       "\t<tr><td>2.65</td><td>4.64</td><td>3.62</td><td>4.6</td><td>2.9</td><td>red  </td></tr>\n",
       "\t<tr><td>0.16</td><td>0.97</td><td>0.13</td><td>6.2</td><td>2.8</td><td>blue </td></tr>\n",
       "\t<tr><td>2.25</td><td>3.86</td><td>3.28</td><td>4.7</td><td>3.2</td><td>red  </td></tr>\n",
       "\t<tr><td>1.49</td><td>1.46</td><td>2.44</td><td>5.5</td><td>4.2</td><td>green</td></tr>\n",
       "\t<tr><td>1.48</td><td>3.05</td><td>2.25</td><td>5.0</td><td>3.0</td><td>red  </td></tr>\n",
       "\t<tr><td>1.70</td><td>3.25</td><td>2.57</td><td>4.9</td><td>3.1</td><td>red  </td></tr>\n",
       "\t<tr><td>0.26</td><td>0.37</td><td>0.05</td><td>6.7</td><td>3.1</td><td>blue </td></tr>\n",
       "\t<tr><td>1.57</td><td>2.26</td><td>2.60</td><td>5.1</td><td>3.8</td><td>red  </td></tr>\n",
       "\t<tr><td>0.08</td><td>0.85</td><td>0.25</td><td>6.0</td><td>3.0</td><td>red  </td></tr>\n",
       "</tbody>\n",
       "</table>\n"
      ],
      "text/latex": [
       "A data.frame: 10 × 6\n",
       "\\begin{tabular}{llllll}\n",
       " red & green & blue & x & y & closest\\\\\n",
       " <dbl> & <dbl> & <dbl> & <dbl> & <dbl> & <chr>\\\\\n",
       "\\hline\n",
       "\t 0.09 & 0.74 & 0.40 & 5.9 & 3.2 & red  \\\\\n",
       "\t 2.65 & 4.64 & 3.62 & 4.6 & 2.9 & red  \\\\\n",
       "\t 0.16 & 0.97 & 0.13 & 6.2 & 2.8 & blue \\\\\n",
       "\t 2.25 & 3.86 & 3.28 & 4.7 & 3.2 & red  \\\\\n",
       "\t 1.49 & 1.46 & 2.44 & 5.5 & 4.2 & green\\\\\n",
       "\t 1.48 & 3.05 & 2.25 & 5.0 & 3.0 & red  \\\\\n",
       "\t 1.70 & 3.25 & 2.57 & 4.9 & 3.1 & red  \\\\\n",
       "\t 0.26 & 0.37 & 0.05 & 6.7 & 3.1 & blue \\\\\n",
       "\t 1.57 & 2.26 & 2.60 & 5.1 & 3.8 & red  \\\\\n",
       "\t 0.08 & 0.85 & 0.25 & 6.0 & 3.0 & red  \\\\\n",
       "\\end{tabular}\n"
      ],
      "text/markdown": [
       "\n",
       "A data.frame: 10 × 6\n",
       "\n",
       "| red &lt;dbl&gt; | green &lt;dbl&gt; | blue &lt;dbl&gt; | x &lt;dbl&gt; | y &lt;dbl&gt; | closest &lt;chr&gt; |\n",
       "|---|---|---|---|---|---|\n",
       "| 0.09 | 0.74 | 0.40 | 5.9 | 3.2 | red   |\n",
       "| 2.65 | 4.64 | 3.62 | 4.6 | 2.9 | red   |\n",
       "| 0.16 | 0.97 | 0.13 | 6.2 | 2.8 | blue  |\n",
       "| 2.25 | 3.86 | 3.28 | 4.7 | 3.2 | red   |\n",
       "| 1.49 | 1.46 | 2.44 | 5.5 | 4.2 | green |\n",
       "| 1.48 | 3.05 | 2.25 | 5.0 | 3.0 | red   |\n",
       "| 1.70 | 3.25 | 2.57 | 4.9 | 3.1 | red   |\n",
       "| 0.26 | 0.37 | 0.05 | 6.7 | 3.1 | blue  |\n",
       "| 1.57 | 2.26 | 2.60 | 5.1 | 3.8 | red   |\n",
       "| 0.08 | 0.85 | 0.25 | 6.0 | 3.0 | red   |\n",
       "\n"
      ],
      "text/plain": [
       "   red  green blue x   y   closest\n",
       "1  0.09 0.74  0.40 5.9 3.2 red    \n",
       "2  2.65 4.64  3.62 4.6 2.9 red    \n",
       "3  0.16 0.97  0.13 6.2 2.8 blue   \n",
       "4  2.25 3.86  3.28 4.7 3.2 red    \n",
       "5  1.49 1.46  2.44 5.5 4.2 green  \n",
       "6  1.48 3.05  2.25 5.0 3.0 red    \n",
       "7  1.70 3.25  2.57 4.9 3.1 red    \n",
       "8  0.26 0.37  0.05 6.7 3.1 blue   \n",
       "9  1.57 2.26  2.60 5.1 3.8 red    \n",
       "10 0.08 0.85  0.25 6.0 3.0 red    "
      ]
     },
     "metadata": {},
     "output_type": "display_data"
    }
   ],
   "source": [
    "euc=data.frame(red= euclidean(t, q,a[1],a[2]), green= euclidean(t,q,b[1],b[2]), blue= euclidean(t,q,d[1],d[2]))\n",
    "euc<- euc %>% mutate(\n",
    "    x,\n",
    "    y,\n",
    "    closest= ifelse(\n",
    "        red<green & red<blue, 'red',\n",
    "        ifelse(\n",
    "        red>green & green<blue, 'green',\n",
    "        'blue'))\n",
    "    \n",
    ")\n",
    "\n",
    "euc<- as.data.frame(euc)\n",
    "\n",
    "euc"
   ]
  },
  {
   "cell_type": "code",
   "execution_count": null,
   "id": "420c080d-ad53-428e-9eae-f0d9eb039083",
   "metadata": {},
   "outputs": [],
   "source": []
  },
  {
   "cell_type": "code",
   "execution_count": 161,
   "id": "bf151447-0032-44e2-9c22-ea3c7a162311",
   "metadata": {},
   "outputs": [
    {
     "name": "stderr",
     "output_type": "stream",
     "text": [
      "Warning message:\n",
      "\"package 'dplyr' was built under R version 4.0.4\"\n",
      "\n",
      "Attaching package: 'dplyr'\n",
      "\n",
      "\n",
      "The following objects are masked from 'package:stats':\n",
      "\n",
      "    filter, lag\n",
      "\n",
      "\n",
      "The following objects are masked from 'package:base':\n",
      "\n",
      "    intersect, setdiff, setequal, union\n",
      "\n",
      "\n"
     ]
    }
   ],
   "source": [
    "library(dplyr)"
   ]
  },
  {
   "cell_type": "code",
   "execution_count": 193,
   "id": "4d467cf1-b616-48c3-b03c-fd24a965f3fc",
   "metadata": {},
   "outputs": [
    {
     "data": {
      "text/html": [
       "<table class=\"dataframe\">\n",
       "<caption>A matrix: 2 × 2 of type dbl</caption>\n",
       "<thead>\n",
       "\t<tr><th></th><th scope=col>x</th><th scope=col>y</th></tr>\n",
       "</thead>\n",
       "<tbody>\n",
       "\t<tr><th scope=row>3</th><td>6.2</td><td>2.8</td></tr>\n",
       "\t<tr><th scope=row>8</th><td>6.7</td><td>3.1</td></tr>\n",
       "</tbody>\n",
       "</table>\n"
      ],
      "text/latex": [
       "A matrix: 2 × 2 of type dbl\n",
       "\\begin{tabular}{r|ll}\n",
       "  & x & y\\\\\n",
       "\\hline\n",
       "\t3 & 6.2 & 2.8\\\\\n",
       "\t8 & 6.7 & 3.1\\\\\n",
       "\\end{tabular}\n"
      ],
      "text/markdown": [
       "\n",
       "A matrix: 2 × 2 of type dbl\n",
       "\n",
       "| <!--/--> | x | y |\n",
       "|---|---|---|\n",
       "| 3 | 6.2 | 2.8 |\n",
       "| 8 | 6.7 | 3.1 |\n",
       "\n"
      ],
      "text/plain": [
       "  x   y  \n",
       "3 6.2 2.8\n",
       "8 6.7 3.1"
      ]
     },
     "metadata": {},
     "output_type": "display_data"
    }
   ],
   "source": [
    "euc_red <- subset(euc, closest == \"red\")\n",
    "euc_red <- select(euc_red,x,y)\n",
    "\n",
    "\n",
    "euc_blu <- subset(euc, closest == \"blue\")\n",
    "euc_blu <- select(euc_blu,x,y)\n",
    "\n",
    "\n",
    "euc_grn <- subset(euc, closest == \"green\")\n",
    "euc_grn <- select(euc_grn,x,y)\n"
   ]
  },
  {
   "cell_type": "code",
   "execution_count": 206,
   "id": "7e00208e-929d-4b5d-83a5-62f545b4fd53",
   "metadata": {},
   "outputs": [
    {
     "data": {
      "text/html": [
       "<style>\n",
       ".list-inline {list-style: none; margin:0; padding: 0}\n",
       ".list-inline>li {display: inline-block}\n",
       ".list-inline>li:not(:last-child)::after {content: \"\\00b7\"; padding: 0 .5ex}\n",
       "</style>\n",
       "<ol class=list-inline><li>6.45</li><li>2.95</li></ol>\n"
      ],
      "text/latex": [
       "\\begin{enumerate*}\n",
       "\\item 6.45\n",
       "\\item 2.95\n",
       "\\end{enumerate*}\n"
      ],
      "text/markdown": [
       "1. 6.45\n",
       "2. 2.95\n",
       "\n",
       "\n"
      ],
      "text/plain": [
       "[1] 6.45 2.95"
      ]
     },
     "metadata": {},
     "output_type": "display_data"
    }
   ],
   "source": [
    "z= (6.2 + 6.7)/2\n",
    "g= (2.8 + 3.1)/2\n",
    "blu <- c(z,g)\n",
    "blu"
   ]
  },
  {
   "cell_type": "code",
   "execution_count": 224,
   "id": "97553c30-c5ce-472e-9250-5dfb5f6c7cab",
   "metadata": {},
   "outputs": [
    {
     "ename": "ERROR",
     "evalue": "Error in eval(expr, envir, enclos): 'list' object cannot be coerced to type 'double'\n",
     "output_type": "error",
     "traceback": [
      "Error in eval(expr, envir, enclos): 'list' object cannot be coerced to type 'double'\nTraceback:\n"
     ]
    }
   ],
   "source": [
    "a = as.double(centroid(euc_red))\n",
    "b1 = as.double(blu)\n",
    "d = as.double(euc_grn)"
   ]
  },
  {
   "cell_type": "code",
   "execution_count": 208,
   "id": "83218545-e030-45c3-8b94-4b463e13701b",
   "metadata": {},
   "outputs": [
    {
     "data": {
      "text/html": [
       "<table class=\"dataframe\">\n",
       "<caption>A data.frame: 10 × 6</caption>\n",
       "<thead>\n",
       "\t<tr><th scope=col>red</th><th scope=col>green</th><th scope=col>blue</th><th scope=col>x</th><th scope=col>y</th><th scope=col>closest</th></tr>\n",
       "\t<tr><th scope=col>&lt;dbl&gt;</th><th scope=col>&lt;dbl&gt;</th><th scope=col>&lt;dbl&gt;</th><th scope=col>&lt;dbl&gt;</th><th scope=col>&lt;dbl&gt;</th><th scope=col>&lt;chr&gt;</th></tr>\n",
       "</thead>\n",
       "<tbody>\n",
       "\t<tr><td>0.5311764</td><td>0.365</td><td>1.16</td><td>5.9</td><td>3.2</td><td>green</td></tr>\n",
       "\t<tr><td>0.4804183</td><td>3.425</td><td>2.50</td><td>4.6</td><td>2.9</td><td>red  </td></tr>\n",
       "\t<tr><td>1.2836754</td><td>0.085</td><td>2.45</td><td>6.2</td><td>2.8</td><td>green</td></tr>\n",
       "\t<tr><td>0.2340231</td><td>3.125</td><td>1.64</td><td>4.7</td><td>3.2</td><td>red  </td></tr>\n",
       "\t<tr><td>0.9415985</td><td>2.465</td><td>0.00</td><td>5.5</td><td>4.2</td><td>blue </td></tr>\n",
       "\t<tr><td>0.1124167</td><td>2.105</td><td>1.69</td><td>5.0</td><td>3.0</td><td>red  </td></tr>\n",
       "\t<tr><td>0.1106013</td><td>2.425</td><td>1.57</td><td>4.9</td><td>3.1</td><td>red  </td></tr>\n",
       "\t<tr><td>2.3563313</td><td>0.085</td><td>2.65</td><td>6.7</td><td>3.1</td><td>green</td></tr>\n",
       "\t<tr><td>0.2707581</td><td>2.545</td><td>0.32</td><td>5.1</td><td>3.8</td><td>red  </td></tr>\n",
       "\t<tr><td>0.7600445</td><td>0.205</td><td>1.69</td><td>6.0</td><td>3.0</td><td>green</td></tr>\n",
       "</tbody>\n",
       "</table>\n"
      ],
      "text/latex": [
       "A data.frame: 10 × 6\n",
       "\\begin{tabular}{llllll}\n",
       " red & green & blue & x & y & closest\\\\\n",
       " <dbl> & <dbl> & <dbl> & <dbl> & <dbl> & <chr>\\\\\n",
       "\\hline\n",
       "\t 0.5311764 & 0.365 & 1.16 & 5.9 & 3.2 & green\\\\\n",
       "\t 0.4804183 & 3.425 & 2.50 & 4.6 & 2.9 & red  \\\\\n",
       "\t 1.2836754 & 0.085 & 2.45 & 6.2 & 2.8 & green\\\\\n",
       "\t 0.2340231 & 3.125 & 1.64 & 4.7 & 3.2 & red  \\\\\n",
       "\t 0.9415985 & 2.465 & 0.00 & 5.5 & 4.2 & blue \\\\\n",
       "\t 0.1124167 & 2.105 & 1.69 & 5.0 & 3.0 & red  \\\\\n",
       "\t 0.1106013 & 2.425 & 1.57 & 4.9 & 3.1 & red  \\\\\n",
       "\t 2.3563313 & 0.085 & 2.65 & 6.7 & 3.1 & green\\\\\n",
       "\t 0.2707581 & 2.545 & 0.32 & 5.1 & 3.8 & red  \\\\\n",
       "\t 0.7600445 & 0.205 & 1.69 & 6.0 & 3.0 & green\\\\\n",
       "\\end{tabular}\n"
      ],
      "text/markdown": [
       "\n",
       "A data.frame: 10 × 6\n",
       "\n",
       "| red &lt;dbl&gt; | green &lt;dbl&gt; | blue &lt;dbl&gt; | x &lt;dbl&gt; | y &lt;dbl&gt; | closest &lt;chr&gt; |\n",
       "|---|---|---|---|---|---|\n",
       "| 0.5311764 | 0.365 | 1.16 | 5.9 | 3.2 | green |\n",
       "| 0.4804183 | 3.425 | 2.50 | 4.6 | 2.9 | red   |\n",
       "| 1.2836754 | 0.085 | 2.45 | 6.2 | 2.8 | green |\n",
       "| 0.2340231 | 3.125 | 1.64 | 4.7 | 3.2 | red   |\n",
       "| 0.9415985 | 2.465 | 0.00 | 5.5 | 4.2 | blue  |\n",
       "| 0.1124167 | 2.105 | 1.69 | 5.0 | 3.0 | red   |\n",
       "| 0.1106013 | 2.425 | 1.57 | 4.9 | 3.1 | red   |\n",
       "| 2.3563313 | 0.085 | 2.65 | 6.7 | 3.1 | green |\n",
       "| 0.2707581 | 2.545 | 0.32 | 5.1 | 3.8 | red   |\n",
       "| 0.7600445 | 0.205 | 1.69 | 6.0 | 3.0 | green |\n",
       "\n"
      ],
      "text/plain": [
       "   red       green blue x   y   closest\n",
       "1  0.5311764 0.365 1.16 5.9 3.2 green  \n",
       "2  0.4804183 3.425 2.50 4.6 2.9 red    \n",
       "3  1.2836754 0.085 2.45 6.2 2.8 green  \n",
       "4  0.2340231 3.125 1.64 4.7 3.2 red    \n",
       "5  0.9415985 2.465 0.00 5.5 4.2 blue   \n",
       "6  0.1124167 2.105 1.69 5.0 3.0 red    \n",
       "7  0.1106013 2.425 1.57 4.9 3.1 red    \n",
       "8  2.3563313 0.085 2.65 6.7 3.1 green  \n",
       "9  0.2707581 2.545 0.32 5.1 3.8 red    \n",
       "10 0.7600445 0.205 1.69 6.0 3.0 green  "
      ]
     },
     "metadata": {},
     "output_type": "display_data"
    }
   ],
   "source": [
    "euc=data.frame(red= euclidean(t, q,a[1],a[2]), green= euclidean(t,q,b[1],b[2]), blue= euclidean(t,q,d[1],d[2]))\n",
    "euc<- euc %>% mutate(\n",
    "    x,\n",
    "    y,\n",
    "    closest= ifelse(\n",
    "        red<green & red<blue, 'red',\n",
    "        ifelse(\n",
    "        red>green & green<blue, 'green',\n",
    "        'blue'))\n",
    "    \n",
    ")\n",
    "\n",
    "euc<- as.data.frame(euc)\n",
    "\n",
    "euc"
   ]
  },
  {
   "cell_type": "code",
   "execution_count": 210,
   "id": "24404b36-17a5-4959-a6a2-b212733c5f1d",
   "metadata": {},
   "outputs": [
    {
     "data": {
      "text/html": [
       "<table class=\"dataframe\">\n",
       "<caption>A matrix: 1 × 2 of type dbl</caption>\n",
       "<thead>\n",
       "\t<tr><th scope=col>lon</th><th scope=col>lat</th></tr>\n",
       "</thead>\n",
       "<tbody>\n",
       "\t<tr><td>6.33811</td><td>2.961909</td></tr>\n",
       "</tbody>\n",
       "</table>\n"
      ],
      "text/latex": [
       "A matrix: 1 × 2 of type dbl\n",
       "\\begin{tabular}{ll}\n",
       " lon & lat\\\\\n",
       "\\hline\n",
       "\t 6.33811 & 2.961909\\\\\n",
       "\\end{tabular}\n"
      ],
      "text/markdown": [
       "\n",
       "A matrix: 1 × 2 of type dbl\n",
       "\n",
       "| lon | lat |\n",
       "|---|---|\n",
       "| 6.33811 | 2.961909 |\n",
       "\n"
      ],
      "text/plain": [
       "     lon     lat     \n",
       "[1,] 6.33811 2.961909"
      ]
     },
     "metadata": {},
     "output_type": "display_data"
    }
   ],
   "source": [
    "euc_red <- subset(euc, closest == \"red\")\n",
    "euc_red <- select(euc_red,x,y)\n",
    "\n",
    "\n",
    "euc_blu <- subset(euc, closest == \"blue\")\n",
    "euc_blu <- select(euc_blu,x,y)\n",
    "\n",
    "\n",
    "euc_grn <- subset(euc, closest == \"green\")\n",
    "euc_grn <- select(euc_grn,x,y)\n",
    "\n",
    "centroid(euc_grn)"
   ]
  },
  {
   "cell_type": "code",
   "execution_count": 222,
   "id": "3306ad99-72e3-4706-888b-2e32fee98e7a",
   "metadata": {},
   "outputs": [],
   "source": [
    "a = as.double(centroid(euc_red))\n",
    "b2 = as.double(centroid(euc_grn))\n",
    "d = as.double(euc_blu)\n"
   ]
  },
  {
   "cell_type": "code",
   "execution_count": null,
   "id": "a0964be8-5a25-49c7-8fc9-57df021dc9f1",
   "metadata": {},
   "outputs": [],
   "source": []
  },
  {
   "cell_type": "markdown",
   "id": "41889301-c3e5-4b87-9489-a48763cf7174",
   "metadata": {},
   "source": [
    "1. What’s the center of the first cluster (red) after one iteration? (Answer in the format of [x1, x2], round your results to three decimal places, same as problems 2 and 3)\n"
   ]
  },
  {
   "cell_type": "markdown",
   "id": "0c36752b-f899-461c-b4e5-90f46e1e7f1e",
   "metadata": {},
   "source": [
    "2. What’s the center of the second cluster (green) after two iteration?"
   ]
  },
  {
   "cell_type": "code",
   "execution_count": 223,
   "id": "c9ce8e8b-0f66-4305-95f2-c8771266fe2c",
   "metadata": {},
   "outputs": [
    {
     "data": {
      "text/html": [
       "<style>\n",
       ".list-inline {list-style: none; margin:0; padding: 0}\n",
       ".list-inline>li {display: inline-block}\n",
       ".list-inline>li:not(:last-child)::after {content: \"\\00b7\"; padding: 0 .5ex}\n",
       "</style>\n",
       "<ol class=list-inline><li>6.338</li><li>2.962</li></ol>\n"
      ],
      "text/latex": [
       "\\begin{enumerate*}\n",
       "\\item 6.338\n",
       "\\item 2.962\n",
       "\\end{enumerate*}\n"
      ],
      "text/markdown": [
       "1. 6.338\n",
       "2. 2.962\n",
       "\n",
       "\n"
      ],
      "text/plain": [
       "[1] 6.338 2.962"
      ]
     },
     "metadata": {},
     "output_type": "display_data"
    }
   ],
   "source": [
    "#2\n",
    "round(b2,3)"
   ]
  },
  {
   "cell_type": "markdown",
   "id": "aeed2038-f126-441b-9ea4-57c3ba20c4dc",
   "metadata": {},
   "source": [
    "3. What’s the center of the third cluster (blue) when the clustering converges?\n",
    "\n",
    "a. [6.35,2.9]"
   ]
  }
 ],
 "metadata": {
  "kernelspec": {
   "display_name": "R",
   "language": "R",
   "name": "ir"
  },
  "language_info": {
   "codemirror_mode": "r",
   "file_extension": ".r",
   "mimetype": "text/x-r-source",
   "name": "R",
   "pygments_lexer": "r",
   "version": "4.0.2"
  }
 },
 "nbformat": 4,
 "nbformat_minor": 5
}

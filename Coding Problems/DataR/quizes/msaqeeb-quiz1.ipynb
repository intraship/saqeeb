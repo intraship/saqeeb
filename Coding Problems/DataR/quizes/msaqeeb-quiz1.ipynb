{
 "cells": [
  {
   "cell_type": "markdown",
   "id": "98d2a141-5af9-43b6-a6aa-0970c64da405",
   "metadata": {},
   "source": [
    "# Muhammad Saqeeb Quiz 1"
   ]
  },
  {
   "cell_type": "markdown",
   "id": "b83ecc69-bb85-4f81-aa63-13a3754285ed",
   "metadata": {
    "tags": []
   },
   "source": [
    "## 1."
   ]
  },
  {
   "cell_type": "code",
   "execution_count": 13,
   "id": "840d0239-f0fd-4048-b3fb-b524d68b6b4d",
   "metadata": {},
   "outputs": [
    {
     "data": {
      "image/png": "[encoded data removed]",
      "text/plain": [
       "plot without title"
      ]
     },
     "metadata": {
      "image/png": {
       "height": 420,
       "width": 420
      }
     },
     "output_type": "display_data"
    },
    {
     "data": {
      "image/png": "[encoded data removed]",
      "text/plain": [
       "plot without title"
      ]
     },
     "metadata": {
      "image/png": {
       "height": 420,
       "width": 420
      }
     },
     "output_type": "display_data"
    }
   ],
   "source": [
    "# 1.\n",
    "x = 1:10\n",
    "y = c(1,2,3,4,5,5,4,3,2,1)\n",
    "plot(x,y,type = \"p\")\n",
    "#2\n",
    "plot(x,y,type = \"b\")"
   ]
  },
  {
   "cell_type": "markdown",
   "id": "449144d2-f3f2-400e-b363-3a13cfb8c32f",
   "metadata": {},
   "source": [
    "## 2."
   ]
  },
  {
   "cell_type": "code",
   "execution_count": 17,
   "id": "ef3a60b6-6d9d-4447-8b6e-6b5f2d35f2e0",
   "metadata": {},
   "outputs": [
    {
     "name": "stderr",
     "output_type": "stream",
     "text": [
      "Warning message in 1:3 + 2:3:\n",
      "\"longer object length is not a multiple of shorter object length\"\n"
     ]
    },
    {
     "data": {
      "text/html": [
       "<style>\n",
       ".list-inline {list-style: none; margin:0; padding: 0}\n",
       ".list-inline>li {display: inline-block}\n",
       ".list-inline>li:not(:last-child)::after {content: \"\\00b7\"; padding: 0 .5ex}\n",
       "</style>\n",
       "<ol class=list-inline><li>3</li><li>5</li><li>5</li></ol>\n"
      ],
      "text/latex": [
       "\\begin{enumerate*}\n",
       "\\item 3\n",
       "\\item 5\n",
       "\\item 5\n",
       "\\end{enumerate*}\n"
      ],
      "text/markdown": [
       "1. 3\n",
       "2. 5\n",
       "3. 5\n",
       "\n",
       "\n"
      ],
      "text/plain": [
       "[1] 3 5 5"
      ]
     },
     "metadata": {},
     "output_type": "display_data"
    },
    {
     "data": {
      "text/html": [
       "<style>\n",
       ".list-inline {list-style: none; margin:0; padding: 0}\n",
       ".list-inline>li {display: inline-block}\n",
       ".list-inline>li:not(:last-child)::after {content: \"\\00b7\"; padding: 0 .5ex}\n",
       "</style>\n",
       "<ol class=list-inline><li>2</li><li>3</li><li>4</li></ol>\n"
      ],
      "text/latex": [
       "\\begin{enumerate*}\n",
       "\\item 2\n",
       "\\item 3\n",
       "\\item 4\n",
       "\\end{enumerate*}\n"
      ],
      "text/markdown": [
       "1. 2\n",
       "2. 3\n",
       "3. 4\n",
       "\n",
       "\n"
      ],
      "text/plain": [
       "[1] 2 3 4"
      ]
     },
     "metadata": {},
     "output_type": "display_data"
    }
   ],
   "source": [
    "# 2.\n",
    "1:3+2:3\n",
    "\n",
    "1+1:3"
   ]
  },
  {
   "cell_type": "markdown",
   "id": "694daded-5eb3-4760-9a94-28a6943d145a",
   "metadata": {
    "tags": []
   },
   "source": [
    "## 3."
   ]
  },
  {
   "cell_type": "code",
   "execution_count": 15,
   "id": "76c4b18e-8a4a-43f8-923a-2bc653ce4eae",
   "metadata": {},
   "outputs": [
    {
     "data": {
      "text/html": [
       "<style>\n",
       ".list-inline {list-style: none; margin:0; padding: 0}\n",
       ".list-inline>li {display: inline-block}\n",
       ".list-inline>li:not(:last-child)::after {content: \"\\00b7\"; padding: 0 .5ex}\n",
       "</style>\n",
       "<ol class=list-inline><li>3</li><li>6</li><li>9</li><li>12</li><li>15</li></ol>\n"
      ],
      "text/latex": [
       "\\begin{enumerate*}\n",
       "\\item 3\n",
       "\\item 6\n",
       "\\item 9\n",
       "\\item 12\n",
       "\\item 15\n",
       "\\end{enumerate*}\n"
      ],
      "text/markdown": [
       "1. 3\n",
       "2. 6\n",
       "3. 9\n",
       "4. 12\n",
       "5. 15\n",
       "\n",
       "\n"
      ],
      "text/plain": [
       "[1]  3  6  9 12 15"
      ]
     },
     "metadata": {},
     "output_type": "display_data"
    }
   ],
   "source": [
    "# 3.\n",
    "seq(3,15, by = 3)"
   ]
  },
  {
   "cell_type": "markdown",
   "id": "db768f63-195f-46a7-8d12-f75e252838c0",
   "metadata": {},
   "source": [
    "## 4."
   ]
  },
  {
   "cell_type": "code",
   "execution_count": 41,
   "id": "d7c878c2-1740-4754-bb1c-372c1032232e",
   "metadata": {},
   "outputs": [],
   "source": [
    "ln <- function(u, repeats = 100) {\n",
    "result <- numeric(repeats) \n",
    "for (i in seq_along(result)){\n",
    "result[i] <- 1/((2*i+1)(2*i+2))\n",
    "}\n",
    "return(sum(result))\n",
    "}"
   ]
  },
  {
   "cell_type": "markdown",
   "id": "416c77f2-5dfc-4232-b4fa-76368aaa2097",
   "metadata": {},
   "source": [
    "## 5."
   ]
  },
  {
   "cell_type": "code",
   "execution_count": 31,
   "id": "4bd179c6-cd99-4419-8ece-a4a9c6109051",
   "metadata": {},
   "outputs": [
    {
     "name": "stderr",
     "output_type": "stream",
     "text": [
      "Warning message:\n",
      "\"package 'dplyr' was built under R version 4.0.4\"\n",
      "Warning message:\n",
      "\"replacing previous import 'lifecycle::last_warnings' by 'rlang::last_warnings' when loading 'tibble'\"\n",
      "\n",
      "Attaching package: 'dplyr'\n",
      "\n",
      "\n",
      "The following objects are masked from 'package:stats':\n",
      "\n",
      "    filter, lag\n",
      "\n",
      "\n",
      "The following objects are masked from 'package:base':\n",
      "\n",
      "    intersect, setdiff, setequal, union\n",
      "\n",
      "\n"
     ]
    },
    {
     "data": {
      "text/html": [
       "<table class=\"dataframe\">\n",
       "<caption>A data.frame: 26 × 3</caption>\n",
       "<thead>\n",
       "\t<tr><th scope=col>index</th><th scope=col>symbol</th><th scope=col>color</th></tr>\n",
       "\t<tr><th scope=col>&lt;int&gt;</th><th scope=col>&lt;chr&gt;</th><th scope=col>&lt;chr&gt;</th></tr>\n",
       "</thead>\n",
       "<tbody>\n",
       "\t<tr><td> 1</td><td>A</td><td>red  </td></tr>\n",
       "\t<tr><td> 2</td><td>B</td><td>red  </td></tr>\n",
       "\t<tr><td> 3</td><td>C</td><td>red  </td></tr>\n",
       "\t<tr><td> 4</td><td>D</td><td>red  </td></tr>\n",
       "\t<tr><td> 5</td><td>E</td><td>red  </td></tr>\n",
       "\t<tr><td> 6</td><td>F</td><td>red  </td></tr>\n",
       "\t<tr><td> 7</td><td>G</td><td>red  </td></tr>\n",
       "\t<tr><td> 8</td><td>H</td><td>red  </td></tr>\n",
       "\t<tr><td> 9</td><td>I</td><td>red  </td></tr>\n",
       "\t<tr><td>10</td><td>J</td><td>red  </td></tr>\n",
       "\t<tr><td>11</td><td>K</td><td>green</td></tr>\n",
       "\t<tr><td>12</td><td>L</td><td>green</td></tr>\n",
       "\t<tr><td>13</td><td>M</td><td>green</td></tr>\n",
       "\t<tr><td>14</td><td>N</td><td>green</td></tr>\n",
       "\t<tr><td>15</td><td>O</td><td>green</td></tr>\n",
       "\t<tr><td>16</td><td>P</td><td>green</td></tr>\n",
       "\t<tr><td>17</td><td>Q</td><td>blue </td></tr>\n",
       "\t<tr><td>18</td><td>R</td><td>blue </td></tr>\n",
       "\t<tr><td>19</td><td>S</td><td>blue </td></tr>\n",
       "\t<tr><td>20</td><td>T</td><td>blue </td></tr>\n",
       "\t<tr><td>21</td><td>U</td><td>blue </td></tr>\n",
       "\t<tr><td>22</td><td>V</td><td>blue </td></tr>\n",
       "\t<tr><td>23</td><td>W</td><td>blue </td></tr>\n",
       "\t<tr><td>24</td><td>X</td><td>blue </td></tr>\n",
       "\t<tr><td>25</td><td>Y</td><td>blue </td></tr>\n",
       "\t<tr><td>26</td><td>Z</td><td>blue </td></tr>\n",
       "</tbody>\n",
       "</table>\n"
      ],
      "text/latex": [
       "A data.frame: 26 × 3\n",
       "\\begin{tabular}{lll}\n",
       " index & symbol & color\\\\\n",
       " <int> & <chr> & <chr>\\\\\n",
       "\\hline\n",
       "\t  1 & A & red  \\\\\n",
       "\t  2 & B & red  \\\\\n",
       "\t  3 & C & red  \\\\\n",
       "\t  4 & D & red  \\\\\n",
       "\t  5 & E & red  \\\\\n",
       "\t  6 & F & red  \\\\\n",
       "\t  7 & G & red  \\\\\n",
       "\t  8 & H & red  \\\\\n",
       "\t  9 & I & red  \\\\\n",
       "\t 10 & J & red  \\\\\n",
       "\t 11 & K & green\\\\\n",
       "\t 12 & L & green\\\\\n",
       "\t 13 & M & green\\\\\n",
       "\t 14 & N & green\\\\\n",
       "\t 15 & O & green\\\\\n",
       "\t 16 & P & green\\\\\n",
       "\t 17 & Q & blue \\\\\n",
       "\t 18 & R & blue \\\\\n",
       "\t 19 & S & blue \\\\\n",
       "\t 20 & T & blue \\\\\n",
       "\t 21 & U & blue \\\\\n",
       "\t 22 & V & blue \\\\\n",
       "\t 23 & W & blue \\\\\n",
       "\t 24 & X & blue \\\\\n",
       "\t 25 & Y & blue \\\\\n",
       "\t 26 & Z & blue \\\\\n",
       "\\end{tabular}\n"
      ],
      "text/markdown": [
       "\n",
       "A data.frame: 26 × 3\n",
       "\n",
       "| index &lt;int&gt; | symbol &lt;chr&gt; | color &lt;chr&gt; |\n",
       "|---|---|---|\n",
       "|  1 | A | red   |\n",
       "|  2 | B | red   |\n",
       "|  3 | C | red   |\n",
       "|  4 | D | red   |\n",
       "|  5 | E | red   |\n",
       "|  6 | F | red   |\n",
       "|  7 | G | red   |\n",
       "|  8 | H | red   |\n",
       "|  9 | I | red   |\n",
       "| 10 | J | red   |\n",
       "| 11 | K | green |\n",
       "| 12 | L | green |\n",
       "| 13 | M | green |\n",
       "| 14 | N | green |\n",
       "| 15 | O | green |\n",
       "| 16 | P | green |\n",
       "| 17 | Q | blue  |\n",
       "| 18 | R | blue  |\n",
       "| 19 | S | blue  |\n",
       "| 20 | T | blue  |\n",
       "| 21 | U | blue  |\n",
       "| 22 | V | blue  |\n",
       "| 23 | W | blue  |\n",
       "| 24 | X | blue  |\n",
       "| 25 | Y | blue  |\n",
       "| 26 | Z | blue  |\n",
       "\n"
      ],
      "text/plain": [
       "   index symbol color\n",
       "1   1    A      red  \n",
       "2   2    B      red  \n",
       "3   3    C      red  \n",
       "4   4    D      red  \n",
       "5   5    E      red  \n",
       "6   6    F      red  \n",
       "7   7    G      red  \n",
       "8   8    H      red  \n",
       "9   9    I      red  \n",
       "10 10    J      red  \n",
       "11 11    K      green\n",
       "12 12    L      green\n",
       "13 13    M      green\n",
       "14 14    N      green\n",
       "15 15    O      green\n",
       "16 16    P      green\n",
       "17 17    Q      blue \n",
       "18 18    R      blue \n",
       "19 19    S      blue \n",
       "20 20    T      blue \n",
       "21 21    U      blue \n",
       "22 22    V      blue \n",
       "23 23    W      blue \n",
       "24 24    X      blue \n",
       "25 25    Y      blue \n",
       "26 26    Z      blue "
      ]
     },
     "metadata": {},
     "output_type": "display_data"
    }
   ],
   "source": [
    "# 5.\n",
    "library(dplyr)\n",
    "alphabet<-data.frame(index=1:26, symbol=LETTERS,\n",
    "                     color=c(rep('red', 10),\n",
    "                             rep('green', 6),\n",
    "                             rep('blue', 10)))\n",
    "alphabet"
   ]
  },
  {
   "cell_type": "code",
   "execution_count": 32,
   "id": "076df561-8e19-45d8-9a94-8a43370ec911",
   "metadata": {},
   "outputs": [
    {
     "data": {
      "text/html": [
       "<style>\n",
       ".list-inline {list-style: none; margin:0; padding: 0}\n",
       ".list-inline>li {display: inline-block}\n",
       ".list-inline>li:not(:last-child)::after {content: \"\\00b7\"; padding: 0 .5ex}\n",
       "</style>\n",
       "<ol class=list-inline><li>26</li><li>25</li><li>24</li><li>23</li><li>22</li><li>21</li><li>20</li><li>19</li><li>18</li><li>17</li><li>16</li><li>15</li><li>14</li><li>13</li><li>12</li><li>11</li><li>10</li><li>9</li><li>8</li><li>7</li><li>6</li><li>5</li><li>4</li><li>3</li><li>2</li><li>1</li></ol>\n"
      ],
      "text/latex": [
       "\\begin{enumerate*}\n",
       "\\item 26\n",
       "\\item 25\n",
       "\\item 24\n",
       "\\item 23\n",
       "\\item 22\n",
       "\\item 21\n",
       "\\item 20\n",
       "\\item 19\n",
       "\\item 18\n",
       "\\item 17\n",
       "\\item 16\n",
       "\\item 15\n",
       "\\item 14\n",
       "\\item 13\n",
       "\\item 12\n",
       "\\item 11\n",
       "\\item 10\n",
       "\\item 9\n",
       "\\item 8\n",
       "\\item 7\n",
       "\\item 6\n",
       "\\item 5\n",
       "\\item 4\n",
       "\\item 3\n",
       "\\item 2\n",
       "\\item 1\n",
       "\\end{enumerate*}\n"
      ],
      "text/markdown": [
       "1. 26\n",
       "2. 25\n",
       "3. 24\n",
       "4. 23\n",
       "5. 22\n",
       "6. 21\n",
       "7. 20\n",
       "8. 19\n",
       "9. 18\n",
       "10. 17\n",
       "11. 16\n",
       "12. 15\n",
       "13. 14\n",
       "14. 13\n",
       "15. 12\n",
       "16. 11\n",
       "17. 10\n",
       "18. 9\n",
       "19. 8\n",
       "20. 7\n",
       "21. 6\n",
       "22. 5\n",
       "23. 4\n",
       "24. 3\n",
       "25. 2\n",
       "26. 1\n",
       "\n",
       "\n"
      ],
      "text/plain": [
       " [1] 26 25 24 23 22 21 20 19 18 17 16 15 14 13 12 11 10  9  8  7  6  5  4  3  2\n",
       "[26]  1"
      ]
     },
     "metadata": {},
     "output_type": "display_data"
    }
   ],
   "source": [
    "sort(alphabet$index, decreasing = TRUE)"
   ]
  },
  {
   "cell_type": "code",
   "execution_count": 37,
   "id": "10b02954-a406-4c27-9df8-55502cc75764",
   "metadata": {},
   "outputs": [
    {
     "data": {
      "text/html": [
       "<table class=\"dataframe\">\n",
       "<caption>A data.frame: 9 × 3</caption>\n",
       "<thead>\n",
       "\t<tr><th></th><th scope=col>index</th><th scope=col>symbol</th><th scope=col>color</th></tr>\n",
       "\t<tr><th></th><th scope=col>&lt;int&gt;</th><th scope=col>&lt;chr&gt;</th><th scope=col>&lt;chr&gt;</th></tr>\n",
       "</thead>\n",
       "<tbody>\n",
       "\t<tr><th scope=row>11</th><td>11</td><td>K</td><td>green</td></tr>\n",
       "\t<tr><th scope=row>12</th><td>12</td><td>L</td><td>green</td></tr>\n",
       "\t<tr><th scope=row>13</th><td>13</td><td>M</td><td>green</td></tr>\n",
       "\t<tr><th scope=row>14</th><td>14</td><td>N</td><td>green</td></tr>\n",
       "\t<tr><th scope=row>15</th><td>15</td><td>O</td><td>green</td></tr>\n",
       "\t<tr><th scope=row>16</th><td>16</td><td>P</td><td>green</td></tr>\n",
       "\t<tr><th scope=row>17</th><td>17</td><td>Q</td><td>blue </td></tr>\n",
       "\t<tr><th scope=row>18</th><td>18</td><td>R</td><td>blue </td></tr>\n",
       "\t<tr><th scope=row>19</th><td>19</td><td>S</td><td>blue </td></tr>\n",
       "</tbody>\n",
       "</table>\n"
      ],
      "text/latex": [
       "A data.frame: 9 × 3\n",
       "\\begin{tabular}{r|lll}\n",
       "  & index & symbol & color\\\\\n",
       "  & <int> & <chr> & <chr>\\\\\n",
       "\\hline\n",
       "\t11 & 11 & K & green\\\\\n",
       "\t12 & 12 & L & green\\\\\n",
       "\t13 & 13 & M & green\\\\\n",
       "\t14 & 14 & N & green\\\\\n",
       "\t15 & 15 & O & green\\\\\n",
       "\t16 & 16 & P & green\\\\\n",
       "\t17 & 17 & Q & blue \\\\\n",
       "\t18 & 18 & R & blue \\\\\n",
       "\t19 & 19 & S & blue \\\\\n",
       "\\end{tabular}\n"
      ],
      "text/markdown": [
       "\n",
       "A data.frame: 9 × 3\n",
       "\n",
       "| <!--/--> | index &lt;int&gt; | symbol &lt;chr&gt; | color &lt;chr&gt; |\n",
       "|---|---|---|---|\n",
       "| 11 | 11 | K | green |\n",
       "| 12 | 12 | L | green |\n",
       "| 13 | 13 | M | green |\n",
       "| 14 | 14 | N | green |\n",
       "| 15 | 15 | O | green |\n",
       "| 16 | 16 | P | green |\n",
       "| 17 | 17 | Q | blue  |\n",
       "| 18 | 18 | R | blue  |\n",
       "| 19 | 19 | S | blue  |\n",
       "\n"
      ],
      "text/plain": [
       "   index symbol color\n",
       "11 11    K      green\n",
       "12 12    L      green\n",
       "13 13    M      green\n",
       "14 14    N      green\n",
       "15 15    O      green\n",
       "16 16    P      green\n",
       "17 17    Q      blue \n",
       "18 18    R      blue \n",
       "19 19    S      blue "
      ]
     },
     "metadata": {},
     "output_type": "display_data"
    }
   ],
   "source": [
    "subset(alphabet,index>10 & index <20)\n",
    "\n",
    "\n"
   ]
  },
  {
   "cell_type": "code",
   "execution_count": 38,
   "id": "634e3607-a823-4d0a-95a7-015a75239f87",
   "metadata": {},
   "outputs": [
    {
     "data": {
      "text/html": [
       "<table class=\"dataframe\">\n",
       "<caption>A data.frame: 15 × 3</caption>\n",
       "<thead>\n",
       "\t<tr><th></th><th scope=col>index</th><th scope=col>symbol</th><th scope=col>color</th></tr>\n",
       "\t<tr><th></th><th scope=col>&lt;int&gt;</th><th scope=col>&lt;chr&gt;</th><th scope=col>&lt;chr&gt;</th></tr>\n",
       "</thead>\n",
       "<tbody>\n",
       "\t<tr><th scope=row>1</th><td> 1</td><td>A</td><td>red  </td></tr>\n",
       "\t<tr><th scope=row>2</th><td> 2</td><td>B</td><td>red  </td></tr>\n",
       "\t<tr><th scope=row>3</th><td> 3</td><td>C</td><td>red  </td></tr>\n",
       "\t<tr><th scope=row>4</th><td> 4</td><td>D</td><td>red  </td></tr>\n",
       "\t<tr><th scope=row>5</th><td> 5</td><td>E</td><td>red  </td></tr>\n",
       "\t<tr><th scope=row>6</th><td> 6</td><td>F</td><td>red  </td></tr>\n",
       "\t<tr><th scope=row>7</th><td> 7</td><td>G</td><td>red  </td></tr>\n",
       "\t<tr><th scope=row>8</th><td> 8</td><td>H</td><td>red  </td></tr>\n",
       "\t<tr><th scope=row>9</th><td> 9</td><td>I</td><td>red  </td></tr>\n",
       "\t<tr><th scope=row>11</th><td>11</td><td>K</td><td>green</td></tr>\n",
       "\t<tr><th scope=row>12</th><td>12</td><td>L</td><td>green</td></tr>\n",
       "\t<tr><th scope=row>13</th><td>13</td><td>M</td><td>green</td></tr>\n",
       "\t<tr><th scope=row>14</th><td>14</td><td>N</td><td>green</td></tr>\n",
       "\t<tr><th scope=row>15</th><td>15</td><td>O</td><td>green</td></tr>\n",
       "\t<tr><th scope=row>16</th><td>16</td><td>P</td><td>green</td></tr>\n",
       "</tbody>\n",
       "</table>\n"
      ],
      "text/latex": [
       "A data.frame: 15 × 3\n",
       "\\begin{tabular}{r|lll}\n",
       "  & index & symbol & color\\\\\n",
       "  & <int> & <chr> & <chr>\\\\\n",
       "\\hline\n",
       "\t1 &  1 & A & red  \\\\\n",
       "\t2 &  2 & B & red  \\\\\n",
       "\t3 &  3 & C & red  \\\\\n",
       "\t4 &  4 & D & red  \\\\\n",
       "\t5 &  5 & E & red  \\\\\n",
       "\t6 &  6 & F & red  \\\\\n",
       "\t7 &  7 & G & red  \\\\\n",
       "\t8 &  8 & H & red  \\\\\n",
       "\t9 &  9 & I & red  \\\\\n",
       "\t11 & 11 & K & green\\\\\n",
       "\t12 & 12 & L & green\\\\\n",
       "\t13 & 13 & M & green\\\\\n",
       "\t14 & 14 & N & green\\\\\n",
       "\t15 & 15 & O & green\\\\\n",
       "\t16 & 16 & P & green\\\\\n",
       "\\end{tabular}\n"
      ],
      "text/markdown": [
       "\n",
       "A data.frame: 15 × 3\n",
       "\n",
       "| <!--/--> | index &lt;int&gt; | symbol &lt;chr&gt; | color &lt;chr&gt; |\n",
       "|---|---|---|---|\n",
       "| 1 |  1 | A | red   |\n",
       "| 2 |  2 | B | red   |\n",
       "| 3 |  3 | C | red   |\n",
       "| 4 |  4 | D | red   |\n",
       "| 5 |  5 | E | red   |\n",
       "| 6 |  6 | F | red   |\n",
       "| 7 |  7 | G | red   |\n",
       "| 8 |  8 | H | red   |\n",
       "| 9 |  9 | I | red   |\n",
       "| 11 | 11 | K | green |\n",
       "| 12 | 12 | L | green |\n",
       "| 13 | 13 | M | green |\n",
       "| 14 | 14 | N | green |\n",
       "| 15 | 15 | O | green |\n",
       "| 16 | 16 | P | green |\n",
       "\n"
      ],
      "text/plain": [
       "   index symbol color\n",
       "1   1    A      red  \n",
       "2   2    B      red  \n",
       "3   3    C      red  \n",
       "4   4    D      red  \n",
       "5   5    E      red  \n",
       "6   6    F      red  \n",
       "7   7    G      red  \n",
       "8   8    H      red  \n",
       "9   9    I      red  \n",
       "11 11    K      green\n",
       "12 12    L      green\n",
       "13 13    M      green\n",
       "14 14    N      green\n",
       "15 15    O      green\n",
       "16 16    P      green"
      ]
     },
     "metadata": {},
     "output_type": "display_data"
    }
   ],
   "source": [
    "subset(alphabet,color=='green' | index<10)\n"
   ]
  }
 ],
 "metadata": {
  "kernelspec": {
   "display_name": "R",
   "language": "R",
   "name": "ir"
  },
  "language_info": {
   "codemirror_mode": "r",
   "file_extension": ".r",
   "mimetype": "text/x-r-source",
   "name": "R",
   "pygments_lexer": "r",
   "version": "4.0.2"
  }
 },
 "nbformat": 4,
 "nbformat_minor": 5
}

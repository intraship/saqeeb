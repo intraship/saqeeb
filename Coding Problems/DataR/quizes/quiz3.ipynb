{
 "cells": [
  {
   "cell_type": "markdown",
   "id": "e9a4a542-4339-42e4-af02-2ed8f4aa272b",
   "metadata": {},
   "source": [
    "1. 2 aaba 3 aababaa\n",
    "2. a. .68\n",
    "3. b 40%\n",
    "4. P(X>=x) < 0.05\n",
    "5. a. the time it takes a randomly selected student to \n"
   ]
  },
  {
   "cell_type": "code",
   "execution_count": 5,
   "id": "fbeb1983-6610-4a8b-8863-49994bd2d75a",
   "metadata": {},
   "outputs": [
    {
     "ename": "ERROR",
     "evalue": "Error in parse(text = x, srcfile = src): <text>:1:18: unexpected '/'\n1: regexp /a+(ab)*a+/\n                     ^\n",
     "output_type": "error",
     "traceback": [
      "Error in parse(text = x, srcfile = src): <text>:1:18: unexpected '/'\n1: regexp /a+(ab)*a+/\n                     ^\nTraceback:\n"
     ]
    }
   ],
   "source": []
  },
  {
   "cell_type": "markdown",
   "id": "17b4ab8b-aa15-4b09-825d-b16214e37369",
   "metadata": {},
   "source": [
    "6. b. mean value\n",
    "7. b. 75\n",
    "8. d. 0.04\n",
    "9. a binomial experiment\n",
    "10. c. num of women \n",
    "11. b. 0.20\n",
    "12. d. there are more than 30 trial"
   ]
  },
  {
   "cell_type": "markdown",
   "id": "a2493849-dac5-4a58-8d68-c42c023daffc",
   "metadata": {},
   "source": [
    "13. d. find the cum prob\n",
    "14. a. cosine\n",
    "15. a wprds in doc ???\n",
    "16. b 1/3 ????\n",
    "17. c biniomial dist\n",
    "18. d. 32\n",
    "19. a. P(A) = .2\n",
    "20. c. cannot be indepentent\n"
   ]
  },
  {
   "cell_type": "markdown",
   "id": "1f9334e0-6526-4100-936c-c5bd0eb44a1c",
   "metadata": {},
   "source": [
    "21. b. the prob P(X<=k) large n\n",
    "22. d prob randomly selected\n",
    "23. c. $1\n",
    "24. 5 aaaaaaa 2 abcvc 3 abcbcbcbc 4 ac\n",
    "25. 3 abbb 4 bbc 5 bbbbbbbbb"
   ]
  },
  {
   "cell_type": "code",
   "execution_count": null,
   "id": "c02ee1a6-79cd-4520-8aac-0f5d16942d9f",
   "metadata": {},
   "outputs": [],
   "source": []
  }
 ],
 "metadata": {
  "kernelspec": {
   "display_name": "R",
   "language": "R",
   "name": "ir"
  },
  "language_info": {
   "codemirror_mode": "r",
   "file_extension": ".r",
   "mimetype": "text/x-r-source",
   "name": "R",
   "pygments_lexer": "r",
   "version": "4.0.2"
  }
 },
 "nbformat": 4,
 "nbformat_minor": 5
}

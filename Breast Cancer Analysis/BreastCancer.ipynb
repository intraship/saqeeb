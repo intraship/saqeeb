{
  "cells": [
    {
      "cell_type": "code",
      "execution_count": null,
      "metadata": {
        "id": "VropDaK4Qw04"
      },
      "outputs": [],
      "source": [
        "install.packages(\"caret\")\n",
        "install.packages(\"e1071\")\n",
        "install.packages(\"MASS\")\n",
        "install.packages(\"randomForest\")"
      ]
    },
    {
      "cell_type": "code",
      "execution_count": null,
      "metadata": {
        "id": "HQOK755VEd33"
      },
      "outputs": [],
      "source": [
        "library(caret)\n",
        "library(e1071)\n",
        "library(MASS)\n",
        "library(class)\n",
        "library(tree)\n",
        "library(ISLR)\n",
        "library(randomForest)\n",
        "set.seed(3456)\n",
        "bc_set <- read.csv(\"C:/data/breast-cancer.csv\")\n",
        "dt = createDataPartition(bc_set$diagnosis, p = .8,\n",
        "                         list = FALSE,\n",
        "                         times = 1)\n",
        "rownames(bc_set) <- bc_set$id\n",
        "bc_set<-bc_set[2:32]\n",
        "bc_set$diagnosis<-factor(bc_set$diagnosis)\n",
        "trainData<-bc_set[dt,]\n",
        "testData<-bc_set[-dt,]\n",
        "train.x<-trainData[,-1]\n",
        "train.y<-trainData[,1]\n",
        "test.x<-testData[,-1]\n",
        "test.y<-testData[,1]"
      ]
    },
    {
      "cell_type": "code",
      "execution_count": null,
      "metadata": {
        "id": "-Un_XTcMXpqo"
      },
      "outputs": [],
      "source": [
        "startTime <- Sys.time()\n",
        "lda.fit <- lda ( diagnosis ∼. , data =trainData)\n",
        "lda.pred<-predict(lda.fit,test.x)\n",
        "df_lda<-confusionMatrix(data=factor(lda.pred$class), reference =factor(test.y))\n",
        "df_lda\n",
        "n <-sum(df_lda$table)\n",
        "nc<-nrow(df_lda$table)\n",
        "diag<-diag(df_lda$table)\n",
        "rowsums <- apply(df_lda$table, 1, sum)\n",
        "colsums <- apply(df_lda$table, 2, sum)\n",
        "lda_recall<-diag / colsums\n",
        "lda_precision<- diag / rowsums \n",
        "lda_f<-2 * lda_precision * lda_recall / (lda_precision + lda_recall)\n",
        "data.frame(lda_precision, lda_recall, lda_f)\n",
        "endTime <- Sys.time()\n",
        "print(endTime - startTime)"
      ]
    },
    {
      "cell_type": "code",
      "execution_count": null,
      "metadata": {
        "id": "cjnw5nPxSv11"
      },
      "outputs": [],
      "source": [
        "startTime <- Sys.time()\n",
        "glm.fits<-glm(diagnosis~. ,data=trainData,family=\"binomial\")\n",
        "glm.fits\n",
        "summary(glm.fits)\n",
        "glm.prob<-predict(glm.fits,test.x,type=\"response\")\n",
        "glm.pred <-ifelse(glm.prob>0.5,\"M\",\"B\")\n",
        "df_glm<-confusionMatrix(data=factor(glm.pred), reference =factor(test.y))\n",
        "df_glm\n",
        "n <-sum(df_glm$table)\n",
        "nc<-nrow(df_glm$table)\n",
        "diag<-diag(df_glm$table)\n",
        "rowsums <- apply(df_glm$table, 1, sum)\n",
        "colsums <- apply(df_glm$table, 2, sum)\n",
        "glm_recall<-diag / colsums\n",
        "glm_precision<- diag / rowsums \n",
        "glm_f<-2 * glm_precision * glm_recall / (glm_precision + glm_recall)\n",
        "data.frame(glm_precision, glm_recall, glm_f)\n",
        "endTime <- Sys.time()\n",
        "print(endTime - startTime)"
      ]
    },
    {
      "cell_type": "code",
      "execution_count": null,
      "metadata": {
        "id": "ylsUgwujPfMR"
      },
      "outputs": [],
      "source": [
        "startTime <- Sys.time()\n",
        "qda.fit<-qda(diagnosis~., data=trainData)\n",
        "qda.fit\n",
        "qda.pred<-predict(qda.fit,test.x)\n",
        "df_qda<-confusionMatrix(data=factor(qda.pred$class), reference =factor(test.y))\n",
        "df_qda\n",
        "n <-sum(df_qda$table)\n",
        "nc<-nrow(df_qda$table)\n",
        "diag<-diag(df_qda$table)\n",
        "rowsums <- apply(df_qda$table, 1, sum)\n",
        "colsums <- apply(df_qda$table, 2, sum)\n",
        "qda_recall<-diag / colsums\n",
        "qda_precision<- diag / rowsums \n",
        "qda_f<-2 * qda_precision * qda_recall / (qda_precision + qda_recall)\n",
        "data.frame(qda_precision, qda_recall, qda_f)\n",
        "endTime <- Sys.time()\n",
        "print(endTime - startTime)"
      ]
    },
    {
      "cell_type": "code",
      "execution_count": null,
      "metadata": {
        "id": "RdSUsPewPepu"
      },
      "outputs": [],
      "source": [
        "startTime <- Sys.time()\n",
        "nb.fit <- naiveBayes (diagnosis ∼. ,data =trainData)\n",
        "nb.fit\n",
        "nb.class<-predict(nb.fit,test.x)\n",
        "df_nb<-confusionMatrix(data=factor(nb.class), reference =factor(test.y))\n",
        "df_nb\n",
        "n <-sum(df_nb$table)\n",
        "nc<-nrow(df_nb$table)\n",
        "diag<-diag(df_nb$table)\n",
        "rowsums <- apply(df_nb$table, 1, sum)\n",
        "colsums <- apply(df_nb$table, 2, sum)\n",
        "nb_recall<-diag / colsums\n",
        "nb_precision<- diag / rowsums \n",
        "nb_f<-2 * nb_precision * nb_recall / (nb_precision + nb_recall)\n",
        "data.frame(nb_precision, nb_recall, nb_f)\n",
        "endTime <- Sys.time()\n",
        "print(endTime - startTime)"
      ]
    },
    {
      "cell_type": "code",
      "execution_count": null,
      "metadata": {
        "id": "3giAE3cjEOzE"
      },
      "outputs": [],
      "source": [
        "startTime <- Sys.time()\n",
        "knn.pred<-knn(train.x,test.x,train.y,k=1)\n",
        "df_knn<-confusionMatrix(data=factor(knn.pred), reference =factor(test.y))\n",
        "df_knn\n",
        "n <-sum(df_knn$table)\n",
        "nc<-nrow(df_knn$table)\n",
        "diag<-diag(df_knn$table)\n",
        "rowsums <- apply(df_knn$table, 1, sum)\n",
        "colsums <- apply(df_knn$table, 2, sum)\n",
        "knn_recall<-diag / colsums\n",
        "knn_precision<- diag / rowsums \n",
        "knn_f<-2 * knn_precision * knn_recall / (knn_precision + knn_recall)\n",
        "data.frame(knn_precision, knn_recall, knn_f)\n",
        "endTime <- Sys.time()\n",
        "print(endTime - startTime)\n"
      ]
    },
    {
      "cell_type": "code",
      "execution_count": null,
      "metadata": {
        "id": "R1ztgZHVajO3"
      },
      "outputs": [],
      "source": [
        "library(glmnet)\n",
        "set.seed(123)\n",
        "startTime <- Sys.time()\n",
        "lambdas <- 10^seq(2, -3, by = -.1)\n",
        "cv_ridge <- cv.glmnet(as.matrix(train.x), train.y, alpha = 0, family = \"binomial\",lambda=lambdas)\n",
        "ridge_glm<-glmnet(as.matrix(train.x),train.y, alpha = 0, family = \"binomial\",lambda=cv_ridge$lambda.min)\n",
        "glm2.pred<-factor(predict(ridge_glm,s=cv_ridge$lambda.min,newx=as.matrix(test.x),type=\"class\"))\n",
        "df_glm2<-confusionMatrix(data=factor(glm2.pred), reference =factor(test.y))\n",
        "df_glm2\n",
        "n <-sum(df_glm2$table)\n",
        "nc<-nrow(df_glm2$table)\n",
        "diag<-diag(df_glm2$table)\n",
        "rowsums <- apply(df_glm2$table, 1, sum)\n",
        "colsums <- apply(df_glm2$table, 2, sum)\n",
        "glm_recall<-diag / colsums\n",
        "glm_precision<- diag / rowsums \n",
        "glm_f<-2 * glm_precision * glm_recall / (glm_precision + glm_recall)\n",
        "data.frame(glm_precision, glm_recall, glm_f)\n",
        "endTime <- Sys.time()\n",
        "print(endTime - startTime)"
      ]
    },
    {
      "cell_type": "code",
      "execution_count": null,
      "metadata": {
        "id": "58Yq9ArYDwLp"
      },
      "outputs": [],
      "source": [
        "startTime <- Sys.time()\n",
        "nb2.fit<-rfe(train.x,train.y,sizes = c(1:21),rfeControl = rfeControl(functions = nbFuncs, method = \"repeatedcv\",repeats=10))\n",
        "nb2.pred<-predict(nb2.fit$fit,subset(test.x,select=predictors(nb2.fit$fit)))\n",
        "df_nb2<-confusionMatrix(data=factor(nb2.pred$class), reference =factor(test.y))\n",
        "df_nb2\n",
        "n <-sum(df_nb2$table)\n",
        "nc<-nrow(df_nb2$table)\n",
        "diag<-diag(df_nb2$table)\n",
        "rowsums <- apply(df_nb2$table, 1, sum)\n",
        "colsums <- apply(df_nb2$table, 2, sum)\n",
        "nb_recall<-diag / colsums\n",
        "nb_precision<- diag / rowsums \n",
        "nb_f<-2 * nb_precision * nb_recall / (nb_precision + nb_recall)\n",
        "data.frame(nb_precision, nb_recall, nb_f)\n",
        "endTime <- Sys.time()\n",
        "print(endTime - startTime)"
      ]
    },
    {
      "cell_type": "code",
      "source": [
        "startTime <- Sys.time()\n",
        "tree.cancer<-tree(diagnosis~.,trainData)\n",
        "summary(tree.cancer)\n",
        "tree.pred=predict(tree.cancer,test.x,type=\"class\")\n",
        "df_tree<-confusionMatrix(data=factor(tree.pred), reference =factor(test.y))\n",
        "df_tree\n",
        "n <-sum(df_tree$table)\n",
        "nc<-nrow(df_tree$table)\n",
        "diag<-diag(df_tree$table)\n",
        "rowsums <- apply(df_tree$table, 1, sum)\n",
        "colsums <- apply(df_tree$table, 2, sum)\n",
        "tree_recall<-diag / colsums\n",
        "tree_precision<- diag / rowsums \n",
        "tree_f<-2 * tree_precision * tree_recall / (tree_precision + tree_recall)\n",
        "data.frame(tree_precision, tree_recall, tree_f)\n",
        "endTime <- Sys.time()\n",
        "print(endTime - startTime)"
      ],
      "metadata": {
        "id": "0VL0SEYMNkgm"
      },
      "execution_count": null,
      "outputs": []
    },
    {
      "cell_type": "code",
      "source": [
        "startTime <- Sys.time()\n",
        "rf_cancer<-randomForest(diagnosis~.,trainData,mtry=6,importance=TRUE)\n",
        "ypred_rf<-predict(rf_cancer,test.x)\n",
        "df_tree2<-confusionMatrix(data=factor(ypred_rf), reference =factor(test.y))\n",
        "df_tree2\n",
        "n <-sum(df_tree2$table)\n",
        "nc<-nrow(df_tree2$table)\n",
        "diag<-diag(df_tree2$table)\n",
        "rowsums <- apply(df_tree2$table, 1, sum)\n",
        "colsums <- apply(df_tree2$table, 2, sum)\n",
        "tree_recall<-diag / colsums\n",
        "tree_precision<- diag / rowsums \n",
        "tree_f<-2 * tree_precision * tree_recall / (tree_precision + tree_recall)\n",
        "data.frame(tree_precision, tree_recall, tree_f)\n",
        "endTime <- Sys.time()\n",
        "print(endTime - startTime)\n",
        "varImpPlot(rf_cancer)\n",
        "\n"
      ],
      "metadata": {
        "id": "F0OZY8pzwCic"
      },
      "execution_count": null,
      "outputs": []
    }
  ],
  "metadata": {
    "colab": {
      "collapsed_sections": [],
      "provenance": []
    },
    "kernelspec": {
      "display_name": "R",
      "name": "ir"
    },
    "language_info": {
      "name": "R"
    }
  },
  "nbformat": 4,
  "nbformat_minor": 0
}
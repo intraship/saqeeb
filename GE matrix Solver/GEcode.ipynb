{
 "cells": [
  {
   "cell_type": "code",
   "execution_count": 2,
   "id": "1a517707-95a8-4d87-afe3-b8be6198f4cf",
   "metadata": {},
   "outputs": [
    {
     "name": "stdout",
     "output_type": "stream",
     "text": [
      "Original matrix\n",
      "1 4 2 \n",
      "\n",
      "0 1 -4 \n",
      "\n",
      "2 7 9 \n",
      "\n",
      "\n",
      "The Row-echelon form: \n",
      "1.0 4.0 2.0 \n",
      "\n",
      "0.0 1.0 -4.0 \n",
      "\n",
      "0.0 0.0 1.0 \n",
      "\n"
     ]
    }
   ],
   "source": [
    "def replace_rows(mat, i, j, alpha):\n",
    "    for idx in range(len(mat[i])):\n",
    "        mat[i][idx] += alpha * mat[j][idx]\n",
    "\n",
    "\n",
    "def inter_rows(mat, i, j):\n",
    "    for idx in range(len(mat[i])):\n",
    "        mat[i][idx], mat[j][idx] = mat[j][idx], mat[i][idx]\n",
    "\n",
    "\n",
    "def elim_rows(mat, i, alpha):\n",
    "    for idx in range(len(mat[i])):\n",
    "        mat[i][idx] *= alpha\n",
    "\n",
    "\n",
    "def gauss_elimination(mat):\n",
    "\n",
    "    rows = len(mat)\n",
    "    cols = len(mat[0])\n",
    "    visited_pivot = 0  \n",
    "    for col in range(cols):\n",
    "        pivot = visited_pivot  \n",
    "        while pivot < rows and mat[pivot][col] == 0:\n",
    "            pivot += 1\n",
    "        if pivot < rows:\n",
    "            inter_rows(mat, pivot, visited_pivot)\n",
    "            pivot = visited_pivot\n",
    "            elim_rows(mat, pivot, 1 / mat[pivot][col])\n",
    "            for i in range(pivot + 1, rows):\n",
    "                col_val = mat[i][col]\n",
    "                replace_rows(mat, i, pivot, -col_val)\n",
    "        # increment visited pivot by 1\n",
    "        visited_pivot += 1\n",
    "    return mat\n",
    "\n",
    "\n",
    "def print_matrix(mat):\n",
    "    for i in range(len(mat)):\n",
    "        for j in range(len(mat[i])):\n",
    "            print(mat[i][j], end=' ')\n",
    "        print('\\n')\n",
    "\n",
    "\n",
    "if __name__ == '__main__':\n",
    "    print(\"Original matrix\")\n",
    "    A = [[1, 4, 2], [0, 1, -4], [2, 7, 9]]\n",
    "    print_matrix(A)\n",
    "    print()\n",
    "    B = gauss_elimination(A)\n",
    "    print(\"The Row-echelon form: \")\n",
    "    print_matrix(B)"
   ]
  },
  {
   "cell_type": "code",
   "execution_count": null,
   "id": "23cfe2d8-5a93-44df-b5b6-779fce924310",
   "metadata": {},
   "outputs": [],
   "source": []
  }
 ],
 "metadata": {
  "kernelspec": {
   "display_name": "Python 3 (ipykernel)",
   "language": "python",
   "name": "python3"
  },
  "language_info": {
   "codemirror_mode": {
    "name": "ipython",
    "version": 3
   },
   "file_extension": ".py",
   "mimetype": "text/x-python",
   "name": "python",
   "nbconvert_exporter": "python",
   "pygments_lexer": "ipython3",
   "version": "3.9.7"
  }
 },
 "nbformat": 4,
 "nbformat_minor": 5
}

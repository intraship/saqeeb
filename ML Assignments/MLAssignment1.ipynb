{
 "cells": [
  {
   "cell_type": "markdown",
   "metadata": {
    "id": "rKkAg6z5MqMZ"
   },
   "source": [
    "# New Jersey Institute of Technology\n",
    "# CS 675: Machine Learning, Spring 2022\n",
    "\n",
    "# Assignment 1\n",
    "*   Date: 1/25/2022\n",
    "*   **Due: 2/8/2022, 11:59pm EST**\n",
    "*   Total possible points: 20. \n",
    "\n",
    "## Instructions\n",
    "*   Copy it locally or edit it as a copy in your Google-Colab (File-->Save in Drive). \n",
    "*   Delivery Method: Upload a Jupyter notebook following the suggested name convention. \n",
    "*   Note: you can access the file only with your NJIT-Google-Account.  Private accounts will not have access. \n",
    "*   Submit your solution on CANVAS. Late submissions are penalized with 10% of total points per day. \n",
    "\n",
    "## Academic Policy\n",
    "A set of ethical principles governing this course:\n",
    "*   It is okay to share information and knowledge with your \n",
    "colleagues, but\n",
    "*   **It is not okay** to share the code,\n",
    "*   **It is not okay** to post or give out your code to others (also in the future!),\n",
    "*   **It is not okay** to use code from others (also from the past) for this Assignment!\n",
    "\n",
    "**Any noticed disregard of these principles will be sanctioned** as per the Academic Integrity Policy of NJIT (http://www5.njit.edu/policies/sites/policies/files/academic-integrity-code.pdf).\n",
    "\n",
    "## Late Policy\n",
    "Late submissions are penalized with 10% of total points per day. Max late due is 2/13/2022. \n"
   ]
  },
  {
   "cell_type": "markdown",
   "metadata": {
    "id": "e8SKy70z2osa"
   },
   "source": [
    "----\n",
    "\n",
    "<i>General instructions for this and future notebooks:</i> \n",
    "1. To run a cell and move to the next cell: Hold down <strong>Shift</strong> and press <strong>Enter</strong>\n",
    "2. To run a cell and stay in the same cell: Hold down <b>Ctrl</b> and press <b>Enter</b>\n",
    "3. Use the arrow up and down to navigate or do it manually as you prefer\n",
    "4. Escape from typing a cell: Hit <b>Esc</b>\n",
    "\n",
    "---------\n"
   ]
  },
  {
   "cell_type": "markdown",
   "metadata": {
    "id": "ly4laI7pfGJO"
   },
   "source": [
    "# Assignment 1\n",
    "The first assignment walks you through some elements of Python/Numpy. It is meant mostly to familiarize you with Jypyter notebooks. It also lets you to load and explore a data set. \n",
    "Write code in the cells below each task. \n",
    "\n"
   ]
  },
  {
   "cell_type": "markdown",
   "metadata": {
    "id": "8owP8xk_yi6h"
   },
   "source": [
    "-----------------------"
   ]
  },
  {
   "cell_type": "code",
   "execution_count": 1,
   "metadata": {
    "id": "e-oPmxrSfGLF"
   },
   "outputs": [],
   "source": [
    "import numpy as np\n",
    "from numpy import array\n",
    "from numpy import matmul\n",
    "from numpy.linalg import inv\n",
    "from numpy.random import rand\n",
    "from scipy import stats\n",
    "import matplotlib.pyplot as plt\n"
   ]
  },
  {
   "cell_type": "markdown",
   "metadata": {
    "id": "Vbt-t8rpEP7R"
   },
   "source": [
    "-----"
   ]
  },
  {
   "cell_type": "markdown",
   "metadata": {
    "id": "pThX3EGLErq8"
   },
   "source": [
    "# Part 1: Linear Equations and Regression"
   ]
  },
  {
   "cell_type": "markdown",
   "metadata": {
    "id": "77y-VVzxfGLH"
   },
   "source": [
    "---\n",
    "## Task 1\n",
    "\n",
    "Write code for solving a system of four linear equations with 4 unknowns. Solve the following problem: <br>\n",
    "$x_1 + 2x_2 + 3x_3 + 5x_4 = 10$<br>\n",
    "$4x_1 + 4x_2 + 5x_3 + 3x_4=4$<br>\n",
    "$3x_1 + 8x_2 + 9x_3 + x_4= 3$<br>\n",
    "$x_1 + x_2 + 3x_3 = 7$<br><br>\n",
    "\n",
    "Afterwards, check results with allclose( ) function. And print out x.\n",
    "\n",
    "<b>Expected result</b><br>x = array([-1.17857143, -3.875     ,  4.01785714,  1.375     ])\n"
   ]
  },
  {
   "cell_type": "code",
   "execution_count": 2,
   "metadata": {
    "id": "A0wIhEbW04b7"
   },
   "outputs": [
    {
     "name": "stdout",
     "output_type": "stream",
     "text": [
      "[-1.17857143 -3.875       4.01785714  1.375     ]\n"
     ]
    }
   ],
   "source": [
    "# your code goes here:\n",
    "A = np.array([[1, 2, 3, 5], \n",
    "              [4, 4, 5, 3], \n",
    "              [3, 8, 9, 1],\n",
    "              [1, 1, 3, 0]])\n",
    "y = np.array([10, 4, 3, 7])\n",
    "\n",
    "x = np.linalg.solve(A, y)\n",
    "print(x)"
   ]
  },
  {
   "cell_type": "code",
   "execution_count": 3,
   "metadata": {
    "id": "nO4O7mrRBdeu"
   },
   "outputs": [],
   "source": [
    "# check results with allclose() function\n",
    "# your code goes here: \n"
   ]
  },
  {
   "cell_type": "markdown",
   "metadata": {
    "id": "4wnwNTsS-FNN"
   },
   "source": [
    "\n",
    "\n",
    "---\n",
    "\n",
    "\n",
    "## Task 2\n",
    "Linear regression. The code below creates a random scattering of datapoints around a line. \n",
    "1. Use the normal equations to compute a line which has the best fit to all points \n",
    "in the least-quares sense. \n",
    "2. Next, plot the fitted line and the data points. \n"
   ]
  },
  {
   "cell_type": "code",
   "execution_count": 4,
   "metadata": {
    "colab": {
     "base_uri": "https://localhost:8080/",
     "height": 265
    },
    "executionInfo": {
     "elapsed": 769,
     "status": "ok",
     "timestamp": 1612211362799,
     "user": {
      "displayName": "Przemyslaw Musialski",
      "photoUrl": "",
      "userId": "18232925994888962818"
     },
     "user_tz": 300
    },
    "id": "GTQVOI7n-QXt",
    "outputId": "8624408f-14ff-489f-961b-48c86c6815b6"
   },
   "outputs": [
    {
     "data": {
      "image/png": "[encoded data removed]",
      "text/plain": [
       "<Figure size 432x288 with 1 Axes>"
      ]
     },
     "metadata": {
      "needs_background": "light"
     },
     "output_type": "display_data"
    }
   ],
   "source": [
    "# generate data on a line perturbed with some noise\n",
    "noise_margin= 0.76\n",
    "\n",
    "# w[0] is random constant term (offset from origin)\n",
    "# w[1] is random linear term (slope)\n",
    "w = rand(2,1) \n",
    "x = np.linspace(-5,5,20)\n",
    "y = w[0] + w[1]*x + noise_margin * rand(len(x))\n",
    "\n",
    "# create the design matrix X: the x data, and add a column of ones for the constant term\n",
    "X = np.column_stack( [np.ones([len(x), 1]), x.reshape(-1, 1)] )\n",
    "\n",
    "# visualize the data\n",
    "plt.scatter(x, y)\n",
    "plt.show()"
   ]
  },
  {
   "cell_type": "code",
   "execution_count": 5,
   "metadata": {
    "colab": {
     "base_uri": "https://localhost:8080/",
     "height": 265
    },
    "executionInfo": {
     "elapsed": 779,
     "status": "ok",
     "timestamp": 1612211375343,
     "user": {
      "displayName": "Przemyslaw Musialski",
      "photoUrl": "",
      "userId": "18232925994888962818"
     },
     "user_tz": 300
    },
    "id": "M9LEs2JA_hH4",
    "outputId": "aac3c2c9-20b8-4c53-b479-4d29402d4b0c"
   },
   "outputs": [
    {
     "data": {
      "image/png": "[encoded data removed]",
      "text/plain": [
       "<Figure size 432x288 with 1 Axes>"
      ]
     },
     "metadata": {
      "needs_background": "light"
     },
     "output_type": "display_data"
    }
   ],
   "source": [
    "# your code goes here:\n",
    "a, b = np.polyfit(x, y, 1)\n",
    "\n",
    "plt.scatter(x, y)\n",
    "plt.plot(x, a*x+b)\n",
    "plt.show()\n"
   ]
  },
  {
   "cell_type": "markdown",
   "metadata": {
    "id": "6jdQmQyhS540"
   },
   "source": [
    "-----\n"
   ]
  },
  {
   "cell_type": "markdown",
   "metadata": {
    "id": "dwkiT0HxE6cx"
   },
   "source": [
    "# Part 2: Exploring a Data Set\n"
   ]
  },
  {
   "cell_type": "markdown",
   "metadata": {
    "id": "pLPCrSbESmEE"
   },
   "source": [
    "## Loading the data set"
   ]
  },
  {
   "cell_type": "code",
   "execution_count": 6,
   "metadata": {
    "colab": {
     "base_uri": "https://localhost:8080/"
    },
    "executionInfo": {
     "elapsed": 990,
     "status": "ok",
     "timestamp": 1612208596344,
     "user": {
      "displayName": "Przemyslaw Musialski",
      "photoUrl": "",
      "userId": "18232925994888962818"
     },
     "user_tz": 300
    },
    "id": "yJ9yDB9ufGLL",
    "outputId": "8e7f03a5-96d0-4954-a522-69781a81a56d"
   },
   "outputs": [
    {
     "name": "stdout",
     "output_type": "stream",
     "text": [
      "(506, 13)\n",
      "['CRIM' 'ZN' 'INDUS' 'CHAS' 'NOX' 'RM' 'AGE' 'DIS' 'RAD' 'TAX' 'PTRATIO'\n",
      " 'B' 'LSTAT']\n"
     ]
    }
   ],
   "source": [
    "from sklearn.datasets import load_boston\n",
    "ds = load_boston()\n",
    "samples, label, feature_names = ds.data, ds.target, ds.feature_names\n",
    "print(samples.shape)\n",
    "print(feature_names)"
   ]
  },
  {
   "cell_type": "code",
   "execution_count": 7,
   "metadata": {
    "colab": {
     "base_uri": "https://localhost:8080/"
    },
    "executionInfo": {
     "elapsed": 763,
     "status": "ok",
     "timestamp": 1612208599810,
     "user": {
      "displayName": "Przemyslaw Musialski",
      "photoUrl": "",
      "userId": "18232925994888962818"
     },
     "user_tz": 300
    },
    "id": "635Xsy-CfGLO",
    "outputId": "bb759966-c03c-4380-c130-279c1b3e1ace"
   },
   "outputs": [
    {
     "name": "stdout",
     "output_type": "stream",
     "text": [
      ".. _boston_dataset:\n",
      "\n",
      "Boston house prices dataset\n",
      "---------------------------\n",
      "\n",
      "**Data Set Characteristics:**  \n",
      "\n",
      "    :Number of Instances: 506 \n",
      "\n",
      "    :Number of Attributes: 13 numeric/categorical predictive. Median Value (attribute 14) is usually the target.\n",
      "\n",
      "    :Attribute Information (in order):\n",
      "        - CRIM     per capita crime rate by town\n",
      "        - ZN       proportion of residential land zoned for lots over 25,000 sq.ft.\n",
      "        - INDUS    proportion of non-retail business acres per town\n",
      "        - CHAS     Charles River dummy variable (= 1 if tract bounds river; 0 otherwise)\n",
      "        - NOX      nitric oxides concentration (parts per 10 million)\n",
      "        - RM       average number of rooms per dwelling\n",
      "        - AGE      proportion of owner-occupied units built prior to 1940\n",
      "        - DIS      weighted distances to five Boston employment centres\n",
      "        - RAD      index of accessibility to radial highways\n",
      "        - TAX      full-value property-tax rate per $10,000\n",
      "        - PTRATIO  pupil-teacher ratio by town\n",
      "        - B        1000(Bk - 0.63)^2 where Bk is the proportion of black people by town\n",
      "        - LSTAT    % lower status of the population\n",
      "        - MEDV     Median value of owner-occupied homes in $1000's\n",
      "\n",
      "    :Missing Attribute Values: None\n",
      "\n",
      "    :Creator: Harrison, D. and Rubinfeld, D.L.\n",
      "\n",
      "This is a copy of UCI ML housing dataset.\n",
      "https://archive.ics.uci.edu/ml/machine-learning-databases/housing/\n",
      "\n",
      "\n",
      "This dataset was taken from the StatLib library which is maintained at Carnegie Mellon University.\n",
      "\n",
      "The Boston house-price data of Harrison, D. and Rubinfeld, D.L. 'Hedonic\n",
      "prices and the demand for clean air', J. Environ. Economics & Management,\n",
      "vol.5, 81-102, 1978.   Used in Belsley, Kuh & Welsch, 'Regression diagnostics\n",
      "...', Wiley, 1980.   N.B. Various transformations are used in the table on\n",
      "pages 244-261 of the latter.\n",
      "\n",
      "The Boston house-price data has been used in many machine learning papers that address regression\n",
      "problems.   \n",
      "     \n",
      ".. topic:: References\n",
      "\n",
      "   - Belsley, Kuh & Welsch, 'Regression diagnostics: Identifying Influential Data and Sources of Collinearity', Wiley, 1980. 244-261.\n",
      "   - Quinlan,R. (1993). Combining Instance-Based and Model-Based Learning. In Proceedings on the Tenth International Conference of Machine Learning, 236-243, University of Massachusetts, Amherst. Morgan Kaufmann.\n",
      "\n"
     ]
    }
   ],
   "source": [
    "# Data description\n",
    "print(ds.DESCR)"
   ]
  },
  {
   "cell_type": "code",
   "execution_count": 8,
   "metadata": {
    "colab": {
     "base_uri": "https://localhost:8080/"
    },
    "executionInfo": {
     "elapsed": 776,
     "status": "ok",
     "timestamp": 1612208605187,
     "user": {
      "displayName": "Przemyslaw Musialski",
      "photoUrl": "",
      "userId": "18232925994888962818"
     },
     "user_tz": 300
    },
    "id": "rR8jIWSafGLR",
    "outputId": "d2064608-9a90-4958-8335-53e9013764f4"
   },
   "outputs": [
    {
     "data": {
      "text/plain": [
       "False"
      ]
     },
     "execution_count": 8,
     "metadata": {},
     "output_type": "execute_result"
    }
   ],
   "source": [
    "# check to see if there is any null data\n",
    "np.isnan(np.sum(samples))"
   ]
  },
  {
   "cell_type": "code",
   "execution_count": 9,
   "metadata": {
    "id": "QMjtimPhfGLT"
   },
   "outputs": [],
   "source": [
    "# set print options to make things look nicer\n",
    "np.set_printoptions(suppress=True, linewidth=125)"
   ]
  },
  {
   "cell_type": "code",
   "execution_count": 10,
   "metadata": {
    "colab": {
     "base_uri": "https://localhost:8080/"
    },
    "executionInfo": {
     "elapsed": 762,
     "status": "ok",
     "timestamp": 1612208617901,
     "user": {
      "displayName": "Przemyslaw Musialski",
      "photoUrl": "",
      "userId": "18232925994888962818"
     },
     "user_tz": 300
    },
    "id": "hwXoQA_rfGLY",
    "outputId": "f931aee3-2562-469b-9a4f-0c34c9928164"
   },
   "outputs": [
    {
     "name": "stdout",
     "output_type": "stream",
     "text": [
      "\t\tCRIM\tZN\tINDUS\tCHAS\tNOX\tRM\tAGE\tDIS\tRAD\tTAX\tPTRATIO\tB\tLSTAT\n",
      "  median [\t0.3\t0.0\t9.7\t0.0\t0.5\t6.2\t77.5\t3.2\t5.0\t330.0\t19.0\t391.4\t11.4\t]\n",
      "variance [\t73.8\t542.9\t47.0\t0.1\t0.0\t0.5\t790.8\t4.4\t75.7\t28348.6\t4.7\t8318.3\t50.9\t]\n"
     ]
    }
   ],
   "source": [
    "# find median, variance of the data and put it out in nice looking format\n",
    "median = np.round(np.median(samples, axis=0), decimals=1)\n",
    "variance = np.round(np.var(samples, axis=0), decimals=1)\n",
    "basic_stats = np.vstack((median, variance))\n",
    "basic_stats_label = ['  median','variance']\n",
    "print('\\t\\tCRIM\\tZN\\tINDUS\\tCHAS\\tNOX\\tRM\\tAGE\\tDIS\\tRAD\\tTAX\\tPTRATIO\\tB\\tLSTAT')\n",
    "for basic_stats_label, row in zip(basic_stats_label, basic_stats):\n",
    "    print('{} [\\t{}]'.format(basic_stats_label,\"\".join('%s\\t'%i for i in row)))"
   ]
  },
  {
   "cell_type": "markdown",
   "metadata": {
    "id": "VS5mKl2lfGLb"
   },
   "source": [
    "---\n",
    "## Task 3\n",
    "1. Use function <code>stats.describe</code> to retrieve the `max` `min` and `average` of samples then display it as in the expected output similar to the output for `median` and `variance` above). \n",
    "<br><br>\n"
   ]
  },
  {
   "cell_type": "code",
   "execution_count": 11,
   "metadata": {
    "colab": {
     "base_uri": "https://localhost:8080/",
     "height": 390
    },
    "executionInfo": {
     "elapsed": 1088,
     "status": "ok",
     "timestamp": 1612208700884,
     "user": {
      "displayName": "Przemyslaw Musialski",
      "photoUrl": "",
      "userId": "18232925994888962818"
     },
     "user_tz": 300
    },
    "id": "FzOg-yJwfGLe",
    "outputId": "bbceba22-15b1-4374-c505-cc40cf75faba"
   },
   "outputs": [
    {
     "name": "stdout",
     "output_type": "stream",
     "text": [
      "\t\tCRIM\tZN\tINDUS\tCHAS\tNOX\tRM\tAGE\tDIS\tRAD\tTAX\tPTRATIO\tB\tLSTAT\n",
      "  median [\t0.3\t0.0\t9.7\t0.0\t0.5\t6.2\t77.5\t3.2\t5.0\t330.0\t19.0\t391.4\t11.4\t]\n",
      "variance [\t73.8\t542.9\t47.0\t0.1\t0.0\t0.5\t790.8\t4.4\t75.7\t28348.6\t4.7\t8318.3\t50.9\t]\n",
      "max [\t89.0\t100.0\t27.7\t1.0\t0.9\t8.8\t100.0\t12.1\t24.0\t711.0\t22.0\t396.9\t38.0\t]\n",
      "min [\t0.0\t0.0\t0.5\t0.0\t0.4\t3.6\t2.9\t1.1\t1.0\t187.0\t12.6\t0.3\t1.7\t]\n",
      "mean [\t3.6\t11.4\t11.1\t0.1\t0.6\t6.3\t68.6\t3.8\t9.5\t408.2\t18.5\t356.7\t12.7\t]\n"
     ]
    }
   ],
   "source": [
    "import matplotlib.pyplot as plt\n",
    "\n",
    "max =  np.round(np.max(samples, axis=0), decimals=1)\n",
    "min = np.round(np.min(samples, axis=0), decimals=1)\n",
    "mean = np.round(np.average(samples, axis=0), decimals=1)\n",
    "basic_stats = np.vstack((median, variance, max, min, mean))\n",
    "basic_stats_label = ['  median','variance', 'max', 'min', 'mean']\n",
    "print('\\t\\tCRIM\\tZN\\tINDUS\\tCHAS\\tNOX\\tRM\\tAGE\\tDIS\\tRAD\\tTAX\\tPTRATIO\\tB\\tLSTAT')\n",
    "for basic_stats_label, row in zip(basic_stats_label, basic_stats):\n",
    "    print('{} [\\t{}]'.format(basic_stats_label,\"\".join('%s\\t'%i for i in row)))"
   ]
  },
  {
   "cell_type": "markdown",
   "metadata": {
    "id": "53VG7TETfGLg"
   },
   "source": [
    "\n",
    "\n",
    "---\n",
    "\n",
    "\n",
    "## Task 4\n",
    "\n",
    "Plot out the histogram of another feature of the dataset that you are interested in, give the plot a title and also print out the bin sizes \n",
    "\n"
   ]
  },
  {
   "cell_type": "code",
   "execution_count": 12,
   "metadata": {
    "id": "MALZsy3AfGLg"
   },
   "outputs": [
    {
     "data": {
      "image/png": "[encoded data removed]",
      "text/plain": [
       "<Figure size 432x288 with 1 Axes>"
      ]
     },
     "metadata": {
      "needs_background": "light"
     },
     "output_type": "display_data"
    },
    {
     "name": "stdout",
     "output_type": "stream",
     "text": [
      "Bin sizes: [36. 74. 73. 71. 59. 53. 49. 25. 20. 15. 11. 11.  3.  4.  2.]\n"
     ]
    }
   ],
   "source": [
    "# your code goes here:\n",
    "n, bins, patches = plt.hist(samples[:,12],bins='auto')\n",
    "plt.title('%of lower status of population')\n",
    "plt.show()\n",
    "print('Bin sizes: {}'.format(n))\n",
    "\n"
   ]
  },
  {
   "cell_type": "markdown",
   "metadata": {
    "id": "xCxOpL8kvD1A"
   },
   "source": [
    "---\n",
    "## Task 5"
   ]
  },
  {
   "cell_type": "code",
   "execution_count": 13,
   "metadata": {
    "id": "yTYkJsHgfGLk",
    "tags": []
   },
   "outputs": [
    {
     "data": {
      "text/plain": [
       "array([[  0.00632,  18.     ,   2.31   , ...,  15.3    , 396.9    ,   4.98   ],\n",
       "       [  0.02731,   0.     ,   7.07   , ...,  17.8    , 396.9    ,   9.14   ],\n",
       "       [  0.02729,   0.     ,   7.07   , ...,  17.8    , 392.83   ,   4.03   ],\n",
       "       ...,\n",
       "       [  0.06076,   0.     ,  11.93   , ...,  21.     , 396.9    ,   5.64   ],\n",
       "       [  0.10959,   0.     ,  11.93   , ...,  21.     , 393.45   ,   6.48   ],\n",
       "       [  0.04741,   0.     ,  11.93   , ...,  21.     , 396.9    ,   7.88   ]])"
      ]
     },
     "execution_count": 13,
     "metadata": {},
     "output_type": "execute_result"
    }
   ],
   "source": [
    "def house_with_defined_age(dataset,age):\n",
    "    '''This function will return indices of all house with proportion of owner-occupied units built prior to 1940 greater than age%'''\n",
    "    ids = []\n",
    "    for id, record in enumerate(dataset):\n",
    "        if record[6]>age:\n",
    "            ids.append(id)\n",
    "    return ids\n",
    "\n",
    "    \n",
    "# list out all records with unites built prior to 1940 greater than 50%\n",
    "samples[house_with_defined_age(samples,50)]\n"
   ]
  },
  {
   "cell_type": "markdown",
   "metadata": {
    "id": "N3zhYgVKfGLm"
   },
   "source": [
    "\n",
    "\n",
    "Write a function that: \n",
    "* takes as input a given dataset and two numbers $a$ and $b$. \n",
    "* returns the ids of houses that tax is either less than $a$ or more than $b$. \n",
    "\n",
    "Demonstrate how the function runs with two specific inputs $a$ and $b$ of your choice. \n",
    "\n",
    "\n"
   ]
  },
  {
   "cell_type": "code",
   "execution_count": 14,
   "metadata": {
    "colab": {
     "base_uri": "https://localhost:8080/"
    },
    "executionInfo": {
     "elapsed": 769,
     "status": "ok",
     "timestamp": 1612208908341,
     "user": {
      "displayName": "Przemyslaw Musialski",
      "photoUrl": "",
      "userId": "18232925994888962818"
     },
     "user_tz": 300
    },
    "id": "6_0OKNXtfGLn",
    "outputId": "c6b11cc6-df16-4e52-c928-5738a2f7b0d4"
   },
   "outputs": [
    {
     "data": {
      "text/plain": [
       "array([[  0.00632,  18.     ,   2.31   , ...,  15.3    , 396.9    ,   4.98   ],\n",
       "       [  0.02731,   0.     ,   7.07   , ...,  17.8    , 396.9    ,   9.14   ],\n",
       "       [  0.02729,   0.     ,   7.07   , ...,  17.8    , 392.83   ,   4.03   ],\n",
       "       ...,\n",
       "       [  0.06076,   0.     ,  11.93   , ...,  21.     , 396.9    ,   5.64   ],\n",
       "       [  0.10959,   0.     ,  11.93   , ...,  21.     , 393.45   ,   6.48   ],\n",
       "       [  0.04741,   0.     ,  11.93   , ...,  21.     , 396.9    ,   7.88   ]])"
      ]
     },
     "execution_count": 14,
     "metadata": {},
     "output_type": "execute_result"
    }
   ],
   "source": [
    "# your code goes here\n",
    "def house_tax_lessthan_a_morethan_b(dataset,a, b):\n",
    "    '''This function will return indices of all house that are taxed either less than a or more than b'''\n",
    "    ids = []\n",
    "    for id, record in enumerate(dataset):\n",
    "        if record[9] > a or record[9] > b:\n",
    "            ids.append(id)\n",
    "    return ids\n",
    "\n",
    "    \n",
    "# list out all records with unites built prior to 1940 greater than 50%\n",
    "samples[house_tax_lessthan_a_morethan_b(samples,200,200)]\n",
    "\n",
    "\n",
    "\n"
   ]
  }
 ],
 "metadata": {
  "colab": {
   "name": "FirstName-LastName-CS675-S2022-A1.ipynb",
   "provenance": []
  },
  "kernelspec": {
   "display_name": "Python 3 (ipykernel)",
   "language": "python",
   "name": "python3"
  },
  "language_info": {
   "codemirror_mode": {
    "name": "ipython",
    "version": 3
   },
   "file_extension": ".py",
   "mimetype": "text/x-python",
   "name": "python",
   "nbconvert_exporter": "python",
   "pygments_lexer": "ipython3",
   "version": "3.9.7"
  }
 },
 "nbformat": 4,
 "nbformat_minor": 4
}

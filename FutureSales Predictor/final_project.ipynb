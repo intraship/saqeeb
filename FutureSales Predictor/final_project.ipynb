{
 "cells": [
  {
   "cell_type": "markdown",
   "id": "ed11c943-0f59-4946-bef5-10d51e9ed22c",
   "metadata": {
    "tags": []
   },
   "source": [
    "# PREDICT FUTURE SALES : FINAL PROJECT\n",
    " \n",
    "*By Muhammad Saqeeb, Cindy Lee*\n"
   ]
  },
  {
   "cell_type": "markdown",
   "id": "ef737ea8-2801-46e8-8545-ad9668422886",
   "metadata": {},
   "source": [
    "1. Import Dataset & Libraries\n",
    "2. Data Exploration\n",
    "3. Prediction\n",
    "4. Deciding Lagging Features\n",
    "5. Improvements\n",
    "6. "
   ]
  },
  {
   "cell_type": "markdown",
   "id": "8cda0968-e8aa-4c27-a006-b77f3656873f",
   "metadata": {
    "tags": []
   },
   "source": [
    "## Import Dataset & Libraries"
   ]
  },
  {
   "cell_type": "code",
   "execution_count": 1,
   "id": "d75f3429-bf3e-4727-99a2-a315b4943679",
   "metadata": {},
   "outputs": [
    {
     "name": "stdout",
     "output_type": "stream",
     "text": [
      "Requirement already satisfied: xgboost in c:\\programdata\\anaconda3\\lib\\site-packages (1.6.1)\n",
      "Requirement already satisfied: numpy in c:\\programdata\\anaconda3\\lib\\site-packages (from xgboost) (1.21.5)\n",
      "Requirement already satisfied: scipy in c:\\programdata\\anaconda3\\lib\\site-packages (from xgboost) (1.7.3)\n",
      "Requirement already satisfied: missingno in c:\\programdata\\anaconda3\\lib\\site-packages (0.5.1)\n",
      "Requirement already satisfied: seaborn in c:\\programdata\\anaconda3\\lib\\site-packages (from missingno) (0.11.2)\n",
      "Requirement already satisfied: numpy in c:\\programdata\\anaconda3\\lib\\site-packages (from missingno) (1.21.5)\n",
      "Requirement already satisfied: scipy in c:\\programdata\\anaconda3\\lib\\site-packages (from missingno) (1.7.3)\n",
      "Requirement already satisfied: matplotlib in c:\\programdata\\anaconda3\\lib\\site-packages (from missingno) (3.5.1)\n",
      "Requirement already satisfied: cycler>=0.10 in c:\\programdata\\anaconda3\\lib\\site-packages (from matplotlib->missingno) (0.11.0)\n",
      "Requirement already satisfied: packaging>=20.0 in c:\\programdata\\anaconda3\\lib\\site-packages (from matplotlib->missingno) (21.3)\n",
      "Requirement already satisfied: pillow>=6.2.0 in c:\\programdata\\anaconda3\\lib\\site-packages (from matplotlib->missingno) (9.0.1)\n",
      "Requirement already satisfied: fonttools>=4.22.0 in c:\\programdata\\anaconda3\\lib\\site-packages (from matplotlib->missingno) (4.25.0)\n",
      "Requirement already satisfied: kiwisolver>=1.0.1 in c:\\programdata\\anaconda3\\lib\\site-packages (from matplotlib->missingno) (1.3.2)\n",
      "Requirement already satisfied: pyparsing>=2.2.1 in c:\\programdata\\anaconda3\\lib\\site-packages (from matplotlib->missingno) (3.0.4)\n",
      "Requirement already satisfied: python-dateutil>=2.7 in c:\\programdata\\anaconda3\\lib\\site-packages (from matplotlib->missingno) (2.8.2)\n",
      "Requirement already satisfied: six>=1.5 in c:\\programdata\\anaconda3\\lib\\site-packages (from python-dateutil>=2.7->matplotlib->missingno) (1.16.0)\n",
      "Requirement already satisfied: pandas>=0.23 in c:\\programdata\\anaconda3\\lib\\site-packages (from seaborn->missingno) (1.4.2)\n",
      "Requirement already satisfied: pytz>=2020.1 in c:\\programdata\\anaconda3\\lib\\site-packages (from pandas>=0.23->seaborn->missingno) (2021.3)\n"
     ]
    }
   ],
   "source": [
    "!pip install xgboost\n",
    "!pip install missingno \n",
    "\n"
   ]
  },
  {
   "cell_type": "code",
   "execution_count": 2,
   "id": "bc88bc83-0f25-4d44-a9a2-c54740f48fe6",
   "metadata": {
    "jupyter": {
     "source_hidden": true
    },
    "tags": []
   },
   "outputs": [
    {
     "data": {
      "text/plain": [
       "sys.version_info(major=3, minor=9, micro=12, releaselevel='final', serial=0)"
      ]
     },
     "execution_count": 2,
     "metadata": {},
     "output_type": "execute_result"
    }
   ],
   "source": [
    "# System pacakges\n",
    "import os\n",
    "import sys\n",
    "import re\n",
    "import gc\n",
    "import time\n",
    "import datetime\n",
    "import warnings\n",
    "warnings.simplefilter(\"ignore\")\n",
    "\n",
    "# Data pacakges\n",
    "import pickle\n",
    "import numpy as np\n",
    "import pandas as pd\n",
    "from itertools import product\n",
    "import seaborn as sns\n",
    "import matplotlib.pyplot as plt\n",
    "\n",
    "# Modelling pacakges\n",
    "from sklearn import datasets, linear_model\n",
    "from sklearn.metrics import mean_squared_error\n",
    "from sklearn import preprocessing\n",
    "from sklearn.ensemble import RandomForestRegressor\n",
    "import xgboost as xgb\n",
    "from xgboost import XGBRegressor\n",
    "from xgboost import plot_importance\n",
    "\n",
    "# Pacakge settings\n",
    "%matplotlib inline\n",
    "sns.set(style=\"darkgrid\")\n",
    "warnings.filterwarnings(\"ignore\")\n",
    "pd.set_option('display.max_rows', 500)\n",
    "pd.set_option('display.max_columns', 100)\n",
    "pd.set_option('display.float_format', lambda x: '%.2f' % x)\n",
    "sys.version_info"
   ]
  },
  {
   "cell_type": "code",
   "execution_count": 5,
   "id": "0351944c-3123-4db6-adfd-6db3e64ec98e",
   "metadata": {},
   "outputs": [
    {
     "name": "stdout",
     "output_type": "stream",
     "text": [
      "['.ipynb_checkpoints', '675', 'Behavior', 'csv', 'DataR', 'final (1).ipynb', 'hill.JPG', 'hill_line.JPG', 'HRM 601 Exam 2 Summer 22.docx', 'items.csv', 'items.csv.zip', 'item_categories.csv', 'LinkedIn-Easy-Apply-Bot-master.zip', 'linkedin_bot', 'ln2b-1.JPG', 'midterm.ipynb', 'old stuff', 'sales_train.csv', 'sales_train.csv.zip', 'sample_submission.csv', 'sample_submission.csv.zip', 'saqresume.pdf', 'shops.csv', 'software', 'test.csv', 'test.csv.zip']\n"
     ]
    }
   ],
   "source": [
    "print (os.listdir('../data'))\n"
   ]
  },
  {
   "cell_type": "code",
   "execution_count": 9,
   "id": "d4dafc02-2ad3-4db0-9b01-e4f0b6f792ae",
   "metadata": {},
   "outputs": [],
   "source": [
    "train = pd.read_csv('..\\\\data\\\\sales_train.csv')\n",
    "shops = pd.read_csv('..\\\\data\\\\shops.csv')\n",
    "items = pd.read_csv('..\\\\data\\\\items.csv')\n",
    "# Drop name to save space\n",
    "items = items.drop('item_name', axis=1)\n",
    "item_cat = pd.read_csv('..\\\\data\\\\item_categories.csv')\n",
    "# Set index to ID to avoid droping it later\n",
    "test = pd.read_csv('..\\\\data\\\\test.csv').set_index('ID')\n",
    "# Add date_block_num = 34\n",
    "test['date_block_num'] = 34\n",
    "submission = pd.read_csv('..\\\\data\\\\sample_submission.csv')\n"
   ]
  },
  {
   "cell_type": "code",
   "execution_count": 10,
   "id": "d3cc8d35-1fc3-4918-9193-f8e1a530346d",
   "metadata": {},
   "outputs": [
    {
     "name": "stdout",
     "output_type": "stream",
     "text": [
      "-------------------------------------------------------\n",
      "train:\n",
      "date: 01.01.2013 ~ 31.12.2014\n",
      "date_block_num: 0 ~ 33\n",
      "shop_id: 0 ~ 59\n",
      "item_id: 0 ~ 22169\n",
      "item_price: -1.0 ~ 307980.0\n",
      "item_cnt_day: -22.0 ~ 2169.0\n",
      "-------------------------------------------------------\n",
      "items:\n",
      "item_id: 0 ~ 22169\n",
      "item_category_id: 0 ~ 83\n",
      "-------------------------------------------------------\n",
      "test:\n",
      "shop_id: 2 ~ 59\n",
      "item_id: 30 ~ 22167\n",
      "date_block_num: 34 ~ 34\n"
     ]
    }
   ],
   "source": [
    "print ('-------------------------------------------------------')\n",
    "print ('train:')\n",
    "for f in train.columns.values:\n",
    "    print ('%s: %s ~ %s' %(f, train[f].min(), train[f].max()))\n",
    "print ('-------------------------------------------------------')\n",
    "print ('items:')\n",
    "for f in items.columns.values:\n",
    "    print ('%s: %s ~ %s' %(f, items[f].min(), items[f].max()))\n",
    "print ('-------------------------------------------------------')\n",
    "print ('test:')\n",
    "for f in test.columns.values:\n",
    "    print ('%s: %s ~ %s' %(f, test[f].min(), test[f].max()))"
   ]
  },
  {
   "cell_type": "markdown",
   "id": "7057e479-fad5-446f-8e19-920068ecf2d0",
   "metadata": {
    "tags": []
   },
   "source": [
    "## Cleaning Data"
   ]
  },
  {
   "cell_type": "code",
   "execution_count": 11,
   "id": "0e008bdf-87b3-41e4-8d03-0aabd6a838fc",
   "metadata": {},
   "outputs": [],
   "source": [
    "def compress_columns(df,columns,keyword,search_type,datatype):\n",
    "    if search_type=='in':\n",
    "        valid_features = [x for x in columns if keyword in x]\n",
    "    elif search_type=='start':\n",
    "        valid_features = [x for x in columns if x.startswith(keyword)]\n",
    "    if len(valid_features):\n",
    "        for f in valid_features:\n",
    "            df[f] = df[f].round().astype(datatype)\n",
    "    return df\n",
    "\n",
    "def data_compression(df):\n",
    "    features = df.columns.values\n",
    "    # Original features\n",
    "    if 'date_block_num' in features:\n",
    "        df['date_block_num'] = df['date_block_num'].astype(np.int8)\n",
    "    if 'shop_id' in features:\n",
    "        df['shop_id'] = df['shop_id'].astype(np.int8)\n",
    "    if 'item_category_id' in features:\n",
    "        df['item_category_id'] = df['item_category_id'].astype(np.int8)\n",
    "    if 'item_id' in features:\n",
    "        df['item_id'] = df['item_id'].astype(np.int16)\n",
    "    if 'item_price' in features:\n",
    "        df['item_price'] = df['item_price'].astype(np.float32)\n",
    "    if 'item_id_avg_item_price' in features:\n",
    "        df['item_id_avg_item_price'] = df['item_id_avg_item_price'].astype(np.float32)\n",
    "        \n",
    "    # Mean encoded features & lag features\n",
    "    df = compress_columns(df,features,'item_id_sum_item_cnt_day','in',np.int16)\n",
    "    df = compress_columns(df,features,'item_id_avg_item_cnt_day','in',np.float16)\n",
    "    \n",
    "    df = compress_columns(df,features,'shop_id_avg_item_price','in',np.float16)\n",
    "    df = compress_columns(df,features,'shop_id_sum_item_cnt_day','in',np.int16)\n",
    "    df = compress_columns(df,features,'shop_id_avg_item_cnt_day','in',np.float16)\n",
    "    \n",
    "    df = compress_columns(df,features,'item_category_id_avg_item_price','in',np.float16)\n",
    "    df = compress_columns(df,features,'item_category_id_sum_item_cnt_day','in',np.int32)\n",
    "    df = compress_columns(df,features,'item_category_id_avg_item_cnt_day','in',np.float16)\n",
    "    \n",
    "    df = compress_columns(df,features,'item_cnt_day','start',np.int16)\n",
    "    return df"
   ]
  },
  {
   "cell_type": "code",
   "execution_count": 12,
   "id": "82ffe95d-b0aa-4175-8ea4-4229f4537ca4",
   "metadata": {},
   "outputs": [],
   "source": [
    "# Compress features according to range\n",
    "train = data_compression(train)\n",
    "items = data_compression(items)\n",
    "test = data_compression(test)"
   ]
  },
  {
   "cell_type": "code",
   "execution_count": 13,
   "id": "0c451645-a17a-4162-8466-3ae400bd4466",
   "metadata": {},
   "outputs": [],
   "source": [
    "# Include Category id\n",
    "train = pd.merge(train,items,on='item_id',how='left')\n",
    "test = pd.merge(test,items, on='item_id', how='left')"
   ]
  },
  {
   "cell_type": "markdown",
   "id": "b433683c-1139-470c-93f4-4bee33bae9bb",
   "metadata": {},
   "source": [
    "### merge duplicated shops"
   ]
  },
  {
   "cell_type": "code",
   "execution_count": 14,
   "id": "3f005385-b70d-42a3-a84b-9a74ee8ca99c",
   "metadata": {},
   "outputs": [],
   "source": [
    "# Якутск Орджоникидзе, 56\n",
    "train.loc[train.shop_id == 0, 'shop_id'] = 57\n",
    "test.loc[test.shop_id == 0, 'shop_id'] = 57\n",
    "# Якутск ТЦ \"Центральный\"\n",
    "train.loc[train.shop_id == 1, 'shop_id'] = 58\n",
    "test.loc[test.shop_id == 1, 'shop_id'] = 58\n",
    "# Жуковский ул. Чкалова 39м²\n",
    "train.loc[train.shop_id == 10, 'shop_id'] = 11\n",
    "test.loc[test.shop_id == 10, 'shop_id'] = 11"
   ]
  },
  {
   "cell_type": "code",
   "execution_count": 16,
   "id": "d3ec6a8c-7e25-4477-93c6-495f103ac327",
   "metadata": {},
   "outputs": [
    {
     "name": "stdout",
     "output_type": "stream",
     "text": [
      "<class 'pandas.core.frame.DataFrame'>\n",
      "Int64Index: 2935849 entries, 0 to 2935848\n",
      "Data columns (total 7 columns):\n",
      " #   Column            Dtype  \n",
      "---  ------            -----  \n",
      " 0   date              object \n",
      " 1   date_block_num    int8   \n",
      " 2   shop_id           int8   \n",
      " 3   item_id           int16  \n",
      " 4   item_price        float32\n",
      " 5   item_cnt_day      int16  \n",
      " 6   item_category_id  int8   \n",
      "dtypes: float32(1), int16(2), int8(3), object(1)\n",
      "memory usage: 75.6+ MB\n"
     ]
    }
   ],
   "source": [
    "#Check feature distrubutions\n",
    "train.info()\n"
   ]
  },
  {
   "cell_type": "code",
   "execution_count": 17,
   "id": "163a5cc5-9ad9-4121-b89a-78b3e02bc998",
   "metadata": {},
   "outputs": [
    {
     "data": {
      "image/png": "[encoded data removed]",
      "text/plain": [
       "<Figure size 720x288 with 1 Axes>"
      ]
     },
     "metadata": {},
     "output_type": "display_data"
    },
    {
     "data": {
      "image/png": "[encoded data removed]",
      "text/plain": [
       "<Figure size 720x288 with 1 Axes>"
      ]
     },
     "metadata": {},
     "output_type": "display_data"
    },
    {
     "data": {
      "image/png": "[encoded data removed]",
      "text/plain": [
       "<Figure size 720x288 with 1 Axes>"
      ]
     },
     "metadata": {},
     "output_type": "display_data"
    },
    {
     "data": {
      "image/png": "[encoded data removed]",
      "text/plain": [
       "<Figure size 720x288 with 1 Axes>"
      ]
     },
     "metadata": {},
     "output_type": "display_data"
    },
    {
     "data": {
      "image/png": "[encoded data removed]",
      "text/plain": [
       "<Figure size 720x288 with 1 Axes>"
      ]
     },
     "metadata": {},
     "output_type": "display_data"
    },
    {
     "data": {
      "image/png": "[encoded data removed]",
      "text/plain": [
       "<Figure size 720x288 with 1 Axes>"
      ]
     },
     "metadata": {},
     "output_type": "display_data"
    }
   ],
   "source": [
    "def box_plot(df,f):\n",
    "    plt.figure(figsize=(10,4))\n",
    "    plt.title(f+' distribution')\n",
    "    x_min = int(df[f].min() - (abs(df[f].min())*0.1))\n",
    "    x_max = int(df[f].max() + (abs(df[f].max())*0.1))\n",
    "    if x_min==0:\n",
    "        x_min = -1\n",
    "    if x_max==0:\n",
    "        x_max = 1\n",
    "    plt.xlim(x_min,x_max)\n",
    "    sns.boxplot(x=df[f])\n",
    "\n",
    "plot_features = [x for x in train.columns.values if train[x].dtype != 'object']\n",
    "for f in plot_features:\n",
    "    box_plot(train,f)"
   ]
  },
  {
   "cell_type": "markdown",
   "id": "1b7a02b7-fa52-44ac-8344-797a29ecc562",
   "metadata": {},
   "source": [
    "So there are extreme outliers in 'item_price' and 'item_cnt_day'.\n"
   ]
  },
  {
   "cell_type": "markdown",
   "id": "9951475f-1ff8-4e8a-8b6a-b134fc741b9f",
   "metadata": {},
   "source": [
    "### Outlier removal"
   ]
  },
  {
   "cell_type": "code",
   "execution_count": 19,
   "id": "35e621e8-9569-4d59-a2e3-6497cc09eac8",
   "metadata": {},
   "outputs": [
    {
     "data": {
      "image/png": "[encoded data removed]",
      "text/plain": [
       "<Figure size 720x288 with 1 Axes>"
      ]
     },
     "metadata": {},
     "output_type": "display_data"
    },
    {
     "data": {
      "image/png": "[encoded data removed]",
      "text/plain": [
       "<Figure size 720x288 with 1 Axes>"
      ]
     },
     "metadata": {},
     "output_type": "display_data"
    }
   ],
   "source": [
    "# Getting rid of the outliers & negative values\n",
    "train = train[(train['item_price']<100000) & (train['item_price']>=0)]\n",
    "train = train[(train['item_cnt_day']<1000) & (train['item_cnt_day']>=0)]\n",
    "\n",
    "# distribution after outliers removal\n",
    "plot_features = ['item_price','item_cnt_day']\n",
    "for f in plot_features:\n",
    "    box_plot(train,f)"
   ]
  },
  {
   "cell_type": "code",
   "execution_count": 21,
   "id": "50246dbe-4112-48dc-862e-34226ca2bb3b",
   "metadata": {},
   "outputs": [
    {
     "data": {
      "text/html": [
       "<div>\n",
       "<style scoped>\n",
       "    .dataframe tbody tr th:only-of-type {\n",
       "        vertical-align: middle;\n",
       "    }\n",
       "\n",
       "    .dataframe tbody tr th {\n",
       "        vertical-align: top;\n",
       "    }\n",
       "\n",
       "    .dataframe thead th {\n",
       "        text-align: right;\n",
       "    }\n",
       "</style>\n",
       "<table border=\"1\" class=\"dataframe\">\n",
       "  <thead>\n",
       "    <tr style=\"text-align: right;\">\n",
       "      <th></th>\n",
       "      <th>shop_id</th>\n",
       "      <th>item_id</th>\n",
       "      <th>date_block_num</th>\n",
       "    </tr>\n",
       "  </thead>\n",
       "  <tbody>\n",
       "    <tr>\n",
       "      <th>0</th>\n",
       "      <td>59</td>\n",
       "      <td>22154</td>\n",
       "      <td>0</td>\n",
       "    </tr>\n",
       "    <tr>\n",
       "      <th>1</th>\n",
       "      <td>59</td>\n",
       "      <td>2552</td>\n",
       "      <td>0</td>\n",
       "    </tr>\n",
       "    <tr>\n",
       "      <th>2</th>\n",
       "      <td>59</td>\n",
       "      <td>2554</td>\n",
       "      <td>0</td>\n",
       "    </tr>\n",
       "    <tr>\n",
       "      <th>3</th>\n",
       "      <td>59</td>\n",
       "      <td>2555</td>\n",
       "      <td>0</td>\n",
       "    </tr>\n",
       "    <tr>\n",
       "      <th>4</th>\n",
       "      <td>59</td>\n",
       "      <td>2564</td>\n",
       "      <td>0</td>\n",
       "    </tr>\n",
       "  </tbody>\n",
       "</table>\n",
       "</div>"
      ],
      "text/plain": [
       "   shop_id  item_id  date_block_num\n",
       "0       59    22154               0\n",
       "1       59     2552               0\n",
       "2       59     2554               0\n",
       "3       59     2555               0\n",
       "4       59     2564               0"
      ]
     },
     "execution_count": 21,
     "metadata": {},
     "output_type": "execute_result"
    }
   ],
   "source": [
    "# Created a dataframe of all Date_block_num, Store and Item combinations:\n",
    "# So in case in the months some shops did not have the sale record of some item, it can be set to 0.\n",
    "\n",
    "# Create a grid with columns\n",
    "index_cols = ['shop_id','item_id','date_block_num']\n",
    "\n",
    "# For every month we create a grid for all shops/items pair\n",
    "grid = []\n",
    "for block_num in train['date_block_num'].unique():\n",
    "    cur_shops = train.loc[train['date_block_num']==block_num,'shop_id'].unique()\n",
    "    cur_items = train.loc[train['date_block_num']==block_num,'item_id'].unique()\n",
    "    grid.append(np.array(list(product(*[cur_shops,cur_items,[block_num]])),dtype='int32'))\n",
    "grid = pd.DataFrame(np.vstack(grid),columns=index_cols,dtype=np.int32)\n",
    "grid = data_compression(grid)\n",
    "grid.head()"
   ]
  },
  {
   "cell_type": "code",
   "execution_count": 22,
   "id": "30d916bf-3fdc-4e62-b50a-d44cb39d7143",
   "metadata": {},
   "outputs": [
    {
     "name": "stdout",
     "output_type": "stream",
     "text": [
      "<class 'pandas.core.frame.DataFrame'>\n",
      "RangeIndex: 10884508 entries, 0 to 10884507\n",
      "Data columns (total 3 columns):\n",
      " #   Column          Dtype\n",
      "---  ------          -----\n",
      " 0   shop_id         int8 \n",
      " 1   item_id         int16\n",
      " 2   date_block_num  int8 \n",
      "dtypes: int16(1), int8(2)\n",
      "memory usage: 41.5 MB\n"
     ]
    }
   ],
   "source": [
    "grid.info()\n"
   ]
  },
  {
   "cell_type": "markdown",
   "id": "166d6fbb-d68d-45a2-9de2-830a7c3cd018",
   "metadata": {
    "tags": []
   },
   "source": [
    "## Mean Encoding"
   ]
  },
  {
   "cell_type": "code",
   "execution_count": 23,
   "id": "7caf208f-3a0b-4eba-96d6-e7385eb8c69d",
   "metadata": {},
   "outputs": [],
   "source": [
    "# Group items per month, per shop, per item, sum the sales of the item, mean the price\n",
    "# There is a big difference between np.mean and pandas mean\n",
    "train_m = train.groupby(['date_block_num','shop_id','item_id']).agg({'item_cnt_day':'sum','item_price':np.mean}).reset_index()\n",
    "train_m = pd.merge(grid,train_m,on=['date_block_num','shop_id','item_id'],how='left').fillna(0)\n",
    "train_m = pd.merge(train_m,items,on='item_id',how='left')\n",
    "train_m = data_compression(train_m)"
   ]
  },
  {
   "cell_type": "code",
   "execution_count": 24,
   "id": "fd9c4525-3141-4578-b7c3-d9bcbff0a115",
   "metadata": {},
   "outputs": [],
   "source": [
    "# Making the mean encoded features\n",
    "for type_id in ['item_id', 'shop_id', 'item_category_id']:\n",
    "    for column_id, aggregator, aggtype in [('item_price',np.mean,'avg'),('item_cnt_day',np.sum,'sum'),('item_cnt_day',np.mean,'avg')]:\n",
    "        mean_df = train.groupby([type_id,'date_block_num']).aggregate(aggregator).reset_index()[[column_id,type_id,'date_block_num']]\n",
    "        mean_df.columns = [type_id+'_'+aggtype+'_'+column_id,type_id,'date_block_num']\n",
    "        train_m = pd.merge(train_m, mean_df, on=['date_block_num',type_id], how='left')\n",
    "        del mean_df\n",
    "        gc.collect()"
   ]
  },
  {
   "cell_type": "code",
   "execution_count": 25,
   "id": "f0b99df1-b1df-4b83-ac75-0620279278e3",
   "metadata": {},
   "outputs": [
    {
     "data": {
      "text/plain": [
       "0"
      ]
     },
     "execution_count": 25,
     "metadata": {},
     "output_type": "execute_result"
    }
   ],
   "source": [
    "del train\n",
    "gc.collect()"
   ]
  },
  {
   "cell_type": "markdown",
   "id": "813a31ac-0e6a-4e7e-a940-889dd34da893",
   "metadata": {},
   "source": [
    "Fill NaNs\n",
    "\n",
    "Because NaN cannot be converted to int, therefore NaN has to be filled.\n",
    "Because there are many items which did not sale a single piece per store per month, there are many Nans.\n",
    "The Nans in item count means 0 sold, therefore will be filled with 0.\n",
    "The Nans in item price however means since there is no sale record of the item, the price is missin, therefore will be filled with median / mean price of the item."
   ]
  },
  {
   "cell_type": "code",
   "execution_count": 26,
   "id": "16b0c9b1-0094-4282-83dc-889ed2d9fe19",
   "metadata": {},
   "outputs": [
    {
     "name": "stdout",
     "output_type": "stream",
     "text": [
      "<class 'pandas.core.frame.DataFrame'>\n",
      "Int64Index: 10884508 entries, 0 to 10884507\n",
      "Columns: 15 entries, shop_id to item_category_id_avg_item_cnt_day\n",
      "dtypes: float16(5), float32(2), int16(4), int32(1), int8(3)\n",
      "memory usage: 425.6 MB\n"
     ]
    }
   ],
   "source": [
    "for f in train_m.columns:\n",
    "    if 'item_cnt' in f:\n",
    "        train_m[f] = train_m[f].fillna(0)\n",
    "    elif 'item_price' in f:\n",
    "        train_m[f] = train_m[f].fillna(train_m[f].median())\n",
    "\n",
    "# Compress data\n",
    "train_m = data_compression(train_m)\n",
    "train_m.info(verbose=False)"
   ]
  },
  {
   "cell_type": "code",
   "execution_count": 27,
   "id": "af9d17ea-0ad7-40bc-955c-7590b118a59a",
   "metadata": {},
   "outputs": [
    {
     "data": {
      "text/plain": [
       "array(['item_id_avg_item_price', 'item_id_sum_item_cnt_day',\n",
       "       'item_id_avg_item_cnt_day', 'shop_id_avg_item_price',\n",
       "       'shop_id_sum_item_cnt_day', 'shop_id_avg_item_cnt_day',\n",
       "       'item_category_id_avg_item_price',\n",
       "       'item_category_id_sum_item_cnt_day',\n",
       "       'item_category_id_avg_item_cnt_day'], dtype=object)"
      ]
     },
     "execution_count": 27,
     "metadata": {},
     "output_type": "execute_result"
    }
   ],
   "source": [
    "# Check the positions of the base lag features\n",
    "train_m.columns.values[6:]"
   ]
  },
  {
   "cell_type": "code",
   "execution_count": 28,
   "id": "ba6a51e5-d6e6-4afe-a7e2-266ac6c5ec36",
   "metadata": {},
   "outputs": [],
   "source": [
    "# Get all the monthly features, which means the Mean Encoded fatures are all monthly based\n",
    "lag_features = list(train_m.columns[6:])+['item_cnt_day']\n",
    "# The selected months from current month\n",
    "lags = [1,2,3,6]"
   ]
  },
  {
   "cell_type": "code",
   "execution_count": 29,
   "id": "09b5f3a0-ebea-4b26-9323-b8bfdd1b4897",
   "metadata": {},
   "outputs": [
    {
     "name": "stdout",
     "output_type": "stream",
     "text": [
      "lag 1 processed\n",
      "lag 2 processed\n",
      "lag 3 processed\n",
      "lag 6 processed\n"
     ]
    }
   ],
   "source": [
    "for lag in lags:\n",
    "    train_new_df = train_m.copy()\n",
    "    # Get the current month\n",
    "    train_new_df['date_block_num'] += lag\n",
    "    train_new_df = train_new_df[['date_block_num','shop_id','item_id']+lag_features]\n",
    "    # Name the columns as lag features of the month\n",
    "    train_new_df.columns = ['date_block_num','shop_id','item_id'] + [x+'_lag_'+str(lag) for x in lag_features]\n",
    "    train_m = pd.merge(train_m,train_new_df,on=['date_block_num','shop_id','item_id'],how='left')\n",
    "    del train_new_df\n",
    "    gc.collect()\n",
    "    print ('lag %s processed' %lag)"
   ]
  },
  {
   "cell_type": "code",
   "execution_count": 30,
   "id": "16934cc1-e8a6-496c-9ec4-6c3825a0bede",
   "metadata": {},
   "outputs": [
    {
     "name": "stdout",
     "output_type": "stream",
     "text": [
      "<class 'pandas.core.frame.DataFrame'>\n",
      "Int64Index: 10884508 entries, 0 to 10884507\n",
      "Columns: 55 entries, shop_id to item_cnt_day_lag_6\n",
      "dtypes: float16(25), float32(6), int16(16), int32(5), int8(3)\n",
      "memory usage: 1.4 GB\n"
     ]
    }
   ],
   "source": [
    "# Fill NaNs\n",
    "for f in train_m.columns:\n",
    "    if 'item_cnt' in f:\n",
    "        train_m[f] = train_m[f].fillna(0)\n",
    "    elif 'item_price' in f:\n",
    "        train_m[f] = train_m[f].fillna(train_m[f].median())\n",
    "\n",
    "train_m = data_compression(train_m)\n",
    "train_m.info(verbose=False)"
   ]
  },
  {
   "cell_type": "markdown",
   "id": "83e1cd33-9a03-4259-8b97-b3d37333bd06",
   "metadata": {},
   "source": [
    "Clipping train data to make it similar to test set\n",
    "In the evaluation data description on the competition page, it is said to clip target values to [0,20], because the test set ranges are in between these numbers.\n",
    "In the next few lines I clipped the days to range[0,30].\n",
    "You might ask me why 30. An intuitive answer is if I had clipped to range [0,20] there would be very few tree nodes that could give 20 as an answer.\n",
    "While if I increase it to 40 having a 20 becomes much more easier.\n",
    "Please note that We will clip our predictions in the [0,20] range in the end."
   ]
  },
  {
   "cell_type": "code",
   "execution_count": 32,
   "id": "43b47c48-9719-404b-8b19-2577585b9364",
   "metadata": {},
   "outputs": [],
   "source": [
    "# Set the maximum clip value\n",
    "max_clip = 30\n",
    "train_m['item_cnt_day'] = train_m['item_cnt_day'].clip(0,max_clip).astype(np.float16)"
   ]
  },
  {
   "cell_type": "markdown",
   "id": "a3891ec6-58a6-4373-a0bd-36698b90b880",
   "metadata": {},
   "source": [
    "## prep test set"
   ]
  },
  {
   "cell_type": "code",
   "execution_count": 33,
   "id": "aaba49e9-7a92-4938-bcd5-4ceaf2f1ed02",
   "metadata": {},
   "outputs": [
    {
     "name": "stdout",
     "output_type": "stream",
     "text": [
      "lag 1 processed\n",
      "lag 2 processed\n",
      "lag 3 processed\n",
      "lag 6 processed\n"
     ]
    }
   ],
   "source": [
    "# Add lag variables\n",
    "for lag in lags:\n",
    "    train_new_df = train_m.copy()\n",
    "    # Get the current month\n",
    "    train_new_df['date_block_num'] += lag\n",
    "    train_new_df = train_new_df[['date_block_num','shop_id','item_id']+lag_features]\n",
    "    # Name the columns as lag features of the month\n",
    "    train_new_df.columns = ['date_block_num','shop_id','item_id'] + [x+'_lag_'+str(lag) for x in lag_features]\n",
    "    test = pd.merge(test,train_new_df,on=['date_block_num','shop_id','item_id'],how='left')\n",
    "    del train_new_df\n",
    "    gc.collect()\n",
    "    print ('lag %s processed' %lag)"
   ]
  },
  {
   "cell_type": "code",
   "execution_count": 34,
   "id": "45f73968-77db-4fc7-a2aa-24d0c6a110c4",
   "metadata": {},
   "outputs": [],
   "source": [
    "# Fill NaNs\n",
    "for f in test.columns:\n",
    "    if 'item_cnt' in f:\n",
    "        test[f] = test[f].fillna(0)\n",
    "    elif 'item_price' in f:\n",
    "        test[f] = test[f].fillna(test[f].median())\n",
    "\n",
    "test = data_compression(test)"
   ]
  },
  {
   "cell_type": "code",
   "execution_count": 35,
   "id": "9ec83c7c-9a80-420f-af22-f143f0484ce8",
   "metadata": {},
   "outputs": [
    {
     "name": "stdout",
     "output_type": "stream",
     "text": [
      "Columns to drop\n",
      "['item_id_avg_item_price', 'item_id_sum_item_cnt_day', 'item_id_avg_item_cnt_day', 'shop_id_avg_item_price', 'shop_id_sum_item_cnt_day', 'shop_id_avg_item_cnt_day', 'item_category_id_avg_item_price', 'item_category_id_sum_item_cnt_day', 'item_category_id_avg_item_cnt_day', 'item_price']\n"
     ]
    }
   ],
   "source": [
    "cols_to_drop = lag_features[:-1] + ['item_price']\n",
    "print ('Columns to drop')\n",
    "print (cols_to_drop)"
   ]
  },
  {
   "cell_type": "code",
   "execution_count": 36,
   "id": "9077d0c6-99c7-4070-beb7-8b3afd11c972",
   "metadata": {},
   "outputs": [],
   "source": [
    "train_cols = train_m.columns.values\n",
    "test_cols = test.columns.values\n",
    "for c in cols_to_drop:\n",
    "    if c in train_cols:\n",
    "        train_m = train_m.drop(c,axis=1)\n",
    "    if c in test_cols:\n",
    "        test = test.drop(c,axis=1)"
   ]
  },
  {
   "cell_type": "code",
   "execution_count": 37,
   "id": "254ecb93-c28a-43fd-9d64-a07567d347ca",
   "metadata": {},
   "outputs": [],
   "source": [
    "# Month number\n",
    "train_m['month'] = train_m['date_block_num']%12\n",
    "train_m['month'] = train_m['month'].astype(np.int8)\n",
    "# Number of days in a month, no leap years here\n",
    "days = pd.Series([31,28,31,30,31,30,31,31,30,31,30,31])\n",
    "train_m['days'] = train_m['month'].map(days).astype(np.int8)\n",
    "\n",
    "test['month'] = 11\n",
    "test['month'] = test['month'].astype(np.int8)\n",
    "test['days'] = 30\n",
    "test['days'] = test['days'].astype(np.int8)"
   ]
  },
  {
   "cell_type": "code",
   "execution_count": 38,
   "id": "8c82f8d0-b49c-43af-9b3e-9a673457d60a",
   "metadata": {},
   "outputs": [
    {
     "data": {
      "text/plain": [
       "{'item_cnt_day'}"
      ]
     },
     "execution_count": 38,
     "metadata": {},
     "output_type": "execute_result"
    }
   ],
   "source": [
    "# Check if lag var in test set are correct\n",
    "\n",
    "# Assert all the columns are the same except target column\n",
    "set(train_m.columns.values) ^ set(test.columns.values)"
   ]
  },
  {
   "cell_type": "code",
   "execution_count": 39,
   "id": "519b27c1-2089-41ec-bd23-cf44142c6110",
   "metadata": {},
   "outputs": [
    {
     "data": {
      "text/html": [
       "<div>\n",
       "<style scoped>\n",
       "    .dataframe tbody tr th:only-of-type {\n",
       "        vertical-align: middle;\n",
       "    }\n",
       "\n",
       "    .dataframe tbody tr th {\n",
       "        vertical-align: top;\n",
       "    }\n",
       "\n",
       "    .dataframe thead th {\n",
       "        text-align: right;\n",
       "    }\n",
       "</style>\n",
       "<table border=\"1\" class=\"dataframe\">\n",
       "  <thead>\n",
       "    <tr style=\"text-align: right;\">\n",
       "      <th></th>\n",
       "      <th>shop_id</th>\n",
       "      <th>item_id</th>\n",
       "      <th>date_block_num</th>\n",
       "      <th>item_cnt_day</th>\n",
       "      <th>item_category_id</th>\n",
       "      <th>item_id_avg_item_price_lag_1</th>\n",
       "      <th>item_id_sum_item_cnt_day_lag_1</th>\n",
       "      <th>item_id_avg_item_cnt_day_lag_1</th>\n",
       "      <th>shop_id_avg_item_price_lag_1</th>\n",
       "      <th>shop_id_sum_item_cnt_day_lag_1</th>\n",
       "      <th>shop_id_avg_item_cnt_day_lag_1</th>\n",
       "      <th>item_category_id_avg_item_price_lag_1</th>\n",
       "      <th>item_category_id_sum_item_cnt_day_lag_1</th>\n",
       "      <th>item_category_id_avg_item_cnt_day_lag_1</th>\n",
       "      <th>item_cnt_day_lag_1</th>\n",
       "      <th>item_id_avg_item_price_lag_2</th>\n",
       "      <th>item_id_sum_item_cnt_day_lag_2</th>\n",
       "      <th>item_id_avg_item_cnt_day_lag_2</th>\n",
       "      <th>shop_id_avg_item_price_lag_2</th>\n",
       "      <th>shop_id_sum_item_cnt_day_lag_2</th>\n",
       "      <th>shop_id_avg_item_cnt_day_lag_2</th>\n",
       "      <th>item_category_id_avg_item_price_lag_2</th>\n",
       "      <th>item_category_id_sum_item_cnt_day_lag_2</th>\n",
       "      <th>item_category_id_avg_item_cnt_day_lag_2</th>\n",
       "      <th>item_cnt_day_lag_2</th>\n",
       "      <th>item_id_avg_item_price_lag_3</th>\n",
       "      <th>item_id_sum_item_cnt_day_lag_3</th>\n",
       "      <th>item_id_avg_item_cnt_day_lag_3</th>\n",
       "      <th>shop_id_avg_item_price_lag_3</th>\n",
       "      <th>shop_id_sum_item_cnt_day_lag_3</th>\n",
       "      <th>shop_id_avg_item_cnt_day_lag_3</th>\n",
       "      <th>item_category_id_avg_item_price_lag_3</th>\n",
       "      <th>item_category_id_sum_item_cnt_day_lag_3</th>\n",
       "      <th>item_category_id_avg_item_cnt_day_lag_3</th>\n",
       "      <th>item_cnt_day_lag_3</th>\n",
       "      <th>item_id_avg_item_price_lag_6</th>\n",
       "      <th>item_id_sum_item_cnt_day_lag_6</th>\n",
       "      <th>item_id_avg_item_cnt_day_lag_6</th>\n",
       "      <th>shop_id_avg_item_price_lag_6</th>\n",
       "      <th>shop_id_sum_item_cnt_day_lag_6</th>\n",
       "      <th>shop_id_avg_item_cnt_day_lag_6</th>\n",
       "      <th>item_category_id_avg_item_price_lag_6</th>\n",
       "      <th>item_category_id_sum_item_cnt_day_lag_6</th>\n",
       "      <th>item_category_id_avg_item_cnt_day_lag_6</th>\n",
       "      <th>item_cnt_day_lag_6</th>\n",
       "      <th>month</th>\n",
       "      <th>days</th>\n",
       "    </tr>\n",
       "  </thead>\n",
       "  <tbody>\n",
       "    <tr>\n",
       "      <th>0</th>\n",
       "      <td>59</td>\n",
       "      <td>22154</td>\n",
       "      <td>0</td>\n",
       "      <td>1.00</td>\n",
       "      <td>37</td>\n",
       "      <td>299.00</td>\n",
       "      <td>0</td>\n",
       "      <td>0.00</td>\n",
       "      <td>879.00</td>\n",
       "      <td>0</td>\n",
       "      <td>0.00</td>\n",
       "      <td>379.00</td>\n",
       "      <td>0</td>\n",
       "      <td>0.00</td>\n",
       "      <td>0</td>\n",
       "      <td>299.00</td>\n",
       "      <td>0</td>\n",
       "      <td>0.00</td>\n",
       "      <td>872.00</td>\n",
       "      <td>0</td>\n",
       "      <td>0.00</td>\n",
       "      <td>379.00</td>\n",
       "      <td>0</td>\n",
       "      <td>0.00</td>\n",
       "      <td>0</td>\n",
       "      <td>299.00</td>\n",
       "      <td>0</td>\n",
       "      <td>0.00</td>\n",
       "      <td>868.00</td>\n",
       "      <td>0</td>\n",
       "      <td>0.00</td>\n",
       "      <td>376.00</td>\n",
       "      <td>0</td>\n",
       "      <td>0.00</td>\n",
       "      <td>0</td>\n",
       "      <td>299.00</td>\n",
       "      <td>0</td>\n",
       "      <td>0.00</td>\n",
       "      <td>847.00</td>\n",
       "      <td>0</td>\n",
       "      <td>0.00</td>\n",
       "      <td>376.00</td>\n",
       "      <td>0</td>\n",
       "      <td>0.00</td>\n",
       "      <td>0</td>\n",
       "      <td>0</td>\n",
       "      <td>31</td>\n",
       "    </tr>\n",
       "    <tr>\n",
       "      <th>1</th>\n",
       "      <td>59</td>\n",
       "      <td>2552</td>\n",
       "      <td>0</td>\n",
       "      <td>0.00</td>\n",
       "      <td>58</td>\n",
       "      <td>299.00</td>\n",
       "      <td>0</td>\n",
       "      <td>0.00</td>\n",
       "      <td>879.00</td>\n",
       "      <td>0</td>\n",
       "      <td>0.00</td>\n",
       "      <td>379.00</td>\n",
       "      <td>0</td>\n",
       "      <td>0.00</td>\n",
       "      <td>0</td>\n",
       "      <td>299.00</td>\n",
       "      <td>0</td>\n",
       "      <td>0.00</td>\n",
       "      <td>872.00</td>\n",
       "      <td>0</td>\n",
       "      <td>0.00</td>\n",
       "      <td>379.00</td>\n",
       "      <td>0</td>\n",
       "      <td>0.00</td>\n",
       "      <td>0</td>\n",
       "      <td>299.00</td>\n",
       "      <td>0</td>\n",
       "      <td>0.00</td>\n",
       "      <td>868.00</td>\n",
       "      <td>0</td>\n",
       "      <td>0.00</td>\n",
       "      <td>376.00</td>\n",
       "      <td>0</td>\n",
       "      <td>0.00</td>\n",
       "      <td>0</td>\n",
       "      <td>299.00</td>\n",
       "      <td>0</td>\n",
       "      <td>0.00</td>\n",
       "      <td>847.00</td>\n",
       "      <td>0</td>\n",
       "      <td>0.00</td>\n",
       "      <td>376.00</td>\n",
       "      <td>0</td>\n",
       "      <td>0.00</td>\n",
       "      <td>0</td>\n",
       "      <td>0</td>\n",
       "      <td>31</td>\n",
       "    </tr>\n",
       "    <tr>\n",
       "      <th>2</th>\n",
       "      <td>59</td>\n",
       "      <td>2554</td>\n",
       "      <td>0</td>\n",
       "      <td>0.00</td>\n",
       "      <td>58</td>\n",
       "      <td>299.00</td>\n",
       "      <td>0</td>\n",
       "      <td>0.00</td>\n",
       "      <td>879.00</td>\n",
       "      <td>0</td>\n",
       "      <td>0.00</td>\n",
       "      <td>379.00</td>\n",
       "      <td>0</td>\n",
       "      <td>0.00</td>\n",
       "      <td>0</td>\n",
       "      <td>299.00</td>\n",
       "      <td>0</td>\n",
       "      <td>0.00</td>\n",
       "      <td>872.00</td>\n",
       "      <td>0</td>\n",
       "      <td>0.00</td>\n",
       "      <td>379.00</td>\n",
       "      <td>0</td>\n",
       "      <td>0.00</td>\n",
       "      <td>0</td>\n",
       "      <td>299.00</td>\n",
       "      <td>0</td>\n",
       "      <td>0.00</td>\n",
       "      <td>868.00</td>\n",
       "      <td>0</td>\n",
       "      <td>0.00</td>\n",
       "      <td>376.00</td>\n",
       "      <td>0</td>\n",
       "      <td>0.00</td>\n",
       "      <td>0</td>\n",
       "      <td>299.00</td>\n",
       "      <td>0</td>\n",
       "      <td>0.00</td>\n",
       "      <td>847.00</td>\n",
       "      <td>0</td>\n",
       "      <td>0.00</td>\n",
       "      <td>376.00</td>\n",
       "      <td>0</td>\n",
       "      <td>0.00</td>\n",
       "      <td>0</td>\n",
       "      <td>0</td>\n",
       "      <td>31</td>\n",
       "    </tr>\n",
       "    <tr>\n",
       "      <th>3</th>\n",
       "      <td>59</td>\n",
       "      <td>2555</td>\n",
       "      <td>0</td>\n",
       "      <td>0.00</td>\n",
       "      <td>56</td>\n",
       "      <td>299.00</td>\n",
       "      <td>0</td>\n",
       "      <td>0.00</td>\n",
       "      <td>879.00</td>\n",
       "      <td>0</td>\n",
       "      <td>0.00</td>\n",
       "      <td>379.00</td>\n",
       "      <td>0</td>\n",
       "      <td>0.00</td>\n",
       "      <td>0</td>\n",
       "      <td>299.00</td>\n",
       "      <td>0</td>\n",
       "      <td>0.00</td>\n",
       "      <td>872.00</td>\n",
       "      <td>0</td>\n",
       "      <td>0.00</td>\n",
       "      <td>379.00</td>\n",
       "      <td>0</td>\n",
       "      <td>0.00</td>\n",
       "      <td>0</td>\n",
       "      <td>299.00</td>\n",
       "      <td>0</td>\n",
       "      <td>0.00</td>\n",
       "      <td>868.00</td>\n",
       "      <td>0</td>\n",
       "      <td>0.00</td>\n",
       "      <td>376.00</td>\n",
       "      <td>0</td>\n",
       "      <td>0.00</td>\n",
       "      <td>0</td>\n",
       "      <td>299.00</td>\n",
       "      <td>0</td>\n",
       "      <td>0.00</td>\n",
       "      <td>847.00</td>\n",
       "      <td>0</td>\n",
       "      <td>0.00</td>\n",
       "      <td>376.00</td>\n",
       "      <td>0</td>\n",
       "      <td>0.00</td>\n",
       "      <td>0</td>\n",
       "      <td>0</td>\n",
       "      <td>31</td>\n",
       "    </tr>\n",
       "    <tr>\n",
       "      <th>4</th>\n",
       "      <td>59</td>\n",
       "      <td>2564</td>\n",
       "      <td>0</td>\n",
       "      <td>0.00</td>\n",
       "      <td>59</td>\n",
       "      <td>299.00</td>\n",
       "      <td>0</td>\n",
       "      <td>0.00</td>\n",
       "      <td>879.00</td>\n",
       "      <td>0</td>\n",
       "      <td>0.00</td>\n",
       "      <td>379.00</td>\n",
       "      <td>0</td>\n",
       "      <td>0.00</td>\n",
       "      <td>0</td>\n",
       "      <td>299.00</td>\n",
       "      <td>0</td>\n",
       "      <td>0.00</td>\n",
       "      <td>872.00</td>\n",
       "      <td>0</td>\n",
       "      <td>0.00</td>\n",
       "      <td>379.00</td>\n",
       "      <td>0</td>\n",
       "      <td>0.00</td>\n",
       "      <td>0</td>\n",
       "      <td>299.00</td>\n",
       "      <td>0</td>\n",
       "      <td>0.00</td>\n",
       "      <td>868.00</td>\n",
       "      <td>0</td>\n",
       "      <td>0.00</td>\n",
       "      <td>376.00</td>\n",
       "      <td>0</td>\n",
       "      <td>0.00</td>\n",
       "      <td>0</td>\n",
       "      <td>299.00</td>\n",
       "      <td>0</td>\n",
       "      <td>0.00</td>\n",
       "      <td>847.00</td>\n",
       "      <td>0</td>\n",
       "      <td>0.00</td>\n",
       "      <td>376.00</td>\n",
       "      <td>0</td>\n",
       "      <td>0.00</td>\n",
       "      <td>0</td>\n",
       "      <td>0</td>\n",
       "      <td>31</td>\n",
       "    </tr>\n",
       "  </tbody>\n",
       "</table>\n",
       "</div>"
      ],
      "text/plain": [
       "   shop_id  item_id  date_block_num  item_cnt_day  item_category_id  \\\n",
       "0       59    22154               0          1.00                37   \n",
       "1       59     2552               0          0.00                58   \n",
       "2       59     2554               0          0.00                58   \n",
       "3       59     2555               0          0.00                56   \n",
       "4       59     2564               0          0.00                59   \n",
       "\n",
       "   item_id_avg_item_price_lag_1  item_id_sum_item_cnt_day_lag_1  \\\n",
       "0                        299.00                               0   \n",
       "1                        299.00                               0   \n",
       "2                        299.00                               0   \n",
       "3                        299.00                               0   \n",
       "4                        299.00                               0   \n",
       "\n",
       "   item_id_avg_item_cnt_day_lag_1  shop_id_avg_item_price_lag_1  \\\n",
       "0                            0.00                        879.00   \n",
       "1                            0.00                        879.00   \n",
       "2                            0.00                        879.00   \n",
       "3                            0.00                        879.00   \n",
       "4                            0.00                        879.00   \n",
       "\n",
       "   shop_id_sum_item_cnt_day_lag_1  shop_id_avg_item_cnt_day_lag_1  \\\n",
       "0                               0                            0.00   \n",
       "1                               0                            0.00   \n",
       "2                               0                            0.00   \n",
       "3                               0                            0.00   \n",
       "4                               0                            0.00   \n",
       "\n",
       "   item_category_id_avg_item_price_lag_1  \\\n",
       "0                                 379.00   \n",
       "1                                 379.00   \n",
       "2                                 379.00   \n",
       "3                                 379.00   \n",
       "4                                 379.00   \n",
       "\n",
       "   item_category_id_sum_item_cnt_day_lag_1  \\\n",
       "0                                        0   \n",
       "1                                        0   \n",
       "2                                        0   \n",
       "3                                        0   \n",
       "4                                        0   \n",
       "\n",
       "   item_category_id_avg_item_cnt_day_lag_1  item_cnt_day_lag_1  \\\n",
       "0                                     0.00                   0   \n",
       "1                                     0.00                   0   \n",
       "2                                     0.00                   0   \n",
       "3                                     0.00                   0   \n",
       "4                                     0.00                   0   \n",
       "\n",
       "   item_id_avg_item_price_lag_2  item_id_sum_item_cnt_day_lag_2  \\\n",
       "0                        299.00                               0   \n",
       "1                        299.00                               0   \n",
       "2                        299.00                               0   \n",
       "3                        299.00                               0   \n",
       "4                        299.00                               0   \n",
       "\n",
       "   item_id_avg_item_cnt_day_lag_2  shop_id_avg_item_price_lag_2  \\\n",
       "0                            0.00                        872.00   \n",
       "1                            0.00                        872.00   \n",
       "2                            0.00                        872.00   \n",
       "3                            0.00                        872.00   \n",
       "4                            0.00                        872.00   \n",
       "\n",
       "   shop_id_sum_item_cnt_day_lag_2  shop_id_avg_item_cnt_day_lag_2  \\\n",
       "0                               0                            0.00   \n",
       "1                               0                            0.00   \n",
       "2                               0                            0.00   \n",
       "3                               0                            0.00   \n",
       "4                               0                            0.00   \n",
       "\n",
       "   item_category_id_avg_item_price_lag_2  \\\n",
       "0                                 379.00   \n",
       "1                                 379.00   \n",
       "2                                 379.00   \n",
       "3                                 379.00   \n",
       "4                                 379.00   \n",
       "\n",
       "   item_category_id_sum_item_cnt_day_lag_2  \\\n",
       "0                                        0   \n",
       "1                                        0   \n",
       "2                                        0   \n",
       "3                                        0   \n",
       "4                                        0   \n",
       "\n",
       "   item_category_id_avg_item_cnt_day_lag_2  item_cnt_day_lag_2  \\\n",
       "0                                     0.00                   0   \n",
       "1                                     0.00                   0   \n",
       "2                                     0.00                   0   \n",
       "3                                     0.00                   0   \n",
       "4                                     0.00                   0   \n",
       "\n",
       "   item_id_avg_item_price_lag_3  item_id_sum_item_cnt_day_lag_3  \\\n",
       "0                        299.00                               0   \n",
       "1                        299.00                               0   \n",
       "2                        299.00                               0   \n",
       "3                        299.00                               0   \n",
       "4                        299.00                               0   \n",
       "\n",
       "   item_id_avg_item_cnt_day_lag_3  shop_id_avg_item_price_lag_3  \\\n",
       "0                            0.00                        868.00   \n",
       "1                            0.00                        868.00   \n",
       "2                            0.00                        868.00   \n",
       "3                            0.00                        868.00   \n",
       "4                            0.00                        868.00   \n",
       "\n",
       "   shop_id_sum_item_cnt_day_lag_3  shop_id_avg_item_cnt_day_lag_3  \\\n",
       "0                               0                            0.00   \n",
       "1                               0                            0.00   \n",
       "2                               0                            0.00   \n",
       "3                               0                            0.00   \n",
       "4                               0                            0.00   \n",
       "\n",
       "   item_category_id_avg_item_price_lag_3  \\\n",
       "0                                 376.00   \n",
       "1                                 376.00   \n",
       "2                                 376.00   \n",
       "3                                 376.00   \n",
       "4                                 376.00   \n",
       "\n",
       "   item_category_id_sum_item_cnt_day_lag_3  \\\n",
       "0                                        0   \n",
       "1                                        0   \n",
       "2                                        0   \n",
       "3                                        0   \n",
       "4                                        0   \n",
       "\n",
       "   item_category_id_avg_item_cnt_day_lag_3  item_cnt_day_lag_3  \\\n",
       "0                                     0.00                   0   \n",
       "1                                     0.00                   0   \n",
       "2                                     0.00                   0   \n",
       "3                                     0.00                   0   \n",
       "4                                     0.00                   0   \n",
       "\n",
       "   item_id_avg_item_price_lag_6  item_id_sum_item_cnt_day_lag_6  \\\n",
       "0                        299.00                               0   \n",
       "1                        299.00                               0   \n",
       "2                        299.00                               0   \n",
       "3                        299.00                               0   \n",
       "4                        299.00                               0   \n",
       "\n",
       "   item_id_avg_item_cnt_day_lag_6  shop_id_avg_item_price_lag_6  \\\n",
       "0                            0.00                        847.00   \n",
       "1                            0.00                        847.00   \n",
       "2                            0.00                        847.00   \n",
       "3                            0.00                        847.00   \n",
       "4                            0.00                        847.00   \n",
       "\n",
       "   shop_id_sum_item_cnt_day_lag_6  shop_id_avg_item_cnt_day_lag_6  \\\n",
       "0                               0                            0.00   \n",
       "1                               0                            0.00   \n",
       "2                               0                            0.00   \n",
       "3                               0                            0.00   \n",
       "4                               0                            0.00   \n",
       "\n",
       "   item_category_id_avg_item_price_lag_6  \\\n",
       "0                                 376.00   \n",
       "1                                 376.00   \n",
       "2                                 376.00   \n",
       "3                                 376.00   \n",
       "4                                 376.00   \n",
       "\n",
       "   item_category_id_sum_item_cnt_day_lag_6  \\\n",
       "0                                        0   \n",
       "1                                        0   \n",
       "2                                        0   \n",
       "3                                        0   \n",
       "4                                        0   \n",
       "\n",
       "   item_category_id_avg_item_cnt_day_lag_6  item_cnt_day_lag_6  month  days  \n",
       "0                                     0.00                   0      0    31  \n",
       "1                                     0.00                   0      0    31  \n",
       "2                                     0.00                   0      0    31  \n",
       "3                                     0.00                   0      0    31  \n",
       "4                                     0.00                   0      0    31  "
      ]
     },
     "execution_count": 39,
     "metadata": {},
     "output_type": "execute_result"
    }
   ],
   "source": [
    "train_m.head()\n"
   ]
  },
  {
   "cell_type": "code",
   "execution_count": 40,
   "id": "e46872fb-5c7f-4dc5-8d26-add3e88d110e",
   "metadata": {},
   "outputs": [
    {
     "data": {
      "text/html": [
       "<div>\n",
       "<style scoped>\n",
       "    .dataframe tbody tr th:only-of-type {\n",
       "        vertical-align: middle;\n",
       "    }\n",
       "\n",
       "    .dataframe tbody tr th {\n",
       "        vertical-align: top;\n",
       "    }\n",
       "\n",
       "    .dataframe thead th {\n",
       "        text-align: right;\n",
       "    }\n",
       "</style>\n",
       "<table border=\"1\" class=\"dataframe\">\n",
       "  <thead>\n",
       "    <tr style=\"text-align: right;\">\n",
       "      <th></th>\n",
       "      <th>shop_id</th>\n",
       "      <th>item_id</th>\n",
       "      <th>date_block_num</th>\n",
       "      <th>item_category_id</th>\n",
       "      <th>item_id_avg_item_price_lag_1</th>\n",
       "      <th>item_id_sum_item_cnt_day_lag_1</th>\n",
       "      <th>item_id_avg_item_cnt_day_lag_1</th>\n",
       "      <th>shop_id_avg_item_price_lag_1</th>\n",
       "      <th>shop_id_sum_item_cnt_day_lag_1</th>\n",
       "      <th>shop_id_avg_item_cnt_day_lag_1</th>\n",
       "      <th>item_category_id_avg_item_price_lag_1</th>\n",
       "      <th>item_category_id_sum_item_cnt_day_lag_1</th>\n",
       "      <th>item_category_id_avg_item_cnt_day_lag_1</th>\n",
       "      <th>item_cnt_day_lag_1</th>\n",
       "      <th>item_id_avg_item_price_lag_2</th>\n",
       "      <th>item_id_sum_item_cnt_day_lag_2</th>\n",
       "      <th>item_id_avg_item_cnt_day_lag_2</th>\n",
       "      <th>shop_id_avg_item_price_lag_2</th>\n",
       "      <th>shop_id_sum_item_cnt_day_lag_2</th>\n",
       "      <th>shop_id_avg_item_cnt_day_lag_2</th>\n",
       "      <th>item_category_id_avg_item_price_lag_2</th>\n",
       "      <th>item_category_id_sum_item_cnt_day_lag_2</th>\n",
       "      <th>item_category_id_avg_item_cnt_day_lag_2</th>\n",
       "      <th>item_cnt_day_lag_2</th>\n",
       "      <th>item_id_avg_item_price_lag_3</th>\n",
       "      <th>item_id_sum_item_cnt_day_lag_3</th>\n",
       "      <th>item_id_avg_item_cnt_day_lag_3</th>\n",
       "      <th>shop_id_avg_item_price_lag_3</th>\n",
       "      <th>shop_id_sum_item_cnt_day_lag_3</th>\n",
       "      <th>shop_id_avg_item_cnt_day_lag_3</th>\n",
       "      <th>item_category_id_avg_item_price_lag_3</th>\n",
       "      <th>item_category_id_sum_item_cnt_day_lag_3</th>\n",
       "      <th>item_category_id_avg_item_cnt_day_lag_3</th>\n",
       "      <th>item_cnt_day_lag_3</th>\n",
       "      <th>item_id_avg_item_price_lag_6</th>\n",
       "      <th>item_id_sum_item_cnt_day_lag_6</th>\n",
       "      <th>item_id_avg_item_cnt_day_lag_6</th>\n",
       "      <th>shop_id_avg_item_price_lag_6</th>\n",
       "      <th>shop_id_sum_item_cnt_day_lag_6</th>\n",
       "      <th>shop_id_avg_item_cnt_day_lag_6</th>\n",
       "      <th>item_category_id_avg_item_price_lag_6</th>\n",
       "      <th>item_category_id_sum_item_cnt_day_lag_6</th>\n",
       "      <th>item_category_id_avg_item_cnt_day_lag_6</th>\n",
       "      <th>item_cnt_day_lag_6</th>\n",
       "      <th>month</th>\n",
       "      <th>days</th>\n",
       "    </tr>\n",
       "  </thead>\n",
       "  <tbody>\n",
       "    <tr>\n",
       "      <th>0</th>\n",
       "      <td>5</td>\n",
       "      <td>5037</td>\n",
       "      <td>34</td>\n",
       "      <td>19</td>\n",
       "      <td>1499.00</td>\n",
       "      <td>25</td>\n",
       "      <td>1.00</td>\n",
       "      <td>1028.00</td>\n",
       "      <td>1054</td>\n",
       "      <td>1.00</td>\n",
       "      <td>1680.00</td>\n",
       "      <td>2450</td>\n",
       "      <td>1.00</td>\n",
       "      <td>0</td>\n",
       "      <td>936.68</td>\n",
       "      <td>111</td>\n",
       "      <td>1.00</td>\n",
       "      <td>1037.00</td>\n",
       "      <td>1098</td>\n",
       "      <td>1.00</td>\n",
       "      <td>1360.00</td>\n",
       "      <td>3998</td>\n",
       "      <td>1.00</td>\n",
       "      <td>1</td>\n",
       "      <td>894.59</td>\n",
       "      <td>119</td>\n",
       "      <td>1.00</td>\n",
       "      <td>911.00</td>\n",
       "      <td>1297</td>\n",
       "      <td>1.00</td>\n",
       "      <td>1140.00</td>\n",
       "      <td>4674</td>\n",
       "      <td>1.00</td>\n",
       "      <td>3</td>\n",
       "      <td>1542.87</td>\n",
       "      <td>87</td>\n",
       "      <td>1.00</td>\n",
       "      <td>959.00</td>\n",
       "      <td>1013</td>\n",
       "      <td>1.00</td>\n",
       "      <td>1418.00</td>\n",
       "      <td>3407</td>\n",
       "      <td>1.00</td>\n",
       "      <td>1</td>\n",
       "      <td>11</td>\n",
       "      <td>30</td>\n",
       "    </tr>\n",
       "    <tr>\n",
       "      <th>1</th>\n",
       "      <td>5</td>\n",
       "      <td>5320</td>\n",
       "      <td>34</td>\n",
       "      <td>55</td>\n",
       "      <td>449.00</td>\n",
       "      <td>0</td>\n",
       "      <td>0.00</td>\n",
       "      <td>1240.00</td>\n",
       "      <td>0</td>\n",
       "      <td>0.00</td>\n",
       "      <td>510.00</td>\n",
       "      <td>0</td>\n",
       "      <td>0.00</td>\n",
       "      <td>0</td>\n",
       "      <td>432.00</td>\n",
       "      <td>0</td>\n",
       "      <td>0.00</td>\n",
       "      <td>1204.00</td>\n",
       "      <td>0</td>\n",
       "      <td>0.00</td>\n",
       "      <td>511.00</td>\n",
       "      <td>0</td>\n",
       "      <td>0.00</td>\n",
       "      <td>0</td>\n",
       "      <td>437.10</td>\n",
       "      <td>0</td>\n",
       "      <td>0.00</td>\n",
       "      <td>969.00</td>\n",
       "      <td>0</td>\n",
       "      <td>0.00</td>\n",
       "      <td>488.00</td>\n",
       "      <td>0</td>\n",
       "      <td>0.00</td>\n",
       "      <td>0</td>\n",
       "      <td>437.75</td>\n",
       "      <td>0</td>\n",
       "      <td>0.00</td>\n",
       "      <td>1099.00</td>\n",
       "      <td>0</td>\n",
       "      <td>0.00</td>\n",
       "      <td>559.00</td>\n",
       "      <td>0</td>\n",
       "      <td>0.00</td>\n",
       "      <td>0</td>\n",
       "      <td>11</td>\n",
       "      <td>30</td>\n",
       "    </tr>\n",
       "    <tr>\n",
       "      <th>2</th>\n",
       "      <td>5</td>\n",
       "      <td>5233</td>\n",
       "      <td>34</td>\n",
       "      <td>19</td>\n",
       "      <td>1199.00</td>\n",
       "      <td>42</td>\n",
       "      <td>1.00</td>\n",
       "      <td>1028.00</td>\n",
       "      <td>1054</td>\n",
       "      <td>1.00</td>\n",
       "      <td>1680.00</td>\n",
       "      <td>2450</td>\n",
       "      <td>1.00</td>\n",
       "      <td>1</td>\n",
       "      <td>711.71</td>\n",
       "      <td>80</td>\n",
       "      <td>1.00</td>\n",
       "      <td>1037.00</td>\n",
       "      <td>1098</td>\n",
       "      <td>1.00</td>\n",
       "      <td>1360.00</td>\n",
       "      <td>3998</td>\n",
       "      <td>1.00</td>\n",
       "      <td>3</td>\n",
       "      <td>712.15</td>\n",
       "      <td>150</td>\n",
       "      <td>1.00</td>\n",
       "      <td>911.00</td>\n",
       "      <td>1297</td>\n",
       "      <td>1.00</td>\n",
       "      <td>1140.00</td>\n",
       "      <td>4674</td>\n",
       "      <td>1.00</td>\n",
       "      <td>1</td>\n",
       "      <td>790.03</td>\n",
       "      <td>71</td>\n",
       "      <td>1.00</td>\n",
       "      <td>959.00</td>\n",
       "      <td>1013</td>\n",
       "      <td>1.00</td>\n",
       "      <td>1418.00</td>\n",
       "      <td>3407</td>\n",
       "      <td>1.00</td>\n",
       "      <td>3</td>\n",
       "      <td>11</td>\n",
       "      <td>30</td>\n",
       "    </tr>\n",
       "    <tr>\n",
       "      <th>3</th>\n",
       "      <td>5</td>\n",
       "      <td>5232</td>\n",
       "      <td>34</td>\n",
       "      <td>23</td>\n",
       "      <td>1190.14</td>\n",
       "      <td>29</td>\n",
       "      <td>1.00</td>\n",
       "      <td>1028.00</td>\n",
       "      <td>1054</td>\n",
       "      <td>1.00</td>\n",
       "      <td>1796.00</td>\n",
       "      <td>2213</td>\n",
       "      <td>1.00</td>\n",
       "      <td>0</td>\n",
       "      <td>703.49</td>\n",
       "      <td>48</td>\n",
       "      <td>1.00</td>\n",
       "      <td>1037.00</td>\n",
       "      <td>1098</td>\n",
       "      <td>1.00</td>\n",
       "      <td>1269.00</td>\n",
       "      <td>3610</td>\n",
       "      <td>1.00</td>\n",
       "      <td>0</td>\n",
       "      <td>642.47</td>\n",
       "      <td>65</td>\n",
       "      <td>1.00</td>\n",
       "      <td>911.00</td>\n",
       "      <td>1297</td>\n",
       "      <td>1.00</td>\n",
       "      <td>1164.00</td>\n",
       "      <td>3666</td>\n",
       "      <td>1.00</td>\n",
       "      <td>1</td>\n",
       "      <td>437.75</td>\n",
       "      <td>0</td>\n",
       "      <td>0.00</td>\n",
       "      <td>1099.00</td>\n",
       "      <td>0</td>\n",
       "      <td>0.00</td>\n",
       "      <td>559.00</td>\n",
       "      <td>0</td>\n",
       "      <td>0.00</td>\n",
       "      <td>0</td>\n",
       "      <td>11</td>\n",
       "      <td>30</td>\n",
       "    </tr>\n",
       "    <tr>\n",
       "      <th>4</th>\n",
       "      <td>5</td>\n",
       "      <td>5268</td>\n",
       "      <td>34</td>\n",
       "      <td>20</td>\n",
       "      <td>449.00</td>\n",
       "      <td>0</td>\n",
       "      <td>0.00</td>\n",
       "      <td>1240.00</td>\n",
       "      <td>0</td>\n",
       "      <td>0.00</td>\n",
       "      <td>510.00</td>\n",
       "      <td>0</td>\n",
       "      <td>0.00</td>\n",
       "      <td>0</td>\n",
       "      <td>432.00</td>\n",
       "      <td>0</td>\n",
       "      <td>0.00</td>\n",
       "      <td>1204.00</td>\n",
       "      <td>0</td>\n",
       "      <td>0.00</td>\n",
       "      <td>511.00</td>\n",
       "      <td>0</td>\n",
       "      <td>0.00</td>\n",
       "      <td>0</td>\n",
       "      <td>437.10</td>\n",
       "      <td>0</td>\n",
       "      <td>0.00</td>\n",
       "      <td>969.00</td>\n",
       "      <td>0</td>\n",
       "      <td>0.00</td>\n",
       "      <td>488.00</td>\n",
       "      <td>0</td>\n",
       "      <td>0.00</td>\n",
       "      <td>0</td>\n",
       "      <td>437.75</td>\n",
       "      <td>0</td>\n",
       "      <td>0.00</td>\n",
       "      <td>1099.00</td>\n",
       "      <td>0</td>\n",
       "      <td>0.00</td>\n",
       "      <td>559.00</td>\n",
       "      <td>0</td>\n",
       "      <td>0.00</td>\n",
       "      <td>0</td>\n",
       "      <td>11</td>\n",
       "      <td>30</td>\n",
       "    </tr>\n",
       "  </tbody>\n",
       "</table>\n",
       "</div>"
      ],
      "text/plain": [
       "   shop_id  item_id  date_block_num  item_category_id  \\\n",
       "0        5     5037              34                19   \n",
       "1        5     5320              34                55   \n",
       "2        5     5233              34                19   \n",
       "3        5     5232              34                23   \n",
       "4        5     5268              34                20   \n",
       "\n",
       "   item_id_avg_item_price_lag_1  item_id_sum_item_cnt_day_lag_1  \\\n",
       "0                       1499.00                              25   \n",
       "1                        449.00                               0   \n",
       "2                       1199.00                              42   \n",
       "3                       1190.14                              29   \n",
       "4                        449.00                               0   \n",
       "\n",
       "   item_id_avg_item_cnt_day_lag_1  shop_id_avg_item_price_lag_1  \\\n",
       "0                            1.00                       1028.00   \n",
       "1                            0.00                       1240.00   \n",
       "2                            1.00                       1028.00   \n",
       "3                            1.00                       1028.00   \n",
       "4                            0.00                       1240.00   \n",
       "\n",
       "   shop_id_sum_item_cnt_day_lag_1  shop_id_avg_item_cnt_day_lag_1  \\\n",
       "0                            1054                            1.00   \n",
       "1                               0                            0.00   \n",
       "2                            1054                            1.00   \n",
       "3                            1054                            1.00   \n",
       "4                               0                            0.00   \n",
       "\n",
       "   item_category_id_avg_item_price_lag_1  \\\n",
       "0                                1680.00   \n",
       "1                                 510.00   \n",
       "2                                1680.00   \n",
       "3                                1796.00   \n",
       "4                                 510.00   \n",
       "\n",
       "   item_category_id_sum_item_cnt_day_lag_1  \\\n",
       "0                                     2450   \n",
       "1                                        0   \n",
       "2                                     2450   \n",
       "3                                     2213   \n",
       "4                                        0   \n",
       "\n",
       "   item_category_id_avg_item_cnt_day_lag_1  item_cnt_day_lag_1  \\\n",
       "0                                     1.00                   0   \n",
       "1                                     0.00                   0   \n",
       "2                                     1.00                   1   \n",
       "3                                     1.00                   0   \n",
       "4                                     0.00                   0   \n",
       "\n",
       "   item_id_avg_item_price_lag_2  item_id_sum_item_cnt_day_lag_2  \\\n",
       "0                        936.68                             111   \n",
       "1                        432.00                               0   \n",
       "2                        711.71                              80   \n",
       "3                        703.49                              48   \n",
       "4                        432.00                               0   \n",
       "\n",
       "   item_id_avg_item_cnt_day_lag_2  shop_id_avg_item_price_lag_2  \\\n",
       "0                            1.00                       1037.00   \n",
       "1                            0.00                       1204.00   \n",
       "2                            1.00                       1037.00   \n",
       "3                            1.00                       1037.00   \n",
       "4                            0.00                       1204.00   \n",
       "\n",
       "   shop_id_sum_item_cnt_day_lag_2  shop_id_avg_item_cnt_day_lag_2  \\\n",
       "0                            1098                            1.00   \n",
       "1                               0                            0.00   \n",
       "2                            1098                            1.00   \n",
       "3                            1098                            1.00   \n",
       "4                               0                            0.00   \n",
       "\n",
       "   item_category_id_avg_item_price_lag_2  \\\n",
       "0                                1360.00   \n",
       "1                                 511.00   \n",
       "2                                1360.00   \n",
       "3                                1269.00   \n",
       "4                                 511.00   \n",
       "\n",
       "   item_category_id_sum_item_cnt_day_lag_2  \\\n",
       "0                                     3998   \n",
       "1                                        0   \n",
       "2                                     3998   \n",
       "3                                     3610   \n",
       "4                                        0   \n",
       "\n",
       "   item_category_id_avg_item_cnt_day_lag_2  item_cnt_day_lag_2  \\\n",
       "0                                     1.00                   1   \n",
       "1                                     0.00                   0   \n",
       "2                                     1.00                   3   \n",
       "3                                     1.00                   0   \n",
       "4                                     0.00                   0   \n",
       "\n",
       "   item_id_avg_item_price_lag_3  item_id_sum_item_cnt_day_lag_3  \\\n",
       "0                        894.59                             119   \n",
       "1                        437.10                               0   \n",
       "2                        712.15                             150   \n",
       "3                        642.47                              65   \n",
       "4                        437.10                               0   \n",
       "\n",
       "   item_id_avg_item_cnt_day_lag_3  shop_id_avg_item_price_lag_3  \\\n",
       "0                            1.00                        911.00   \n",
       "1                            0.00                        969.00   \n",
       "2                            1.00                        911.00   \n",
       "3                            1.00                        911.00   \n",
       "4                            0.00                        969.00   \n",
       "\n",
       "   shop_id_sum_item_cnt_day_lag_3  shop_id_avg_item_cnt_day_lag_3  \\\n",
       "0                            1297                            1.00   \n",
       "1                               0                            0.00   \n",
       "2                            1297                            1.00   \n",
       "3                            1297                            1.00   \n",
       "4                               0                            0.00   \n",
       "\n",
       "   item_category_id_avg_item_price_lag_3  \\\n",
       "0                                1140.00   \n",
       "1                                 488.00   \n",
       "2                                1140.00   \n",
       "3                                1164.00   \n",
       "4                                 488.00   \n",
       "\n",
       "   item_category_id_sum_item_cnt_day_lag_3  \\\n",
       "0                                     4674   \n",
       "1                                        0   \n",
       "2                                     4674   \n",
       "3                                     3666   \n",
       "4                                        0   \n",
       "\n",
       "   item_category_id_avg_item_cnt_day_lag_3  item_cnt_day_lag_3  \\\n",
       "0                                     1.00                   3   \n",
       "1                                     0.00                   0   \n",
       "2                                     1.00                   1   \n",
       "3                                     1.00                   1   \n",
       "4                                     0.00                   0   \n",
       "\n",
       "   item_id_avg_item_price_lag_6  item_id_sum_item_cnt_day_lag_6  \\\n",
       "0                       1542.87                              87   \n",
       "1                        437.75                               0   \n",
       "2                        790.03                              71   \n",
       "3                        437.75                               0   \n",
       "4                        437.75                               0   \n",
       "\n",
       "   item_id_avg_item_cnt_day_lag_6  shop_id_avg_item_price_lag_6  \\\n",
       "0                            1.00                        959.00   \n",
       "1                            0.00                       1099.00   \n",
       "2                            1.00                        959.00   \n",
       "3                            0.00                       1099.00   \n",
       "4                            0.00                       1099.00   \n",
       "\n",
       "   shop_id_sum_item_cnt_day_lag_6  shop_id_avg_item_cnt_day_lag_6  \\\n",
       "0                            1013                            1.00   \n",
       "1                               0                            0.00   \n",
       "2                            1013                            1.00   \n",
       "3                               0                            0.00   \n",
       "4                               0                            0.00   \n",
       "\n",
       "   item_category_id_avg_item_price_lag_6  \\\n",
       "0                                1418.00   \n",
       "1                                 559.00   \n",
       "2                                1418.00   \n",
       "3                                 559.00   \n",
       "4                                 559.00   \n",
       "\n",
       "   item_category_id_sum_item_cnt_day_lag_6  \\\n",
       "0                                     3407   \n",
       "1                                        0   \n",
       "2                                     3407   \n",
       "3                                        0   \n",
       "4                                        0   \n",
       "\n",
       "   item_category_id_avg_item_cnt_day_lag_6  item_cnt_day_lag_6  month  days  \n",
       "0                                     1.00                   1     11    30  \n",
       "1                                     0.00                   0     11    30  \n",
       "2                                     1.00                   3     11    30  \n",
       "3                                     0.00                   0     11    30  \n",
       "4                                     0.00                   0     11    30  "
      ]
     },
     "execution_count": 40,
     "metadata": {},
     "output_type": "execute_result"
    }
   ],
   "source": [
    "test.head()\n"
   ]
  },
  {
   "cell_type": "code",
   "execution_count": 41,
   "id": "ad9844b0-494e-4864-b458-ca4ba60e4da8",
   "metadata": {},
   "outputs": [
    {
     "data": {
      "text/html": [
       "<div>\n",
       "<style scoped>\n",
       "    .dataframe tbody tr th:only-of-type {\n",
       "        vertical-align: middle;\n",
       "    }\n",
       "\n",
       "    .dataframe tbody tr th {\n",
       "        vertical-align: top;\n",
       "    }\n",
       "\n",
       "    .dataframe thead th {\n",
       "        text-align: right;\n",
       "    }\n",
       "</style>\n",
       "<table border=\"1\" class=\"dataframe\">\n",
       "  <thead>\n",
       "    <tr style=\"text-align: right;\">\n",
       "      <th></th>\n",
       "      <th>shop_id</th>\n",
       "      <th>item_id</th>\n",
       "      <th>item_cnt_day_lag_1</th>\n",
       "      <th>item_cnt_day_lag_2</th>\n",
       "      <th>item_cnt_day_lag_3</th>\n",
       "    </tr>\n",
       "  </thead>\n",
       "  <tbody>\n",
       "    <tr>\n",
       "      <th>0</th>\n",
       "      <td>5</td>\n",
       "      <td>5037</td>\n",
       "      <td>0</td>\n",
       "      <td>1</td>\n",
       "      <td>3</td>\n",
       "    </tr>\n",
       "    <tr>\n",
       "      <th>1</th>\n",
       "      <td>5</td>\n",
       "      <td>5320</td>\n",
       "      <td>0</td>\n",
       "      <td>0</td>\n",
       "      <td>0</td>\n",
       "    </tr>\n",
       "    <tr>\n",
       "      <th>2</th>\n",
       "      <td>5</td>\n",
       "      <td>5233</td>\n",
       "      <td>1</td>\n",
       "      <td>3</td>\n",
       "      <td>1</td>\n",
       "    </tr>\n",
       "    <tr>\n",
       "      <th>3</th>\n",
       "      <td>5</td>\n",
       "      <td>5232</td>\n",
       "      <td>0</td>\n",
       "      <td>0</td>\n",
       "      <td>1</td>\n",
       "    </tr>\n",
       "    <tr>\n",
       "      <th>4</th>\n",
       "      <td>5</td>\n",
       "      <td>5268</td>\n",
       "      <td>0</td>\n",
       "      <td>0</td>\n",
       "      <td>0</td>\n",
       "    </tr>\n",
       "  </tbody>\n",
       "</table>\n",
       "</div>"
      ],
      "text/plain": [
       "   shop_id  item_id  item_cnt_day_lag_1  item_cnt_day_lag_2  \\\n",
       "0        5     5037                   0                   1   \n",
       "1        5     5320                   0                   0   \n",
       "2        5     5233                   1                   3   \n",
       "3        5     5232                   0                   0   \n",
       "4        5     5268                   0                   0   \n",
       "\n",
       "   item_cnt_day_lag_3  \n",
       "0                   3  \n",
       "1                   0  \n",
       "2                   1  \n",
       "3                   1  \n",
       "4                   0  "
      ]
     },
     "execution_count": 41,
     "metadata": {},
     "output_type": "execute_result"
    }
   ],
   "source": [
    "test[['shop_id','item_id']+['item_cnt_day_lag_'+str(x) for x in [1,2,3]]].head()\n"
   ]
  },
  {
   "cell_type": "code",
   "execution_count": 42,
   "id": "ce87fdf4-9fbe-4d37-8b57-a99fe5bc6a61",
   "metadata": {},
   "outputs": [
    {
     "name": "stdout",
     "output_type": "stream",
     "text": [
      "10820113   0.00\n",
      "Name: item_cnt_day, dtype: float16\n",
      "10581628   1.00\n",
      "Name: item_cnt_day, dtype: float16\n",
      "10372045   3.00\n",
      "Name: item_cnt_day, dtype: float16\n"
     ]
    }
   ],
   "source": [
    "print(train_m[train_m['shop_id'] == 5][train_m['item_id'] == 5037][train_m['date_block_num'] == 33]['item_cnt_day'])\n",
    "print(train_m[train_m['shop_id'] == 5][train_m['item_id'] == 5037][train_m['date_block_num'] == 32]['item_cnt_day'])\n",
    "print(train_m[train_m['shop_id'] == 5][train_m['item_id'] == 5037][train_m['date_block_num'] == 31]['item_cnt_day'])"
   ]
  },
  {
   "cell_type": "code",
   "execution_count": 43,
   "id": "9ad273cd-6313-4b2f-8914-55e938f9dcde",
   "metadata": {},
   "outputs": [],
   "source": [
    "train_m = train_m[train_m['date_block_num']>12]\n"
   ]
  },
  {
   "cell_type": "code",
   "execution_count": 44,
   "id": "ebf2e1a2-2f1b-407f-91be-c5472f4bcd6a",
   "metadata": {},
   "outputs": [],
   "source": [
    "train_set = train_m[train_m['date_block_num']<33]\n",
    "val_set = train_m[train_m['date_block_num']==33]"
   ]
  },
  {
   "cell_type": "code",
   "execution_count": 45,
   "id": "b81811d5-e4c0-4768-9a64-266207e74903",
   "metadata": {},
   "outputs": [
    {
     "name": "stdout",
     "output_type": "stream",
     "text": [
      "(5820464, 47)\n",
      "(238084, 47)\n",
      "(214200, 46)\n"
     ]
    }
   ],
   "source": [
    "print (train_set.shape)\n",
    "print (val_set.shape)\n",
    "print (test.shape)"
   ]
  },
  {
   "cell_type": "code",
   "execution_count": 46,
   "id": "cceb82d8-a146-4ab8-b940-0aca8ad4ad9a",
   "metadata": {},
   "outputs": [],
   "source": [
    "# Save data\n",
    "train_set.to_pickle('train.pkl')\n",
    "val_set.to_pickle('val.pkl')\n",
    "test.to_pickle('test.pkl')"
   ]
  },
  {
   "cell_type": "code",
   "execution_count": 48,
   "id": "72159434-fc46-45e2-866e-8074067bf4ae",
   "metadata": {},
   "outputs": [
    {
     "data": {
      "text/plain": [
       "485"
      ]
     },
     "execution_count": 48,
     "metadata": {},
     "output_type": "execute_result"
    }
   ],
   "source": [
    "del train_m\n",
    "gc.collect()"
   ]
  },
  {
   "cell_type": "markdown",
   "id": "30e61227-6513-448a-966f-6bbd31f3dbcd",
   "metadata": {},
   "source": [
    "# Modeling"
   ]
  },
  {
   "cell_type": "markdown",
   "id": "3b1cb5a2-d9f9-42ca-a653-e95b08aec894",
   "metadata": {},
   "source": [
    "1. Ridge Regression (Linear)"
   ]
  },
  {
   "cell_type": "code",
   "execution_count": 49,
   "id": "7aeba069-1e24-41ea-9eed-9aa2ada984da",
   "metadata": {},
   "outputs": [],
   "source": [
    "# divide data into x & y\n",
    "train_x = train_set.drop(['item_cnt_day'],axis=1)\n",
    "train_y = train_set['item_cnt_day']\n",
    "val_x = val_set.drop(['item_cnt_day'],axis=1)\n",
    "val_y = val_set['item_cnt_day']\n",
    "\n",
    "features = list(train_x.columns.values)"
   ]
  },
  {
   "cell_type": "code",
   "execution_count": 50,
   "id": "207a7d0e-5050-4fb8-9b06-8e0571e50732",
   "metadata": {},
   "outputs": [
    {
     "name": "stdout",
     "output_type": "stream",
     "text": [
      "(5820464, 46)\n",
      "(5820464,)\n",
      "(238084, 46)\n",
      "(238084,)\n",
      "(214200, 46)\n"
     ]
    }
   ],
   "source": [
    "# Check if the data sets have equal amount of features\n",
    "print (train_x.shape)\n",
    "print (train_y.shape)\n",
    "print (val_x.shape)\n",
    "print (val_y.shape)\n",
    "print (test.shape)"
   ]
  },
  {
   "cell_type": "code",
   "execution_count": 51,
   "id": "cd6d6d0c-e9fd-4a78-b56f-9a58707328d8",
   "metadata": {},
   "outputs": [
    {
     "data": {
      "text/plain": [
       "0"
      ]
     },
     "execution_count": 51,
     "metadata": {},
     "output_type": "execute_result"
    }
   ],
   "source": [
    "del train_set\n",
    "del val_set\n",
    "gc.collect()"
   ]
  },
  {
   "cell_type": "code",
   "execution_count": 52,
   "id": "f9646a5c-e3fa-4f10-9fdf-8674fbcfb91c",
   "metadata": {},
   "outputs": [],
   "source": [
    "# For saving data & output results / models\n",
    "def post_processing(model,model_name,train_x,val_x,test_x,train_y,val_y,test):\n",
    "    # Here we once again clip the output to 0~20\n",
    "    train_pred = model.predict(train_x).clip(0, 20)\n",
    "    val_pred = model.predict(val_x).clip(0, 20)\n",
    "    test_pred = model.predict(test_x).clip(0, 20)\n",
    "\n",
    "    # Get rmse scores\n",
    "    train_rmse = np.sqrt(mean_squared_error(train_y, train_pred))\n",
    "    print(\"Train RMSE: %f\" % (train_rmse))\n",
    "    val_rmse = np.sqrt(mean_squared_error(val_y, val_pred))\n",
    "    print(\"Val RMSE: %f\" % (val_rmse))\n",
    "    \n",
    "    # Export submission\n",
    "    submission = pd.DataFrame({'ID':test.index,'item_cnt_month': test_pred})\n",
    "    submission.to_csv('%s_submission.csv'%model_name,index=False)\n",
    "\n",
    "    # save model to file\n",
    "    pickle.dump(lm, open(\"%s_model.pickle\" %model_name, \"wb\"))\n",
    "    return train_pred,val_pred,test_pred\n",
    "\n"
   ]
  },
  {
   "cell_type": "markdown",
   "id": "dd2cc324-27a0-4d00-b650-0442fcc38ffc",
   "metadata": {},
   "source": [
    "Ridge Regression"
   ]
  },
  {
   "cell_type": "code",
   "execution_count": 53,
   "id": "7971bd99-cab0-43e0-86c4-f7f1d710eb83",
   "metadata": {},
   "outputs": [],
   "source": [
    "# For plotting feature importance\n",
    "def plot_feature_importances(importances,indices,features,title,dimensions):\n",
    "    plt.figure(figsize=dimensions)\n",
    "    plt.title(title)\n",
    "    plt.barh(range(len(indices)), importances[indices], color='b', align='center')\n",
    "    plt.yticks(range(len(indices)), [features[i] for i in indices])\n",
    "    plt.xlabel('Relative Importance')\n",
    "    plt.show()   "
   ]
  },
  {
   "cell_type": "code",
   "execution_count": 54,
   "id": "2a889ec3-8254-4417-a5e8-e122b2efe6aa",
   "metadata": {},
   "outputs": [],
   "source": [
    "# Normalise data\n",
    "scaler = preprocessing.StandardScaler()\n",
    "scaler.fit(train_x.values)\n",
    "train_x_norm = scaler.transform(train_x.values)\n",
    "val_x_norm = scaler.transform(val_x.values)\n",
    "test_norm = scaler.transform(test.values)\n"
   ]
  },
  {
   "cell_type": "code",
   "execution_count": 55,
   "id": "dc9d2897-18a4-4d6d-acc9-3f79a0029ae5",
   "metadata": {},
   "outputs": [
    {
     "name": "stdout",
     "output_type": "stream",
     "text": [
      "Training time: 4.708283424377441\n"
     ]
    }
   ],
   "source": [
    "# Training\n",
    "gc.collect()\n",
    "ts = time.time()\n",
    "# Training\n",
    "lm = linear_model.Ridge()\n",
    "lm.fit(train_x_norm,train_y)\n",
    "print ('Training time: %s' %(time.time() - ts))\n"
   ]
  },
  {
   "cell_type": "code",
   "execution_count": 56,
   "id": "e9aa4fad-5d1d-4aec-b0db-c1a6cf8b6acc",
   "metadata": {},
   "outputs": [
    {
     "name": "stdout",
     "output_type": "stream",
     "text": [
      "Train RMSE: 1.153216\n",
      "Val RMSE: 1.169679\n"
     ]
    }
   ],
   "source": [
    "# Performance and test predictions\n",
    "train_pred1,val_pred1,test_pred1 = post_processing(lm,'ridge',train_x_norm,val_x_norm,test_norm,train_y,val_y,test)"
   ]
  },
  {
   "cell_type": "code",
   "execution_count": 57,
   "id": "19d57b42-f7c5-46a5-8ea2-cea9c08f53f1",
   "metadata": {},
   "outputs": [
    {
     "data": {
      "image/png": "[encoded data removed]",
      "text/plain": [
       "<Figure size 576x1152 with 1 Axes>"
      ]
     },
     "metadata": {},
     "output_type": "display_data"
    }
   ],
   "source": [
    "# Feature Importance\n",
    "importances = abs(lm.coef_)\n",
    "indices = np.argsort(importances)\n",
    "title = 'Linear Regression Feature Importances'\n",
    "plot_feature_importances(importances,indices,features,title,(8,16))"
   ]
  },
  {
   "cell_type": "code",
   "execution_count": 58,
   "id": "57390122-2be9-433a-b633-4df7b8d4a29a",
   "metadata": {},
   "outputs": [
    {
     "data": {
      "text/plain": [
       "8461"
      ]
     },
     "execution_count": 58,
     "metadata": {},
     "output_type": "execute_result"
    }
   ],
   "source": [
    "del train_x_norm\n",
    "del val_x_norm\n",
    "del test_norm\n",
    "gc.collect()"
   ]
  },
  {
   "cell_type": "markdown",
   "id": "c67ddc64-fef5-49fa-982f-d731442c3684",
   "metadata": {},
   "source": [
    "# Improvements to Model\n",
    "\n",
    "1. xgboost = uses nividia gpu speed to run larger data much more quickly\n",
    "\n",
    "2. backward selection"
   ]
  },
  {
   "cell_type": "markdown",
   "id": "ebde0315-0b78-4655-86e4-be6573bcaeb0",
   "metadata": {},
   "source": [
    "## xgboost"
   ]
  },
  {
   "cell_type": "code",
   "execution_count": 60,
   "id": "7b1d0a1d-cd9f-4ac8-8f66-c22c5981c892",
   "metadata": {},
   "outputs": [
    {
     "name": "stdout",
     "output_type": "stream",
     "text": [
      "[09:29:30] WARNING: C:/Users/Administrator/workspace/xgboost-win64_release_1.6.0/src/learner.cc:627: \n",
      "Parameters: { \"num_round\" } might not be used.\n",
      "\n",
      "  This could be a false alarm, with some parameters getting used by language bindings but\n",
      "  then being mistakenly passed down to XGBoost core, or some parameter actually being used\n",
      "  but getting flagged wrongly here. Please open an issue if you find any such cases.\n",
      "\n",
      "\n",
      "[09:29:30] INFO: C:/Users/Administrator/workspace/xgboost-win64_release_1.6.0/src/gbm/gbtree.cc:147: Tree method is automatically selected to be 'approx' for faster speed. To use old behavior (exact greedy algorithm on single machine), set tree_method to 'exact'.\n",
      "[09:29:30] INFO: C:/Users/Administrator/workspace/xgboost-win64_release_1.6.0/src/data/simple_dmatrix.cc:102: Generating new Gradient Index.\n",
      "Training time: 17.179703950881958\n"
     ]
    }
   ],
   "source": [
    "# Training\n",
    "gc.collect()\n",
    "ts = time.time()\n",
    "xgbtrain = xgb.DMatrix(train_x.values, train_y.values)\n",
    "\n",
    "param = {'max_depth':8, \n",
    "         'subsample':1,\n",
    "         'min_child_weight':0.5,\n",
    "         'eta':0.3, \n",
    "         'num_round':1000, \n",
    "         'seed':1,\n",
    "         'verbosity':2,\n",
    "         'eval_metric':'rmse'} # random parameters\n",
    "\n",
    "bst = xgb.train(param, xgbtrain)\n",
    "print ('Training time: %s' %(time.time() - ts))"
   ]
  },
  {
   "cell_type": "code",
   "execution_count": 62,
   "id": "6080fc33-a0c4-45d1-bd4b-cecb0851292b",
   "metadata": {},
   "outputs": [
    {
     "ename": "MemoryError",
     "evalue": "Unable to allocate 1.99 GiB for an array with shape (46, 5820464) and data type float64",
     "output_type": "error",
     "traceback": [
      "\u001b[1;31m---------------------------------------------------------------------------\u001b[0m",
      "\u001b[1;31mMemoryError\u001b[0m                               Traceback (most recent call last)",
      "Input \u001b[1;32mIn [62]\u001b[0m, in \u001b[0;36m<cell line: 2>\u001b[1;34m()\u001b[0m\n\u001b[0;32m      1\u001b[0m \u001b[38;5;66;03m# Performance and test predictions\u001b[39;00m\n\u001b[1;32m----> 2\u001b[0m train_pred2,val_pred2,test_pred2 \u001b[38;5;241m=\u001b[39m post_processing(bst,\u001b[38;5;124m'\u001b[39m\u001b[38;5;124mxgboost\u001b[39m\u001b[38;5;124m'\u001b[39m,xgb\u001b[38;5;241m.\u001b[39mDMatrix(\u001b[43mtrain_x\u001b[49m\u001b[38;5;241;43m.\u001b[39;49m\u001b[43mvalues\u001b[49m),\n\u001b[0;32m      3\u001b[0m                                                    xgb\u001b[38;5;241m.\u001b[39mDMatrix(val_x\u001b[38;5;241m.\u001b[39mvalues),xgb\u001b[38;5;241m.\u001b[39mDMatrix(test\u001b[38;5;241m.\u001b[39mvalues),train_y,val_y,test)\n",
      "File \u001b[1;32mC:\\ProgramData\\Anaconda3\\lib\\site-packages\\pandas\\core\\frame.py:10883\u001b[0m, in \u001b[0;36mDataFrame.values\u001b[1;34m(self)\u001b[0m\n\u001b[0;32m  10810\u001b[0m \u001b[38;5;124;03m\"\"\"\u001b[39;00m\n\u001b[0;32m  10811\u001b[0m \u001b[38;5;124;03mReturn a Numpy representation of the DataFrame.\u001b[39;00m\n\u001b[0;32m  10812\u001b[0m \n\u001b[1;32m   (...)\u001b[0m\n\u001b[0;32m  10880\u001b[0m \u001b[38;5;124;03m       ['monkey', nan, None]], dtype=object)\u001b[39;00m\n\u001b[0;32m  10881\u001b[0m \u001b[38;5;124;03m\"\"\"\u001b[39;00m\n\u001b[0;32m  10882\u001b[0m \u001b[38;5;28mself\u001b[39m\u001b[38;5;241m.\u001b[39m_consolidate_inplace()\n\u001b[1;32m> 10883\u001b[0m \u001b[38;5;28;01mreturn\u001b[39;00m \u001b[38;5;28;43mself\u001b[39;49m\u001b[38;5;241;43m.\u001b[39;49m\u001b[43m_mgr\u001b[49m\u001b[38;5;241;43m.\u001b[39;49m\u001b[43mas_array\u001b[49m\u001b[43m(\u001b[49m\u001b[43m)\u001b[49m\n",
      "File \u001b[1;32mC:\\ProgramData\\Anaconda3\\lib\\site-packages\\pandas\\core\\internals\\managers.py:1589\u001b[0m, in \u001b[0;36mBlockManager.as_array\u001b[1;34m(self, dtype, copy, na_value)\u001b[0m\n\u001b[0;32m   1587\u001b[0m             arr \u001b[38;5;241m=\u001b[39m arr\u001b[38;5;241m.\u001b[39mastype(dtype, copy\u001b[38;5;241m=\u001b[39m\u001b[38;5;28;01mFalse\u001b[39;00m)\n\u001b[0;32m   1588\u001b[0m \u001b[38;5;28;01melse\u001b[39;00m:\n\u001b[1;32m-> 1589\u001b[0m     arr \u001b[38;5;241m=\u001b[39m \u001b[38;5;28;43mself\u001b[39;49m\u001b[38;5;241;43m.\u001b[39;49m\u001b[43m_interleave\u001b[49m\u001b[43m(\u001b[49m\u001b[43mdtype\u001b[49m\u001b[38;5;241;43m=\u001b[39;49m\u001b[43mdtype\u001b[49m\u001b[43m,\u001b[49m\u001b[43m \u001b[49m\u001b[43mna_value\u001b[49m\u001b[38;5;241;43m=\u001b[39;49m\u001b[43mna_value\u001b[49m\u001b[43m)\u001b[49m\n\u001b[0;32m   1590\u001b[0m     \u001b[38;5;66;03m# The underlying data was copied within _interleave\u001b[39;00m\n\u001b[0;32m   1591\u001b[0m     copy \u001b[38;5;241m=\u001b[39m \u001b[38;5;28;01mFalse\u001b[39;00m\n",
      "File \u001b[1;32mC:\\ProgramData\\Anaconda3\\lib\\site-packages\\pandas\\core\\internals\\managers.py:1628\u001b[0m, in \u001b[0;36mBlockManager._interleave\u001b[1;34m(self, dtype, na_value)\u001b[0m\n\u001b[0;32m   1625\u001b[0m \u001b[38;5;28;01melif\u001b[39;00m is_dtype_equal(dtype, \u001b[38;5;28mstr\u001b[39m):\n\u001b[0;32m   1626\u001b[0m     dtype \u001b[38;5;241m=\u001b[39m np\u001b[38;5;241m.\u001b[39mdtype(\u001b[38;5;124m\"\u001b[39m\u001b[38;5;124mobject\u001b[39m\u001b[38;5;124m\"\u001b[39m)\n\u001b[1;32m-> 1628\u001b[0m result \u001b[38;5;241m=\u001b[39m \u001b[43mnp\u001b[49m\u001b[38;5;241;43m.\u001b[39;49m\u001b[43mempty\u001b[49m\u001b[43m(\u001b[49m\u001b[38;5;28;43mself\u001b[39;49m\u001b[38;5;241;43m.\u001b[39;49m\u001b[43mshape\u001b[49m\u001b[43m,\u001b[49m\u001b[43m \u001b[49m\u001b[43mdtype\u001b[49m\u001b[38;5;241;43m=\u001b[39;49m\u001b[43mdtype\u001b[49m\u001b[43m)\u001b[49m\n\u001b[0;32m   1630\u001b[0m itemmask \u001b[38;5;241m=\u001b[39m np\u001b[38;5;241m.\u001b[39mzeros(\u001b[38;5;28mself\u001b[39m\u001b[38;5;241m.\u001b[39mshape[\u001b[38;5;241m0\u001b[39m])\n\u001b[0;32m   1632\u001b[0m \u001b[38;5;28;01mif\u001b[39;00m dtype \u001b[38;5;241m==\u001b[39m np\u001b[38;5;241m.\u001b[39mdtype(\u001b[38;5;124m\"\u001b[39m\u001b[38;5;124mobject\u001b[39m\u001b[38;5;124m\"\u001b[39m) \u001b[38;5;129;01mand\u001b[39;00m na_value \u001b[38;5;129;01mis\u001b[39;00m lib\u001b[38;5;241m.\u001b[39mno_default:\n\u001b[0;32m   1633\u001b[0m     \u001b[38;5;66;03m# much more performant than using to_numpy below\u001b[39;00m\n",
      "\u001b[1;31mMemoryError\u001b[0m: Unable to allocate 1.99 GiB for an array with shape (46, 5820464) and data type float64"
     ]
    }
   ],
   "source": [
    "# Performance and test predictions\n",
    "train_pred2,val_pred2,test_pred2 = post_processing(bst,'xgboost',xgb.DMatrix(train_x.values),\n",
    "                                                   xgb.DMatrix(val_x.values),xgb.DMatrix(test.values),train_y,val_y,test)"
   ]
  },
  {
   "cell_type": "code",
   "execution_count": 63,
   "id": "6227e8f8-6cf8-418e-9d59-d4701d73cf46",
   "metadata": {},
   "outputs": [
    {
     "data": {
      "image/png": "[encoded data removed]",
      "text/plain": [
       "<Figure size 576x1152 with 1 Axes>"
      ]
     },
     "metadata": {},
     "output_type": "display_data"
    }
   ],
   "source": [
    "# Feature Importance\n",
    "import operator\n",
    "importance = sorted(bst.get_score().items(), key=operator.itemgetter(1))\n",
    "importance_v = np.asarray([x[1] for x in importance],dtype=np.int16)\n",
    "indices = np.asarray([int(x[0].replace('f','')) for x in importance],dtype=np.int8)\n",
    "title = 'xgboost Feature Importances'\n",
    "\n",
    "plt.figure(figsize=(8,16))\n",
    "plt.title(title)\n",
    "plt.barh(range(len(indices)), importance_v, color='b', align='center')\n",
    "plt.yticks(range(len(indices)), [features[i] for i in indices])\n",
    "plt.xlabel('Relative Importance')\n",
    "plt.show() "
   ]
  },
  {
   "cell_type": "markdown",
   "id": "8db93d6d-f3e8-4641-9713-a680b4bbe0f5",
   "metadata": {
    "jp-MarkdownHeadingCollapsed": true,
    "tags": []
   },
   "source": [
    "### Map Categories"
   ]
  },
  {
   "cell_type": "code",
   "execution_count": null,
   "id": "7406b53c-4602-49d7-80ad-8f9615f90142",
   "metadata": {},
   "outputs": [],
   "source": [
    "l_cat = list(item_cat.item_category_name)\n",
    "\n",
    "l_cat[0] = 'PC Headsets'\n",
    "\n",
    "for ind in range(1,8):\n",
    "    l_cat[ind] = 'Accessories'\n",
    "    \n",
    "l_cat[8] = 'Tickets'  \n",
    "l_cat[9] = 'Goods'    \n",
    "\n",
    "for ind in range(10,18):\n",
    "    l_cat[ind] = 'Game consoles'\n",
    "\n",
    "for ind in range(18,32):\n",
    "    l_cat[ind] = 'Games'\n",
    "\n",
    "for ind in range(32,37):\n",
    "    l_cat[ind] = 'Payment cards'\n",
    "\n",
    "for ind in range(37,43):\n",
    "    l_cat[ind] = 'Movie'\n",
    "\n",
    "for ind in range(43,55):\n",
    "    l_cat[ind] = 'Books'\n",
    "\n",
    "for ind in range(55,61):\n",
    "    l_cat[ind] = 'Music'\n",
    "\n",
    "for ind in range(61,73):\n",
    "    l_cat[ind] = 'Presents'\n",
    "\n",
    "for ind in range(73,79):\n",
    "    l_cat[ind] = 'Programs'\n",
    "\n",
    "l_cat[79] = 'Service'  \n",
    "l_cat[80] = 'Service'\n",
    "\n",
    "l_cat[81] = 'Clean media'  \n",
    "l_cat[82] = 'Clean media'\n",
    "\n",
    "l_cat[83] = 'Batteries' \n",
    "\n",
    "item_cat['cats'] = l_cat"
   ]
  },
  {
   "cell_type": "code",
   "execution_count": null,
   "id": "a80404a3-be0a-49e7-b28d-fba3de91daa7",
   "metadata": {},
   "outputs": [],
   "source": [
    "items = pd.merge(items, item_cat, on=['item_category_id'], how='left')\n"
   ]
  },
  {
   "cell_type": "code",
   "execution_count": null,
   "id": "694559f5-7065-49e4-ba85-6a564f454327",
   "metadata": {},
   "outputs": [],
   "source": [
    "items = items[['item_id', 'cats']]\n"
   ]
  },
  {
   "cell_type": "markdown",
   "id": "bcfc4f9d-1a80-43d0-a612-1a2f83eeec1c",
   "metadata": {
    "jp-MarkdownHeadingCollapsed": true,
    "tags": []
   },
   "source": [
    "### EDA"
   ]
  },
  {
   "cell_type": "code",
   "execution_count": null,
   "id": "7bb2d50b-b43b-4c82-b0c0-1092ef56db36",
   "metadata": {
    "tags": []
   },
   "outputs": [],
   "source": [
    "train.describe()\n"
   ]
  },
  {
   "cell_type": "code",
   "execution_count": null,
   "id": "5f09b061-83c0-4e45-a0b1-b5d9b9bfb2fb",
   "metadata": {},
   "outputs": [],
   "source": [
    "train.head()"
   ]
  },
  {
   "cell_type": "code",
   "execution_count": null,
   "id": "4dab0cca-2319-4c71-8837-78c1cd7e05ee",
   "metadata": {},
   "outputs": [],
   "source": [
    "test.describe()"
   ]
  },
  {
   "cell_type": "code",
   "execution_count": null,
   "id": "1894400c-144f-4bbf-9535-f8e5783fa898",
   "metadata": {},
   "outputs": [],
   "source": [
    "test.head()"
   ]
  },
  {
   "cell_type": "code",
   "execution_count": null,
   "id": "1e4fba83-3074-4065-8a4c-a138b1f1c65a",
   "metadata": {},
   "outputs": [],
   "source": [
    "train.shop_id.unique().shape\n",
    "test.shop_id.unique().shape\n",
    "set(test.shop_id.unique()) < set(train.shop_id.unique())\n",
    "train.item_id.unique().shape\n",
    "test.item_id.unique().shape\n",
    "set(test.item_id.unique()) < set(train.item_id.unique())\n",
    "train.item_price.hist() #bins=10\n"
   ]
  },
  {
   "cell_type": "code",
   "execution_count": null,
   "id": "3af54c33-a1dd-40d6-b1ed-aa9a03dca04b",
   "metadata": {},
   "outputs": [],
   "source": [
    "train.item_cnt_day.hist()\n"
   ]
  },
  {
   "cell_type": "code",
   "execution_count": null,
   "id": "23473caa-2c4a-49b1-af59-c7f27b454518",
   "metadata": {},
   "outputs": [],
   "source": [
    "train = train[train['item_price'] < 100000]\n",
    "train = train[train['item_cnt_day'] < 1000]"
   ]
  },
  {
   "cell_type": "code",
   "execution_count": null,
   "id": "3e5eb016-2d0f-4edf-86cf-7835a470e5d8",
   "metadata": {},
   "outputs": [],
   "source": []
  },
  {
   "cell_type": "markdown",
   "id": "b37fcde2-be94-4c94-a0f3-426f78ce38b7",
   "metadata": {
    "jp-MarkdownHeadingCollapsed": true,
    "tags": []
   },
   "source": [
    "## Data Exploration"
   ]
  },
  {
   "cell_type": "code",
   "execution_count": null,
   "id": "a43c08bb-3734-4298-b750-49e9508a81f1",
   "metadata": {},
   "outputs": [],
   "source": [
    "shops.head()\n"
   ]
  },
  {
   "cell_type": "code",
   "execution_count": null,
   "id": "051e1bcb-9ed7-4e5a-a5d1-2a6b6d97ee09",
   "metadata": {},
   "outputs": [],
   "source": [
    "items.head()\n"
   ]
  },
  {
   "cell_type": "code",
   "execution_count": null,
   "id": "aff9933c-bbed-46c4-80ee-71413926a5e7",
   "metadata": {},
   "outputs": [],
   "source": [
    "item_cat.head()\n"
   ]
  },
  {
   "cell_type": "code",
   "execution_count": null,
   "id": "3838b921-60df-44b7-aa51-10fa45d62035",
   "metadata": {},
   "outputs": [],
   "source": [
    "test.head()\n"
   ]
  },
  {
   "cell_type": "code",
   "execution_count": null,
   "id": "901ae6e8-5d68-4432-afae-12a43396d617",
   "metadata": {},
   "outputs": [],
   "source": [
    "submission.head()"
   ]
  },
  {
   "cell_type": "code",
   "execution_count": null,
   "id": "1197b766-ee54-4453-b8f3-42e23784584d",
   "metadata": {},
   "outputs": [],
   "source": [
    "train = train.loc[(train.item_price < 100000) & (train.item_cnt_day <= 1000) & (train.item_price >=0)]\n"
   ]
  },
  {
   "cell_type": "code",
   "execution_count": null,
   "id": "427983f3-1508-4625-862e-154d29aec949",
   "metadata": {},
   "outputs": [],
   "source": [
    "# Perform the aggregation according to every month.\n",
    "\n",
    "dfs = []\n",
    "for month_block in train.date_block_num.unique():\n",
    "    print('Making dataframe for: %s' %(month_block+1))\n",
    "    df = pd.DataFrame(train[train['date_block_num'] == month_block].groupby(['shop_id', 'item_id'])['item_cnt_day'].sum())\n",
    "    df.reset_index(inplace = True)\n",
    "    df['date_block_num'] = month_block\n",
    "    dfs.append(df)\n",
    "    \n",
    "df = pd.DataFrame()\n",
    "for frame in dfs:\n",
    "    df = pd.concat([df, frame], axis = 0)\n",
    "train = df.copy()"
   ]
  },
  {
   "cell_type": "code",
   "execution_count": null,
   "id": "a39e7835-0e1a-4c03-9e3b-81a59a1f2da3",
   "metadata": {},
   "outputs": [],
   "source": [
    "#check this package out for useful exploration of missing data in dataset.\n"
   ]
  },
  {
   "cell_type": "code",
   "execution_count": null,
   "id": "33470184-1b9a-44b5-ad74-b1a548dc4ef6",
   "metadata": {},
   "outputs": [],
   "source": [
    "import missingno as msno\n",
    "\n",
    "def aggregate_cols(row):\n",
    "    return str(int(row['shop_id'])) + str(int(row['item_id']))\n",
    "train['agg_id'] = train.apply(lambda row: aggregate_cols(row), axis = 1)\n",
    "test['agg_id'] = test.apply(lambda row: aggregate_cols(row), axis = 1)\n",
    "\n",
    "dic = {}\n",
    "ids = train.agg_id.unique().tolist()\n",
    "for id  in ids:\n",
    "    dic[id] = 0\n",
    "\n",
    "test['agg_id'] = test['agg_id'].map(dic)"
   ]
  },
  {
   "cell_type": "code",
   "execution_count": null,
   "id": "05cdf15a-766a-481c-bbd6-7d275ac510b9",
   "metadata": {
    "tags": []
   },
   "outputs": [],
   "source": [
    "plt.style.use('ggplot')\n",
    "msno.bar(test)"
   ]
  },
  {
   "cell_type": "markdown",
   "id": "f4f97d84-059e-493c-b0d7-e9dfae2c3381",
   "metadata": {
    "tags": []
   },
   "source": [
    "## Predictions"
   ]
  },
  {
   "cell_type": "markdown",
   "id": "432ab697-5aa5-44b6-b41e-bdc216fe16ef",
   "metadata": {
    "tags": []
   },
   "source": [
    "### Famous Shops"
   ]
  },
  {
   "cell_type": "code",
   "execution_count": null,
   "id": "b263a2da-1304-4470-9671-0a1ef19c8188",
   "metadata": {},
   "outputs": [],
   "source": [
    "train = pd.merge(train, shops, on = 'shop_id', how = 'inner')\n",
    "Z = dict(train['shop_name'].value_counts())\n",
    "fig, ax = plt.subplots(1, figsize=(15, 5))\n",
    "sns.stripplot(list(Z.keys()), list(Z.values()), ax = ax)\n",
    "plt.xticks(rotation = 90)\n",
    "plt.show()"
   ]
  },
  {
   "cell_type": "markdown",
   "id": "34b21d28-be9e-4c97-9ae1-b2ae96fe0cb9",
   "metadata": {
    "tags": []
   },
   "source": [
    "### Famous Items categories"
   ]
  },
  {
   "cell_type": "code",
   "execution_count": null,
   "id": "d96b1173-8058-476a-8f05-d4848c021c96",
   "metadata": {
    "tags": []
   },
   "outputs": [],
   "source": [
    "item_desc = pd.merge(items, item_cat, how='inner', on='item_category_id')\n",
    "train = pd.merge(train, item_desc[['item_id', 'item_category_name', 'item_category_id']], on = 'item_id', how = 'inner')\n",
    "\n",
    "Z = dict(train['item_category_name'].value_counts())\n",
    "fig, ax = plt.subplots(1, figsize=(18, 5))\n",
    "sns.stripplot(list(Z.keys()), list(Z.values()), ax = ax, edgecolor='black', size=5)\n",
    "plt.xticks(rotation = 90)\n",
    "plt.title('Item Categories set according to Frequency')\n",
    "plt.show()"
   ]
  },
  {
   "cell_type": "markdown",
   "id": "65575524-e07d-41b7-a46c-b4767cbe6572",
   "metadata": {
    "tags": []
   },
   "source": [
    "### joint plots"
   ]
  },
  {
   "cell_type": "code",
   "execution_count": null,
   "id": "9bf6382c-f12e-4c43-903d-2bb8ce48e9cd",
   "metadata": {},
   "outputs": [],
   "source": [
    "sns.jointplot('shop_id', 'item_category_id', data = train, space = 0, size = 15, ratio = 5)\n",
    "plt.yticks(range(90))\n",
    "plt.show()"
   ]
  },
  {
   "cell_type": "code",
   "execution_count": null,
   "id": "32b7de6b-c68c-44d3-8f1b-4cc6c27ac30e",
   "metadata": {},
   "outputs": [],
   "source": [
    "test = pd.merge(test, item_desc[['item_id', 'item_category_name', 'item_category_id']], on = 'item_id', how = 'inner')\n",
    "sns.jointplot('shop_id', 'item_category_id', data = test, space = 0, size = 15, ratio = 5)\n",
    "plt.yticks(range(90))\n",
    "plt.show()"
   ]
  },
  {
   "cell_type": "code",
   "execution_count": null,
   "id": "6e9d4382-b15f-4490-aeda-6adbc2f9590a",
   "metadata": {
    "tags": []
   },
   "outputs": [],
   "source": [
    "test['date_block_num'] = 34\n",
    "g = pd.concat([train[['shop_id', 'date_block_num']], test[['shop_id', 'date_block_num']]])\n",
    "sns.jointplot('date_block_num', 'shop_id', data = g, space = 0, size = 15, ratio = 5)\n",
    "plt.yticks(range(90))\n",
    "plt.show()"
   ]
  },
  {
   "cell_type": "markdown",
   "id": "0545f9b6-8e17-4d71-aaae-9471369ea83c",
   "metadata": {},
   "source": [
    "This joint plot of shops across the date block numbers give us an idea of the behavior of the shops with the timeline. I found following observations to be quite useful:\n",
    "\n",
    "The 34th month is mostly dependent [perfectly coinciding] on previous month sales information. This means that the shops that are present in november are mostly present in previous months except a few. This gives somewhat idea about validation.\n",
    "Some shops like 0, 1, 32, etc. had a very short time period with 1c company which mean either they were closed or they their agreement got over with the company.\n",
    "Some shops are quite seasonal or they have 1c company as their backup arrangements. This gives the insight that they won't be their in test data."
   ]
  },
  {
   "cell_type": "markdown",
   "id": "fa083b11-aa68-481a-8d46-f3955ac67bf4",
   "metadata": {
    "tags": []
   },
   "source": [
    "### New shelved items per month"
   ]
  },
  {
   "cell_type": "code",
   "execution_count": null,
   "id": "a84ad59b-fd52-449c-bd3d-95882c65a5a7",
   "metadata": {},
   "outputs": [],
   "source": [
    "df = train[train.date_block_num >= 12]\n",
    "months = np.sort(df.date_block_num.unique())\n",
    "new_items_introduced = [0] * 12\n",
    "for i in range(12, len(months)):\n",
    "    new_items_introduced[i%12] += len(np.setdiff1d(df[df.date_block_num == months[i]]['item_id'].unique(), df[df.date_block_num < months[i]]['item_id'].unique()))\n",
    "\n",
    "names = ['Jan', 'Feb', 'March', 'April', 'May', 'June', 'July', 'Aug', 'Sep', 'Oct', 'Nov', 'Dec']       \n",
    "plt.figure(figsize = (15, 5))\n",
    "plt.bar(np.arange(1,13), new_items_introduced)\n",
    "plt.title('Items introduced over months')\n",
    "plt.xticks(np.arange(1,13))\n",
    "plt.show()\n",
    "\n",
    "\n",
    "my_circle=plt.Circle( (0,0), 0.5, color='white')\n",
    "plt.pie(new_items_introduced, labels=names)\n",
    "p=plt.gcf()\n",
    "p.gca().add_artist(my_circle)\n",
    "plt.show()"
   ]
  },
  {
   "cell_type": "markdown",
   "id": "4b7f9dbd-84db-44e5-bac1-66226e7ba74a",
   "metadata": {
    "tags": []
   },
   "source": [
    "### Items sold out"
   ]
  },
  {
   "cell_type": "code",
   "execution_count": null,
   "id": "c007cce5-f450-49d8-b2de-f5bf522a6d64",
   "metadata": {
    "tags": []
   },
   "outputs": [],
   "source": [
    "fig, ax = plt.subplots(ncols=1, sharey=True, figsize = (20,10))\n",
    "hb1 = ax.hexbin(train.shop_id, train.item_id, cmap = 'inferno')\n",
    "plt.title('Hexagonal Binning for the items present in the shops')\n",
    "plt.xticks(np.arange(0,60))\n",
    "plt.xlabel('Shop Id')\n",
    "plt.ylabel('Item Id')\n",
    "plt.show()"
   ]
  },
  {
   "cell_type": "markdown",
   "id": "dbd35515-a783-4beb-b4e7-33b13ddc2791",
   "metadata": {},
   "source": [
    "From the visualization a couple of things are quite clearer:\n",
    "\n",
    "Shops from 25 to 28, 31 and 54 are locate in main markets somewhere and are quite a large scale shops and thus, have almost all the items present in quite a large amount\n",
    "Some shops like 0, 1, 8, 9 etc. have almost next to nothing which indicates that either these shops were open for some time and get closed afterwards or they are very small scale shops.\n",
    "Shops like 2,3,4,10,12,etc. have limited item ids which indicates they are quite specific in what they are selling at a time [May be a cd store or game store or gift shop]."
   ]
  },
  {
   "cell_type": "markdown",
   "id": "59ef6bab-da10-4a88-9997-95c19d3251d7",
   "metadata": {
    "jp-MarkdownHeadingCollapsed": true,
    "tags": []
   },
   "source": [
    "## Deciding Lag Features"
   ]
  },
  {
   "cell_type": "code",
   "execution_count": null,
   "id": "b15b666b-effb-4b4a-b9b9-1140801bcbc7",
   "metadata": {},
   "outputs": [],
   "source": [
    "Z = train.groupby('date_block_num').agg({'item_cnt_day': sum}).reset_index()\n",
    "fig, ax = plt.subplots(ncols=1, sharey=True, figsize = (20,10))\n",
    "sns.barplot(data=Z, x='date_block_num', y='item_cnt_day', ax = ax, palette=\"BrBG\")\n",
    "plt.title('Overall Item counts over the course of 3 years')\n",
    "plt.show()"
   ]
  },
  {
   "cell_type": "markdown",
   "id": "ab1ab95e-6264-47d6-a56d-f8fb0a8a6ce6",
   "metadata": {},
   "source": [
    "The general trend suggests that, the item counts are decreasing over the time till a certain time (roughly around May or June). The graph also suggests that there is a seasonality of around 12 months which means that the trend tends to repetitive over the time. Thus, we can take the lag features of roughly around 5 to 6 time periods along with 12 for seasonality purposes."
   ]
  },
  {
   "cell_type": "code",
   "execution_count": 78,
   "id": "739ea577-dfae-4040-b036-61c6f697ab34",
   "metadata": {},
   "outputs": [
    {
     "ename": "ModuleNotFoundError",
     "evalue": "No module named 'mlxtend'",
     "output_type": "error",
     "traceback": [
      "\u001b[1;31m---------------------------------------------------------------------------\u001b[0m",
      "\u001b[1;31mModuleNotFoundError\u001b[0m                       Traceback (most recent call last)",
      "Input \u001b[1;32mIn [78]\u001b[0m, in \u001b[0;36m<cell line: 4>\u001b[1;34m()\u001b[0m\n\u001b[0;32m      2\u001b[0m \u001b[38;5;28;01mfrom\u001b[39;00m \u001b[38;5;21;01msklearn\u001b[39;00m\u001b[38;5;21;01m.\u001b[39;00m\u001b[38;5;21;01mmodel_selection\u001b[39;00m \u001b[38;5;28;01mimport\u001b[39;00m train_test_split\n\u001b[0;32m      3\u001b[0m \u001b[38;5;28;01mfrom\u001b[39;00m \u001b[38;5;21;01msklearn\u001b[39;00m\u001b[38;5;21;01m.\u001b[39;00m\u001b[38;5;21;01mmetrics\u001b[39;00m \u001b[38;5;28;01mimport\u001b[39;00m accuracy_score \u001b[38;5;28;01mas\u001b[39;00m acc\n\u001b[1;32m----> 4\u001b[0m \u001b[38;5;28;01mfrom\u001b[39;00m \u001b[38;5;21;01mmlxtend\u001b[39;00m\u001b[38;5;21;01m.\u001b[39;00m\u001b[38;5;21;01mfeature_selection\u001b[39;00m \u001b[38;5;28;01mimport\u001b[39;00m SequentialFeatureSelector \u001b[38;5;28;01mas\u001b[39;00m sfs\n",
      "\u001b[1;31mModuleNotFoundError\u001b[0m: No module named 'mlxtend'"
     ]
    }
   ],
   "source": [
    "from sklearn.ensemble import RandomForestClassifier\n",
    "from sklearn.model_selection import train_test_split\n",
    "from sklearn.metrics import accuracy_score as acc\n",
    "from mlxtend.feature_selection import SequentialFeatureSelector as sfs"
   ]
  },
  {
   "cell_type": "code",
   "execution_count": 77,
   "id": "438a3a31-a4e9-454f-aa5c-53b2e47e708b",
   "metadata": {},
   "outputs": [
    {
     "ename": "NameError",
     "evalue": "name 'RandomForestClassifier' is not defined",
     "output_type": "error",
     "traceback": [
      "\u001b[1;31m---------------------------------------------------------------------------\u001b[0m",
      "\u001b[1;31mNameError\u001b[0m                                 Traceback (most recent call last)",
      "Input \u001b[1;32mIn [77]\u001b[0m, in \u001b[0;36m<cell line: 2>\u001b[1;34m()\u001b[0m\n\u001b[0;32m      1\u001b[0m \u001b[38;5;66;03m# Build RF classifier to use in feature selection\u001b[39;00m\n\u001b[1;32m----> 2\u001b[0m clf \u001b[38;5;241m=\u001b[39m \u001b[43mRandomForestClassifier\u001b[49m(n_estimators\u001b[38;5;241m=\u001b[39m\u001b[38;5;241m100\u001b[39m, n_jobs\u001b[38;5;241m=\u001b[39m\u001b[38;5;241m-\u001b[39m\u001b[38;5;241m1\u001b[39m)\n\u001b[0;32m      4\u001b[0m \u001b[38;5;66;03m# Build step forward feature selection\u001b[39;00m\n\u001b[0;32m      5\u001b[0m sfs1 \u001b[38;5;241m=\u001b[39m sfs(clf,\n\u001b[0;32m      6\u001b[0m            k_features\u001b[38;5;241m=\u001b[39m\u001b[38;5;241m5\u001b[39m,\n\u001b[0;32m      7\u001b[0m            forward\u001b[38;5;241m=\u001b[39m\u001b[38;5;28;01mTrue\u001b[39;00m,\n\u001b[1;32m   (...)\u001b[0m\n\u001b[0;32m     10\u001b[0m            scoring\u001b[38;5;241m=\u001b[39m\u001b[38;5;124m'\u001b[39m\u001b[38;5;124maccuracy\u001b[39m\u001b[38;5;124m'\u001b[39m,\n\u001b[0;32m     11\u001b[0m            cv\u001b[38;5;241m=\u001b[39m\u001b[38;5;241m5\u001b[39m)\n",
      "\u001b[1;31mNameError\u001b[0m: name 'RandomForestClassifier' is not defined"
     ]
    }
   ],
   "source": [
    "# Build RF classifier to use in feature selection\n",
    "clf = RandomForestClassifier(n_estimators=100, n_jobs=-1)\n",
    "\n",
    "# Build step forward feature selection\n",
    "sfs1 = sfs(clf,\n",
    "           k_features=5,\n",
    "           forward=True,\n",
    "           floating=False,\n",
    "           verbose=2,\n",
    "           scoring='accuracy',\n",
    "           cv=5)\n",
    "\n",
    "# Perform SFFS\n",
    "sfs1 = sfs1.fit(train_x, train_y)"
   ]
  },
  {
   "cell_type": "code",
   "execution_count": null,
   "id": "572ffb4b-02da-4156-a078-2cec216abdb1",
   "metadata": {},
   "outputs": [],
   "source": []
  }
 ],
 "metadata": {
  "kernelspec": {
   "display_name": "Python 3 (ipykernel)",
   "language": "python",
   "name": "python3"
  },
  "language_info": {
   "codemirror_mode": {
    "name": "ipython",
    "version": 3
   },
   "file_extension": ".py",
   "mimetype": "text/x-python",
   "name": "python",
   "nbconvert_exporter": "python",
   "pygments_lexer": "ipython3",
   "version": "3.9.12"
  }
 },
 "nbformat": 4,
 "nbformat_minor": 5
}
